{
 "cells": [
  {
   "cell_type": "markdown",
   "metadata": {},
   "source": [
    "# Защита персональных данных клиентов"
   ]
  },
  {
   "cell_type": "markdown",
   "metadata": {},
   "source": [
    "Нам нужно защитить данные клиентов страховой компании «Хоть потоп». Разработаем такой метод преобразования данных, чтобы по ним было сложно восстановить персональную информацию. Обоснуем корректность его работы.\n",
    "\n",
    "Нужно защитить данные, чтобы при преобразовании качество моделей машинного обучения не ухудшилось. Подбирать наилучшую модель не требуется."
   ]
  },
  {
   "cell_type": "markdown",
   "metadata": {},
   "source": [
    "## Загрузка данных"
   ]
  },
  {
   "cell_type": "code",
   "execution_count": 1,
   "metadata": {},
   "outputs": [],
   "source": [
    "import pandas as pd\n",
    "from sklearn.model_selection import train_test_split\n",
    "import numpy as np\n",
    "from sklearn.metrics import r2_score\n",
    "from numpy.linalg import inv\n",
    "from scipy import linalg"
   ]
  },
  {
   "cell_type": "code",
   "execution_count": 2,
   "metadata": {},
   "outputs": [
    {
     "name": "stdout",
     "output_type": "stream",
     "text": [
      "<class 'pandas.core.frame.DataFrame'>\n",
      "RangeIndex: 5000 entries, 0 to 4999\n",
      "Data columns (total 5 columns):\n",
      " #   Column             Non-Null Count  Dtype  \n",
      "---  ------             --------------  -----  \n",
      " 0   Пол                5000 non-null   int64  \n",
      " 1   Возраст            5000 non-null   float64\n",
      " 2   Зарплата           5000 non-null   float64\n",
      " 3   Члены семьи        5000 non-null   int64  \n",
      " 4   Страховые выплаты  5000 non-null   int64  \n",
      "dtypes: float64(2), int64(3)\n",
      "memory usage: 195.4 KB\n"
     ]
    },
    {
     "data": {
      "text/html": [
       "<div>\n",
       "<style scoped>\n",
       "    .dataframe tbody tr th:only-of-type {\n",
       "        vertical-align: middle;\n",
       "    }\n",
       "\n",
       "    .dataframe tbody tr th {\n",
       "        vertical-align: top;\n",
       "    }\n",
       "\n",
       "    .dataframe thead th {\n",
       "        text-align: right;\n",
       "    }\n",
       "</style>\n",
       "<table border=\"1\" class=\"dataframe\">\n",
       "  <thead>\n",
       "    <tr style=\"text-align: right;\">\n",
       "      <th></th>\n",
       "      <th>Пол</th>\n",
       "      <th>Возраст</th>\n",
       "      <th>Зарплата</th>\n",
       "      <th>Члены семьи</th>\n",
       "      <th>Страховые выплаты</th>\n",
       "    </tr>\n",
       "  </thead>\n",
       "  <tbody>\n",
       "    <tr>\n",
       "      <th>0</th>\n",
       "      <td>1</td>\n",
       "      <td>41.0</td>\n",
       "      <td>49600.0</td>\n",
       "      <td>1</td>\n",
       "      <td>0</td>\n",
       "    </tr>\n",
       "    <tr>\n",
       "      <th>1</th>\n",
       "      <td>0</td>\n",
       "      <td>46.0</td>\n",
       "      <td>38000.0</td>\n",
       "      <td>1</td>\n",
       "      <td>1</td>\n",
       "    </tr>\n",
       "    <tr>\n",
       "      <th>2</th>\n",
       "      <td>0</td>\n",
       "      <td>29.0</td>\n",
       "      <td>21000.0</td>\n",
       "      <td>0</td>\n",
       "      <td>0</td>\n",
       "    </tr>\n",
       "    <tr>\n",
       "      <th>3</th>\n",
       "      <td>0</td>\n",
       "      <td>21.0</td>\n",
       "      <td>41700.0</td>\n",
       "      <td>2</td>\n",
       "      <td>0</td>\n",
       "    </tr>\n",
       "    <tr>\n",
       "      <th>4</th>\n",
       "      <td>1</td>\n",
       "      <td>28.0</td>\n",
       "      <td>26100.0</td>\n",
       "      <td>0</td>\n",
       "      <td>0</td>\n",
       "    </tr>\n",
       "  </tbody>\n",
       "</table>\n",
       "</div>"
      ],
      "text/plain": [
       "   Пол  Возраст  Зарплата  Члены семьи  Страховые выплаты\n",
       "0    1     41.0   49600.0            1                  0\n",
       "1    0     46.0   38000.0            1                  1\n",
       "2    0     29.0   21000.0            0                  0\n",
       "3    0     21.0   41700.0            2                  0\n",
       "4    1     28.0   26100.0            0                  0"
      ]
     },
     "execution_count": 2,
     "metadata": {},
     "output_type": "execute_result"
    }
   ],
   "source": [
    "df = pd.read_csv('insurance.csv')\n",
    "df.info()\n",
    "df.head(5)"
   ]
  },
  {
   "cell_type": "code",
   "execution_count": 3,
   "metadata": {},
   "outputs": [
    {
     "data": {
      "text/html": [
       "<div>\n",
       "<style scoped>\n",
       "    .dataframe tbody tr th:only-of-type {\n",
       "        vertical-align: middle;\n",
       "    }\n",
       "\n",
       "    .dataframe tbody tr th {\n",
       "        vertical-align: top;\n",
       "    }\n",
       "\n",
       "    .dataframe thead th {\n",
       "        text-align: right;\n",
       "    }\n",
       "</style>\n",
       "<table border=\"1\" class=\"dataframe\">\n",
       "  <thead>\n",
       "    <tr style=\"text-align: right;\">\n",
       "      <th></th>\n",
       "      <th>Пол</th>\n",
       "      <th>Возраст</th>\n",
       "      <th>Зарплата</th>\n",
       "      <th>Члены семьи</th>\n",
       "      <th>Страховые выплаты</th>\n",
       "    </tr>\n",
       "  </thead>\n",
       "  <tbody>\n",
       "    <tr>\n",
       "      <th>count</th>\n",
       "      <td>5000.000000</td>\n",
       "      <td>5000.000000</td>\n",
       "      <td>5000.000000</td>\n",
       "      <td>5000.000000</td>\n",
       "      <td>5000.000000</td>\n",
       "    </tr>\n",
       "    <tr>\n",
       "      <th>mean</th>\n",
       "      <td>0.499000</td>\n",
       "      <td>30.952800</td>\n",
       "      <td>39916.360000</td>\n",
       "      <td>1.194200</td>\n",
       "      <td>0.148000</td>\n",
       "    </tr>\n",
       "    <tr>\n",
       "      <th>std</th>\n",
       "      <td>0.500049</td>\n",
       "      <td>8.440807</td>\n",
       "      <td>9900.083569</td>\n",
       "      <td>1.091387</td>\n",
       "      <td>0.463183</td>\n",
       "    </tr>\n",
       "    <tr>\n",
       "      <th>min</th>\n",
       "      <td>0.000000</td>\n",
       "      <td>18.000000</td>\n",
       "      <td>5300.000000</td>\n",
       "      <td>0.000000</td>\n",
       "      <td>0.000000</td>\n",
       "    </tr>\n",
       "    <tr>\n",
       "      <th>25%</th>\n",
       "      <td>0.000000</td>\n",
       "      <td>24.000000</td>\n",
       "      <td>33300.000000</td>\n",
       "      <td>0.000000</td>\n",
       "      <td>0.000000</td>\n",
       "    </tr>\n",
       "    <tr>\n",
       "      <th>50%</th>\n",
       "      <td>0.000000</td>\n",
       "      <td>30.000000</td>\n",
       "      <td>40200.000000</td>\n",
       "      <td>1.000000</td>\n",
       "      <td>0.000000</td>\n",
       "    </tr>\n",
       "    <tr>\n",
       "      <th>75%</th>\n",
       "      <td>1.000000</td>\n",
       "      <td>37.000000</td>\n",
       "      <td>46600.000000</td>\n",
       "      <td>2.000000</td>\n",
       "      <td>0.000000</td>\n",
       "    </tr>\n",
       "    <tr>\n",
       "      <th>max</th>\n",
       "      <td>1.000000</td>\n",
       "      <td>65.000000</td>\n",
       "      <td>79000.000000</td>\n",
       "      <td>6.000000</td>\n",
       "      <td>5.000000</td>\n",
       "    </tr>\n",
       "  </tbody>\n",
       "</table>\n",
       "</div>"
      ],
      "text/plain": [
       "               Пол      Возраст      Зарплата  Члены семьи  Страховые выплаты\n",
       "count  5000.000000  5000.000000   5000.000000  5000.000000        5000.000000\n",
       "mean      0.499000    30.952800  39916.360000     1.194200           0.148000\n",
       "std       0.500049     8.440807   9900.083569     1.091387           0.463183\n",
       "min       0.000000    18.000000   5300.000000     0.000000           0.000000\n",
       "25%       0.000000    24.000000  33300.000000     0.000000           0.000000\n",
       "50%       0.000000    30.000000  40200.000000     1.000000           0.000000\n",
       "75%       1.000000    37.000000  46600.000000     2.000000           0.000000\n",
       "max       1.000000    65.000000  79000.000000     6.000000           5.000000"
      ]
     },
     "execution_count": 3,
     "metadata": {},
     "output_type": "execute_result"
    }
   ],
   "source": [
    "df.describe()"
   ]
  },
  {
   "cell_type": "code",
   "execution_count": 4,
   "metadata": {
    "scrolled": true
   },
   "outputs": [
    {
     "data": {
      "text/plain": [
       "153"
      ]
     },
     "execution_count": 4,
     "metadata": {},
     "output_type": "execute_result"
    }
   ],
   "source": [
    "df.duplicated().sum()"
   ]
  },
  {
   "cell_type": "markdown",
   "metadata": {},
   "source": [
    "Мы видим 153 дубликата, но я бы не стал удалять их. На мой взгляд существует вероятность повторения данных, так как тут нет таких характерных признаков как уникальный ID или что то подобное указывающее на уникальность. Люди могут быть одного пола и возраста "
   ]
  },
  {
   "cell_type": "markdown",
   "metadata": {},
   "source": [
    "Признаки: пол, возраст и зарплата застрахованного, количество членов его семьи.\n",
    "\n",
    "Целевой признак: количество страховых выплат клиенту за последние 5 лет.\n",
    "\n",
    "Пропусков и проблм нет, можно приступать к работе, предобработка не нужна"
   ]
  },
  {
   "cell_type": "markdown",
   "metadata": {},
   "source": [
    "## Умножение матриц"
   ]
  },
  {
   "cell_type": "markdown",
   "metadata": {},
   "source": [
    "Обозначения:\n",
    "\n",
    "- $X$ — матрица признаков (нулевой столбец состоит из единиц)\n",
    "\n",
    "- $y$ — вектор целевого признака\n",
    "\n",
    "- $P$ — матрица, на которую умножаются признаки\n",
    "\n",
    "- $w$ — вектор весов линейной регрессии (нулевой элемент равен сдвигу)"
   ]
  },
  {
   "cell_type": "markdown",
   "metadata": {},
   "source": [
    "Предсказания:\n",
    "\n",
    "$$\n",
    "a = Xw\n",
    "$$\n",
    "\n",
    "Задача обучения:\n",
    "\n",
    "$$\n",
    "w = \\arg\\min_w MSE(Xw, y)\n",
    "$$\n",
    "\n",
    "Формула обучения:\n",
    "\n",
    "$$\n",
    "w = (X^T X)^{-1} X^T y\n",
    "$$"
   ]
  },
  {
   "cell_type": "markdown",
   "metadata": {},
   "source": [
    "$$a' = XP ((XP)^T (XP))^{-1} (XP)^T y $$\n",
    "$$a' = XP (P^T X^T (XP))^{-1} P^T X^T y $$\n",
    "$$a' = XP P^{-1} (X^T X)^{-1} P^{-T} P^T X^T y $$\n",
    "Где $P P^{-1}$ и $P^{-T} P^T$ это Е и Е соотвественно. Т.е. единичные матрицы\n",
    "$$a' = X (X^T X)^{-1} X^T y $$\n",
    "$$a' = Xw$$\n",
    "$$a' = a$$"
   ]
  },
  {
   "cell_type": "markdown",
   "metadata": {},
   "source": [
    "## Алгоритм преобразования\n",
    "\n",
    "Предложим алгоритм преобразования данных для решения задачи. Обоснуем, почему качество линейной регрессии не поменяется."
   ]
  },
  {
   "cell_type": "markdown",
   "metadata": {},
   "source": [
    "**Алгоритм**\n",
    "\n",
    "1. Сгенерировать сучайную матрицу размером 4 на 4\n",
    "2. Проверить сгенерированную матрицу на обратимость\n",
    "3. Умножим сгенерированную матрицу на матрицу признаков\n",
    "4. Построим линейную модель для зашифрованной модели и исходной\n",
    "5. Получим R2 для зашифрованной матрицы и сравним с R2 с исходными признаками"
   ]
  },
  {
   "cell_type": "markdown",
   "metadata": {},
   "source": [
    "**Обоснование**\n",
    "\n",
    "Как мы доказали выше для формулы линейной регрессии не должно быть разницы и $a = a'$, то есть умножение признаков на произвольную матрицу не должно повлиять на предсказание модели"
   ]
  },
  {
   "cell_type": "markdown",
   "metadata": {},
   "source": [
    "## Проверка алгоритма\n",
    "\n",
    "Проверим базовый вариант с данными признаками"
   ]
  },
  {
   "cell_type": "code",
   "execution_count": 5,
   "metadata": {},
   "outputs": [
    {
     "data": {
      "text/plain": [
       "(5000, 4)"
      ]
     },
     "execution_count": 5,
     "metadata": {},
     "output_type": "execute_result"
    }
   ],
   "source": [
    "target = df['Страховые выплаты']\n",
    "features = df.drop(['Страховые выплаты'], axis=1)\n",
    "features.shape # отметим для себя размер признаков, нам нужно сохранить его в новой матрице"
   ]
  },
  {
   "cell_type": "code",
   "execution_count": 6,
   "metadata": {},
   "outputs": [],
   "source": [
    "class LinearRegression:\n",
    "    def fit(self, features_train, target_train):\n",
    "        X = np.concatenate((np.ones((features_train.shape[0], 1)), features_train), axis=1)\n",
    "        y = target_train\n",
    "        w = (np.linalg.inv(X.T.dot(X)).dot(X.T).dot(y))\n",
    "        self.w = w[1:]\n",
    "        self.w0 = w[0]\n",
    "        \n",
    "    def predict(self, features_valid):\n",
    "        return features_valid.dot(self.w) + self.w0"
   ]
  },
  {
   "cell_type": "code",
   "execution_count": 7,
   "metadata": {},
   "outputs": [
    {
     "name": "stdout",
     "output_type": "stream",
     "text": [
      "0.42494550286668\n"
     ]
    }
   ],
   "source": [
    "model = LinearRegression()\n",
    "model.fit(features, target)\n",
    "predictions = model.predict(features)\n",
    "print(r2_score(target, predictions))"
   ]
  },
  {
   "cell_type": "markdown",
   "metadata": {},
   "source": [
    "Теперь проверим что результат такой же на модели с измененными данными. "
   ]
  },
  {
   "cell_type": "code",
   "execution_count": 8,
   "metadata": {},
   "outputs": [],
   "source": [
    "random_matrix = np.random.random((4, 4))       # создадим рандомную матрицу "
   ]
  },
  {
   "cell_type": "code",
   "execution_count": 9,
   "metadata": {},
   "outputs": [
    {
     "data": {
      "text/plain": [
       "array([[0.70223836, 0.0577871 , 0.34943946, 0.39418858],\n",
       "       [0.26937329, 0.83731566, 0.83971857, 0.81464382],\n",
       "       [0.40068101, 0.8765223 , 0.13456976, 0.53256218],\n",
       "       [0.10222768, 0.87803078, 0.31707162, 0.70622249]])"
      ]
     },
     "execution_count": 9,
     "metadata": {},
     "output_type": "execute_result"
    }
   ],
   "source": [
    "random_matrix"
   ]
  },
  {
   "cell_type": "code",
   "execution_count": 10,
   "metadata": {},
   "outputs": [
    {
     "data": {
      "text/plain": [
       "array([[ 0.74698583,  0.07368569,  1.56648612, -1.68322611],\n",
       "       [-1.5178382 ,  1.10560867,  2.508816  , -2.3200384 ],\n",
       "       [-0.800753  ,  2.49570829,  0.42847367, -2.75501636],\n",
       "       [ 2.13847917, -2.50573927, -3.53827977,  5.78100384]])"
      ]
     },
     "execution_count": 10,
     "metadata": {},
     "output_type": "execute_result"
    }
   ],
   "source": [
    "random_matrix_inv = np.linalg.inv(random_matrix)\n",
    "random_matrix_inv"
   ]
  },
  {
   "cell_type": "code",
   "execution_count": 11,
   "metadata": {},
   "outputs": [
    {
     "data": {
      "text/plain": [
       "True"
      ]
     },
     "execution_count": 11,
     "metadata": {},
     "output_type": "execute_result"
    }
   ],
   "source": [
    "np.allclose(np.dot(random_matrix, random_matrix_inv), np.eye(4))"
   ]
  },
  {
   "cell_type": "code",
   "execution_count": 12,
   "metadata": {
    "scrolled": true
   },
   "outputs": [
    {
     "data": {
      "text/plain": [
       "True"
      ]
     },
     "execution_count": 12,
     "metadata": {},
     "output_type": "execute_result"
    }
   ],
   "source": [
    "np.allclose(np.dot(random_matrix_inv,random_matrix), np.eye(4))"
   ]
  },
  {
   "cell_type": "markdown",
   "metadata": {},
   "source": [
    "Проверка показывает что матрица обратима"
   ]
  },
  {
   "cell_type": "code",
   "execution_count": 13,
   "metadata": {},
   "outputs": [
    {
     "data": {
      "text/plain": [
       "(5000, 4)"
      ]
     },
     "execution_count": 13,
     "metadata": {},
     "output_type": "execute_result"
    }
   ],
   "source": [
    "matrix = features.values                       # приведем признаки к матричному виду\n",
    "features_train_new = matrix.dot(random_matrix) # получим новую матрицу путем перемножения матрицы признаков и рандомной матрицы\n",
    "features_train_new.shape                       # проверим чтобы размерность матрицы осталась как в матрице признаков"
   ]
  },
  {
   "cell_type": "code",
   "execution_count": 14,
   "metadata": {},
   "outputs": [],
   "source": [
    "features_new = pd.DataFrame(features_train_new, columns=features.columns)  # создадим DataFrame из новой матрицы признаков"
   ]
  },
  {
   "cell_type": "code",
   "execution_count": 15,
   "metadata": {},
   "outputs": [
    {
     "name": "stdout",
     "output_type": "stream",
     "text": [
      "0.42494550285976673\n"
     ]
    }
   ],
   "source": [
    "model = LinearRegression()\n",
    "model.fit(features_new, target)                # подставим новые признаки\n",
    "predictions = model.predict(features_new)      # подставим новые признаки\n",
    "print(r2_score(target, predictions))"
   ]
  },
  {
   "cell_type": "markdown",
   "metadata": {},
   "source": [
    "Мы видим что изменение матрицы Х в алгоритме обучения линейной регрессии никак не влияет на результат оценки R2. Результат оценки сохранился."
   ]
  },
  {
   "cell_type": "markdown",
   "metadata": {},
   "source": [
    "## Вывод:\n",
    "\n",
    "Нам нужно защитить данные клиентов страховой компании «Хоть потоп». Разработаем такой метод преобразования данных, чтобы по ним было сложно восстановить персональную информацию. Обоснуем корректность его работы.\n",
    "\n",
    "Нужно защитить данные, чтобы при преобразовании качество моделей машинного обучения не ухудшилось. Подбирать наилучшую модель не требуется.\n",
    "\n",
    "Сначала мы загрузили данные и задались вопросом: если признаки умножают на обратимую матрицу. Изменится ли качество линейной регрессии? По определению работы степеней в матрицах мы пришли к выводу что в формуле линейной регрессии умножение матрицы признаков на случайную матрицу не ухудшит ее работу. \n",
    "\n",
    "Мы доказали что $a = a'$, где а - предсказания модели\n",
    "\n",
    "Параметры линейной регрессии в исходной задаче и в преобразованной связаны по формуле $w' = wP^{-1}$ .\n",
    "\n",
    "Мы составили алгоритм проверки нашей теории. Чтобы защитить персональные данные умножим матрицу с признаками клиентов на произвольную обратимую матрицу размера 4 на 4, так как количество колонок features составляет 4. В обучении и предсказании подставим вместо features новую полученную переменную. Она будет наш аналог $(XP)$\n",
    "Затем сравним предсказания алгоритма с features и с новой переменной.\n",
    "\n",
    "Затем мы сравнили полученный результат R2 метрики модели линейной регрессии для изначальной модели и измененной и получили такой же результат для R2 метрики.\n",
    "\n",
    "Как следстиве мы получили зашифрованные данные и при этом качество модели не ухудшилось. "
   ]
  }
 ],
 "metadata": {
  "ExecuteTimeLog": [
   {
    "duration": 483,
    "start_time": "2023-05-24T19:01:20.665Z"
   },
   {
    "duration": 66,
    "start_time": "2023-05-24T19:01:50.596Z"
   },
   {
    "duration": 103,
    "start_time": "2023-05-24T19:01:57.907Z"
   },
   {
    "duration": 35,
    "start_time": "2023-05-24T19:02:10.694Z"
   },
   {
    "duration": 40,
    "start_time": "2023-05-24T19:03:03.482Z"
   },
   {
    "duration": 39,
    "start_time": "2023-05-24T19:03:11.590Z"
   },
   {
    "duration": 7,
    "start_time": "2023-05-24T21:22:29.062Z"
   },
   {
    "duration": 747,
    "start_time": "2023-05-24T21:23:01.193Z"
   },
   {
    "duration": 43,
    "start_time": "2023-05-24T21:23:06.408Z"
   },
   {
    "duration": 8,
    "start_time": "2023-05-24T21:24:26.203Z"
   },
   {
    "duration": 13,
    "start_time": "2023-05-24T21:25:25.879Z"
   },
   {
    "duration": 7,
    "start_time": "2023-05-24T21:25:31.344Z"
   },
   {
    "duration": 9,
    "start_time": "2023-05-24T21:31:56.454Z"
   },
   {
    "duration": 5,
    "start_time": "2023-05-24T21:45:53.477Z"
   },
   {
    "duration": 3,
    "start_time": "2023-05-24T21:49:17.899Z"
   },
   {
    "duration": 1041,
    "start_time": "2023-05-24T21:49:25.290Z"
   },
   {
    "duration": 51,
    "start_time": "2023-05-24T21:49:26.333Z"
   },
   {
    "duration": 9,
    "start_time": "2023-05-24T21:49:26.385Z"
   },
   {
    "duration": 9,
    "start_time": "2023-05-24T21:49:26.396Z"
   },
   {
    "duration": 3,
    "start_time": "2023-05-24T21:50:51.686Z"
   },
   {
    "duration": 88,
    "start_time": "2023-05-24T21:51:48.667Z"
   },
   {
    "duration": 12,
    "start_time": "2023-05-24T21:52:14.583Z"
   },
   {
    "duration": 993,
    "start_time": "2023-05-24T21:53:24.909Z"
   },
   {
    "duration": 47,
    "start_time": "2023-05-24T21:53:25.904Z"
   },
   {
    "duration": 8,
    "start_time": "2023-05-24T21:53:25.955Z"
   },
   {
    "duration": 6,
    "start_time": "2023-05-24T21:53:25.965Z"
   },
   {
    "duration": 106,
    "start_time": "2023-05-24T21:53:25.973Z"
   },
   {
    "duration": 1059,
    "start_time": "2023-05-24T21:54:20.757Z"
   },
   {
    "duration": 50,
    "start_time": "2023-05-24T21:54:21.818Z"
   },
   {
    "duration": 8,
    "start_time": "2023-05-24T21:54:21.869Z"
   },
   {
    "duration": 8,
    "start_time": "2023-05-24T21:54:21.878Z"
   },
   {
    "duration": 98,
    "start_time": "2023-05-24T21:54:21.888Z"
   },
   {
    "duration": 4,
    "start_time": "2023-05-24T21:54:55.205Z"
   },
   {
    "duration": 12,
    "start_time": "2023-05-24T21:54:57.774Z"
   },
   {
    "duration": 4,
    "start_time": "2023-05-24T21:56:37.563Z"
   },
   {
    "duration": 1014,
    "start_time": "2023-05-24T21:56:51.221Z"
   },
   {
    "duration": 48,
    "start_time": "2023-05-24T21:56:52.238Z"
   },
   {
    "duration": 7,
    "start_time": "2023-05-24T21:56:52.290Z"
   },
   {
    "duration": 4,
    "start_time": "2023-05-24T21:56:52.299Z"
   },
   {
    "duration": 15,
    "start_time": "2023-05-24T21:56:52.304Z"
   },
   {
    "duration": 4,
    "start_time": "2023-05-24T21:58:25.649Z"
   },
   {
    "duration": 107,
    "start_time": "2023-05-24T21:58:28.187Z"
   },
   {
    "duration": 4,
    "start_time": "2023-05-24T21:58:49.258Z"
   },
   {
    "duration": 285,
    "start_time": "2023-05-24T21:58:51.974Z"
   },
   {
    "duration": 1172,
    "start_time": "2023-05-24T21:59:05.370Z"
   },
   {
    "duration": 55,
    "start_time": "2023-05-24T21:59:06.544Z"
   },
   {
    "duration": 9,
    "start_time": "2023-05-24T21:59:06.602Z"
   },
   {
    "duration": 4,
    "start_time": "2023-05-24T21:59:06.613Z"
   },
   {
    "duration": 245,
    "start_time": "2023-05-24T21:59:06.619Z"
   },
   {
    "duration": 1078,
    "start_time": "2023-05-24T22:02:09.073Z"
   },
   {
    "duration": 49,
    "start_time": "2023-05-24T22:02:10.153Z"
   },
   {
    "duration": 7,
    "start_time": "2023-05-24T22:02:10.203Z"
   },
   {
    "duration": 11,
    "start_time": "2023-05-24T22:02:10.212Z"
   },
   {
    "duration": 237,
    "start_time": "2023-05-24T22:02:10.225Z"
   },
   {
    "duration": 4,
    "start_time": "2023-05-24T22:05:18.976Z"
   },
   {
    "duration": 1035,
    "start_time": "2023-05-24T22:07:27.779Z"
   },
   {
    "duration": 49,
    "start_time": "2023-05-24T22:07:28.816Z"
   },
   {
    "duration": 7,
    "start_time": "2023-05-24T22:07:28.867Z"
   },
   {
    "duration": 5,
    "start_time": "2023-05-24T22:07:28.876Z"
   },
   {
    "duration": 279,
    "start_time": "2023-05-24T22:07:28.883Z"
   },
   {
    "duration": 103,
    "start_time": "2023-05-24T22:07:29.163Z"
   },
   {
    "duration": 4,
    "start_time": "2023-05-24T22:11:28.752Z"
   },
   {
    "duration": 88,
    "start_time": "2023-05-24T22:11:37.256Z"
   },
   {
    "duration": 122,
    "start_time": "2023-05-24T22:11:43.903Z"
   },
   {
    "duration": 10,
    "start_time": "2023-05-24T22:11:51.229Z"
   },
   {
    "duration": 24,
    "start_time": "2023-05-24T22:12:09.796Z"
   },
   {
    "duration": 1112,
    "start_time": "2023-05-24T22:12:54.287Z"
   },
   {
    "duration": 51,
    "start_time": "2023-05-24T22:12:55.402Z"
   },
   {
    "duration": 8,
    "start_time": "2023-05-24T22:12:55.456Z"
   },
   {
    "duration": 5,
    "start_time": "2023-05-24T22:12:55.465Z"
   },
   {
    "duration": 286,
    "start_time": "2023-05-24T22:12:55.472Z"
   },
   {
    "duration": 103,
    "start_time": "2023-05-24T22:12:55.760Z"
   },
   {
    "duration": 6,
    "start_time": "2023-05-24T22:13:03.756Z"
   },
   {
    "duration": 115,
    "start_time": "2023-05-24T22:13:06.193Z"
   },
   {
    "duration": 5,
    "start_time": "2023-05-24T22:13:15.115Z"
   },
   {
    "duration": 200,
    "start_time": "2023-05-24T22:13:17.263Z"
   },
   {
    "duration": 14,
    "start_time": "2023-05-24T22:13:18.986Z"
   },
   {
    "duration": 982,
    "start_time": "2023-05-24T22:17:24.818Z"
   },
   {
    "duration": 48,
    "start_time": "2023-05-24T22:17:25.802Z"
   },
   {
    "duration": 7,
    "start_time": "2023-05-24T22:17:25.852Z"
   },
   {
    "duration": 13,
    "start_time": "2023-05-24T22:17:25.861Z"
   },
   {
    "duration": 111,
    "start_time": "2023-05-24T22:17:25.876Z"
   },
   {
    "duration": 0,
    "start_time": "2023-05-24T22:17:25.989Z"
   },
   {
    "duration": 4,
    "start_time": "2023-05-24T22:18:01.553Z"
   },
   {
    "duration": 13,
    "start_time": "2023-05-24T22:18:03.193Z"
   },
   {
    "duration": 4,
    "start_time": "2023-05-24T22:18:19.022Z"
   },
   {
    "duration": 5005,
    "start_time": "2023-05-24T22:18:20.593Z"
   },
   {
    "duration": 6,
    "start_time": "2023-05-24T22:18:49.761Z"
   },
   {
    "duration": 5527,
    "start_time": "2023-05-24T22:18:51.573Z"
   },
   {
    "duration": 4,
    "start_time": "2023-05-24T22:19:21.766Z"
   },
   {
    "duration": 4,
    "start_time": "2023-05-24T22:19:30.656Z"
   },
   {
    "duration": 4,
    "start_time": "2023-05-24T22:20:37.714Z"
   },
   {
    "duration": 4,
    "start_time": "2023-05-24T22:20:49.403Z"
   },
   {
    "duration": 14,
    "start_time": "2023-05-24T22:20:51.028Z"
   },
   {
    "duration": 1039,
    "start_time": "2023-05-24T22:21:02.487Z"
   },
   {
    "duration": 49,
    "start_time": "2023-05-24T22:21:03.527Z"
   },
   {
    "duration": 7,
    "start_time": "2023-05-24T22:21:03.577Z"
   },
   {
    "duration": 4,
    "start_time": "2023-05-24T22:21:03.586Z"
   },
   {
    "duration": 5500,
    "start_time": "2023-05-24T22:21:03.592Z"
   },
   {
    "duration": 0,
    "start_time": "2023-05-24T22:21:09.093Z"
   },
   {
    "duration": 4,
    "start_time": "2023-05-24T22:23:09.966Z"
   },
   {
    "duration": 5090,
    "start_time": "2023-05-24T22:23:11.624Z"
   },
   {
    "duration": 4,
    "start_time": "2023-05-24T22:24:30.225Z"
   },
   {
    "duration": 5276,
    "start_time": "2023-05-24T22:24:32.404Z"
   },
   {
    "duration": 5,
    "start_time": "2023-05-24T22:24:56.611Z"
   },
   {
    "duration": 5245,
    "start_time": "2023-05-24T22:24:58.538Z"
   },
   {
    "duration": 4,
    "start_time": "2023-05-24T22:30:36.288Z"
   },
   {
    "duration": 177,
    "start_time": "2023-05-24T22:30:39.391Z"
   },
   {
    "duration": 1073,
    "start_time": "2023-05-24T22:30:51.646Z"
   },
   {
    "duration": 51,
    "start_time": "2023-05-24T22:30:52.721Z"
   },
   {
    "duration": 7,
    "start_time": "2023-05-24T22:30:52.774Z"
   },
   {
    "duration": 6,
    "start_time": "2023-05-24T22:30:52.783Z"
   },
   {
    "duration": 10,
    "start_time": "2023-05-24T22:30:52.792Z"
   },
   {
    "duration": 15,
    "start_time": "2023-05-24T22:30:52.858Z"
   },
   {
    "duration": 5,
    "start_time": "2023-05-24T22:37:07.195Z"
   },
   {
    "duration": 4,
    "start_time": "2023-05-24T22:37:23.242Z"
   },
   {
    "duration": 3,
    "start_time": "2023-05-24T22:37:55.030Z"
   },
   {
    "duration": 5,
    "start_time": "2023-05-24T22:38:01.481Z"
   },
   {
    "duration": 4,
    "start_time": "2023-05-24T22:42:26.725Z"
   },
   {
    "duration": 13,
    "start_time": "2023-05-24T22:42:32.691Z"
   },
   {
    "duration": 1041,
    "start_time": "2023-05-24T22:43:41.499Z"
   },
   {
    "duration": 51,
    "start_time": "2023-05-24T22:43:42.542Z"
   },
   {
    "duration": 7,
    "start_time": "2023-05-24T22:43:42.597Z"
   },
   {
    "duration": 5,
    "start_time": "2023-05-24T22:43:42.605Z"
   },
   {
    "duration": 11,
    "start_time": "2023-05-24T22:43:42.611Z"
   },
   {
    "duration": 15,
    "start_time": "2023-05-24T22:43:42.657Z"
   },
   {
    "duration": 89,
    "start_time": "2023-05-24T22:43:42.673Z"
   },
   {
    "duration": 91,
    "start_time": "2023-05-24T22:44:13.480Z"
   },
   {
    "duration": 235,
    "start_time": "2023-05-24T22:44:23.031Z"
   },
   {
    "duration": 1013,
    "start_time": "2023-05-24T22:44:38.804Z"
   },
   {
    "duration": 48,
    "start_time": "2023-05-24T22:44:39.820Z"
   },
   {
    "duration": 6,
    "start_time": "2023-05-24T22:44:39.870Z"
   },
   {
    "duration": 4,
    "start_time": "2023-05-24T22:44:39.877Z"
   },
   {
    "duration": 13,
    "start_time": "2023-05-24T22:44:39.882Z"
   },
   {
    "duration": 530,
    "start_time": "2023-05-24T22:44:39.897Z"
   },
   {
    "duration": 0,
    "start_time": "2023-05-24T22:44:40.428Z"
   },
   {
    "duration": 170,
    "start_time": "2023-05-24T22:45:06.996Z"
   },
   {
    "duration": 9,
    "start_time": "2023-05-24T22:46:43.723Z"
   },
   {
    "duration": 445,
    "start_time": "2023-05-24T22:46:52.862Z"
   },
   {
    "duration": 1088,
    "start_time": "2023-05-24T22:47:26.831Z"
   },
   {
    "duration": 50,
    "start_time": "2023-05-24T22:47:27.922Z"
   },
   {
    "duration": 7,
    "start_time": "2023-05-24T22:47:27.973Z"
   },
   {
    "duration": 25,
    "start_time": "2023-05-24T22:47:27.981Z"
   },
   {
    "duration": 13,
    "start_time": "2023-05-24T22:47:28.008Z"
   },
   {
    "duration": 462,
    "start_time": "2023-05-24T22:47:28.023Z"
   },
   {
    "duration": 97,
    "start_time": "2023-05-24T22:47:28.486Z"
   },
   {
    "duration": 0,
    "start_time": "2023-05-24T22:47:28.584Z"
   },
   {
    "duration": 398,
    "start_time": "2023-05-24T22:47:41.292Z"
   },
   {
    "duration": 14,
    "start_time": "2023-05-24T22:48:00.909Z"
   },
   {
    "duration": 26,
    "start_time": "2023-05-24T22:48:13.319Z"
   },
   {
    "duration": 5,
    "start_time": "2023-05-24T22:48:34.319Z"
   },
   {
    "duration": 9,
    "start_time": "2023-05-24T22:48:38.547Z"
   },
   {
    "duration": 75,
    "start_time": "2023-05-24T22:48:43.182Z"
   },
   {
    "duration": 1077,
    "start_time": "2023-05-24T22:49:41.265Z"
   },
   {
    "duration": 51,
    "start_time": "2023-05-24T22:49:42.344Z"
   },
   {
    "duration": 7,
    "start_time": "2023-05-24T22:49:42.397Z"
   },
   {
    "duration": 25,
    "start_time": "2023-05-24T22:49:42.406Z"
   },
   {
    "duration": 14,
    "start_time": "2023-05-24T22:49:42.433Z"
   },
   {
    "duration": 6,
    "start_time": "2023-05-24T22:49:42.457Z"
   },
   {
    "duration": 93,
    "start_time": "2023-05-24T22:49:42.465Z"
   },
   {
    "duration": 271,
    "start_time": "2023-05-24T22:49:42.560Z"
   },
   {
    "duration": 5,
    "start_time": "2023-05-24T22:50:39.651Z"
   },
   {
    "duration": 9,
    "start_time": "2023-05-24T22:51:03.106Z"
   },
   {
    "duration": 11,
    "start_time": "2023-05-24T22:51:10.925Z"
   },
   {
    "duration": 325,
    "start_time": "2023-05-24T22:51:23.567Z"
   },
   {
    "duration": 81,
    "start_time": "2023-05-24T22:51:26.808Z"
   },
   {
    "duration": 29,
    "start_time": "2023-05-24T22:52:02.194Z"
   },
   {
    "duration": 37,
    "start_time": "2023-05-24T22:52:33.881Z"
   },
   {
    "duration": 315,
    "start_time": "2023-05-24T22:52:44.681Z"
   },
   {
    "duration": 432,
    "start_time": "2023-05-24T22:52:52.862Z"
   },
   {
    "duration": 28,
    "start_time": "2023-05-24T22:52:57.023Z"
   },
   {
    "duration": 270,
    "start_time": "2023-05-24T22:53:00.231Z"
   },
   {
    "duration": 29,
    "start_time": "2023-05-24T22:53:01.169Z"
   },
   {
    "duration": 373,
    "start_time": "2023-05-24T22:53:14.491Z"
   },
   {
    "duration": 256,
    "start_time": "2023-05-24T22:53:20.135Z"
   },
   {
    "duration": 1026,
    "start_time": "2023-05-25T20:22:35.232Z"
   },
   {
    "duration": 136,
    "start_time": "2023-05-25T20:22:36.259Z"
   },
   {
    "duration": 6,
    "start_time": "2023-05-25T20:22:36.396Z"
   },
   {
    "duration": 4,
    "start_time": "2023-05-25T20:22:36.404Z"
   },
   {
    "duration": 10,
    "start_time": "2023-05-25T20:22:36.410Z"
   },
   {
    "duration": 440,
    "start_time": "2023-05-25T20:22:36.477Z"
   },
   {
    "duration": 29,
    "start_time": "2023-05-25T20:22:36.918Z"
   },
   {
    "duration": 5244,
    "start_time": "2023-05-25T20:22:36.949Z"
   },
   {
    "duration": 10,
    "start_time": "2023-05-25T20:34:36.044Z"
   },
   {
    "duration": 4,
    "start_time": "2023-05-25T20:34:43.730Z"
   },
   {
    "duration": 12,
    "start_time": "2023-05-25T20:34:59.580Z"
   },
   {
    "duration": 5,
    "start_time": "2023-05-25T20:35:13.019Z"
   },
   {
    "duration": 3,
    "start_time": "2023-05-25T20:35:35.459Z"
   },
   {
    "duration": 5,
    "start_time": "2023-05-25T20:35:40.743Z"
   },
   {
    "duration": 9,
    "start_time": "2023-05-25T20:36:16.490Z"
   },
   {
    "duration": 7,
    "start_time": "2023-05-25T20:36:33.968Z"
   },
   {
    "duration": 5,
    "start_time": "2023-05-25T20:36:45.776Z"
   },
   {
    "duration": 276,
    "start_time": "2023-05-25T20:37:01.015Z"
   },
   {
    "duration": 10,
    "start_time": "2023-05-25T20:37:34.350Z"
   },
   {
    "duration": 126,
    "start_time": "2023-05-25T20:37:51.550Z"
   },
   {
    "duration": 12,
    "start_time": "2023-05-25T20:38:00.003Z"
   },
   {
    "duration": 4,
    "start_time": "2023-05-25T20:38:08.780Z"
   },
   {
    "duration": 9,
    "start_time": "2023-05-25T20:38:11.680Z"
   },
   {
    "duration": 5,
    "start_time": "2023-05-25T20:38:21.346Z"
   },
   {
    "duration": 327,
    "start_time": "2023-05-25T20:38:24.160Z"
   },
   {
    "duration": 277,
    "start_time": "2023-05-25T20:38:53.811Z"
   },
   {
    "duration": 8,
    "start_time": "2023-05-25T20:39:03.984Z"
   },
   {
    "duration": 7,
    "start_time": "2023-05-25T20:39:11.185Z"
   },
   {
    "duration": 101,
    "start_time": "2023-05-25T20:39:21.583Z"
   },
   {
    "duration": 77,
    "start_time": "2023-05-25T20:40:13.806Z"
   },
   {
    "duration": 28781,
    "start_time": "2023-05-25T20:40:18.399Z"
   },
   {
    "duration": 284,
    "start_time": "2023-05-25T20:41:01.296Z"
   },
   {
    "duration": 129,
    "start_time": "2023-05-25T20:42:03.656Z"
   },
   {
    "duration": 75,
    "start_time": "2023-05-25T20:43:42.610Z"
   },
   {
    "duration": 85,
    "start_time": "2023-05-25T20:43:47.202Z"
   },
   {
    "duration": 191,
    "start_time": "2023-05-25T20:44:13.686Z"
   },
   {
    "duration": 224,
    "start_time": "2023-05-25T20:44:19.352Z"
   },
   {
    "duration": 296,
    "start_time": "2023-05-25T20:44:35.283Z"
   },
   {
    "duration": 8,
    "start_time": "2023-05-25T20:44:37.320Z"
   },
   {
    "duration": 1087,
    "start_time": "2023-05-25T20:44:58.965Z"
   },
   {
    "duration": 51,
    "start_time": "2023-05-25T20:45:00.055Z"
   },
   {
    "duration": 6,
    "start_time": "2023-05-25T20:45:00.108Z"
   },
   {
    "duration": 18,
    "start_time": "2023-05-25T20:45:00.116Z"
   },
   {
    "duration": 39,
    "start_time": "2023-05-25T20:45:00.136Z"
   },
   {
    "duration": 12,
    "start_time": "2023-05-25T20:45:00.178Z"
   },
   {
    "duration": 205,
    "start_time": "2023-05-25T20:45:00.275Z"
   },
   {
    "duration": 93,
    "start_time": "2023-05-25T20:45:00.482Z"
   },
   {
    "duration": 13,
    "start_time": "2023-05-25T20:46:26.646Z"
   },
   {
    "duration": 1137,
    "start_time": "2023-05-25T20:47:28.852Z"
   },
   {
    "duration": 48,
    "start_time": "2023-05-25T20:47:29.991Z"
   },
   {
    "duration": 7,
    "start_time": "2023-05-25T20:47:30.040Z"
   },
   {
    "duration": 60,
    "start_time": "2023-05-25T20:47:30.048Z"
   },
   {
    "duration": 30,
    "start_time": "2023-05-25T20:47:30.110Z"
   },
   {
    "duration": 48,
    "start_time": "2023-05-25T20:47:30.142Z"
   },
   {
    "duration": 24,
    "start_time": "2023-05-25T20:47:30.275Z"
   },
   {
    "duration": 177,
    "start_time": "2023-05-25T20:47:30.301Z"
   },
   {
    "duration": 101,
    "start_time": "2023-05-25T20:47:30.480Z"
   },
   {
    "duration": 12,
    "start_time": "2023-05-25T20:48:02.776Z"
   },
   {
    "duration": 1099,
    "start_time": "2023-05-25T20:48:08.646Z"
   },
   {
    "duration": 49,
    "start_time": "2023-05-25T20:48:09.747Z"
   },
   {
    "duration": 7,
    "start_time": "2023-05-25T20:48:09.798Z"
   },
   {
    "duration": 8,
    "start_time": "2023-05-25T20:48:09.807Z"
   },
   {
    "duration": 19,
    "start_time": "2023-05-25T20:48:09.816Z"
   },
   {
    "duration": 102,
    "start_time": "2023-05-25T20:48:09.876Z"
   },
   {
    "duration": 4,
    "start_time": "2023-05-25T20:48:09.980Z"
   },
   {
    "duration": 289,
    "start_time": "2023-05-25T20:48:09.986Z"
   },
   {
    "duration": 11,
    "start_time": "2023-05-25T20:48:10.277Z"
   },
   {
    "duration": 1068,
    "start_time": "2023-05-25T20:51:40.104Z"
   },
   {
    "duration": 50,
    "start_time": "2023-05-25T20:51:41.174Z"
   },
   {
    "duration": 7,
    "start_time": "2023-05-25T20:51:41.226Z"
   },
   {
    "duration": 6,
    "start_time": "2023-05-25T20:51:41.235Z"
   },
   {
    "duration": 31,
    "start_time": "2023-05-25T20:51:41.244Z"
   },
   {
    "duration": 105,
    "start_time": "2023-05-25T20:51:41.277Z"
   },
   {
    "duration": 5,
    "start_time": "2023-05-25T20:51:41.383Z"
   },
   {
    "duration": 365,
    "start_time": "2023-05-25T20:51:41.390Z"
   },
   {
    "duration": 0,
    "start_time": "2023-05-25T20:51:41.757Z"
   },
   {
    "duration": 196,
    "start_time": "2023-05-25T20:52:00.778Z"
   },
   {
    "duration": 56,
    "start_time": "2023-05-25T20:52:08.323Z"
   },
   {
    "duration": 13528,
    "start_time": "2023-05-25T20:52:24.453Z"
   },
   {
    "duration": 5,
    "start_time": "2023-05-25T20:53:19.362Z"
   },
   {
    "duration": 6,
    "start_time": "2023-05-25T20:53:20.180Z"
   },
   {
    "duration": 11,
    "start_time": "2023-05-25T20:53:26.395Z"
   },
   {
    "duration": 1084,
    "start_time": "2023-05-25T20:53:38.958Z"
   },
   {
    "duration": 51,
    "start_time": "2023-05-25T20:53:40.044Z"
   },
   {
    "duration": 11,
    "start_time": "2023-05-25T20:53:40.097Z"
   },
   {
    "duration": 11,
    "start_time": "2023-05-25T20:53:40.110Z"
   },
   {
    "duration": 8,
    "start_time": "2023-05-25T20:53:40.123Z"
   },
   {
    "duration": 55,
    "start_time": "2023-05-25T20:53:40.132Z"
   },
   {
    "duration": 90,
    "start_time": "2023-05-25T20:53:40.189Z"
   },
   {
    "duration": 6,
    "start_time": "2023-05-25T20:53:40.280Z"
   },
   {
    "duration": 11,
    "start_time": "2023-05-25T20:53:40.288Z"
   },
   {
    "duration": 5,
    "start_time": "2023-05-25T20:53:55.394Z"
   },
   {
    "duration": 3,
    "start_time": "2023-05-25T20:54:53.964Z"
   },
   {
    "duration": 12,
    "start_time": "2023-05-25T20:54:59.517Z"
   },
   {
    "duration": 1048,
    "start_time": "2023-05-25T20:55:06.219Z"
   },
   {
    "duration": 47,
    "start_time": "2023-05-25T20:55:07.269Z"
   },
   {
    "duration": 6,
    "start_time": "2023-05-25T20:55:07.318Z"
   },
   {
    "duration": 6,
    "start_time": "2023-05-25T20:55:07.326Z"
   },
   {
    "duration": 42,
    "start_time": "2023-05-25T20:55:07.334Z"
   },
   {
    "duration": 101,
    "start_time": "2023-05-25T20:55:07.379Z"
   },
   {
    "duration": 5,
    "start_time": "2023-05-25T20:55:07.481Z"
   },
   {
    "duration": 7,
    "start_time": "2023-05-25T20:55:07.487Z"
   },
   {
    "duration": 12,
    "start_time": "2023-05-25T20:55:07.495Z"
   },
   {
    "duration": 67,
    "start_time": "2023-05-25T20:55:07.509Z"
   },
   {
    "duration": 1087,
    "start_time": "2023-05-25T20:55:37.109Z"
   },
   {
    "duration": 47,
    "start_time": "2023-05-25T20:55:38.198Z"
   },
   {
    "duration": 6,
    "start_time": "2023-05-25T20:55:38.247Z"
   },
   {
    "duration": 4,
    "start_time": "2023-05-25T20:55:38.254Z"
   },
   {
    "duration": 19,
    "start_time": "2023-05-25T20:55:38.260Z"
   },
   {
    "duration": 105,
    "start_time": "2023-05-25T20:55:38.281Z"
   },
   {
    "duration": 89,
    "start_time": "2023-05-25T20:55:38.388Z"
   },
   {
    "duration": 6,
    "start_time": "2023-05-25T20:55:38.479Z"
   },
   {
    "duration": 15,
    "start_time": "2023-05-25T20:55:38.487Z"
   },
   {
    "duration": 38,
    "start_time": "2023-05-25T20:55:38.504Z"
   },
   {
    "duration": 1107,
    "start_time": "2023-05-25T20:55:45.358Z"
   },
   {
    "duration": 46,
    "start_time": "2023-05-25T20:55:46.467Z"
   },
   {
    "duration": 7,
    "start_time": "2023-05-25T20:55:46.515Z"
   },
   {
    "duration": 4,
    "start_time": "2023-05-25T20:55:46.524Z"
   },
   {
    "duration": 8,
    "start_time": "2023-05-25T20:55:46.530Z"
   },
   {
    "duration": 135,
    "start_time": "2023-05-25T20:55:46.540Z"
   },
   {
    "duration": 5,
    "start_time": "2023-05-25T20:55:46.676Z"
   },
   {
    "duration": 5,
    "start_time": "2023-05-25T20:55:46.682Z"
   },
   {
    "duration": 11,
    "start_time": "2023-05-25T20:55:46.689Z"
   },
   {
    "duration": 8,
    "start_time": "2023-05-25T20:55:46.702Z"
   },
   {
    "duration": 3,
    "start_time": "2023-05-25T20:58:51.308Z"
   },
   {
    "duration": 4,
    "start_time": "2023-05-25T20:58:51.996Z"
   },
   {
    "duration": 9,
    "start_time": "2023-05-25T20:58:54.291Z"
   },
   {
    "duration": 4,
    "start_time": "2023-05-25T20:59:03.060Z"
   },
   {
    "duration": 6,
    "start_time": "2023-05-25T20:59:03.983Z"
   },
   {
    "duration": 11,
    "start_time": "2023-05-25T20:59:05.070Z"
   },
   {
    "duration": 6,
    "start_time": "2023-05-25T20:59:07.013Z"
   },
   {
    "duration": 4,
    "start_time": "2023-05-25T20:59:49.553Z"
   },
   {
    "duration": 3,
    "start_time": "2023-05-25T20:59:50.190Z"
   },
   {
    "duration": 8,
    "start_time": "2023-05-25T20:59:53.250Z"
   },
   {
    "duration": 1115,
    "start_time": "2023-05-25T21:00:52.845Z"
   },
   {
    "duration": 60,
    "start_time": "2023-05-25T21:00:53.963Z"
   },
   {
    "duration": 4,
    "start_time": "2023-05-25T21:00:54.028Z"
   },
   {
    "duration": 11,
    "start_time": "2023-05-25T21:00:54.036Z"
   },
   {
    "duration": 37,
    "start_time": "2023-05-25T21:00:54.049Z"
   },
   {
    "duration": 87,
    "start_time": "2023-05-25T21:00:54.089Z"
   },
   {
    "duration": 12,
    "start_time": "2023-05-25T21:00:54.179Z"
   },
   {
    "duration": 94,
    "start_time": "2023-05-25T21:00:54.274Z"
   },
   {
    "duration": 0,
    "start_time": "2023-05-25T21:00:54.369Z"
   },
   {
    "duration": 1089,
    "start_time": "2023-05-25T21:01:09.581Z"
   },
   {
    "duration": 47,
    "start_time": "2023-05-25T21:01:10.672Z"
   },
   {
    "duration": 4,
    "start_time": "2023-05-25T21:01:10.723Z"
   },
   {
    "duration": 5,
    "start_time": "2023-05-25T21:01:10.730Z"
   },
   {
    "duration": 46,
    "start_time": "2023-05-25T21:01:10.737Z"
   },
   {
    "duration": 92,
    "start_time": "2023-05-25T21:01:10.785Z"
   },
   {
    "duration": 7,
    "start_time": "2023-05-25T21:01:10.878Z"
   },
   {
    "duration": 12,
    "start_time": "2023-05-25T21:01:10.887Z"
   },
   {
    "duration": 9,
    "start_time": "2023-05-25T21:01:10.901Z"
   },
   {
    "duration": 7,
    "start_time": "2023-05-25T21:01:38.045Z"
   },
   {
    "duration": 1051,
    "start_time": "2023-05-25T21:11:50.305Z"
   },
   {
    "duration": 48,
    "start_time": "2023-05-25T21:11:51.358Z"
   },
   {
    "duration": 4,
    "start_time": "2023-05-25T21:11:51.407Z"
   },
   {
    "duration": 9,
    "start_time": "2023-05-25T21:11:51.412Z"
   },
   {
    "duration": 10,
    "start_time": "2023-05-25T21:11:51.423Z"
   },
   {
    "duration": 8,
    "start_time": "2023-05-25T21:11:51.480Z"
   },
   {
    "duration": 89,
    "start_time": "2023-05-25T21:11:51.490Z"
   },
   {
    "duration": 11,
    "start_time": "2023-05-25T21:11:51.581Z"
   },
   {
    "duration": 6,
    "start_time": "2023-05-25T21:11:51.594Z"
   },
   {
    "duration": 3,
    "start_time": "2023-05-25T21:12:41.994Z"
   },
   {
    "duration": 4,
    "start_time": "2023-05-25T21:14:03.973Z"
   },
   {
    "duration": 4,
    "start_time": "2023-05-25T21:14:55.221Z"
   },
   {
    "duration": 3,
    "start_time": "2023-05-25T21:16:38.247Z"
   },
   {
    "duration": 8,
    "start_time": "2023-05-25T21:16:40.947Z"
   },
   {
    "duration": 3,
    "start_time": "2023-05-25T21:21:26.540Z"
   },
   {
    "duration": 1308,
    "start_time": "2023-05-26T03:13:11.835Z"
   },
   {
    "duration": 51,
    "start_time": "2023-05-26T03:13:13.145Z"
   },
   {
    "duration": 5,
    "start_time": "2023-05-26T03:13:13.198Z"
   },
   {
    "duration": 8,
    "start_time": "2023-05-26T03:13:13.206Z"
   },
   {
    "duration": 24,
    "start_time": "2023-05-26T03:13:13.215Z"
   },
   {
    "duration": 8,
    "start_time": "2023-05-26T03:13:13.325Z"
   },
   {
    "duration": 90,
    "start_time": "2023-05-26T03:13:13.336Z"
   },
   {
    "duration": 4,
    "start_time": "2023-05-26T03:13:13.428Z"
   },
   {
    "duration": 11,
    "start_time": "2023-05-26T03:13:13.434Z"
   },
   {
    "duration": 1154,
    "start_time": "2023-05-27T16:28:22.794Z"
   },
   {
    "duration": 110,
    "start_time": "2023-05-27T16:28:23.950Z"
   },
   {
    "duration": 4,
    "start_time": "2023-05-27T16:28:24.062Z"
   },
   {
    "duration": 12,
    "start_time": "2023-05-27T16:28:24.068Z"
   },
   {
    "duration": 28,
    "start_time": "2023-05-27T16:28:24.081Z"
   },
   {
    "duration": 4,
    "start_time": "2023-05-27T16:28:24.111Z"
   },
   {
    "duration": 96,
    "start_time": "2023-05-27T16:28:24.117Z"
   },
   {
    "duration": 5,
    "start_time": "2023-05-27T16:28:24.215Z"
   },
   {
    "duration": 112,
    "start_time": "2023-05-27T16:28:24.221Z"
   },
   {
    "duration": 22,
    "start_time": "2023-05-27T16:29:07.112Z"
   },
   {
    "duration": 95,
    "start_time": "2023-05-27T16:33:36.444Z"
   },
   {
    "duration": 8,
    "start_time": "2023-05-27T16:33:40.639Z"
   },
   {
    "duration": 9,
    "start_time": "2023-05-27T16:34:12.576Z"
   },
   {
    "duration": 6,
    "start_time": "2023-05-27T16:34:21.476Z"
   },
   {
    "duration": 8,
    "start_time": "2023-05-27T16:35:06.589Z"
   },
   {
    "duration": 11,
    "start_time": "2023-05-27T16:35:11.225Z"
   },
   {
    "duration": 7,
    "start_time": "2023-05-27T16:35:15.397Z"
   },
   {
    "duration": 7,
    "start_time": "2023-05-27T16:35:22.359Z"
   },
   {
    "duration": 6,
    "start_time": "2023-05-27T16:35:25.707Z"
   },
   {
    "duration": 6,
    "start_time": "2023-05-27T16:35:50.885Z"
   },
   {
    "duration": 69,
    "start_time": "2023-05-27T16:39:46.430Z"
   },
   {
    "duration": 69,
    "start_time": "2023-05-27T16:40:01.148Z"
   },
   {
    "duration": 90,
    "start_time": "2023-05-27T17:14:41.393Z"
   },
   {
    "duration": 4,
    "start_time": "2023-05-27T17:14:58.877Z"
   },
   {
    "duration": 3,
    "start_time": "2023-05-27T17:17:27.799Z"
   },
   {
    "duration": 7,
    "start_time": "2023-05-27T17:18:37.093Z"
   },
   {
    "duration": 4,
    "start_time": "2023-05-27T17:18:43.609Z"
   },
   {
    "duration": 194,
    "start_time": "2023-05-27T17:19:35.820Z"
   },
   {
    "duration": 4,
    "start_time": "2023-05-27T17:19:49.493Z"
   },
   {
    "duration": 4,
    "start_time": "2023-05-27T17:20:09.092Z"
   },
   {
    "duration": 6,
    "start_time": "2023-05-27T17:25:51.916Z"
   },
   {
    "duration": 4,
    "start_time": "2023-05-27T17:26:08.443Z"
   },
   {
    "duration": 4,
    "start_time": "2023-05-27T17:26:36.221Z"
   },
   {
    "duration": 4,
    "start_time": "2023-05-27T17:26:58.334Z"
   },
   {
    "duration": 5,
    "start_time": "2023-05-27T17:26:59.285Z"
   },
   {
    "duration": 7,
    "start_time": "2023-05-27T17:27:00.520Z"
   },
   {
    "duration": 4,
    "start_time": "2023-05-27T17:27:01.089Z"
   },
   {
    "duration": 5,
    "start_time": "2023-05-27T17:27:01.797Z"
   },
   {
    "duration": 1080,
    "start_time": "2023-05-27T17:27:47.187Z"
   },
   {
    "duration": 48,
    "start_time": "2023-05-27T17:27:48.269Z"
   },
   {
    "duration": 23,
    "start_time": "2023-05-27T17:27:48.319Z"
   },
   {
    "duration": 5,
    "start_time": "2023-05-27T17:27:48.343Z"
   },
   {
    "duration": 11,
    "start_time": "2023-05-27T17:27:48.350Z"
   },
   {
    "duration": 7,
    "start_time": "2023-05-27T17:27:48.362Z"
   },
   {
    "duration": 45,
    "start_time": "2023-05-27T17:27:48.370Z"
   },
   {
    "duration": 85,
    "start_time": "2023-05-27T17:27:48.420Z"
   },
   {
    "duration": 10,
    "start_time": "2023-05-27T17:27:48.507Z"
   },
   {
    "duration": 7,
    "start_time": "2023-05-27T17:27:48.520Z"
   },
   {
    "duration": 5,
    "start_time": "2023-05-27T17:27:48.530Z"
   },
   {
    "duration": 82,
    "start_time": "2023-05-27T17:27:48.537Z"
   },
   {
    "duration": 13,
    "start_time": "2023-05-27T17:27:48.620Z"
   },
   {
    "duration": 6,
    "start_time": "2023-05-27T17:27:48.707Z"
   },
   {
    "duration": 15,
    "start_time": "2023-05-27T17:27:48.715Z"
   },
   {
    "duration": 22,
    "start_time": "2023-05-27T17:27:48.732Z"
   },
   {
    "duration": 4,
    "start_time": "2023-05-27T17:28:17.897Z"
   },
   {
    "duration": 5,
    "start_time": "2023-05-27T17:28:57.684Z"
   },
   {
    "duration": 4,
    "start_time": "2023-05-27T17:29:35.943Z"
   },
   {
    "duration": 4,
    "start_time": "2023-05-27T17:29:54.117Z"
   },
   {
    "duration": 84,
    "start_time": "2023-05-27T17:30:11.381Z"
   },
   {
    "duration": 5,
    "start_time": "2023-05-27T17:30:19.584Z"
   },
   {
    "duration": 1023,
    "start_time": "2023-05-27T17:30:26.785Z"
   },
   {
    "duration": 46,
    "start_time": "2023-05-27T17:30:27.809Z"
   },
   {
    "duration": 21,
    "start_time": "2023-05-27T17:30:27.857Z"
   },
   {
    "duration": 4,
    "start_time": "2023-05-27T17:30:27.880Z"
   },
   {
    "duration": 4,
    "start_time": "2023-05-27T17:30:27.886Z"
   },
   {
    "duration": 5,
    "start_time": "2023-05-27T17:30:27.892Z"
   },
   {
    "duration": 15,
    "start_time": "2023-05-27T17:30:27.898Z"
   },
   {
    "duration": 4,
    "start_time": "2023-05-27T17:30:27.914Z"
   },
   {
    "duration": 93,
    "start_time": "2023-05-27T17:30:27.919Z"
   },
   {
    "duration": 93,
    "start_time": "2023-05-27T17:30:28.014Z"
   },
   {
    "duration": 4,
    "start_time": "2023-05-27T17:30:28.109Z"
   },
   {
    "duration": 92,
    "start_time": "2023-05-27T17:30:28.114Z"
   },
   {
    "duration": 4,
    "start_time": "2023-05-27T17:30:28.208Z"
   },
   {
    "duration": 15,
    "start_time": "2023-05-27T17:30:28.214Z"
   },
   {
    "duration": 9,
    "start_time": "2023-05-27T17:30:28.231Z"
   },
   {
    "duration": 8,
    "start_time": "2023-05-27T17:30:28.241Z"
   },
   {
    "duration": 4,
    "start_time": "2023-05-27T17:33:26.202Z"
   },
   {
    "duration": 3,
    "start_time": "2023-05-27T17:33:33.590Z"
   },
   {
    "duration": 5,
    "start_time": "2023-05-27T17:33:47.813Z"
   },
   {
    "duration": 4,
    "start_time": "2023-05-27T17:33:48.615Z"
   },
   {
    "duration": 4,
    "start_time": "2023-05-27T17:34:28.189Z"
   },
   {
    "duration": 5,
    "start_time": "2023-05-27T17:34:29.894Z"
   },
   {
    "duration": 5,
    "start_time": "2023-05-27T17:34:31.296Z"
   },
   {
    "duration": 4,
    "start_time": "2023-05-27T17:34:31.975Z"
   },
   {
    "duration": 5,
    "start_time": "2023-05-27T17:34:52.388Z"
   },
   {
    "duration": 4,
    "start_time": "2023-05-27T17:34:59.621Z"
   },
   {
    "duration": 8,
    "start_time": "2023-05-27T17:35:11.921Z"
   },
   {
    "duration": 4,
    "start_time": "2023-05-27T17:35:13.087Z"
   },
   {
    "duration": 5,
    "start_time": "2023-05-27T17:35:14.723Z"
   },
   {
    "duration": 4,
    "start_time": "2023-05-27T17:35:15.128Z"
   },
   {
    "duration": 3,
    "start_time": "2023-05-27T17:38:39.399Z"
   },
   {
    "duration": 4,
    "start_time": "2023-05-27T17:38:43.683Z"
   },
   {
    "duration": 3,
    "start_time": "2023-05-27T17:38:49.997Z"
   },
   {
    "duration": 2,
    "start_time": "2023-05-27T17:38:59.948Z"
   },
   {
    "duration": 3,
    "start_time": "2023-05-27T17:39:04.286Z"
   },
   {
    "duration": 3,
    "start_time": "2023-05-27T17:39:09.998Z"
   },
   {
    "duration": 4,
    "start_time": "2023-05-27T17:48:04.897Z"
   },
   {
    "duration": 397,
    "start_time": "2023-05-27T17:48:19.615Z"
   },
   {
    "duration": 76,
    "start_time": "2023-05-27T20:06:44.442Z"
   },
   {
    "duration": 54,
    "start_time": "2023-05-28T13:52:24.821Z"
   }
  ],
  "kernelspec": {
   "display_name": "Python 3 (ipykernel)",
   "language": "python",
   "name": "python3"
  },
  "language_info": {
   "codemirror_mode": {
    "name": "ipython",
    "version": 3
   },
   "file_extension": ".py",
   "mimetype": "text/x-python",
   "name": "python",
   "nbconvert_exporter": "python",
   "pygments_lexer": "ipython3",
   "version": "3.10.9"
  },
  "toc": {
   "base_numbering": 1,
   "nav_menu": {},
   "number_sections": true,
   "sideBar": true,
   "skip_h1_title": true,
   "title_cell": "Содержание",
   "title_sidebar": "Contents",
   "toc_cell": true,
   "toc_position": {},
   "toc_section_display": true,
   "toc_window_display": true
  }
 },
 "nbformat": 4,
 "nbformat_minor": 4
}
