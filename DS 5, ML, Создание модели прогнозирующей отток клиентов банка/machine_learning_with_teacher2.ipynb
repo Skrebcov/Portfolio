{
 "cells": [
  {
   "cell_type": "markdown",
   "id": "2777409a-ab8f-4489-81fc-599f923437fd",
   "metadata": {},
   "source": [
    "# Отток клиентов"
   ]
  },
  {
   "cell_type": "markdown",
   "id": "7b17ab7a-a49a-4c57-aab6-8cd3a1a70187",
   "metadata": {},
   "source": [
    "Из банка стали уходить клиенты. Каждый месяц. Немного, но заметно. Банковские маркетологи посчитали: сохранять текущих клиентов дешевле, чем привлекать новых.\n",
    "\n",
    "Нужно спрогнозировать, уйдёт клиент из банка в ближайшее время или нет. Нам предоставлены исторические данные о поведении клиентов и расторжении договоров с банком. \n",
    "\n",
    "Построим модель с предельно большим значением *F1*-меры.\n",
    "\n",
    "Дополнительно измерим *AUC-ROC*, сравним её значение с *F1*-мерой.\n",
    "\n",
    "Источник данных: [https://www.kaggle.com/barelydedicated/bank-customer-churn-modeling](https://www.kaggle.com/barelydedicated/bank-customer-churn-modeling)"
   ]
  },
  {
   "cell_type": "markdown",
   "id": "98dd756b-aebb-4651-82b7-709e8cbbce6d",
   "metadata": {},
   "source": [
    "## Подготовка данных"
   ]
  },
  {
   "cell_type": "code",
   "execution_count": 1,
   "id": "39777711-2e6b-4998-9a12-24975018edcd",
   "metadata": {},
   "outputs": [],
   "source": [
    "import pandas as pd\n",
    "import random\n",
    "import numpy as np\n",
    "import matplotlib.pyplot as plt\n",
    "from sklearn.model_selection import train_test_split\n",
    "from sklearn.linear_model import LogisticRegression\n",
    "from sklearn.tree import DecisionTreeClassifier\n",
    "from sklearn.ensemble import RandomForestClassifier\n",
    "from sklearn.metrics import f1_score\n",
    "from sklearn.utils import shuffle\n",
    "from sklearn.preprocessing import StandardScaler \n",
    "from sklearn.metrics import roc_auc_score"
   ]
  },
  {
   "cell_type": "code",
   "execution_count": 2,
   "id": "5ba4d6ea-e260-423e-be30-6ea763658184",
   "metadata": {},
   "outputs": [
    {
     "name": "stdout",
     "output_type": "stream",
     "text": [
      "<class 'pandas.core.frame.DataFrame'>\n",
      "RangeIndex: 10000 entries, 0 to 9999\n",
      "Data columns (total 14 columns):\n",
      " #   Column           Non-Null Count  Dtype  \n",
      "---  ------           --------------  -----  \n",
      " 0   RowNumber        10000 non-null  int64  \n",
      " 1   CustomerId       10000 non-null  int64  \n",
      " 2   Surname          10000 non-null  object \n",
      " 3   CreditScore      10000 non-null  int64  \n",
      " 4   Geography        10000 non-null  object \n",
      " 5   Gender           10000 non-null  object \n",
      " 6   Age              10000 non-null  int64  \n",
      " 7   Tenure           9091 non-null   float64\n",
      " 8   Balance          10000 non-null  float64\n",
      " 9   NumOfProducts    10000 non-null  int64  \n",
      " 10  HasCrCard        10000 non-null  int64  \n",
      " 11  IsActiveMember   10000 non-null  int64  \n",
      " 12  EstimatedSalary  10000 non-null  float64\n",
      " 13  Exited           10000 non-null  int64  \n",
      "dtypes: float64(3), int64(8), object(3)\n",
      "memory usage: 1.1+ MB\n"
     ]
    }
   ],
   "source": [
    "df = pd.read_csv(\"Churn.csv\")\n",
    "df.info() # видим пропущенные значения в Tenure около 10% данных"
   ]
  },
  {
   "cell_type": "code",
   "execution_count": 3,
   "id": "d6732f21-bd07-4bbf-ab89-36431d769cfd",
   "metadata": {},
   "outputs": [
    {
     "data": {
      "text/html": [
       "<div>\n",
       "<style scoped>\n",
       "    .dataframe tbody tr th:only-of-type {\n",
       "        vertical-align: middle;\n",
       "    }\n",
       "\n",
       "    .dataframe tbody tr th {\n",
       "        vertical-align: top;\n",
       "    }\n",
       "\n",
       "    .dataframe thead th {\n",
       "        text-align: right;\n",
       "    }\n",
       "</style>\n",
       "<table border=\"1\" class=\"dataframe\">\n",
       "  <thead>\n",
       "    <tr style=\"text-align: right;\">\n",
       "      <th></th>\n",
       "      <th>RowNumber</th>\n",
       "      <th>CustomerId</th>\n",
       "      <th>Surname</th>\n",
       "      <th>CreditScore</th>\n",
       "      <th>Geography</th>\n",
       "      <th>Gender</th>\n",
       "      <th>Age</th>\n",
       "      <th>Tenure</th>\n",
       "      <th>Balance</th>\n",
       "      <th>NumOfProducts</th>\n",
       "      <th>HasCrCard</th>\n",
       "      <th>IsActiveMember</th>\n",
       "      <th>EstimatedSalary</th>\n",
       "      <th>Exited</th>\n",
       "    </tr>\n",
       "  </thead>\n",
       "  <tbody>\n",
       "    <tr>\n",
       "      <th>0</th>\n",
       "      <td>1</td>\n",
       "      <td>15634602</td>\n",
       "      <td>Hargrave</td>\n",
       "      <td>619</td>\n",
       "      <td>France</td>\n",
       "      <td>Female</td>\n",
       "      <td>42</td>\n",
       "      <td>2.0</td>\n",
       "      <td>0.00</td>\n",
       "      <td>1</td>\n",
       "      <td>1</td>\n",
       "      <td>1</td>\n",
       "      <td>101348.88</td>\n",
       "      <td>1</td>\n",
       "    </tr>\n",
       "    <tr>\n",
       "      <th>1</th>\n",
       "      <td>2</td>\n",
       "      <td>15647311</td>\n",
       "      <td>Hill</td>\n",
       "      <td>608</td>\n",
       "      <td>Spain</td>\n",
       "      <td>Female</td>\n",
       "      <td>41</td>\n",
       "      <td>1.0</td>\n",
       "      <td>83807.86</td>\n",
       "      <td>1</td>\n",
       "      <td>0</td>\n",
       "      <td>1</td>\n",
       "      <td>112542.58</td>\n",
       "      <td>0</td>\n",
       "    </tr>\n",
       "    <tr>\n",
       "      <th>2</th>\n",
       "      <td>3</td>\n",
       "      <td>15619304</td>\n",
       "      <td>Onio</td>\n",
       "      <td>502</td>\n",
       "      <td>France</td>\n",
       "      <td>Female</td>\n",
       "      <td>42</td>\n",
       "      <td>8.0</td>\n",
       "      <td>159660.80</td>\n",
       "      <td>3</td>\n",
       "      <td>1</td>\n",
       "      <td>0</td>\n",
       "      <td>113931.57</td>\n",
       "      <td>1</td>\n",
       "    </tr>\n",
       "    <tr>\n",
       "      <th>3</th>\n",
       "      <td>4</td>\n",
       "      <td>15701354</td>\n",
       "      <td>Boni</td>\n",
       "      <td>699</td>\n",
       "      <td>France</td>\n",
       "      <td>Female</td>\n",
       "      <td>39</td>\n",
       "      <td>1.0</td>\n",
       "      <td>0.00</td>\n",
       "      <td>2</td>\n",
       "      <td>0</td>\n",
       "      <td>0</td>\n",
       "      <td>93826.63</td>\n",
       "      <td>0</td>\n",
       "    </tr>\n",
       "    <tr>\n",
       "      <th>4</th>\n",
       "      <td>5</td>\n",
       "      <td>15737888</td>\n",
       "      <td>Mitchell</td>\n",
       "      <td>850</td>\n",
       "      <td>Spain</td>\n",
       "      <td>Female</td>\n",
       "      <td>43</td>\n",
       "      <td>2.0</td>\n",
       "      <td>125510.82</td>\n",
       "      <td>1</td>\n",
       "      <td>1</td>\n",
       "      <td>1</td>\n",
       "      <td>79084.10</td>\n",
       "      <td>0</td>\n",
       "    </tr>\n",
       "  </tbody>\n",
       "</table>\n",
       "</div>"
      ],
      "text/plain": [
       "   RowNumber  CustomerId   Surname  CreditScore Geography  Gender  Age  \\\n",
       "0          1    15634602  Hargrave          619    France  Female   42   \n",
       "1          2    15647311      Hill          608     Spain  Female   41   \n",
       "2          3    15619304      Onio          502    France  Female   42   \n",
       "3          4    15701354      Boni          699    France  Female   39   \n",
       "4          5    15737888  Mitchell          850     Spain  Female   43   \n",
       "\n",
       "   Tenure    Balance  NumOfProducts  HasCrCard  IsActiveMember  \\\n",
       "0     2.0       0.00              1          1               1   \n",
       "1     1.0   83807.86              1          0               1   \n",
       "2     8.0  159660.80              3          1               0   \n",
       "3     1.0       0.00              2          0               0   \n",
       "4     2.0  125510.82              1          1               1   \n",
       "\n",
       "   EstimatedSalary  Exited  \n",
       "0        101348.88       1  \n",
       "1        112542.58       0  \n",
       "2        113931.57       1  \n",
       "3         93826.63       0  \n",
       "4         79084.10       0  "
      ]
     },
     "execution_count": 3,
     "metadata": {},
     "output_type": "execute_result"
    }
   ],
   "source": [
    "df.head(5) # первый взгляд говорит о том что строчные значения соотвествую объектам, а числовые int и float"
   ]
  },
  {
   "cell_type": "markdown",
   "id": "e5b5b9a0-0893-4aa0-abde-84e54d3f61c8",
   "metadata": {},
   "source": [
    "Exited задано как 1 или 0, значит решаем задачу классификации\n",
    "\n",
    "Рассмотрим данные с пропусками"
   ]
  },
  {
   "cell_type": "code",
   "execution_count": 4,
   "id": "ea022418-e8ab-4a58-8c89-ded0f642bd68",
   "metadata": {},
   "outputs": [
    {
     "data": {
      "text/html": [
       "<div>\n",
       "<style scoped>\n",
       "    .dataframe tbody tr th:only-of-type {\n",
       "        vertical-align: middle;\n",
       "    }\n",
       "\n",
       "    .dataframe tbody tr th {\n",
       "        vertical-align: top;\n",
       "    }\n",
       "\n",
       "    .dataframe thead th {\n",
       "        text-align: right;\n",
       "    }\n",
       "</style>\n",
       "<table border=\"1\" class=\"dataframe\">\n",
       "  <thead>\n",
       "    <tr style=\"text-align: right;\">\n",
       "      <th></th>\n",
       "      <th>RowNumber</th>\n",
       "      <th>CustomerId</th>\n",
       "      <th>Surname</th>\n",
       "      <th>CreditScore</th>\n",
       "      <th>Geography</th>\n",
       "      <th>Gender</th>\n",
       "      <th>Age</th>\n",
       "      <th>Tenure</th>\n",
       "      <th>Balance</th>\n",
       "      <th>NumOfProducts</th>\n",
       "      <th>HasCrCard</th>\n",
       "      <th>IsActiveMember</th>\n",
       "      <th>EstimatedSalary</th>\n",
       "      <th>Exited</th>\n",
       "    </tr>\n",
       "  </thead>\n",
       "  <tbody>\n",
       "    <tr>\n",
       "      <th>30</th>\n",
       "      <td>31</td>\n",
       "      <td>15589475</td>\n",
       "      <td>Azikiwe</td>\n",
       "      <td>591</td>\n",
       "      <td>Spain</td>\n",
       "      <td>Female</td>\n",
       "      <td>39</td>\n",
       "      <td>NaN</td>\n",
       "      <td>0.00</td>\n",
       "      <td>3</td>\n",
       "      <td>1</td>\n",
       "      <td>0</td>\n",
       "      <td>140469.38</td>\n",
       "      <td>1</td>\n",
       "    </tr>\n",
       "    <tr>\n",
       "      <th>48</th>\n",
       "      <td>49</td>\n",
       "      <td>15766205</td>\n",
       "      <td>Yin</td>\n",
       "      <td>550</td>\n",
       "      <td>Germany</td>\n",
       "      <td>Male</td>\n",
       "      <td>38</td>\n",
       "      <td>NaN</td>\n",
       "      <td>103391.38</td>\n",
       "      <td>1</td>\n",
       "      <td>0</td>\n",
       "      <td>1</td>\n",
       "      <td>90878.13</td>\n",
       "      <td>0</td>\n",
       "    </tr>\n",
       "    <tr>\n",
       "      <th>51</th>\n",
       "      <td>52</td>\n",
       "      <td>15768193</td>\n",
       "      <td>Trevisani</td>\n",
       "      <td>585</td>\n",
       "      <td>Germany</td>\n",
       "      <td>Male</td>\n",
       "      <td>36</td>\n",
       "      <td>NaN</td>\n",
       "      <td>146050.97</td>\n",
       "      <td>2</td>\n",
       "      <td>0</td>\n",
       "      <td>0</td>\n",
       "      <td>86424.57</td>\n",
       "      <td>0</td>\n",
       "    </tr>\n",
       "    <tr>\n",
       "      <th>53</th>\n",
       "      <td>54</td>\n",
       "      <td>15702298</td>\n",
       "      <td>Parkhill</td>\n",
       "      <td>655</td>\n",
       "      <td>Germany</td>\n",
       "      <td>Male</td>\n",
       "      <td>41</td>\n",
       "      <td>NaN</td>\n",
       "      <td>125561.97</td>\n",
       "      <td>1</td>\n",
       "      <td>0</td>\n",
       "      <td>0</td>\n",
       "      <td>164040.94</td>\n",
       "      <td>1</td>\n",
       "    </tr>\n",
       "    <tr>\n",
       "      <th>60</th>\n",
       "      <td>61</td>\n",
       "      <td>15651280</td>\n",
       "      <td>Hunter</td>\n",
       "      <td>742</td>\n",
       "      <td>Germany</td>\n",
       "      <td>Male</td>\n",
       "      <td>35</td>\n",
       "      <td>NaN</td>\n",
       "      <td>136857.00</td>\n",
       "      <td>1</td>\n",
       "      <td>0</td>\n",
       "      <td>0</td>\n",
       "      <td>84509.57</td>\n",
       "      <td>0</td>\n",
       "    </tr>\n",
       "  </tbody>\n",
       "</table>\n",
       "</div>"
      ],
      "text/plain": [
       "    RowNumber  CustomerId    Surname  CreditScore Geography  Gender  Age  \\\n",
       "30         31    15589475    Azikiwe          591     Spain  Female   39   \n",
       "48         49    15766205        Yin          550   Germany    Male   38   \n",
       "51         52    15768193  Trevisani          585   Germany    Male   36   \n",
       "53         54    15702298   Parkhill          655   Germany    Male   41   \n",
       "60         61    15651280     Hunter          742   Germany    Male   35   \n",
       "\n",
       "    Tenure    Balance  NumOfProducts  HasCrCard  IsActiveMember  \\\n",
       "30     NaN       0.00              3          1               0   \n",
       "48     NaN  103391.38              1          0               1   \n",
       "51     NaN  146050.97              2          0               0   \n",
       "53     NaN  125561.97              1          0               0   \n",
       "60     NaN  136857.00              1          0               0   \n",
       "\n",
       "    EstimatedSalary  Exited  \n",
       "30        140469.38       1  \n",
       "48         90878.13       0  \n",
       "51         86424.57       0  \n",
       "53        164040.94       1  \n",
       "60         84509.57       0  "
      ]
     },
     "execution_count": 4,
     "metadata": {},
     "output_type": "execute_result"
    }
   ],
   "source": [
    "df1 = df[df.isna().any(axis=1)]\n",
    "df1.head(5) #видим что это реальные клиенты у которых почему то не заполнен столбец Tenure"
   ]
  },
  {
   "cell_type": "code",
   "execution_count": 5,
   "id": "20a83a1d-d277-4e78-90fd-1b1f31d88986",
   "metadata": {},
   "outputs": [
    {
     "data": {
      "image/png": "[encoded data removed]",
      "text/plain": [
       "<Figure size 640x480 with 1 Axes>"
      ]
     },
     "metadata": {},
     "output_type": "display_data"
    }
   ],
   "source": [
    "df['Tenure'].hist()                                                                          # распределение достаточно равномерно, можем заполнить пропущенные данные как \\\n",
    "plt.title('Гистограмма распределения срока пребывания в должности от количества наблюдений') #  медианой, средним , так и рандомным значением\n",
    "plt.xlabel('Лет в должности')\n",
    "plt.ylabel('Количество наблюдений')\n",
    "plt.show()    "
   ]
  },
  {
   "cell_type": "code",
   "execution_count": 6,
   "id": "f32ce9da-627f-496c-905e-260b3317600f",
   "metadata": {},
   "outputs": [],
   "source": [
    "df['Tenure'] = df['Tenure'].fillna(df['Tenure'].median())"
   ]
  },
  {
   "cell_type": "code",
   "execution_count": 7,
   "id": "f670a42a-8d73-4ffa-8986-0e7eaa8e82ad",
   "metadata": {},
   "outputs": [
    {
     "data": {
      "text/plain": [
       "RowNumber          0\n",
       "CustomerId         0\n",
       "Surname            0\n",
       "CreditScore        0\n",
       "Geography          0\n",
       "Gender             0\n",
       "Age                0\n",
       "Tenure             0\n",
       "Balance            0\n",
       "NumOfProducts      0\n",
       "HasCrCard          0\n",
       "IsActiveMember     0\n",
       "EstimatedSalary    0\n",
       "Exited             0\n",
       "dtype: int64"
      ]
     },
     "execution_count": 7,
     "metadata": {},
     "output_type": "execute_result"
    }
   ],
   "source": [
    "df.isna().sum() # пропусков нет"
   ]
  },
  {
   "cell_type": "markdown",
   "id": "cf082554-6db1-43af-a33b-afa50f798560",
   "metadata": {},
   "source": [
    "Подготовка выполнена, приступаем к выполнению задачи"
   ]
  },
  {
   "cell_type": "markdown",
   "id": "e2bf0f36-6b75-4a0a-84a4-81bef5e990d5",
   "metadata": {},
   "source": [
    "## Исследование задачи"
   ]
  },
  {
   "cell_type": "markdown",
   "id": "5bb1a7eb-ce0f-4fab-9ce9-ce09826ce719",
   "metadata": {},
   "source": [
    "Мы видим что в столбце Balance и EstimatedSalary фигурируют 6ти значные цифры, в то время как например в Tenure до 10. Это означает что мы имеем дело с дизбалансом данных по умолчанию.\n",
    "\n",
    "Построим модель машинного обучения для целевого параметра Exited. Для бучения модели часть данных нам понадобится, а часть нет. Мы удалим столбцы RowNumber, CustomerId, Surname так как признаки указанные в этих столбцах, например Имя, не могут влиять на лояльность к банку. Сначала построим модель без учета дизбалланса в данных"
   ]
  },
  {
   "cell_type": "code",
   "execution_count": 8,
   "id": "c435a5b4-ec24-49b4-b012-d0ca8c271116",
   "metadata": {},
   "outputs": [],
   "source": [
    "df = df.drop(['RowNumber','CustomerId','Surname'], axis=1) # удалим ненужные столбцы"
   ]
  },
  {
   "cell_type": "code",
   "execution_count": 9,
   "id": "e8e2a971-a00a-4704-bdbc-ad26bf55de78",
   "metadata": {},
   "outputs": [],
   "source": [
    "df_ohe = pd.get_dummies(df, drop_first=True) # используем технику прямого кодирования с учетом дамии-ловушки\n",
    "\n",
    "target_ohe = df_ohe['Exited'] # целевое значение\n",
    "features_ohe = df_ohe.drop(['Exited'], axis=1) # данные для предсказания целевого значения\n",
    "\n",
    "features_train, features_valid, target_train, target_valid = train_test_split(\n",
    "    features_ohe,target_ohe, test_size=0.40, random_state=12345) # отделим 40% данных для валидационной выборки\n",
    "features_valid, features_test, target_valid, target_test = train_test_split(\n",
    "    features_valid, target_valid, test_size=0.50, random_state=12345) # делаем пропорцию 3-1-1, обучающая, валидационная и тестовая выборки\n",
    "\n",
    "numeric = ['CreditScore', 'Age', 'Balance', 'NumOfProducts','HasCrCard','IsActiveMember','EstimatedSalary']\n",
    "\n",
    "scaler = StandardScaler() # стандартизируем тестовую и валидную выборку, чтобы \"уравнять\" значения и маленькие и очень большие. \n",
    "scaler.fit(features_train[numeric]) \n",
    "\n",
    "features_train[numeric] = scaler.transform(features_train[numeric])\n",
    "features_valid[numeric] = scaler.transform(features_valid[numeric]) "
   ]
  },
  {
   "cell_type": "code",
   "execution_count": 10,
   "id": "15c22b0d-85d4-4369-9578-5aeb76d14f2b",
   "metadata": {},
   "outputs": [
    {
     "name": "stdout",
     "output_type": "stream",
     "text": [
      "F1: 0.33108108108108103\n",
      "AUC-ROC: 0.7588026784580114\n"
     ]
    }
   ],
   "source": [
    "model = LogisticRegression(solver='liblinear',random_state=12345) # объявим модель как логистическую регрессию\n",
    "model.fit(features_train, target_train) # обучим модель\n",
    "\n",
    "predicted_valid = model.predict(features_valid) #предскажем значения Exited на основе обученной модели для данных из валидационной выборки\n",
    "\n",
    "probabilities_valid = model.predict_proba(features_valid)\n",
    "probabilities_one_valid = probabilities_valid[:, 1]\n",
    "\n",
    "print(\"F1:\", f1_score(target_valid,predicted_valid))\n",
    "print(\"AUC-ROC:\", roc_auc_score(target_valid,probabilities_one_valid))"
   ]
  },
  {
   "cell_type": "markdown",
   "id": "06cd3483-8047-4fe9-a8da-170db3bdb595",
   "metadata": {},
   "source": [
    "F1-мера показывает результат 0.33 для несбалансированных данных используя модель обучения логистической регрессии"
   ]
  },
  {
   "cell_type": "code",
   "execution_count": 11,
   "id": "2a7ea403-7cad-4c29-aadb-0b99010addf2",
   "metadata": {},
   "outputs": [
    {
     "name": "stdout",
     "output_type": "stream",
     "text": [
      "F1: 0.5030229746070133\n",
      "AUC-ROC: 0.6852766469673781\n"
     ]
    }
   ],
   "source": [
    "model = DecisionTreeClassifier(random_state=12345) # модель обучения дерева решений\n",
    "model.fit(features_train, target_train)\n",
    "\n",
    "predicted_valid = model.predict(features_valid)\n",
    "\n",
    "probabilities_valid = model.predict_proba(features_valid)\n",
    "probabilities_one_valid = probabilities_valid[:, 1]\n",
    "\n",
    "print(\"F1:\", f1_score(target_valid,predicted_valid))\n",
    "print(\"AUC-ROC:\", roc_auc_score(target_valid,probabilities_one_valid))"
   ]
  },
  {
   "cell_type": "markdown",
   "id": "a496e668-a238-4086-8a11-5697716df8b2",
   "metadata": {},
   "source": [
    "F1-мера показывает результат 0.50 для несбалансированных данных используя модель обучения дерева решений"
   ]
  },
  {
   "cell_type": "code",
   "execution_count": 12,
   "id": "f0b53c39-3917-46dc-9fdb-6cf921cc6fa8",
   "metadata": {},
   "outputs": [
    {
     "name": "stdout",
     "output_type": "stream",
     "text": [
      "max_depth: 1 F1: 0.0\n",
      "max_depth: 2 F1: 0.1853448275862069\n",
      "max_depth: 3 F1: 0.26993865030674846\n",
      "max_depth: 4 F1: 0.40293040293040294\n",
      "max_depth: 5 F1: 0.46735395189003437\n",
      "max_depth: 6 F1: 0.5348837209302326\n",
      "max_depth: 7 F1: 0.560126582278481\n",
      "max_depth: 8 F1: 0.5705229793977813\n",
      "max_depth: 9 F1: 0.5709779179810726\n",
      "max_depth: 10 F1: 0.5510835913312693\n",
      "max_depth: 11 F1: 0.5679012345679013\n",
      "max_depth: 12 F1: 0.5758039816232772\n",
      "max_depth: 13 F1: 0.5709969788519637\n",
      "max_depth: 14 F1: 0.5705705705705705\n",
      "max_depth: 15 F1: 0.5731523378582202\n",
      "max_depth: 16 F1: 0.5727136431784108\n",
      "max_depth: 17 F1: 0.5727136431784108\n",
      "max_depth: 18 F1: 0.5683890577507599\n",
      "max_depth: 19 F1: 0.5843373493975904\n"
     ]
    }
   ],
   "source": [
    "for depth in range(1,20,1): # модель обучения случайный лес с циклом для перебора гиперпораметра max_depth\n",
    "    model = RandomForestClassifier(max_depth=depth,n_estimators=50,random_state=12345).fit(features_train,target_train)\n",
    "    predicted_valid = model.predict(features_valid)\n",
    "    print('max_depth:',depth,'F1:',f1_score(target_valid,predicted_valid))"
   ]
  },
  {
   "cell_type": "markdown",
   "id": "740bc93d-663d-48ce-8fb4-eb156594478b",
   "metadata": {},
   "source": [
    "Лучшее значение max_depth=19"
   ]
  },
  {
   "cell_type": "code",
   "execution_count": 13,
   "id": "5f6360f8-bd77-4bb6-904e-1e9d3c1126c9",
   "metadata": {},
   "outputs": [
    {
     "name": "stdout",
     "output_type": "stream",
     "text": [
      "estimators: 1 F1: 0.4819004524886878\n",
      "estimators: 2 F1: 0.4340836012861737\n",
      "estimators: 3 F1: 0.5528662420382164\n",
      "estimators: 4 F1: 0.5007680491551458\n",
      "estimators: 5 F1: 0.554945054945055\n",
      "estimators: 6 F1: 0.5345345345345345\n",
      "estimators: 7 F1: 0.56353591160221\n",
      "estimators: 8 F1: 0.5413533834586467\n",
      "estimators: 9 F1: 0.5576102418207682\n",
      "estimators: 10 F1: 0.5489614243323442\n",
      "estimators: 11 F1: 0.5657142857142857\n",
      "estimators: 12 F1: 0.5654761904761905\n",
      "estimators: 13 F1: 0.5685425685425686\n",
      "estimators: 14 F1: 0.5519287833827893\n",
      "estimators: 15 F1: 0.566860465116279\n",
      "estimators: 16 F1: 0.5595238095238096\n",
      "estimators: 17 F1: 0.5618631732168851\n",
      "estimators: 18 F1: 0.5650224215246636\n",
      "estimators: 19 F1: 0.5793304221251819\n",
      "estimators: 20 F1: 0.5765230312035662\n",
      "estimators: 21 F1: 0.5801749271137026\n",
      "estimators: 22 F1: 0.571001494768311\n",
      "estimators: 23 F1: 0.5814977973568282\n",
      "estimators: 24 F1: 0.5722801788375559\n",
      "estimators: 25 F1: 0.57856093979442\n",
      "estimators: 26 F1: 0.5803571428571428\n",
      "estimators: 27 F1: 0.5814977973568282\n",
      "estimators: 28 F1: 0.5761194029850746\n",
      "estimators: 29 F1: 0.584070796460177\n",
      "estimators: 30 F1: 0.5787106446776611\n",
      "estimators: 31 F1: 0.5873715124816447\n",
      "estimators: 32 F1: 0.5791044776119403\n",
      "estimators: 33 F1: 0.584070796460177\n",
      "estimators: 34 F1: 0.5705705705705705\n",
      "estimators: 35 F1: 0.5829596412556054\n",
      "estimators: 36 F1: 0.5761689291101055\n",
      "estimators: 37 F1: 0.5748502994011976\n",
      "estimators: 38 F1: 0.5761689291101055\n",
      "estimators: 39 F1: 0.573134328358209\n",
      "estimators: 40 F1: 0.5718608169440242\n",
      "estimators: 41 F1: 0.5812220566318926\n",
      "estimators: 42 F1: 0.5830815709969789\n",
      "estimators: 43 F1: 0.5748502994011976\n",
      "estimators: 44 F1: 0.5791855203619909\n",
      "estimators: 45 F1: 0.5748502994011976\n",
      "estimators: 46 F1: 0.5813253012048193\n",
      "estimators: 47 F1: 0.5735735735735735\n",
      "estimators: 48 F1: 0.5804511278195489\n",
      "estimators: 49 F1: 0.5808383233532933\n"
     ]
    }
   ],
   "source": [
    "for est in range(1,50,1): # модель обучения случайный лес с циклом для перебора гиперпораметра max_depth\n",
    "    model = RandomForestClassifier(max_depth=19,n_estimators=est,random_state=12345).fit(features_train,target_train)\n",
    "    predicted_valid = model.predict(features_valid)\n",
    "    print('estimators:',est,'F1:',f1_score(target_valid,predicted_valid))"
   ]
  },
  {
   "cell_type": "markdown",
   "id": "764315b9-7070-4b7d-8cb9-8af55592aefa",
   "metadata": {},
   "source": [
    "F1-мера показывает результат 0.59 для несбалансированных данных используя модель обучения случайныйного леса"
   ]
  },
  {
   "cell_type": "markdown",
   "id": "39486d4c-0f53-447c-a4c1-bbaba7916ca3",
   "metadata": {},
   "source": [
    "Промежуточный вывод. Мы решаем задачу классификации по целевому признаку Exited. Сначала мы провели работу с учетом дизбаланса ланных. Мы построили 3 модели обучения для несбалансированных данных для логистической регрессии, дерева решения и случайного леса. И получили F1-меру для данных моделей. Самый лучший результат оказался у случайного леса 0.59. Продолжаем исследование и улучшение моделей."
   ]
  },
  {
   "cell_type": "markdown",
   "id": "8f8e38a8-60fb-456f-8785-9240c4497024",
   "metadata": {},
   "source": [
    "## Борьба с дисбалансом"
   ]
  },
  {
   "cell_type": "markdown",
   "id": "042f3574-b872-45b0-869d-abca362f1d2d",
   "metadata": {},
   "source": [
    "Мы видим что не все данные имеют пропорцию 1:1 , это означает что наша модель неизбежно какие то данные недооценивает, а какие то переоценивает. Для этого обучим нашим модели приведя их к балансу. Попробуем указать класс \"сбалансированный\" в параметре class_weight в логистической модели обучения"
   ]
  },
  {
   "cell_type": "code",
   "execution_count": 14,
   "id": "95cd8382-751f-47bf-810f-6a93dd9bea62",
   "metadata": {},
   "outputs": [
    {
     "name": "stdout",
     "output_type": "stream",
     "text": [
      "F1: 0.4888507718696398\n",
      "AUC-ROC: 0.7636266853779661\n"
     ]
    }
   ],
   "source": [
    "model = LogisticRegression(random_state=12345, solver='liblinear', class_weight='balanced')\n",
    "model.fit(features_train, target_train)\n",
    "\n",
    "predicted_valid = model.predict(features_valid)\n",
    "\n",
    "probabilities_valid = model.predict_proba(features_valid)\n",
    "probabilities_one_valid = probabilities_valid[:, 1]\n",
    "\n",
    "print(\"F1:\", f1_score(target_valid,predicted_valid))\n",
    "print(\"AUC-ROC:\", roc_auc_score(target_valid,probabilities_one_valid))"
   ]
  },
  {
   "cell_type": "markdown",
   "id": "1c05bdfb-c612-4a57-b662-988f070e6252",
   "metadata": {},
   "source": [
    "Мы видим что наша модель улучшиласть F1: 0.49\n"
   ]
  },
  {
   "cell_type": "markdown",
   "id": "d681213b-6673-4083-aa89-ff1ae2cde898",
   "metadata": {},
   "source": [
    "Попробуем использовать метод увеличения выборки для исследования"
   ]
  },
  {
   "cell_type": "code",
   "execution_count": 15,
   "id": "5e0b4c06-daa9-4605-816a-4835f8afc151",
   "metadata": {},
   "outputs": [
    {
     "name": "stdout",
     "output_type": "stream",
     "text": [
      "F1: 0.4888507718696398\n",
      "AUC-ROC: 0.7635949285925997\n"
     ]
    }
   ],
   "source": [
    "def upsample(features, target, repeat):\n",
    "    features_zeros = features[target == 0] # Разделим обучающую выборку на отрицательные и положительные объекты\n",
    "    features_ones = features[target == 1]\n",
    "    target_zeros = target[target == 0]\n",
    "    target_ones = target[target == 1]\n",
    "\n",
    "    features_upsampled = pd.concat([features_zeros] + [features_ones] * repeat) \n",
    "    target_upsampled = pd.concat([target_zeros] + [target_ones] * repeat)\n",
    "    \n",
    "    features_upsampled, target_upsampled = shuffle(\n",
    "        features_upsampled, target_upsampled, random_state=12345)\n",
    "    \n",
    "    return features_upsampled, target_upsampled\n",
    "\n",
    "features_upsampled, target_upsampled = upsample(features_train, target_train, 3) # c учётом полученных данных создадим новую обучающую выборку\n",
    "model = LogisticRegression(random_state=12345,solver='liblinear',class_weight='balanced')\n",
    "model.fit(features_upsampled,target_upsampled)\n",
    "\n",
    "predicted_valid = model.predict(features_valid) \n",
    "\n",
    "probabilities_valid = model.predict_proba(features_valid)\n",
    "probabilities_one_valid = probabilities_valid[:, 1]\n",
    "\n",
    "print(\"F1:\", f1_score(target_valid,predicted_valid))\n",
    "print(\"AUC-ROC:\", roc_auc_score(target_valid,probabilities_one_valid))"
   ]
  },
  {
   "cell_type": "markdown",
   "id": "a3dfd399-f1e7-4f2c-a1c4-797cbf6aa233",
   "metadata": {},
   "source": [
    "Методом подбора количества повторений пришли к выводу что лучший результат модель логистической регрессии с учетом 3 повторений для увеличения выборки показала на значении F1-меры 0.49"
   ]
  },
  {
   "cell_type": "code",
   "execution_count": 16,
   "id": "3dd90aaa-ddfe-4a38-8573-a0d9ea57298f",
   "metadata": {},
   "outputs": [
    {
     "name": "stdout",
     "output_type": "stream",
     "text": [
      "F1: 0.4939759036144578\n",
      "AUC-ROC: 0.7641363061717044\n"
     ]
    }
   ],
   "source": [
    "def downsample(features, target, fraction):\n",
    "    features_zeros = features[target == 0] \n",
    "    features_ones = features[target == 1]\n",
    "    target_zeros = target[target == 0]\n",
    "    target_ones = target[target == 1]\n",
    "\n",
    "    features_downsampled = pd.concat(\n",
    "        [features_zeros.sample(frac=fraction, random_state=12345)] + [features_ones])\n",
    "    target_downsampled = pd.concat(\n",
    "        [target_zeros.sample(frac=fraction, random_state=12345)] + [target_ones])\n",
    "    \n",
    "    features_downsampled, target_downsampled = shuffle(\n",
    "        features_downsampled, target_downsampled, random_state=12345)\n",
    "    \n",
    "    return features_downsampled, target_downsampled\n",
    "\n",
    "features_downsampled, target_downsampled = downsample(features_train, target_train, 0.30)\n",
    "\n",
    "model = LogisticRegression(random_state=12345,solver='liblinear',class_weight='balanced')\n",
    "model.fit(features_downsampled,target_downsampled)\n",
    "\n",
    "predicted_valid = model.predict(features_valid)\n",
    "\n",
    "probabilities_valid = model.predict_proba(features_valid)\n",
    "probabilities_one_valid = probabilities_valid[:, 1]\n",
    "\n",
    "print(\"F1:\", f1_score(target_valid,predicted_valid))\n",
    "print(\"AUC-ROC:\", roc_auc_score(target_valid,probabilities_one_valid))"
   ]
  },
  {
   "cell_type": "markdown",
   "id": "d7baf2da-37fb-432e-be8d-4c3b74375d22",
   "metadata": {},
   "source": [
    "При уменьшении выборки с коэффециентом 0.30 мы получили лучший для этой модели результат F1: 0.49"
   ]
  },
  {
   "cell_type": "markdown",
   "id": "9c87c9ce-c81d-4323-a365-a2fe0741e286",
   "metadata": {},
   "source": [
    "Теперь попробуем посмотреть на результаты случайного леса"
   ]
  },
  {
   "cell_type": "code",
   "execution_count": 17,
   "id": "401dd8f2-048c-496b-8046-d4bcc039c474",
   "metadata": {},
   "outputs": [
    {
     "name": "stdout",
     "output_type": "stream",
     "text": [
      "max_depth: 1 F1: 0.5430954587581093\n",
      "max_depth: 2 F1: 0.5616045845272206\n",
      "max_depth: 3 F1: 0.5775301764159704\n",
      "max_depth: 4 F1: 0.5953757225433527\n",
      "max_depth: 5 F1: 0.6114398422090729\n",
      "max_depth: 6 F1: 0.6138211382113822\n",
      "max_depth: 7 F1: 0.6182965299684542\n",
      "max_depth: 8 F1: 0.62582056892779\n",
      "max_depth: 9 F1: 0.6242905788876277\n",
      "max_depth: 10 F1: 0.6124401913875598\n",
      "max_depth: 11 F1: 0.6121437422552664\n",
      "max_depth: 12 F1: 0.5949535192563081\n",
      "max_depth: 13 F1: 0.598079561042524\n",
      "max_depth: 14 F1: 0.5977337110481586\n",
      "max_depth: 15 F1: 0.5947521865889214\n",
      "max_depth: 16 F1: 0.5905044510385756\n",
      "max_depth: 17 F1: 0.58493353028065\n",
      "max_depth: 18 F1: 0.5740458015267176\n",
      "max_depth: 19 F1: 0.5687789799072643\n"
     ]
    }
   ],
   "source": [
    "for depth in range(1,20,1):\n",
    "    model = RandomForestClassifier(max_depth=depth,n_estimators=50,random_state=12345,class_weight='balanced').fit(features_train,target_train)\n",
    "    predicted_valid = model.predict(features_valid)\n",
    "    print('max_depth:',depth,'F1:',f1_score(target_valid,predicted_valid))"
   ]
  },
  {
   "cell_type": "code",
   "execution_count": 18,
   "id": "72ff4cd4-f1d8-4e15-a922-de8539d6c031",
   "metadata": {},
   "outputs": [
    {
     "name": "stdout",
     "output_type": "stream",
     "text": [
      "estimators: 1 F1: 0.5486381322957198\n",
      "estimators: 2 F1: 0.5546558704453441\n",
      "estimators: 3 F1: 0.5825641025641026\n",
      "estimators: 4 F1: 0.5777310924369747\n",
      "estimators: 5 F1: 0.5888538380651946\n",
      "estimators: 6 F1: 0.6016949152542372\n",
      "estimators: 7 F1: 0.6081370449678801\n",
      "estimators: 8 F1: 0.6118918918918919\n",
      "estimators: 9 F1: 0.6256860592755213\n",
      "estimators: 10 F1: 0.6225596529284164\n",
      "estimators: 11 F1: 0.6175514626218851\n",
      "estimators: 12 F1: 0.6163934426229508\n",
      "estimators: 13 F1: 0.6145494028230185\n",
      "estimators: 14 F1: 0.6138828633405641\n",
      "estimators: 15 F1: 0.6266375545851528\n",
      "estimators: 16 F1: 0.6190998902305158\n",
      "estimators: 17 F1: 0.6131868131868131\n",
      "estimators: 18 F1: 0.6147091108671789\n",
      "estimators: 19 F1: 0.6142076502732241\n",
      "estimators: 20 F1: 0.616557734204793\n",
      "estimators: 21 F1: 0.611353711790393\n",
      "estimators: 22 F1: 0.614879649890591\n",
      "estimators: 23 F1: 0.6179039301310043\n",
      "estimators: 24 F1: 0.6209150326797385\n",
      "estimators: 25 F1: 0.6266375545851528\n",
      "estimators: 26 F1: 0.6217391304347827\n",
      "estimators: 27 F1: 0.6197183098591549\n",
      "estimators: 28 F1: 0.6195652173913043\n",
      "estimators: 29 F1: 0.6127292340884573\n",
      "estimators: 30 F1: 0.6163793103448275\n",
      "estimators: 31 F1: 0.6132177681473456\n",
      "estimators: 32 F1: 0.6097297297297297\n",
      "estimators: 33 F1: 0.6118918918918919\n",
      "estimators: 34 F1: 0.6127292340884573\n",
      "estimators: 35 F1: 0.6177105831533477\n",
      "estimators: 36 F1: 0.6190476190476191\n",
      "estimators: 37 F1: 0.6190476190476191\n",
      "estimators: 38 F1: 0.6232356134636265\n",
      "estimators: 39 F1: 0.627831715210356\n",
      "estimators: 40 F1: 0.6270270270270271\n",
      "estimators: 41 F1: 0.6255411255411255\n",
      "estimators: 42 F1: 0.6274509803921567\n",
      "estimators: 43 F1: 0.6263498920086392\n",
      "estimators: 44 F1: 0.6248648648648648\n",
      "estimators: 45 F1: 0.628385698808234\n",
      "estimators: 46 F1: 0.6282608695652174\n",
      "estimators: 47 F1: 0.631236442516269\n",
      "estimators: 48 F1: 0.6252723311546842\n",
      "estimators: 49 F1: 0.623773173391494\n"
     ]
    }
   ],
   "source": [
    "for est in range(1,50,1):\n",
    "    model = RandomForestClassifier(max_depth=8,n_estimators=est,random_state=12345,class_weight='balanced').fit(features_train,target_train)\n",
    "    predicted_valid = model.predict(features_valid)\n",
    "    print('estimators:',est,'F1:',f1_score(target_valid,predicted_valid))"
   ]
  },
  {
   "cell_type": "markdown",
   "id": "bd1f2b69-94e8-46b9-94d6-088aa89fd812",
   "metadata": {},
   "source": [
    "Выяснили что лучший max_depth=8 а estimators=47, при этих параметрах сбалансированная модель достигает F1 = 0.63 на валидационной выборке"
   ]
  },
  {
   "cell_type": "markdown",
   "id": "14b9f7da-9506-4c70-b3cf-29e4c2b3f3e3",
   "metadata": {},
   "source": [
    "## Тестирование модели"
   ]
  },
  {
   "cell_type": "code",
   "execution_count": 19,
   "id": "31c3f70e-a237-4d97-8e29-011457a40d07",
   "metadata": {},
   "outputs": [
    {
     "name": "stdout",
     "output_type": "stream",
     "text": [
      "F1: 0.6023835319609968\n"
     ]
    }
   ],
   "source": [
    "features_train, features_valid, target_train, target_valid = train_test_split(\n",
    "    features_ohe,target_ohe, test_size=0.40, random_state=12345)\n",
    "features_valid, features_test, target_valid, target_test = train_test_split(\n",
    "    features_valid, target_valid, test_size=0.50, random_state=12345)\n",
    "\n",
    "model = RandomForestClassifier(random_state=12345,n_estimators=47,max_depth=8,class_weight='balanced')\n",
    "\n",
    "model.fit(features_train,target_train) \n",
    "\n",
    "predicted_test = model.predict(features_test)\n",
    "\n",
    "print(\"F1:\", f1_score(target_test,predicted_test))"
   ]
  },
  {
   "cell_type": "markdown",
   "id": "7dd18b4f-68d0-4046-be4c-49b57b10b3b2",
   "metadata": {},
   "source": [
    "Самая лучшая модель случайного леса показала результат F1 меры равный 0.60 по сравнению с 0.63 на валидационной выборке"
   ]
  },
  {
   "cell_type": "code",
   "execution_count": 20,
   "id": "f657f0e8-ccfc-48ab-ad9b-3c358baa3898",
   "metadata": {},
   "outputs": [
    {
     "data": {
      "text/plain": [
       "0.8551173713142979"
      ]
     },
     "execution_count": 20,
     "metadata": {},
     "output_type": "execute_result"
    }
   ],
   "source": [
    "probabilities_test = model.predict_proba(features_test)\n",
    "probabilities_one_test = probabilities_test[:, 1]\n",
    "\n",
    "roc_auc_score(target_test,probabilities_one_test)"
   ]
  },
  {
   "cell_type": "markdown",
   "id": "1357d268-0394-4602-90e1-960e0a2d06ee",
   "metadata": {},
   "source": [
    "Мы получили результат 0.86 что выше случайной модели равной 0.5"
   ]
  },
  {
   "cell_type": "markdown",
   "id": "e1491b5a-7e6d-4096-9939-c13058513618",
   "metadata": {},
   "source": [
    "## Итоговый вывод"
   ]
  },
  {
   "cell_type": "markdown",
   "id": "cc375e73-9ab1-4b83-9ab4-4b6f25c3077b",
   "metadata": {},
   "source": [
    "Из банка стали уходить клиенты.\n",
    "Нужно спрогнозировать, уйдёт клиент из банка в ближайшее время или нет.\n",
    "Мы построили модель с предельно большим значением F1-меры и проверили ее на тестовой выборке.\n",
    "\n",
    "1) Мы провели первичный анализ данных и сделали вывод что будем решать задачу классификации. Мы обнаружили недоставющие данные и заполнили их медианным щначением. \n",
    "\n",
    "2) Исследовали балансы классов и решили что построим несколько моделей сначала несбалансированные, затем сбалансированные.\n",
    "Построили модели без учета баланса и получили результаты: F1-мера показывает результат 0.33 для несбалансированных данных используя модель обучения логистической регрессии, 0.50 используя модель обучения дерева решений, самый лучший результат оказался у случайного леса 0.59\n",
    "\n",
    "3) Далее мы использовали несколько методов балансировки чтобы попробовать разные модели и найти лучшую. Модель с логистической регрессией удалось улучшить F1: 0.49 в этот раз. Лучший результат модели логистической регрессии для увеличения выборки показала на значении F1-меры 0.45. При уменьшении выборки мы получили лучший для этой модели результат F1: 0.46, случайны лес показал результат в 0.63\n",
    "\n",
    "4) Получив результаты разных моделей приступили к тестированию их на тестовых данных. Мы протестировали модель случайного леса с валидационным резульатом 0.63 на тестовой выборке и получили результат в 0.60, что оказалось меньше результата на валидационной выборке. Исследование метрики AUC-ROC показало что модель показывает резульат в 0.86, что выше модели случайной выборки с результатом 0.5"
   ]
  }
 ],
 "metadata": {
  "kernelspec": {
   "display_name": "Python 3 (ipykernel)",
   "language": "python",
   "name": "python3"
  },
  "language_info": {
   "codemirror_mode": {
    "name": "ipython",
    "version": 3
   },
   "file_extension": ".py",
   "mimetype": "text/x-python",
   "name": "python",
   "nbconvert_exporter": "python",
   "pygments_lexer": "ipython3",
   "version": "3.10.9"
  }
 },
 "nbformat": 4,
 "nbformat_minor": 5
}
