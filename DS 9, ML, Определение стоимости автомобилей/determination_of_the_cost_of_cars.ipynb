{
 "cells": [
  {
   "cell_type": "markdown",
   "metadata": {},
   "source": [
    "# Определение стоимости автомобилей"
   ]
  },
  {
   "cell_type": "markdown",
   "metadata": {},
   "source": [
    "Сервис по продаже автомобилей с пробегом «Не бит, не крашен» разрабатывает приложение для привлечения новых клиентов. В нём можно быстро узнать рыночную стоимость своего автомобиля. В нашем распоряжении исторические данные: технические характеристики, комплектации и цены автомобилей. Нам нужно построить модель для определения стоимости. \n",
    "\n",
    "Заказчику важны:\n",
    "\n",
    "- качество предсказания;\n",
    "- скорость предсказания;\n",
    "- время обучения."
   ]
  },
  {
   "cell_type": "markdown",
   "metadata": {},
   "source": [
    "## Подготовка данных"
   ]
  },
  {
   "cell_type": "code",
   "execution_count": 1,
   "metadata": {
    "scrolled": true
   },
   "outputs": [
    {
     "name": "stdout",
     "output_type": "stream",
     "text": [
      "Requirement already satisfied: scikit-learn==1.1.3 in /opt/conda/lib/python3.9/site-packages (1.1.3)\n",
      "Requirement already satisfied: numpy>=1.17.3 in /opt/conda/lib/python3.9/site-packages (from scikit-learn==1.1.3) (1.21.1)\n",
      "Requirement already satisfied: scipy>=1.3.2 in /opt/conda/lib/python3.9/site-packages (from scikit-learn==1.1.3) (1.9.1)\n",
      "Requirement already satisfied: joblib>=1.0.0 in /opt/conda/lib/python3.9/site-packages (from scikit-learn==1.1.3) (1.1.0)\n",
      "Requirement already satisfied: threadpoolctl>=2.0.0 in /opt/conda/lib/python3.9/site-packages (from scikit-learn==1.1.3) (3.1.0)\n",
      "Requirement already satisfied: phik in /opt/conda/lib/python3.9/site-packages (0.12.3)\n",
      "Requirement already satisfied: scipy>=1.5.2 in /opt/conda/lib/python3.9/site-packages (from phik) (1.9.1)\n",
      "Requirement already satisfied: pandas>=0.25.1 in /opt/conda/lib/python3.9/site-packages (from phik) (1.2.4)\n",
      "Requirement already satisfied: joblib>=0.14.1 in /opt/conda/lib/python3.9/site-packages (from phik) (1.1.0)\n",
      "Requirement already satisfied: numpy>=1.18.0 in /opt/conda/lib/python3.9/site-packages (from phik) (1.21.1)\n",
      "Requirement already satisfied: matplotlib>=2.2.3 in /opt/conda/lib/python3.9/site-packages (from phik) (3.3.4)\n",
      "Requirement already satisfied: pillow>=6.2.0 in /opt/conda/lib/python3.9/site-packages (from matplotlib>=2.2.3->phik) (8.4.0)\n",
      "Requirement already satisfied: kiwisolver>=1.0.1 in /opt/conda/lib/python3.9/site-packages (from matplotlib>=2.2.3->phik) (1.4.4)\n",
      "Requirement already satisfied: pyparsing!=2.0.4,!=2.1.2,!=2.1.6,>=2.0.3 in /opt/conda/lib/python3.9/site-packages (from matplotlib>=2.2.3->phik) (2.4.7)\n",
      "Requirement already satisfied: cycler>=0.10 in /opt/conda/lib/python3.9/site-packages (from matplotlib>=2.2.3->phik) (0.11.0)\n",
      "Requirement already satisfied: python-dateutil>=2.1 in /opt/conda/lib/python3.9/site-packages (from matplotlib>=2.2.3->phik) (2.8.1)\n",
      "Requirement already satisfied: pytz>=2017.3 in /opt/conda/lib/python3.9/site-packages (from pandas>=0.25.1->phik) (2021.1)\n",
      "Requirement already satisfied: six>=1.5 in /opt/conda/lib/python3.9/site-packages (from python-dateutil>=2.1->matplotlib>=2.2.3->phik) (1.16.0)\n"
     ]
    }
   ],
   "source": [
    "!pip install scikit-learn==1.1.3\n",
    "!pip install phik"
   ]
  },
  {
   "cell_type": "code",
   "execution_count": 2,
   "metadata": {},
   "outputs": [],
   "source": [
    "import pandas as pd\n",
    "from sklearn.metrics import mean_squared_error\n",
    "from sklearn.model_selection import train_test_split\n",
    "from sklearn.preprocessing import StandardScaler \n",
    "from sklearn.ensemble import RandomForestRegressor\n",
    "from lightgbm import LGBMRegressor\n",
    "import numpy as np\n",
    "from sklearn.linear_model import LinearRegression\n",
    "from sklearn.dummy import DummyRegressor\n",
    "from sklearn.preprocessing import OneHotEncoder\n",
    "from sklearn.preprocessing import OrdinalEncoder\n",
    "from sklearn.compose import make_column_transformer\n",
    "import phik"
   ]
  },
  {
   "cell_type": "code",
   "execution_count": 3,
   "metadata": {},
   "outputs": [
    {
     "name": "stdout",
     "output_type": "stream",
     "text": [
      "<class 'pandas.core.frame.DataFrame'>\n",
      "RangeIndex: 354369 entries, 0 to 354368\n",
      "Data columns (total 16 columns):\n",
      " #   Column             Non-Null Count   Dtype \n",
      "---  ------             --------------   ----- \n",
      " 0   DateCrawled        354369 non-null  object\n",
      " 1   Price              354369 non-null  int64 \n",
      " 2   VehicleType        316879 non-null  object\n",
      " 3   RegistrationYear   354369 non-null  int64 \n",
      " 4   Gearbox            334536 non-null  object\n",
      " 5   Power              354369 non-null  int64 \n",
      " 6   Model              334664 non-null  object\n",
      " 7   Kilometer          354369 non-null  int64 \n",
      " 8   RegistrationMonth  354369 non-null  int64 \n",
      " 9   FuelType           321474 non-null  object\n",
      " 10  Brand              354369 non-null  object\n",
      " 11  Repaired           283215 non-null  object\n",
      " 12  DateCreated        354369 non-null  object\n",
      " 13  NumberOfPictures   354369 non-null  int64 \n",
      " 14  PostalCode         354369 non-null  int64 \n",
      " 15  LastSeen           354369 non-null  object\n",
      "dtypes: int64(7), object(9)\n",
      "memory usage: 43.3+ MB\n",
      "None\n"
     ]
    },
    {
     "data": {
      "text/html": [
       "<div>\n",
       "<style scoped>\n",
       "    .dataframe tbody tr th:only-of-type {\n",
       "        vertical-align: middle;\n",
       "    }\n",
       "\n",
       "    .dataframe tbody tr th {\n",
       "        vertical-align: top;\n",
       "    }\n",
       "\n",
       "    .dataframe thead th {\n",
       "        text-align: right;\n",
       "    }\n",
       "</style>\n",
       "<table border=\"1\" class=\"dataframe\">\n",
       "  <thead>\n",
       "    <tr style=\"text-align: right;\">\n",
       "      <th></th>\n",
       "      <th>DateCrawled</th>\n",
       "      <th>Price</th>\n",
       "      <th>VehicleType</th>\n",
       "      <th>RegistrationYear</th>\n",
       "      <th>Gearbox</th>\n",
       "      <th>Power</th>\n",
       "      <th>Model</th>\n",
       "      <th>Kilometer</th>\n",
       "      <th>RegistrationMonth</th>\n",
       "      <th>FuelType</th>\n",
       "      <th>Brand</th>\n",
       "      <th>Repaired</th>\n",
       "      <th>DateCreated</th>\n",
       "      <th>NumberOfPictures</th>\n",
       "      <th>PostalCode</th>\n",
       "      <th>LastSeen</th>\n",
       "    </tr>\n",
       "  </thead>\n",
       "  <tbody>\n",
       "    <tr>\n",
       "      <th>0</th>\n",
       "      <td>2016-03-24 11:52:17</td>\n",
       "      <td>480</td>\n",
       "      <td>NaN</td>\n",
       "      <td>1993</td>\n",
       "      <td>manual</td>\n",
       "      <td>0</td>\n",
       "      <td>golf</td>\n",
       "      <td>150000</td>\n",
       "      <td>0</td>\n",
       "      <td>petrol</td>\n",
       "      <td>volkswagen</td>\n",
       "      <td>NaN</td>\n",
       "      <td>2016-03-24 00:00:00</td>\n",
       "      <td>0</td>\n",
       "      <td>70435</td>\n",
       "      <td>2016-04-07 03:16:57</td>\n",
       "    </tr>\n",
       "    <tr>\n",
       "      <th>1</th>\n",
       "      <td>2016-03-24 10:58:45</td>\n",
       "      <td>18300</td>\n",
       "      <td>coupe</td>\n",
       "      <td>2011</td>\n",
       "      <td>manual</td>\n",
       "      <td>190</td>\n",
       "      <td>NaN</td>\n",
       "      <td>125000</td>\n",
       "      <td>5</td>\n",
       "      <td>gasoline</td>\n",
       "      <td>audi</td>\n",
       "      <td>yes</td>\n",
       "      <td>2016-03-24 00:00:00</td>\n",
       "      <td>0</td>\n",
       "      <td>66954</td>\n",
       "      <td>2016-04-07 01:46:50</td>\n",
       "    </tr>\n",
       "    <tr>\n",
       "      <th>2</th>\n",
       "      <td>2016-03-14 12:52:21</td>\n",
       "      <td>9800</td>\n",
       "      <td>suv</td>\n",
       "      <td>2004</td>\n",
       "      <td>auto</td>\n",
       "      <td>163</td>\n",
       "      <td>grand</td>\n",
       "      <td>125000</td>\n",
       "      <td>8</td>\n",
       "      <td>gasoline</td>\n",
       "      <td>jeep</td>\n",
       "      <td>NaN</td>\n",
       "      <td>2016-03-14 00:00:00</td>\n",
       "      <td>0</td>\n",
       "      <td>90480</td>\n",
       "      <td>2016-04-05 12:47:46</td>\n",
       "    </tr>\n",
       "    <tr>\n",
       "      <th>3</th>\n",
       "      <td>2016-03-17 16:54:04</td>\n",
       "      <td>1500</td>\n",
       "      <td>small</td>\n",
       "      <td>2001</td>\n",
       "      <td>manual</td>\n",
       "      <td>75</td>\n",
       "      <td>golf</td>\n",
       "      <td>150000</td>\n",
       "      <td>6</td>\n",
       "      <td>petrol</td>\n",
       "      <td>volkswagen</td>\n",
       "      <td>no</td>\n",
       "      <td>2016-03-17 00:00:00</td>\n",
       "      <td>0</td>\n",
       "      <td>91074</td>\n",
       "      <td>2016-03-17 17:40:17</td>\n",
       "    </tr>\n",
       "    <tr>\n",
       "      <th>4</th>\n",
       "      <td>2016-03-31 17:25:20</td>\n",
       "      <td>3600</td>\n",
       "      <td>small</td>\n",
       "      <td>2008</td>\n",
       "      <td>manual</td>\n",
       "      <td>69</td>\n",
       "      <td>fabia</td>\n",
       "      <td>90000</td>\n",
       "      <td>7</td>\n",
       "      <td>gasoline</td>\n",
       "      <td>skoda</td>\n",
       "      <td>no</td>\n",
       "      <td>2016-03-31 00:00:00</td>\n",
       "      <td>0</td>\n",
       "      <td>60437</td>\n",
       "      <td>2016-04-06 10:17:21</td>\n",
       "    </tr>\n",
       "  </tbody>\n",
       "</table>\n",
       "</div>"
      ],
      "text/plain": [
       "           DateCrawled  Price VehicleType  RegistrationYear Gearbox  Power  \\\n",
       "0  2016-03-24 11:52:17    480         NaN              1993  manual      0   \n",
       "1  2016-03-24 10:58:45  18300       coupe              2011  manual    190   \n",
       "2  2016-03-14 12:52:21   9800         suv              2004    auto    163   \n",
       "3  2016-03-17 16:54:04   1500       small              2001  manual     75   \n",
       "4  2016-03-31 17:25:20   3600       small              2008  manual     69   \n",
       "\n",
       "   Model  Kilometer  RegistrationMonth  FuelType       Brand Repaired  \\\n",
       "0   golf     150000                  0    petrol  volkswagen      NaN   \n",
       "1    NaN     125000                  5  gasoline        audi      yes   \n",
       "2  grand     125000                  8  gasoline        jeep      NaN   \n",
       "3   golf     150000                  6    petrol  volkswagen       no   \n",
       "4  fabia      90000                  7  gasoline       skoda       no   \n",
       "\n",
       "           DateCreated  NumberOfPictures  PostalCode             LastSeen  \n",
       "0  2016-03-24 00:00:00                 0       70435  2016-04-07 03:16:57  \n",
       "1  2016-03-24 00:00:00                 0       66954  2016-04-07 01:46:50  \n",
       "2  2016-03-14 00:00:00                 0       90480  2016-04-05 12:47:46  \n",
       "3  2016-03-17 00:00:00                 0       91074  2016-03-17 17:40:17  \n",
       "4  2016-03-31 00:00:00                 0       60437  2016-04-06 10:17:21  "
      ]
     },
     "execution_count": 3,
     "metadata": {},
     "output_type": "execute_result"
    }
   ],
   "source": [
    "df = pd.read_csv('/datasets/autos.csv')\n",
    "print(df.info())\n",
    "df.head(5) #посмотрим содержимое"
   ]
  },
  {
   "cell_type": "markdown",
   "metadata": {},
   "source": [
    "Начнем у удаления неинформативных признаков. Для модели обучения будут не нужны такие признаки как дата регистрации пользователя или дата выгрузки анкеты. Удалим их "
   ]
  },
  {
   "cell_type": "code",
   "execution_count": 4,
   "metadata": {},
   "outputs": [],
   "source": [
    "df_clear = df.drop(['DateCrawled','RegistrationMonth','DateCreated','PostalCode','LastSeen','NumberOfPictures','Model'], axis=1)"
   ]
  },
  {
   "cell_type": "code",
   "execution_count": 5,
   "metadata": {
    "scrolled": true
   },
   "outputs": [
    {
     "name": "stdout",
     "output_type": "stream",
     "text": [
      "<class 'pandas.core.frame.DataFrame'>\n",
      "RangeIndex: 354369 entries, 0 to 354368\n",
      "Data columns (total 9 columns):\n",
      " #   Column            Non-Null Count   Dtype \n",
      "---  ------            --------------   ----- \n",
      " 0   Price             354369 non-null  int64 \n",
      " 1   VehicleType       316879 non-null  object\n",
      " 2   RegistrationYear  354369 non-null  int64 \n",
      " 3   Gearbox           334536 non-null  object\n",
      " 4   Power             354369 non-null  int64 \n",
      " 5   Kilometer         354369 non-null  int64 \n",
      " 6   FuelType          321474 non-null  object\n",
      " 7   Brand             354369 non-null  object\n",
      " 8   Repaired          283215 non-null  object\n",
      "dtypes: int64(4), object(5)\n",
      "memory usage: 24.3+ MB\n",
      "None\n",
      "Price                   0\n",
      "VehicleType         37490\n",
      "RegistrationYear        0\n",
      "Gearbox             19833\n",
      "Power                   0\n",
      "Kilometer               0\n",
      "FuelType            32895\n",
      "Brand                   0\n",
      "Repaired            71154\n",
      "dtype: int64\n"
     ]
    },
    {
     "data": {
      "text/html": [
       "<div>\n",
       "<style scoped>\n",
       "    .dataframe tbody tr th:only-of-type {\n",
       "        vertical-align: middle;\n",
       "    }\n",
       "\n",
       "    .dataframe tbody tr th {\n",
       "        vertical-align: top;\n",
       "    }\n",
       "\n",
       "    .dataframe thead th {\n",
       "        text-align: right;\n",
       "    }\n",
       "</style>\n",
       "<table border=\"1\" class=\"dataframe\">\n",
       "  <thead>\n",
       "    <tr style=\"text-align: right;\">\n",
       "      <th></th>\n",
       "      <th>Price</th>\n",
       "      <th>VehicleType</th>\n",
       "      <th>RegistrationYear</th>\n",
       "      <th>Gearbox</th>\n",
       "      <th>Power</th>\n",
       "      <th>Kilometer</th>\n",
       "      <th>FuelType</th>\n",
       "      <th>Brand</th>\n",
       "      <th>Repaired</th>\n",
       "    </tr>\n",
       "  </thead>\n",
       "  <tbody>\n",
       "    <tr>\n",
       "      <th>0</th>\n",
       "      <td>480</td>\n",
       "      <td>NaN</td>\n",
       "      <td>1993</td>\n",
       "      <td>manual</td>\n",
       "      <td>0</td>\n",
       "      <td>150000</td>\n",
       "      <td>petrol</td>\n",
       "      <td>volkswagen</td>\n",
       "      <td>NaN</td>\n",
       "    </tr>\n",
       "    <tr>\n",
       "      <th>1</th>\n",
       "      <td>18300</td>\n",
       "      <td>coupe</td>\n",
       "      <td>2011</td>\n",
       "      <td>manual</td>\n",
       "      <td>190</td>\n",
       "      <td>125000</td>\n",
       "      <td>gasoline</td>\n",
       "      <td>audi</td>\n",
       "      <td>yes</td>\n",
       "    </tr>\n",
       "    <tr>\n",
       "      <th>2</th>\n",
       "      <td>9800</td>\n",
       "      <td>suv</td>\n",
       "      <td>2004</td>\n",
       "      <td>auto</td>\n",
       "      <td>163</td>\n",
       "      <td>125000</td>\n",
       "      <td>gasoline</td>\n",
       "      <td>jeep</td>\n",
       "      <td>NaN</td>\n",
       "    </tr>\n",
       "    <tr>\n",
       "      <th>3</th>\n",
       "      <td>1500</td>\n",
       "      <td>small</td>\n",
       "      <td>2001</td>\n",
       "      <td>manual</td>\n",
       "      <td>75</td>\n",
       "      <td>150000</td>\n",
       "      <td>petrol</td>\n",
       "      <td>volkswagen</td>\n",
       "      <td>no</td>\n",
       "    </tr>\n",
       "    <tr>\n",
       "      <th>4</th>\n",
       "      <td>3600</td>\n",
       "      <td>small</td>\n",
       "      <td>2008</td>\n",
       "      <td>manual</td>\n",
       "      <td>69</td>\n",
       "      <td>90000</td>\n",
       "      <td>gasoline</td>\n",
       "      <td>skoda</td>\n",
       "      <td>no</td>\n",
       "    </tr>\n",
       "  </tbody>\n",
       "</table>\n",
       "</div>"
      ],
      "text/plain": [
       "   Price VehicleType  RegistrationYear Gearbox  Power  Kilometer  FuelType  \\\n",
       "0    480         NaN              1993  manual      0     150000    petrol   \n",
       "1  18300       coupe              2011  manual    190     125000  gasoline   \n",
       "2   9800         suv              2004    auto    163     125000  gasoline   \n",
       "3   1500       small              2001  manual     75     150000    petrol   \n",
       "4   3600       small              2008  manual     69      90000  gasoline   \n",
       "\n",
       "        Brand Repaired  \n",
       "0  volkswagen      NaN  \n",
       "1        audi      yes  \n",
       "2        jeep      NaN  \n",
       "3  volkswagen       no  \n",
       "4       skoda       no  "
      ]
     },
     "execution_count": 5,
     "metadata": {},
     "output_type": "execute_result"
    }
   ],
   "source": [
    "print(df_clear.info())\n",
    "print(df_clear.isna().sum())\n",
    "df_clear.head(5)"
   ]
  },
  {
   "cell_type": "markdown",
   "metadata": {},
   "source": [
    "Рассмотрим внимательно признаки. Видны пропуски и нули. Нужно очистить данные чтобы модель могла качесвтенно обучиться"
   ]
  },
  {
   "cell_type": "code",
   "execution_count": 6,
   "metadata": {},
   "outputs": [
    {
     "data": {
      "text/plain": [
       "0        10772\n",
       "500       5670\n",
       "1500      5394\n",
       "1000      4649\n",
       "1200      4594\n",
       "         ...  \n",
       "13180        1\n",
       "10879        1\n",
       "2683         1\n",
       "634          1\n",
       "8188         1\n",
       "Name: Price, Length: 3731, dtype: int64"
      ]
     },
     "execution_count": 6,
     "metadata": {},
     "output_type": "execute_result"
    }
   ],
   "source": [
    "df_clear['Price'].value_counts() #мы видим 10772 целевых признака со значением 0. Мы будем строить модель с учителем,\n",
    "#поэтому нам нужны только признаки у которых есть это поле заполненное."
   ]
  },
  {
   "cell_type": "code",
   "execution_count": 7,
   "metadata": {},
   "outputs": [],
   "source": [
    "df_clear = df_clear.query(\"Price > 0\")"
   ]
  },
  {
   "cell_type": "code",
   "execution_count": 8,
   "metadata": {
    "scrolled": true
   },
   "outputs": [
    {
     "data": {
      "text/plain": [
       "2000    23072\n",
       "1999    21995\n",
       "2005    21524\n",
       "2006    19679\n",
       "2001    19654\n",
       "        ...  \n",
       "1949        1\n",
       "2222        1\n",
       "5300        1\n",
       "8888        1\n",
       "2290        1\n",
       "Name: RegistrationYear, Length: 140, dtype: int64"
      ]
     },
     "execution_count": 8,
     "metadata": {},
     "output_type": "execute_result"
    }
   ],
   "source": [
    "df_clear['RegistrationYear'].value_counts() # по правилам авто старше 30 лет не считаются пригодными для ежедневного использования \n",
    "# и могут быть признаны раритетными, я думаю это не цель нашего исследования. Удалим авто страше 1989г и \"свежее\" 2019г"
   ]
  },
  {
   "cell_type": "code",
   "execution_count": 9,
   "metadata": {},
   "outputs": [],
   "source": [
    "df_clear = df_clear.query(\"1988 < RegistrationYear < 2020\")"
   ]
  },
  {
   "cell_type": "code",
   "execution_count": 10,
   "metadata": {
    "scrolled": true
   },
   "outputs": [
    {
     "data": {
      "text/plain": [
       "manual    256306\n",
       "auto       63327\n",
       "Name: Gearbox, dtype: int64"
      ]
     },
     "execution_count": 10,
     "metadata": {},
     "output_type": "execute_result"
    }
   ],
   "source": [
    "df_clear['Gearbox'].value_counts() #аномалий нет"
   ]
  },
  {
   "cell_type": "code",
   "execution_count": 11,
   "metadata": {},
   "outputs": [
    {
     "data": {
      "text/plain": [
       "150000    227125\n",
       "125000     35095\n",
       "100000     13788\n",
       "90000      11047\n",
       "80000       9536\n",
       "70000       8177\n",
       "60000       7087\n",
       "50000       5901\n",
       "40000       4668\n",
       "5000        4611\n",
       "30000       4141\n",
       "20000       3659\n",
       "10000        987\n",
       "Name: Kilometer, dtype: int64"
      ]
     },
     "execution_count": 11,
     "metadata": {},
     "output_type": "execute_result"
    }
   ],
   "source": [
    "df_clear['Kilometer'].value_counts() #аномалий нет"
   ]
  },
  {
   "cell_type": "code",
   "execution_count": 12,
   "metadata": {},
   "outputs": [
    {
     "data": {
      "text/plain": [
       "volkswagen        72612\n",
       "opel              37939\n",
       "bmw               35276\n",
       "mercedes_benz     30052\n",
       "audi              28226\n",
       "ford              24023\n",
       "renault           17277\n",
       "peugeot           10738\n",
       "fiat               9058\n",
       "seat               6713\n",
       "mazda              5436\n",
       "skoda              5410\n",
       "smart              5171\n",
       "citroen            4894\n",
       "nissan             4779\n",
       "toyota             4483\n",
       "hyundai            3531\n",
       "mini               3144\n",
       "volvo              3030\n",
       "mitsubishi         2906\n",
       "honda              2693\n",
       "kia                2406\n",
       "suzuki             2213\n",
       "alfa_romeo         2138\n",
       "sonstige_autos     2026\n",
       "chevrolet          1520\n",
       "chrysler           1338\n",
       "dacia               890\n",
       "daihatsu            771\n",
       "subaru              723\n",
       "jeep                612\n",
       "porsche             572\n",
       "daewoo              533\n",
       "saab                494\n",
       "land_rover          492\n",
       "jaguar              458\n",
       "rover               454\n",
       "lancia              432\n",
       "lada                180\n",
       "trabant             179\n",
       "Name: Brand, dtype: int64"
      ]
     },
     "execution_count": 12,
     "metadata": {},
     "output_type": "execute_result"
    }
   ],
   "source": [
    "df_clear['Brand'].value_counts() #аномалий нет и даже без дубликатов"
   ]
  },
  {
   "cell_type": "code",
   "execution_count": 13,
   "metadata": {},
   "outputs": [
    {
     "data": {
      "text/plain": [
       "0        34494\n",
       "75       23034\n",
       "60       15251\n",
       "150      14086\n",
       "101      12911\n",
       "         ...  \n",
       "2461         1\n",
       "4400         1\n",
       "923          1\n",
       "10910        1\n",
       "6512         1\n",
       "Name: Power, Length: 689, dtype: int64"
      ]
     },
     "execution_count": 13,
     "metadata": {},
     "output_type": "execute_result"
    }
   ],
   "source": [
    "df_clear['Power'].value_counts() # я думаю что параметр слишком важный чтобы оставлять без внимания 0 значения а так же \n",
    "#выбросы за много тысяч. Воозьмем для анализа значения больше 0 и меньше "
   ]
  },
  {
   "cell_type": "code",
   "execution_count": 14,
   "metadata": {},
   "outputs": [],
   "source": [
    "df_clear = df_clear.query(\"0 < Power < 700\") # свыше 700 лошадиных сил уже редкие спорткары. Отсеим их как выбросы"
   ]
  },
  {
   "cell_type": "code",
   "execution_count": 15,
   "metadata": {},
   "outputs": [
    {
     "data": {
      "text/plain": [
       "Price                   0\n",
       "VehicleType         21096\n",
       "RegistrationYear        0\n",
       "Gearbox              5879\n",
       "Power                   0\n",
       "Kilometer               0\n",
       "FuelType            19351\n",
       "Brand                   0\n",
       "Repaired            45805\n",
       "dtype: int64"
      ]
     },
     "execution_count": 15,
     "metadata": {},
     "output_type": "execute_result"
    }
   ],
   "source": [
    "df_clear.isna().sum() # Repaired содержит 45805 пропусков. Но это признак который влияет крайне сильно, мы должны поставить \n",
    "#в приоритет требование заказчика по точности модели и удалить эти признаки"
   ]
  },
  {
   "cell_type": "code",
   "execution_count": 16,
   "metadata": {},
   "outputs": [],
   "source": [
    "df_clear = df_clear.dropna(subset = ['Repaired'])"
   ]
  },
  {
   "cell_type": "code",
   "execution_count": 17,
   "metadata": {
    "scrolled": true
   },
   "outputs": [
    {
     "data": {
      "text/plain": [
       "sedan          70880\n",
       "small          58872\n",
       "wagon          51262\n",
       "bus            23369\n",
       "convertible    16114\n",
       "coupe          11671\n",
       "suv             9646\n",
       "other           1623\n",
       "Name: VehicleType, dtype: int64"
      ]
     },
     "execution_count": 17,
     "metadata": {},
     "output_type": "execute_result"
    }
   ],
   "source": [
    "df_clear['VehicleType'].value_counts() #отмечаем что есть специальное поле other куда можно занести признаки если есть сомнения"
   ]
  },
  {
   "cell_type": "code",
   "execution_count": 18,
   "metadata": {},
   "outputs": [
    {
     "data": {
      "text/plain": [
       "petrol      159966\n",
       "gasoline     78496\n",
       "lpg           3980\n",
       "cng            461\n",
       "hybrid         194\n",
       "electric        69\n",
       "other           55\n",
       "Name: FuelType, dtype: int64"
      ]
     },
     "execution_count": 18,
     "metadata": {},
     "output_type": "execute_result"
    }
   ],
   "source": [
    "df_clear['FuelType'].value_counts() #отмечаем что есть специальное поле other куда можно занести признаки если есть сомнения"
   ]
  },
  {
   "cell_type": "code",
   "execution_count": 19,
   "metadata": {
    "scrolled": true
   },
   "outputs": [
    {
     "data": {
      "text/plain": [
       "Price                   0\n",
       "VehicleType         11771\n",
       "RegistrationYear        0\n",
       "Gearbox              3095\n",
       "Power                   0\n",
       "Kilometer               0\n",
       "FuelType            11987\n",
       "Brand                   0\n",
       "Repaired                0\n",
       "dtype: int64"
      ]
     },
     "execution_count": 19,
     "metadata": {},
     "output_type": "execute_result"
    }
   ],
   "source": [
    "df_clear.isna().sum()"
   ]
  },
  {
   "cell_type": "markdown",
   "metadata": {},
   "source": [
    "В VehicleType пропущено 11771 значений, я их перенесу в значение other, в FuelType пропущено 11987 значений, я их так же перенесу в признак other так как я не могу оставлять Nan, т.к. не все модели работают с ними. Gearbox с 3095 признаками Nan так же перейдет в признак other"
   ]
  },
  {
   "cell_type": "code",
   "execution_count": 20,
   "metadata": {},
   "outputs": [],
   "source": [
    "df_clear['VehicleType'] = df_clear['VehicleType'].fillna('other')\n",
    "df_clear['FuelType'] = df_clear['FuelType'].fillna('other')\n",
    "df_clear['Gearbox'] = df_clear['Gearbox'].fillna('other')"
   ]
  },
  {
   "cell_type": "code",
   "execution_count": 21,
   "metadata": {},
   "outputs": [
    {
     "name": "stdout",
     "output_type": "stream",
     "text": [
      "<class 'pandas.core.frame.DataFrame'>\n",
      "Int64Index: 255208 entries, 1 to 354367\n",
      "Data columns (total 9 columns):\n",
      " #   Column            Non-Null Count   Dtype \n",
      "---  ------            --------------   ----- \n",
      " 0   Price             255208 non-null  int64 \n",
      " 1   VehicleType       255208 non-null  object\n",
      " 2   RegistrationYear  255208 non-null  int64 \n",
      " 3   Gearbox           255208 non-null  object\n",
      " 4   Power             255208 non-null  int64 \n",
      " 5   Kilometer         255208 non-null  int64 \n",
      " 6   FuelType          255208 non-null  object\n",
      " 7   Brand             255208 non-null  object\n",
      " 8   Repaired          255208 non-null  object\n",
      "dtypes: int64(4), object(5)\n",
      "memory usage: 19.5+ MB\n",
      "None\n"
     ]
    },
    {
     "data": {
      "text/plain": [
       "Price               0\n",
       "VehicleType         0\n",
       "RegistrationYear    0\n",
       "Gearbox             0\n",
       "Power               0\n",
       "Kilometer           0\n",
       "FuelType            0\n",
       "Brand               0\n",
       "Repaired            0\n",
       "dtype: int64"
      ]
     },
     "execution_count": 21,
     "metadata": {},
     "output_type": "execute_result"
    }
   ],
   "source": [
    "print(df_clear.info()) #итоговая проверка\n",
    "df_clear.isna().sum()"
   ]
  },
  {
   "cell_type": "code",
   "execution_count": 22,
   "metadata": {
    "scrolled": true
   },
   "outputs": [
    {
     "name": "stdout",
     "output_type": "stream",
     "text": [
      "interval columns not set, guessing: ['Price', 'RegistrationYear', 'Power', 'Kilometer']\n"
     ]
    },
    {
     "data": {
      "text/html": [
       "<div>\n",
       "<style scoped>\n",
       "    .dataframe tbody tr th:only-of-type {\n",
       "        vertical-align: middle;\n",
       "    }\n",
       "\n",
       "    .dataframe tbody tr th {\n",
       "        vertical-align: top;\n",
       "    }\n",
       "\n",
       "    .dataframe thead th {\n",
       "        text-align: right;\n",
       "    }\n",
       "</style>\n",
       "<table border=\"1\" class=\"dataframe\">\n",
       "  <thead>\n",
       "    <tr style=\"text-align: right;\">\n",
       "      <th></th>\n",
       "      <th>Price</th>\n",
       "      <th>VehicleType</th>\n",
       "      <th>RegistrationYear</th>\n",
       "      <th>Gearbox</th>\n",
       "      <th>Power</th>\n",
       "      <th>Kilometer</th>\n",
       "      <th>FuelType</th>\n",
       "      <th>Brand</th>\n",
       "      <th>Repaired</th>\n",
       "    </tr>\n",
       "  </thead>\n",
       "  <tbody>\n",
       "    <tr>\n",
       "      <th>Price</th>\n",
       "      <td>1.000000</td>\n",
       "      <td>0.270908</td>\n",
       "      <td>0.698463</td>\n",
       "      <td>0.289002</td>\n",
       "      <td>0.489917</td>\n",
       "      <td>0.323741</td>\n",
       "      <td>0.265053</td>\n",
       "      <td>0.367295</td>\n",
       "      <td>0.360122</td>\n",
       "    </tr>\n",
       "    <tr>\n",
       "      <th>VehicleType</th>\n",
       "      <td>0.270908</td>\n",
       "      <td>1.000000</td>\n",
       "      <td>0.547790</td>\n",
       "      <td>0.244934</td>\n",
       "      <td>0.481202</td>\n",
       "      <td>0.183336</td>\n",
       "      <td>0.414429</td>\n",
       "      <td>0.630575</td>\n",
       "      <td>0.106072</td>\n",
       "    </tr>\n",
       "    <tr>\n",
       "      <th>RegistrationYear</th>\n",
       "      <td>0.698463</td>\n",
       "      <td>0.547790</td>\n",
       "      <td>1.000000</td>\n",
       "      <td>0.129110</td>\n",
       "      <td>0.233936</td>\n",
       "      <td>0.472356</td>\n",
       "      <td>0.361791</td>\n",
       "      <td>0.300311</td>\n",
       "      <td>0.204745</td>\n",
       "    </tr>\n",
       "    <tr>\n",
       "      <th>Gearbox</th>\n",
       "      <td>0.289002</td>\n",
       "      <td>0.244934</td>\n",
       "      <td>0.129110</td>\n",
       "      <td>1.000000</td>\n",
       "      <td>0.460577</td>\n",
       "      <td>0.044500</td>\n",
       "      <td>0.179451</td>\n",
       "      <td>0.533652</td>\n",
       "      <td>0.021120</td>\n",
       "    </tr>\n",
       "    <tr>\n",
       "      <th>Power</th>\n",
       "      <td>0.489917</td>\n",
       "      <td>0.481202</td>\n",
       "      <td>0.233936</td>\n",
       "      <td>0.460577</td>\n",
       "      <td>1.000000</td>\n",
       "      <td>0.095705</td>\n",
       "      <td>0.208106</td>\n",
       "      <td>0.565660</td>\n",
       "      <td>0.075566</td>\n",
       "    </tr>\n",
       "    <tr>\n",
       "      <th>Kilometer</th>\n",
       "      <td>0.323741</td>\n",
       "      <td>0.183336</td>\n",
       "      <td>0.472356</td>\n",
       "      <td>0.044500</td>\n",
       "      <td>0.095705</td>\n",
       "      <td>1.000000</td>\n",
       "      <td>0.161239</td>\n",
       "      <td>0.268622</td>\n",
       "      <td>0.110121</td>\n",
       "    </tr>\n",
       "    <tr>\n",
       "      <th>FuelType</th>\n",
       "      <td>0.265053</td>\n",
       "      <td>0.414429</td>\n",
       "      <td>0.361791</td>\n",
       "      <td>0.179451</td>\n",
       "      <td>0.208106</td>\n",
       "      <td>0.161239</td>\n",
       "      <td>1.000000</td>\n",
       "      <td>0.290350</td>\n",
       "      <td>0.074810</td>\n",
       "    </tr>\n",
       "    <tr>\n",
       "      <th>Brand</th>\n",
       "      <td>0.367295</td>\n",
       "      <td>0.630575</td>\n",
       "      <td>0.300311</td>\n",
       "      <td>0.533652</td>\n",
       "      <td>0.565660</td>\n",
       "      <td>0.268622</td>\n",
       "      <td>0.290350</td>\n",
       "      <td>1.000000</td>\n",
       "      <td>0.094965</td>\n",
       "    </tr>\n",
       "    <tr>\n",
       "      <th>Repaired</th>\n",
       "      <td>0.360122</td>\n",
       "      <td>0.106072</td>\n",
       "      <td>0.204745</td>\n",
       "      <td>0.021120</td>\n",
       "      <td>0.075566</td>\n",
       "      <td>0.110121</td>\n",
       "      <td>0.074810</td>\n",
       "      <td>0.094965</td>\n",
       "      <td>1.000000</td>\n",
       "    </tr>\n",
       "  </tbody>\n",
       "</table>\n",
       "</div>"
      ],
      "text/plain": [
       "                     Price  VehicleType  RegistrationYear   Gearbox     Power  \\\n",
       "Price             1.000000     0.270908          0.698463  0.289002  0.489917   \n",
       "VehicleType       0.270908     1.000000          0.547790  0.244934  0.481202   \n",
       "RegistrationYear  0.698463     0.547790          1.000000  0.129110  0.233936   \n",
       "Gearbox           0.289002     0.244934          0.129110  1.000000  0.460577   \n",
       "Power             0.489917     0.481202          0.233936  0.460577  1.000000   \n",
       "Kilometer         0.323741     0.183336          0.472356  0.044500  0.095705   \n",
       "FuelType          0.265053     0.414429          0.361791  0.179451  0.208106   \n",
       "Brand             0.367295     0.630575          0.300311  0.533652  0.565660   \n",
       "Repaired          0.360122     0.106072          0.204745  0.021120  0.075566   \n",
       "\n",
       "                  Kilometer  FuelType     Brand  Repaired  \n",
       "Price              0.323741  0.265053  0.367295  0.360122  \n",
       "VehicleType        0.183336  0.414429  0.630575  0.106072  \n",
       "RegistrationYear   0.472356  0.361791  0.300311  0.204745  \n",
       "Gearbox            0.044500  0.179451  0.533652  0.021120  \n",
       "Power              0.095705  0.208106  0.565660  0.075566  \n",
       "Kilometer          1.000000  0.161239  0.268622  0.110121  \n",
       "FuelType           0.161239  1.000000  0.290350  0.074810  \n",
       "Brand              0.268622  0.290350  1.000000  0.094965  \n",
       "Repaired           0.110121  0.074810  0.094965  1.000000  "
      ]
     },
     "execution_count": 22,
     "metadata": {},
     "output_type": "execute_result"
    }
   ],
   "source": [
    "df_clear.phik_matrix()"
   ]
  },
  {
   "cell_type": "markdown",
   "metadata": {},
   "source": [
    "Число Пирсона указывает что наш целевой признак Price больше всего коррелирует с признаком даты регистрации, что указывает на то что мы правильно отсеяли старые варианты, для которых нужна отдельная модель работы. "
   ]
  },
  {
   "cell_type": "markdown",
   "metadata": {},
   "source": [
    "Мы получили очищенные данные, без дублей, пропусков и неинформативных признаков. Подготовка окончена."
   ]
  },
  {
   "cell_type": "markdown",
   "metadata": {},
   "source": [
    "## Обучение моделей"
   ]
  },
  {
   "cell_type": "markdown",
   "metadata": {},
   "source": [
    "Обучим разные модели, одна из которых — LightGBM. Для каждой модели попробуйте разные гиперпараметры. Мы решаем задачу машинного обучения с учителем с целевым параметром Price"
   ]
  },
  {
   "cell_type": "code",
   "execution_count": 24,
   "metadata": {},
   "outputs": [
    {
     "name": "stdout",
     "output_type": "stream",
     "text": [
      "(153124, 8) (51042, 8) (51042, 8)\n"
     ]
    }
   ],
   "source": [
    "target = df_clear['Price']\n",
    "features = df_clear.drop(['Price'], axis=1)\n",
    "\n",
    "features_train, features_valid, target_train, target_valid = train_test_split(\n",
    "    features, target, test_size=0.40, random_state=12345)\n",
    "features_valid, features_test, target_valid, target_test = train_test_split(\n",
    "    features_valid, target_valid, test_size=0.50, random_state=12345) \n",
    "\n",
    "print(features_train.shape,features_valid.shape,features_test.shape)"
   ]
  },
  {
   "cell_type": "markdown",
   "metadata": {},
   "source": [
    "Используем порядковое кодирование признака Brand для случайного леса, имеющего большое количество уникальных значений, и OHE кодирование остальных категориальных признаков."
   ]
  },
  {
   "cell_type": "code",
   "execution_count": 25,
   "metadata": {},
   "outputs": [
    {
     "name": "stdout",
     "output_type": "stream",
     "text": [
      "['VehicleType', 'Gearbox', 'FuelType', 'Brand', 'Repaired']\n"
     ]
    },
    {
     "data": {
      "text/plain": [
       "['VehicleType', 'Gearbox', 'FuelType', 'Repaired']"
      ]
     },
     "execution_count": 25,
     "metadata": {},
     "output_type": "execute_result"
    }
   ],
   "source": [
    "ohe_features_linear = features_train.select_dtypes(include='object').columns.to_list()\n",
    "print(ohe_features_linear) #категориальные признаки для OHE линейной модели\n",
    "\n",
    "ohe_features_forest = ohe_features_linear.copy()\n",
    "ohe_features_forest.remove('Brand')\n",
    "ohe_features_forest #категориальные признаки для OHE случайного леса"
   ]
  },
  {
   "cell_type": "code",
   "execution_count": 26,
   "metadata": {},
   "outputs": [
    {
     "data": {
      "text/plain": [
       "['RegistrationYear', 'Power', 'Kilometer']"
      ]
     },
     "execution_count": 26,
     "metadata": {},
     "output_type": "execute_result"
    }
   ],
   "source": [
    "num_features = features_train.select_dtypes(exclude='object').columns.to_list()\n",
    "num_features #численные признаки"
   ]
  },
  {
   "cell_type": "code",
   "execution_count": 27,
   "metadata": {},
   "outputs": [],
   "source": [
    "features_train_linear = features_train.copy()\n",
    "features_valid_linear = features_valid.copy()"
   ]
  },
  {
   "cell_type": "code",
   "execution_count": 28,
   "metadata": {
    "scrolled": true
   },
   "outputs": [
    {
     "data": {
      "text/html": [
       "<div>\n",
       "<style scoped>\n",
       "    .dataframe tbody tr th:only-of-type {\n",
       "        vertical-align: middle;\n",
       "    }\n",
       "\n",
       "    .dataframe tbody tr th {\n",
       "        vertical-align: top;\n",
       "    }\n",
       "\n",
       "    .dataframe thead th {\n",
       "        text-align: right;\n",
       "    }\n",
       "</style>\n",
       "<table border=\"1\" class=\"dataframe\">\n",
       "  <thead>\n",
       "    <tr style=\"text-align: right;\">\n",
       "      <th></th>\n",
       "      <th>RegistrationYear</th>\n",
       "      <th>Power</th>\n",
       "      <th>Kilometer</th>\n",
       "      <th>VehicleType_convertible</th>\n",
       "      <th>VehicleType_coupe</th>\n",
       "      <th>VehicleType_other</th>\n",
       "      <th>VehicleType_sedan</th>\n",
       "      <th>VehicleType_small</th>\n",
       "      <th>VehicleType_suv</th>\n",
       "      <th>VehicleType_wagon</th>\n",
       "      <th>...</th>\n",
       "      <th>Brand_skoda</th>\n",
       "      <th>Brand_smart</th>\n",
       "      <th>Brand_sonstige_autos</th>\n",
       "      <th>Brand_subaru</th>\n",
       "      <th>Brand_suzuki</th>\n",
       "      <th>Brand_toyota</th>\n",
       "      <th>Brand_trabant</th>\n",
       "      <th>Brand_volkswagen</th>\n",
       "      <th>Brand_volvo</th>\n",
       "      <th>Repaired_yes</th>\n",
       "    </tr>\n",
       "  </thead>\n",
       "  <tbody>\n",
       "    <tr>\n",
       "      <th>308108</th>\n",
       "      <td>-2.039854</td>\n",
       "      <td>0.958868</td>\n",
       "      <td>0.605895</td>\n",
       "      <td>0.0</td>\n",
       "      <td>0.0</td>\n",
       "      <td>0.0</td>\n",
       "      <td>1.0</td>\n",
       "      <td>0.0</td>\n",
       "      <td>0.0</td>\n",
       "      <td>0.0</td>\n",
       "      <td>...</td>\n",
       "      <td>0.0</td>\n",
       "      <td>0.0</td>\n",
       "      <td>0.0</td>\n",
       "      <td>0.0</td>\n",
       "      <td>0.0</td>\n",
       "      <td>0.0</td>\n",
       "      <td>0.0</td>\n",
       "      <td>1.0</td>\n",
       "      <td>0.0</td>\n",
       "      <td>0.0</td>\n",
       "    </tr>\n",
       "    <tr>\n",
       "      <th>203461</th>\n",
       "      <td>-0.490448</td>\n",
       "      <td>0.125784</td>\n",
       "      <td>0.605895</td>\n",
       "      <td>0.0</td>\n",
       "      <td>1.0</td>\n",
       "      <td>0.0</td>\n",
       "      <td>0.0</td>\n",
       "      <td>0.0</td>\n",
       "      <td>0.0</td>\n",
       "      <td>0.0</td>\n",
       "      <td>...</td>\n",
       "      <td>0.0</td>\n",
       "      <td>0.0</td>\n",
       "      <td>0.0</td>\n",
       "      <td>0.0</td>\n",
       "      <td>0.0</td>\n",
       "      <td>0.0</td>\n",
       "      <td>0.0</td>\n",
       "      <td>0.0</td>\n",
       "      <td>0.0</td>\n",
       "      <td>0.0</td>\n",
       "    </tr>\n",
       "    <tr>\n",
       "      <th>246574</th>\n",
       "      <td>-1.351229</td>\n",
       "      <td>-0.873917</td>\n",
       "      <td>0.605895</td>\n",
       "      <td>0.0</td>\n",
       "      <td>0.0</td>\n",
       "      <td>0.0</td>\n",
       "      <td>1.0</td>\n",
       "      <td>0.0</td>\n",
       "      <td>0.0</td>\n",
       "      <td>0.0</td>\n",
       "      <td>...</td>\n",
       "      <td>0.0</td>\n",
       "      <td>0.0</td>\n",
       "      <td>0.0</td>\n",
       "      <td>0.0</td>\n",
       "      <td>0.0</td>\n",
       "      <td>0.0</td>\n",
       "      <td>0.0</td>\n",
       "      <td>1.0</td>\n",
       "      <td>0.0</td>\n",
       "      <td>0.0</td>\n",
       "    </tr>\n",
       "    <tr>\n",
       "      <th>164914</th>\n",
       "      <td>0.714645</td>\n",
       "      <td>-0.910943</td>\n",
       "      <td>-1.294168</td>\n",
       "      <td>0.0</td>\n",
       "      <td>0.0</td>\n",
       "      <td>0.0</td>\n",
       "      <td>0.0</td>\n",
       "      <td>0.0</td>\n",
       "      <td>0.0</td>\n",
       "      <td>1.0</td>\n",
       "      <td>...</td>\n",
       "      <td>0.0</td>\n",
       "      <td>0.0</td>\n",
       "      <td>0.0</td>\n",
       "      <td>0.0</td>\n",
       "      <td>0.0</td>\n",
       "      <td>0.0</td>\n",
       "      <td>0.0</td>\n",
       "      <td>0.0</td>\n",
       "      <td>0.0</td>\n",
       "      <td>0.0</td>\n",
       "    </tr>\n",
       "    <tr>\n",
       "      <th>58066</th>\n",
       "      <td>-1.179073</td>\n",
       "      <td>-0.114885</td>\n",
       "      <td>0.605895</td>\n",
       "      <td>0.0</td>\n",
       "      <td>1.0</td>\n",
       "      <td>0.0</td>\n",
       "      <td>0.0</td>\n",
       "      <td>0.0</td>\n",
       "      <td>0.0</td>\n",
       "      <td>0.0</td>\n",
       "      <td>...</td>\n",
       "      <td>0.0</td>\n",
       "      <td>0.0</td>\n",
       "      <td>0.0</td>\n",
       "      <td>0.0</td>\n",
       "      <td>0.0</td>\n",
       "      <td>0.0</td>\n",
       "      <td>0.0</td>\n",
       "      <td>0.0</td>\n",
       "      <td>0.0</td>\n",
       "      <td>0.0</td>\n",
       "    </tr>\n",
       "  </tbody>\n",
       "</table>\n",
       "<p>5 rows × 58 columns</p>\n",
       "</div>"
      ],
      "text/plain": [
       "        RegistrationYear     Power  Kilometer  VehicleType_convertible  \\\n",
       "308108         -2.039854  0.958868   0.605895                      0.0   \n",
       "203461         -0.490448  0.125784   0.605895                      0.0   \n",
       "246574         -1.351229 -0.873917   0.605895                      0.0   \n",
       "164914          0.714645 -0.910943  -1.294168                      0.0   \n",
       "58066          -1.179073 -0.114885   0.605895                      0.0   \n",
       "\n",
       "        VehicleType_coupe  VehicleType_other  VehicleType_sedan  \\\n",
       "308108                0.0                0.0                1.0   \n",
       "203461                1.0                0.0                0.0   \n",
       "246574                0.0                0.0                1.0   \n",
       "164914                0.0                0.0                0.0   \n",
       "58066                 1.0                0.0                0.0   \n",
       "\n",
       "        VehicleType_small  VehicleType_suv  VehicleType_wagon  ...  \\\n",
       "308108                0.0              0.0                0.0  ...   \n",
       "203461                0.0              0.0                0.0  ...   \n",
       "246574                0.0              0.0                0.0  ...   \n",
       "164914                0.0              0.0                1.0  ...   \n",
       "58066                 0.0              0.0                0.0  ...   \n",
       "\n",
       "        Brand_skoda  Brand_smart  Brand_sonstige_autos  Brand_subaru  \\\n",
       "308108          0.0          0.0                   0.0           0.0   \n",
       "203461          0.0          0.0                   0.0           0.0   \n",
       "246574          0.0          0.0                   0.0           0.0   \n",
       "164914          0.0          0.0                   0.0           0.0   \n",
       "58066           0.0          0.0                   0.0           0.0   \n",
       "\n",
       "        Brand_suzuki  Brand_toyota  Brand_trabant  Brand_volkswagen  \\\n",
       "308108           0.0           0.0            0.0               1.0   \n",
       "203461           0.0           0.0            0.0               0.0   \n",
       "246574           0.0           0.0            0.0               1.0   \n",
       "164914           0.0           0.0            0.0               0.0   \n",
       "58066            0.0           0.0            0.0               0.0   \n",
       "\n",
       "        Brand_volvo  Repaired_yes  \n",
       "308108          0.0           0.0  \n",
       "203461          0.0           0.0  \n",
       "246574          0.0           0.0  \n",
       "164914          0.0           0.0  \n",
       "58066           0.0           0.0  \n",
       "\n",
       "[5 rows x 58 columns]"
      ]
     },
     "execution_count": 28,
     "metadata": {},
     "output_type": "execute_result"
    }
   ],
   "source": [
    "encoder_ohe = OneHotEncoder(drop='first', handle_unknown='ignore', sparse=False)\n",
    "\n",
    "encoder_ohe.fit(features_train_linear[ohe_features_linear]) #обучаем энкодер на заданных категориальных признаках тренировочной выборки\n",
    "\n",
    "features_train_linear[                      #добавляем закодированные признаки в features_train_linear\n",
    "    encoder_ohe.get_feature_names_out()     #encoder_ohe.get_feature_names_out() позволяет получить названия колонок\n",
    "] = encoder_ohe.transform(features_train_linear[ohe_features_linear])\n",
    "\n",
    "features_train_linear = features_train_linear.drop(ohe_features_linear, axis=1) #удаляем изначальные незакодированные признаки\n",
    "\n",
    "scaler = StandardScaler() #создаём скелер\n",
    "features_train_linear[num_features] = scaler.fit_transform(features_train_linear[num_features]) #обучаем его на численных признаках тренировочной выборки, трансформируем её же\n",
    "                          \n",
    "features_train_linear.head(5) #результат"
   ]
  },
  {
   "cell_type": "markdown",
   "metadata": {},
   "source": [
    "Повторяем для выборки на валидацию"
   ]
  },
  {
   "cell_type": "code",
   "execution_count": 29,
   "metadata": {
    "scrolled": true
   },
   "outputs": [
    {
     "data": {
      "text/html": [
       "<div>\n",
       "<style scoped>\n",
       "    .dataframe tbody tr th:only-of-type {\n",
       "        vertical-align: middle;\n",
       "    }\n",
       "\n",
       "    .dataframe tbody tr th {\n",
       "        vertical-align: top;\n",
       "    }\n",
       "\n",
       "    .dataframe thead th {\n",
       "        text-align: right;\n",
       "    }\n",
       "</style>\n",
       "<table border=\"1\" class=\"dataframe\">\n",
       "  <thead>\n",
       "    <tr style=\"text-align: right;\">\n",
       "      <th></th>\n",
       "      <th>RegistrationYear</th>\n",
       "      <th>Power</th>\n",
       "      <th>Kilometer</th>\n",
       "      <th>VehicleType_convertible</th>\n",
       "      <th>VehicleType_coupe</th>\n",
       "      <th>VehicleType_other</th>\n",
       "      <th>VehicleType_sedan</th>\n",
       "      <th>VehicleType_small</th>\n",
       "      <th>VehicleType_suv</th>\n",
       "      <th>VehicleType_wagon</th>\n",
       "      <th>...</th>\n",
       "      <th>Brand_skoda</th>\n",
       "      <th>Brand_smart</th>\n",
       "      <th>Brand_sonstige_autos</th>\n",
       "      <th>Brand_subaru</th>\n",
       "      <th>Brand_suzuki</th>\n",
       "      <th>Brand_toyota</th>\n",
       "      <th>Brand_trabant</th>\n",
       "      <th>Brand_volkswagen</th>\n",
       "      <th>Brand_volvo</th>\n",
       "      <th>Repaired_yes</th>\n",
       "    </tr>\n",
       "  </thead>\n",
       "  <tbody>\n",
       "    <tr>\n",
       "      <th>100408</th>\n",
       "      <td>-1.179073</td>\n",
       "      <td>0.514556</td>\n",
       "      <td>0.605895</td>\n",
       "      <td>0.0</td>\n",
       "      <td>0.0</td>\n",
       "      <td>0.0</td>\n",
       "      <td>0.0</td>\n",
       "      <td>0.0</td>\n",
       "      <td>0.0</td>\n",
       "      <td>1.0</td>\n",
       "      <td>...</td>\n",
       "      <td>0.0</td>\n",
       "      <td>0.0</td>\n",
       "      <td>0.0</td>\n",
       "      <td>0.0</td>\n",
       "      <td>0.0</td>\n",
       "      <td>0.0</td>\n",
       "      <td>0.0</td>\n",
       "      <td>0.0</td>\n",
       "      <td>0.0</td>\n",
       "      <td>0.0</td>\n",
       "    </tr>\n",
       "    <tr>\n",
       "      <th>321499</th>\n",
       "      <td>2.264051</td>\n",
       "      <td>-1.299715</td>\n",
       "      <td>0.605895</td>\n",
       "      <td>0.0</td>\n",
       "      <td>0.0</td>\n",
       "      <td>1.0</td>\n",
       "      <td>0.0</td>\n",
       "      <td>0.0</td>\n",
       "      <td>0.0</td>\n",
       "      <td>0.0</td>\n",
       "      <td>...</td>\n",
       "      <td>0.0</td>\n",
       "      <td>0.0</td>\n",
       "      <td>0.0</td>\n",
       "      <td>0.0</td>\n",
       "      <td>0.0</td>\n",
       "      <td>0.0</td>\n",
       "      <td>0.0</td>\n",
       "      <td>0.0</td>\n",
       "      <td>0.0</td>\n",
       "      <td>1.0</td>\n",
       "    </tr>\n",
       "    <tr>\n",
       "      <th>55966</th>\n",
       "      <td>1.231114</td>\n",
       "      <td>-0.003807</td>\n",
       "      <td>-2.651356</td>\n",
       "      <td>0.0</td>\n",
       "      <td>0.0</td>\n",
       "      <td>0.0</td>\n",
       "      <td>0.0</td>\n",
       "      <td>0.0</td>\n",
       "      <td>1.0</td>\n",
       "      <td>0.0</td>\n",
       "      <td>...</td>\n",
       "      <td>0.0</td>\n",
       "      <td>0.0</td>\n",
       "      <td>0.0</td>\n",
       "      <td>0.0</td>\n",
       "      <td>0.0</td>\n",
       "      <td>0.0</td>\n",
       "      <td>0.0</td>\n",
       "      <td>1.0</td>\n",
       "      <td>0.0</td>\n",
       "      <td>0.0</td>\n",
       "    </tr>\n",
       "    <tr>\n",
       "      <th>325783</th>\n",
       "      <td>-0.834760</td>\n",
       "      <td>1.384666</td>\n",
       "      <td>0.605895</td>\n",
       "      <td>0.0</td>\n",
       "      <td>0.0</td>\n",
       "      <td>0.0</td>\n",
       "      <td>1.0</td>\n",
       "      <td>0.0</td>\n",
       "      <td>0.0</td>\n",
       "      <td>0.0</td>\n",
       "      <td>...</td>\n",
       "      <td>0.0</td>\n",
       "      <td>0.0</td>\n",
       "      <td>0.0</td>\n",
       "      <td>0.0</td>\n",
       "      <td>0.0</td>\n",
       "      <td>0.0</td>\n",
       "      <td>0.0</td>\n",
       "      <td>0.0</td>\n",
       "      <td>0.0</td>\n",
       "      <td>0.0</td>\n",
       "    </tr>\n",
       "    <tr>\n",
       "      <th>285335</th>\n",
       "      <td>-0.662604</td>\n",
       "      <td>-0.003807</td>\n",
       "      <td>0.605895</td>\n",
       "      <td>0.0</td>\n",
       "      <td>0.0</td>\n",
       "      <td>0.0</td>\n",
       "      <td>0.0</td>\n",
       "      <td>0.0</td>\n",
       "      <td>0.0</td>\n",
       "      <td>0.0</td>\n",
       "      <td>...</td>\n",
       "      <td>0.0</td>\n",
       "      <td>0.0</td>\n",
       "      <td>0.0</td>\n",
       "      <td>0.0</td>\n",
       "      <td>0.0</td>\n",
       "      <td>0.0</td>\n",
       "      <td>0.0</td>\n",
       "      <td>0.0</td>\n",
       "      <td>0.0</td>\n",
       "      <td>1.0</td>\n",
       "    </tr>\n",
       "  </tbody>\n",
       "</table>\n",
       "<p>5 rows × 58 columns</p>\n",
       "</div>"
      ],
      "text/plain": [
       "        RegistrationYear     Power  Kilometer  VehicleType_convertible  \\\n",
       "100408         -1.179073  0.514556   0.605895                      0.0   \n",
       "321499          2.264051 -1.299715   0.605895                      0.0   \n",
       "55966           1.231114 -0.003807  -2.651356                      0.0   \n",
       "325783         -0.834760  1.384666   0.605895                      0.0   \n",
       "285335         -0.662604 -0.003807   0.605895                      0.0   \n",
       "\n",
       "        VehicleType_coupe  VehicleType_other  VehicleType_sedan  \\\n",
       "100408                0.0                0.0                0.0   \n",
       "321499                0.0                1.0                0.0   \n",
       "55966                 0.0                0.0                0.0   \n",
       "325783                0.0                0.0                1.0   \n",
       "285335                0.0                0.0                0.0   \n",
       "\n",
       "        VehicleType_small  VehicleType_suv  VehicleType_wagon  ...  \\\n",
       "100408                0.0              0.0                1.0  ...   \n",
       "321499                0.0              0.0                0.0  ...   \n",
       "55966                 0.0              1.0                0.0  ...   \n",
       "325783                0.0              0.0                0.0  ...   \n",
       "285335                0.0              0.0                0.0  ...   \n",
       "\n",
       "        Brand_skoda  Brand_smart  Brand_sonstige_autos  Brand_subaru  \\\n",
       "100408          0.0          0.0                   0.0           0.0   \n",
       "321499          0.0          0.0                   0.0           0.0   \n",
       "55966           0.0          0.0                   0.0           0.0   \n",
       "325783          0.0          0.0                   0.0           0.0   \n",
       "285335          0.0          0.0                   0.0           0.0   \n",
       "\n",
       "        Brand_suzuki  Brand_toyota  Brand_trabant  Brand_volkswagen  \\\n",
       "100408           0.0           0.0            0.0               0.0   \n",
       "321499           0.0           0.0            0.0               0.0   \n",
       "55966            0.0           0.0            0.0               1.0   \n",
       "325783           0.0           0.0            0.0               0.0   \n",
       "285335           0.0           0.0            0.0               0.0   \n",
       "\n",
       "        Brand_volvo  Repaired_yes  \n",
       "100408          0.0           0.0  \n",
       "321499          0.0           1.0  \n",
       "55966           0.0           0.0  \n",
       "325783          0.0           0.0  \n",
       "285335          0.0           1.0  \n",
       "\n",
       "[5 rows x 58 columns]"
      ]
     },
     "execution_count": 29,
     "metadata": {},
     "output_type": "execute_result"
    }
   ],
   "source": [
    "features_valid_linear[\n",
    "    encoder_ohe.get_feature_names_out() \n",
    "] = encoder_ohe.transform(features_valid_linear[ohe_features_linear])\n",
    "\n",
    "features_valid_linear = features_valid_linear.drop(ohe_features_linear, axis=1)\n",
    "\n",
    "features_valid_linear[num_features] = scaler.transform(features_valid_linear[num_features])\n",
    "features_valid_linear.head(5) #результат"
   ]
  },
  {
   "cell_type": "markdown",
   "metadata": {},
   "source": [
    "### Построим модель для линейной регрессии"
   ]
  },
  {
   "cell_type": "code",
   "execution_count": 30,
   "metadata": {},
   "outputs": [
    {
     "name": "stdout",
     "output_type": "stream",
     "text": [
      "CPU times: user 1.36 s, sys: 1.4 s, total: 2.76 s\n",
      "Wall time: 2.73 s\n"
     ]
    }
   ],
   "source": [
    "%%time\n",
    "model_linear = LinearRegression().fit(features_train_linear, target_train)"
   ]
  },
  {
   "cell_type": "code",
   "execution_count": 31,
   "metadata": {},
   "outputs": [
    {
     "name": "stdout",
     "output_type": "stream",
     "text": [
      "Среднеквадратическая ошибка для модели линейной регрессии составляет: 2488.421792808303\n",
      "CPU times: user 42.9 ms, sys: 27.5 ms, total: 70.4 ms\n",
      "Wall time: 31.8 ms\n"
     ]
    }
   ],
   "source": [
    "%%time\n",
    "predictions = model_linear.predict(features_valid_linear)\n",
    "\n",
    "mse = mean_squared_error(target_valid,predictions)\n",
    "rmse_linear = mse**0.5\n",
    "\n",
    "print('Среднеквадратическая ошибка для модели линейной регрессии составляет:', rmse_linear)"
   ]
  },
  {
   "cell_type": "markdown",
   "metadata": {},
   "source": [
    "Для модели линейной регрессии мы получили на валидационной выборке с результат RMSE равным 2488\n",
    "\n",
    "Построим модель для случайного леса"
   ]
  },
  {
   "cell_type": "code",
   "execution_count": 32,
   "metadata": {},
   "outputs": [],
   "source": [
    "features_train_forest = features_train.copy()\n",
    "features_valid_forest = features_valid.copy()"
   ]
  },
  {
   "cell_type": "markdown",
   "metadata": {},
   "source": [
    "Изменим нашу тренировочную выборку применяя ОНЕ для категориальных признаков, а так же порядковое кодирование для столбца Brand в котором много разных категорий которые в будущем так же возможно будут пополняться"
   ]
  },
  {
   "cell_type": "code",
   "execution_count": 33,
   "metadata": {
    "scrolled": true
   },
   "outputs": [
    {
     "data": {
      "text/html": [
       "<div>\n",
       "<style scoped>\n",
       "    .dataframe tbody tr th:only-of-type {\n",
       "        vertical-align: middle;\n",
       "    }\n",
       "\n",
       "    .dataframe tbody tr th {\n",
       "        vertical-align: top;\n",
       "    }\n",
       "\n",
       "    .dataframe thead th {\n",
       "        text-align: right;\n",
       "    }\n",
       "</style>\n",
       "<table border=\"1\" class=\"dataframe\">\n",
       "  <thead>\n",
       "    <tr style=\"text-align: right;\">\n",
       "      <th></th>\n",
       "      <th>onehotencoder__VehicleType_convertible</th>\n",
       "      <th>onehotencoder__VehicleType_coupe</th>\n",
       "      <th>onehotencoder__VehicleType_other</th>\n",
       "      <th>onehotencoder__VehicleType_sedan</th>\n",
       "      <th>onehotencoder__VehicleType_small</th>\n",
       "      <th>onehotencoder__VehicleType_suv</th>\n",
       "      <th>onehotencoder__VehicleType_wagon</th>\n",
       "      <th>onehotencoder__Gearbox_manual</th>\n",
       "      <th>onehotencoder__Gearbox_other</th>\n",
       "      <th>onehotencoder__FuelType_electric</th>\n",
       "      <th>onehotencoder__FuelType_gasoline</th>\n",
       "      <th>onehotencoder__FuelType_hybrid</th>\n",
       "      <th>onehotencoder__FuelType_lpg</th>\n",
       "      <th>onehotencoder__FuelType_other</th>\n",
       "      <th>onehotencoder__FuelType_petrol</th>\n",
       "      <th>onehotencoder__Repaired_yes</th>\n",
       "      <th>ordinalencoder__Brand</th>\n",
       "      <th>standardscaler__RegistrationYear</th>\n",
       "      <th>standardscaler__Power</th>\n",
       "      <th>standardscaler__Kilometer</th>\n",
       "    </tr>\n",
       "  </thead>\n",
       "  <tbody>\n",
       "    <tr>\n",
       "      <th>0</th>\n",
       "      <td>0.0</td>\n",
       "      <td>0.0</td>\n",
       "      <td>0.0</td>\n",
       "      <td>1.0</td>\n",
       "      <td>0.0</td>\n",
       "      <td>0.0</td>\n",
       "      <td>0.0</td>\n",
       "      <td>1.0</td>\n",
       "      <td>0.0</td>\n",
       "      <td>0.0</td>\n",
       "      <td>0.0</td>\n",
       "      <td>0.0</td>\n",
       "      <td>0.0</td>\n",
       "      <td>0.0</td>\n",
       "      <td>1.0</td>\n",
       "      <td>0.0</td>\n",
       "      <td>38.0</td>\n",
       "      <td>-2.039854</td>\n",
       "      <td>0.958868</td>\n",
       "      <td>0.605895</td>\n",
       "    </tr>\n",
       "    <tr>\n",
       "      <th>1</th>\n",
       "      <td>0.0</td>\n",
       "      <td>1.0</td>\n",
       "      <td>0.0</td>\n",
       "      <td>0.0</td>\n",
       "      <td>0.0</td>\n",
       "      <td>0.0</td>\n",
       "      <td>0.0</td>\n",
       "      <td>1.0</td>\n",
       "      <td>0.0</td>\n",
       "      <td>0.0</td>\n",
       "      <td>0.0</td>\n",
       "      <td>0.0</td>\n",
       "      <td>0.0</td>\n",
       "      <td>0.0</td>\n",
       "      <td>1.0</td>\n",
       "      <td>0.0</td>\n",
       "      <td>20.0</td>\n",
       "      <td>-0.490448</td>\n",
       "      <td>0.125784</td>\n",
       "      <td>0.605895</td>\n",
       "    </tr>\n",
       "    <tr>\n",
       "      <th>2</th>\n",
       "      <td>0.0</td>\n",
       "      <td>0.0</td>\n",
       "      <td>0.0</td>\n",
       "      <td>1.0</td>\n",
       "      <td>0.0</td>\n",
       "      <td>0.0</td>\n",
       "      <td>0.0</td>\n",
       "      <td>1.0</td>\n",
       "      <td>0.0</td>\n",
       "      <td>0.0</td>\n",
       "      <td>0.0</td>\n",
       "      <td>0.0</td>\n",
       "      <td>0.0</td>\n",
       "      <td>1.0</td>\n",
       "      <td>0.0</td>\n",
       "      <td>0.0</td>\n",
       "      <td>38.0</td>\n",
       "      <td>-1.351229</td>\n",
       "      <td>-0.873917</td>\n",
       "      <td>0.605895</td>\n",
       "    </tr>\n",
       "    <tr>\n",
       "      <th>3</th>\n",
       "      <td>0.0</td>\n",
       "      <td>0.0</td>\n",
       "      <td>0.0</td>\n",
       "      <td>0.0</td>\n",
       "      <td>0.0</td>\n",
       "      <td>0.0</td>\n",
       "      <td>1.0</td>\n",
       "      <td>1.0</td>\n",
       "      <td>0.0</td>\n",
       "      <td>0.0</td>\n",
       "      <td>0.0</td>\n",
       "      <td>0.0</td>\n",
       "      <td>0.0</td>\n",
       "      <td>0.0</td>\n",
       "      <td>1.0</td>\n",
       "      <td>0.0</td>\n",
       "      <td>25.0</td>\n",
       "      <td>0.714645</td>\n",
       "      <td>-0.910943</td>\n",
       "      <td>-1.294168</td>\n",
       "    </tr>\n",
       "    <tr>\n",
       "      <th>4</th>\n",
       "      <td>0.0</td>\n",
       "      <td>1.0</td>\n",
       "      <td>0.0</td>\n",
       "      <td>0.0</td>\n",
       "      <td>0.0</td>\n",
       "      <td>0.0</td>\n",
       "      <td>0.0</td>\n",
       "      <td>1.0</td>\n",
       "      <td>0.0</td>\n",
       "      <td>0.0</td>\n",
       "      <td>0.0</td>\n",
       "      <td>0.0</td>\n",
       "      <td>0.0</td>\n",
       "      <td>0.0</td>\n",
       "      <td>1.0</td>\n",
       "      <td>0.0</td>\n",
       "      <td>24.0</td>\n",
       "      <td>-1.179073</td>\n",
       "      <td>-0.114885</td>\n",
       "      <td>0.605895</td>\n",
       "    </tr>\n",
       "  </tbody>\n",
       "</table>\n",
       "</div>"
      ],
      "text/plain": [
       "   onehotencoder__VehicleType_convertible  onehotencoder__VehicleType_coupe  \\\n",
       "0                                     0.0                               0.0   \n",
       "1                                     0.0                               1.0   \n",
       "2                                     0.0                               0.0   \n",
       "3                                     0.0                               0.0   \n",
       "4                                     0.0                               1.0   \n",
       "\n",
       "   onehotencoder__VehicleType_other  onehotencoder__VehicleType_sedan  \\\n",
       "0                               0.0                               1.0   \n",
       "1                               0.0                               0.0   \n",
       "2                               0.0                               1.0   \n",
       "3                               0.0                               0.0   \n",
       "4                               0.0                               0.0   \n",
       "\n",
       "   onehotencoder__VehicleType_small  onehotencoder__VehicleType_suv  \\\n",
       "0                               0.0                             0.0   \n",
       "1                               0.0                             0.0   \n",
       "2                               0.0                             0.0   \n",
       "3                               0.0                             0.0   \n",
       "4                               0.0                             0.0   \n",
       "\n",
       "   onehotencoder__VehicleType_wagon  onehotencoder__Gearbox_manual  \\\n",
       "0                               0.0                            1.0   \n",
       "1                               0.0                            1.0   \n",
       "2                               0.0                            1.0   \n",
       "3                               1.0                            1.0   \n",
       "4                               0.0                            1.0   \n",
       "\n",
       "   onehotencoder__Gearbox_other  onehotencoder__FuelType_electric  \\\n",
       "0                           0.0                               0.0   \n",
       "1                           0.0                               0.0   \n",
       "2                           0.0                               0.0   \n",
       "3                           0.0                               0.0   \n",
       "4                           0.0                               0.0   \n",
       "\n",
       "   onehotencoder__FuelType_gasoline  onehotencoder__FuelType_hybrid  \\\n",
       "0                               0.0                             0.0   \n",
       "1                               0.0                             0.0   \n",
       "2                               0.0                             0.0   \n",
       "3                               0.0                             0.0   \n",
       "4                               0.0                             0.0   \n",
       "\n",
       "   onehotencoder__FuelType_lpg  onehotencoder__FuelType_other  \\\n",
       "0                          0.0                            0.0   \n",
       "1                          0.0                            0.0   \n",
       "2                          0.0                            1.0   \n",
       "3                          0.0                            0.0   \n",
       "4                          0.0                            0.0   \n",
       "\n",
       "   onehotencoder__FuelType_petrol  onehotencoder__Repaired_yes  \\\n",
       "0                             1.0                          0.0   \n",
       "1                             1.0                          0.0   \n",
       "2                             0.0                          0.0   \n",
       "3                             1.0                          0.0   \n",
       "4                             1.0                          0.0   \n",
       "\n",
       "   ordinalencoder__Brand  standardscaler__RegistrationYear  \\\n",
       "0                   38.0                         -2.039854   \n",
       "1                   20.0                         -0.490448   \n",
       "2                   38.0                         -1.351229   \n",
       "3                   25.0                          0.714645   \n",
       "4                   24.0                         -1.179073   \n",
       "\n",
       "   standardscaler__Power  standardscaler__Kilometer  \n",
       "0               0.958868                   0.605895  \n",
       "1               0.125784                   0.605895  \n",
       "2              -0.873917                   0.605895  \n",
       "3              -0.910943                  -1.294168  \n",
       "4              -0.114885                   0.605895  "
      ]
     },
     "execution_count": 33,
     "metadata": {},
     "output_type": "execute_result"
    }
   ],
   "source": [
    "col_transformer_forest= make_column_transformer(\n",
    "    (\n",
    "        OneHotEncoder(drop='first', handle_unknown='ignore'), \n",
    "        ohe_features_forest\n",
    "    ),\n",
    "    (\n",
    "        OrdinalEncoder(handle_unknown='use_encoded_value', unknown_value=-1), \n",
    "        ['Brand']\n",
    "    ),\n",
    "    (\n",
    "        StandardScaler(), \n",
    "        num_features\n",
    "    ),\n",
    "    remainder='passthrough'\n",
    ")\n",
    "features_train_forest = pd.DataFrame(\n",
    "    col_transformer_forest.fit_transform(features_train_forest),\n",
    "    columns=col_transformer_forest.get_feature_names_out()\n",
    ")\n",
    "features_train_forest.head(5)"
   ]
  },
  {
   "cell_type": "markdown",
   "metadata": {},
   "source": [
    "Так же трансформируем валидационную выборку"
   ]
  },
  {
   "cell_type": "code",
   "execution_count": 34,
   "metadata": {},
   "outputs": [
    {
     "data": {
      "text/html": [
       "<div>\n",
       "<style scoped>\n",
       "    .dataframe tbody tr th:only-of-type {\n",
       "        vertical-align: middle;\n",
       "    }\n",
       "\n",
       "    .dataframe tbody tr th {\n",
       "        vertical-align: top;\n",
       "    }\n",
       "\n",
       "    .dataframe thead th {\n",
       "        text-align: right;\n",
       "    }\n",
       "</style>\n",
       "<table border=\"1\" class=\"dataframe\">\n",
       "  <thead>\n",
       "    <tr style=\"text-align: right;\">\n",
       "      <th></th>\n",
       "      <th>onehotencoder__VehicleType_convertible</th>\n",
       "      <th>onehotencoder__VehicleType_coupe</th>\n",
       "      <th>onehotencoder__VehicleType_other</th>\n",
       "      <th>onehotencoder__VehicleType_sedan</th>\n",
       "      <th>onehotencoder__VehicleType_small</th>\n",
       "      <th>onehotencoder__VehicleType_suv</th>\n",
       "      <th>onehotencoder__VehicleType_wagon</th>\n",
       "      <th>onehotencoder__Gearbox_manual</th>\n",
       "      <th>onehotencoder__Gearbox_other</th>\n",
       "      <th>onehotencoder__FuelType_electric</th>\n",
       "      <th>onehotencoder__FuelType_gasoline</th>\n",
       "      <th>onehotencoder__FuelType_hybrid</th>\n",
       "      <th>onehotencoder__FuelType_lpg</th>\n",
       "      <th>onehotencoder__FuelType_other</th>\n",
       "      <th>onehotencoder__FuelType_petrol</th>\n",
       "      <th>onehotencoder__Repaired_yes</th>\n",
       "      <th>ordinalencoder__Brand</th>\n",
       "      <th>standardscaler__RegistrationYear</th>\n",
       "      <th>standardscaler__Power</th>\n",
       "      <th>standardscaler__Kilometer</th>\n",
       "    </tr>\n",
       "  </thead>\n",
       "  <tbody>\n",
       "    <tr>\n",
       "      <th>0</th>\n",
       "      <td>0.0</td>\n",
       "      <td>0.0</td>\n",
       "      <td>0.0</td>\n",
       "      <td>0.0</td>\n",
       "      <td>0.0</td>\n",
       "      <td>0.0</td>\n",
       "      <td>1.0</td>\n",
       "      <td>0.0</td>\n",
       "      <td>0.0</td>\n",
       "      <td>0.0</td>\n",
       "      <td>0.0</td>\n",
       "      <td>0.0</td>\n",
       "      <td>0.0</td>\n",
       "      <td>0.0</td>\n",
       "      <td>1.0</td>\n",
       "      <td>0.0</td>\n",
       "      <td>2.0</td>\n",
       "      <td>-1.179073</td>\n",
       "      <td>0.514556</td>\n",
       "      <td>0.605895</td>\n",
       "    </tr>\n",
       "    <tr>\n",
       "      <th>1</th>\n",
       "      <td>0.0</td>\n",
       "      <td>0.0</td>\n",
       "      <td>1.0</td>\n",
       "      <td>0.0</td>\n",
       "      <td>0.0</td>\n",
       "      <td>0.0</td>\n",
       "      <td>0.0</td>\n",
       "      <td>1.0</td>\n",
       "      <td>0.0</td>\n",
       "      <td>0.0</td>\n",
       "      <td>0.0</td>\n",
       "      <td>0.0</td>\n",
       "      <td>0.0</td>\n",
       "      <td>1.0</td>\n",
       "      <td>0.0</td>\n",
       "      <td>1.0</td>\n",
       "      <td>27.0</td>\n",
       "      <td>2.264051</td>\n",
       "      <td>-1.299715</td>\n",
       "      <td>0.605895</td>\n",
       "    </tr>\n",
       "    <tr>\n",
       "      <th>2</th>\n",
       "      <td>0.0</td>\n",
       "      <td>0.0</td>\n",
       "      <td>0.0</td>\n",
       "      <td>0.0</td>\n",
       "      <td>0.0</td>\n",
       "      <td>1.0</td>\n",
       "      <td>0.0</td>\n",
       "      <td>1.0</td>\n",
       "      <td>0.0</td>\n",
       "      <td>0.0</td>\n",
       "      <td>0.0</td>\n",
       "      <td>0.0</td>\n",
       "      <td>0.0</td>\n",
       "      <td>0.0</td>\n",
       "      <td>1.0</td>\n",
       "      <td>0.0</td>\n",
       "      <td>38.0</td>\n",
       "      <td>1.231114</td>\n",
       "      <td>-0.003807</td>\n",
       "      <td>-2.651356</td>\n",
       "    </tr>\n",
       "    <tr>\n",
       "      <th>3</th>\n",
       "      <td>0.0</td>\n",
       "      <td>0.0</td>\n",
       "      <td>0.0</td>\n",
       "      <td>1.0</td>\n",
       "      <td>0.0</td>\n",
       "      <td>0.0</td>\n",
       "      <td>0.0</td>\n",
       "      <td>1.0</td>\n",
       "      <td>0.0</td>\n",
       "      <td>0.0</td>\n",
       "      <td>0.0</td>\n",
       "      <td>0.0</td>\n",
       "      <td>0.0</td>\n",
       "      <td>0.0</td>\n",
       "      <td>1.0</td>\n",
       "      <td>0.0</td>\n",
       "      <td>20.0</td>\n",
       "      <td>-0.834760</td>\n",
       "      <td>1.384666</td>\n",
       "      <td>0.605895</td>\n",
       "    </tr>\n",
       "    <tr>\n",
       "      <th>4</th>\n",
       "      <td>0.0</td>\n",
       "      <td>0.0</td>\n",
       "      <td>0.0</td>\n",
       "      <td>0.0</td>\n",
       "      <td>0.0</td>\n",
       "      <td>0.0</td>\n",
       "      <td>0.0</td>\n",
       "      <td>0.0</td>\n",
       "      <td>0.0</td>\n",
       "      <td>0.0</td>\n",
       "      <td>1.0</td>\n",
       "      <td>0.0</td>\n",
       "      <td>0.0</td>\n",
       "      <td>0.0</td>\n",
       "      <td>0.0</td>\n",
       "      <td>1.0</td>\n",
       "      <td>20.0</td>\n",
       "      <td>-0.662604</td>\n",
       "      <td>-0.003807</td>\n",
       "      <td>0.605895</td>\n",
       "    </tr>\n",
       "  </tbody>\n",
       "</table>\n",
       "</div>"
      ],
      "text/plain": [
       "   onehotencoder__VehicleType_convertible  onehotencoder__VehicleType_coupe  \\\n",
       "0                                     0.0                               0.0   \n",
       "1                                     0.0                               0.0   \n",
       "2                                     0.0                               0.0   \n",
       "3                                     0.0                               0.0   \n",
       "4                                     0.0                               0.0   \n",
       "\n",
       "   onehotencoder__VehicleType_other  onehotencoder__VehicleType_sedan  \\\n",
       "0                               0.0                               0.0   \n",
       "1                               1.0                               0.0   \n",
       "2                               0.0                               0.0   \n",
       "3                               0.0                               1.0   \n",
       "4                               0.0                               0.0   \n",
       "\n",
       "   onehotencoder__VehicleType_small  onehotencoder__VehicleType_suv  \\\n",
       "0                               0.0                             0.0   \n",
       "1                               0.0                             0.0   \n",
       "2                               0.0                             1.0   \n",
       "3                               0.0                             0.0   \n",
       "4                               0.0                             0.0   \n",
       "\n",
       "   onehotencoder__VehicleType_wagon  onehotencoder__Gearbox_manual  \\\n",
       "0                               1.0                            0.0   \n",
       "1                               0.0                            1.0   \n",
       "2                               0.0                            1.0   \n",
       "3                               0.0                            1.0   \n",
       "4                               0.0                            0.0   \n",
       "\n",
       "   onehotencoder__Gearbox_other  onehotencoder__FuelType_electric  \\\n",
       "0                           0.0                               0.0   \n",
       "1                           0.0                               0.0   \n",
       "2                           0.0                               0.0   \n",
       "3                           0.0                               0.0   \n",
       "4                           0.0                               0.0   \n",
       "\n",
       "   onehotencoder__FuelType_gasoline  onehotencoder__FuelType_hybrid  \\\n",
       "0                               0.0                             0.0   \n",
       "1                               0.0                             0.0   \n",
       "2                               0.0                             0.0   \n",
       "3                               0.0                             0.0   \n",
       "4                               1.0                             0.0   \n",
       "\n",
       "   onehotencoder__FuelType_lpg  onehotencoder__FuelType_other  \\\n",
       "0                          0.0                            0.0   \n",
       "1                          0.0                            1.0   \n",
       "2                          0.0                            0.0   \n",
       "3                          0.0                            0.0   \n",
       "4                          0.0                            0.0   \n",
       "\n",
       "   onehotencoder__FuelType_petrol  onehotencoder__Repaired_yes  \\\n",
       "0                             1.0                          0.0   \n",
       "1                             0.0                          1.0   \n",
       "2                             1.0                          0.0   \n",
       "3                             1.0                          0.0   \n",
       "4                             0.0                          1.0   \n",
       "\n",
       "   ordinalencoder__Brand  standardscaler__RegistrationYear  \\\n",
       "0                    2.0                         -1.179073   \n",
       "1                   27.0                          2.264051   \n",
       "2                   38.0                          1.231114   \n",
       "3                   20.0                         -0.834760   \n",
       "4                   20.0                         -0.662604   \n",
       "\n",
       "   standardscaler__Power  standardscaler__Kilometer  \n",
       "0               0.514556                   0.605895  \n",
       "1              -1.299715                   0.605895  \n",
       "2              -0.003807                  -2.651356  \n",
       "3               1.384666                   0.605895  \n",
       "4              -0.003807                   0.605895  "
      ]
     },
     "execution_count": 34,
     "metadata": {},
     "output_type": "execute_result"
    }
   ],
   "source": [
    "features_valid_forest = pd.DataFrame(\n",
    "    col_transformer_forest.transform(features_valid_forest),\n",
    "    columns=col_transformer_forest.get_feature_names_out()\n",
    ")\n",
    "features_valid_forest.head(5)"
   ]
  },
  {
   "cell_type": "markdown",
   "metadata": {},
   "source": [
    "### Построим модель для случайного леса"
   ]
  },
  {
   "cell_type": "code",
   "execution_count": 35,
   "metadata": {},
   "outputs": [
    {
     "name": "stdout",
     "output_type": "stream",
     "text": [
      "max_depth: 17 rmse: 1645.678947186473\n",
      "max_depth: 18 rmse: 1645.0790374575079\n"
     ]
    }
   ],
   "source": [
    "for depth in range(17,19,1):\n",
    "    \n",
    "    model = RandomForestRegressor(max_depth=depth, n_estimators=10, random_state=12345).fit(features_train_forest, target_train)\n",
    "    predictions_valid = model.predict(features_valid_forest)\n",
    "    \n",
    "    print('max_depth:',depth,'rmse:',mean_squared_error(target_valid,predictions_valid)**0.5)"
   ]
  },
  {
   "cell_type": "code",
   "execution_count": 36,
   "metadata": {},
   "outputs": [
    {
     "name": "stdout",
     "output_type": "stream",
     "text": [
      "estimators: 47 rmse: 1616.9666963560117\n",
      "estimators: 49 rmse: 1616.988174012904\n"
     ]
    }
   ],
   "source": [
    "for est in range(47,50,2): \n",
    "    \n",
    "    model = RandomForestRegressor(max_depth=18, n_estimators=est, random_state=12345).fit(features_train_forest, target_train)\n",
    "    predictions_valid = model.predict(features_valid_forest)\n",
    "    \n",
    "    print('estimators:',est,'rmse:',(mean_squared_error(target_valid,predictions_valid))**0.5)"
   ]
  },
  {
   "cell_type": "markdown",
   "metadata": {},
   "source": [
    "Проведем замер времени на обучение предсказание для модели случайного леса с найденными ранее лучшими гиперпараметрами:"
   ]
  },
  {
   "cell_type": "code",
   "execution_count": 37,
   "metadata": {},
   "outputs": [
    {
     "name": "stdout",
     "output_type": "stream",
     "text": [
      "CPU times: user 18.3 s, sys: 14.1 ms, total: 18.3 s\n",
      "Wall time: 18.3 s\n"
     ]
    }
   ],
   "source": [
    "%%time\n",
    "model_forest = RandomForestRegressor(max_depth=18, n_estimators=49, random_state=12345).fit(features_train_forest, target_train)"
   ]
  },
  {
   "cell_type": "code",
   "execution_count": 38,
   "metadata": {},
   "outputs": [
    {
     "name": "stdout",
     "output_type": "stream",
     "text": [
      "estimators: 49 rmse: 1616.988174012904\n",
      "CPU times: user 617 ms, sys: 3.8 ms, total: 621 ms\n",
      "Wall time: 629 ms\n"
     ]
    }
   ],
   "source": [
    "%%time\n",
    "predictions_valid = model_forest.predict(features_valid_forest)\n",
    "rmse_forest = mean_squared_error(target_valid,predictions_valid)**0.5\n",
    "print('estimators:',est,'rmse:', rmse_forest)"
   ]
  },
  {
   "cell_type": "markdown",
   "metadata": {},
   "source": [
    "Лучшее значение случайного леса на валидационной выборке с результатом в RMSE равным 1625 мы получили при гиперпараметрах max_depth=18 и estimators=49. Дальнейшее повышение гиперпараметров приводит к незначительному улучшению модели, но кратно увеличенным затратам времени.\n",
    "\n",
    "### Построим модель LightGBM"
   ]
  },
  {
   "cell_type": "code",
   "execution_count": 39,
   "metadata": {},
   "outputs": [
    {
     "name": "stdout",
     "output_type": "stream",
     "text": [
      "CPU times: user 56.7 s, sys: 970 ms, total: 57.7 s\n",
      "Wall time: 58.1 s\n"
     ]
    }
   ],
   "source": [
    "%%time\n",
    "model_LGBMR = LGBMRegressor(n_jobs=-1).fit(features_train_forest, target_train)"
   ]
  },
  {
   "cell_type": "code",
   "execution_count": 40,
   "metadata": {},
   "outputs": [
    {
     "name": "stdout",
     "output_type": "stream",
     "text": [
      "Среднеквадратическая ошибка для модели LightGBM составляет: 1684.8942684928902\n",
      "CPU times: user 441 ms, sys: 14.2 ms, total: 455 ms\n",
      "Wall time: 416 ms\n"
     ]
    }
   ],
   "source": [
    "%%time\n",
    "predictions_valid = model_LGBMR.predict(features_valid_forest)\n",
    "\n",
    "mse = mean_squared_error(target_valid,predictions_valid)\n",
    "rmse_LGBMR = mse**0.5\n",
    "\n",
    "print('Среднеквадратическая ошибка для модели LightGBM составляет:', rmse_LGBMR)"
   ]
  },
  {
   "cell_type": "markdown",
   "metadata": {},
   "source": [
    "Лучшее значение LightGBM на валидационной выборке с результатом в RMSE равным 1595"
   ]
  },
  {
   "cell_type": "markdown",
   "metadata": {},
   "source": [
    "## Анализ моделей\n",
    "\n",
    "Мы построили несколько моделей для поиска целевого параметра.\n",
    "\n",
    "Линейной регрессия показала на валидационной выборке с результат RMSE равным 2488 , обучение 3 секунды, предсказание 178мс.\n",
    "\n",
    "Лучшее значение случайного леса на валидационной выборке с результатом в RMSE равным 1625 мы получили при гиперпараметрах max_depth=18 и estimators=49, обучение 21 секунда, предсказание 613мс.\n",
    "\n",
    "Лучшее значение LightGBM на валидационной выборке с результатом в RMSE равным 1595, обучение 14 секунд, предсказание 1.78 сек. При том что результат в 1690 был получен за 6с при стандартном num_iterations=100.\n",
    "\n",
    "Как следствие мы можем сделать вывод что модель LightGBM подходит лучше всего для задачи заказчика так как она достаточно быстра и точная для его целей. Используем эту модель на тестовой выборке."
   ]
  },
  {
   "cell_type": "code",
   "execution_count": 41,
   "metadata": {
    "scrolled": true
   },
   "outputs": [
    {
     "data": {
      "text/html": [
       "<div>\n",
       "<style scoped>\n",
       "    .dataframe tbody tr th:only-of-type {\n",
       "        vertical-align: middle;\n",
       "    }\n",
       "\n",
       "    .dataframe tbody tr th {\n",
       "        vertical-align: top;\n",
       "    }\n",
       "\n",
       "    .dataframe thead th {\n",
       "        text-align: right;\n",
       "    }\n",
       "</style>\n",
       "<table border=\"1\" class=\"dataframe\">\n",
       "  <thead>\n",
       "    <tr style=\"text-align: right;\">\n",
       "      <th></th>\n",
       "      <th>Результаты валидационной выборки RMSE</th>\n",
       "    </tr>\n",
       "  </thead>\n",
       "  <tbody>\n",
       "    <tr>\n",
       "      <th>LinearRegression</th>\n",
       "      <td>2488.421793</td>\n",
       "    </tr>\n",
       "    <tr>\n",
       "      <th>RandomForestRegressor</th>\n",
       "      <td>1616.988174</td>\n",
       "    </tr>\n",
       "    <tr>\n",
       "      <th>LGBMRegressor</th>\n",
       "      <td>1684.894268</td>\n",
       "    </tr>\n",
       "  </tbody>\n",
       "</table>\n",
       "</div>"
      ],
      "text/plain": [
       "                       Результаты валидационной выборки RMSE\n",
       "LinearRegression                                 2488.421793\n",
       "RandomForestRegressor                            1616.988174\n",
       "LGBMRegressor                                    1684.894268"
      ]
     },
     "execution_count": 41,
     "metadata": {},
     "output_type": "execute_result"
    }
   ],
   "source": [
    "result = pd.DataFrame(\n",
    "    [rmse_linear, rmse_forest, rmse_LGBMR], \n",
    "    index=['LinearRegression', 'RandomForestRegressor', 'LGBMRegressor'], \n",
    "    columns=['Результаты валидационной выборки RMSE']\n",
    ")\n",
    "result"
   ]
  },
  {
   "cell_type": "markdown",
   "metadata": {},
   "source": [
    "LGBMRegressor на тестовой выборке"
   ]
  },
  {
   "cell_type": "code",
   "execution_count": 42,
   "metadata": {},
   "outputs": [],
   "source": [
    "features_test_forest = features_test.copy()"
   ]
  },
  {
   "cell_type": "code",
   "execution_count": 43,
   "metadata": {},
   "outputs": [
    {
     "data": {
      "text/html": [
       "<div>\n",
       "<style scoped>\n",
       "    .dataframe tbody tr th:only-of-type {\n",
       "        vertical-align: middle;\n",
       "    }\n",
       "\n",
       "    .dataframe tbody tr th {\n",
       "        vertical-align: top;\n",
       "    }\n",
       "\n",
       "    .dataframe thead th {\n",
       "        text-align: right;\n",
       "    }\n",
       "</style>\n",
       "<table border=\"1\" class=\"dataframe\">\n",
       "  <thead>\n",
       "    <tr style=\"text-align: right;\">\n",
       "      <th></th>\n",
       "      <th>onehotencoder__VehicleType_convertible</th>\n",
       "      <th>onehotencoder__VehicleType_coupe</th>\n",
       "      <th>onehotencoder__VehicleType_other</th>\n",
       "      <th>onehotencoder__VehicleType_sedan</th>\n",
       "      <th>onehotencoder__VehicleType_small</th>\n",
       "      <th>onehotencoder__VehicleType_suv</th>\n",
       "      <th>onehotencoder__VehicleType_wagon</th>\n",
       "      <th>onehotencoder__Gearbox_manual</th>\n",
       "      <th>onehotencoder__Gearbox_other</th>\n",
       "      <th>onehotencoder__FuelType_electric</th>\n",
       "      <th>onehotencoder__FuelType_gasoline</th>\n",
       "      <th>onehotencoder__FuelType_hybrid</th>\n",
       "      <th>onehotencoder__FuelType_lpg</th>\n",
       "      <th>onehotencoder__FuelType_other</th>\n",
       "      <th>onehotencoder__FuelType_petrol</th>\n",
       "      <th>onehotencoder__Repaired_yes</th>\n",
       "      <th>ordinalencoder__Brand</th>\n",
       "      <th>standardscaler__RegistrationYear</th>\n",
       "      <th>standardscaler__Power</th>\n",
       "      <th>standardscaler__Kilometer</th>\n",
       "    </tr>\n",
       "  </thead>\n",
       "  <tbody>\n",
       "    <tr>\n",
       "      <th>0</th>\n",
       "      <td>0.0</td>\n",
       "      <td>0.0</td>\n",
       "      <td>0.0</td>\n",
       "      <td>1.0</td>\n",
       "      <td>0.0</td>\n",
       "      <td>0.0</td>\n",
       "      <td>0.0</td>\n",
       "      <td>1.0</td>\n",
       "      <td>0.0</td>\n",
       "      <td>0.0</td>\n",
       "      <td>1.0</td>\n",
       "      <td>0.0</td>\n",
       "      <td>0.0</td>\n",
       "      <td>0.0</td>\n",
       "      <td>0.0</td>\n",
       "      <td>0.0</td>\n",
       "      <td>20.0</td>\n",
       "      <td>-2.384166</td>\n",
       "      <td>-0.873917</td>\n",
       "      <td>0.605895</td>\n",
       "    </tr>\n",
       "    <tr>\n",
       "      <th>1</th>\n",
       "      <td>0.0</td>\n",
       "      <td>0.0</td>\n",
       "      <td>0.0</td>\n",
       "      <td>1.0</td>\n",
       "      <td>0.0</td>\n",
       "      <td>0.0</td>\n",
       "      <td>0.0</td>\n",
       "      <td>1.0</td>\n",
       "      <td>0.0</td>\n",
       "      <td>0.0</td>\n",
       "      <td>1.0</td>\n",
       "      <td>0.0</td>\n",
       "      <td>0.0</td>\n",
       "      <td>0.0</td>\n",
       "      <td>0.0</td>\n",
       "      <td>0.0</td>\n",
       "      <td>24.0</td>\n",
       "      <td>0.542489</td>\n",
       "      <td>0.514556</td>\n",
       "      <td>-0.072699</td>\n",
       "    </tr>\n",
       "    <tr>\n",
       "      <th>2</th>\n",
       "      <td>0.0</td>\n",
       "      <td>0.0</td>\n",
       "      <td>0.0</td>\n",
       "      <td>1.0</td>\n",
       "      <td>0.0</td>\n",
       "      <td>0.0</td>\n",
       "      <td>0.0</td>\n",
       "      <td>1.0</td>\n",
       "      <td>0.0</td>\n",
       "      <td>0.0</td>\n",
       "      <td>0.0</td>\n",
       "      <td>0.0</td>\n",
       "      <td>0.0</td>\n",
       "      <td>0.0</td>\n",
       "      <td>1.0</td>\n",
       "      <td>0.0</td>\n",
       "      <td>27.0</td>\n",
       "      <td>0.026021</td>\n",
       "      <td>0.792251</td>\n",
       "      <td>-0.072699</td>\n",
       "    </tr>\n",
       "    <tr>\n",
       "      <th>3</th>\n",
       "      <td>0.0</td>\n",
       "      <td>0.0</td>\n",
       "      <td>0.0</td>\n",
       "      <td>0.0</td>\n",
       "      <td>0.0</td>\n",
       "      <td>0.0</td>\n",
       "      <td>1.0</td>\n",
       "      <td>1.0</td>\n",
       "      <td>0.0</td>\n",
       "      <td>0.0</td>\n",
       "      <td>1.0</td>\n",
       "      <td>0.0</td>\n",
       "      <td>0.0</td>\n",
       "      <td>0.0</td>\n",
       "      <td>0.0</td>\n",
       "      <td>0.0</td>\n",
       "      <td>2.0</td>\n",
       "      <td>1.058958</td>\n",
       "      <td>1.143998</td>\n",
       "      <td>-1.294168</td>\n",
       "    </tr>\n",
       "    <tr>\n",
       "      <th>4</th>\n",
       "      <td>0.0</td>\n",
       "      <td>0.0</td>\n",
       "      <td>0.0</td>\n",
       "      <td>0.0</td>\n",
       "      <td>1.0</td>\n",
       "      <td>0.0</td>\n",
       "      <td>0.0</td>\n",
       "      <td>1.0</td>\n",
       "      <td>0.0</td>\n",
       "      <td>0.0</td>\n",
       "      <td>1.0</td>\n",
       "      <td>0.0</td>\n",
       "      <td>0.0</td>\n",
       "      <td>0.0</td>\n",
       "      <td>0.0</td>\n",
       "      <td>0.0</td>\n",
       "      <td>36.0</td>\n",
       "      <td>0.198177</td>\n",
       "      <td>-0.873917</td>\n",
       "      <td>0.605895</td>\n",
       "    </tr>\n",
       "  </tbody>\n",
       "</table>\n",
       "</div>"
      ],
      "text/plain": [
       "   onehotencoder__VehicleType_convertible  onehotencoder__VehicleType_coupe  \\\n",
       "0                                     0.0                               0.0   \n",
       "1                                     0.0                               0.0   \n",
       "2                                     0.0                               0.0   \n",
       "3                                     0.0                               0.0   \n",
       "4                                     0.0                               0.0   \n",
       "\n",
       "   onehotencoder__VehicleType_other  onehotencoder__VehicleType_sedan  \\\n",
       "0                               0.0                               1.0   \n",
       "1                               0.0                               1.0   \n",
       "2                               0.0                               1.0   \n",
       "3                               0.0                               0.0   \n",
       "4                               0.0                               0.0   \n",
       "\n",
       "   onehotencoder__VehicleType_small  onehotencoder__VehicleType_suv  \\\n",
       "0                               0.0                             0.0   \n",
       "1                               0.0                             0.0   \n",
       "2                               0.0                             0.0   \n",
       "3                               0.0                             0.0   \n",
       "4                               1.0                             0.0   \n",
       "\n",
       "   onehotencoder__VehicleType_wagon  onehotencoder__Gearbox_manual  \\\n",
       "0                               0.0                            1.0   \n",
       "1                               0.0                            1.0   \n",
       "2                               0.0                            1.0   \n",
       "3                               1.0                            1.0   \n",
       "4                               0.0                            1.0   \n",
       "\n",
       "   onehotencoder__Gearbox_other  onehotencoder__FuelType_electric  \\\n",
       "0                           0.0                               0.0   \n",
       "1                           0.0                               0.0   \n",
       "2                           0.0                               0.0   \n",
       "3                           0.0                               0.0   \n",
       "4                           0.0                               0.0   \n",
       "\n",
       "   onehotencoder__FuelType_gasoline  onehotencoder__FuelType_hybrid  \\\n",
       "0                               1.0                             0.0   \n",
       "1                               1.0                             0.0   \n",
       "2                               0.0                             0.0   \n",
       "3                               1.0                             0.0   \n",
       "4                               1.0                             0.0   \n",
       "\n",
       "   onehotencoder__FuelType_lpg  onehotencoder__FuelType_other  \\\n",
       "0                          0.0                            0.0   \n",
       "1                          0.0                            0.0   \n",
       "2                          0.0                            0.0   \n",
       "3                          0.0                            0.0   \n",
       "4                          0.0                            0.0   \n",
       "\n",
       "   onehotencoder__FuelType_petrol  onehotencoder__Repaired_yes  \\\n",
       "0                             0.0                          0.0   \n",
       "1                             0.0                          0.0   \n",
       "2                             1.0                          0.0   \n",
       "3                             0.0                          0.0   \n",
       "4                             0.0                          0.0   \n",
       "\n",
       "   ordinalencoder__Brand  standardscaler__RegistrationYear  \\\n",
       "0                   20.0                         -2.384166   \n",
       "1                   24.0                          0.542489   \n",
       "2                   27.0                          0.026021   \n",
       "3                    2.0                          1.058958   \n",
       "4                   36.0                          0.198177   \n",
       "\n",
       "   standardscaler__Power  standardscaler__Kilometer  \n",
       "0              -0.873917                   0.605895  \n",
       "1               0.514556                  -0.072699  \n",
       "2               0.792251                  -0.072699  \n",
       "3               1.143998                  -1.294168  \n",
       "4              -0.873917                   0.605895  "
      ]
     },
     "execution_count": 43,
     "metadata": {},
     "output_type": "execute_result"
    }
   ],
   "source": [
    "features_test_forest = pd.DataFrame(\n",
    "    col_transformer_forest.transform(features_test_forest),\n",
    "    columns=col_transformer_forest.get_feature_names_out()\n",
    ")\n",
    "features_test_forest.head(5)"
   ]
  },
  {
   "cell_type": "code",
   "execution_count": 44,
   "metadata": {},
   "outputs": [
    {
     "name": "stdout",
     "output_type": "stream",
     "text": [
      "CPU times: user 38 s, sys: 665 ms, total: 38.7 s\n",
      "Wall time: 39 s\n"
     ]
    }
   ],
   "source": [
    "%%time\n",
    "model = LGBMRegressor(n_jobs=-1).fit(features_train_forest, target_train)"
   ]
  },
  {
   "cell_type": "code",
   "execution_count": 45,
   "metadata": {},
   "outputs": [
    {
     "name": "stdout",
     "output_type": "stream",
     "text": [
      "Среднеквадратическая ошибка для модели LightGBM составляет: 1686.963324831109\n",
      "CPU times: user 400 ms, sys: 23.7 ms, total: 423 ms\n",
      "Wall time: 405 ms\n"
     ]
    }
   ],
   "source": [
    "%%time\n",
    "predictions_valid = model.predict(features_test_forest)\n",
    "\n",
    "mse = mean_squared_error(target_test,predictions_valid)\n",
    "rmse = mse**0.5\n",
    "\n",
    "print('Среднеквадратическая ошибка для модели LightGBM составляет:', rmse)"
   ]
  },
  {
   "cell_type": "markdown",
   "metadata": {},
   "source": [
    "Лучшее значение LightGBM на тестовой выборке с результатом в RMSE равным 1687. \n",
    "\n",
    "Сравним наш резульат со стандартным результатом рассчета Дамми регрессора."
   ]
  },
  {
   "cell_type": "code",
   "execution_count": 46,
   "metadata": {},
   "outputs": [
    {
     "name": "stdout",
     "output_type": "stream",
     "text": [
      "Среднеквадратическая ошибка для модели Дамми составляет: 4649.776124182614\n"
     ]
    }
   ],
   "source": [
    "dummy_regr = DummyRegressor(strategy=\"mean\")\n",
    "dummy_regr.fit(features_train, target_train)\n",
    "DummyRegressor()\n",
    "dummy_regr_predict = dummy_regr.predict(features_test)\n",
    "mse = mean_squared_error(target_test,dummy_regr_predict)\n",
    "rmse = mse**0.5\n",
    "print('Среднеквадратическая ошибка для модели Дамми составляет:', rmse)"
   ]
  },
  {
   "cell_type": "markdown",
   "metadata": {},
   "source": [
    "Значение Дамми на тестовой выборке с результатом в RMSE равным 4650. Что существенно хуже нашей модели."
   ]
  },
  {
   "cell_type": "markdown",
   "metadata": {},
   "source": [
    "## Вывод\n",
    "\n",
    "Сервис по продаже автомобилей с пробегом «Не бит, не крашен» разрабатывает приложение для привлечения новых клиентов. В нём можно быстро узнать рыночную стоимость своего автомобиля. В нашем распоряжении исторические данные: технические характеристики, комплектации и цены автомобилей. Нам нужно построить модель для определения стоимости. \n",
    "\n",
    "Заказчику важны:\n",
    "\n",
    "- качество предсказания;\n",
    "- скорость предсказания;\n",
    "- время обучения.\n",
    "\n",
    "1) Мы провели подготовку данных, удалили неинформативые признаки, убрали нули и пустые строки и аномалии\n",
    "\n",
    "2) Мы построили несколько моделей для поиска целевого параметра.\n",
    "\n",
    "Линейной регрессия показала на валидационной выборке с результат RMSE равным 2481 за 620мс\n",
    "\n",
    "Лучшее значение случайного леса на валидационной выборке с результатом в RMSE равным 1668 мы получили при гиперпараметрах max_depth=18 и estimators=49 за 30с без учета потраченного времени на перебор параметров.\n",
    "\n",
    "Лучшее значение LightGBM на валидационной выборке с результатом в RMSE равным 1591 мы получили за 36с. При том что результат в 1690 был получен за 3с при стандартном num_iterations=100.\n",
    "\n",
    "3) Как следствие мы можем сделать вывод что модель LightGBM подходит лучше всего для задачи заказчика так как она достаточно быстра и точная для его целей. Используем эту модель на тестовой выборке. \n",
    "\n",
    "Лучшее значение LightGBM на тестовой выборке с результатом в RMSE равным 1687.\n",
    "\n",
    "Мы сравнили наш результат с Дамми тестом чтобы оценить адекватность нашего результата. Значение Дамми на тестовой выборке с результатом в RMSE равным 4650. Что существенно хуже нашей модели."
   ]
  }
 ],
 "metadata": {
  "ExecuteTimeLog": [
   {
    "duration": 501,
    "start_time": "2023-06-07T15:29:28.478Z"
   },
   {
    "duration": 65,
    "start_time": "2023-06-07T15:30:03.062Z"
   },
   {
    "duration": 1228,
    "start_time": "2023-06-07T15:30:09.280Z"
   },
   {
    "duration": 34,
    "start_time": "2023-06-07T15:30:14.206Z"
   },
   {
    "duration": 798,
    "start_time": "2023-06-07T15:30:50.779Z"
   },
   {
    "duration": 84,
    "start_time": "2023-06-07T15:34:42.620Z"
   },
   {
    "duration": 898,
    "start_time": "2023-06-07T15:35:16.799Z"
   },
   {
    "duration": 95,
    "start_time": "2023-06-07T15:45:02.925Z"
   },
   {
    "duration": 86,
    "start_time": "2023-06-07T15:45:48.355Z"
   },
   {
    "duration": 34,
    "start_time": "2023-06-07T15:46:20.008Z"
   },
   {
    "duration": 15,
    "start_time": "2023-06-07T15:46:39.629Z"
   },
   {
    "duration": 17,
    "start_time": "2023-06-07T15:46:52.265Z"
   },
   {
    "duration": 8,
    "start_time": "2023-06-07T15:55:37.622Z"
   },
   {
    "duration": 78,
    "start_time": "2023-06-07T15:56:01.807Z"
   },
   {
    "duration": 7,
    "start_time": "2023-06-07T15:57:25.623Z"
   },
   {
    "duration": 51,
    "start_time": "2023-06-07T15:57:38.542Z"
   },
   {
    "duration": 7,
    "start_time": "2023-06-07T15:58:11.679Z"
   },
   {
    "duration": 246,
    "start_time": "2023-06-07T15:59:28.268Z"
   },
   {
    "duration": 11,
    "start_time": "2023-06-07T16:00:14.223Z"
   },
   {
    "duration": 11,
    "start_time": "2023-06-07T16:00:18.592Z"
   },
   {
    "duration": 209,
    "start_time": "2023-06-07T16:02:18.217Z"
   },
   {
    "duration": 9,
    "start_time": "2023-06-07T16:02:41.132Z"
   },
   {
    "duration": 8,
    "start_time": "2023-06-07T16:05:19.330Z"
   },
   {
    "duration": 8,
    "start_time": "2023-06-07T16:05:40.193Z"
   },
   {
    "duration": 9,
    "start_time": "2023-06-07T16:05:54.894Z"
   },
   {
    "duration": 8,
    "start_time": "2023-06-07T16:06:48.813Z"
   },
   {
    "duration": 32,
    "start_time": "2023-06-07T16:06:59.109Z"
   },
   {
    "duration": 83,
    "start_time": "2023-06-07T16:07:15.429Z"
   },
   {
    "duration": 40,
    "start_time": "2023-06-07T16:07:20.678Z"
   },
   {
    "duration": 20,
    "start_time": "2023-06-07T16:08:01.576Z"
   },
   {
    "duration": 11,
    "start_time": "2023-06-07T16:08:08.282Z"
   },
   {
    "duration": 371,
    "start_time": "2023-06-07T16:08:20.707Z"
   },
   {
    "duration": 807,
    "start_time": "2023-06-07T16:08:21.079Z"
   },
   {
    "duration": 22,
    "start_time": "2023-06-07T16:08:21.888Z"
   },
   {
    "duration": 127,
    "start_time": "2023-06-07T16:08:21.912Z"
   },
   {
    "duration": 12,
    "start_time": "2023-06-07T16:08:22.041Z"
   },
   {
    "duration": 45,
    "start_time": "2023-06-07T16:08:22.054Z"
   },
   {
    "duration": 15,
    "start_time": "2023-06-07T16:08:22.100Z"
   },
   {
    "duration": 28,
    "start_time": "2023-06-07T16:08:58.793Z"
   },
   {
    "duration": 28,
    "start_time": "2023-06-07T16:10:50.684Z"
   },
   {
    "duration": 8,
    "start_time": "2023-06-07T16:11:14.896Z"
   },
   {
    "duration": 8,
    "start_time": "2023-06-07T16:12:31.302Z"
   },
   {
    "duration": 12,
    "start_time": "2023-06-07T16:13:28.487Z"
   },
   {
    "duration": 6,
    "start_time": "2023-06-07T16:13:40.473Z"
   },
   {
    "duration": 370,
    "start_time": "2023-06-07T16:14:03.191Z"
   },
   {
    "duration": 838,
    "start_time": "2023-06-07T16:14:03.563Z"
   },
   {
    "duration": 23,
    "start_time": "2023-06-07T16:14:04.403Z"
   },
   {
    "duration": 137,
    "start_time": "2023-06-07T16:14:04.427Z"
   },
   {
    "duration": 12,
    "start_time": "2023-06-07T16:14:04.565Z"
   },
   {
    "duration": 72,
    "start_time": "2023-06-07T16:14:04.579Z"
   },
   {
    "duration": 8,
    "start_time": "2023-06-07T16:14:04.652Z"
   },
   {
    "duration": 74,
    "start_time": "2023-06-07T16:14:04.662Z"
   },
   {
    "duration": 5,
    "start_time": "2023-06-07T16:14:04.737Z"
   },
   {
    "duration": 32,
    "start_time": "2023-06-07T16:14:04.745Z"
   },
   {
    "duration": 373,
    "start_time": "2023-06-07T16:14:30.086Z"
   },
   {
    "duration": 824,
    "start_time": "2023-06-07T16:14:30.461Z"
   },
   {
    "duration": 24,
    "start_time": "2023-06-07T16:14:31.287Z"
   },
   {
    "duration": 133,
    "start_time": "2023-06-07T16:14:31.312Z"
   },
   {
    "duration": 13,
    "start_time": "2023-06-07T16:14:31.447Z"
   },
   {
    "duration": 58,
    "start_time": "2023-06-07T16:14:31.461Z"
   },
   {
    "duration": 11,
    "start_time": "2023-06-07T16:14:31.521Z"
   },
   {
    "duration": 75,
    "start_time": "2023-06-07T16:14:31.534Z"
   },
   {
    "duration": 9,
    "start_time": "2023-06-07T16:14:31.611Z"
   },
   {
    "duration": 76,
    "start_time": "2023-06-07T16:14:31.622Z"
   },
   {
    "duration": 7,
    "start_time": "2023-06-07T16:18:49.065Z"
   },
   {
    "duration": 43,
    "start_time": "2023-06-07T16:19:23.862Z"
   },
   {
    "duration": 10,
    "start_time": "2023-06-07T16:19:33.534Z"
   },
   {
    "duration": 8,
    "start_time": "2023-06-07T16:19:38.776Z"
   },
   {
    "duration": 9,
    "start_time": "2023-06-07T16:19:42.889Z"
   },
   {
    "duration": 21,
    "start_time": "2023-06-07T16:19:48.168Z"
   },
   {
    "duration": 16,
    "start_time": "2023-06-07T16:19:54.323Z"
   },
   {
    "duration": 10,
    "start_time": "2023-06-07T16:19:57.883Z"
   },
   {
    "duration": 13,
    "start_time": "2023-06-07T16:20:02.944Z"
   },
   {
    "duration": 403,
    "start_time": "2023-06-07T16:20:27.871Z"
   },
   {
    "duration": 859,
    "start_time": "2023-06-07T16:20:28.275Z"
   },
   {
    "duration": 24,
    "start_time": "2023-06-07T16:20:29.135Z"
   },
   {
    "duration": 97,
    "start_time": "2023-06-07T16:20:29.161Z"
   },
   {
    "duration": 13,
    "start_time": "2023-06-07T16:20:29.260Z"
   },
   {
    "duration": 41,
    "start_time": "2023-06-07T16:20:29.275Z"
   },
   {
    "duration": 9,
    "start_time": "2023-06-07T16:20:29.317Z"
   },
   {
    "duration": 58,
    "start_time": "2023-06-07T16:20:29.327Z"
   },
   {
    "duration": 8,
    "start_time": "2023-06-07T16:20:29.386Z"
   },
   {
    "duration": 18,
    "start_time": "2023-06-07T16:20:29.396Z"
   },
   {
    "duration": 28,
    "start_time": "2023-06-07T16:20:29.416Z"
   },
   {
    "duration": 390,
    "start_time": "2023-06-07T16:21:10.971Z"
   },
   {
    "duration": 804,
    "start_time": "2023-06-07T16:21:11.363Z"
   },
   {
    "duration": 23,
    "start_time": "2023-06-07T16:21:12.168Z"
   },
   {
    "duration": 76,
    "start_time": "2023-06-07T16:21:12.193Z"
   },
   {
    "duration": 13,
    "start_time": "2023-06-07T16:21:12.284Z"
   },
   {
    "duration": 42,
    "start_time": "2023-06-07T16:21:12.299Z"
   },
   {
    "duration": 8,
    "start_time": "2023-06-07T16:21:12.342Z"
   },
   {
    "duration": 44,
    "start_time": "2023-06-07T16:21:12.351Z"
   },
   {
    "duration": 7,
    "start_time": "2023-06-07T16:21:12.397Z"
   },
   {
    "duration": 102,
    "start_time": "2023-06-07T16:21:12.405Z"
   },
   {
    "duration": 26,
    "start_time": "2023-06-07T16:21:12.509Z"
   },
   {
    "duration": 31,
    "start_time": "2023-06-07T16:22:37.072Z"
   },
   {
    "duration": 7,
    "start_time": "2023-06-07T16:24:01.630Z"
   },
   {
    "duration": 367,
    "start_time": "2023-06-07T16:24:12.499Z"
   },
   {
    "duration": 839,
    "start_time": "2023-06-07T16:24:12.868Z"
   },
   {
    "duration": 22,
    "start_time": "2023-06-07T16:24:13.709Z"
   },
   {
    "duration": 95,
    "start_time": "2023-06-07T16:24:13.733Z"
   },
   {
    "duration": 12,
    "start_time": "2023-06-07T16:24:13.830Z"
   },
   {
    "duration": 47,
    "start_time": "2023-06-07T16:24:13.843Z"
   },
   {
    "duration": 8,
    "start_time": "2023-06-07T16:24:13.892Z"
   },
   {
    "duration": 38,
    "start_time": "2023-06-07T16:24:13.902Z"
   },
   {
    "duration": 16,
    "start_time": "2023-06-07T16:24:13.941Z"
   },
   {
    "duration": 45,
    "start_time": "2023-06-07T16:24:13.958Z"
   },
   {
    "duration": 29,
    "start_time": "2023-06-07T16:24:54.635Z"
   },
   {
    "duration": 26,
    "start_time": "2023-06-07T16:25:11.223Z"
   },
   {
    "duration": 7,
    "start_time": "2023-06-07T16:25:53.123Z"
   },
   {
    "duration": 51,
    "start_time": "2023-06-07T16:26:20.185Z"
   },
   {
    "duration": 51,
    "start_time": "2023-06-07T16:27:15.980Z"
   },
   {
    "duration": 27,
    "start_time": "2023-06-07T16:28:12.733Z"
   },
   {
    "duration": 48,
    "start_time": "2023-06-07T16:29:43.504Z"
   },
   {
    "duration": 8,
    "start_time": "2023-06-07T16:30:19.774Z"
   },
   {
    "duration": 75,
    "start_time": "2023-06-07T16:31:27.962Z"
   },
   {
    "duration": 20,
    "start_time": "2023-06-07T16:31:40.678Z"
   },
   {
    "duration": 26,
    "start_time": "2023-06-07T16:39:43.515Z"
   },
   {
    "duration": 40,
    "start_time": "2023-06-07T16:39:51.100Z"
   },
   {
    "duration": 32,
    "start_time": "2023-06-07T16:40:36.157Z"
   },
   {
    "duration": 42,
    "start_time": "2023-06-07T16:41:19.223Z"
   },
   {
    "duration": 39,
    "start_time": "2023-06-07T16:41:24.693Z"
   },
   {
    "duration": 43,
    "start_time": "2023-06-07T16:41:30.329Z"
   },
   {
    "duration": 40,
    "start_time": "2023-06-07T16:41:34.857Z"
   },
   {
    "duration": 36,
    "start_time": "2023-06-07T16:41:38.126Z"
   },
   {
    "duration": 371,
    "start_time": "2023-06-07T16:45:29.705Z"
   },
   {
    "duration": 820,
    "start_time": "2023-06-07T16:45:30.078Z"
   },
   {
    "duration": 21,
    "start_time": "2023-06-07T16:45:30.899Z"
   },
   {
    "duration": 109,
    "start_time": "2023-06-07T16:45:30.922Z"
   },
   {
    "duration": 24,
    "start_time": "2023-06-07T16:45:31.034Z"
   },
   {
    "duration": 78,
    "start_time": "2023-06-07T16:45:31.060Z"
   },
   {
    "duration": 35,
    "start_time": "2023-06-07T16:45:31.140Z"
   },
   {
    "duration": 67,
    "start_time": "2023-06-07T16:45:31.177Z"
   },
   {
    "duration": 26,
    "start_time": "2023-06-07T16:45:31.245Z"
   },
   {
    "duration": 47,
    "start_time": "2023-06-07T16:45:31.273Z"
   },
   {
    "duration": 61,
    "start_time": "2023-06-07T16:45:31.321Z"
   },
   {
    "duration": 38,
    "start_time": "2023-06-07T16:45:31.384Z"
   },
   {
    "duration": 82,
    "start_time": "2023-06-07T16:45:31.424Z"
   },
   {
    "duration": 48,
    "start_time": "2023-06-07T16:45:31.508Z"
   },
   {
    "duration": 29,
    "start_time": "2023-06-07T16:45:31.558Z"
   },
   {
    "duration": 49,
    "start_time": "2023-06-07T16:45:31.589Z"
   },
   {
    "duration": 27,
    "start_time": "2023-06-07T16:51:13.548Z"
   },
   {
    "duration": 27,
    "start_time": "2023-06-07T16:52:17.982Z"
   },
   {
    "duration": 371,
    "start_time": "2023-06-07T16:53:37.495Z"
   },
   {
    "duration": 810,
    "start_time": "2023-06-07T16:53:37.867Z"
   },
   {
    "duration": 22,
    "start_time": "2023-06-07T16:53:38.678Z"
   },
   {
    "duration": 75,
    "start_time": "2023-06-07T16:53:38.702Z"
   },
   {
    "duration": 17,
    "start_time": "2023-06-07T16:53:38.778Z"
   },
   {
    "duration": 31,
    "start_time": "2023-06-07T16:53:38.796Z"
   },
   {
    "duration": 8,
    "start_time": "2023-06-07T16:53:38.829Z"
   },
   {
    "duration": 47,
    "start_time": "2023-06-07T16:53:38.838Z"
   },
   {
    "duration": 26,
    "start_time": "2023-06-07T16:53:38.886Z"
   },
   {
    "duration": 7,
    "start_time": "2023-06-07T16:53:38.914Z"
   },
   {
    "duration": 27,
    "start_time": "2023-06-07T16:53:38.922Z"
   },
   {
    "duration": 9,
    "start_time": "2023-06-07T16:53:38.950Z"
   },
   {
    "duration": 46,
    "start_time": "2023-06-07T16:53:38.960Z"
   },
   {
    "duration": 47,
    "start_time": "2023-06-07T16:53:39.007Z"
   },
   {
    "duration": 37,
    "start_time": "2023-06-07T16:53:39.055Z"
   },
   {
    "duration": 30,
    "start_time": "2023-06-07T16:53:39.094Z"
   },
   {
    "duration": 13,
    "start_time": "2023-06-07T16:54:16.429Z"
   },
   {
    "duration": 23,
    "start_time": "2023-06-07T16:55:08.988Z"
   },
   {
    "duration": 55,
    "start_time": "2023-06-07T16:55:54.671Z"
   },
   {
    "duration": 48,
    "start_time": "2023-06-07T16:56:03.717Z"
   },
   {
    "duration": 364,
    "start_time": "2023-06-07T16:57:35.011Z"
   },
   {
    "duration": 839,
    "start_time": "2023-06-07T16:57:35.376Z"
   },
   {
    "duration": 21,
    "start_time": "2023-06-07T16:57:36.217Z"
   },
   {
    "duration": 80,
    "start_time": "2023-06-07T16:57:36.240Z"
   },
   {
    "duration": 13,
    "start_time": "2023-06-07T16:57:36.321Z"
   },
   {
    "duration": 31,
    "start_time": "2023-06-07T16:57:36.335Z"
   },
   {
    "duration": 10,
    "start_time": "2023-06-07T16:57:36.385Z"
   },
   {
    "duration": 36,
    "start_time": "2023-06-07T16:57:36.397Z"
   },
   {
    "duration": 49,
    "start_time": "2023-06-07T16:57:36.435Z"
   },
   {
    "duration": 28,
    "start_time": "2023-06-07T16:57:36.486Z"
   },
   {
    "duration": 42,
    "start_time": "2023-06-07T16:57:36.516Z"
   },
   {
    "duration": 20,
    "start_time": "2023-06-07T16:57:36.560Z"
   },
   {
    "duration": 33,
    "start_time": "2023-06-07T16:57:36.583Z"
   },
   {
    "duration": 49,
    "start_time": "2023-06-07T16:57:36.618Z"
   },
   {
    "duration": 34,
    "start_time": "2023-06-07T16:57:36.669Z"
   },
   {
    "duration": 24,
    "start_time": "2023-06-07T16:57:36.705Z"
   },
   {
    "duration": 25,
    "start_time": "2023-06-07T16:57:36.730Z"
   },
   {
    "duration": 413,
    "start_time": "2023-06-07T16:58:36.068Z"
   },
   {
    "duration": 799,
    "start_time": "2023-06-07T16:58:36.482Z"
   },
   {
    "duration": 19,
    "start_time": "2023-06-07T16:58:37.282Z"
   },
   {
    "duration": 119,
    "start_time": "2023-06-07T16:58:37.303Z"
   },
   {
    "duration": 7,
    "start_time": "2023-06-07T16:58:37.424Z"
   },
   {
    "duration": 26,
    "start_time": "2023-06-07T16:58:37.432Z"
   },
   {
    "duration": 26,
    "start_time": "2023-06-07T16:58:37.459Z"
   },
   {
    "duration": 28,
    "start_time": "2023-06-07T16:58:37.486Z"
   },
   {
    "duration": 25,
    "start_time": "2023-06-07T16:58:37.516Z"
   },
   {
    "duration": 15,
    "start_time": "2023-06-07T16:58:37.542Z"
   },
   {
    "duration": 37,
    "start_time": "2023-06-07T16:58:37.559Z"
   },
   {
    "duration": 10,
    "start_time": "2023-06-07T16:58:37.598Z"
   },
   {
    "duration": 26,
    "start_time": "2023-06-07T16:58:37.609Z"
   },
   {
    "duration": 59,
    "start_time": "2023-06-07T16:58:37.636Z"
   },
   {
    "duration": 24,
    "start_time": "2023-06-07T16:58:37.697Z"
   },
   {
    "duration": 25,
    "start_time": "2023-06-07T16:58:37.722Z"
   },
   {
    "duration": 39,
    "start_time": "2023-06-07T16:58:37.748Z"
   },
   {
    "duration": 405,
    "start_time": "2023-06-07T19:26:16.063Z"
   },
   {
    "duration": 807,
    "start_time": "2023-06-07T19:26:16.470Z"
   },
   {
    "duration": 19,
    "start_time": "2023-06-07T19:26:17.284Z"
   },
   {
    "duration": 121,
    "start_time": "2023-06-07T19:26:17.306Z"
   },
   {
    "duration": 9,
    "start_time": "2023-06-07T19:26:17.429Z"
   },
   {
    "duration": 44,
    "start_time": "2023-06-07T19:26:17.440Z"
   },
   {
    "duration": 9,
    "start_time": "2023-06-07T19:26:17.486Z"
   },
   {
    "duration": 30,
    "start_time": "2023-06-07T19:26:17.497Z"
   },
   {
    "duration": 26,
    "start_time": "2023-06-07T19:26:17.529Z"
   },
   {
    "duration": 27,
    "start_time": "2023-06-07T19:26:17.558Z"
   },
   {
    "duration": 28,
    "start_time": "2023-06-07T19:26:17.587Z"
   },
   {
    "duration": 14,
    "start_time": "2023-06-07T19:26:17.617Z"
   },
   {
    "duration": 69,
    "start_time": "2023-06-07T19:26:17.632Z"
   },
   {
    "duration": 48,
    "start_time": "2023-06-07T19:26:17.703Z"
   },
   {
    "duration": 35,
    "start_time": "2023-06-07T19:26:17.752Z"
   },
   {
    "duration": 25,
    "start_time": "2023-06-07T19:26:17.788Z"
   },
   {
    "duration": 41,
    "start_time": "2023-06-07T19:26:17.814Z"
   },
   {
    "duration": 4,
    "start_time": "2023-06-07T19:29:10.814Z"
   },
   {
    "duration": 16,
    "start_time": "2023-06-07T19:29:23.021Z"
   },
   {
    "duration": 47,
    "start_time": "2023-06-07T19:29:41.348Z"
   },
   {
    "duration": 13,
    "start_time": "2023-06-07T19:33:41.567Z"
   },
   {
    "duration": 12,
    "start_time": "2023-06-07T19:33:44.260Z"
   },
   {
    "duration": 600,
    "start_time": "2023-06-07T19:33:50.584Z"
   },
   {
    "duration": 0,
    "start_time": "2023-06-07T19:33:51.185Z"
   },
   {
    "duration": 410,
    "start_time": "2023-06-07T19:33:56.876Z"
   },
   {
    "duration": 891,
    "start_time": "2023-06-07T19:33:57.289Z"
   },
   {
    "duration": 23,
    "start_time": "2023-06-07T19:33:58.182Z"
   },
   {
    "duration": 138,
    "start_time": "2023-06-07T19:33:58.207Z"
   },
   {
    "duration": 11,
    "start_time": "2023-06-07T19:33:58.347Z"
   },
   {
    "duration": 49,
    "start_time": "2023-06-07T19:33:58.360Z"
   },
   {
    "duration": 15,
    "start_time": "2023-06-07T19:33:58.410Z"
   },
   {
    "duration": 72,
    "start_time": "2023-06-07T19:33:58.426Z"
   },
   {
    "duration": 42,
    "start_time": "2023-06-07T19:33:58.500Z"
   },
   {
    "duration": 7,
    "start_time": "2023-06-07T19:33:58.543Z"
   },
   {
    "duration": 34,
    "start_time": "2023-06-07T19:33:58.551Z"
   },
   {
    "duration": 10,
    "start_time": "2023-06-07T19:33:58.586Z"
   },
   {
    "duration": 32,
    "start_time": "2023-06-07T19:33:58.597Z"
   },
   {
    "duration": 65,
    "start_time": "2023-06-07T19:33:58.632Z"
   },
   {
    "duration": 17,
    "start_time": "2023-06-07T19:33:58.699Z"
   },
   {
    "duration": 11,
    "start_time": "2023-06-07T19:33:58.718Z"
   },
   {
    "duration": 648,
    "start_time": "2023-06-07T19:33:58.731Z"
   },
   {
    "duration": 0,
    "start_time": "2023-06-07T19:33:59.380Z"
   },
   {
    "duration": 0,
    "start_time": "2023-06-07T19:33:59.381Z"
   },
   {
    "duration": 350,
    "start_time": "2023-06-07T19:34:47.628Z"
   },
   {
    "duration": 809,
    "start_time": "2023-06-07T19:34:47.980Z"
   },
   {
    "duration": 19,
    "start_time": "2023-06-07T19:34:48.790Z"
   },
   {
    "duration": 146,
    "start_time": "2023-06-07T19:34:48.811Z"
   },
   {
    "duration": 8,
    "start_time": "2023-06-07T19:34:48.959Z"
   },
   {
    "duration": 49,
    "start_time": "2023-06-07T19:34:48.968Z"
   },
   {
    "duration": 8,
    "start_time": "2023-06-07T19:34:49.018Z"
   },
   {
    "duration": 64,
    "start_time": "2023-06-07T19:34:49.027Z"
   },
   {
    "duration": 30,
    "start_time": "2023-06-07T19:34:49.092Z"
   },
   {
    "duration": 12,
    "start_time": "2023-06-07T19:34:49.124Z"
   },
   {
    "duration": 33,
    "start_time": "2023-06-07T19:34:49.137Z"
   },
   {
    "duration": 31,
    "start_time": "2023-06-07T19:34:49.171Z"
   },
   {
    "duration": 35,
    "start_time": "2023-06-07T19:34:49.203Z"
   },
   {
    "duration": 46,
    "start_time": "2023-06-07T19:34:49.241Z"
   },
   {
    "duration": 44,
    "start_time": "2023-06-07T19:34:49.288Z"
   },
   {
    "duration": 40,
    "start_time": "2023-06-07T19:34:49.333Z"
   },
   {
    "duration": 21,
    "start_time": "2023-06-07T19:34:49.374Z"
   },
   {
    "duration": 24,
    "start_time": "2023-06-07T19:34:49.396Z"
   },
   {
    "duration": 29,
    "start_time": "2023-06-07T19:34:49.421Z"
   },
   {
    "duration": 13,
    "start_time": "2023-06-07T19:37:00.814Z"
   },
   {
    "duration": 46,
    "start_time": "2023-06-07T19:37:37.580Z"
   },
   {
    "duration": 332,
    "start_time": "2023-06-07T19:38:19.932Z"
   },
   {
    "duration": 830,
    "start_time": "2023-06-07T19:38:20.266Z"
   },
   {
    "duration": 18,
    "start_time": "2023-06-07T19:38:21.097Z"
   },
   {
    "duration": 125,
    "start_time": "2023-06-07T19:38:21.116Z"
   },
   {
    "duration": 8,
    "start_time": "2023-06-07T19:38:21.243Z"
   },
   {
    "duration": 41,
    "start_time": "2023-06-07T19:38:21.252Z"
   },
   {
    "duration": 8,
    "start_time": "2023-06-07T19:38:21.294Z"
   },
   {
    "duration": 32,
    "start_time": "2023-06-07T19:38:21.303Z"
   },
   {
    "duration": 26,
    "start_time": "2023-06-07T19:38:21.336Z"
   },
   {
    "duration": 8,
    "start_time": "2023-06-07T19:38:21.363Z"
   },
   {
    "duration": 29,
    "start_time": "2023-06-07T19:38:21.384Z"
   },
   {
    "duration": 11,
    "start_time": "2023-06-07T19:38:21.414Z"
   },
   {
    "duration": 40,
    "start_time": "2023-06-07T19:38:21.426Z"
   },
   {
    "duration": 52,
    "start_time": "2023-06-07T19:38:21.468Z"
   },
   {
    "duration": 76,
    "start_time": "2023-06-07T19:38:21.521Z"
   },
   {
    "duration": 21,
    "start_time": "2023-06-07T19:38:21.598Z"
   },
   {
    "duration": 47,
    "start_time": "2023-06-07T19:38:21.620Z"
   },
   {
    "duration": 41,
    "start_time": "2023-06-07T19:39:02.729Z"
   },
   {
    "duration": 12,
    "start_time": "2023-06-07T19:46:13.272Z"
   },
   {
    "duration": 39,
    "start_time": "2023-06-07T19:46:15.572Z"
   },
   {
    "duration": 395,
    "start_time": "2023-06-07T19:46:34.374Z"
   },
   {
    "duration": 822,
    "start_time": "2023-06-07T19:46:34.770Z"
   },
   {
    "duration": 21,
    "start_time": "2023-06-07T19:46:35.594Z"
   },
   {
    "duration": 133,
    "start_time": "2023-06-07T19:46:35.616Z"
   },
   {
    "duration": 9,
    "start_time": "2023-06-07T19:46:35.751Z"
   },
   {
    "duration": 41,
    "start_time": "2023-06-07T19:46:35.761Z"
   },
   {
    "duration": 9,
    "start_time": "2023-06-07T19:46:35.804Z"
   },
   {
    "duration": 35,
    "start_time": "2023-06-07T19:46:35.814Z"
   },
   {
    "duration": 35,
    "start_time": "2023-06-07T19:46:35.850Z"
   },
   {
    "duration": 17,
    "start_time": "2023-06-07T19:46:35.887Z"
   },
   {
    "duration": 45,
    "start_time": "2023-06-07T19:46:35.906Z"
   },
   {
    "duration": 18,
    "start_time": "2023-06-07T19:46:35.953Z"
   },
   {
    "duration": 36,
    "start_time": "2023-06-07T19:46:35.973Z"
   },
   {
    "duration": 65,
    "start_time": "2023-06-07T19:46:36.012Z"
   },
   {
    "duration": 46,
    "start_time": "2023-06-07T19:46:36.084Z"
   },
   {
    "duration": 23,
    "start_time": "2023-06-07T19:46:36.132Z"
   },
   {
    "duration": 31,
    "start_time": "2023-06-07T19:46:36.156Z"
   },
   {
    "duration": 53,
    "start_time": "2023-06-07T19:46:36.189Z"
   },
   {
    "duration": 17,
    "start_time": "2023-06-07T19:46:36.243Z"
   },
   {
    "duration": 29,
    "start_time": "2023-06-07T19:46:36.261Z"
   },
   {
    "duration": 42,
    "start_time": "2023-06-07T19:46:36.291Z"
   },
   {
    "duration": 342,
    "start_time": "2023-06-07T19:47:23.526Z"
   },
   {
    "duration": 877,
    "start_time": "2023-06-07T19:47:23.870Z"
   },
   {
    "duration": 20,
    "start_time": "2023-06-07T19:47:24.749Z"
   },
   {
    "duration": 153,
    "start_time": "2023-06-07T19:47:24.771Z"
   },
   {
    "duration": 10,
    "start_time": "2023-06-07T19:47:24.927Z"
   },
   {
    "duration": 70,
    "start_time": "2023-06-07T19:47:24.939Z"
   },
   {
    "duration": 24,
    "start_time": "2023-06-07T19:47:25.011Z"
   },
   {
    "duration": 156,
    "start_time": "2023-06-07T19:47:25.037Z"
   },
   {
    "duration": 29,
    "start_time": "2023-06-07T19:47:25.194Z"
   },
   {
    "duration": 24,
    "start_time": "2023-06-07T19:47:25.224Z"
   },
   {
    "duration": 31,
    "start_time": "2023-06-07T19:47:25.250Z"
   },
   {
    "duration": 12,
    "start_time": "2023-06-07T19:47:25.284Z"
   },
   {
    "duration": 29,
    "start_time": "2023-06-07T19:47:25.297Z"
   },
   {
    "duration": 63,
    "start_time": "2023-06-07T19:47:25.329Z"
   },
   {
    "duration": 38,
    "start_time": "2023-06-07T19:47:25.393Z"
   },
   {
    "duration": 23,
    "start_time": "2023-06-07T19:47:25.433Z"
   },
   {
    "duration": 40,
    "start_time": "2023-06-07T19:47:25.459Z"
   },
   {
    "duration": 47,
    "start_time": "2023-06-07T19:47:25.500Z"
   },
   {
    "duration": 50,
    "start_time": "2023-06-07T19:47:25.549Z"
   },
   {
    "duration": 45,
    "start_time": "2023-06-07T19:47:25.601Z"
   },
   {
    "duration": 87,
    "start_time": "2023-06-07T19:49:22.182Z"
   },
   {
    "duration": 79,
    "start_time": "2023-06-07T19:49:32.044Z"
   },
   {
    "duration": 80,
    "start_time": "2023-06-07T19:51:47.375Z"
   },
   {
    "duration": 1006,
    "start_time": "2023-06-07T20:12:01.516Z"
   },
   {
    "duration": 819,
    "start_time": "2023-06-07T20:12:02.524Z"
   },
   {
    "duration": 20,
    "start_time": "2023-06-07T20:12:03.344Z"
   },
   {
    "duration": 130,
    "start_time": "2023-06-07T20:12:03.366Z"
   },
   {
    "duration": 10,
    "start_time": "2023-06-07T20:12:03.497Z"
   },
   {
    "duration": 70,
    "start_time": "2023-06-07T20:12:03.509Z"
   },
   {
    "duration": 14,
    "start_time": "2023-06-07T20:12:03.580Z"
   },
   {
    "duration": 41,
    "start_time": "2023-06-07T20:12:03.595Z"
   },
   {
    "duration": 26,
    "start_time": "2023-06-07T20:12:03.637Z"
   },
   {
    "duration": 9,
    "start_time": "2023-06-07T20:12:03.665Z"
   },
   {
    "duration": 31,
    "start_time": "2023-06-07T20:12:03.675Z"
   },
   {
    "duration": 8,
    "start_time": "2023-06-07T20:12:03.708Z"
   },
   {
    "duration": 27,
    "start_time": "2023-06-07T20:12:03.718Z"
   },
   {
    "duration": 61,
    "start_time": "2023-06-07T20:12:03.747Z"
   },
   {
    "duration": 50,
    "start_time": "2023-06-07T20:12:03.809Z"
   },
   {
    "duration": 25,
    "start_time": "2023-06-07T20:12:03.860Z"
   },
   {
    "duration": 31,
    "start_time": "2023-06-07T20:12:03.887Z"
   },
   {
    "duration": 53,
    "start_time": "2023-06-07T20:12:03.920Z"
   },
   {
    "duration": 42,
    "start_time": "2023-06-07T20:12:03.975Z"
   },
   {
    "duration": 81,
    "start_time": "2023-06-07T20:12:04.018Z"
   },
   {
    "duration": 96,
    "start_time": "2023-06-07T20:15:24.184Z"
   },
   {
    "duration": 94,
    "start_time": "2023-06-07T20:16:02.658Z"
   },
   {
    "duration": 97,
    "start_time": "2023-06-07T20:17:16.333Z"
   },
   {
    "duration": 1683,
    "start_time": "2023-06-07T20:23:13.819Z"
   },
   {
    "duration": 26,
    "start_time": "2023-06-07T20:23:38.391Z"
   },
   {
    "duration": 172,
    "start_time": "2023-06-07T20:29:09.101Z"
   },
   {
    "duration": 955,
    "start_time": "2023-06-07T20:29:34.534Z"
   },
   {
    "duration": 846,
    "start_time": "2023-06-07T20:29:35.490Z"
   },
   {
    "duration": 19,
    "start_time": "2023-06-07T20:29:36.337Z"
   },
   {
    "duration": 147,
    "start_time": "2023-06-07T20:29:36.358Z"
   },
   {
    "duration": 9,
    "start_time": "2023-06-07T20:29:36.507Z"
   },
   {
    "duration": 44,
    "start_time": "2023-06-07T20:29:36.518Z"
   },
   {
    "duration": 7,
    "start_time": "2023-06-07T20:29:36.564Z"
   },
   {
    "duration": 30,
    "start_time": "2023-06-07T20:29:36.573Z"
   },
   {
    "duration": 24,
    "start_time": "2023-06-07T20:29:36.605Z"
   },
   {
    "duration": 8,
    "start_time": "2023-06-07T20:29:36.631Z"
   },
   {
    "duration": 46,
    "start_time": "2023-06-07T20:29:36.640Z"
   },
   {
    "duration": 12,
    "start_time": "2023-06-07T20:29:36.688Z"
   },
   {
    "duration": 31,
    "start_time": "2023-06-07T20:29:36.702Z"
   },
   {
    "duration": 53,
    "start_time": "2023-06-07T20:29:36.735Z"
   },
   {
    "duration": 37,
    "start_time": "2023-06-07T20:29:36.789Z"
   },
   {
    "duration": 21,
    "start_time": "2023-06-07T20:29:36.828Z"
   },
   {
    "duration": 38,
    "start_time": "2023-06-07T20:29:36.850Z"
   },
   {
    "duration": 40,
    "start_time": "2023-06-07T20:29:36.889Z"
   },
   {
    "duration": 32,
    "start_time": "2023-06-07T20:29:36.931Z"
   },
   {
    "duration": 100,
    "start_time": "2023-06-07T20:29:36.965Z"
   },
   {
    "duration": 1633,
    "start_time": "2023-06-07T20:29:37.067Z"
   },
   {
    "duration": 120,
    "start_time": "2023-06-07T20:29:38.785Z"
   },
   {
    "duration": 1870,
    "start_time": "2023-06-07T20:30:54.314Z"
   },
   {
    "duration": 1097,
    "start_time": "2023-06-07T20:31:05.759Z"
   },
   {
    "duration": 881,
    "start_time": "2023-06-07T20:31:06.858Z"
   },
   {
    "duration": 20,
    "start_time": "2023-06-07T20:31:07.740Z"
   },
   {
    "duration": 134,
    "start_time": "2023-06-07T20:31:07.762Z"
   },
   {
    "duration": 10,
    "start_time": "2023-06-07T20:31:07.898Z"
   },
   {
    "duration": 28,
    "start_time": "2023-06-07T20:31:07.910Z"
   },
   {
    "duration": 9,
    "start_time": "2023-06-07T20:31:07.939Z"
   },
   {
    "duration": 55,
    "start_time": "2023-06-07T20:31:07.949Z"
   },
   {
    "duration": 27,
    "start_time": "2023-06-07T20:31:08.005Z"
   },
   {
    "duration": 7,
    "start_time": "2023-06-07T20:31:08.034Z"
   },
   {
    "duration": 47,
    "start_time": "2023-06-07T20:31:08.041Z"
   },
   {
    "duration": 12,
    "start_time": "2023-06-07T20:31:08.089Z"
   },
   {
    "duration": 28,
    "start_time": "2023-06-07T20:31:08.102Z"
   },
   {
    "duration": 62,
    "start_time": "2023-06-07T20:31:08.131Z"
   },
   {
    "duration": 38,
    "start_time": "2023-06-07T20:31:08.194Z"
   },
   {
    "duration": 22,
    "start_time": "2023-06-07T20:31:08.233Z"
   },
   {
    "duration": 41,
    "start_time": "2023-06-07T20:31:08.256Z"
   },
   {
    "duration": 49,
    "start_time": "2023-06-07T20:31:08.299Z"
   },
   {
    "duration": 51,
    "start_time": "2023-06-07T20:31:08.349Z"
   },
   {
    "duration": 93,
    "start_time": "2023-06-07T20:31:08.401Z"
   },
   {
    "duration": 1795,
    "start_time": "2023-06-07T20:31:08.495Z"
   },
   {
    "duration": 114,
    "start_time": "2023-06-07T20:31:10.295Z"
   },
   {
    "duration": 2071,
    "start_time": "2023-06-07T20:33:00.892Z"
   },
   {
    "duration": 1803,
    "start_time": "2023-06-07T20:33:12.887Z"
   },
   {
    "duration": 1893,
    "start_time": "2023-06-07T20:33:26.093Z"
   },
   {
    "duration": 1642,
    "start_time": "2023-06-07T20:35:51.651Z"
   },
   {
    "duration": 1608,
    "start_time": "2023-06-07T20:36:07.686Z"
   },
   {
    "duration": 253,
    "start_time": "2023-06-07T20:37:20.286Z"
   },
   {
    "duration": 268,
    "start_time": "2023-06-07T20:37:31.693Z"
   },
   {
    "duration": 252,
    "start_time": "2023-06-07T20:37:42.181Z"
   },
   {
    "duration": 1789,
    "start_time": "2023-06-07T20:37:53.304Z"
   },
   {
    "duration": 24,
    "start_time": "2023-06-07T20:38:12.117Z"
   },
   {
    "duration": 10,
    "start_time": "2023-06-07T20:38:51.093Z"
   },
   {
    "duration": 255,
    "start_time": "2023-06-07T20:39:39.141Z"
   },
   {
    "duration": 281,
    "start_time": "2023-06-07T20:39:55.054Z"
   },
   {
    "duration": 1037,
    "start_time": "2023-06-07T20:48:59.587Z"
   },
   {
    "duration": 840,
    "start_time": "2023-06-07T20:49:00.626Z"
   },
   {
    "duration": 24,
    "start_time": "2023-06-07T20:49:01.467Z"
   },
   {
    "duration": 161,
    "start_time": "2023-06-07T20:49:01.493Z"
   },
   {
    "duration": 12,
    "start_time": "2023-06-07T20:49:01.656Z"
   },
   {
    "duration": 75,
    "start_time": "2023-06-07T20:49:01.670Z"
   },
   {
    "duration": 18,
    "start_time": "2023-06-07T20:49:01.747Z"
   },
   {
    "duration": 47,
    "start_time": "2023-06-07T20:49:01.767Z"
   },
   {
    "duration": 30,
    "start_time": "2023-06-07T20:49:01.815Z"
   },
   {
    "duration": 77,
    "start_time": "2023-06-07T20:49:01.848Z"
   },
   {
    "duration": 42,
    "start_time": "2023-06-07T20:49:01.927Z"
   },
   {
    "duration": 22,
    "start_time": "2023-06-07T20:49:01.971Z"
   },
   {
    "duration": 42,
    "start_time": "2023-06-07T20:49:01.995Z"
   },
   {
    "duration": 49,
    "start_time": "2023-06-07T20:49:02.039Z"
   },
   {
    "duration": 39,
    "start_time": "2023-06-07T20:49:02.090Z"
   },
   {
    "duration": 23,
    "start_time": "2023-06-07T20:49:02.131Z"
   },
   {
    "duration": 66,
    "start_time": "2023-06-07T20:49:02.156Z"
   },
   {
    "duration": 53,
    "start_time": "2023-06-07T20:49:02.224Z"
   },
   {
    "duration": 48,
    "start_time": "2023-06-07T20:49:02.279Z"
   },
   {
    "duration": 95,
    "start_time": "2023-06-07T20:49:02.329Z"
   },
   {
    "duration": 11,
    "start_time": "2023-06-07T20:56:46.889Z"
   },
   {
    "duration": 24,
    "start_time": "2023-06-07T20:58:34.329Z"
   },
   {
    "duration": 3,
    "start_time": "2023-06-07T20:59:06.789Z"
   },
   {
    "duration": 3,
    "start_time": "2023-06-07T20:59:15.003Z"
   },
   {
    "duration": 2933,
    "start_time": "2023-06-07T21:00:40.091Z"
   },
   {
    "duration": 13,
    "start_time": "2023-06-07T21:00:53.926Z"
   },
   {
    "duration": 3201,
    "start_time": "2023-06-07T21:00:54.525Z"
   },
   {
    "duration": 5579,
    "start_time": "2023-06-07T21:01:29.085Z"
   },
   {
    "duration": 1041,
    "start_time": "2023-06-07T21:15:28.720Z"
   },
   {
    "duration": 835,
    "start_time": "2023-06-07T21:15:29.763Z"
   },
   {
    "duration": 20,
    "start_time": "2023-06-07T21:15:30.599Z"
   },
   {
    "duration": 142,
    "start_time": "2023-06-07T21:15:30.621Z"
   },
   {
    "duration": 8,
    "start_time": "2023-06-07T21:15:30.764Z"
   },
   {
    "duration": 45,
    "start_time": "2023-06-07T21:15:30.773Z"
   },
   {
    "duration": 22,
    "start_time": "2023-06-07T21:15:30.820Z"
   },
   {
    "duration": 76,
    "start_time": "2023-06-07T21:15:30.843Z"
   },
   {
    "duration": 48,
    "start_time": "2023-06-07T21:15:30.921Z"
   },
   {
    "duration": 57,
    "start_time": "2023-06-07T21:15:30.970Z"
   },
   {
    "duration": 80,
    "start_time": "2023-06-07T21:15:31.028Z"
   },
   {
    "duration": 31,
    "start_time": "2023-06-07T21:15:31.109Z"
   },
   {
    "duration": 45,
    "start_time": "2023-06-07T21:15:31.141Z"
   },
   {
    "duration": 51,
    "start_time": "2023-06-07T21:15:31.188Z"
   },
   {
    "duration": 57,
    "start_time": "2023-06-07T21:15:31.240Z"
   },
   {
    "duration": 21,
    "start_time": "2023-06-07T21:15:31.298Z"
   },
   {
    "duration": 28,
    "start_time": "2023-06-07T21:15:31.320Z"
   },
   {
    "duration": 60,
    "start_time": "2023-06-07T21:15:31.350Z"
   },
   {
    "duration": 62,
    "start_time": "2023-06-07T21:15:31.411Z"
   },
   {
    "duration": 81,
    "start_time": "2023-06-07T21:15:31.474Z"
   },
   {
    "duration": 10,
    "start_time": "2023-06-07T21:15:31.556Z"
   },
   {
    "duration": 5458,
    "start_time": "2023-06-07T21:15:31.567Z"
   },
   {
    "duration": 2809,
    "start_time": "2023-06-07T21:17:09.420Z"
   },
   {
    "duration": 158,
    "start_time": "2023-06-07T21:18:59.087Z"
   },
   {
    "duration": 2936,
    "start_time": "2023-06-07T21:19:04.751Z"
   },
   {
    "duration": 2883,
    "start_time": "2023-06-07T21:20:36.509Z"
   },
   {
    "duration": 1023,
    "start_time": "2023-06-07T21:21:23.721Z"
   },
   {
    "duration": 835,
    "start_time": "2023-06-07T21:21:24.745Z"
   },
   {
    "duration": 18,
    "start_time": "2023-06-07T21:21:25.582Z"
   },
   {
    "duration": 126,
    "start_time": "2023-06-07T21:21:25.601Z"
   },
   {
    "duration": 8,
    "start_time": "2023-06-07T21:21:25.730Z"
   },
   {
    "duration": 26,
    "start_time": "2023-06-07T21:21:25.740Z"
   },
   {
    "duration": 7,
    "start_time": "2023-06-07T21:21:25.785Z"
   },
   {
    "duration": 27,
    "start_time": "2023-06-07T21:21:25.794Z"
   },
   {
    "duration": 25,
    "start_time": "2023-06-07T21:21:25.823Z"
   },
   {
    "duration": 8,
    "start_time": "2023-06-07T21:21:25.849Z"
   },
   {
    "duration": 50,
    "start_time": "2023-06-07T21:21:25.858Z"
   },
   {
    "duration": 8,
    "start_time": "2023-06-07T21:21:25.910Z"
   },
   {
    "duration": 30,
    "start_time": "2023-06-07T21:21:25.919Z"
   },
   {
    "duration": 78,
    "start_time": "2023-06-07T21:21:25.952Z"
   },
   {
    "duration": 40,
    "start_time": "2023-06-07T21:21:26.032Z"
   },
   {
    "duration": 23,
    "start_time": "2023-06-07T21:21:26.084Z"
   },
   {
    "duration": 23,
    "start_time": "2023-06-07T21:21:26.108Z"
   },
   {
    "duration": 53,
    "start_time": "2023-06-07T21:21:26.132Z"
   },
   {
    "duration": 32,
    "start_time": "2023-06-07T21:21:26.186Z"
   },
   {
    "duration": 92,
    "start_time": "2023-06-07T21:21:26.219Z"
   },
   {
    "duration": 11,
    "start_time": "2023-06-07T21:21:26.312Z"
   },
   {
    "duration": 81,
    "start_time": "2023-06-07T21:25:11.089Z"
   },
   {
    "duration": 1064,
    "start_time": "2023-06-07T21:25:16.540Z"
   },
   {
    "duration": 807,
    "start_time": "2023-06-07T21:25:17.606Z"
   },
   {
    "duration": 20,
    "start_time": "2023-06-07T21:25:18.414Z"
   },
   {
    "duration": 126,
    "start_time": "2023-06-07T21:25:18.436Z"
   },
   {
    "duration": 22,
    "start_time": "2023-06-07T21:25:18.564Z"
   },
   {
    "duration": 27,
    "start_time": "2023-06-07T21:25:18.587Z"
   },
   {
    "duration": 7,
    "start_time": "2023-06-07T21:25:18.616Z"
   },
   {
    "duration": 29,
    "start_time": "2023-06-07T21:25:18.625Z"
   },
   {
    "duration": 44,
    "start_time": "2023-06-07T21:25:18.655Z"
   },
   {
    "duration": 8,
    "start_time": "2023-06-07T21:25:18.700Z"
   },
   {
    "duration": 27,
    "start_time": "2023-06-07T21:25:18.709Z"
   },
   {
    "duration": 73,
    "start_time": "2023-06-07T21:25:18.738Z"
   },
   {
    "duration": 26,
    "start_time": "2023-06-07T21:25:18.812Z"
   },
   {
    "duration": 55,
    "start_time": "2023-06-07T21:25:18.840Z"
   },
   {
    "duration": 37,
    "start_time": "2023-06-07T21:25:18.896Z"
   },
   {
    "duration": 21,
    "start_time": "2023-06-07T21:25:18.934Z"
   },
   {
    "duration": 42,
    "start_time": "2023-06-07T21:25:18.956Z"
   },
   {
    "duration": 44,
    "start_time": "2023-06-07T21:25:18.999Z"
   },
   {
    "duration": 41,
    "start_time": "2023-06-07T21:25:19.044Z"
   },
   {
    "duration": 78,
    "start_time": "2023-06-07T21:25:19.086Z"
   },
   {
    "duration": 24,
    "start_time": "2023-06-07T21:25:19.166Z"
   },
   {
    "duration": 1156,
    "start_time": "2023-06-07T21:32:56.802Z"
   },
   {
    "duration": 804,
    "start_time": "2023-06-07T21:32:57.959Z"
   },
   {
    "duration": 21,
    "start_time": "2023-06-07T21:32:58.765Z"
   },
   {
    "duration": 124,
    "start_time": "2023-06-07T21:32:58.788Z"
   },
   {
    "duration": 11,
    "start_time": "2023-06-07T21:32:58.914Z"
   },
   {
    "duration": 26,
    "start_time": "2023-06-07T21:32:58.926Z"
   },
   {
    "duration": 7,
    "start_time": "2023-06-07T21:32:58.953Z"
   },
   {
    "duration": 50,
    "start_time": "2023-06-07T21:32:58.962Z"
   },
   {
    "duration": 25,
    "start_time": "2023-06-07T21:32:59.014Z"
   },
   {
    "duration": 7,
    "start_time": "2023-06-07T21:32:59.041Z"
   },
   {
    "duration": 46,
    "start_time": "2023-06-07T21:32:59.049Z"
   },
   {
    "duration": 49,
    "start_time": "2023-06-07T21:32:59.096Z"
   },
   {
    "duration": 40,
    "start_time": "2023-06-07T21:32:59.147Z"
   },
   {
    "duration": 49,
    "start_time": "2023-06-07T21:32:59.189Z"
   },
   {
    "duration": 48,
    "start_time": "2023-06-07T21:32:59.239Z"
   },
   {
    "duration": 20,
    "start_time": "2023-06-07T21:32:59.288Z"
   },
   {
    "duration": 20,
    "start_time": "2023-06-07T21:32:59.310Z"
   },
   {
    "duration": 56,
    "start_time": "2023-06-07T21:32:59.331Z"
   },
   {
    "duration": 32,
    "start_time": "2023-06-07T21:32:59.388Z"
   },
   {
    "duration": 88,
    "start_time": "2023-06-07T21:32:59.421Z"
   },
   {
    "duration": 9,
    "start_time": "2023-06-07T21:32:59.511Z"
   },
   {
    "duration": 101,
    "start_time": "2023-06-07T21:36:30.126Z"
   },
   {
    "duration": 3,
    "start_time": "2023-06-07T21:36:39.159Z"
   },
   {
    "duration": 150,
    "start_time": "2023-06-07T21:51:29.862Z"
   },
   {
    "duration": 1049,
    "start_time": "2023-06-07T21:51:40.029Z"
   },
   {
    "duration": 794,
    "start_time": "2023-06-07T21:51:41.080Z"
   },
   {
    "duration": 23,
    "start_time": "2023-06-07T21:51:41.875Z"
   },
   {
    "duration": 121,
    "start_time": "2023-06-07T21:51:41.900Z"
   },
   {
    "duration": 8,
    "start_time": "2023-06-07T21:51:42.022Z"
   },
   {
    "duration": 32,
    "start_time": "2023-06-07T21:51:42.031Z"
   },
   {
    "duration": 7,
    "start_time": "2023-06-07T21:51:42.065Z"
   },
   {
    "duration": 33,
    "start_time": "2023-06-07T21:51:42.084Z"
   },
   {
    "duration": 25,
    "start_time": "2023-06-07T21:51:42.118Z"
   },
   {
    "duration": 17,
    "start_time": "2023-06-07T21:51:42.145Z"
   },
   {
    "duration": 68,
    "start_time": "2023-06-07T21:51:42.163Z"
   },
   {
    "duration": 9,
    "start_time": "2023-06-07T21:51:42.233Z"
   },
   {
    "duration": 35,
    "start_time": "2023-06-07T21:51:42.243Z"
   },
   {
    "duration": 48,
    "start_time": "2023-06-07T21:51:42.279Z"
   },
   {
    "duration": 36,
    "start_time": "2023-06-07T21:51:42.328Z"
   },
   {
    "duration": 34,
    "start_time": "2023-06-07T21:51:42.365Z"
   },
   {
    "duration": 24,
    "start_time": "2023-06-07T21:51:42.400Z"
   },
   {
    "duration": 41,
    "start_time": "2023-06-07T21:51:42.425Z"
   },
   {
    "duration": 47,
    "start_time": "2023-06-07T21:51:42.468Z"
   },
   {
    "duration": 92,
    "start_time": "2023-06-07T21:51:42.516Z"
   },
   {
    "duration": 10,
    "start_time": "2023-06-07T21:51:42.609Z"
   },
   {
    "duration": 137,
    "start_time": "2023-06-07T21:51:42.620Z"
   },
   {
    "duration": 46,
    "start_time": "2023-06-07T21:52:09.252Z"
   },
   {
    "duration": 37,
    "start_time": "2023-06-07T21:53:51.204Z"
   },
   {
    "duration": 1069,
    "start_time": "2023-06-07T21:53:59.721Z"
   },
   {
    "duration": 814,
    "start_time": "2023-06-07T21:54:00.791Z"
   },
   {
    "duration": 19,
    "start_time": "2023-06-07T21:54:01.607Z"
   },
   {
    "duration": 162,
    "start_time": "2023-06-07T21:54:01.628Z"
   },
   {
    "duration": 10,
    "start_time": "2023-06-07T21:54:01.793Z"
   },
   {
    "duration": 52,
    "start_time": "2023-06-07T21:54:01.805Z"
   },
   {
    "duration": 18,
    "start_time": "2023-06-07T21:54:01.859Z"
   },
   {
    "duration": 94,
    "start_time": "2023-06-07T21:54:01.879Z"
   },
   {
    "duration": 63,
    "start_time": "2023-06-07T21:54:01.975Z"
   },
   {
    "duration": 30,
    "start_time": "2023-06-07T21:54:02.040Z"
   },
   {
    "duration": 78,
    "start_time": "2023-06-07T21:54:02.072Z"
   },
   {
    "duration": 29,
    "start_time": "2023-06-07T21:54:02.151Z"
   },
   {
    "duration": 57,
    "start_time": "2023-06-07T21:54:02.182Z"
   },
   {
    "duration": 46,
    "start_time": "2023-06-07T21:54:02.242Z"
   },
   {
    "duration": 91,
    "start_time": "2023-06-07T21:54:02.289Z"
   },
   {
    "duration": 23,
    "start_time": "2023-06-07T21:54:02.382Z"
   },
   {
    "duration": 32,
    "start_time": "2023-06-07T21:54:02.406Z"
   },
   {
    "duration": 47,
    "start_time": "2023-06-07T21:54:02.440Z"
   },
   {
    "duration": 34,
    "start_time": "2023-06-07T21:54:02.489Z"
   },
   {
    "duration": 95,
    "start_time": "2023-06-07T21:54:02.524Z"
   },
   {
    "duration": 11,
    "start_time": "2023-06-07T21:54:02.621Z"
   },
   {
    "duration": 161,
    "start_time": "2023-06-07T21:54:02.634Z"
   },
   {
    "duration": 42,
    "start_time": "2023-06-07T21:57:39.573Z"
   },
   {
    "duration": 55,
    "start_time": "2023-06-07T22:00:20.561Z"
   },
   {
    "duration": 1147,
    "start_time": "2023-06-07T22:00:51.872Z"
   },
   {
    "duration": 823,
    "start_time": "2023-06-07T22:00:53.021Z"
   },
   {
    "duration": 19,
    "start_time": "2023-06-07T22:00:53.845Z"
   },
   {
    "duration": 129,
    "start_time": "2023-06-07T22:00:53.866Z"
   },
   {
    "duration": 9,
    "start_time": "2023-06-07T22:00:53.996Z"
   },
   {
    "duration": 30,
    "start_time": "2023-06-07T22:00:54.007Z"
   },
   {
    "duration": 8,
    "start_time": "2023-06-07T22:00:54.038Z"
   },
   {
    "duration": 50,
    "start_time": "2023-06-07T22:00:54.047Z"
   },
   {
    "duration": 25,
    "start_time": "2023-06-07T22:00:54.098Z"
   },
   {
    "duration": 18,
    "start_time": "2023-06-07T22:00:54.125Z"
   },
   {
    "duration": 43,
    "start_time": "2023-06-07T22:00:54.144Z"
   },
   {
    "duration": 51,
    "start_time": "2023-06-07T22:00:54.188Z"
   },
   {
    "duration": 46,
    "start_time": "2023-06-07T22:00:54.241Z"
   },
   {
    "duration": 46,
    "start_time": "2023-06-07T22:00:54.288Z"
   },
   {
    "duration": 35,
    "start_time": "2023-06-07T22:00:54.336Z"
   },
   {
    "duration": 36,
    "start_time": "2023-06-07T22:00:54.372Z"
   },
   {
    "duration": 35,
    "start_time": "2023-06-07T22:00:54.410Z"
   },
   {
    "duration": 42,
    "start_time": "2023-06-07T22:00:54.446Z"
   },
   {
    "duration": 33,
    "start_time": "2023-06-07T22:00:54.490Z"
   },
   {
    "duration": 87,
    "start_time": "2023-06-07T22:00:54.524Z"
   },
   {
    "duration": 10,
    "start_time": "2023-06-07T22:00:54.612Z"
   },
   {
    "duration": 162,
    "start_time": "2023-06-07T22:00:54.623Z"
   },
   {
    "duration": 17,
    "start_time": "2023-06-07T22:03:40.618Z"
   },
   {
    "duration": 9,
    "start_time": "2023-06-07T22:04:03.331Z"
   },
   {
    "duration": 56,
    "start_time": "2023-06-07T22:04:16.031Z"
   },
   {
    "duration": 18,
    "start_time": "2023-06-07T22:04:18.627Z"
   },
   {
    "duration": 61,
    "start_time": "2023-06-07T22:04:19.480Z"
   },
   {
    "duration": 65,
    "start_time": "2023-06-07T22:08:00.001Z"
   },
   {
    "duration": 70,
    "start_time": "2023-06-07T22:08:24.460Z"
   },
   {
    "duration": 1380,
    "start_time": "2023-06-07T22:08:50.163Z"
   },
   {
    "duration": 899,
    "start_time": "2023-06-07T22:08:51.545Z"
   },
   {
    "duration": 21,
    "start_time": "2023-06-07T22:08:52.446Z"
   },
   {
    "duration": 148,
    "start_time": "2023-06-07T22:08:52.469Z"
   },
   {
    "duration": 10,
    "start_time": "2023-06-07T22:08:52.619Z"
   },
   {
    "duration": 34,
    "start_time": "2023-06-07T22:08:52.631Z"
   },
   {
    "duration": 23,
    "start_time": "2023-06-07T22:08:52.667Z"
   },
   {
    "duration": 33,
    "start_time": "2023-06-07T22:08:52.692Z"
   },
   {
    "duration": 29,
    "start_time": "2023-06-07T22:08:52.727Z"
   },
   {
    "duration": 28,
    "start_time": "2023-06-07T22:08:52.757Z"
   },
   {
    "duration": 34,
    "start_time": "2023-06-07T22:08:52.787Z"
   },
   {
    "duration": 72,
    "start_time": "2023-06-07T22:08:52.823Z"
   },
   {
    "duration": 30,
    "start_time": "2023-06-07T22:08:52.897Z"
   },
   {
    "duration": 66,
    "start_time": "2023-06-07T22:08:52.930Z"
   },
   {
    "duration": 42,
    "start_time": "2023-06-07T22:08:52.997Z"
   },
   {
    "duration": 26,
    "start_time": "2023-06-07T22:08:53.040Z"
   },
   {
    "duration": 25,
    "start_time": "2023-06-07T22:08:53.084Z"
   },
   {
    "duration": 54,
    "start_time": "2023-06-07T22:08:53.110Z"
   },
   {
    "duration": 43,
    "start_time": "2023-06-07T22:08:53.165Z"
   },
   {
    "duration": 101,
    "start_time": "2023-06-07T22:08:53.210Z"
   },
   {
    "duration": 11,
    "start_time": "2023-06-07T22:08:53.312Z"
   },
   {
    "duration": 187,
    "start_time": "2023-06-07T22:08:53.325Z"
   },
   {
    "duration": 1119,
    "start_time": "2023-06-07T22:28:26.859Z"
   },
   {
    "duration": 814,
    "start_time": "2023-06-07T22:28:27.979Z"
   },
   {
    "duration": 18,
    "start_time": "2023-06-07T22:28:28.795Z"
   },
   {
    "duration": 128,
    "start_time": "2023-06-07T22:28:28.815Z"
   },
   {
    "duration": 10,
    "start_time": "2023-06-07T22:28:28.946Z"
   },
   {
    "duration": 40,
    "start_time": "2023-06-07T22:28:28.957Z"
   },
   {
    "duration": 10,
    "start_time": "2023-06-07T22:28:28.998Z"
   },
   {
    "duration": 30,
    "start_time": "2023-06-07T22:28:29.009Z"
   },
   {
    "duration": 44,
    "start_time": "2023-06-07T22:28:29.041Z"
   },
   {
    "duration": 8,
    "start_time": "2023-06-07T22:28:29.087Z"
   },
   {
    "duration": 32,
    "start_time": "2023-06-07T22:28:29.097Z"
   },
   {
    "duration": 74,
    "start_time": "2023-06-07T22:28:29.131Z"
   },
   {
    "duration": 30,
    "start_time": "2023-06-07T22:28:29.207Z"
   },
   {
    "duration": 75,
    "start_time": "2023-06-07T22:28:29.240Z"
   },
   {
    "duration": 39,
    "start_time": "2023-06-07T22:28:29.317Z"
   },
   {
    "duration": 38,
    "start_time": "2023-06-07T22:28:29.357Z"
   },
   {
    "duration": 24,
    "start_time": "2023-06-07T22:28:29.397Z"
   },
   {
    "duration": 49,
    "start_time": "2023-06-07T22:28:29.423Z"
   },
   {
    "duration": 48,
    "start_time": "2023-06-07T22:28:29.473Z"
   },
   {
    "duration": 104,
    "start_time": "2023-06-07T22:28:29.523Z"
   },
   {
    "duration": 323,
    "start_time": "2023-06-07T22:28:29.629Z"
   },
   {
    "duration": 160,
    "start_time": "2023-06-07T22:28:29.954Z"
   },
   {
    "duration": 4372,
    "start_time": "2023-06-07T22:28:59.218Z"
   },
   {
    "duration": 305,
    "start_time": "2023-06-07T22:35:20.659Z"
   },
   {
    "duration": 1150,
    "start_time": "2023-06-07T22:35:55.126Z"
   },
   {
    "duration": 882,
    "start_time": "2023-06-07T22:35:56.278Z"
   },
   {
    "duration": 29,
    "start_time": "2023-06-07T22:35:57.162Z"
   },
   {
    "duration": 133,
    "start_time": "2023-06-07T22:35:57.193Z"
   },
   {
    "duration": 11,
    "start_time": "2023-06-07T22:35:57.328Z"
   },
   {
    "duration": 27,
    "start_time": "2023-06-07T22:35:57.340Z"
   },
   {
    "duration": 9,
    "start_time": "2023-06-07T22:35:57.384Z"
   },
   {
    "duration": 32,
    "start_time": "2023-06-07T22:35:57.394Z"
   },
   {
    "duration": 27,
    "start_time": "2023-06-07T22:35:57.428Z"
   },
   {
    "duration": 31,
    "start_time": "2023-06-07T22:35:57.456Z"
   },
   {
    "duration": 79,
    "start_time": "2023-06-07T22:35:57.488Z"
   },
   {
    "duration": 20,
    "start_time": "2023-06-07T22:35:57.569Z"
   },
   {
    "duration": 29,
    "start_time": "2023-06-07T22:35:57.590Z"
   },
   {
    "duration": 64,
    "start_time": "2023-06-07T22:35:57.621Z"
   },
   {
    "duration": 55,
    "start_time": "2023-06-07T22:35:57.687Z"
   },
   {
    "duration": 36,
    "start_time": "2023-06-07T22:35:57.744Z"
   },
   {
    "duration": 36,
    "start_time": "2023-06-07T22:35:57.781Z"
   },
   {
    "duration": 46,
    "start_time": "2023-06-07T22:35:57.818Z"
   },
   {
    "duration": 35,
    "start_time": "2023-06-07T22:35:57.866Z"
   },
   {
    "duration": 90,
    "start_time": "2023-06-07T22:35:57.903Z"
   },
   {
    "duration": 318,
    "start_time": "2023-06-07T22:35:57.994Z"
   },
   {
    "duration": 328,
    "start_time": "2023-06-07T22:35:58.313Z"
   },
   {
    "duration": 4895,
    "start_time": "2023-06-07T22:35:58.643Z"
   },
   {
    "duration": 303,
    "start_time": "2023-06-07T22:41:02.374Z"
   },
   {
    "duration": 295,
    "start_time": "2023-06-07T22:46:10.421Z"
   },
   {
    "duration": 1164,
    "start_time": "2023-06-07T22:46:35.697Z"
   },
   {
    "duration": 887,
    "start_time": "2023-06-07T22:46:36.863Z"
   },
   {
    "duration": 21,
    "start_time": "2023-06-07T22:46:37.752Z"
   },
   {
    "duration": 126,
    "start_time": "2023-06-07T22:46:37.784Z"
   },
   {
    "duration": 10,
    "start_time": "2023-06-07T22:46:37.911Z"
   },
   {
    "duration": 40,
    "start_time": "2023-06-07T22:46:37.922Z"
   },
   {
    "duration": 8,
    "start_time": "2023-06-07T22:46:37.964Z"
   },
   {
    "duration": 33,
    "start_time": "2023-06-07T22:46:37.985Z"
   },
   {
    "duration": 27,
    "start_time": "2023-06-07T22:46:38.020Z"
   },
   {
    "duration": 12,
    "start_time": "2023-06-07T22:46:38.049Z"
   },
   {
    "duration": 95,
    "start_time": "2023-06-07T22:46:38.062Z"
   },
   {
    "duration": 25,
    "start_time": "2023-06-07T22:46:38.159Z"
   },
   {
    "duration": 30,
    "start_time": "2023-06-07T22:46:38.186Z"
   },
   {
    "duration": 49,
    "start_time": "2023-06-07T22:46:38.217Z"
   },
   {
    "duration": 52,
    "start_time": "2023-06-07T22:46:38.267Z"
   },
   {
    "duration": 22,
    "start_time": "2023-06-07T22:46:38.321Z"
   },
   {
    "duration": 24,
    "start_time": "2023-06-07T22:46:38.344Z"
   },
   {
    "duration": 43,
    "start_time": "2023-06-07T22:46:38.384Z"
   },
   {
    "duration": 54,
    "start_time": "2023-06-07T22:46:38.428Z"
   },
   {
    "duration": 87,
    "start_time": "2023-06-07T22:46:38.484Z"
   },
   {
    "duration": 308,
    "start_time": "2023-06-07T22:46:38.572Z"
   },
   {
    "duration": 104,
    "start_time": "2023-06-07T22:46:38.884Z"
   },
   {
    "duration": 3327,
    "start_time": "2023-06-07T22:46:57.959Z"
   },
   {
    "duration": 80,
    "start_time": "2023-06-07T22:48:05.965Z"
   },
   {
    "duration": 3,
    "start_time": "2023-06-07T22:48:41.592Z"
   },
   {
    "duration": 50,
    "start_time": "2023-06-07T22:48:46.430Z"
   },
   {
    "duration": 59793,
    "start_time": "2023-06-07T22:49:08.793Z"
   },
   {
    "duration": 2363,
    "start_time": "2023-06-07T22:51:28.127Z"
   },
   {
    "duration": 9,
    "start_time": "2023-06-07T22:57:09.164Z"
   },
   {
    "duration": 4,
    "start_time": "2023-06-07T22:57:41.683Z"
   },
   {
    "duration": 746,
    "start_time": "2023-06-07T22:57:46.047Z"
   },
   {
    "duration": 594,
    "start_time": "2023-06-07T23:00:21.001Z"
   },
   {
    "duration": 673,
    "start_time": "2023-06-07T23:00:34.019Z"
   },
   {
    "duration": 628,
    "start_time": "2023-06-07T23:04:07.965Z"
   },
   {
    "duration": 1144,
    "start_time": "2023-06-07T23:04:24.887Z"
   },
   {
    "duration": 872,
    "start_time": "2023-06-07T23:04:26.033Z"
   },
   {
    "duration": 21,
    "start_time": "2023-06-07T23:04:26.906Z"
   },
   {
    "duration": 154,
    "start_time": "2023-06-07T23:04:26.929Z"
   },
   {
    "duration": 11,
    "start_time": "2023-06-07T23:04:27.085Z"
   },
   {
    "duration": 29,
    "start_time": "2023-06-07T23:04:27.097Z"
   },
   {
    "duration": 8,
    "start_time": "2023-06-07T23:04:27.128Z"
   },
   {
    "duration": 54,
    "start_time": "2023-06-07T23:04:27.138Z"
   },
   {
    "duration": 26,
    "start_time": "2023-06-07T23:04:27.194Z"
   },
   {
    "duration": 10,
    "start_time": "2023-06-07T23:04:27.221Z"
   },
   {
    "duration": 80,
    "start_time": "2023-06-07T23:04:27.232Z"
   },
   {
    "duration": 13,
    "start_time": "2023-06-07T23:04:27.313Z"
   },
   {
    "duration": 30,
    "start_time": "2023-06-07T23:04:27.327Z"
   },
   {
    "duration": 63,
    "start_time": "2023-06-07T23:04:27.360Z"
   },
   {
    "duration": 38,
    "start_time": "2023-06-07T23:04:27.425Z"
   },
   {
    "duration": 32,
    "start_time": "2023-06-07T23:04:27.464Z"
   },
   {
    "duration": 30,
    "start_time": "2023-06-07T23:04:27.498Z"
   },
   {
    "duration": 41,
    "start_time": "2023-06-07T23:04:27.529Z"
   },
   {
    "duration": 43,
    "start_time": "2023-06-07T23:04:27.572Z"
   },
   {
    "duration": 86,
    "start_time": "2023-06-07T23:04:27.617Z"
   },
   {
    "duration": 285,
    "start_time": "2023-06-07T23:04:27.705Z"
   },
   {
    "duration": 606,
    "start_time": "2023-06-07T23:04:27.991Z"
   },
   {
    "duration": 652,
    "start_time": "2023-06-07T23:04:59.939Z"
   },
   {
    "duration": 158,
    "start_time": "2023-06-07T23:11:01.327Z"
   },
   {
    "duration": 176815,
    "start_time": "2023-06-07T23:11:27.206Z"
   },
   {
    "duration": 163,
    "start_time": "2023-06-07T23:15:33.445Z"
   },
   {
    "duration": 27484,
    "start_time": "2023-06-07T23:15:46.810Z"
   },
   {
    "duration": 64567,
    "start_time": "2023-06-07T23:21:56.428Z"
   },
   {
    "duration": 38,
    "start_time": "2023-06-07T23:25:14.869Z"
   },
   {
    "duration": 72,
    "start_time": "2023-06-07T23:25:27.600Z"
   },
   {
    "duration": 55636,
    "start_time": "2023-06-07T23:25:34.343Z"
   },
   {
    "duration": 6687,
    "start_time": "2023-06-07T23:35:50.113Z"
   },
   {
    "duration": 16032,
    "start_time": "2023-06-07T23:36:21.147Z"
   },
   {
    "duration": 22705,
    "start_time": "2023-06-07T23:36:52.237Z"
   },
   {
    "duration": 21454,
    "start_time": "2023-06-07T23:37:41.753Z"
   },
   {
    "duration": 11372,
    "start_time": "2023-06-07T23:40:28.626Z"
   },
   {
    "duration": 13629,
    "start_time": "2023-06-07T23:40:53.306Z"
   },
   {
    "duration": 9270,
    "start_time": "2023-06-07T23:41:26.683Z"
   },
   {
    "duration": 18043,
    "start_time": "2023-06-07T23:41:50.441Z"
   },
   {
    "duration": 36098,
    "start_time": "2023-06-07T23:42:18.062Z"
   },
   {
    "duration": 15088,
    "start_time": "2023-06-07T23:43:13.429Z"
   },
   {
    "duration": 17170,
    "start_time": "2023-06-07T23:43:53.599Z"
   },
   {
    "duration": 31922,
    "start_time": "2023-06-07T23:44:29.952Z"
   },
   {
    "duration": 36070,
    "start_time": "2023-06-07T23:45:32.737Z"
   },
   {
    "duration": 60452,
    "start_time": "2023-06-07T23:46:38.058Z"
   },
   {
    "duration": 3,
    "start_time": "2023-06-07T23:48:28.368Z"
   },
   {
    "duration": 23155,
    "start_time": "2023-06-07T23:49:42.493Z"
   },
   {
    "duration": 2,
    "start_time": "2023-06-07T23:52:09.242Z"
   },
   {
    "duration": 2,
    "start_time": "2023-06-07T23:56:01.785Z"
   },
   {
    "duration": 3,
    "start_time": "2023-06-07T23:58:24.964Z"
   },
   {
    "duration": 1146,
    "start_time": "2023-06-07T23:58:31.076Z"
   },
   {
    "duration": 814,
    "start_time": "2023-06-07T23:58:32.223Z"
   },
   {
    "duration": 21,
    "start_time": "2023-06-07T23:58:33.038Z"
   },
   {
    "duration": 127,
    "start_time": "2023-06-07T23:58:33.061Z"
   },
   {
    "duration": 7,
    "start_time": "2023-06-07T23:58:33.189Z"
   },
   {
    "duration": 27,
    "start_time": "2023-06-07T23:58:33.197Z"
   },
   {
    "duration": 8,
    "start_time": "2023-06-07T23:58:33.226Z"
   },
   {
    "duration": 50,
    "start_time": "2023-06-07T23:58:33.235Z"
   },
   {
    "duration": 25,
    "start_time": "2023-06-07T23:58:33.287Z"
   },
   {
    "duration": 9,
    "start_time": "2023-06-07T23:58:33.313Z"
   },
   {
    "duration": 33,
    "start_time": "2023-06-07T23:58:33.323Z"
   },
   {
    "duration": 61,
    "start_time": "2023-06-07T23:58:33.358Z"
   },
   {
    "duration": 27,
    "start_time": "2023-06-07T23:58:33.420Z"
   },
   {
    "duration": 60,
    "start_time": "2023-06-07T23:58:33.450Z"
   },
   {
    "duration": 36,
    "start_time": "2023-06-07T23:58:33.511Z"
   },
   {
    "duration": 21,
    "start_time": "2023-06-07T23:58:33.548Z"
   },
   {
    "duration": 21,
    "start_time": "2023-06-07T23:58:33.585Z"
   },
   {
    "duration": 41,
    "start_time": "2023-06-07T23:58:33.608Z"
   },
   {
    "duration": 49,
    "start_time": "2023-06-07T23:58:33.650Z"
   },
   {
    "duration": 85,
    "start_time": "2023-06-07T23:58:33.700Z"
   },
   {
    "duration": 277,
    "start_time": "2023-06-07T23:58:33.786Z"
   },
   {
    "duration": 623,
    "start_time": "2023-06-07T23:58:34.065Z"
   },
   {
    "duration": 4968,
    "start_time": "2023-06-07T23:58:34.690Z"
   },
   {
    "duration": 24905,
    "start_time": "2023-06-07T23:58:39.661Z"
   },
   {
    "duration": 2995,
    "start_time": "2023-06-08T00:06:15.201Z"
   },
   {
    "duration": 3213,
    "start_time": "2023-06-08T00:06:48.584Z"
   },
   {
    "duration": 3400,
    "start_time": "2023-06-08T00:07:02.586Z"
   },
   {
    "duration": 3074,
    "start_time": "2023-06-08T00:07:21.518Z"
   },
   {
    "duration": 3885,
    "start_time": "2023-06-08T00:10:57.501Z"
   },
   {
    "duration": 14240,
    "start_time": "2023-06-08T00:11:15.072Z"
   },
   {
    "duration": 10888,
    "start_time": "2023-06-08T00:11:44.297Z"
   },
   {
    "duration": 21930,
    "start_time": "2023-06-08T00:12:04.456Z"
   },
   {
    "duration": 36594,
    "start_time": "2023-06-08T00:12:40.690Z"
   },
   {
    "duration": 36074,
    "start_time": "2023-06-08T00:13:31.527Z"
   },
   {
    "duration": 3110,
    "start_time": "2023-06-08T00:22:07.087Z"
   },
   {
    "duration": 24864,
    "start_time": "2023-06-08T00:22:27.640Z"
   },
   {
    "duration": 2,
    "start_time": "2023-06-08T00:24:14.567Z"
   },
   {
    "duration": 98,
    "start_time": "2023-06-08T00:30:48.930Z"
   },
   {
    "duration": 3,
    "start_time": "2023-06-08T00:31:10.562Z"
   },
   {
    "duration": 4,
    "start_time": "2023-06-08T00:31:15.204Z"
   },
   {
    "duration": 5,
    "start_time": "2023-06-08T00:31:25.601Z"
   },
   {
    "duration": 6,
    "start_time": "2023-06-08T00:31:34.241Z"
   },
   {
    "duration": 5,
    "start_time": "2023-06-08T00:32:48.364Z"
   },
   {
    "duration": 63,
    "start_time": "2023-06-08T00:33:35.822Z"
   },
   {
    "duration": 1039,
    "start_time": "2023-06-08T00:34:33.445Z"
   },
   {
    "duration": 805,
    "start_time": "2023-06-08T00:34:34.486Z"
   },
   {
    "duration": 29,
    "start_time": "2023-06-08T00:34:35.293Z"
   },
   {
    "duration": 145,
    "start_time": "2023-06-08T00:34:35.325Z"
   },
   {
    "duration": 15,
    "start_time": "2023-06-08T00:34:35.471Z"
   },
   {
    "duration": 27,
    "start_time": "2023-06-08T00:34:35.488Z"
   },
   {
    "duration": 8,
    "start_time": "2023-06-08T00:34:35.516Z"
   },
   {
    "duration": 33,
    "start_time": "2023-06-08T00:34:35.525Z"
   },
   {
    "duration": 40,
    "start_time": "2023-06-08T00:34:35.559Z"
   },
   {
    "duration": 64,
    "start_time": "2023-06-08T00:34:35.602Z"
   },
   {
    "duration": 50,
    "start_time": "2023-06-08T00:34:35.667Z"
   },
   {
    "duration": 13,
    "start_time": "2023-06-08T00:34:35.719Z"
   },
   {
    "duration": 27,
    "start_time": "2023-06-08T00:34:35.733Z"
   },
   {
    "duration": 48,
    "start_time": "2023-06-08T00:34:35.762Z"
   },
   {
    "duration": 51,
    "start_time": "2023-06-08T00:34:35.812Z"
   },
   {
    "duration": 21,
    "start_time": "2023-06-08T00:34:35.865Z"
   },
   {
    "duration": 46,
    "start_time": "2023-06-08T00:34:35.888Z"
   },
   {
    "duration": 57,
    "start_time": "2023-06-08T00:34:35.936Z"
   },
   {
    "duration": 33,
    "start_time": "2023-06-08T00:34:35.994Z"
   },
   {
    "duration": 96,
    "start_time": "2023-06-08T00:34:36.029Z"
   },
   {
    "duration": 293,
    "start_time": "2023-06-08T00:34:36.126Z"
   },
   {
    "duration": 578,
    "start_time": "2023-06-08T00:34:36.420Z"
   },
   {
    "duration": 5019,
    "start_time": "2023-06-08T00:34:37.000Z"
   },
   {
    "duration": 25264,
    "start_time": "2023-06-08T00:34:42.020Z"
   },
   {
    "duration": 27101,
    "start_time": "2023-06-08T00:35:07.286Z"
   },
   {
    "duration": 24207,
    "start_time": "2023-06-08T00:35:34.389Z"
   },
   {
    "duration": 5,
    "start_time": "2023-06-08T00:35:58.597Z"
   },
   {
    "duration": 1521,
    "start_time": "2023-06-08T02:20:37.111Z"
   },
   {
    "duration": 923,
    "start_time": "2023-06-08T02:20:38.634Z"
   },
   {
    "duration": 23,
    "start_time": "2023-06-08T02:20:53.514Z"
   },
   {
    "duration": 138,
    "start_time": "2023-06-08T02:21:21.947Z"
   },
   {
    "duration": 9,
    "start_time": "2023-06-08T02:21:27.021Z"
   },
   {
    "duration": 37,
    "start_time": "2023-06-08T02:21:28.341Z"
   },
   {
    "duration": 11,
    "start_time": "2023-06-08T02:21:47.370Z"
   },
   {
    "duration": 37,
    "start_time": "2023-06-08T02:21:49.005Z"
   },
   {
    "duration": 28,
    "start_time": "2023-06-08T02:22:01.751Z"
   },
   {
    "duration": 7,
    "start_time": "2023-06-08T02:22:02.044Z"
   },
   {
    "duration": 29,
    "start_time": "2023-06-08T02:22:03.428Z"
   },
   {
    "duration": 9,
    "start_time": "2023-06-08T02:22:05.908Z"
   },
   {
    "duration": 32,
    "start_time": "2023-06-08T02:22:07.614Z"
   },
   {
    "duration": 59,
    "start_time": "2023-06-08T02:22:23.474Z"
   },
   {
    "duration": 39,
    "start_time": "2023-06-08T02:22:30.885Z"
   },
   {
    "duration": 23,
    "start_time": "2023-06-08T02:22:31.610Z"
   },
   {
    "duration": 21,
    "start_time": "2023-06-08T02:22:33.581Z"
   },
   {
    "duration": 41,
    "start_time": "2023-06-08T02:22:36.263Z"
   },
   {
    "duration": 33,
    "start_time": "2023-06-08T02:22:50.634Z"
   },
   {
    "duration": 85,
    "start_time": "2023-06-08T02:23:11.198Z"
   },
   {
    "duration": 393,
    "start_time": "2023-06-08T02:24:15.177Z"
   },
   {
    "duration": 48,
    "start_time": "2023-06-09T12:42:37.678Z"
   },
   {
    "duration": 1249,
    "start_time": "2023-06-09T12:42:46.216Z"
   },
   {
    "duration": 1187,
    "start_time": "2023-06-09T12:42:47.467Z"
   },
   {
    "duration": 21,
    "start_time": "2023-06-09T12:42:48.656Z"
   },
   {
    "duration": 175,
    "start_time": "2023-06-09T12:42:48.679Z"
   },
   {
    "duration": 13,
    "start_time": "2023-06-09T12:42:48.857Z"
   },
   {
    "duration": 38,
    "start_time": "2023-06-09T12:42:48.871Z"
   },
   {
    "duration": 38,
    "start_time": "2023-06-09T12:42:48.911Z"
   },
   {
    "duration": 37,
    "start_time": "2023-06-09T12:42:48.952Z"
   },
   {
    "duration": 52,
    "start_time": "2023-06-09T12:42:48.991Z"
   },
   {
    "duration": 8,
    "start_time": "2023-06-09T12:42:49.045Z"
   },
   {
    "duration": 30,
    "start_time": "2023-06-09T12:42:49.054Z"
   },
   {
    "duration": 91,
    "start_time": "2023-06-09T12:42:49.086Z"
   },
   {
    "duration": 35,
    "start_time": "2023-06-09T12:42:49.178Z"
   },
   {
    "duration": 67,
    "start_time": "2023-06-09T12:42:49.218Z"
   },
   {
    "duration": 55,
    "start_time": "2023-06-09T12:42:49.287Z"
   },
   {
    "duration": 23,
    "start_time": "2023-06-09T12:42:49.344Z"
   },
   {
    "duration": 30,
    "start_time": "2023-06-09T12:42:49.369Z"
   },
   {
    "duration": 53,
    "start_time": "2023-06-09T12:42:49.401Z"
   },
   {
    "duration": 36,
    "start_time": "2023-06-09T12:42:49.456Z"
   },
   {
    "duration": 98,
    "start_time": "2023-06-09T12:42:49.494Z"
   },
   {
    "duration": 363,
    "start_time": "2023-06-09T12:42:49.594Z"
   },
   {
    "duration": 360,
    "start_time": "2023-06-09T12:42:49.959Z"
   },
   {
    "duration": 1520,
    "start_time": "2023-06-09T12:42:50.321Z"
   },
   {
    "duration": 7432,
    "start_time": "2023-06-09T12:42:51.843Z"
   },
   {
    "duration": 29975,
    "start_time": "2023-06-09T12:42:59.276Z"
   },
   {
    "duration": 3952493,
    "start_time": "2023-06-09T12:43:29.253Z"
   },
   {
    "duration": 356895,
    "start_time": "2023-06-09T13:49:21.748Z"
   },
   {
    "duration": 5,
    "start_time": "2023-06-09T13:55:18.645Z"
   },
   {
    "duration": 332,
    "start_time": "2023-06-09T14:01:45.869Z"
   },
   {
    "duration": 2658,
    "start_time": "2023-06-09T14:01:50.590Z"
   },
   {
    "duration": 13977,
    "start_time": "2023-06-09T14:02:01.803Z"
   },
   {
    "duration": 70090,
    "start_time": "2023-06-09T14:02:21.256Z"
   },
   {
    "duration": 34694,
    "start_time": "2023-06-09T14:03:31.348Z"
   },
   {
    "duration": 34697,
    "start_time": "2023-06-09T14:04:55.245Z"
   },
   {
    "duration": 6,
    "start_time": "2023-06-09T14:09:37.601Z"
   },
   {
    "duration": 392,
    "start_time": "2023-06-09T17:45:32.499Z"
   },
   {
    "duration": 383,
    "start_time": "2023-06-09T17:45:56.919Z"
   },
   {
    "duration": 92,
    "start_time": "2023-06-09T18:26:07.113Z"
   },
   {
    "duration": 98,
    "start_time": "2023-06-09T18:26:24.461Z"
   },
   {
    "duration": 9,
    "start_time": "2023-06-09T18:28:41.131Z"
   },
   {
    "duration": 194,
    "start_time": "2023-06-09T18:32:51.901Z"
   },
   {
    "duration": 13,
    "start_time": "2023-06-09T18:33:35.606Z"
   },
   {
    "duration": 14,
    "start_time": "2023-06-09T18:39:35.768Z"
   },
   {
    "duration": 12,
    "start_time": "2023-06-09T18:39:45.062Z"
   },
   {
    "duration": 8,
    "start_time": "2023-06-09T18:40:03.291Z"
   },
   {
    "duration": 6,
    "start_time": "2023-06-09T18:44:38.858Z"
   },
   {
    "duration": 7,
    "start_time": "2023-06-09T18:50:03.365Z"
   },
   {
    "duration": 20,
    "start_time": "2023-06-09T19:06:31.373Z"
   },
   {
    "duration": 18,
    "start_time": "2023-06-09T19:09:03.569Z"
   },
   {
    "duration": 27,
    "start_time": "2023-06-09T19:09:23.231Z"
   },
   {
    "duration": 1548,
    "start_time": "2023-06-09T19:10:05.076Z"
   },
   {
    "duration": 1204,
    "start_time": "2023-06-09T19:10:06.627Z"
   },
   {
    "duration": 38,
    "start_time": "2023-06-09T19:10:07.833Z"
   },
   {
    "duration": 204,
    "start_time": "2023-06-09T19:10:07.881Z"
   },
   {
    "duration": 21,
    "start_time": "2023-06-09T19:10:08.089Z"
   },
   {
    "duration": 63,
    "start_time": "2023-06-09T19:10:08.112Z"
   },
   {
    "duration": 12,
    "start_time": "2023-06-09T19:10:08.177Z"
   },
   {
    "duration": 62,
    "start_time": "2023-06-09T19:10:08.191Z"
   },
   {
    "duration": 60,
    "start_time": "2023-06-09T19:10:08.256Z"
   },
   {
    "duration": 31,
    "start_time": "2023-06-09T19:10:08.318Z"
   },
   {
    "duration": 77,
    "start_time": "2023-06-09T19:10:08.351Z"
   },
   {
    "duration": 117,
    "start_time": "2023-06-09T19:10:08.430Z"
   },
   {
    "duration": 90,
    "start_time": "2023-06-09T19:10:08.549Z"
   },
   {
    "duration": 104,
    "start_time": "2023-06-09T19:10:08.643Z"
   },
   {
    "duration": 59,
    "start_time": "2023-06-09T19:10:08.749Z"
   },
   {
    "duration": 59,
    "start_time": "2023-06-09T19:10:08.811Z"
   },
   {
    "duration": 69,
    "start_time": "2023-06-09T19:10:08.872Z"
   },
   {
    "duration": 85,
    "start_time": "2023-06-09T19:10:08.950Z"
   },
   {
    "duration": 75,
    "start_time": "2023-06-09T19:10:09.037Z"
   },
   {
    "duration": 129,
    "start_time": "2023-06-09T19:10:09.114Z"
   },
   {
    "duration": 449,
    "start_time": "2023-06-09T19:10:09.246Z"
   },
   {
    "duration": 119,
    "start_time": "2023-06-09T19:10:09.697Z"
   },
   {
    "duration": 12,
    "start_time": "2023-06-09T19:10:09.818Z"
   },
   {
    "duration": 8,
    "start_time": "2023-06-09T19:10:09.848Z"
   },
   {
    "duration": 28,
    "start_time": "2023-06-09T19:10:09.858Z"
   },
   {
    "duration": 163,
    "start_time": "2023-06-09T19:10:09.889Z"
   },
   {
    "duration": 0,
    "start_time": "2023-06-09T19:10:10.060Z"
   },
   {
    "duration": 0,
    "start_time": "2023-06-09T19:10:10.061Z"
   },
   {
    "duration": 0,
    "start_time": "2023-06-09T19:10:10.063Z"
   },
   {
    "duration": 0,
    "start_time": "2023-06-09T19:10:10.064Z"
   },
   {
    "duration": 0,
    "start_time": "2023-06-09T19:10:10.065Z"
   },
   {
    "duration": 0,
    "start_time": "2023-06-09T19:10:10.066Z"
   },
   {
    "duration": 0,
    "start_time": "2023-06-09T19:10:10.068Z"
   },
   {
    "duration": 35,
    "start_time": "2023-06-09T19:10:43.158Z"
   },
   {
    "duration": 11,
    "start_time": "2023-06-09T19:11:00.278Z"
   },
   {
    "duration": 19,
    "start_time": "2023-06-09T19:11:13.980Z"
   },
   {
    "duration": 12,
    "start_time": "2023-06-09T19:14:07.934Z"
   },
   {
    "duration": 14,
    "start_time": "2023-06-09T19:14:41.317Z"
   },
   {
    "duration": 10762,
    "start_time": "2023-06-09T19:15:34.075Z"
   },
   {
    "duration": 27,
    "start_time": "2023-06-09T19:15:51.718Z"
   },
   {
    "duration": 2514,
    "start_time": "2023-06-09T19:16:13.924Z"
   },
   {
    "duration": 1166,
    "start_time": "2023-06-09T19:16:16.441Z"
   },
   {
    "duration": 1364,
    "start_time": "2023-06-09T19:16:17.609Z"
   },
   {
    "duration": 25,
    "start_time": "2023-06-09T19:16:18.975Z"
   },
   {
    "duration": 177,
    "start_time": "2023-06-09T19:16:19.004Z"
   },
   {
    "duration": 16,
    "start_time": "2023-06-09T19:16:19.183Z"
   },
   {
    "duration": 47,
    "start_time": "2023-06-09T19:16:19.208Z"
   },
   {
    "duration": 14,
    "start_time": "2023-06-09T19:16:19.260Z"
   },
   {
    "duration": 61,
    "start_time": "2023-06-09T19:16:19.277Z"
   },
   {
    "duration": 50,
    "start_time": "2023-06-09T19:16:19.340Z"
   },
   {
    "duration": 9,
    "start_time": "2023-06-09T19:16:19.392Z"
   },
   {
    "duration": 45,
    "start_time": "2023-06-09T19:16:19.402Z"
   },
   {
    "duration": 39,
    "start_time": "2023-06-09T19:16:19.450Z"
   },
   {
    "duration": 40,
    "start_time": "2023-06-09T19:16:19.492Z"
   },
   {
    "duration": 74,
    "start_time": "2023-06-09T19:16:19.535Z"
   },
   {
    "duration": 68,
    "start_time": "2023-06-09T19:16:19.611Z"
   },
   {
    "duration": 36,
    "start_time": "2023-06-09T19:16:19.681Z"
   },
   {
    "duration": 27,
    "start_time": "2023-06-09T19:16:19.718Z"
   },
   {
    "duration": 77,
    "start_time": "2023-06-09T19:16:19.747Z"
   },
   {
    "duration": 48,
    "start_time": "2023-06-09T19:16:19.826Z"
   },
   {
    "duration": 112,
    "start_time": "2023-06-09T19:16:19.883Z"
   },
   {
    "duration": 418,
    "start_time": "2023-06-09T19:16:19.997Z"
   },
   {
    "duration": 113,
    "start_time": "2023-06-09T19:16:20.416Z"
   },
   {
    "duration": 14,
    "start_time": "2023-06-09T19:16:20.531Z"
   },
   {
    "duration": 38,
    "start_time": "2023-06-09T19:16:20.547Z"
   },
   {
    "duration": 12,
    "start_time": "2023-06-09T19:16:20.587Z"
   },
   {
    "duration": 41,
    "start_time": "2023-06-09T19:16:20.601Z"
   },
   {
    "duration": 7331,
    "start_time": "2023-06-09T19:16:20.648Z"
   },
   {
    "duration": 353,
    "start_time": "2023-06-09T19:16:27.981Z"
   },
   {
    "duration": 164,
    "start_time": "2023-06-09T19:16:28.336Z"
   },
   {
    "duration": 607,
    "start_time": "2023-06-09T19:16:28.502Z"
   },
   {
    "duration": 216,
    "start_time": "2023-06-09T19:16:29.112Z"
   },
   {
    "duration": 131,
    "start_time": "2023-06-09T19:16:29.330Z"
   },
   {
    "duration": 14,
    "start_time": "2023-06-09T19:16:29.463Z"
   },
   {
    "duration": 23,
    "start_time": "2023-06-09T19:17:08.468Z"
   },
   {
    "duration": 2338,
    "start_time": "2023-06-09T19:17:19.836Z"
   },
   {
    "duration": 2286,
    "start_time": "2023-06-09T19:17:22.177Z"
   },
   {
    "duration": 1228,
    "start_time": "2023-06-09T19:17:24.465Z"
   },
   {
    "duration": 25,
    "start_time": "2023-06-09T19:17:25.695Z"
   },
   {
    "duration": 183,
    "start_time": "2023-06-09T19:17:25.723Z"
   },
   {
    "duration": 9,
    "start_time": "2023-06-09T19:17:25.908Z"
   },
   {
    "duration": 66,
    "start_time": "2023-06-09T19:17:25.918Z"
   },
   {
    "duration": 10,
    "start_time": "2023-06-09T19:17:25.988Z"
   },
   {
    "duration": 51,
    "start_time": "2023-06-09T19:17:26.001Z"
   },
   {
    "duration": 60,
    "start_time": "2023-06-09T19:17:26.054Z"
   },
   {
    "duration": 65,
    "start_time": "2023-06-09T19:17:26.117Z"
   },
   {
    "duration": 91,
    "start_time": "2023-06-09T19:17:26.185Z"
   },
   {
    "duration": 34,
    "start_time": "2023-06-09T19:17:26.280Z"
   },
   {
    "duration": 57,
    "start_time": "2023-06-09T19:17:26.319Z"
   },
   {
    "duration": 107,
    "start_time": "2023-06-09T19:17:26.378Z"
   },
   {
    "duration": 63,
    "start_time": "2023-06-09T19:17:26.488Z"
   },
   {
    "duration": 44,
    "start_time": "2023-06-09T19:17:26.553Z"
   },
   {
    "duration": 28,
    "start_time": "2023-06-09T19:17:26.599Z"
   },
   {
    "duration": 61,
    "start_time": "2023-06-09T19:17:26.629Z"
   },
   {
    "duration": 41,
    "start_time": "2023-06-09T19:17:26.692Z"
   },
   {
    "duration": 119,
    "start_time": "2023-06-09T19:17:26.734Z"
   },
   {
    "duration": 440,
    "start_time": "2023-06-09T19:17:26.855Z"
   },
   {
    "duration": 108,
    "start_time": "2023-06-09T19:17:27.296Z"
   },
   {
    "duration": 12,
    "start_time": "2023-06-09T19:17:27.406Z"
   },
   {
    "duration": 68,
    "start_time": "2023-06-09T19:17:27.420Z"
   },
   {
    "duration": 26,
    "start_time": "2023-06-09T19:17:27.490Z"
   },
   {
    "duration": 6790,
    "start_time": "2023-06-09T19:17:27.519Z"
   },
   {
    "duration": 379,
    "start_time": "2023-06-09T19:17:34.310Z"
   },
   {
    "duration": 136,
    "start_time": "2023-06-09T19:17:34.691Z"
   },
   {
    "duration": 133,
    "start_time": "2023-06-09T19:17:34.830Z"
   },
   {
    "duration": 157,
    "start_time": "2023-06-09T19:17:34.966Z"
   },
   {
    "duration": 225,
    "start_time": "2023-06-09T19:17:35.126Z"
   },
   {
    "duration": 10,
    "start_time": "2023-06-09T19:17:35.355Z"
   },
   {
    "duration": 1677,
    "start_time": "2023-06-09T19:25:35.282Z"
   },
   {
    "duration": 6,
    "start_time": "2023-06-09T19:30:45.284Z"
   },
   {
    "duration": 4,
    "start_time": "2023-06-09T19:31:13.634Z"
   },
   {
    "duration": 2901,
    "start_time": "2023-06-09T19:31:14.389Z"
   },
   {
    "duration": 75,
    "start_time": "2023-06-09T19:31:29.286Z"
   },
   {
    "duration": 189,
    "start_time": "2023-06-09T19:31:51.538Z"
   },
   {
    "duration": 92,
    "start_time": "2023-06-09T19:32:42.411Z"
   },
   {
    "duration": 15,
    "start_time": "2023-06-09T20:40:34.979Z"
   },
   {
    "duration": 4,
    "start_time": "2023-06-09T20:40:46.479Z"
   },
   {
    "duration": 3,
    "start_time": "2023-06-09T20:40:55.809Z"
   },
   {
    "duration": 14,
    "start_time": "2023-06-09T20:41:03.276Z"
   },
   {
    "duration": 5,
    "start_time": "2023-06-09T20:42:08.079Z"
   },
   {
    "duration": 13,
    "start_time": "2023-06-09T20:42:17.488Z"
   },
   {
    "duration": 4,
    "start_time": "2023-06-09T20:42:55.520Z"
   },
   {
    "duration": 35,
    "start_time": "2023-06-09T20:43:39.579Z"
   },
   {
    "duration": 56,
    "start_time": "2023-06-09T20:43:54.014Z"
   },
   {
    "duration": 4,
    "start_time": "2023-06-09T20:44:00.983Z"
   },
   {
    "duration": 10,
    "start_time": "2023-06-09T20:46:57.086Z"
   },
   {
    "duration": 27,
    "start_time": "2023-06-09T20:53:38.044Z"
   },
   {
    "duration": 8,
    "start_time": "2023-06-09T20:54:00.520Z"
   },
   {
    "duration": 24,
    "start_time": "2023-06-09T20:54:05.374Z"
   },
   {
    "duration": 6,
    "start_time": "2023-06-09T20:54:36.501Z"
   },
   {
    "duration": 13,
    "start_time": "2023-06-09T20:54:43.727Z"
   },
   {
    "duration": 4,
    "start_time": "2023-06-09T20:55:02.816Z"
   },
   {
    "duration": 23,
    "start_time": "2023-06-09T20:55:08.070Z"
   },
   {
    "duration": 4,
    "start_time": "2023-06-09T20:55:36.714Z"
   },
   {
    "duration": 15,
    "start_time": "2023-06-09T20:55:42.115Z"
   },
   {
    "duration": 1467928,
    "start_time": "2023-06-09T20:56:01.679Z"
   },
   {
    "duration": 40,
    "start_time": "2023-06-09T22:13:43.714Z"
   },
   {
    "duration": 37,
    "start_time": "2023-06-09T22:15:56.336Z"
   },
   {
    "duration": 31,
    "start_time": "2023-06-09T22:16:13.905Z"
   },
   {
    "duration": 31,
    "start_time": "2023-06-09T22:17:27.375Z"
   },
   {
    "duration": 38,
    "start_time": "2023-06-09T22:17:42.935Z"
   },
   {
    "duration": 31,
    "start_time": "2023-06-09T22:18:20.572Z"
   },
   {
    "duration": 1969,
    "start_time": "2023-06-09T22:25:14.456Z"
   },
   {
    "duration": 1074,
    "start_time": "2023-06-09T22:25:16.428Z"
   },
   {
    "duration": 985,
    "start_time": "2023-06-09T22:25:17.503Z"
   },
   {
    "duration": 24,
    "start_time": "2023-06-09T22:25:18.491Z"
   },
   {
    "duration": 161,
    "start_time": "2023-06-09T22:25:18.517Z"
   },
   {
    "duration": 8,
    "start_time": "2023-06-09T22:25:18.680Z"
   },
   {
    "duration": 34,
    "start_time": "2023-06-09T22:25:18.690Z"
   },
   {
    "duration": 28,
    "start_time": "2023-06-09T22:25:18.726Z"
   },
   {
    "duration": 42,
    "start_time": "2023-06-09T22:25:18.756Z"
   },
   {
    "duration": 43,
    "start_time": "2023-06-09T22:25:18.800Z"
   },
   {
    "duration": 13,
    "start_time": "2023-06-09T22:25:18.845Z"
   },
   {
    "duration": 30,
    "start_time": "2023-06-09T22:25:18.859Z"
   },
   {
    "duration": 14,
    "start_time": "2023-06-09T22:25:18.891Z"
   },
   {
    "duration": 56,
    "start_time": "2023-06-09T22:25:18.907Z"
   },
   {
    "duration": 48,
    "start_time": "2023-06-09T22:25:18.965Z"
   },
   {
    "duration": 59,
    "start_time": "2023-06-09T22:25:19.014Z"
   },
   {
    "duration": 23,
    "start_time": "2023-06-09T22:25:19.075Z"
   },
   {
    "duration": 33,
    "start_time": "2023-06-09T22:25:19.100Z"
   },
   {
    "duration": 53,
    "start_time": "2023-06-09T22:25:19.135Z"
   },
   {
    "duration": 52,
    "start_time": "2023-06-09T22:25:19.190Z"
   },
   {
    "duration": 100,
    "start_time": "2023-06-09T22:25:19.246Z"
   },
   {
    "duration": 364,
    "start_time": "2023-06-09T22:25:19.348Z"
   },
   {
    "duration": 97,
    "start_time": "2023-06-09T22:25:19.713Z"
   },
   {
    "duration": 9,
    "start_time": "2023-06-09T22:25:19.812Z"
   },
   {
    "duration": 20,
    "start_time": "2023-06-09T22:25:19.822Z"
   },
   {
    "duration": 8,
    "start_time": "2023-06-09T22:25:19.844Z"
   },
   {
    "duration": 6414,
    "start_time": "2023-06-09T22:25:19.854Z"
   },
   {
    "duration": 1747,
    "start_time": "2023-06-09T22:25:26.271Z"
   },
   {
    "duration": 3,
    "start_time": "2023-06-09T22:25:28.020Z"
   },
   {
    "duration": 2121,
    "start_time": "2023-06-09T22:25:28.025Z"
   },
   {
    "duration": 94,
    "start_time": "2023-06-09T22:25:30.149Z"
   },
   {
    "duration": 8,
    "start_time": "2023-06-09T22:25:30.245Z"
   },
   {
    "duration": 228,
    "start_time": "2023-06-09T22:25:30.255Z"
   },
   {
    "duration": 0,
    "start_time": "2023-06-09T22:25:30.484Z"
   },
   {
    "duration": 0,
    "start_time": "2023-06-09T22:25:30.486Z"
   },
   {
    "duration": 0,
    "start_time": "2023-06-09T22:25:30.486Z"
   },
   {
    "duration": 0,
    "start_time": "2023-06-09T22:25:30.488Z"
   },
   {
    "duration": 0,
    "start_time": "2023-06-09T22:25:30.489Z"
   },
   {
    "duration": 0,
    "start_time": "2023-06-09T22:25:30.490Z"
   },
   {
    "duration": 10,
    "start_time": "2023-06-09T22:32:03.310Z"
   },
   {
    "duration": 7,
    "start_time": "2023-06-09T22:32:10.282Z"
   },
   {
    "duration": 4,
    "start_time": "2023-06-09T22:32:15.364Z"
   },
   {
    "duration": 141,
    "start_time": "2023-06-09T22:34:04.622Z"
   },
   {
    "duration": 11,
    "start_time": "2023-06-09T22:35:55.120Z"
   },
   {
    "duration": 12,
    "start_time": "2023-06-09T22:39:58.699Z"
   },
   {
    "duration": 266,
    "start_time": "2023-06-09T22:41:30.286Z"
   },
   {
    "duration": 10,
    "start_time": "2023-06-09T22:44:21.982Z"
   },
   {
    "duration": 240,
    "start_time": "2023-06-09T22:44:40.802Z"
   },
   {
    "duration": 983,
    "start_time": "2023-06-09T22:46:49.830Z"
   },
   {
    "duration": 1061,
    "start_time": "2023-06-09T22:47:20.696Z"
   },
   {
    "duration": 2027,
    "start_time": "2023-06-09T22:47:30.789Z"
   },
   {
    "duration": 1854,
    "start_time": "2023-06-09T22:47:32.819Z"
   },
   {
    "duration": 1411,
    "start_time": "2023-06-09T22:47:34.674Z"
   },
   {
    "duration": 26,
    "start_time": "2023-06-09T22:47:36.087Z"
   },
   {
    "duration": 172,
    "start_time": "2023-06-09T22:47:36.115Z"
   },
   {
    "duration": 9,
    "start_time": "2023-06-09T22:47:36.289Z"
   },
   {
    "duration": 58,
    "start_time": "2023-06-09T22:47:36.300Z"
   },
   {
    "duration": 9,
    "start_time": "2023-06-09T22:47:36.360Z"
   },
   {
    "duration": 39,
    "start_time": "2023-06-09T22:47:36.370Z"
   },
   {
    "duration": 51,
    "start_time": "2023-06-09T22:47:36.411Z"
   },
   {
    "duration": 19,
    "start_time": "2023-06-09T22:47:36.464Z"
   },
   {
    "duration": 39,
    "start_time": "2023-06-09T22:47:36.485Z"
   },
   {
    "duration": 22,
    "start_time": "2023-06-09T22:47:36.526Z"
   },
   {
    "duration": 43,
    "start_time": "2023-06-09T22:47:36.553Z"
   },
   {
    "duration": 61,
    "start_time": "2023-06-09T22:47:36.598Z"
   },
   {
    "duration": 45,
    "start_time": "2023-06-09T22:47:36.661Z"
   },
   {
    "duration": 23,
    "start_time": "2023-06-09T22:47:36.708Z"
   },
   {
    "duration": 29,
    "start_time": "2023-06-09T22:47:36.743Z"
   },
   {
    "duration": 56,
    "start_time": "2023-06-09T22:47:36.774Z"
   },
   {
    "duration": 51,
    "start_time": "2023-06-09T22:47:36.832Z"
   },
   {
    "duration": 113,
    "start_time": "2023-06-09T22:47:36.885Z"
   },
   {
    "duration": 411,
    "start_time": "2023-06-09T22:47:36.999Z"
   },
   {
    "duration": 107,
    "start_time": "2023-06-09T22:47:37.412Z"
   },
   {
    "duration": 23,
    "start_time": "2023-06-09T22:47:37.521Z"
   },
   {
    "duration": 23,
    "start_time": "2023-06-09T22:47:37.546Z"
   },
   {
    "duration": 11,
    "start_time": "2023-06-09T22:47:37.571Z"
   },
   {
    "duration": 379,
    "start_time": "2023-06-09T22:47:37.583Z"
   },
   {
    "duration": 114,
    "start_time": "2023-06-09T22:47:37.964Z"
   },
   {
    "duration": 0,
    "start_time": "2023-06-09T22:47:38.079Z"
   },
   {
    "duration": 0,
    "start_time": "2023-06-09T22:47:38.080Z"
   },
   {
    "duration": 0,
    "start_time": "2023-06-09T22:47:38.081Z"
   },
   {
    "duration": 0,
    "start_time": "2023-06-09T22:47:38.082Z"
   },
   {
    "duration": 0,
    "start_time": "2023-06-09T22:47:38.083Z"
   },
   {
    "duration": 1,
    "start_time": "2023-06-09T22:47:38.085Z"
   },
   {
    "duration": 0,
    "start_time": "2023-06-09T22:47:38.087Z"
   },
   {
    "duration": 0,
    "start_time": "2023-06-09T22:47:38.088Z"
   },
   {
    "duration": 0,
    "start_time": "2023-06-09T22:47:38.089Z"
   },
   {
    "duration": 0,
    "start_time": "2023-06-09T22:47:38.090Z"
   },
   {
    "duration": 0,
    "start_time": "2023-06-09T22:47:38.091Z"
   },
   {
    "duration": 0,
    "start_time": "2023-06-09T22:47:38.092Z"
   },
   {
    "duration": 0,
    "start_time": "2023-06-09T22:47:38.093Z"
   },
   {
    "duration": 2072,
    "start_time": "2023-06-09T22:48:14.207Z"
   },
   {
    "duration": 1001,
    "start_time": "2023-06-09T22:48:16.282Z"
   },
   {
    "duration": 1030,
    "start_time": "2023-06-09T22:48:17.287Z"
   },
   {
    "duration": 39,
    "start_time": "2023-06-09T22:48:18.320Z"
   },
   {
    "duration": 150,
    "start_time": "2023-06-09T22:48:18.364Z"
   },
   {
    "duration": 9,
    "start_time": "2023-06-09T22:48:18.515Z"
   },
   {
    "duration": 46,
    "start_time": "2023-06-09T22:48:18.525Z"
   },
   {
    "duration": 9,
    "start_time": "2023-06-09T22:48:18.572Z"
   },
   {
    "duration": 36,
    "start_time": "2023-06-09T22:48:18.583Z"
   },
   {
    "duration": 53,
    "start_time": "2023-06-09T22:48:18.621Z"
   },
   {
    "duration": 14,
    "start_time": "2023-06-09T22:48:18.676Z"
   },
   {
    "duration": 28,
    "start_time": "2023-06-09T22:48:18.692Z"
   },
   {
    "duration": 26,
    "start_time": "2023-06-09T22:48:18.723Z"
   },
   {
    "duration": 34,
    "start_time": "2023-06-09T22:48:18.751Z"
   },
   {
    "duration": 75,
    "start_time": "2023-06-09T22:48:18.787Z"
   },
   {
    "duration": 39,
    "start_time": "2023-06-09T22:48:18.864Z"
   },
   {
    "duration": 42,
    "start_time": "2023-06-09T22:48:18.904Z"
   },
   {
    "duration": 33,
    "start_time": "2023-06-09T22:48:18.949Z"
   },
   {
    "duration": 44,
    "start_time": "2023-06-09T22:48:18.983Z"
   },
   {
    "duration": 50,
    "start_time": "2023-06-09T22:48:19.029Z"
   },
   {
    "duration": 100,
    "start_time": "2023-06-09T22:48:19.081Z"
   },
   {
    "duration": 381,
    "start_time": "2023-06-09T22:48:19.182Z"
   },
   {
    "duration": 101,
    "start_time": "2023-06-09T22:48:19.565Z"
   },
   {
    "duration": 11,
    "start_time": "2023-06-09T22:48:19.668Z"
   },
   {
    "duration": 8,
    "start_time": "2023-06-09T22:48:19.680Z"
   },
   {
    "duration": 10,
    "start_time": "2023-06-09T22:48:19.690Z"
   },
   {
    "duration": 6878,
    "start_time": "2023-06-09T22:48:19.702Z"
   },
   {
    "duration": 1550,
    "start_time": "2023-06-09T22:48:26.581Z"
   },
   {
    "duration": 2,
    "start_time": "2023-06-09T22:48:28.133Z"
   },
   {
    "duration": 1913,
    "start_time": "2023-06-09T22:48:28.141Z"
   },
   {
    "duration": 185,
    "start_time": "2023-06-09T22:48:30.057Z"
   },
   {
    "duration": 12,
    "start_time": "2023-06-09T22:48:30.248Z"
   },
   {
    "duration": 409,
    "start_time": "2023-06-09T22:48:30.347Z"
   },
   {
    "duration": 0,
    "start_time": "2023-06-09T22:48:30.757Z"
   },
   {
    "duration": 0,
    "start_time": "2023-06-09T22:48:30.759Z"
   },
   {
    "duration": 0,
    "start_time": "2023-06-09T22:48:30.760Z"
   },
   {
    "duration": 0,
    "start_time": "2023-06-09T22:48:30.761Z"
   },
   {
    "duration": 0,
    "start_time": "2023-06-09T22:48:30.762Z"
   },
   {
    "duration": 0,
    "start_time": "2023-06-09T22:48:30.763Z"
   },
   {
    "duration": 0,
    "start_time": "2023-06-09T22:48:30.764Z"
   },
   {
    "duration": 260,
    "start_time": "2023-06-09T22:51:20.451Z"
   },
   {
    "duration": 41,
    "start_time": "2023-06-09T22:56:07.925Z"
   },
   {
    "duration": 7137,
    "start_time": "2023-06-10T13:55:31.978Z"
   },
   {
    "duration": 1059,
    "start_time": "2023-06-10T13:55:39.118Z"
   },
   {
    "duration": 1289,
    "start_time": "2023-06-10T13:55:40.179Z"
   },
   {
    "duration": 24,
    "start_time": "2023-06-10T13:55:41.470Z"
   },
   {
    "duration": 209,
    "start_time": "2023-06-10T13:55:41.497Z"
   },
   {
    "duration": 12,
    "start_time": "2023-06-10T13:55:41.708Z"
   },
   {
    "duration": 96,
    "start_time": "2023-06-10T13:55:41.722Z"
   },
   {
    "duration": 27,
    "start_time": "2023-06-10T13:55:41.820Z"
   },
   {
    "duration": 40,
    "start_time": "2023-06-10T13:55:41.849Z"
   },
   {
    "duration": 43,
    "start_time": "2023-06-10T13:55:41.891Z"
   },
   {
    "duration": 69,
    "start_time": "2023-06-10T13:55:41.936Z"
   },
   {
    "duration": 59,
    "start_time": "2023-06-10T13:55:42.007Z"
   },
   {
    "duration": 32,
    "start_time": "2023-06-10T13:55:42.068Z"
   },
   {
    "duration": 88,
    "start_time": "2023-06-10T13:55:42.103Z"
   },
   {
    "duration": 92,
    "start_time": "2023-06-10T13:55:42.193Z"
   },
   {
    "duration": 72,
    "start_time": "2023-06-10T13:55:42.287Z"
   },
   {
    "duration": 30,
    "start_time": "2023-06-10T13:55:42.361Z"
   },
   {
    "duration": 66,
    "start_time": "2023-06-10T13:55:42.393Z"
   },
   {
    "duration": 80,
    "start_time": "2023-06-10T13:55:42.461Z"
   },
   {
    "duration": 55,
    "start_time": "2023-06-10T13:55:42.546Z"
   },
   {
    "duration": 188,
    "start_time": "2023-06-10T13:55:42.604Z"
   },
   {
    "duration": 411,
    "start_time": "2023-06-10T13:55:42.794Z"
   },
   {
    "duration": 92,
    "start_time": "2023-06-10T13:55:43.207Z"
   },
   {
    "duration": 10,
    "start_time": "2023-06-10T13:55:43.301Z"
   },
   {
    "duration": 38,
    "start_time": "2023-06-10T13:55:43.313Z"
   },
   {
    "duration": 18,
    "start_time": "2023-06-10T13:55:43.353Z"
   },
   {
    "duration": 4678,
    "start_time": "2023-06-10T13:55:43.374Z"
   },
   {
    "duration": 1223,
    "start_time": "2023-06-10T13:55:48.053Z"
   },
   {
    "duration": 2,
    "start_time": "2023-06-10T13:55:49.278Z"
   },
   {
    "duration": 3170,
    "start_time": "2023-06-10T13:55:49.282Z"
   },
   {
    "duration": 194,
    "start_time": "2023-06-10T13:55:52.454Z"
   },
   {
    "duration": 95,
    "start_time": "2023-06-10T13:55:52.651Z"
   },
   {
    "duration": 161,
    "start_time": "2023-06-10T13:55:52.748Z"
   },
   {
    "duration": 0,
    "start_time": "2023-06-10T13:55:52.911Z"
   },
   {
    "duration": 0,
    "start_time": "2023-06-10T13:55:52.912Z"
   },
   {
    "duration": 0,
    "start_time": "2023-06-10T13:55:52.913Z"
   },
   {
    "duration": 0,
    "start_time": "2023-06-10T13:55:52.915Z"
   },
   {
    "duration": 0,
    "start_time": "2023-06-10T13:55:52.916Z"
   },
   {
    "duration": 0,
    "start_time": "2023-06-10T13:55:52.917Z"
   },
   {
    "duration": 0,
    "start_time": "2023-06-10T13:55:52.918Z"
   },
   {
    "duration": 0,
    "start_time": "2023-06-10T13:55:52.919Z"
   },
   {
    "duration": 304,
    "start_time": "2023-06-10T13:57:44.881Z"
   },
   {
    "duration": 107,
    "start_time": "2023-06-10T13:59:05.463Z"
   },
   {
    "duration": 8278,
    "start_time": "2023-06-10T13:59:35.035Z"
   },
   {
    "duration": 38857,
    "start_time": "2023-06-10T14:00:45.271Z"
   },
   {
    "duration": 17450,
    "start_time": "2023-06-10T14:04:59.239Z"
   },
   {
    "duration": 620,
    "start_time": "2023-06-10T14:05:19.439Z"
   },
   {
    "duration": 2013,
    "start_time": "2023-06-10T14:08:34.065Z"
   },
   {
    "duration": 72,
    "start_time": "2023-06-10T14:08:37.636Z"
   },
   {
    "duration": 2541,
    "start_time": "2023-06-10T14:09:00.585Z"
   },
   {
    "duration": 1204,
    "start_time": "2023-06-10T14:09:03.129Z"
   },
   {
    "duration": 1122,
    "start_time": "2023-06-10T14:09:04.335Z"
   },
   {
    "duration": 29,
    "start_time": "2023-06-10T14:09:05.460Z"
   },
   {
    "duration": 217,
    "start_time": "2023-06-10T14:09:05.493Z"
   },
   {
    "duration": 12,
    "start_time": "2023-06-10T14:09:05.712Z"
   },
   {
    "duration": 42,
    "start_time": "2023-06-10T14:09:05.746Z"
   },
   {
    "duration": 14,
    "start_time": "2023-06-10T14:09:05.791Z"
   },
   {
    "duration": 107,
    "start_time": "2023-06-10T14:09:05.807Z"
   },
   {
    "duration": 134,
    "start_time": "2023-06-10T14:09:05.917Z"
   },
   {
    "duration": 11,
    "start_time": "2023-06-10T14:09:06.053Z"
   },
   {
    "duration": 106,
    "start_time": "2023-06-10T14:09:06.067Z"
   },
   {
    "duration": 79,
    "start_time": "2023-06-10T14:09:06.176Z"
   },
   {
    "duration": 100,
    "start_time": "2023-06-10T14:09:06.259Z"
   },
   {
    "duration": 121,
    "start_time": "2023-06-10T14:09:06.361Z"
   },
   {
    "duration": 170,
    "start_time": "2023-06-10T14:09:06.483Z"
   },
   {
    "duration": 101,
    "start_time": "2023-06-10T14:09:06.655Z"
   },
   {
    "duration": 125,
    "start_time": "2023-06-10T14:09:06.758Z"
   },
   {
    "duration": 163,
    "start_time": "2023-06-10T14:09:06.885Z"
   },
   {
    "duration": 111,
    "start_time": "2023-06-10T14:09:07.050Z"
   },
   {
    "duration": 216,
    "start_time": "2023-06-10T14:09:07.163Z"
   },
   {
    "duration": 713,
    "start_time": "2023-06-10T14:09:07.381Z"
   },
   {
    "duration": 103,
    "start_time": "2023-06-10T14:09:08.096Z"
   },
   {
    "duration": 11,
    "start_time": "2023-06-10T14:09:08.202Z"
   },
   {
    "duration": 7,
    "start_time": "2023-06-10T14:09:08.216Z"
   },
   {
    "duration": 8,
    "start_time": "2023-06-10T14:09:08.247Z"
   },
   {
    "duration": 4576,
    "start_time": "2023-06-10T14:09:08.257Z"
   },
   {
    "duration": 1180,
    "start_time": "2023-06-10T14:09:12.835Z"
   },
   {
    "duration": 2040,
    "start_time": "2023-06-10T14:09:14.017Z"
   },
   {
    "duration": 173,
    "start_time": "2023-06-10T14:09:16.146Z"
   },
   {
    "duration": 6,
    "start_time": "2023-06-10T14:09:16.321Z"
   },
   {
    "duration": 62,
    "start_time": "2023-06-10T14:09:16.329Z"
   },
   {
    "duration": 0,
    "start_time": "2023-06-10T14:09:16.392Z"
   },
   {
    "duration": 0,
    "start_time": "2023-06-10T14:09:16.394Z"
   },
   {
    "duration": 0,
    "start_time": "2023-06-10T14:09:16.395Z"
   },
   {
    "duration": 0,
    "start_time": "2023-06-10T14:09:16.396Z"
   },
   {
    "duration": 0,
    "start_time": "2023-06-10T14:09:16.397Z"
   },
   {
    "duration": 0,
    "start_time": "2023-06-10T14:09:16.398Z"
   },
   {
    "duration": 0,
    "start_time": "2023-06-10T14:09:16.398Z"
   },
   {
    "duration": 0,
    "start_time": "2023-06-10T14:09:16.399Z"
   },
   {
    "duration": 0,
    "start_time": "2023-06-10T14:09:16.400Z"
   },
   {
    "duration": 0,
    "start_time": "2023-06-10T14:09:16.401Z"
   },
   {
    "duration": 0,
    "start_time": "2023-06-10T14:09:16.403Z"
   },
   {
    "duration": 0,
    "start_time": "2023-06-10T14:09:16.404Z"
   },
   {
    "duration": 2380,
    "start_time": "2023-06-10T14:09:34.659Z"
   },
   {
    "duration": 1805,
    "start_time": "2023-06-10T14:09:37.042Z"
   },
   {
    "duration": 1120,
    "start_time": "2023-06-10T14:09:38.849Z"
   },
   {
    "duration": 25,
    "start_time": "2023-06-10T14:09:39.971Z"
   },
   {
    "duration": 170,
    "start_time": "2023-06-10T14:09:39.998Z"
   },
   {
    "duration": 10,
    "start_time": "2023-06-10T14:09:40.170Z"
   },
   {
    "duration": 71,
    "start_time": "2023-06-10T14:09:40.182Z"
   },
   {
    "duration": 10,
    "start_time": "2023-06-10T14:09:40.255Z"
   },
   {
    "duration": 70,
    "start_time": "2023-06-10T14:09:40.267Z"
   },
   {
    "duration": 41,
    "start_time": "2023-06-10T14:09:40.339Z"
   },
   {
    "duration": 45,
    "start_time": "2023-06-10T14:09:40.382Z"
   },
   {
    "duration": 63,
    "start_time": "2023-06-10T14:09:40.429Z"
   },
   {
    "duration": 15,
    "start_time": "2023-06-10T14:09:40.494Z"
   },
   {
    "duration": 32,
    "start_time": "2023-06-10T14:09:40.512Z"
   },
   {
    "duration": 60,
    "start_time": "2023-06-10T14:09:40.546Z"
   },
   {
    "duration": 66,
    "start_time": "2023-06-10T14:09:40.608Z"
   },
   {
    "duration": 26,
    "start_time": "2023-06-10T14:09:40.676Z"
   },
   {
    "duration": 73,
    "start_time": "2023-06-10T14:09:40.704Z"
   },
   {
    "duration": 110,
    "start_time": "2023-06-10T14:09:40.779Z"
   },
   {
    "duration": 65,
    "start_time": "2023-06-10T14:09:40.890Z"
   },
   {
    "duration": 122,
    "start_time": "2023-06-10T14:09:40.957Z"
   },
   {
    "duration": 365,
    "start_time": "2023-06-10T14:09:41.081Z"
   },
   {
    "duration": 98,
    "start_time": "2023-06-10T14:09:41.448Z"
   },
   {
    "duration": 11,
    "start_time": "2023-06-10T14:09:41.548Z"
   },
   {
    "duration": 29,
    "start_time": "2023-06-10T14:09:41.561Z"
   },
   {
    "duration": 34,
    "start_time": "2023-06-10T14:09:41.592Z"
   },
   {
    "duration": 4558,
    "start_time": "2023-06-10T14:09:41.627Z"
   },
   {
    "duration": 1221,
    "start_time": "2023-06-10T14:09:46.188Z"
   },
   {
    "duration": 2736,
    "start_time": "2023-06-10T14:09:47.411Z"
   },
   {
    "duration": 97,
    "start_time": "2023-06-10T14:09:50.149Z"
   },
   {
    "duration": 98,
    "start_time": "2023-06-10T14:09:50.249Z"
   },
   {
    "duration": 163,
    "start_time": "2023-06-10T14:09:50.349Z"
   },
   {
    "duration": 0,
    "start_time": "2023-06-10T14:09:50.513Z"
   },
   {
    "duration": 0,
    "start_time": "2023-06-10T14:09:50.515Z"
   },
   {
    "duration": 0,
    "start_time": "2023-06-10T14:09:50.516Z"
   },
   {
    "duration": 0,
    "start_time": "2023-06-10T14:09:50.517Z"
   },
   {
    "duration": 0,
    "start_time": "2023-06-10T14:09:50.518Z"
   },
   {
    "duration": 0,
    "start_time": "2023-06-10T14:09:50.519Z"
   },
   {
    "duration": 0,
    "start_time": "2023-06-10T14:09:50.520Z"
   },
   {
    "duration": 0,
    "start_time": "2023-06-10T14:09:50.522Z"
   },
   {
    "duration": 0,
    "start_time": "2023-06-10T14:09:50.523Z"
   },
   {
    "duration": 0,
    "start_time": "2023-06-10T14:09:50.525Z"
   },
   {
    "duration": 0,
    "start_time": "2023-06-10T14:09:50.526Z"
   },
   {
    "duration": 0,
    "start_time": "2023-06-10T14:09:50.546Z"
   },
   {
    "duration": 290,
    "start_time": "2023-06-10T14:10:00.957Z"
   },
   {
    "duration": 133,
    "start_time": "2023-06-10T14:10:02.948Z"
   },
   {
    "duration": 8046,
    "start_time": "2023-06-10T14:10:07.104Z"
   },
   {
    "duration": 41529,
    "start_time": "2023-06-10T14:10:15.152Z"
   },
   {
    "duration": 20524,
    "start_time": "2023-06-10T14:10:56.683Z"
   },
   {
    "duration": 641,
    "start_time": "2023-06-10T14:11:17.209Z"
   },
   {
    "duration": 2702,
    "start_time": "2023-06-10T14:23:23.974Z"
   },
   {
    "duration": 1720,
    "start_time": "2023-06-10T14:23:26.680Z"
   },
   {
    "duration": 1054,
    "start_time": "2023-06-10T14:23:28.404Z"
   },
   {
    "duration": 25,
    "start_time": "2023-06-10T14:23:29.461Z"
   },
   {
    "duration": 172,
    "start_time": "2023-06-10T14:23:29.488Z"
   },
   {
    "duration": 9,
    "start_time": "2023-06-10T14:23:29.661Z"
   },
   {
    "duration": 40,
    "start_time": "2023-06-10T14:23:29.672Z"
   },
   {
    "duration": 9,
    "start_time": "2023-06-10T14:23:29.714Z"
   },
   {
    "duration": 37,
    "start_time": "2023-06-10T14:23:29.747Z"
   },
   {
    "duration": 34,
    "start_time": "2023-06-10T14:23:29.785Z"
   },
   {
    "duration": 40,
    "start_time": "2023-06-10T14:23:29.821Z"
   },
   {
    "duration": 40,
    "start_time": "2023-06-10T14:23:29.863Z"
   },
   {
    "duration": 24,
    "start_time": "2023-06-10T14:23:29.909Z"
   },
   {
    "duration": 36,
    "start_time": "2023-06-10T14:23:29.935Z"
   },
   {
    "duration": 74,
    "start_time": "2023-06-10T14:23:29.973Z"
   },
   {
    "duration": 102,
    "start_time": "2023-06-10T14:23:30.049Z"
   },
   {
    "duration": 41,
    "start_time": "2023-06-10T14:23:30.153Z"
   },
   {
    "duration": 97,
    "start_time": "2023-06-10T14:23:30.196Z"
   },
   {
    "duration": 88,
    "start_time": "2023-06-10T14:23:30.295Z"
   },
   {
    "duration": 112,
    "start_time": "2023-06-10T14:23:30.385Z"
   },
   {
    "duration": 122,
    "start_time": "2023-06-10T14:23:30.499Z"
   },
   {
    "duration": 400,
    "start_time": "2023-06-10T14:23:30.623Z"
   },
   {
    "duration": 97,
    "start_time": "2023-06-10T14:23:31.024Z"
   },
   {
    "duration": 25,
    "start_time": "2023-06-10T14:23:31.123Z"
   },
   {
    "duration": 90,
    "start_time": "2023-06-10T14:23:31.150Z"
   },
   {
    "duration": 110,
    "start_time": "2023-06-10T14:23:31.242Z"
   },
   {
    "duration": 5071,
    "start_time": "2023-06-10T14:23:31.354Z"
   },
   {
    "duration": 1323,
    "start_time": "2023-06-10T14:23:36.427Z"
   },
   {
    "duration": 3595,
    "start_time": "2023-06-10T14:23:37.752Z"
   },
   {
    "duration": 99,
    "start_time": "2023-06-10T14:23:41.350Z"
   },
   {
    "duration": 93,
    "start_time": "2023-06-10T14:23:41.454Z"
   },
   {
    "duration": 156,
    "start_time": "2023-06-10T14:23:41.550Z"
   },
   {
    "duration": 0,
    "start_time": "2023-06-10T14:23:41.708Z"
   },
   {
    "duration": 0,
    "start_time": "2023-06-10T14:23:41.710Z"
   },
   {
    "duration": 0,
    "start_time": "2023-06-10T14:23:41.711Z"
   },
   {
    "duration": 0,
    "start_time": "2023-06-10T14:23:41.712Z"
   },
   {
    "duration": 0,
    "start_time": "2023-06-10T14:23:41.713Z"
   },
   {
    "duration": 0,
    "start_time": "2023-06-10T14:23:41.715Z"
   },
   {
    "duration": 0,
    "start_time": "2023-06-10T14:23:41.716Z"
   },
   {
    "duration": 0,
    "start_time": "2023-06-10T14:23:41.717Z"
   },
   {
    "duration": 0,
    "start_time": "2023-06-10T14:23:41.719Z"
   },
   {
    "duration": 0,
    "start_time": "2023-06-10T14:23:41.720Z"
   },
   {
    "duration": 0,
    "start_time": "2023-06-10T14:23:41.722Z"
   },
   {
    "duration": 0,
    "start_time": "2023-06-10T14:23:41.723Z"
   },
   {
    "duration": 0,
    "start_time": "2023-06-10T14:23:41.724Z"
   },
   {
    "duration": 1,
    "start_time": "2023-06-10T14:23:41.724Z"
   },
   {
    "duration": 285,
    "start_time": "2023-06-10T14:23:45.387Z"
   },
   {
    "duration": 113,
    "start_time": "2023-06-10T14:23:47.351Z"
   },
   {
    "duration": 8494,
    "start_time": "2023-06-10T14:23:48.604Z"
   },
   {
    "duration": 40221,
    "start_time": "2023-06-10T14:23:57.101Z"
   },
   {
    "duration": 20184,
    "start_time": "2023-06-10T14:24:37.324Z"
   },
   {
    "duration": 638,
    "start_time": "2023-06-10T14:24:57.510Z"
   },
   {
    "duration": 2426,
    "start_time": "2023-06-10T14:30:22.652Z"
   },
   {
    "duration": 1140,
    "start_time": "2023-06-10T14:30:25.081Z"
   },
   {
    "duration": 1095,
    "start_time": "2023-06-10T14:30:26.223Z"
   },
   {
    "duration": 33,
    "start_time": "2023-06-10T14:30:27.320Z"
   },
   {
    "duration": 173,
    "start_time": "2023-06-10T14:30:27.357Z"
   },
   {
    "duration": 10,
    "start_time": "2023-06-10T14:30:27.546Z"
   },
   {
    "duration": 43,
    "start_time": "2023-06-10T14:30:27.558Z"
   },
   {
    "duration": 10,
    "start_time": "2023-06-10T14:30:27.603Z"
   },
   {
    "duration": 55,
    "start_time": "2023-06-10T14:30:27.615Z"
   },
   {
    "duration": 33,
    "start_time": "2023-06-10T14:30:27.672Z"
   },
   {
    "duration": 42,
    "start_time": "2023-06-10T14:30:27.707Z"
   },
   {
    "duration": 62,
    "start_time": "2023-06-10T14:30:27.751Z"
   },
   {
    "duration": 47,
    "start_time": "2023-06-10T14:30:27.815Z"
   },
   {
    "duration": 43,
    "start_time": "2023-06-10T14:30:27.867Z"
   },
   {
    "duration": 106,
    "start_time": "2023-06-10T14:30:27.912Z"
   },
   {
    "duration": 70,
    "start_time": "2023-06-10T14:30:28.021Z"
   },
   {
    "duration": 30,
    "start_time": "2023-06-10T14:30:28.094Z"
   },
   {
    "duration": 58,
    "start_time": "2023-06-10T14:30:28.127Z"
   },
   {
    "duration": 79,
    "start_time": "2023-06-10T14:30:28.187Z"
   },
   {
    "duration": 58,
    "start_time": "2023-06-10T14:30:28.269Z"
   },
   {
    "duration": 149,
    "start_time": "2023-06-10T14:30:28.330Z"
   },
   {
    "duration": 388,
    "start_time": "2023-06-10T14:30:28.481Z"
   },
   {
    "duration": 101,
    "start_time": "2023-06-10T14:30:28.871Z"
   },
   {
    "duration": 16,
    "start_time": "2023-06-10T14:30:28.974Z"
   },
   {
    "duration": 90,
    "start_time": "2023-06-10T14:30:28.992Z"
   },
   {
    "duration": 40,
    "start_time": "2023-06-10T14:30:29.085Z"
   },
   {
    "duration": 5535,
    "start_time": "2023-06-10T14:30:29.127Z"
   },
   {
    "duration": 1611,
    "start_time": "2023-06-10T14:30:34.664Z"
   },
   {
    "duration": 3184,
    "start_time": "2023-06-10T14:30:36.277Z"
   },
   {
    "duration": 188,
    "start_time": "2023-06-10T14:30:39.464Z"
   },
   {
    "duration": 86,
    "start_time": "2023-06-10T14:30:39.660Z"
   },
   {
    "duration": 230,
    "start_time": "2023-06-10T14:30:39.749Z"
   },
   {
    "duration": 1,
    "start_time": "2023-06-10T14:30:39.982Z"
   },
   {
    "duration": 0,
    "start_time": "2023-06-10T14:30:39.986Z"
   },
   {
    "duration": 0,
    "start_time": "2023-06-10T14:30:39.988Z"
   },
   {
    "duration": 0,
    "start_time": "2023-06-10T14:30:39.995Z"
   },
   {
    "duration": 0,
    "start_time": "2023-06-10T14:30:39.997Z"
   },
   {
    "duration": 0,
    "start_time": "2023-06-10T14:30:39.998Z"
   },
   {
    "duration": 1,
    "start_time": "2023-06-10T14:30:39.999Z"
   },
   {
    "duration": 0,
    "start_time": "2023-06-10T14:30:40.000Z"
   },
   {
    "duration": 0,
    "start_time": "2023-06-10T14:30:40.002Z"
   },
   {
    "duration": 0,
    "start_time": "2023-06-10T14:30:40.003Z"
   },
   {
    "duration": 0,
    "start_time": "2023-06-10T14:30:40.005Z"
   },
   {
    "duration": 0,
    "start_time": "2023-06-10T14:30:40.006Z"
   },
   {
    "duration": 0,
    "start_time": "2023-06-10T14:30:40.007Z"
   },
   {
    "duration": 0,
    "start_time": "2023-06-10T14:30:40.009Z"
   },
   {
    "duration": 310,
    "start_time": "2023-06-10T14:31:57.104Z"
   },
   {
    "duration": 111,
    "start_time": "2023-06-10T14:31:58.551Z"
   },
   {
    "duration": 8575,
    "start_time": "2023-06-10T14:32:02.399Z"
   },
   {
    "duration": 43696,
    "start_time": "2023-06-10T14:32:10.976Z"
   },
   {
    "duration": 20958,
    "start_time": "2023-06-10T14:32:54.674Z"
   },
   {
    "duration": 617,
    "start_time": "2023-06-10T14:33:15.635Z"
   },
   {
    "duration": 480609,
    "start_time": "2023-06-10T14:33:16.253Z"
   },
   {
    "duration": 495,
    "start_time": "2023-06-10T14:41:16.864Z"
   },
   {
    "duration": 377672,
    "start_time": "2023-06-10T14:45:06.694Z"
   },
   {
    "duration": 495,
    "start_time": "2023-06-10T14:51:24.369Z"
   },
   {
    "duration": 4324,
    "start_time": "2023-06-10T15:06:38.924Z"
   },
   {
    "duration": 357,
    "start_time": "2023-06-10T15:06:46.099Z"
   },
   {
    "duration": 8541,
    "start_time": "2023-06-10T15:07:02.706Z"
   },
   {
    "duration": 427,
    "start_time": "2023-06-10T15:07:12.430Z"
   },
   {
    "duration": 8179,
    "start_time": "2023-06-10T15:12:58.167Z"
   },
   {
    "duration": 712,
    "start_time": "2023-06-10T15:13:10.751Z"
   },
   {
    "duration": 13734,
    "start_time": "2023-06-10T15:13:16.528Z"
   },
   {
    "duration": 1709,
    "start_time": "2023-06-10T15:13:30.264Z"
   },
   {
    "duration": 14214,
    "start_time": "2023-06-10T15:13:41.736Z"
   },
   {
    "duration": 1901,
    "start_time": "2023-06-10T15:13:55.953Z"
   },
   {
    "duration": 14630,
    "start_time": "2023-06-10T15:18:35.831Z"
   },
   {
    "duration": 1784,
    "start_time": "2023-06-10T15:18:50.463Z"
   },
   {
    "duration": 16,
    "start_time": "2023-06-10T15:28:01.973Z"
   },
   {
    "duration": 13,
    "start_time": "2023-06-10T15:28:29.617Z"
   },
   {
    "duration": 2124,
    "start_time": "2023-06-10T15:28:43.970Z"
   },
   {
    "duration": 1110,
    "start_time": "2023-06-10T15:28:46.097Z"
   },
   {
    "duration": 1047,
    "start_time": "2023-06-10T15:28:47.209Z"
   },
   {
    "duration": 20,
    "start_time": "2023-06-10T15:28:48.259Z"
   },
   {
    "duration": 178,
    "start_time": "2023-06-10T15:28:48.281Z"
   },
   {
    "duration": 8,
    "start_time": "2023-06-10T15:28:48.461Z"
   },
   {
    "duration": 41,
    "start_time": "2023-06-10T15:28:48.471Z"
   },
   {
    "duration": 9,
    "start_time": "2023-06-10T15:28:48.514Z"
   },
   {
    "duration": 32,
    "start_time": "2023-06-10T15:28:48.546Z"
   },
   {
    "duration": 31,
    "start_time": "2023-06-10T15:28:48.580Z"
   },
   {
    "duration": 18,
    "start_time": "2023-06-10T15:28:48.613Z"
   },
   {
    "duration": 47,
    "start_time": "2023-06-10T15:28:48.633Z"
   },
   {
    "duration": 22,
    "start_time": "2023-06-10T15:28:48.682Z"
   },
   {
    "duration": 45,
    "start_time": "2023-06-10T15:28:48.708Z"
   },
   {
    "duration": 107,
    "start_time": "2023-06-10T15:28:48.755Z"
   },
   {
    "duration": 115,
    "start_time": "2023-06-10T15:28:48.864Z"
   },
   {
    "duration": 82,
    "start_time": "2023-06-10T15:28:48.980Z"
   },
   {
    "duration": 87,
    "start_time": "2023-06-10T15:28:49.064Z"
   },
   {
    "duration": 112,
    "start_time": "2023-06-10T15:28:49.153Z"
   },
   {
    "duration": 184,
    "start_time": "2023-06-10T15:28:49.267Z"
   },
   {
    "duration": 218,
    "start_time": "2023-06-10T15:28:49.453Z"
   },
   {
    "duration": 716,
    "start_time": "2023-06-10T15:28:49.673Z"
   },
   {
    "duration": 198,
    "start_time": "2023-06-10T15:28:50.391Z"
   },
   {
    "duration": 10,
    "start_time": "2023-06-10T15:28:50.591Z"
   },
   {
    "duration": 55,
    "start_time": "2023-06-10T15:28:50.603Z"
   },
   {
    "duration": 42,
    "start_time": "2023-06-10T15:28:50.660Z"
   },
   {
    "duration": 5284,
    "start_time": "2023-06-10T15:28:50.704Z"
   },
   {
    "duration": 1405,
    "start_time": "2023-06-10T15:28:55.990Z"
   },
   {
    "duration": 1950,
    "start_time": "2023-06-10T15:28:57.397Z"
   },
   {
    "duration": 33,
    "start_time": "2023-06-10T15:28:59.349Z"
   },
   {
    "duration": 98,
    "start_time": "2023-06-10T15:28:59.450Z"
   },
   {
    "duration": 137,
    "start_time": "2023-06-10T15:28:59.550Z"
   },
   {
    "duration": 0,
    "start_time": "2023-06-10T15:28:59.689Z"
   },
   {
    "duration": 0,
    "start_time": "2023-06-10T15:28:59.690Z"
   },
   {
    "duration": 0,
    "start_time": "2023-06-10T15:28:59.691Z"
   },
   {
    "duration": 0,
    "start_time": "2023-06-10T15:28:59.692Z"
   },
   {
    "duration": 0,
    "start_time": "2023-06-10T15:28:59.693Z"
   },
   {
    "duration": 0,
    "start_time": "2023-06-10T15:28:59.694Z"
   },
   {
    "duration": 0,
    "start_time": "2023-06-10T15:28:59.695Z"
   },
   {
    "duration": 0,
    "start_time": "2023-06-10T15:28:59.696Z"
   },
   {
    "duration": 0,
    "start_time": "2023-06-10T15:28:59.697Z"
   },
   {
    "duration": 0,
    "start_time": "2023-06-10T15:28:59.698Z"
   },
   {
    "duration": 0,
    "start_time": "2023-06-10T15:28:59.699Z"
   },
   {
    "duration": 0,
    "start_time": "2023-06-10T15:28:59.700Z"
   },
   {
    "duration": 0,
    "start_time": "2023-06-10T15:28:59.701Z"
   },
   {
    "duration": 0,
    "start_time": "2023-06-10T15:28:59.702Z"
   },
   {
    "duration": 32,
    "start_time": "2023-06-10T15:29:21.799Z"
   },
   {
    "duration": 2324,
    "start_time": "2023-06-10T15:33:50.538Z"
   },
   {
    "duration": 1012,
    "start_time": "2023-06-10T15:33:52.866Z"
   },
   {
    "duration": 1876,
    "start_time": "2023-06-10T15:33:53.879Z"
   },
   {
    "duration": 21,
    "start_time": "2023-06-10T15:33:55.757Z"
   },
   {
    "duration": 178,
    "start_time": "2023-06-10T15:33:55.780Z"
   },
   {
    "duration": 9,
    "start_time": "2023-06-10T15:33:55.960Z"
   },
   {
    "duration": 35,
    "start_time": "2023-06-10T15:33:55.970Z"
   },
   {
    "duration": 10,
    "start_time": "2023-06-10T15:33:56.007Z"
   },
   {
    "duration": 58,
    "start_time": "2023-06-10T15:33:56.018Z"
   },
   {
    "duration": 35,
    "start_time": "2023-06-10T15:33:56.078Z"
   },
   {
    "duration": 99,
    "start_time": "2023-06-10T15:33:56.114Z"
   },
   {
    "duration": 95,
    "start_time": "2023-06-10T15:33:56.215Z"
   },
   {
    "duration": 62,
    "start_time": "2023-06-10T15:33:56.311Z"
   },
   {
    "duration": 76,
    "start_time": "2023-06-10T15:33:56.375Z"
   },
   {
    "duration": 68,
    "start_time": "2023-06-10T15:33:56.453Z"
   },
   {
    "duration": 58,
    "start_time": "2023-06-10T15:33:56.523Z"
   },
   {
    "duration": 29,
    "start_time": "2023-06-10T15:33:56.583Z"
   },
   {
    "duration": 41,
    "start_time": "2023-06-10T15:33:56.614Z"
   },
   {
    "duration": 72,
    "start_time": "2023-06-10T15:33:56.657Z"
   },
   {
    "duration": 53,
    "start_time": "2023-06-10T15:33:56.732Z"
   },
   {
    "duration": 117,
    "start_time": "2023-06-10T15:33:56.787Z"
   },
   {
    "duration": 364,
    "start_time": "2023-06-10T15:33:56.906Z"
   },
   {
    "duration": 95,
    "start_time": "2023-06-10T15:33:57.272Z"
   },
   {
    "duration": 11,
    "start_time": "2023-06-10T15:33:57.369Z"
   },
   {
    "duration": 14,
    "start_time": "2023-06-10T15:33:57.382Z"
   },
   {
    "duration": 21,
    "start_time": "2023-06-10T15:33:57.397Z"
   },
   {
    "duration": 4366,
    "start_time": "2023-06-10T15:33:57.420Z"
   },
   {
    "duration": 1362,
    "start_time": "2023-06-10T15:34:01.790Z"
   },
   {
    "duration": 1994,
    "start_time": "2023-06-10T15:34:03.153Z"
   },
   {
    "duration": 99,
    "start_time": "2023-06-10T15:34:05.149Z"
   },
   {
    "duration": 107,
    "start_time": "2023-06-10T15:34:05.253Z"
   },
   {
    "duration": 144,
    "start_time": "2023-06-10T15:34:05.362Z"
   },
   {
    "duration": 0,
    "start_time": "2023-06-10T15:34:05.508Z"
   },
   {
    "duration": 0,
    "start_time": "2023-06-10T15:34:05.509Z"
   },
   {
    "duration": 0,
    "start_time": "2023-06-10T15:34:05.510Z"
   },
   {
    "duration": 0,
    "start_time": "2023-06-10T15:34:05.511Z"
   },
   {
    "duration": 0,
    "start_time": "2023-06-10T15:34:05.512Z"
   },
   {
    "duration": 0,
    "start_time": "2023-06-10T15:34:05.513Z"
   },
   {
    "duration": 0,
    "start_time": "2023-06-10T15:34:05.514Z"
   },
   {
    "duration": 0,
    "start_time": "2023-06-10T15:34:05.515Z"
   },
   {
    "duration": 0,
    "start_time": "2023-06-10T15:34:05.516Z"
   },
   {
    "duration": 0,
    "start_time": "2023-06-10T15:34:05.518Z"
   },
   {
    "duration": 0,
    "start_time": "2023-06-10T15:34:05.519Z"
   },
   {
    "duration": 0,
    "start_time": "2023-06-10T15:34:05.520Z"
   },
   {
    "duration": 0,
    "start_time": "2023-06-10T15:34:05.521Z"
   },
   {
    "duration": 0,
    "start_time": "2023-06-10T15:34:05.522Z"
   },
   {
    "duration": 0,
    "start_time": "2023-06-10T15:34:05.546Z"
   },
   {
    "duration": 323,
    "start_time": "2023-06-10T15:34:12.187Z"
   },
   {
    "duration": 120,
    "start_time": "2023-06-10T15:34:14.304Z"
   },
   {
    "duration": 8111,
    "start_time": "2023-06-10T15:34:15.585Z"
   },
   {
    "duration": 39179,
    "start_time": "2023-06-10T15:34:23.698Z"
   },
   {
    "duration": 19657,
    "start_time": "2023-06-10T15:35:02.879Z"
   },
   {
    "duration": 676,
    "start_time": "2023-06-10T15:35:22.539Z"
   },
   {
    "duration": 109,
    "start_time": "2023-06-10T15:37:46.833Z"
   },
   {
    "duration": 3582,
    "start_time": "2023-06-10T15:37:56.957Z"
   },
   {
    "duration": 1427,
    "start_time": "2023-06-10T15:38:00.542Z"
   },
   {
    "duration": 1588,
    "start_time": "2023-06-10T15:38:01.971Z"
   },
   {
    "duration": 23,
    "start_time": "2023-06-10T15:38:03.561Z"
   },
   {
    "duration": 163,
    "start_time": "2023-06-10T15:38:03.585Z"
   },
   {
    "duration": 9,
    "start_time": "2023-06-10T15:38:03.750Z"
   },
   {
    "duration": 31,
    "start_time": "2023-06-10T15:38:03.761Z"
   },
   {
    "duration": 9,
    "start_time": "2023-06-10T15:38:03.793Z"
   },
   {
    "duration": 66,
    "start_time": "2023-06-10T15:38:03.804Z"
   },
   {
    "duration": 31,
    "start_time": "2023-06-10T15:38:03.873Z"
   },
   {
    "duration": 13,
    "start_time": "2023-06-10T15:38:03.906Z"
   },
   {
    "duration": 88,
    "start_time": "2023-06-10T15:38:03.921Z"
   },
   {
    "duration": 28,
    "start_time": "2023-06-10T15:38:04.011Z"
   },
   {
    "duration": 39,
    "start_time": "2023-06-10T15:38:04.041Z"
   },
   {
    "duration": 64,
    "start_time": "2023-06-10T15:38:04.082Z"
   },
   {
    "duration": 42,
    "start_time": "2023-06-10T15:38:04.147Z"
   },
   {
    "duration": 26,
    "start_time": "2023-06-10T15:38:04.191Z"
   },
   {
    "duration": 50,
    "start_time": "2023-06-10T15:38:04.219Z"
   },
   {
    "duration": 89,
    "start_time": "2023-06-10T15:38:04.270Z"
   },
   {
    "duration": 42,
    "start_time": "2023-06-10T15:38:04.361Z"
   },
   {
    "duration": 104,
    "start_time": "2023-06-10T15:38:04.405Z"
   },
   {
    "duration": 352,
    "start_time": "2023-06-10T15:38:04.510Z"
   },
   {
    "duration": 86,
    "start_time": "2023-06-10T15:38:04.864Z"
   },
   {
    "duration": 11,
    "start_time": "2023-06-10T15:38:04.951Z"
   },
   {
    "duration": 10,
    "start_time": "2023-06-10T15:38:04.964Z"
   },
   {
    "duration": 18,
    "start_time": "2023-06-10T15:38:04.976Z"
   },
   {
    "duration": 4487,
    "start_time": "2023-06-10T15:38:04.996Z"
   },
   {
    "duration": 1215,
    "start_time": "2023-06-10T15:38:09.487Z"
   },
   {
    "duration": 1944,
    "start_time": "2023-06-10T15:38:10.703Z"
   },
   {
    "duration": 37,
    "start_time": "2023-06-10T15:38:12.649Z"
   },
   {
    "duration": 100,
    "start_time": "2023-06-10T15:38:12.751Z"
   },
   {
    "duration": 155,
    "start_time": "2023-06-10T15:38:12.853Z"
   },
   {
    "duration": 0,
    "start_time": "2023-06-10T15:38:13.010Z"
   },
   {
    "duration": 0,
    "start_time": "2023-06-10T15:38:13.011Z"
   },
   {
    "duration": 0,
    "start_time": "2023-06-10T15:38:13.012Z"
   },
   {
    "duration": 0,
    "start_time": "2023-06-10T15:38:13.013Z"
   },
   {
    "duration": 0,
    "start_time": "2023-06-10T15:38:13.014Z"
   },
   {
    "duration": 0,
    "start_time": "2023-06-10T15:38:13.016Z"
   },
   {
    "duration": 0,
    "start_time": "2023-06-10T15:38:13.017Z"
   },
   {
    "duration": 0,
    "start_time": "2023-06-10T15:38:13.018Z"
   },
   {
    "duration": 0,
    "start_time": "2023-06-10T15:38:13.019Z"
   },
   {
    "duration": 0,
    "start_time": "2023-06-10T15:38:13.020Z"
   },
   {
    "duration": 0,
    "start_time": "2023-06-10T15:38:13.021Z"
   },
   {
    "duration": 0,
    "start_time": "2023-06-10T15:38:13.022Z"
   },
   {
    "duration": 0,
    "start_time": "2023-06-10T15:38:13.046Z"
   },
   {
    "duration": 0,
    "start_time": "2023-06-10T15:38:13.047Z"
   },
   {
    "duration": 0,
    "start_time": "2023-06-10T15:38:13.049Z"
   },
   {
    "duration": 285,
    "start_time": "2023-06-10T15:38:19.279Z"
   },
   {
    "duration": 106,
    "start_time": "2023-06-10T15:38:20.797Z"
   },
   {
    "duration": 8111,
    "start_time": "2023-06-10T15:38:22.517Z"
   },
   {
    "duration": 40309,
    "start_time": "2023-06-10T15:38:30.630Z"
   },
   {
    "duration": 19654,
    "start_time": "2023-06-10T15:39:10.941Z"
   },
   {
    "duration": 609,
    "start_time": "2023-06-10T15:39:30.596Z"
   },
   {
    "duration": 8400,
    "start_time": "2023-06-10T15:39:48.900Z"
   },
   {
    "duration": 39119,
    "start_time": "2023-06-10T15:39:57.303Z"
   },
   {
    "duration": 19642,
    "start_time": "2023-06-10T15:40:36.424Z"
   },
   {
    "duration": 647,
    "start_time": "2023-06-10T15:40:56.068Z"
   },
   {
    "duration": 18228,
    "start_time": "2023-06-10T15:41:18.825Z"
   },
   {
    "duration": 1870,
    "start_time": "2023-06-10T15:41:46.891Z"
   },
   {
    "duration": 8,
    "start_time": "2023-06-10T15:41:55.296Z"
   },
   {
    "duration": 117,
    "start_time": "2023-06-10T22:21:24.278Z"
   },
   {
    "duration": 11,
    "start_time": "2023-06-10T22:25:46.806Z"
   },
   {
    "duration": 9,
    "start_time": "2023-06-10T22:25:55.002Z"
   },
   {
    "duration": 5,
    "start_time": "2023-06-10T22:26:37.470Z"
   },
   {
    "duration": 9,
    "start_time": "2023-06-10T22:27:06.117Z"
   },
   {
    "duration": 12,
    "start_time": "2023-06-10T22:27:26.213Z"
   },
   {
    "duration": 105,
    "start_time": "2023-06-10T22:30:29.957Z"
   },
   {
    "duration": 5353,
    "start_time": "2023-06-10T22:30:37.205Z"
   },
   {
    "duration": 22,
    "start_time": "2023-06-10T22:30:54.015Z"
   },
   {
    "duration": 2257,
    "start_time": "2023-06-10T22:31:09.645Z"
   },
   {
    "duration": 9,
    "start_time": "2023-06-10T22:36:43.749Z"
   },
   {
    "duration": 4855,
    "start_time": "2023-06-10T22:39:57.443Z"
   },
   {
    "duration": 1838,
    "start_time": "2023-06-10T22:40:02.301Z"
   },
   {
    "duration": 1466,
    "start_time": "2023-06-10T22:40:04.141Z"
   },
   {
    "duration": 23,
    "start_time": "2023-06-10T22:40:05.609Z"
   },
   {
    "duration": 175,
    "start_time": "2023-06-10T22:40:05.634Z"
   },
   {
    "duration": 10,
    "start_time": "2023-06-10T22:40:05.810Z"
   },
   {
    "duration": 51,
    "start_time": "2023-06-10T22:40:05.821Z"
   },
   {
    "duration": 9,
    "start_time": "2023-06-10T22:40:05.874Z"
   },
   {
    "duration": 36,
    "start_time": "2023-06-10T22:40:05.885Z"
   },
   {
    "duration": 58,
    "start_time": "2023-06-10T22:40:05.923Z"
   },
   {
    "duration": 23,
    "start_time": "2023-06-10T22:40:05.983Z"
   },
   {
    "duration": 89,
    "start_time": "2023-06-10T22:40:06.008Z"
   },
   {
    "duration": 25,
    "start_time": "2023-06-10T22:40:06.099Z"
   },
   {
    "duration": 46,
    "start_time": "2023-06-10T22:40:06.127Z"
   },
   {
    "duration": 73,
    "start_time": "2023-06-10T22:40:06.174Z"
   },
   {
    "duration": 46,
    "start_time": "2023-06-10T22:40:06.255Z"
   },
   {
    "duration": 47,
    "start_time": "2023-06-10T22:40:06.302Z"
   },
   {
    "duration": 44,
    "start_time": "2023-06-10T22:40:06.354Z"
   },
   {
    "duration": 79,
    "start_time": "2023-06-10T22:40:06.400Z"
   },
   {
    "duration": 44,
    "start_time": "2023-06-10T22:40:06.481Z"
   },
   {
    "duration": 155,
    "start_time": "2023-06-10T22:40:06.527Z"
   },
   {
    "duration": 2510,
    "start_time": "2023-06-10T22:40:06.684Z"
   },
   {
    "duration": 373,
    "start_time": "2023-06-10T22:40:09.196Z"
   },
   {
    "duration": 97,
    "start_time": "2023-06-10T22:40:09.571Z"
   },
   {
    "duration": 11,
    "start_time": "2023-06-10T22:40:09.670Z"
   },
   {
    "duration": 54,
    "start_time": "2023-06-10T22:40:09.682Z"
   },
   {
    "duration": 53,
    "start_time": "2023-06-10T22:40:09.738Z"
   },
   {
    "duration": 6131,
    "start_time": "2023-06-10T22:40:09.793Z"
   },
   {
    "duration": 1465,
    "start_time": "2023-06-10T22:40:15.926Z"
   },
   {
    "duration": 2665,
    "start_time": "2023-06-10T22:40:17.393Z"
   },
   {
    "duration": 181,
    "start_time": "2023-06-10T22:40:20.068Z"
   },
   {
    "duration": 13,
    "start_time": "2023-06-10T22:40:20.254Z"
   },
   {
    "duration": 414,
    "start_time": "2023-06-10T22:40:20.270Z"
   },
   {
    "duration": 128,
    "start_time": "2023-06-10T22:40:20.686Z"
   },
   {
    "duration": 8799,
    "start_time": "2023-06-10T22:40:20.816Z"
   },
   {
    "duration": 43686,
    "start_time": "2023-06-10T22:40:29.617Z"
   },
   {
    "duration": 21308,
    "start_time": "2023-06-10T22:41:13.305Z"
   },
   {
    "duration": 623,
    "start_time": "2023-06-10T22:41:34.615Z"
   },
   {
    "duration": 4909,
    "start_time": "2023-06-10T22:43:02.971Z"
   },
   {
    "duration": 1011,
    "start_time": "2023-06-10T22:43:07.884Z"
   },
   {
    "duration": 1057,
    "start_time": "2023-06-10T22:43:08.897Z"
   },
   {
    "duration": 25,
    "start_time": "2023-06-10T22:43:09.956Z"
   },
   {
    "duration": 194,
    "start_time": "2023-06-10T22:43:09.982Z"
   },
   {
    "duration": 12,
    "start_time": "2023-06-10T22:43:10.178Z"
   },
   {
    "duration": 52,
    "start_time": "2023-06-10T22:43:10.191Z"
   },
   {
    "duration": 19,
    "start_time": "2023-06-10T22:43:10.244Z"
   },
   {
    "duration": 40,
    "start_time": "2023-06-10T22:43:10.265Z"
   },
   {
    "duration": 39,
    "start_time": "2023-06-10T22:43:10.308Z"
   },
   {
    "duration": 25,
    "start_time": "2023-06-10T22:43:10.350Z"
   },
   {
    "duration": 36,
    "start_time": "2023-06-10T22:43:10.377Z"
   },
   {
    "duration": 15,
    "start_time": "2023-06-10T22:43:10.415Z"
   },
   {
    "duration": 45,
    "start_time": "2023-06-10T22:43:10.432Z"
   },
   {
    "duration": 59,
    "start_time": "2023-06-10T22:43:10.480Z"
   },
   {
    "duration": 57,
    "start_time": "2023-06-10T22:43:10.546Z"
   },
   {
    "duration": 28,
    "start_time": "2023-06-10T22:43:10.604Z"
   },
   {
    "duration": 50,
    "start_time": "2023-06-10T22:43:10.634Z"
   },
   {
    "duration": 106,
    "start_time": "2023-06-10T22:43:10.686Z"
   },
   {
    "duration": 46,
    "start_time": "2023-06-10T22:43:10.794Z"
   },
   {
    "duration": 137,
    "start_time": "2023-06-10T22:43:10.842Z"
   },
   {
    "duration": 2581,
    "start_time": "2023-06-10T22:43:10.981Z"
   },
   {
    "duration": 373,
    "start_time": "2023-06-10T22:43:13.564Z"
   },
   {
    "duration": 92,
    "start_time": "2023-06-10T22:43:13.939Z"
   },
   {
    "duration": 27,
    "start_time": "2023-06-10T22:43:14.033Z"
   },
   {
    "duration": 18,
    "start_time": "2023-06-10T22:43:14.064Z"
   },
   {
    "duration": 13,
    "start_time": "2023-06-10T22:43:14.084Z"
   },
   {
    "duration": 5910,
    "start_time": "2023-06-10T22:43:14.100Z"
   },
   {
    "duration": 1523,
    "start_time": "2023-06-10T22:43:20.011Z"
   },
   {
    "duration": 3118,
    "start_time": "2023-06-10T22:43:21.536Z"
   },
   {
    "duration": 34,
    "start_time": "2023-06-10T22:43:24.656Z"
   },
   {
    "duration": 14,
    "start_time": "2023-06-10T22:43:24.747Z"
   },
   {
    "duration": 417,
    "start_time": "2023-06-10T22:43:24.763Z"
   },
   {
    "duration": 128,
    "start_time": "2023-06-10T22:43:25.182Z"
   },
   {
    "duration": 8846,
    "start_time": "2023-06-10T22:43:25.312Z"
   },
   {
    "duration": 42811,
    "start_time": "2023-06-10T22:43:34.162Z"
   },
   {
    "duration": 21573,
    "start_time": "2023-06-10T22:44:16.975Z"
   },
   {
    "duration": 655,
    "start_time": "2023-06-10T22:44:38.552Z"
   },
   {
    "duration": 69,
    "start_time": "2023-06-10T22:46:09.843Z"
   },
   {
    "duration": 11,
    "start_time": "2023-06-10T22:46:09.914Z"
   },
   {
    "duration": 1,
    "start_time": "2023-06-10T22:46:09.926Z"
   },
   {
    "duration": 0,
    "start_time": "2023-06-10T22:46:09.928Z"
   },
   {
    "duration": 0,
    "start_time": "2023-06-10T22:46:09.929Z"
   },
   {
    "duration": 0,
    "start_time": "2023-06-10T22:46:09.931Z"
   },
   {
    "duration": 0,
    "start_time": "2023-06-10T22:46:09.932Z"
   },
   {
    "duration": 0,
    "start_time": "2023-06-10T22:46:09.933Z"
   },
   {
    "duration": 0,
    "start_time": "2023-06-10T22:46:09.936Z"
   },
   {
    "duration": 4701,
    "start_time": "2023-06-10T22:47:44.667Z"
   },
   {
    "duration": 1056,
    "start_time": "2023-06-10T22:47:49.371Z"
   },
   {
    "duration": 1104,
    "start_time": "2023-06-10T22:47:50.429Z"
   },
   {
    "duration": 31,
    "start_time": "2023-06-10T22:47:51.535Z"
   },
   {
    "duration": 231,
    "start_time": "2023-06-10T22:47:51.568Z"
   },
   {
    "duration": 12,
    "start_time": "2023-06-10T22:47:51.801Z"
   },
   {
    "duration": 57,
    "start_time": "2023-06-10T22:47:51.815Z"
   },
   {
    "duration": 9,
    "start_time": "2023-06-10T22:47:51.875Z"
   },
   {
    "duration": 69,
    "start_time": "2023-06-10T22:47:51.886Z"
   },
   {
    "duration": 87,
    "start_time": "2023-06-10T22:47:51.958Z"
   },
   {
    "duration": 95,
    "start_time": "2023-06-10T22:47:52.059Z"
   },
   {
    "duration": 135,
    "start_time": "2023-06-10T22:47:52.157Z"
   },
   {
    "duration": 79,
    "start_time": "2023-06-10T22:47:52.293Z"
   },
   {
    "duration": 94,
    "start_time": "2023-06-10T22:47:52.374Z"
   },
   {
    "duration": 87,
    "start_time": "2023-06-10T22:47:52.471Z"
   },
   {
    "duration": 74,
    "start_time": "2023-06-10T22:47:52.562Z"
   },
   {
    "duration": 35,
    "start_time": "2023-06-10T22:47:52.638Z"
   },
   {
    "duration": 58,
    "start_time": "2023-06-10T22:47:52.675Z"
   },
   {
    "duration": 102,
    "start_time": "2023-06-10T22:47:52.734Z"
   },
   {
    "duration": 72,
    "start_time": "2023-06-10T22:47:52.837Z"
   },
   {
    "duration": 148,
    "start_time": "2023-06-10T22:47:52.911Z"
   },
   {
    "duration": 2405,
    "start_time": "2023-06-10T22:47:53.063Z"
   },
   {
    "duration": 390,
    "start_time": "2023-06-10T22:47:55.469Z"
   },
   {
    "duration": 89,
    "start_time": "2023-06-10T22:47:55.861Z"
   },
   {
    "duration": 13,
    "start_time": "2023-06-10T22:47:55.952Z"
   },
   {
    "duration": 10,
    "start_time": "2023-06-10T22:47:55.966Z"
   },
   {
    "duration": 12,
    "start_time": "2023-06-10T22:47:55.977Z"
   },
   {
    "duration": 5871,
    "start_time": "2023-06-10T22:47:55.993Z"
   },
   {
    "duration": 1393,
    "start_time": "2023-06-10T22:48:01.865Z"
   },
   {
    "duration": 2402,
    "start_time": "2023-06-10T22:48:03.260Z"
   },
   {
    "duration": 187,
    "start_time": "2023-06-10T22:48:05.667Z"
   },
   {
    "duration": 95,
    "start_time": "2023-06-10T22:48:05.859Z"
   },
   {
    "duration": 314,
    "start_time": "2023-06-10T22:48:05.956Z"
   },
   {
    "duration": 119,
    "start_time": "2023-06-10T22:48:06.271Z"
   },
   {
    "duration": 8733,
    "start_time": "2023-06-10T22:48:06.392Z"
   },
   {
    "duration": 42398,
    "start_time": "2023-06-10T22:48:15.127Z"
   },
   {
    "duration": 21279,
    "start_time": "2023-06-10T22:48:57.527Z"
   },
   {
    "duration": 653,
    "start_time": "2023-06-10T22:49:18.808Z"
   },
   {
    "duration": 64,
    "start_time": "2023-06-10T22:50:37.972Z"
   },
   {
    "duration": 15,
    "start_time": "2023-06-10T22:50:38.038Z"
   },
   {
    "duration": 0,
    "start_time": "2023-06-10T22:50:38.058Z"
   },
   {
    "duration": 0,
    "start_time": "2023-06-10T22:50:38.059Z"
   },
   {
    "duration": 0,
    "start_time": "2023-06-10T22:50:38.060Z"
   },
   {
    "duration": 0,
    "start_time": "2023-06-10T22:50:38.062Z"
   },
   {
    "duration": 0,
    "start_time": "2023-06-10T22:50:38.063Z"
   },
   {
    "duration": 0,
    "start_time": "2023-06-10T22:50:38.064Z"
   },
   {
    "duration": 0,
    "start_time": "2023-06-10T22:50:38.065Z"
   },
   {
    "duration": 49447,
    "start_time": "2023-06-10T22:50:45.206Z"
   },
   {
    "duration": 5724,
    "start_time": "2023-06-10T22:52:40.643Z"
   },
   {
    "duration": 1033,
    "start_time": "2023-06-10T22:52:46.369Z"
   },
   {
    "duration": 1057,
    "start_time": "2023-06-10T22:52:47.404Z"
   },
   {
    "duration": 23,
    "start_time": "2023-06-10T22:52:48.463Z"
   },
   {
    "duration": 180,
    "start_time": "2023-06-10T22:52:48.489Z"
   },
   {
    "duration": 9,
    "start_time": "2023-06-10T22:52:48.671Z"
   },
   {
    "duration": 42,
    "start_time": "2023-06-10T22:52:48.681Z"
   },
   {
    "duration": 34,
    "start_time": "2023-06-10T22:52:48.725Z"
   },
   {
    "duration": 34,
    "start_time": "2023-06-10T22:52:48.762Z"
   },
   {
    "duration": 36,
    "start_time": "2023-06-10T22:52:48.798Z"
   },
   {
    "duration": 30,
    "start_time": "2023-06-10T22:52:48.836Z"
   },
   {
    "duration": 42,
    "start_time": "2023-06-10T22:52:48.868Z"
   },
   {
    "duration": 19,
    "start_time": "2023-06-10T22:52:48.912Z"
   },
   {
    "duration": 53,
    "start_time": "2023-06-10T22:52:48.935Z"
   },
   {
    "duration": 76,
    "start_time": "2023-06-10T22:52:48.990Z"
   },
   {
    "duration": 58,
    "start_time": "2023-06-10T22:52:49.068Z"
   },
   {
    "duration": 35,
    "start_time": "2023-06-10T22:52:49.128Z"
   },
   {
    "duration": 43,
    "start_time": "2023-06-10T22:52:49.165Z"
   },
   {
    "duration": 72,
    "start_time": "2023-06-10T22:52:49.210Z"
   },
   {
    "duration": 50,
    "start_time": "2023-06-10T22:52:49.285Z"
   },
   {
    "duration": 128,
    "start_time": "2023-06-10T22:52:49.337Z"
   },
   {
    "duration": 2416,
    "start_time": "2023-06-10T22:52:49.467Z"
   },
   {
    "duration": 376,
    "start_time": "2023-06-10T22:52:51.885Z"
   },
   {
    "duration": 100,
    "start_time": "2023-06-10T22:52:52.263Z"
   },
   {
    "duration": 11,
    "start_time": "2023-06-10T22:52:52.365Z"
   },
   {
    "duration": 45,
    "start_time": "2023-06-10T22:52:52.378Z"
   },
   {
    "duration": 35,
    "start_time": "2023-06-10T22:52:52.425Z"
   },
   {
    "duration": 6072,
    "start_time": "2023-06-10T22:52:52.462Z"
   },
   {
    "duration": 1427,
    "start_time": "2023-06-10T22:52:58.536Z"
   },
   {
    "duration": 2986,
    "start_time": "2023-06-10T22:52:59.965Z"
   },
   {
    "duration": 107,
    "start_time": "2023-06-10T22:53:02.953Z"
   },
   {
    "duration": 96,
    "start_time": "2023-06-10T22:53:03.065Z"
   },
   {
    "duration": 300,
    "start_time": "2023-06-10T22:53:03.163Z"
   },
   {
    "duration": 114,
    "start_time": "2023-06-10T22:53:03.464Z"
   },
   {
    "duration": 8779,
    "start_time": "2023-06-10T22:53:03.580Z"
   },
   {
    "duration": 42032,
    "start_time": "2023-06-10T22:53:12.361Z"
   },
   {
    "duration": 20524,
    "start_time": "2023-06-10T22:53:54.396Z"
   },
   {
    "duration": 616,
    "start_time": "2023-06-10T22:54:14.921Z"
   },
   {
    "duration": 36221,
    "start_time": "2023-06-10T22:54:15.539Z"
   },
   {
    "duration": 496,
    "start_time": "2023-06-10T22:54:51.762Z"
   },
   {
    "duration": 8,
    "start_time": "2023-06-10T22:54:52.263Z"
   },
   {
    "duration": 321,
    "start_time": "2023-06-10T22:54:52.273Z"
   },
   {
    "duration": 109,
    "start_time": "2023-06-10T22:54:52.596Z"
   },
   {
    "duration": 103,
    "start_time": "2023-06-10T22:54:52.707Z"
   },
   {
    "duration": 73,
    "start_time": "2023-06-10T22:54:52.812Z"
   },
   {
    "duration": 86,
    "start_time": "2023-06-10T22:54:52.887Z"
   },
   {
    "duration": 7,
    "start_time": "2023-06-10T22:54:52.975Z"
   },
   {
    "duration": 7073,
    "start_time": "2023-06-10T22:58:00.862Z"
   },
   {
    "duration": 1085,
    "start_time": "2023-06-10T22:58:07.938Z"
   },
   {
    "duration": 1099,
    "start_time": "2023-06-10T22:58:09.025Z"
   },
   {
    "duration": 39,
    "start_time": "2023-06-10T22:58:10.127Z"
   },
   {
    "duration": 192,
    "start_time": "2023-06-10T22:58:10.168Z"
   },
   {
    "duration": 10,
    "start_time": "2023-06-10T22:58:10.362Z"
   },
   {
    "duration": 40,
    "start_time": "2023-06-10T22:58:10.373Z"
   },
   {
    "duration": 9,
    "start_time": "2023-06-10T22:58:10.415Z"
   },
   {
    "duration": 53,
    "start_time": "2023-06-10T22:58:10.426Z"
   },
   {
    "duration": 32,
    "start_time": "2023-06-10T22:58:10.481Z"
   },
   {
    "duration": 22,
    "start_time": "2023-06-10T22:58:10.515Z"
   },
   {
    "duration": 44,
    "start_time": "2023-06-10T22:58:10.539Z"
   },
   {
    "duration": 15,
    "start_time": "2023-06-10T22:58:10.585Z"
   },
   {
    "duration": 30,
    "start_time": "2023-06-10T22:58:10.604Z"
   },
   {
    "duration": 66,
    "start_time": "2023-06-10T22:58:10.646Z"
   },
   {
    "duration": 59,
    "start_time": "2023-06-10T22:58:10.714Z"
   },
   {
    "duration": 26,
    "start_time": "2023-06-10T22:58:10.775Z"
   },
   {
    "duration": 66,
    "start_time": "2023-06-10T22:58:10.803Z"
   },
   {
    "duration": 53,
    "start_time": "2023-06-10T22:58:10.870Z"
   },
   {
    "duration": 73,
    "start_time": "2023-06-10T22:58:10.925Z"
   },
   {
    "duration": 123,
    "start_time": "2023-06-10T22:58:11.000Z"
   },
   {
    "duration": 2538,
    "start_time": "2023-06-10T22:58:11.124Z"
   },
   {
    "duration": 375,
    "start_time": "2023-06-10T22:58:13.664Z"
   },
   {
    "duration": 89,
    "start_time": "2023-06-10T22:58:14.041Z"
   },
   {
    "duration": 29,
    "start_time": "2023-06-10T22:58:14.132Z"
   },
   {
    "duration": 9,
    "start_time": "2023-06-10T22:58:14.164Z"
   },
   {
    "duration": 24,
    "start_time": "2023-06-10T22:58:14.175Z"
   },
   {
    "duration": 6023,
    "start_time": "2023-06-10T22:58:14.201Z"
   },
   {
    "duration": 1479,
    "start_time": "2023-06-10T22:58:20.225Z"
   },
   {
    "duration": 2452,
    "start_time": "2023-06-10T22:58:21.706Z"
   },
   {
    "duration": 107,
    "start_time": "2023-06-10T22:58:24.160Z"
   },
   {
    "duration": 95,
    "start_time": "2023-06-10T22:58:24.268Z"
   },
   {
    "duration": 403,
    "start_time": "2023-06-10T22:58:24.365Z"
   },
   {
    "duration": 124,
    "start_time": "2023-06-10T22:58:24.770Z"
   },
   {
    "duration": 8748,
    "start_time": "2023-06-10T22:58:24.896Z"
   },
   {
    "duration": 42031,
    "start_time": "2023-06-10T22:58:33.647Z"
   },
   {
    "duration": 21134,
    "start_time": "2023-06-10T22:59:15.680Z"
   },
   {
    "duration": 672,
    "start_time": "2023-06-10T22:59:36.816Z"
   },
   {
    "duration": 28160,
    "start_time": "2023-06-10T22:59:37.490Z"
   },
   {
    "duration": 494,
    "start_time": "2023-06-10T23:00:05.652Z"
   },
   {
    "duration": 8,
    "start_time": "2023-06-10T23:00:06.150Z"
   },
   {
    "duration": 274,
    "start_time": "2023-06-10T23:00:06.160Z"
   },
   {
    "duration": 544,
    "start_time": "2023-06-10T23:00:06.436Z"
   },
   {
    "duration": 111,
    "start_time": "2023-06-10T23:00:06.982Z"
   },
   {
    "duration": 322,
    "start_time": "2023-06-10T23:00:07.094Z"
   },
   {
    "duration": 215,
    "start_time": "2023-06-10T23:00:07.418Z"
   },
   {
    "duration": 5,
    "start_time": "2023-06-10T23:00:07.635Z"
   },
   {
    "duration": 10339,
    "start_time": "2023-06-11T13:21:18.101Z"
   },
   {
    "duration": 1089,
    "start_time": "2023-06-11T13:21:28.443Z"
   },
   {
    "duration": 1360,
    "start_time": "2023-06-11T13:21:29.534Z"
   },
   {
    "duration": 24,
    "start_time": "2023-06-11T13:21:30.896Z"
   },
   {
    "duration": 182,
    "start_time": "2023-06-11T13:21:30.921Z"
   },
   {
    "duration": 8,
    "start_time": "2023-06-11T13:21:31.104Z"
   },
   {
    "duration": 86,
    "start_time": "2023-06-11T13:21:31.114Z"
   },
   {
    "duration": 9,
    "start_time": "2023-06-11T13:21:31.202Z"
   },
   {
    "duration": 51,
    "start_time": "2023-06-11T13:21:31.212Z"
   },
   {
    "duration": 30,
    "start_time": "2023-06-11T13:21:31.265Z"
   },
   {
    "duration": 54,
    "start_time": "2023-06-11T13:21:31.297Z"
   },
   {
    "duration": 54,
    "start_time": "2023-06-11T13:21:31.353Z"
   },
   {
    "duration": 30,
    "start_time": "2023-06-11T13:21:31.409Z"
   },
   {
    "duration": 66,
    "start_time": "2023-06-11T13:21:31.440Z"
   },
   {
    "duration": 63,
    "start_time": "2023-06-11T13:21:31.508Z"
   },
   {
    "duration": 54,
    "start_time": "2023-06-11T13:21:31.573Z"
   },
   {
    "duration": 33,
    "start_time": "2023-06-11T13:21:31.629Z"
   },
   {
    "duration": 35,
    "start_time": "2023-06-11T13:21:31.664Z"
   },
   {
    "duration": 75,
    "start_time": "2023-06-11T13:21:31.700Z"
   },
   {
    "duration": 38,
    "start_time": "2023-06-11T13:21:31.778Z"
   },
   {
    "duration": 100,
    "start_time": "2023-06-11T13:21:31.817Z"
   },
   {
    "duration": 2292,
    "start_time": "2023-06-11T13:21:31.919Z"
   },
   {
    "duration": 360,
    "start_time": "2023-06-11T13:21:34.212Z"
   },
   {
    "duration": 102,
    "start_time": "2023-06-11T13:21:34.573Z"
   },
   {
    "duration": 10,
    "start_time": "2023-06-11T13:21:34.677Z"
   },
   {
    "duration": 16,
    "start_time": "2023-06-11T13:21:34.688Z"
   },
   {
    "duration": 14,
    "start_time": "2023-06-11T13:21:34.705Z"
   },
   {
    "duration": 5483,
    "start_time": "2023-06-11T13:21:34.723Z"
   },
   {
    "duration": 1250,
    "start_time": "2023-06-11T13:21:40.208Z"
   },
   {
    "duration": 2708,
    "start_time": "2023-06-11T13:21:41.460Z"
   },
   {
    "duration": 178,
    "start_time": "2023-06-11T13:21:44.170Z"
   },
   {
    "duration": 101,
    "start_time": "2023-06-11T13:21:44.351Z"
   },
   {
    "duration": 282,
    "start_time": "2023-06-11T13:21:44.453Z"
   },
   {
    "duration": 121,
    "start_time": "2023-06-11T13:21:44.737Z"
   },
   {
    "duration": 7677,
    "start_time": "2023-06-11T13:21:44.860Z"
   },
   {
    "duration": 38201,
    "start_time": "2023-06-11T13:21:52.539Z"
   },
   {
    "duration": 18748,
    "start_time": "2023-06-11T13:22:30.741Z"
   },
   {
    "duration": 625,
    "start_time": "2023-06-11T13:22:49.491Z"
   },
   {
    "duration": 27933,
    "start_time": "2023-06-11T13:22:50.118Z"
   },
   {
    "duration": 389,
    "start_time": "2023-06-11T13:23:18.054Z"
   },
   {
    "duration": 14,
    "start_time": "2023-06-11T13:23:18.445Z"
   },
   {
    "duration": 219,
    "start_time": "2023-06-11T13:23:18.463Z"
   },
   {
    "duration": 100,
    "start_time": "2023-06-11T13:23:18.685Z"
   },
   {
    "duration": 116,
    "start_time": "2023-06-11T13:23:18.787Z"
   },
   {
    "duration": 111,
    "start_time": "2023-06-11T13:23:18.905Z"
   },
   {
    "duration": 149,
    "start_time": "2023-06-11T13:23:19.018Z"
   },
   {
    "duration": 7,
    "start_time": "2023-06-11T13:23:19.169Z"
   },
   {
    "duration": 4,
    "start_time": "2023-06-11T13:32:26.606Z"
   },
   {
    "duration": 140,
    "start_time": "2023-06-11T13:33:00.311Z"
   },
   {
    "duration": 4314,
    "start_time": "2023-06-11T13:34:30.653Z"
   },
   {
    "duration": 1064,
    "start_time": "2023-06-11T13:34:34.970Z"
   },
   {
    "duration": 1122,
    "start_time": "2023-06-11T13:34:36.037Z"
   },
   {
    "duration": 24,
    "start_time": "2023-06-11T13:34:37.161Z"
   },
   {
    "duration": 493,
    "start_time": "2023-06-11T13:34:37.188Z"
   },
   {
    "duration": 61,
    "start_time": "2023-06-11T13:34:37.684Z"
   },
   {
    "duration": 105,
    "start_time": "2023-06-11T13:34:37.751Z"
   },
   {
    "duration": 11,
    "start_time": "2023-06-11T13:34:37.858Z"
   },
   {
    "duration": 90,
    "start_time": "2023-06-11T13:34:37.871Z"
   },
   {
    "duration": 103,
    "start_time": "2023-06-11T13:34:37.963Z"
   },
   {
    "duration": 9,
    "start_time": "2023-06-11T13:34:38.068Z"
   },
   {
    "duration": 97,
    "start_time": "2023-06-11T13:34:38.079Z"
   },
   {
    "duration": 67,
    "start_time": "2023-06-11T13:34:38.178Z"
   },
   {
    "duration": 92,
    "start_time": "2023-06-11T13:34:38.255Z"
   },
   {
    "duration": 203,
    "start_time": "2023-06-11T13:34:38.351Z"
   },
   {
    "duration": 92,
    "start_time": "2023-06-11T13:34:38.560Z"
   },
   {
    "duration": 35,
    "start_time": "2023-06-11T13:34:38.654Z"
   },
   {
    "duration": 105,
    "start_time": "2023-06-11T13:34:38.691Z"
   },
   {
    "duration": 167,
    "start_time": "2023-06-11T13:34:38.798Z"
   },
   {
    "duration": 110,
    "start_time": "2023-06-11T13:34:38.971Z"
   },
   {
    "duration": 290,
    "start_time": "2023-06-11T13:34:39.083Z"
   },
   {
    "duration": 2333,
    "start_time": "2023-06-11T13:34:39.374Z"
   },
   {
    "duration": 378,
    "start_time": "2023-06-11T13:34:41.709Z"
   },
   {
    "duration": 104,
    "start_time": "2023-06-11T13:34:42.089Z"
   },
   {
    "duration": 11,
    "start_time": "2023-06-11T13:34:42.195Z"
   },
   {
    "duration": 26,
    "start_time": "2023-06-11T13:34:42.207Z"
   },
   {
    "duration": 16,
    "start_time": "2023-06-11T13:34:42.235Z"
   },
   {
    "duration": 5369,
    "start_time": "2023-06-11T13:34:42.253Z"
   },
   {
    "duration": 1490,
    "start_time": "2023-06-11T13:34:47.624Z"
   },
   {
    "duration": 2829,
    "start_time": "2023-06-11T13:34:49.116Z"
   },
   {
    "duration": 199,
    "start_time": "2023-06-11T13:34:51.948Z"
   },
   {
    "duration": 95,
    "start_time": "2023-06-11T13:34:52.154Z"
   },
   {
    "duration": 369,
    "start_time": "2023-06-11T13:34:52.256Z"
   },
   {
    "duration": 135,
    "start_time": "2023-06-11T13:34:52.626Z"
   },
   {
    "duration": 7938,
    "start_time": "2023-06-11T13:34:52.763Z"
   },
   {
    "duration": 38852,
    "start_time": "2023-06-11T13:35:00.703Z"
   },
   {
    "duration": 18415,
    "start_time": "2023-06-11T13:35:39.557Z"
   },
   {
    "duration": 673,
    "start_time": "2023-06-11T13:35:57.973Z"
   },
   {
    "duration": 95756,
    "start_time": "2023-06-11T13:35:58.648Z"
   },
   {
    "duration": 74,
    "start_time": "2023-06-11T13:37:34.406Z"
   },
   {
    "duration": 10,
    "start_time": "2023-06-11T13:37:34.484Z"
   },
   {
    "duration": 0,
    "start_time": "2023-06-11T13:37:34.496Z"
   },
   {
    "duration": 0,
    "start_time": "2023-06-11T13:37:34.497Z"
   },
   {
    "duration": 0,
    "start_time": "2023-06-11T13:37:34.499Z"
   },
   {
    "duration": 0,
    "start_time": "2023-06-11T13:37:34.500Z"
   },
   {
    "duration": 0,
    "start_time": "2023-06-11T13:37:34.501Z"
   },
   {
    "duration": 0,
    "start_time": "2023-06-11T13:37:34.502Z"
   },
   {
    "duration": 0,
    "start_time": "2023-06-11T13:37:34.504Z"
   },
   {
    "duration": 0,
    "start_time": "2023-06-11T13:37:34.505Z"
   },
   {
    "duration": 0,
    "start_time": "2023-06-11T13:37:34.506Z"
   },
   {
    "duration": 0,
    "start_time": "2023-06-11T13:37:34.507Z"
   },
   {
    "duration": 5,
    "start_time": "2023-06-11T13:37:49.197Z"
   },
   {
    "duration": 117,
    "start_time": "2023-06-11T13:37:49.893Z"
   },
   {
    "duration": 4101,
    "start_time": "2023-06-11T13:38:10.468Z"
   },
   {
    "duration": 1038,
    "start_time": "2023-06-11T13:38:14.571Z"
   },
   {
    "duration": 1009,
    "start_time": "2023-06-11T13:38:15.611Z"
   },
   {
    "duration": 32,
    "start_time": "2023-06-11T13:38:16.622Z"
   },
   {
    "duration": 139,
    "start_time": "2023-06-11T13:38:16.657Z"
   },
   {
    "duration": 12,
    "start_time": "2023-06-11T13:38:16.798Z"
   },
   {
    "duration": 57,
    "start_time": "2023-06-11T13:38:16.811Z"
   },
   {
    "duration": 8,
    "start_time": "2023-06-11T13:38:16.870Z"
   },
   {
    "duration": 40,
    "start_time": "2023-06-11T13:38:16.880Z"
   },
   {
    "duration": 45,
    "start_time": "2023-06-11T13:38:16.922Z"
   },
   {
    "duration": 8,
    "start_time": "2023-06-11T13:38:16.968Z"
   },
   {
    "duration": 30,
    "start_time": "2023-06-11T13:38:16.977Z"
   },
   {
    "duration": 12,
    "start_time": "2023-06-11T13:38:17.009Z"
   },
   {
    "duration": 32,
    "start_time": "2023-06-11T13:38:17.051Z"
   },
   {
    "duration": 50,
    "start_time": "2023-06-11T13:38:17.085Z"
   },
   {
    "duration": 41,
    "start_time": "2023-06-11T13:38:17.154Z"
   },
   {
    "duration": 23,
    "start_time": "2023-06-11T13:38:17.197Z"
   },
   {
    "duration": 85,
    "start_time": "2023-06-11T13:38:17.222Z"
   },
   {
    "duration": 83,
    "start_time": "2023-06-11T13:38:17.309Z"
   },
   {
    "duration": 94,
    "start_time": "2023-06-11T13:38:17.394Z"
   },
   {
    "duration": 93,
    "start_time": "2023-06-11T13:38:17.489Z"
   },
   {
    "duration": 2474,
    "start_time": "2023-06-11T13:38:17.584Z"
   },
   {
    "duration": 404,
    "start_time": "2023-06-11T13:38:20.061Z"
   },
   {
    "duration": 114,
    "start_time": "2023-06-11T13:38:20.468Z"
   },
   {
    "duration": 11,
    "start_time": "2023-06-11T13:38:20.583Z"
   },
   {
    "duration": 17,
    "start_time": "2023-06-11T13:38:20.596Z"
   },
   {
    "duration": 15,
    "start_time": "2023-06-11T13:38:20.615Z"
   },
   {
    "duration": 6331,
    "start_time": "2023-06-11T13:38:20.631Z"
   },
   {
    "duration": 1737,
    "start_time": "2023-06-11T13:38:26.963Z"
   },
   {
    "duration": 3253,
    "start_time": "2023-06-11T13:38:28.702Z"
   },
   {
    "duration": 116,
    "start_time": "2023-06-11T13:38:31.957Z"
   },
   {
    "duration": 92,
    "start_time": "2023-06-11T13:38:32.155Z"
   },
   {
    "duration": 306,
    "start_time": "2023-06-11T13:38:32.250Z"
   },
   {
    "duration": 120,
    "start_time": "2023-06-11T13:38:32.558Z"
   },
   {
    "duration": 8529,
    "start_time": "2023-06-11T13:38:32.680Z"
   },
   {
    "duration": 39969,
    "start_time": "2023-06-11T13:38:41.211Z"
   },
   {
    "duration": 20452,
    "start_time": "2023-06-11T13:39:21.182Z"
   },
   {
    "duration": 638,
    "start_time": "2023-06-11T13:39:41.644Z"
   },
   {
    "duration": 134880,
    "start_time": "2023-06-11T13:39:42.284Z"
   },
   {
    "duration": 397,
    "start_time": "2023-06-11T13:41:57.166Z"
   },
   {
    "duration": 86,
    "start_time": "2023-06-11T13:41:57.566Z"
   },
   {
    "duration": 10,
    "start_time": "2023-06-11T13:41:57.659Z"
   },
   {
    "duration": 112,
    "start_time": "2023-06-11T13:41:57.671Z"
   },
   {
    "duration": 125780,
    "start_time": "2023-06-11T13:41:57.785Z"
   },
   {
    "duration": 415,
    "start_time": "2023-06-11T13:44:03.648Z"
   },
   {
    "duration": 8,
    "start_time": "2023-06-11T13:44:04.064Z"
   },
   {
    "duration": 298,
    "start_time": "2023-06-11T13:44:04.074Z"
   },
   {
    "duration": 141,
    "start_time": "2023-06-11T13:44:04.374Z"
   },
   {
    "duration": 103,
    "start_time": "2023-06-11T13:44:04.516Z"
   },
   {
    "duration": 90,
    "start_time": "2023-06-11T13:44:04.621Z"
   },
   {
    "duration": 79,
    "start_time": "2023-06-11T13:44:04.713Z"
   },
   {
    "duration": 7,
    "start_time": "2023-06-11T13:44:04.794Z"
   },
   {
    "duration": 4240,
    "start_time": "2023-06-11T13:44:53.665Z"
   },
   {
    "duration": 1147,
    "start_time": "2023-06-11T13:44:57.907Z"
   },
   {
    "duration": 1074,
    "start_time": "2023-06-11T13:44:59.056Z"
   },
   {
    "duration": 50,
    "start_time": "2023-06-11T13:45:00.133Z"
   },
   {
    "duration": 132,
    "start_time": "2023-06-11T13:45:00.185Z"
   },
   {
    "duration": 25,
    "start_time": "2023-06-11T13:45:00.319Z"
   },
   {
    "duration": 70,
    "start_time": "2023-06-11T13:45:00.346Z"
   },
   {
    "duration": 9,
    "start_time": "2023-06-11T13:45:00.418Z"
   },
   {
    "duration": 87,
    "start_time": "2023-06-11T13:45:00.428Z"
   },
   {
    "duration": 84,
    "start_time": "2023-06-11T13:45:00.517Z"
   },
   {
    "duration": 62,
    "start_time": "2023-06-11T13:45:00.603Z"
   },
   {
    "duration": 65,
    "start_time": "2023-06-11T13:45:00.667Z"
   },
   {
    "duration": 55,
    "start_time": "2023-06-11T13:45:00.734Z"
   },
   {
    "duration": 81,
    "start_time": "2023-06-11T13:45:00.792Z"
   },
   {
    "duration": 58,
    "start_time": "2023-06-11T13:45:00.876Z"
   },
   {
    "duration": 77,
    "start_time": "2023-06-11T13:45:00.936Z"
   },
   {
    "duration": 24,
    "start_time": "2023-06-11T13:45:01.015Z"
   },
   {
    "duration": 65,
    "start_time": "2023-06-11T13:45:01.041Z"
   },
   {
    "duration": 83,
    "start_time": "2023-06-11T13:45:01.108Z"
   },
   {
    "duration": 63,
    "start_time": "2023-06-11T13:45:01.193Z"
   },
   {
    "duration": 110,
    "start_time": "2023-06-11T13:45:01.258Z"
   },
   {
    "duration": 2327,
    "start_time": "2023-06-11T13:45:01.370Z"
   },
   {
    "duration": 460,
    "start_time": "2023-06-11T13:45:03.699Z"
   },
   {
    "duration": 151,
    "start_time": "2023-06-11T13:45:04.162Z"
   },
   {
    "duration": 13,
    "start_time": "2023-06-11T13:45:04.348Z"
   },
   {
    "duration": 12,
    "start_time": "2023-06-11T13:45:04.363Z"
   },
   {
    "duration": 13,
    "start_time": "2023-06-11T13:45:04.376Z"
   },
   {
    "duration": 7345,
    "start_time": "2023-06-11T13:45:04.391Z"
   },
   {
    "duration": 1477,
    "start_time": "2023-06-11T13:45:11.737Z"
   },
   {
    "duration": 2651,
    "start_time": "2023-06-11T13:45:13.216Z"
   },
   {
    "duration": 195,
    "start_time": "2023-06-11T13:45:15.869Z"
   },
   {
    "duration": 83,
    "start_time": "2023-06-11T13:45:16.067Z"
   },
   {
    "duration": 406,
    "start_time": "2023-06-11T13:45:16.158Z"
   },
   {
    "duration": 117,
    "start_time": "2023-06-11T13:45:16.565Z"
   },
   {
    "duration": 8016,
    "start_time": "2023-06-11T13:45:16.684Z"
   },
   {
    "duration": 38734,
    "start_time": "2023-06-11T13:45:24.702Z"
   },
   {
    "duration": 18420,
    "start_time": "2023-06-11T13:46:03.437Z"
   },
   {
    "duration": 616,
    "start_time": "2023-06-11T13:46:21.859Z"
   },
   {
    "duration": 30392,
    "start_time": "2023-06-11T13:46:22.477Z"
   },
   {
    "duration": 494,
    "start_time": "2023-06-11T13:46:52.871Z"
   },
   {
    "duration": 9,
    "start_time": "2023-06-11T13:46:53.371Z"
   },
   {
    "duration": 61,
    "start_time": "2023-06-11T13:46:53.382Z"
   },
   {
    "duration": 120,
    "start_time": "2023-06-11T13:46:53.445Z"
   },
   {
    "duration": 31986,
    "start_time": "2023-06-11T13:46:53.567Z"
   },
   {
    "duration": 397,
    "start_time": "2023-06-11T13:47:25.560Z"
   },
   {
    "duration": 9,
    "start_time": "2023-06-11T13:47:25.960Z"
   },
   {
    "duration": 206,
    "start_time": "2023-06-11T13:47:26.042Z"
   },
   {
    "duration": 155,
    "start_time": "2023-06-11T13:47:26.253Z"
   },
   {
    "duration": 208,
    "start_time": "2023-06-11T13:47:26.410Z"
   },
   {
    "duration": 115,
    "start_time": "2023-06-11T13:47:26.620Z"
   },
   {
    "duration": 76,
    "start_time": "2023-06-11T13:47:26.736Z"
   },
   {
    "duration": 6,
    "start_time": "2023-06-11T13:47:26.813Z"
   },
   {
    "duration": 9619,
    "start_time": "2023-06-12T10:15:12.176Z"
   },
   {
    "duration": 1063,
    "start_time": "2023-06-12T10:15:21.798Z"
   },
   {
    "duration": 3104,
    "start_time": "2023-06-12T10:15:22.863Z"
   },
   {
    "duration": 24,
    "start_time": "2023-06-12T10:15:25.968Z"
   },
   {
    "duration": 142,
    "start_time": "2023-06-12T10:15:25.995Z"
   },
   {
    "duration": 27,
    "start_time": "2023-06-12T10:15:26.139Z"
   },
   {
    "duration": 36,
    "start_time": "2023-06-12T10:15:26.168Z"
   },
   {
    "duration": 11,
    "start_time": "2023-06-12T10:15:26.206Z"
   },
   {
    "duration": 61,
    "start_time": "2023-06-12T10:15:26.220Z"
   },
   {
    "duration": 30,
    "start_time": "2023-06-12T10:15:26.283Z"
   },
   {
    "duration": 10,
    "start_time": "2023-06-12T10:15:26.315Z"
   },
   {
    "duration": 43,
    "start_time": "2023-06-12T10:15:26.327Z"
   },
   {
    "duration": 16,
    "start_time": "2023-06-12T10:15:26.371Z"
   },
   {
    "duration": 32,
    "start_time": "2023-06-12T10:15:26.391Z"
   },
   {
    "duration": 71,
    "start_time": "2023-06-12T10:15:26.425Z"
   },
   {
    "duration": 42,
    "start_time": "2023-06-12T10:15:26.498Z"
   },
   {
    "duration": 40,
    "start_time": "2023-06-12T10:15:26.541Z"
   },
   {
    "duration": 27,
    "start_time": "2023-06-12T10:15:26.583Z"
   },
   {
    "duration": 72,
    "start_time": "2023-06-12T10:15:26.612Z"
   },
   {
    "duration": 40,
    "start_time": "2023-06-12T10:15:26.686Z"
   },
   {
    "duration": 152,
    "start_time": "2023-06-12T10:15:26.729Z"
   },
   {
    "duration": 2274,
    "start_time": "2023-06-12T10:15:26.883Z"
   },
   {
    "duration": 350,
    "start_time": "2023-06-12T10:15:29.159Z"
   },
   {
    "duration": 97,
    "start_time": "2023-06-12T10:15:29.510Z"
   },
   {
    "duration": 11,
    "start_time": "2023-06-12T10:15:29.609Z"
   },
   {
    "duration": 30,
    "start_time": "2023-06-12T10:15:29.621Z"
   },
   {
    "duration": 24,
    "start_time": "2023-06-12T10:15:29.652Z"
   },
   {
    "duration": 5259,
    "start_time": "2023-06-12T10:15:29.678Z"
   },
   {
    "duration": 1360,
    "start_time": "2023-06-12T10:15:34.939Z"
   },
   {
    "duration": 2158,
    "start_time": "2023-06-12T10:15:36.301Z"
   },
   {
    "duration": 127,
    "start_time": "2023-06-12T10:15:38.464Z"
   },
   {
    "duration": 99,
    "start_time": "2023-06-12T10:15:38.658Z"
   },
   {
    "duration": 337,
    "start_time": "2023-06-12T10:15:38.759Z"
   },
   {
    "duration": 120,
    "start_time": "2023-06-12T10:15:39.098Z"
   },
   {
    "duration": 7169,
    "start_time": "2023-06-12T10:15:39.220Z"
   },
   {
    "duration": 36891,
    "start_time": "2023-06-12T10:15:46.391Z"
   },
   {
    "duration": 18301,
    "start_time": "2023-06-12T10:16:23.284Z"
   },
   {
    "duration": 662,
    "start_time": "2023-06-12T10:16:41.587Z"
   },
   {
    "duration": 30203,
    "start_time": "2023-06-12T10:16:42.256Z"
   },
   {
    "duration": 414,
    "start_time": "2023-06-12T10:17:12.461Z"
   },
   {
    "duration": 9,
    "start_time": "2023-06-12T10:17:12.879Z"
   },
   {
    "duration": 4,
    "start_time": "2023-06-12T10:17:12.957Z"
   },
   {
    "duration": 107,
    "start_time": "2023-06-12T10:17:12.963Z"
   },
   {
    "duration": 7490,
    "start_time": "2023-06-12T10:17:13.072Z"
   },
   {
    "duration": 412,
    "start_time": "2023-06-12T10:17:20.564Z"
   },
   {
    "duration": 82,
    "start_time": "2023-06-12T10:17:20.977Z"
   },
   {
    "duration": 230,
    "start_time": "2023-06-12T10:17:21.061Z"
   },
   {
    "duration": 110,
    "start_time": "2023-06-12T10:17:21.293Z"
   },
   {
    "duration": 143,
    "start_time": "2023-06-12T10:17:21.405Z"
   },
   {
    "duration": 98,
    "start_time": "2023-06-12T10:17:21.550Z"
   },
   {
    "duration": 98,
    "start_time": "2023-06-12T10:17:21.650Z"
   },
   {
    "duration": 7,
    "start_time": "2023-06-12T10:17:21.751Z"
   },
   {
    "duration": 86,
    "start_time": "2023-06-12T10:17:21.760Z"
   },
   {
    "duration": 123527,
    "start_time": "2023-06-12T10:18:24.253Z"
   },
   {
    "duration": 5380,
    "start_time": "2023-06-12T10:21:47.160Z"
   },
   {
    "duration": 4410,
    "start_time": "2023-06-12T10:22:24.984Z"
   },
   {
    "duration": 1105,
    "start_time": "2023-06-12T10:22:29.397Z"
   },
   {
    "duration": 1078,
    "start_time": "2023-06-12T10:22:30.504Z"
   },
   {
    "duration": 27,
    "start_time": "2023-06-12T10:22:31.584Z"
   },
   {
    "duration": 208,
    "start_time": "2023-06-12T10:22:31.613Z"
   },
   {
    "duration": 10,
    "start_time": "2023-06-12T10:22:31.823Z"
   },
   {
    "duration": 67,
    "start_time": "2023-06-12T10:22:31.834Z"
   },
   {
    "duration": 29,
    "start_time": "2023-06-12T10:22:31.904Z"
   },
   {
    "duration": 50,
    "start_time": "2023-06-12T10:22:31.935Z"
   },
   {
    "duration": 37,
    "start_time": "2023-06-12T10:22:31.988Z"
   },
   {
    "duration": 42,
    "start_time": "2023-06-12T10:22:32.027Z"
   },
   {
    "duration": 56,
    "start_time": "2023-06-12T10:22:32.073Z"
   },
   {
    "duration": 46,
    "start_time": "2023-06-12T10:22:32.131Z"
   },
   {
    "duration": 54,
    "start_time": "2023-06-12T10:22:32.179Z"
   },
   {
    "duration": 58,
    "start_time": "2023-06-12T10:22:32.235Z"
   },
   {
    "duration": 74,
    "start_time": "2023-06-12T10:22:32.295Z"
   },
   {
    "duration": 24,
    "start_time": "2023-06-12T10:22:32.371Z"
   },
   {
    "duration": 52,
    "start_time": "2023-06-12T10:22:32.397Z"
   },
   {
    "duration": 64,
    "start_time": "2023-06-12T10:22:32.450Z"
   },
   {
    "duration": 46,
    "start_time": "2023-06-12T10:22:32.517Z"
   },
   {
    "duration": 105,
    "start_time": "2023-06-12T10:22:32.565Z"
   },
   {
    "duration": 2311,
    "start_time": "2023-06-12T10:22:32.672Z"
   },
   {
    "duration": 374,
    "start_time": "2023-06-12T10:22:34.985Z"
   },
   {
    "duration": 107,
    "start_time": "2023-06-12T10:22:35.361Z"
   },
   {
    "duration": 11,
    "start_time": "2023-06-12T10:22:35.471Z"
   },
   {
    "duration": 20,
    "start_time": "2023-06-12T10:22:35.483Z"
   },
   {
    "duration": 16,
    "start_time": "2023-06-12T10:22:35.505Z"
   },
   {
    "duration": 5361,
    "start_time": "2023-06-12T10:22:35.525Z"
   },
   {
    "duration": 1357,
    "start_time": "2023-06-12T10:22:40.888Z"
   },
   {
    "duration": 2731,
    "start_time": "2023-06-12T10:22:42.247Z"
   },
   {
    "duration": 111,
    "start_time": "2023-06-12T10:22:45.062Z"
   },
   {
    "duration": 12,
    "start_time": "2023-06-12T10:22:45.255Z"
   },
   {
    "duration": 300,
    "start_time": "2023-06-12T10:22:45.271Z"
   },
   {
    "duration": 106,
    "start_time": "2023-06-12T10:22:45.573Z"
   },
   {
    "duration": 7833,
    "start_time": "2023-06-12T10:22:45.681Z"
   },
   {
    "duration": 37856,
    "start_time": "2023-06-12T10:22:53.516Z"
   },
   {
    "duration": 18352,
    "start_time": "2023-06-12T10:23:31.374Z"
   },
   {
    "duration": 644,
    "start_time": "2023-06-12T10:23:49.728Z"
   },
   {
    "duration": 58086,
    "start_time": "2023-06-12T10:23:50.374Z"
   },
   {
    "duration": 422,
    "start_time": "2023-06-12T10:24:48.462Z"
   },
   {
    "duration": 84,
    "start_time": "2023-06-12T10:24:48.887Z"
   },
   {
    "duration": 4,
    "start_time": "2023-06-12T10:24:48.978Z"
   },
   {
    "duration": 146,
    "start_time": "2023-06-12T10:24:48.985Z"
   },
   {
    "duration": 39127,
    "start_time": "2023-06-12T10:24:49.133Z"
   },
   {
    "duration": 411,
    "start_time": "2023-06-12T10:25:28.262Z"
   },
   {
    "duration": 6,
    "start_time": "2023-06-12T10:25:28.675Z"
   },
   {
    "duration": 294,
    "start_time": "2023-06-12T10:25:28.682Z"
   },
   {
    "duration": 129,
    "start_time": "2023-06-12T10:25:28.978Z"
   },
   {
    "duration": 130,
    "start_time": "2023-06-12T10:25:29.110Z"
   },
   {
    "duration": 107,
    "start_time": "2023-06-12T10:25:29.242Z"
   },
   {
    "duration": 99,
    "start_time": "2023-06-12T10:25:29.351Z"
   },
   {
    "duration": 17,
    "start_time": "2023-06-12T10:25:29.451Z"
   },
   {
    "duration": 80,
    "start_time": "2023-06-12T11:00:17.595Z"
   },
   {
    "duration": 99,
    "start_time": "2023-06-12T11:00:35.575Z"
   },
   {
    "duration": 73,
    "start_time": "2023-06-12T11:01:06.146Z"
   },
   {
    "duration": 51,
    "start_time": "2023-06-12T11:03:04.205Z"
   }
  ],
  "kernelspec": {
   "display_name": "Python 3 (ipykernel)",
   "language": "python",
   "name": "python3"
  },
  "language_info": {
   "codemirror_mode": {
    "name": "ipython",
    "version": 3
   },
   "file_extension": ".py",
   "mimetype": "text/x-python",
   "name": "python",
   "nbconvert_exporter": "python",
   "pygments_lexer": "ipython3",
   "version": "3.10.9"
  },
  "toc": {
   "base_numbering": 1,
   "nav_menu": {},
   "number_sections": true,
   "sideBar": true,
   "skip_h1_title": true,
   "title_cell": "Table of Contents",
   "title_sidebar": "Contents",
   "toc_cell": false,
   "toc_position": {
    "height": "calc(100% - 180px)",
    "left": "10px",
    "top": "150px",
    "width": "165px"
   },
   "toc_section_display": true,
   "toc_window_display": true
  }
 },
 "nbformat": 4,
 "nbformat_minor": 4
}
