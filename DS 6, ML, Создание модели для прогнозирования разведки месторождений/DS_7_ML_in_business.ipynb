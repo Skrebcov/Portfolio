{
 "cells": [
  {
   "cell_type": "markdown",
   "metadata": {},
   "source": [
    "# Выбор локации для скважины"
   ]
  },
  {
   "cell_type": "markdown",
   "metadata": {},
   "source": [
    "Мы работаем в добывающей компании «ГлавРосГосНефть». Нужно решить, где бурить новую скважину.\n",
    "\n",
    "Нам предоставлены пробы нефти в трёх регионах: в каждом 100 000 месторождений, где измерили качество нефти и объём её запасов. Построим модель машинного обучения, которая поможет определить регион, где добыча принесёт наибольшую прибыль. Проанализируем возможную прибыль и риски техникой *Bootstrap.*\n",
    "\n",
    "Шаги для выбора локации:\n",
    "\n",
    "- В избранном регионе ищут месторождения, для каждого определяют значения признаков;\n",
    "- Строят модель и оценивают объём запасов;\n",
    "- Выбирают месторождения с самым высокими оценками значений. Количество месторождений зависит от бюджета компании и стоимости разработки одной скважины;\n",
    "- Прибыль равна суммарной прибыли отобранных месторождений."
   ]
  },
  {
   "cell_type": "markdown",
   "metadata": {},
   "source": [
    "## Загрузка и подготовка данных"
   ]
  },
  {
   "cell_type": "code",
   "execution_count": 1,
   "metadata": {},
   "outputs": [],
   "source": [
    "import pandas as pd\n",
    "from sklearn.linear_model import LinearRegression\n",
    "from sklearn.metrics import mean_squared_error\n",
    "from sklearn.model_selection import train_test_split\n",
    "import numpy as np"
   ]
  },
  {
   "cell_type": "code",
   "execution_count": 2,
   "metadata": {
    "scrolled": true
   },
   "outputs": [
    {
     "name": "stdout",
     "output_type": "stream",
     "text": [
      "      id        f0        f1        f2     product\n",
      "0  txEyH  0.705745 -0.497823  1.221170  105.280062\n",
      "1  2acmU  1.334711 -0.340164  4.365080   73.037750\n",
      "2  409Wp  1.022732  0.151990  1.419926   85.265647\n",
      "3  iJLyR -0.032172  0.139033  2.978566  168.620776\n",
      "4  Xdl7t  1.988431  0.155413  4.751769  154.036647\n",
      "      id         f0         f1        f2     product\n",
      "0  kBEdx -15.001348  -8.276000 -0.005876    3.179103\n",
      "1  62mP7  14.272088  -3.475083  0.999183   26.953261\n",
      "2  vyE1P   6.263187  -5.948386  5.001160  134.766305\n",
      "3  KcrkZ -13.081196 -11.506057  4.999415  137.945408\n",
      "4  AHL4O  12.702195  -8.147433  5.004363  134.766305\n",
      "      id        f0        f1        f2     product\n",
      "0  fwXo0 -1.146987  0.963328 -0.828965   27.758673\n",
      "1  WJtFt  0.262778  0.269839 -2.530187   56.069697\n",
      "2  ovLUW  0.194587  0.289035 -5.586433   62.871910\n",
      "3  q6cA6  2.236060 -0.553760  0.930038  114.572842\n",
      "4  WPMUX -0.515993  1.716266  5.899011  149.600746\n",
      "<class 'pandas.core.frame.DataFrame'>\n",
      "RangeIndex: 100000 entries, 0 to 99999\n",
      "Data columns (total 5 columns):\n",
      " #   Column   Non-Null Count   Dtype  \n",
      "---  ------   --------------   -----  \n",
      " 0   id       100000 non-null  object \n",
      " 1   f0       100000 non-null  float64\n",
      " 2   f1       100000 non-null  float64\n",
      " 3   f2       100000 non-null  float64\n",
      " 4   product  100000 non-null  float64\n",
      "dtypes: float64(4), object(1)\n",
      "memory usage: 3.8+ MB\n",
      "<class 'pandas.core.frame.DataFrame'>\n",
      "RangeIndex: 100000 entries, 0 to 99999\n",
      "Data columns (total 5 columns):\n",
      " #   Column   Non-Null Count   Dtype  \n",
      "---  ------   --------------   -----  \n",
      " 0   id       100000 non-null  object \n",
      " 1   f0       100000 non-null  float64\n",
      " 2   f1       100000 non-null  float64\n",
      " 3   f2       100000 non-null  float64\n",
      " 4   product  100000 non-null  float64\n",
      "dtypes: float64(4), object(1)\n",
      "memory usage: 3.8+ MB\n",
      "<class 'pandas.core.frame.DataFrame'>\n",
      "RangeIndex: 100000 entries, 0 to 99999\n",
      "Data columns (total 5 columns):\n",
      " #   Column   Non-Null Count   Dtype  \n",
      "---  ------   --------------   -----  \n",
      " 0   id       100000 non-null  object \n",
      " 1   f0       100000 non-null  float64\n",
      " 2   f1       100000 non-null  float64\n",
      " 3   f2       100000 non-null  float64\n",
      " 4   product  100000 non-null  float64\n",
      "dtypes: float64(4), object(1)\n",
      "memory usage: 3.8+ MB\n"
     ]
    }
   ],
   "source": [
    "df1 = pd.read_csv('geo_data_0.csv')\n",
    "df2 = pd.read_csv('geo_data_1.csv')\n",
    "df3 = pd.read_csv('geo_data_2.csv')\n",
    "\n",
    "print(df1.head(5)) # просмотрим содержимое данных\n",
    "print(df2.head(5))\n",
    "print(df3.head(5))\n",
    "df1.info() # информация говорит о том что все данные полные и без пропусков, все типы данных коррекнтые\n",
    "df2.info()\n",
    "df3.info()"
   ]
  },
  {
   "cell_type": "markdown",
   "metadata": {},
   "source": [
    "Данные готовы для исследования. Сначала построим модели обучения для целевого значения product - объём запасов в скважине (тыс. баррелей), мы будем решать залачу регрессии с помощью модели линейной регрессии."
   ]
  },
  {
   "cell_type": "markdown",
   "metadata": {},
   "source": [
    "## Обучение и проверка модели"
   ]
  },
  {
   "cell_type": "code",
   "execution_count": 3,
   "metadata": {},
   "outputs": [],
   "source": [
    "def linarReg(df):\n",
    "    target = df['product']\n",
    "    features = df.drop(['product','id'], axis=1)\n",
    "\n",
    "    features_train, features_valid, target_train, target_valid = train_test_split(\n",
    "    features, target, test_size=0.25, random_state=12345)\n",
    "    \n",
    "    model = LinearRegression()\n",
    "    model.fit(features_train, target_train) \n",
    "\n",
    "    predictions_valid = model.predict(features_valid)\n",
    "    predictions_valid_mean = predictions_valid.mean()\n",
    "\n",
    "    result = mean_squared_error(target_valid, predictions_valid)**0.5\n",
    "    return result,predictions_valid,target_valid,predictions_valid_mean"
   ]
  },
  {
   "cell_type": "code",
   "execution_count": 4,
   "metadata": {
    "scrolled": true,
    "tags": []
   },
   "outputs": [
    {
     "name": "stdout",
     "output_type": "stream",
     "text": [
      "Регион 1:\n",
      "RMSE модели линейной регрессии на валидационной выборке: 37.5794217150813\n",
      "Cредний запас предсказанного сырья: 92.59256778438035\n",
      "-------------------------------------------------------------------------\n",
      "Регион 2:\n",
      "RMSE модели линейной регрессии на валидационной выборке: 0.8930992867756167\n",
      "Cредний запас предсказанного сырья: 68.728546895446\n",
      "-------------------------------------------------------------------------\n",
      "Регион 3:\n",
      "RMSE модели линейной регрессии на валидационной выборке: 40.02970873393434\n",
      "Cредний запас предсказанного сырья: 94.96504596800489\n"
     ]
    }
   ],
   "source": [
    "result_1,predictions_valid_1,target_valid_1,predictions_valid_mean_1 = linarReg(df1)\n",
    "result_2,predictions_valid_2,target_valid_2,predictions_valid_mean_2 = linarReg(df2)\n",
    "result_3,predictions_valid_3,target_valid_3,predictions_valid_mean_3 = linarReg(df3)\n",
    "\n",
    "print('Регион 1:')\n",
    "print(\"RMSE модели линейной регрессии на валидационной выборке:\", result_1)\n",
    "print(\"Cредний запас предсказанного сырья:\", predictions_valid_mean_1)\n",
    "print('-------------------------------------------------------------------------')\n",
    "print('Регион 2:')\n",
    "print(\"RMSE модели линейной регрессии на валидационной выборке:\", result_2)\n",
    "print(\"Cредний запас предсказанного сырья:\", predictions_valid_mean_2)\n",
    "print('-------------------------------------------------------------------------')\n",
    "print('Регион 3:')\n",
    "print(\"RMSE модели линейной регрессии на валидационной выборке:\", result_3)\n",
    "print(\"Cредний запас предсказанного сырья:\", predictions_valid_mean_3)"
   ]
  },
  {
   "cell_type": "markdown",
   "metadata": {},
   "source": [
    "### Промежуточный вывод:\n",
    "\n",
    "Для каждого региона мы построили модели обучения и установили следующие результаты для регионов:\n",
    "\n",
    " - Регион 1:\n",
    "RMSE модели линейной регрессии на валидационной выборке: 37.6.\n",
    "Cредний запас предсказанного сырья: 92.6 тыс. баррелей\n",
    "\n",
    " - Регион 2:\n",
    "RMSE модели линейной регрессии на валидационной выборке: 0.89.\n",
    "Cредний запас предсказанного сырья: 68.7 тыс. баррелей\n",
    "\n",
    " - Регион 3:\n",
    "RMSE модели линейной регрессии на валидационной выборке: 40.\n",
    "Cредний запас предсказанного сырья: 95 тыс. баррелей\n",
    "\n",
    "Точнее всего модель предсказывает значения для Регина 2, но в нем же меньше всего средний запас сырья. "
   ]
  },
  {
   "cell_type": "markdown",
   "metadata": {},
   "source": [
    "## Подготовка к расчёту прибыли"
   ]
  },
  {
   "cell_type": "code",
   "execution_count": 5,
   "metadata": {},
   "outputs": [
    {
     "name": "stdout",
     "output_type": "stream",
     "text": [
      "Окупаемость месторождений в регионе в тыс баррелей: 111.11111111111111\n"
     ]
    }
   ],
   "source": [
    "OIL_PRICE = 450000 # цена нефти за 1 тыс баррелей\n",
    "BUDGET_WORK = 10_000_000_000 # бюджет на разработку скважин в регионе\n",
    "BEST_WELLS = 200 # по условию задачи мы выберм 200 лучших скважин\n",
    "PAYBACK = (BUDGET_WORK/OIL_PRICE)/BEST_WELLS # значение когда наступает окупаемость для 200 лучших скважин в регионе\n",
    "RANDOM_WELLS = 500\n",
    "BOOTSTRAP_SAMPLES = 1000\n",
    "print(\"Окупаемость месторождений в регионе в тыс баррелей:\", PAYBACK)"
   ]
  },
  {
   "cell_type": "markdown",
   "metadata": {},
   "source": [
    "Мы видим что минимальное среднее значение для окупаемости в регионе составляет 111.1 тыс. баррелей. Что является бОльшим числом, чем средний запас предсказанного сырья для всех местророждений в регионах. Это означает, что нам нужно будет выбрать лучшие местрождения для достижения окупаемости. "
   ]
  },
  {
   "cell_type": "markdown",
   "metadata": {},
   "source": [
    "## Расчёт прибыли и рисков "
   ]
  },
  {
   "cell_type": "markdown",
   "metadata": {},
   "source": [
    "Напишмем функцию для рассчета прибыли по скважинам для каждого региона."
   ]
  },
  {
   "cell_type": "code",
   "execution_count": 6,
   "metadata": {},
   "outputs": [],
   "source": [
    "def best_wells_count(target_valid, predictions_valid, count):\n",
    "    predictions_valid = pd.Series(predictions_valid) # преобразуем предсказания в серию для сортировки\n",
    "    predictions_sorted = predictions_valid.sort_values(ascending=False) # топ лучших скважин по убыванию\n",
    "    target_selected = target_valid.reset_index(drop=True)[predictions_sorted.index][:count] # берем истиные значения отобранных скважин\n",
    "    \n",
    "    return target_selected.sum() * OIL_PRICE - BUDGET_WORK # суммируем отобранные скважины и перемножаем на цена за тыс. баррелей минус бюджет"
   ]
  },
  {
   "cell_type": "code",
   "execution_count": 7,
   "metadata": {},
   "outputs": [
    {
     "name": "stdout",
     "output_type": "stream",
     "text": [
      "Прибыль Региона 1 из топ 200 скважин: 3320826043.1398506\n",
      "Прибыль Региона 2 из топ 200 скважин: 2415086696.681511\n",
      "Прибыль Региона 3 из топ 200 скважин: 2710349963.5998325\n"
     ]
    }
   ],
   "source": [
    "print(\"Прибыль Региона 1 из топ 200 скважин:\", best_wells_count(target_valid_1,predictions_valid_1,BEST_WELLS))\n",
    "print(\"Прибыль Региона 2 из топ 200 скважин:\", best_wells_count(target_valid_2,predictions_valid_2,BEST_WELLS))\n",
    "print(\"Прибыль Региона 3 из топ 200 скважин:\", best_wells_count(target_valid_3,predictions_valid_3,BEST_WELLS))"
   ]
  },
  {
   "cell_type": "markdown",
   "metadata": {},
   "source": [
    "Как итог каждый из регионов обещает принести прибыль. Но лучший результат прогнозируемой прибыли показывает Регион 1."
   ]
  },
  {
   "cell_type": "markdown",
   "metadata": {},
   "source": [
    "Теперь изучим вариант, исходя из условий задачи, что мы берем 500 случайных скважин в регионе, исследуем их и из текущих пятиста выбираем 200 лучших, используя функцию best_wells_count, применяя технику Bootstrap"
   ]
  },
  {
   "cell_type": "code",
   "execution_count": 8,
   "metadata": {},
   "outputs": [],
   "source": [
    "def revenue(target_valid,predictions_valid,BOOTSTRAP_SAMPLES,RANDOM_WELLS,BEST_WELLS):\n",
    "    state = np.random.RandomState(12345)\n",
    "    values = []\n",
    "    for i in range(BOOTSTRAP_SAMPLES):\n",
    "        target_sample = target_valid.reset_index(drop=True).sample(RANDOM_WELLS,replace=True,random_state=state)\n",
    "        probs_subsample = predictions_valid[target_sample.index]\n",
    "        \n",
    "        values.append(best_wells_count(target_sample,probs_subsample,BEST_WELLS))\n",
    "        \n",
    "    values = pd.Series(values)\n",
    "    lower = int(values.quantile(0.025))\n",
    "    upper = values.quantile(0.975)\n",
    "    risk = (len(values[values<0])/len(values))*100\n",
    "    return values,lower,upper,risk"
   ]
  },
  {
   "cell_type": "code",
   "execution_count": 9,
   "metadata": {
    "scrolled": true
   },
   "outputs": [
    {
     "name": "stdout",
     "output_type": "stream",
     "text": [
      "Средняя прибыль лучших скважин в Регионе 1: 396164984.8023711\n",
      "Доверительный интервал в 95% для средней прибыли в Регионе 1: от -111215545 до 909766941.5534226\n",
      "Риск убытка в Регионе 1 в %: 6.9\n",
      "------------------------------------------------------------------------------------------\n",
      "Средняя прибыль лучших скважин в Регионе 2: 456045105.7866608\n",
      "Доверительный интервал в 95% для средней прибыли в Регионе 2: от 33820509 до 852289453.866036\n",
      "Риск убытка в Регионе 2 в %: 1.5\n",
      "------------------------------------------------------------------------------------------\n",
      "Средняя прибыль лучших скважин в Регионе 3: 404403866.5683568\n",
      "Доверительный интервал в 95% для средней прибыли в Регионе 3: от -163350413 до 950359574.9237995\n",
      "Риск убытка в Регионе 3 в %: 7.6\n"
     ]
    }
   ],
   "source": [
    "values_1,lower_1,upper_1,risk_1 = revenue(target_valid_1,predictions_valid_1,BOOTSTRAP_SAMPLES,RANDOM_WELLS,BEST_WELLS)\n",
    "values_2,lower_2,upper_2,risk_2 = revenue(target_valid_2,predictions_valid_2,BOOTSTRAP_SAMPLES,RANDOM_WELLS,BEST_WELLS)\n",
    "values_3,lower_3,upper_3,risk_3 = revenue(target_valid_3,predictions_valid_3,BOOTSTRAP_SAMPLES,RANDOM_WELLS,BEST_WELLS)\n",
    "\n",
    "print(\"Средняя прибыль лучших скважин в Регионе 1:\",values_1.mean())\n",
    "print(\"Доверительный интервал в 95% для средней прибыли в Регионе 1:\",\"от\", lower_1,\"до\", upper_1)\n",
    "print(\"Риск убытка в Регионе 1 в %:\", risk_1)\n",
    "print('------------------------------------------------------------------------------------------')\n",
    "print(\"Средняя прибыль лучших скважин в Регионе 2:\",values_2.mean())\n",
    "print(\"Доверительный интервал в 95% для средней прибыли в Регионе 2:\",\"от\", lower_2,\"до\", upper_2)\n",
    "print(\"Риск убытка в Регионе 2 в %:\", risk_2)\n",
    "print('------------------------------------------------------------------------------------------')\n",
    "print(\"Средняя прибыль лучших скважин в Регионе 3:\",values_3.mean())\n",
    "print(\"Доверительный интервал в 95% для средней прибыли в Регионе 3:\",\"от\", lower_3,\"до\", upper_3)\n",
    "print(\"Риск убытка в Регионе 3 в %:\", risk_3)"
   ]
  },
  {
   "cell_type": "markdown",
   "metadata": {},
   "source": [
    "### Промежуточный вывод:"
   ]
  },
  {
   "cell_type": "markdown",
   "metadata": {},
   "source": [
    "Мы составили функцию для рассчетов риска и прибыли. Используя функцию провели исследование по трем регионам применяя технику Bootstrap и получили следуюшие результаты для 200 лучших месторождений в каждом регионе:\n",
    "\n",
    " - Средняя прибыль лучших скважин в Регионе 1: 396164985.\n",
    "Доверительный интервал в 95% для средней прибыли в Регионе 1: от -111215545 до 909766942.\n",
    "Риск убытка в Регионе 1 в %: 6.9\n",
    " - Средняя прибыль лучших скважин в Регионе 2: 456045106.\n",
    "Доверительный интервал в 95% для средней прибыли в Регионе 2: от 33820509 до 852289454.\n",
    "Риск убытка в Регионе 2 в %: 1.5\n",
    " - Средняя прибыль лучших скважин в Регионе 3: 404403867.\n",
    "Доверительный интервал в 95% для средней прибыли в Регионе 3: от -163350413 до 950359575.\n",
    "Риск убытка в Регионе 3 в %: 7.6\n",
    "\n",
    "Как итог я бы предложил 2 регион для разработки скважин по 2м причинам. \n",
    "1) Данные наиболее точны и репрезентативны, так как обученная модель показывает самое лучшее среднее квадратичное отклонение по Региону 2 в RMSE = 0.89, что указывает на высокую точность модели. \n",
    "\n",
    "2) Риск получаения убытка в этом регионе меньше 2% в то время как по остальным локациям риск выше 5%."
   ]
  },
  {
   "cell_type": "markdown",
   "metadata": {},
   "source": [
    "## Итоговый вывод"
   ]
  },
  {
   "cell_type": "markdown",
   "metadata": {},
   "source": [
    "Мы работаем в добывающей компании «ГлавРосГосНефть». Нужно решить, где бурить новую скважину.\n",
    "\n",
    "Нам предоставлены пробы нефти в трёх регионах: в каждом 100 000 месторождений, где измерили качество нефти и объём её запасов. Построим модель машинного обучения, которая поможет определить регион, где добыча принесёт наибольшую прибыль. Проанализируем возможную прибыль и риски техникой *Bootstrap.*\n",
    "\n",
    "Шаги для выбора локации:\n",
    "\n",
    "- В избранном регионе ищут месторождения, для каждого определяют значения признаков;\n",
    "- Строят модель и оценивают объём запасов;\n",
    "- Выбирают месторождения с самым высокими оценками значений. Количество месторождений зависит от бюджета компании и стоимости разработки одной скважины;\n",
    "- Прибыль равна суммарной прибыли отобранных месторождений.\n",
    "\n",
    "1) Мы провели загрузку и подготовку данных. В нашем распоряжении данные по 3м регионам, в каждом из которых нет пропусков и ошибок. Сначала построим модели обучения для целевого значения product - объём запасов в скважине (тыс. баррелей), мы будем решать залачу регрессии с помощью модели линейной регрессии. Можем приступать к анализу.\n",
    "\n",
    "2) Обучение и проверка модели. Для каждого региона мы построили модели обучения и установили следующие результаты для регионов:\n",
    "\n",
    " - Регион 1:\n",
    "RMSE модели линейной регрессии на валидационной выборке: 37.6.\n",
    "Cредний запас предсказанного сырья: 92.6 тыс. баррелей\n",
    "\n",
    " - Регион 2:\n",
    "RMSE модели линейной регрессии на валидационной выборке: 0.89.\n",
    "Cредний запас предсказанного сырья: 68.7 тыс. баррелей\n",
    "\n",
    " - Регион 3:\n",
    "RMSE модели линейной регрессии на валидационной выборке: 40.\n",
    "Cредний запас предсказанного сырья: 95 тыс. баррелей\n",
    "\n",
    "Точнее всего модель предсказывает значения для Регина 2, но в нем же меньше всего средний запас сырья. \n",
    "\n",
    "3) Подготовка к расчёту прибыли. Мы установили, что минимальное среднее значение для окупаемости в регионе составляет 111.1 тыс. баррелей. Что является бОльшим числом, чем средний запас предсказанного сырья для всех местророждений в регионах. Это означает, что нам нужно будет выбрать лучшие местрождения для достижения окупаемости.\n",
    "\n",
    "4) Расчёт прибыли и рисков. Написали функцию для рассчета прибыли по скважинам для каждого региона. Используя функцию провели исследование по трем регионам применяя технику Bootstrap и получили следуюшие результаты для 200 лучших месторождений в каждом регионе:\n",
    "\n",
    " - Средняя прибыль лучших скважин в Регионе 1: 396164985.\n",
    "Доверительный интервал в 95% для средней прибыли в Регионе 1: от -111215545 до 909766942.\n",
    "Риск убытка в Регионе 1 в %: 6.9\n",
    " - Средняя прибыль лучших скважин в Регионе 2: 456045106.\n",
    "Доверительный интервал в 95% для средней прибыли в Регионе 2: от 33820509 до 852289454.\n",
    "Риск убытка в Регионе 2 в %: 1.5\n",
    " - Средняя прибыль лучших скважин в Регионе 3: 404403867.\n",
    "Доверительный интервал в 95% для средней прибыли в Регионе 3: от -163350413 до 950359575.\n",
    "Риск убытка в Регионе 3 в %: 7.6\n",
    "\n",
    "Как итог я бы предложил 2 регион для разработки скважин по 2м причинам. \n",
    "1) Данные наиболее точны и репрезентативны, так как обученная модель показывает самое лучшее среднее квадратичное отклонение по Региону 2 в RMSE = 0.89, что указывает на высокую точность модели. \n",
    "\n",
    "2) Риск получаения убытка в этом регионе меньше 2% в то время как по остальным локациям риск выше 5%."
   ]
  },
  {
   "cell_type": "code",
   "execution_count": null,
   "metadata": {},
   "outputs": [],
   "source": []
  }
 ],
 "metadata": {
  "ExecuteTimeLog": [
   {
    "duration": 528,
    "start_time": "2023-04-26T19:21:47.431Z"
   },
   {
    "duration": 687,
    "start_time": "2023-04-26T19:21:57.844Z"
   },
   {
    "duration": 160,
    "start_time": "2023-04-26T19:22:02.551Z"
   },
   {
    "duration": 1345,
    "start_time": "2023-04-26T19:22:45.009Z"
   },
   {
    "duration": 419,
    "start_time": "2023-04-26T19:23:11.094Z"
   },
   {
    "duration": 415,
    "start_time": "2023-04-26T19:24:16.240Z"
   },
   {
    "duration": 409,
    "start_time": "2023-04-26T19:25:32.777Z"
   },
   {
    "duration": 422,
    "start_time": "2023-04-26T19:25:54.205Z"
   },
   {
    "duration": 439,
    "start_time": "2023-04-26T19:26:10.539Z"
   },
   {
    "duration": 447,
    "start_time": "2023-04-26T19:35:22.972Z"
   },
   {
    "duration": 1196,
    "start_time": "2023-04-26T19:42:32.318Z"
   },
   {
    "duration": 2,
    "start_time": "2023-04-26T19:42:58.323Z"
   },
   {
    "duration": 441,
    "start_time": "2023-04-26T19:42:59.253Z"
   },
   {
    "duration": 52,
    "start_time": "2023-04-26T19:45:36.973Z"
   },
   {
    "duration": 3,
    "start_time": "2023-04-26T19:46:03.710Z"
   },
   {
    "duration": 431,
    "start_time": "2023-04-26T19:46:04.274Z"
   },
   {
    "duration": 34,
    "start_time": "2023-04-26T19:46:08.765Z"
   },
   {
    "duration": 13,
    "start_time": "2023-04-26T19:46:16.458Z"
   },
   {
    "duration": 6,
    "start_time": "2023-04-26T19:46:24.531Z"
   },
   {
    "duration": 55,
    "start_time": "2023-04-26T19:52:52.534Z"
   },
   {
    "duration": 19,
    "start_time": "2023-04-26T19:53:48.750Z"
   },
   {
    "duration": 1054,
    "start_time": "2023-04-26T19:53:56.075Z"
   },
   {
    "duration": 140,
    "start_time": "2023-04-26T19:54:23.774Z"
   },
   {
    "duration": 8,
    "start_time": "2023-04-26T19:56:18.460Z"
   },
   {
    "duration": 12,
    "start_time": "2023-04-26T19:56:30.403Z"
   },
   {
    "duration": 128,
    "start_time": "2023-04-26T19:56:39.335Z"
   },
   {
    "duration": 30,
    "start_time": "2023-04-26T19:57:19.742Z"
   },
   {
    "duration": 28,
    "start_time": "2023-04-26T19:57:51.689Z"
   },
   {
    "duration": 23,
    "start_time": "2023-04-26T19:57:58.219Z"
   },
   {
    "duration": 10,
    "start_time": "2023-04-26T19:58:48.037Z"
   },
   {
    "duration": 1112,
    "start_time": "2023-04-26T19:58:56.815Z"
   },
   {
    "duration": 444,
    "start_time": "2023-04-26T19:58:57.929Z"
   },
   {
    "duration": 107,
    "start_time": "2023-04-26T19:58:58.375Z"
   },
   {
    "duration": 28,
    "start_time": "2023-04-26T19:59:47.577Z"
   },
   {
    "duration": 1181,
    "start_time": "2023-04-26T20:00:12.661Z"
   },
   {
    "duration": 480,
    "start_time": "2023-04-26T20:00:13.844Z"
   },
   {
    "duration": 132,
    "start_time": "2023-04-26T20:00:14.326Z"
   },
   {
    "duration": 23,
    "start_time": "2023-04-26T20:00:44.878Z"
   },
   {
    "duration": 17,
    "start_time": "2023-04-26T20:00:51.968Z"
   },
   {
    "duration": 1193,
    "start_time": "2023-04-26T20:00:57.913Z"
   },
   {
    "duration": 451,
    "start_time": "2023-04-26T20:00:59.109Z"
   },
   {
    "duration": 20,
    "start_time": "2023-04-26T20:00:59.562Z"
   },
   {
    "duration": 132,
    "start_time": "2023-04-26T20:00:59.584Z"
   },
   {
    "duration": 11,
    "start_time": "2023-04-26T20:06:00.966Z"
   },
   {
    "duration": 1128,
    "start_time": "2023-04-26T20:06:08.410Z"
   },
   {
    "duration": 456,
    "start_time": "2023-04-26T20:06:09.540Z"
   },
   {
    "duration": 15,
    "start_time": "2023-04-26T20:06:09.998Z"
   },
   {
    "duration": 278,
    "start_time": "2023-04-26T20:06:10.015Z"
   },
   {
    "duration": 107,
    "start_time": "2023-04-26T20:06:19.885Z"
   },
   {
    "duration": 1083,
    "start_time": "2023-04-26T20:08:10.337Z"
   },
   {
    "duration": 467,
    "start_time": "2023-04-26T20:08:11.423Z"
   },
   {
    "duration": 29,
    "start_time": "2023-04-26T20:08:11.892Z"
   },
   {
    "duration": 247,
    "start_time": "2023-04-26T20:08:11.923Z"
   },
   {
    "duration": 22,
    "start_time": "2023-04-26T20:08:29.783Z"
   },
   {
    "duration": 92,
    "start_time": "2023-04-26T20:10:00.007Z"
   },
   {
    "duration": 22,
    "start_time": "2023-04-26T20:10:58.918Z"
   },
   {
    "duration": 30,
    "start_time": "2023-04-26T20:11:20.313Z"
   },
   {
    "duration": 18,
    "start_time": "2023-04-26T20:15:48.997Z"
   },
   {
    "duration": 30,
    "start_time": "2023-04-26T20:17:19.330Z"
   },
   {
    "duration": 19,
    "start_time": "2023-04-26T20:17:51.200Z"
   },
   {
    "duration": 17,
    "start_time": "2023-04-26T20:18:43.519Z"
   },
   {
    "duration": 1182,
    "start_time": "2023-04-26T20:19:33.766Z"
   },
   {
    "duration": 473,
    "start_time": "2023-04-26T20:19:34.951Z"
   },
   {
    "duration": 18,
    "start_time": "2023-04-26T20:19:35.429Z"
   },
   {
    "duration": 45,
    "start_time": "2023-04-26T20:19:35.450Z"
   },
   {
    "duration": 189,
    "start_time": "2023-04-26T20:19:35.500Z"
   },
   {
    "duration": 18,
    "start_time": "2023-04-26T20:19:35.691Z"
   },
   {
    "duration": 178,
    "start_time": "2023-04-26T20:19:35.711Z"
   },
   {
    "duration": 25,
    "start_time": "2023-04-26T20:19:35.891Z"
   },
   {
    "duration": 1186,
    "start_time": "2023-04-26T20:21:22.720Z"
   },
   {
    "duration": 452,
    "start_time": "2023-04-26T20:21:23.909Z"
   },
   {
    "duration": 17,
    "start_time": "2023-04-26T20:21:24.362Z"
   },
   {
    "duration": 110,
    "start_time": "2023-04-26T20:21:24.380Z"
   },
   {
    "duration": 103,
    "start_time": "2023-04-26T20:21:24.492Z"
   },
   {
    "duration": 96,
    "start_time": "2023-04-26T20:21:24.597Z"
   },
   {
    "duration": 115,
    "start_time": "2023-04-26T20:21:24.696Z"
   },
   {
    "duration": 20,
    "start_time": "2023-04-26T20:21:24.813Z"
   },
   {
    "duration": 1208,
    "start_time": "2023-04-26T20:26:49.596Z"
   },
   {
    "duration": 449,
    "start_time": "2023-04-26T20:26:50.806Z"
   },
   {
    "duration": 16,
    "start_time": "2023-04-26T20:26:51.256Z"
   },
   {
    "duration": 117,
    "start_time": "2023-04-26T20:26:51.274Z"
   },
   {
    "duration": 106,
    "start_time": "2023-04-26T20:26:51.395Z"
   },
   {
    "duration": 87,
    "start_time": "2023-04-26T20:26:51.503Z"
   },
   {
    "duration": 106,
    "start_time": "2023-04-26T20:26:51.592Z"
   },
   {
    "duration": 25,
    "start_time": "2023-04-26T20:26:51.701Z"
   },
   {
    "duration": 1205,
    "start_time": "2023-04-26T20:28:07.678Z"
   },
   {
    "duration": 456,
    "start_time": "2023-04-26T20:28:08.885Z"
   },
   {
    "duration": 17,
    "start_time": "2023-04-26T20:28:09.343Z"
   },
   {
    "duration": 36,
    "start_time": "2023-04-26T20:28:09.362Z"
   },
   {
    "duration": 186,
    "start_time": "2023-04-26T20:28:09.404Z"
   },
   {
    "duration": 20,
    "start_time": "2023-04-26T20:28:09.592Z"
   },
   {
    "duration": 87,
    "start_time": "2023-04-26T20:28:09.614Z"
   },
   {
    "duration": 100,
    "start_time": "2023-04-26T20:28:09.703Z"
   },
   {
    "duration": 70,
    "start_time": "2023-04-26T21:13:45.380Z"
   },
   {
    "duration": 4,
    "start_time": "2023-04-26T21:13:56.598Z"
   },
   {
    "duration": 2,
    "start_time": "2023-04-26T21:22:53.684Z"
   },
   {
    "duration": 10,
    "start_time": "2023-04-26T21:22:58.551Z"
   },
   {
    "duration": 3,
    "start_time": "2023-04-26T21:23:27.544Z"
   },
   {
    "duration": 56,
    "start_time": "2023-04-26T21:33:21.203Z"
   },
   {
    "duration": 5,
    "start_time": "2023-04-26T21:34:38.003Z"
   },
   {
    "duration": 5,
    "start_time": "2023-04-26T21:35:03.435Z"
   },
   {
    "duration": 1170,
    "start_time": "2023-04-26T21:35:18.566Z"
   },
   {
    "duration": 484,
    "start_time": "2023-04-26T21:35:19.738Z"
   },
   {
    "duration": 20,
    "start_time": "2023-04-26T21:35:20.224Z"
   },
   {
    "duration": 48,
    "start_time": "2023-04-26T21:35:20.249Z"
   },
   {
    "duration": 96,
    "start_time": "2023-04-26T21:35:20.305Z"
   },
   {
    "duration": 91,
    "start_time": "2023-04-26T21:35:20.403Z"
   },
   {
    "duration": 100,
    "start_time": "2023-04-26T21:35:20.502Z"
   },
   {
    "duration": 19,
    "start_time": "2023-04-26T21:35:20.604Z"
   },
   {
    "duration": 18,
    "start_time": "2023-04-26T21:35:20.692Z"
   },
   {
    "duration": 4,
    "start_time": "2023-04-26T21:44:27.558Z"
   },
   {
    "duration": 84,
    "start_time": "2023-04-26T21:47:00.784Z"
   },
   {
    "duration": 6,
    "start_time": "2023-04-26T21:47:08.188Z"
   },
   {
    "duration": 4,
    "start_time": "2023-04-26T21:47:40.106Z"
   },
   {
    "duration": 1099,
    "start_time": "2023-04-26T23:32:14.948Z"
   },
   {
    "duration": 690,
    "start_time": "2023-04-26T23:32:16.049Z"
   },
   {
    "duration": 14,
    "start_time": "2023-04-26T23:32:16.742Z"
   },
   {
    "duration": 78,
    "start_time": "2023-04-26T23:32:16.758Z"
   },
   {
    "duration": 105,
    "start_time": "2023-04-26T23:32:16.839Z"
   },
   {
    "duration": 16,
    "start_time": "2023-04-26T23:32:16.945Z"
   },
   {
    "duration": 86,
    "start_time": "2023-04-26T23:32:16.964Z"
   },
   {
    "duration": 18,
    "start_time": "2023-04-26T23:32:17.135Z"
   },
   {
    "duration": 83,
    "start_time": "2023-04-26T23:32:17.155Z"
   },
   {
    "duration": 96,
    "start_time": "2023-04-26T23:48:56.795Z"
   },
   {
    "duration": 9,
    "start_time": "2023-04-26T23:49:14.515Z"
   },
   {
    "duration": 1024,
    "start_time": "2023-04-26T23:49:27.071Z"
   },
   {
    "duration": 421,
    "start_time": "2023-04-26T23:49:28.097Z"
   },
   {
    "duration": 29,
    "start_time": "2023-04-26T23:49:28.520Z"
   },
   {
    "duration": 20,
    "start_time": "2023-04-26T23:49:28.551Z"
   },
   {
    "duration": 163,
    "start_time": "2023-04-26T23:49:28.574Z"
   },
   {
    "duration": 35,
    "start_time": "2023-04-26T23:49:28.739Z"
   },
   {
    "duration": 157,
    "start_time": "2023-04-26T23:49:28.778Z"
   },
   {
    "duration": 28,
    "start_time": "2023-04-26T23:49:28.939Z"
   },
   {
    "duration": 4,
    "start_time": "2023-04-26T23:49:28.969Z"
   },
   {
    "duration": 204,
    "start_time": "2023-04-26T23:49:29.035Z"
   },
   {
    "duration": 0,
    "start_time": "2023-04-26T23:49:29.240Z"
   },
   {
    "duration": 1120,
    "start_time": "2023-04-26T23:49:44.563Z"
   },
   {
    "duration": 435,
    "start_time": "2023-04-26T23:49:45.685Z"
   },
   {
    "duration": 23,
    "start_time": "2023-04-26T23:49:46.122Z"
   },
   {
    "duration": 34,
    "start_time": "2023-04-26T23:49:46.147Z"
   },
   {
    "duration": 153,
    "start_time": "2023-04-26T23:49:46.183Z"
   },
   {
    "duration": 37,
    "start_time": "2023-04-26T23:49:46.337Z"
   },
   {
    "duration": 159,
    "start_time": "2023-04-26T23:49:46.378Z"
   },
   {
    "duration": 27,
    "start_time": "2023-04-26T23:49:46.540Z"
   },
   {
    "duration": 68,
    "start_time": "2023-04-26T23:49:46.569Z"
   },
   {
    "duration": 207,
    "start_time": "2023-04-26T23:49:46.640Z"
   },
   {
    "duration": 0,
    "start_time": "2023-04-26T23:49:46.854Z"
   },
   {
    "duration": 3,
    "start_time": "2023-04-27T00:03:29.359Z"
   },
   {
    "duration": 3,
    "start_time": "2023-04-27T00:06:36.174Z"
   },
   {
    "duration": 11,
    "start_time": "2023-04-27T00:08:13.319Z"
   },
   {
    "duration": 12,
    "start_time": "2023-04-27T00:08:38.044Z"
   },
   {
    "duration": 7,
    "start_time": "2023-04-27T00:09:05.574Z"
   },
   {
    "duration": 7,
    "start_time": "2023-04-27T00:12:11.545Z"
   },
   {
    "duration": 14,
    "start_time": "2023-04-27T00:12:40.917Z"
   },
   {
    "duration": 3,
    "start_time": "2023-04-27T00:13:54.818Z"
   },
   {
    "duration": 14,
    "start_time": "2023-04-27T00:13:56.843Z"
   },
   {
    "duration": 1378,
    "start_time": "2023-04-27T00:14:04.264Z"
   },
   {
    "duration": 381,
    "start_time": "2023-04-27T00:14:05.643Z"
   },
   {
    "duration": 18,
    "start_time": "2023-04-27T00:14:06.025Z"
   },
   {
    "duration": 40,
    "start_time": "2023-04-27T00:14:06.045Z"
   },
   {
    "duration": 102,
    "start_time": "2023-04-27T00:14:06.134Z"
   },
   {
    "duration": 22,
    "start_time": "2023-04-27T00:14:06.238Z"
   },
   {
    "duration": 173,
    "start_time": "2023-04-27T00:14:06.263Z"
   },
   {
    "duration": 21,
    "start_time": "2023-04-27T00:14:06.437Z"
   },
   {
    "duration": 176,
    "start_time": "2023-04-27T00:14:06.460Z"
   },
   {
    "duration": 21,
    "start_time": "2023-04-27T00:14:06.638Z"
   },
   {
    "duration": 18,
    "start_time": "2023-04-27T00:14:06.661Z"
   },
   {
    "duration": 1112,
    "start_time": "2023-04-27T00:15:06.637Z"
   },
   {
    "duration": 433,
    "start_time": "2023-04-27T00:15:07.752Z"
   },
   {
    "duration": 14,
    "start_time": "2023-04-27T00:15:08.188Z"
   },
   {
    "duration": 36,
    "start_time": "2023-04-27T00:15:08.204Z"
   },
   {
    "duration": 198,
    "start_time": "2023-04-27T00:15:08.244Z"
   },
   {
    "duration": 28,
    "start_time": "2023-04-27T00:15:08.444Z"
   },
   {
    "duration": 170,
    "start_time": "2023-04-27T00:15:08.475Z"
   },
   {
    "duration": 25,
    "start_time": "2023-04-27T00:15:08.646Z"
   },
   {
    "duration": 67,
    "start_time": "2023-04-27T00:15:08.673Z"
   },
   {
    "duration": 105,
    "start_time": "2023-04-27T00:15:08.742Z"
   },
   {
    "duration": 31,
    "start_time": "2023-04-27T00:15:08.849Z"
   },
   {
    "duration": 13,
    "start_time": "2023-04-27T00:18:35.304Z"
   },
   {
    "duration": 8,
    "start_time": "2023-04-27T00:19:12.660Z"
   },
   {
    "duration": 10,
    "start_time": "2023-04-27T00:19:18.754Z"
   },
   {
    "duration": 1075,
    "start_time": "2023-04-27T00:19:35.522Z"
   },
   {
    "duration": 380,
    "start_time": "2023-04-27T00:19:36.599Z"
   },
   {
    "duration": 12,
    "start_time": "2023-04-27T00:19:36.983Z"
   },
   {
    "duration": 39,
    "start_time": "2023-04-27T00:19:36.997Z"
   },
   {
    "duration": 104,
    "start_time": "2023-04-27T00:19:37.038Z"
   },
   {
    "duration": 16,
    "start_time": "2023-04-27T00:19:37.144Z"
   },
   {
    "duration": 180,
    "start_time": "2023-04-27T00:19:37.161Z"
   },
   {
    "duration": 16,
    "start_time": "2023-04-27T00:19:37.343Z"
   },
   {
    "duration": 78,
    "start_time": "2023-04-27T00:19:37.361Z"
   },
   {
    "duration": 118,
    "start_time": "2023-04-27T00:19:37.441Z"
   },
   {
    "duration": 57,
    "start_time": "2023-04-27T00:19:37.560Z"
   },
   {
    "duration": 107,
    "start_time": "2023-04-27T00:39:07.947Z"
   },
   {
    "duration": 10,
    "start_time": "2023-04-27T00:41:59.615Z"
   },
   {
    "duration": 9,
    "start_time": "2023-04-27T00:42:23.453Z"
   },
   {
    "duration": 914,
    "start_time": "2023-04-27T00:45:17.068Z"
   },
   {
    "duration": 17,
    "start_time": "2023-04-27T00:45:27.970Z"
   },
   {
    "duration": 9,
    "start_time": "2023-04-27T00:45:41.977Z"
   },
   {
    "duration": 13,
    "start_time": "2023-04-27T00:45:52.448Z"
   },
   {
    "duration": 8,
    "start_time": "2023-04-27T00:46:14.232Z"
   },
   {
    "duration": 7,
    "start_time": "2023-04-27T00:46:23.143Z"
   },
   {
    "duration": 915,
    "start_time": "2023-04-27T00:47:45.712Z"
   },
   {
    "duration": 858,
    "start_time": "2023-04-27T00:47:52.693Z"
   },
   {
    "duration": 948,
    "start_time": "2023-04-27T00:49:11.292Z"
   },
   {
    "duration": 1075,
    "start_time": "2023-04-27T00:51:11.716Z"
   },
   {
    "duration": 423,
    "start_time": "2023-04-27T00:51:12.793Z"
   },
   {
    "duration": 17,
    "start_time": "2023-04-27T00:51:13.217Z"
   },
   {
    "duration": 20,
    "start_time": "2023-04-27T00:51:13.236Z"
   },
   {
    "duration": 185,
    "start_time": "2023-04-27T00:51:13.259Z"
   },
   {
    "duration": 16,
    "start_time": "2023-04-27T00:51:13.445Z"
   },
   {
    "duration": 182,
    "start_time": "2023-04-27T00:51:13.463Z"
   },
   {
    "duration": 22,
    "start_time": "2023-04-27T00:51:13.647Z"
   },
   {
    "duration": 101,
    "start_time": "2023-04-27T00:51:13.735Z"
   },
   {
    "duration": 8,
    "start_time": "2023-04-27T00:51:13.838Z"
   },
   {
    "duration": 24,
    "start_time": "2023-04-27T00:51:13.848Z"
   },
   {
    "duration": 997,
    "start_time": "2023-04-27T00:51:13.874Z"
   },
   {
    "duration": 964,
    "start_time": "2023-04-27T00:51:14.873Z"
   },
   {
    "duration": 931,
    "start_time": "2023-04-27T00:51:15.840Z"
   },
   {
    "duration": 4,
    "start_time": "2023-04-27T00:52:29.503Z"
   },
   {
    "duration": 1067,
    "start_time": "2023-04-27T00:54:38.167Z"
   },
   {
    "duration": 390,
    "start_time": "2023-04-27T00:54:39.236Z"
   },
   {
    "duration": 16,
    "start_time": "2023-04-27T00:54:39.628Z"
   },
   {
    "duration": 20,
    "start_time": "2023-04-27T00:54:39.645Z"
   },
   {
    "duration": 103,
    "start_time": "2023-04-27T00:54:39.741Z"
   },
   {
    "duration": 21,
    "start_time": "2023-04-27T00:54:39.846Z"
   },
   {
    "duration": 181,
    "start_time": "2023-04-27T00:54:39.869Z"
   },
   {
    "duration": 84,
    "start_time": "2023-04-27T00:54:40.051Z"
   },
   {
    "duration": 5,
    "start_time": "2023-04-27T00:54:40.137Z"
   },
   {
    "duration": 104,
    "start_time": "2023-04-27T00:54:40.143Z"
   },
   {
    "duration": 21,
    "start_time": "2023-04-27T00:54:40.248Z"
   },
   {
    "duration": 1035,
    "start_time": "2023-04-27T00:54:40.270Z"
   },
   {
    "duration": 981,
    "start_time": "2023-04-27T00:54:41.307Z"
   },
   {
    "duration": 965,
    "start_time": "2023-04-27T00:54:42.290Z"
   },
   {
    "duration": 3,
    "start_time": "2023-04-27T00:54:43.257Z"
   },
   {
    "duration": 3,
    "start_time": "2023-04-27T01:05:15.780Z"
   },
   {
    "duration": 93,
    "start_time": "2023-04-27T01:05:36.927Z"
   },
   {
    "duration": 13,
    "start_time": "2023-04-27T01:05:45.255Z"
   },
   {
    "duration": 888,
    "start_time": "2023-04-27T01:05:58.056Z"
   },
   {
    "duration": 877,
    "start_time": "2023-04-27T01:06:06.449Z"
   },
   {
    "duration": 937,
    "start_time": "2023-04-27T01:06:16.177Z"
   },
   {
    "duration": 882,
    "start_time": "2023-04-27T01:07:28.693Z"
   },
   {
    "duration": 944,
    "start_time": "2023-04-27T01:09:46.365Z"
   },
   {
    "duration": 938,
    "start_time": "2023-04-27T01:10:00.074Z"
   },
   {
    "duration": 6,
    "start_time": "2023-04-27T01:12:41.818Z"
   },
   {
    "duration": 6,
    "start_time": "2023-04-27T01:13:13.173Z"
   },
   {
    "duration": 1640,
    "start_time": "2023-04-27T01:15:03.296Z"
   },
   {
    "duration": 91,
    "start_time": "2023-04-27T01:15:31.116Z"
   },
   {
    "duration": 53,
    "start_time": "2023-04-27T01:16:15.704Z"
   },
   {
    "duration": 4,
    "start_time": "2023-04-27T01:16:43.998Z"
   },
   {
    "duration": 4,
    "start_time": "2023-04-27T01:16:47.344Z"
   },
   {
    "duration": 15,
    "start_time": "2023-04-27T01:16:48.401Z"
   },
   {
    "duration": 882,
    "start_time": "2023-04-27T01:16:50.807Z"
   },
   {
    "duration": 859,
    "start_time": "2023-04-27T01:16:53.588Z"
   },
   {
    "duration": 916,
    "start_time": "2023-04-27T01:16:54.449Z"
   },
   {
    "duration": 4,
    "start_time": "2023-04-27T01:16:56.814Z"
   },
   {
    "duration": 7,
    "start_time": "2023-04-27T01:17:04.601Z"
   },
   {
    "duration": 6,
    "start_time": "2023-04-27T01:17:21.750Z"
   },
   {
    "duration": 1008,
    "start_time": "2023-04-27T01:19:23.575Z"
   },
   {
    "duration": 417,
    "start_time": "2023-04-27T01:19:24.586Z"
   },
   {
    "duration": 14,
    "start_time": "2023-04-27T01:19:25.005Z"
   },
   {
    "duration": 115,
    "start_time": "2023-04-27T01:19:25.021Z"
   },
   {
    "duration": 102,
    "start_time": "2023-04-27T01:19:25.138Z"
   },
   {
    "duration": 18,
    "start_time": "2023-04-27T01:19:25.242Z"
   },
   {
    "duration": 113,
    "start_time": "2023-04-27T01:19:25.336Z"
   },
   {
    "duration": 23,
    "start_time": "2023-04-27T01:19:25.451Z"
   },
   {
    "duration": 170,
    "start_time": "2023-04-27T01:19:25.476Z"
   },
   {
    "duration": 11,
    "start_time": "2023-04-27T01:19:25.648Z"
   },
   {
    "duration": 18,
    "start_time": "2023-04-27T01:19:25.661Z"
   },
   {
    "duration": 858,
    "start_time": "2023-04-27T01:19:25.680Z"
   },
   {
    "duration": 851,
    "start_time": "2023-04-27T01:19:26.540Z"
   },
   {
    "duration": 824,
    "start_time": "2023-04-27T01:19:27.393Z"
   },
   {
    "duration": 4,
    "start_time": "2023-04-27T01:19:28.218Z"
   },
   {
    "duration": 105,
    "start_time": "2023-04-27T01:19:28.224Z"
   },
   {
    "duration": 0,
    "start_time": "2023-04-27T01:19:28.331Z"
   },
   {
    "duration": 0,
    "start_time": "2023-04-27T01:19:28.334Z"
   },
   {
    "duration": 0,
    "start_time": "2023-04-27T01:19:28.336Z"
   },
   {
    "duration": 5,
    "start_time": "2023-04-27T01:19:53.650Z"
   },
   {
    "duration": 12,
    "start_time": "2023-04-27T01:20:20.959Z"
   },
   {
    "duration": 16,
    "start_time": "2023-04-27T01:21:14.476Z"
   },
   {
    "duration": 19,
    "start_time": "2023-04-27T01:22:42.436Z"
   },
   {
    "duration": 24,
    "start_time": "2023-04-27T01:24:23.804Z"
   },
   {
    "duration": 900,
    "start_time": "2023-04-27T01:24:47.807Z"
   },
   {
    "duration": 875,
    "start_time": "2023-04-27T01:24:52.031Z"
   },
   {
    "duration": 907,
    "start_time": "2023-04-27T01:24:52.908Z"
   },
   {
    "duration": 1067,
    "start_time": "2023-04-27T12:08:11.254Z"
   },
   {
    "duration": 2220,
    "start_time": "2023-04-27T12:08:12.323Z"
   },
   {
    "duration": 16,
    "start_time": "2023-04-27T12:08:14.545Z"
   },
   {
    "duration": 32,
    "start_time": "2023-04-27T12:08:14.562Z"
   },
   {
    "duration": 110,
    "start_time": "2023-04-27T12:08:14.597Z"
   },
   {
    "duration": 84,
    "start_time": "2023-04-27T12:08:14.709Z"
   },
   {
    "duration": 105,
    "start_time": "2023-04-27T12:08:14.795Z"
   },
   {
    "duration": 24,
    "start_time": "2023-04-27T12:08:14.902Z"
   },
   {
    "duration": 65,
    "start_time": "2023-04-27T12:08:14.928Z"
   },
   {
    "duration": 4,
    "start_time": "2023-04-27T12:08:14.995Z"
   },
   {
    "duration": 104,
    "start_time": "2023-04-27T12:08:15.001Z"
   },
   {
    "duration": 1019,
    "start_time": "2023-04-27T12:08:15.107Z"
   },
   {
    "duration": 1064,
    "start_time": "2023-04-27T12:08:16.128Z"
   },
   {
    "duration": 1041,
    "start_time": "2023-04-27T12:08:17.195Z"
   },
   {
    "duration": 5,
    "start_time": "2023-04-27T12:08:18.238Z"
   },
   {
    "duration": 1037,
    "start_time": "2023-04-27T12:08:18.244Z"
   },
   {
    "duration": 966,
    "start_time": "2023-04-27T12:08:19.282Z"
   },
   {
    "duration": 986,
    "start_time": "2023-04-27T12:08:20.250Z"
   },
   {
    "duration": 4,
    "start_time": "2023-04-27T12:20:58.683Z"
   },
   {
    "duration": 113,
    "start_time": "2023-04-27T12:21:23.367Z"
   },
   {
    "duration": 21,
    "start_time": "2023-04-27T12:21:45.430Z"
   },
   {
    "duration": 16,
    "start_time": "2023-04-27T12:22:45.409Z"
   },
   {
    "duration": 13,
    "start_time": "2023-04-27T12:24:09.369Z"
   },
   {
    "duration": 22,
    "start_time": "2023-04-27T12:24:22.407Z"
   },
   {
    "duration": 15,
    "start_time": "2023-04-27T12:25:07.187Z"
   },
   {
    "duration": 26,
    "start_time": "2023-04-27T12:25:17.268Z"
   },
   {
    "duration": 1136,
    "start_time": "2023-04-27T12:27:56.833Z"
   },
   {
    "duration": 502,
    "start_time": "2023-04-27T12:27:57.971Z"
   },
   {
    "duration": 24,
    "start_time": "2023-04-27T12:27:58.475Z"
   },
   {
    "duration": 23,
    "start_time": "2023-04-27T12:27:58.502Z"
   },
   {
    "duration": 103,
    "start_time": "2023-04-27T12:27:58.591Z"
   },
   {
    "duration": 27,
    "start_time": "2023-04-27T12:27:58.696Z"
   },
   {
    "duration": 183,
    "start_time": "2023-04-27T12:27:58.725Z"
   },
   {
    "duration": 28,
    "start_time": "2023-04-27T12:27:58.910Z"
   },
   {
    "duration": 10,
    "start_time": "2023-04-27T12:27:58.994Z"
   },
   {
    "duration": 5,
    "start_time": "2023-04-27T12:27:59.091Z"
   },
   {
    "duration": 25,
    "start_time": "2023-04-27T12:27:59.099Z"
   },
   {
    "duration": 4,
    "start_time": "2023-04-27T12:27:59.127Z"
   },
   {
    "duration": 139,
    "start_time": "2023-04-27T12:27:59.134Z"
   },
   {
    "duration": 0,
    "start_time": "2023-04-27T12:27:59.275Z"
   },
   {
    "duration": 1,
    "start_time": "2023-04-27T12:27:59.276Z"
   },
   {
    "duration": 0,
    "start_time": "2023-04-27T12:27:59.278Z"
   },
   {
    "duration": 0,
    "start_time": "2023-04-27T12:27:59.279Z"
   },
   {
    "duration": 0,
    "start_time": "2023-04-27T12:27:59.280Z"
   },
   {
    "duration": 0,
    "start_time": "2023-04-27T12:27:59.292Z"
   },
   {
    "duration": 0,
    "start_time": "2023-04-27T12:27:59.294Z"
   },
   {
    "duration": 1188,
    "start_time": "2023-04-27T12:28:36.294Z"
   },
   {
    "duration": 582,
    "start_time": "2023-04-27T12:28:37.484Z"
   },
   {
    "duration": 31,
    "start_time": "2023-04-27T12:28:38.068Z"
   },
   {
    "duration": 25,
    "start_time": "2023-04-27T12:28:38.101Z"
   },
   {
    "duration": 83,
    "start_time": "2023-04-27T12:28:38.130Z"
   },
   {
    "duration": 98,
    "start_time": "2023-04-27T12:28:38.219Z"
   },
   {
    "duration": 179,
    "start_time": "2023-04-27T12:28:38.321Z"
   },
   {
    "duration": 105,
    "start_time": "2023-04-27T12:28:38.506Z"
   },
   {
    "duration": 5,
    "start_time": "2023-04-27T12:28:38.614Z"
   },
   {
    "duration": 72,
    "start_time": "2023-04-27T12:28:38.623Z"
   },
   {
    "duration": 27,
    "start_time": "2023-04-27T12:28:38.699Z"
   },
   {
    "duration": 4,
    "start_time": "2023-04-27T12:28:38.728Z"
   },
   {
    "duration": 149,
    "start_time": "2023-04-27T12:28:38.735Z"
   },
   {
    "duration": 0,
    "start_time": "2023-04-27T12:28:38.886Z"
   },
   {
    "duration": 0,
    "start_time": "2023-04-27T12:28:38.887Z"
   },
   {
    "duration": 0,
    "start_time": "2023-04-27T12:28:38.891Z"
   },
   {
    "duration": 0,
    "start_time": "2023-04-27T12:28:38.892Z"
   },
   {
    "duration": 0,
    "start_time": "2023-04-27T12:28:38.893Z"
   },
   {
    "duration": 0,
    "start_time": "2023-04-27T12:28:38.897Z"
   },
   {
    "duration": 0,
    "start_time": "2023-04-27T12:28:38.899Z"
   },
   {
    "duration": 28,
    "start_time": "2023-04-27T12:28:48.175Z"
   },
   {
    "duration": 4,
    "start_time": "2023-04-27T12:29:35.305Z"
   },
   {
    "duration": 11,
    "start_time": "2023-04-27T12:29:39.613Z"
   },
   {
    "duration": 4,
    "start_time": "2023-04-27T12:29:49.920Z"
   },
   {
    "duration": 21,
    "start_time": "2023-04-27T12:29:51.609Z"
   },
   {
    "duration": 4,
    "start_time": "2023-04-27T12:32:10.822Z"
   },
   {
    "duration": 24,
    "start_time": "2023-04-27T12:32:12.538Z"
   },
   {
    "duration": 4,
    "start_time": "2023-04-27T12:33:48.104Z"
   },
   {
    "duration": 20,
    "start_time": "2023-04-27T12:33:49.549Z"
   },
   {
    "duration": 4,
    "start_time": "2023-04-27T12:33:56.373Z"
   },
   {
    "duration": 19,
    "start_time": "2023-04-27T12:33:56.824Z"
   },
   {
    "duration": 3,
    "start_time": "2023-04-27T12:34:03.638Z"
   },
   {
    "duration": 28,
    "start_time": "2023-04-27T12:34:04.080Z"
   },
   {
    "duration": 4,
    "start_time": "2023-04-27T12:34:36.546Z"
   },
   {
    "duration": 15,
    "start_time": "2023-04-27T12:34:37.173Z"
   },
   {
    "duration": 4,
    "start_time": "2023-04-27T12:35:32.250Z"
   },
   {
    "duration": 21,
    "start_time": "2023-04-27T12:35:32.773Z"
   },
   {
    "duration": 4,
    "start_time": "2023-04-27T12:36:15.956Z"
   },
   {
    "duration": 15,
    "start_time": "2023-04-27T12:36:16.741Z"
   },
   {
    "duration": 3,
    "start_time": "2023-04-27T12:37:15.281Z"
   },
   {
    "duration": 29,
    "start_time": "2023-04-27T12:37:16.406Z"
   },
   {
    "duration": 3,
    "start_time": "2023-04-27T12:37:25.445Z"
   },
   {
    "duration": 10,
    "start_time": "2023-04-27T12:37:26.812Z"
   },
   {
    "duration": 1086,
    "start_time": "2023-04-27T12:37:44.699Z"
   },
   {
    "duration": 1045,
    "start_time": "2023-04-27T12:37:50.480Z"
   },
   {
    "duration": 1068,
    "start_time": "2023-04-27T12:37:56.846Z"
   },
   {
    "duration": 5,
    "start_time": "2023-04-27T12:38:00.434Z"
   },
   {
    "duration": 11,
    "start_time": "2023-04-27T12:38:21.777Z"
   },
   {
    "duration": 1063,
    "start_time": "2023-04-27T12:38:56.338Z"
   },
   {
    "duration": 1003,
    "start_time": "2023-04-27T12:38:57.943Z"
   },
   {
    "duration": 4,
    "start_time": "2023-04-27T12:38:58.948Z"
   },
   {
    "duration": 1132,
    "start_time": "2023-04-27T12:39:24.303Z"
   },
   {
    "duration": 405,
    "start_time": "2023-04-27T12:39:25.437Z"
   },
   {
    "duration": 15,
    "start_time": "2023-04-27T12:39:25.843Z"
   },
   {
    "duration": 40,
    "start_time": "2023-04-27T12:39:25.861Z"
   },
   {
    "duration": 21,
    "start_time": "2023-04-27T12:39:25.993Z"
   },
   {
    "duration": 18,
    "start_time": "2023-04-27T12:39:26.092Z"
   },
   {
    "duration": 178,
    "start_time": "2023-04-27T12:39:26.114Z"
   },
   {
    "duration": 20,
    "start_time": "2023-04-27T12:39:26.294Z"
   },
   {
    "duration": 75,
    "start_time": "2023-04-27T12:39:26.318Z"
   },
   {
    "duration": 4,
    "start_time": "2023-04-27T12:39:26.396Z"
   },
   {
    "duration": 17,
    "start_time": "2023-04-27T12:39:26.492Z"
   },
   {
    "duration": 3,
    "start_time": "2023-04-27T12:39:26.511Z"
   },
   {
    "duration": 15,
    "start_time": "2023-04-27T12:39:26.516Z"
   },
   {
    "duration": 1050,
    "start_time": "2023-04-27T12:39:26.532Z"
   },
   {
    "duration": 1075,
    "start_time": "2023-04-27T12:39:27.584Z"
   },
   {
    "duration": 993,
    "start_time": "2023-04-27T12:39:28.661Z"
   },
   {
    "duration": 5,
    "start_time": "2023-04-27T12:39:29.656Z"
   },
   {
    "duration": 1033,
    "start_time": "2023-04-27T12:39:29.663Z"
   },
   {
    "duration": 1035,
    "start_time": "2023-04-27T12:39:30.697Z"
   },
   {
    "duration": 1046,
    "start_time": "2023-04-27T12:39:31.735Z"
   },
   {
    "duration": 141,
    "start_time": "2023-04-27T12:40:52.130Z"
   },
   {
    "duration": 1134,
    "start_time": "2023-04-27T12:41:31.511Z"
   },
   {
    "duration": 1096,
    "start_time": "2023-04-27T12:44:55.654Z"
   },
   {
    "duration": 430,
    "start_time": "2023-04-27T12:44:56.753Z"
   },
   {
    "duration": 24,
    "start_time": "2023-04-27T12:44:57.185Z"
   },
   {
    "duration": 26,
    "start_time": "2023-04-27T12:44:57.211Z"
   },
   {
    "duration": 165,
    "start_time": "2023-04-27T12:44:57.240Z"
   },
   {
    "duration": 28,
    "start_time": "2023-04-27T12:44:57.407Z"
   },
   {
    "duration": 161,
    "start_time": "2023-04-27T12:44:57.437Z"
   },
   {
    "duration": 27,
    "start_time": "2023-04-27T12:44:57.600Z"
   },
   {
    "duration": 68,
    "start_time": "2023-04-27T12:44:57.628Z"
   },
   {
    "duration": 12,
    "start_time": "2023-04-27T12:44:57.698Z"
   },
   {
    "duration": 99,
    "start_time": "2023-04-27T12:44:57.713Z"
   },
   {
    "duration": 4,
    "start_time": "2023-04-27T12:50:23.747Z"
   },
   {
    "duration": 137,
    "start_time": "2023-04-27T12:50:38.136Z"
   },
   {
    "duration": 21,
    "start_time": "2023-04-27T12:50:58.655Z"
   },
   {
    "duration": 4,
    "start_time": "2023-04-27T12:52:30.960Z"
   },
   {
    "duration": 24,
    "start_time": "2023-04-27T12:52:31.583Z"
   },
   {
    "duration": 4,
    "start_time": "2023-04-27T13:03:27.929Z"
   },
   {
    "duration": 21,
    "start_time": "2023-04-27T13:03:29.020Z"
   },
   {
    "duration": 11,
    "start_time": "2023-04-27T13:07:15.314Z"
   },
   {
    "duration": 4,
    "start_time": "2023-04-27T13:07:29.706Z"
   },
   {
    "duration": 19,
    "start_time": "2023-04-27T13:07:30.822Z"
   },
   {
    "duration": 11,
    "start_time": "2023-04-27T13:07:34.237Z"
   },
   {
    "duration": 11,
    "start_time": "2023-04-27T13:07:52.806Z"
   },
   {
    "duration": 19,
    "start_time": "2023-04-27T13:08:19.836Z"
   },
   {
    "duration": 19,
    "start_time": "2023-04-27T13:08:39.538Z"
   },
   {
    "duration": 77,
    "start_time": "2023-04-27T13:08:49.322Z"
   },
   {
    "duration": 16,
    "start_time": "2023-04-27T13:08:54.844Z"
   },
   {
    "duration": 23,
    "start_time": "2023-04-27T13:09:48.580Z"
   },
   {
    "duration": 23,
    "start_time": "2023-04-27T13:14:28.047Z"
   },
   {
    "duration": 4,
    "start_time": "2023-04-27T13:16:14.081Z"
   },
   {
    "duration": 19,
    "start_time": "2023-04-27T13:16:14.784Z"
   },
   {
    "duration": 23,
    "start_time": "2023-04-27T13:16:19.981Z"
   },
   {
    "duration": 25,
    "start_time": "2023-04-27T13:19:41.562Z"
   },
   {
    "duration": 14,
    "start_time": "2023-04-27T13:23:12.477Z"
   },
   {
    "duration": 11,
    "start_time": "2023-04-27T13:23:49.707Z"
   },
   {
    "duration": 12,
    "start_time": "2023-04-27T13:43:29.598Z"
   },
   {
    "duration": 77,
    "start_time": "2023-04-27T13:45:22.480Z"
   },
   {
    "duration": 12,
    "start_time": "2023-04-27T13:48:42.298Z"
   },
   {
    "duration": 10,
    "start_time": "2023-04-27T13:51:08.732Z"
   },
   {
    "duration": 1095,
    "start_time": "2023-04-27T13:51:26.184Z"
   },
   {
    "duration": 466,
    "start_time": "2023-04-27T13:51:27.281Z"
   },
   {
    "duration": 13,
    "start_time": "2023-04-27T13:51:27.749Z"
   },
   {
    "duration": 31,
    "start_time": "2023-04-27T13:51:27.764Z"
   },
   {
    "duration": 194,
    "start_time": "2023-04-27T13:51:27.798Z"
   },
   {
    "duration": 17,
    "start_time": "2023-04-27T13:51:27.994Z"
   },
   {
    "duration": 179,
    "start_time": "2023-04-27T13:51:28.013Z"
   },
   {
    "duration": 20,
    "start_time": "2023-04-27T13:51:28.194Z"
   },
   {
    "duration": 5,
    "start_time": "2023-04-27T13:51:28.291Z"
   },
   {
    "duration": 102,
    "start_time": "2023-04-27T13:51:28.298Z"
   },
   {
    "duration": 23,
    "start_time": "2023-04-27T13:51:28.402Z"
   },
   {
    "duration": 108,
    "start_time": "2023-04-27T13:51:28.427Z"
   },
   {
    "duration": 1031,
    "start_time": "2023-04-27T13:52:03.413Z"
   },
   {
    "duration": 1120,
    "start_time": "2023-04-27T13:52:22.783Z"
   },
   {
    "duration": 424,
    "start_time": "2023-04-27T13:52:23.906Z"
   },
   {
    "duration": 14,
    "start_time": "2023-04-27T13:52:24.332Z"
   },
   {
    "duration": 45,
    "start_time": "2023-04-27T13:52:24.348Z"
   },
   {
    "duration": 110,
    "start_time": "2023-04-27T13:52:24.395Z"
   },
   {
    "duration": 21,
    "start_time": "2023-04-27T13:52:24.507Z"
   },
   {
    "duration": 108,
    "start_time": "2023-04-27T13:52:24.593Z"
   },
   {
    "duration": 90,
    "start_time": "2023-04-27T13:52:24.703Z"
   },
   {
    "duration": 4,
    "start_time": "2023-04-27T13:52:24.795Z"
   },
   {
    "duration": 92,
    "start_time": "2023-04-27T13:52:24.803Z"
   },
   {
    "duration": 23,
    "start_time": "2023-04-27T13:52:24.897Z"
   },
   {
    "duration": 1008,
    "start_time": "2023-04-27T13:52:24.922Z"
   },
   {
    "duration": 1064,
    "start_time": "2023-04-27T13:53:00.379Z"
   },
   {
    "duration": 99,
    "start_time": "2023-04-27T13:54:17.922Z"
   },
   {
    "duration": 1051,
    "start_time": "2023-04-27T13:54:29.703Z"
   },
   {
    "duration": 15,
    "start_time": "2023-04-27T13:54:39.877Z"
   },
   {
    "duration": 4,
    "start_time": "2023-04-27T13:55:35.274Z"
   },
   {
    "duration": 19,
    "start_time": "2023-04-27T13:55:35.972Z"
   },
   {
    "duration": 1125,
    "start_time": "2023-04-27T13:55:52.361Z"
   },
   {
    "duration": 431,
    "start_time": "2023-04-27T13:55:53.488Z"
   },
   {
    "duration": 16,
    "start_time": "2023-04-27T13:55:53.920Z"
   },
   {
    "duration": 57,
    "start_time": "2023-04-27T13:55:53.938Z"
   },
   {
    "duration": 107,
    "start_time": "2023-04-27T13:55:53.997Z"
   },
   {
    "duration": 18,
    "start_time": "2023-04-27T13:55:54.106Z"
   },
   {
    "duration": 169,
    "start_time": "2023-04-27T13:55:54.125Z"
   },
   {
    "duration": 21,
    "start_time": "2023-04-27T13:55:54.296Z"
   },
   {
    "duration": 76,
    "start_time": "2023-04-27T13:55:54.319Z"
   },
   {
    "duration": 96,
    "start_time": "2023-04-27T13:55:54.398Z"
   },
   {
    "duration": 25,
    "start_time": "2023-04-27T13:55:54.496Z"
   },
   {
    "duration": 109,
    "start_time": "2023-04-27T13:55:54.523Z"
   },
   {
    "duration": 1054,
    "start_time": "2023-04-27T13:56:02.838Z"
   },
   {
    "duration": 988,
    "start_time": "2023-04-27T13:57:05.372Z"
   },
   {
    "duration": 1064,
    "start_time": "2023-04-27T13:57:17.717Z"
   },
   {
    "duration": 415,
    "start_time": "2023-04-27T13:57:18.783Z"
   },
   {
    "duration": 15,
    "start_time": "2023-04-27T13:57:19.200Z"
   },
   {
    "duration": 77,
    "start_time": "2023-04-27T13:57:19.217Z"
   },
   {
    "duration": 105,
    "start_time": "2023-04-27T13:57:19.296Z"
   },
   {
    "duration": 91,
    "start_time": "2023-04-27T13:57:19.403Z"
   },
   {
    "duration": 108,
    "start_time": "2023-04-27T13:57:19.496Z"
   },
   {
    "duration": 19,
    "start_time": "2023-04-27T13:57:19.605Z"
   },
   {
    "duration": 4,
    "start_time": "2023-04-27T13:57:19.692Z"
   },
   {
    "duration": 95,
    "start_time": "2023-04-27T13:57:19.698Z"
   },
   {
    "duration": 20,
    "start_time": "2023-04-27T13:57:19.795Z"
   },
   {
    "duration": 1081,
    "start_time": "2023-04-27T13:57:19.816Z"
   },
   {
    "duration": 1004,
    "start_time": "2023-04-27T13:57:20.898Z"
   },
   {
    "duration": 1071,
    "start_time": "2023-04-27T13:57:21.904Z"
   },
   {
    "duration": 1051,
    "start_time": "2023-04-27T14:01:53.024Z"
   },
   {
    "duration": 1139,
    "start_time": "2023-04-27T14:02:41.109Z"
   },
   {
    "duration": 1018,
    "start_time": "2023-04-27T14:03:44.585Z"
   },
   {
    "duration": 1080,
    "start_time": "2023-04-27T14:03:57.052Z"
   },
   {
    "duration": 1019,
    "start_time": "2023-04-27T14:05:09.064Z"
   },
   {
    "duration": 1107,
    "start_time": "2023-04-27T14:05:28.263Z"
   },
   {
    "duration": 75,
    "start_time": "2023-04-27T14:14:27.748Z"
   },
   {
    "duration": 1036,
    "start_time": "2023-04-27T14:14:33.916Z"
   },
   {
    "duration": 989,
    "start_time": "2023-04-27T14:19:20.313Z"
   },
   {
    "duration": 1103,
    "start_time": "2023-04-27T14:20:29.028Z"
   },
   {
    "duration": 1029,
    "start_time": "2023-04-27T14:20:48.772Z"
   },
   {
    "duration": 1003,
    "start_time": "2023-04-27T14:21:55.635Z"
   },
   {
    "duration": 1035,
    "start_time": "2023-04-27T14:22:54.369Z"
   },
   {
    "duration": 998,
    "start_time": "2023-04-27T14:24:08.613Z"
   },
   {
    "duration": 1108,
    "start_time": "2023-04-27T14:25:26.670Z"
   },
   {
    "duration": 1003,
    "start_time": "2023-04-27T14:25:51.858Z"
   },
   {
    "duration": 1060,
    "start_time": "2023-04-27T14:26:11.927Z"
   },
   {
    "duration": 1044,
    "start_time": "2023-04-27T14:26:28.521Z"
   },
   {
    "duration": 995,
    "start_time": "2023-04-27T14:26:55.657Z"
   },
   {
    "duration": 1141,
    "start_time": "2023-04-27T14:28:27.227Z"
   },
   {
    "duration": 1040,
    "start_time": "2023-04-27T14:28:50.117Z"
   },
   {
    "duration": 1075,
    "start_time": "2023-04-27T14:28:54.666Z"
   },
   {
    "duration": 991,
    "start_time": "2023-04-27T14:29:05.622Z"
   },
   {
    "duration": 1025,
    "start_time": "2023-04-27T14:29:12.072Z"
   },
   {
    "duration": 1132,
    "start_time": "2023-04-27T14:29:16.677Z"
   },
   {
    "duration": 4,
    "start_time": "2023-04-27T14:31:31.719Z"
   },
   {
    "duration": 1096,
    "start_time": "2023-04-27T14:31:38.758Z"
   },
   {
    "duration": 402,
    "start_time": "2023-04-27T14:31:39.856Z"
   },
   {
    "duration": 15,
    "start_time": "2023-04-27T14:31:40.260Z"
   },
   {
    "duration": 36,
    "start_time": "2023-04-27T14:31:40.277Z"
   },
   {
    "duration": 104,
    "start_time": "2023-04-27T14:31:40.393Z"
   },
   {
    "duration": 18,
    "start_time": "2023-04-27T14:31:40.498Z"
   },
   {
    "duration": 174,
    "start_time": "2023-04-27T14:31:40.518Z"
   },
   {
    "duration": 18,
    "start_time": "2023-04-27T14:31:40.694Z"
   },
   {
    "duration": 82,
    "start_time": "2023-04-27T14:31:40.716Z"
   },
   {
    "duration": 93,
    "start_time": "2023-04-27T14:31:40.801Z"
   },
   {
    "duration": 20,
    "start_time": "2023-04-27T14:31:40.895Z"
   },
   {
    "duration": 996,
    "start_time": "2023-04-27T14:31:40.917Z"
   },
   {
    "duration": 986,
    "start_time": "2023-04-27T14:31:41.914Z"
   },
   {
    "duration": 1021,
    "start_time": "2023-04-27T14:31:42.902Z"
   },
   {
    "duration": 978,
    "start_time": "2023-04-27T14:44:32.780Z"
   },
   {
    "duration": 1011,
    "start_time": "2023-04-27T14:44:36.110Z"
   },
   {
    "duration": 1146,
    "start_time": "2023-04-27T14:44:37.124Z"
   },
   {
    "duration": 1056,
    "start_time": "2023-04-27T14:47:48.521Z"
   },
   {
    "duration": 415,
    "start_time": "2023-04-27T14:47:49.578Z"
   },
   {
    "duration": 15,
    "start_time": "2023-04-27T14:47:49.995Z"
   },
   {
    "duration": 81,
    "start_time": "2023-04-27T14:47:50.012Z"
   },
   {
    "duration": 106,
    "start_time": "2023-04-27T14:47:50.097Z"
   },
   {
    "duration": 90,
    "start_time": "2023-04-27T14:47:50.205Z"
   },
   {
    "duration": 106,
    "start_time": "2023-04-27T14:47:50.297Z"
   },
   {
    "duration": 17,
    "start_time": "2023-04-27T14:47:50.405Z"
   },
   {
    "duration": 68,
    "start_time": "2023-04-27T14:47:50.425Z"
   },
   {
    "duration": 5,
    "start_time": "2023-04-27T14:47:50.495Z"
   },
   {
    "duration": 118,
    "start_time": "2023-04-27T14:47:50.502Z"
   },
   {
    "duration": 1036,
    "start_time": "2023-04-27T14:47:50.622Z"
   },
   {
    "duration": 1018,
    "start_time": "2023-04-27T14:47:51.659Z"
   },
   {
    "duration": 1007,
    "start_time": "2023-04-27T14:47:52.680Z"
   },
   {
    "duration": 1098,
    "start_time": "2023-04-27T15:41:03.709Z"
   },
   {
    "duration": 391,
    "start_time": "2023-04-27T15:41:04.811Z"
   },
   {
    "duration": 13,
    "start_time": "2023-04-27T15:41:05.204Z"
   },
   {
    "duration": 73,
    "start_time": "2023-04-27T15:41:05.219Z"
   },
   {
    "duration": 103,
    "start_time": "2023-04-27T15:41:05.296Z"
   },
   {
    "duration": 23,
    "start_time": "2023-04-27T15:41:05.401Z"
   },
   {
    "duration": 168,
    "start_time": "2023-04-27T15:41:05.426Z"
   },
   {
    "duration": 97,
    "start_time": "2023-04-27T15:41:05.596Z"
   },
   {
    "duration": 6,
    "start_time": "2023-04-27T15:41:05.695Z"
   },
   {
    "duration": 93,
    "start_time": "2023-04-27T15:41:05.703Z"
   },
   {
    "duration": 27,
    "start_time": "2023-04-27T15:41:05.797Z"
   },
   {
    "duration": 1042,
    "start_time": "2023-04-27T15:41:05.826Z"
   },
   {
    "duration": 1142,
    "start_time": "2023-04-27T15:41:06.869Z"
   },
   {
    "duration": 1064,
    "start_time": "2023-04-27T15:41:08.014Z"
   },
   {
    "duration": 46,
    "start_time": "2023-04-28T00:00:13.204Z"
   },
   {
    "duration": 1013,
    "start_time": "2023-04-28T00:00:22.797Z"
   },
   {
    "duration": 807,
    "start_time": "2023-04-28T00:00:23.812Z"
   },
   {
    "duration": 113,
    "start_time": "2023-04-28T00:00:24.621Z"
   },
   {
    "duration": 0,
    "start_time": "2023-04-28T00:00:24.736Z"
   },
   {
    "duration": 0,
    "start_time": "2023-04-28T00:00:24.738Z"
   },
   {
    "duration": 0,
    "start_time": "2023-04-28T00:00:24.740Z"
   },
   {
    "duration": 0,
    "start_time": "2023-04-28T00:00:24.741Z"
   },
   {
    "duration": 0,
    "start_time": "2023-04-28T00:00:24.742Z"
   },
   {
    "duration": 0,
    "start_time": "2023-04-28T00:00:24.743Z"
   },
   {
    "duration": 0,
    "start_time": "2023-04-28T00:00:24.744Z"
   },
   {
    "duration": 0,
    "start_time": "2023-04-28T00:00:24.745Z"
   },
   {
    "duration": 0,
    "start_time": "2023-04-28T00:00:24.746Z"
   },
   {
    "duration": 0,
    "start_time": "2023-04-28T00:00:24.747Z"
   },
   {
    "duration": 0,
    "start_time": "2023-04-28T00:00:24.748Z"
   },
   {
    "duration": 0,
    "start_time": "2023-04-28T00:00:24.750Z"
   },
   {
    "duration": 49,
    "start_time": "2023-04-28T00:01:48.317Z"
   },
   {
    "duration": 24503,
    "start_time": "2023-04-28T00:05:39.859Z"
   },
   {
    "duration": 8570,
    "start_time": "2023-04-28T00:08:00.413Z"
   },
   {
    "duration": 73,
    "start_time": "2023-04-28T00:13:10.995Z"
   },
   {
    "duration": 4,
    "start_time": "2023-04-28T00:23:13.615Z"
   },
   {
    "duration": 1012,
    "start_time": "2023-04-28T00:23:21.381Z"
   },
   {
    "duration": 399,
    "start_time": "2023-04-28T00:23:22.395Z"
   },
   {
    "duration": 9425,
    "start_time": "2023-04-28T00:23:22.795Z"
   },
   {
    "duration": 12,
    "start_time": "2023-04-28T00:23:32.222Z"
   },
   {
    "duration": 110,
    "start_time": "2023-04-28T00:23:32.236Z"
   },
   {
    "duration": 99,
    "start_time": "2023-04-28T00:23:32.350Z"
   },
   {
    "duration": 23,
    "start_time": "2023-04-28T00:23:32.451Z"
   },
   {
    "duration": 174,
    "start_time": "2023-04-28T00:23:32.476Z"
   },
   {
    "duration": 32,
    "start_time": "2023-04-28T00:23:32.652Z"
   },
   {
    "duration": 99,
    "start_time": "2023-04-28T00:23:32.736Z"
   },
   {
    "duration": 15,
    "start_time": "2023-04-28T00:23:32.837Z"
   },
   {
    "duration": 10,
    "start_time": "2023-04-28T00:23:32.854Z"
   },
   {
    "duration": 27,
    "start_time": "2023-04-28T00:23:32.865Z"
   },
   {
    "duration": 980,
    "start_time": "2023-04-28T00:23:32.894Z"
   },
   {
    "duration": 1013,
    "start_time": "2023-04-28T00:23:33.875Z"
   },
   {
    "duration": 964,
    "start_time": "2023-04-28T00:23:34.890Z"
   },
   {
    "duration": 29,
    "start_time": "2023-04-28T00:23:57.596Z"
   },
   {
    "duration": 24,
    "start_time": "2023-04-28T00:26:16.926Z"
   },
   {
    "duration": 24,
    "start_time": "2023-04-28T00:26:31.033Z"
   },
   {
    "duration": 386,
    "start_time": "2023-04-28T00:28:31.453Z"
   },
   {
    "duration": 323,
    "start_time": "2023-04-28T00:28:45.527Z"
   },
   {
    "duration": 273,
    "start_time": "2023-04-28T00:28:53.369Z"
   },
   {
    "duration": 272,
    "start_time": "2023-04-28T00:29:13.674Z"
   },
   {
    "duration": 327,
    "start_time": "2023-04-28T00:29:20.707Z"
   },
   {
    "duration": 303,
    "start_time": "2023-04-28T00:30:10.437Z"
   },
   {
    "duration": 1264,
    "start_time": "2023-04-28T16:11:50.255Z"
   },
   {
    "duration": 946,
    "start_time": "2023-04-28T16:11:51.522Z"
   },
   {
    "duration": 122,
    "start_time": "2023-04-28T16:11:52.471Z"
   },
   {
    "duration": 0,
    "start_time": "2023-04-28T16:11:52.595Z"
   },
   {
    "duration": 0,
    "start_time": "2023-04-28T16:11:52.597Z"
   },
   {
    "duration": 0,
    "start_time": "2023-04-28T16:11:52.599Z"
   },
   {
    "duration": 0,
    "start_time": "2023-04-28T16:11:52.600Z"
   },
   {
    "duration": 0,
    "start_time": "2023-04-28T16:11:52.602Z"
   },
   {
    "duration": 0,
    "start_time": "2023-04-28T16:11:52.603Z"
   },
   {
    "duration": 0,
    "start_time": "2023-04-28T16:11:52.604Z"
   },
   {
    "duration": 0,
    "start_time": "2023-04-28T16:11:52.605Z"
   },
   {
    "duration": 0,
    "start_time": "2023-04-28T16:11:52.606Z"
   },
   {
    "duration": 0,
    "start_time": "2023-04-28T16:11:52.608Z"
   },
   {
    "duration": 0,
    "start_time": "2023-04-28T16:11:52.609Z"
   },
   {
    "duration": 0,
    "start_time": "2023-04-28T16:11:52.611Z"
   },
   {
    "duration": 0,
    "start_time": "2023-04-28T16:11:52.611Z"
   },
   {
    "duration": 0,
    "start_time": "2023-04-28T16:11:52.642Z"
   },
   {
    "duration": 30229,
    "start_time": "2023-04-28T16:12:25.800Z"
   },
   {
    "duration": 1243,
    "start_time": "2023-04-28T16:13:20.780Z"
   },
   {
    "duration": 500,
    "start_time": "2023-04-28T16:13:22.026Z"
   },
   {
    "duration": 14705,
    "start_time": "2023-04-28T16:13:22.528Z"
   },
   {
    "duration": 16,
    "start_time": "2023-04-28T16:13:37.235Z"
   },
   {
    "duration": 96,
    "start_time": "2023-04-28T16:13:37.254Z"
   },
   {
    "duration": 195,
    "start_time": "2023-04-28T16:13:37.352Z"
   },
   {
    "duration": 100,
    "start_time": "2023-04-28T16:13:37.549Z"
   },
   {
    "duration": 106,
    "start_time": "2023-04-28T16:13:37.652Z"
   },
   {
    "duration": 83,
    "start_time": "2023-04-28T16:13:37.761Z"
   },
   {
    "duration": 103,
    "start_time": "2023-04-28T16:13:37.847Z"
   },
   {
    "duration": 390,
    "start_time": "2023-04-28T16:13:37.953Z"
   },
   {
    "duration": 6,
    "start_time": "2023-04-28T16:13:38.345Z"
   },
   {
    "duration": 109,
    "start_time": "2023-04-28T16:13:38.353Z"
   },
   {
    "duration": 42,
    "start_time": "2023-04-28T16:13:38.466Z"
   },
   {
    "duration": 1225,
    "start_time": "2023-04-28T16:13:38.510Z"
   },
   {
    "duration": 1155,
    "start_time": "2023-04-28T16:13:39.742Z"
   },
   {
    "duration": 1190,
    "start_time": "2023-04-28T16:13:40.900Z"
   },
   {
    "duration": 5,
    "start_time": "2023-04-28T16:46:15.161Z"
   },
   {
    "duration": 6,
    "start_time": "2023-04-28T16:46:37.137Z"
   },
   {
    "duration": 1160,
    "start_time": "2023-04-28T16:48:13.351Z"
   },
   {
    "duration": 1108,
    "start_time": "2023-04-28T16:48:20.489Z"
   },
   {
    "duration": 1118,
    "start_time": "2023-04-28T16:48:43.359Z"
   },
   {
    "duration": 1143,
    "start_time": "2023-04-28T16:48:58.443Z"
   },
   {
    "duration": 1140,
    "start_time": "2023-04-28T16:49:07.083Z"
   },
   {
    "duration": 1292,
    "start_time": "2023-04-28T16:50:02.709Z"
   },
   {
    "duration": 498,
    "start_time": "2023-04-28T16:50:04.003Z"
   },
   {
    "duration": 14394,
    "start_time": "2023-04-28T16:50:04.503Z"
   },
   {
    "duration": 17,
    "start_time": "2023-04-28T16:50:18.899Z"
   },
   {
    "duration": 129,
    "start_time": "2023-04-28T16:50:18.919Z"
   },
   {
    "duration": 191,
    "start_time": "2023-04-28T16:50:19.051Z"
   },
   {
    "duration": 23,
    "start_time": "2023-04-28T16:50:19.245Z"
   },
   {
    "duration": 171,
    "start_time": "2023-04-28T16:50:19.271Z"
   },
   {
    "duration": 25,
    "start_time": "2023-04-28T16:50:19.445Z"
   },
   {
    "duration": 73,
    "start_time": "2023-04-28T16:50:19.473Z"
   },
   {
    "duration": 499,
    "start_time": "2023-04-28T16:50:19.549Z"
   },
   {
    "duration": 91,
    "start_time": "2023-04-28T16:50:20.051Z"
   },
   {
    "duration": 9,
    "start_time": "2023-04-28T16:50:20.144Z"
   },
   {
    "duration": 24,
    "start_time": "2023-04-28T16:50:20.243Z"
   },
   {
    "duration": 1231,
    "start_time": "2023-04-28T16:50:20.269Z"
   },
   {
    "duration": 6,
    "start_time": "2023-04-28T16:50:21.503Z"
   },
   {
    "duration": 1397,
    "start_time": "2023-04-28T16:50:21.512Z"
   },
   {
    "duration": 0,
    "start_time": "2023-04-28T16:50:22.912Z"
   },
   {
    "duration": 0,
    "start_time": "2023-04-28T16:50:22.914Z"
   },
   {
    "duration": 1264,
    "start_time": "2023-04-28T16:50:49.134Z"
   },
   {
    "duration": 482,
    "start_time": "2023-04-28T16:50:50.400Z"
   },
   {
    "duration": 14265,
    "start_time": "2023-04-28T16:50:50.884Z"
   },
   {
    "duration": 21,
    "start_time": "2023-04-28T16:51:05.152Z"
   },
   {
    "duration": 165,
    "start_time": "2023-04-28T16:51:05.177Z"
   },
   {
    "duration": 108,
    "start_time": "2023-04-28T16:51:05.344Z"
   },
   {
    "duration": 36,
    "start_time": "2023-04-28T16:51:05.454Z"
   },
   {
    "duration": 106,
    "start_time": "2023-04-28T16:51:05.543Z"
   },
   {
    "duration": 39,
    "start_time": "2023-04-28T16:51:05.652Z"
   },
   {
    "duration": 188,
    "start_time": "2023-04-28T16:51:05.693Z"
   },
   {
    "duration": 359,
    "start_time": "2023-04-28T16:51:05.884Z"
   },
   {
    "duration": 6,
    "start_time": "2023-04-28T16:51:06.246Z"
   },
   {
    "duration": 47,
    "start_time": "2023-04-28T16:51:06.342Z"
   },
   {
    "duration": 60,
    "start_time": "2023-04-28T16:51:06.392Z"
   },
   {
    "duration": 1201,
    "start_time": "2023-04-28T16:51:06.454Z"
   },
   {
    "duration": 5,
    "start_time": "2023-04-28T16:51:07.658Z"
   },
   {
    "duration": 1152,
    "start_time": "2023-04-28T16:51:07.665Z"
   },
   {
    "duration": 1137,
    "start_time": "2023-04-28T16:51:08.819Z"
   },
   {
    "duration": 1185,
    "start_time": "2023-04-28T16:51:09.958Z"
   },
   {
    "duration": 1221,
    "start_time": "2023-04-28T16:52:15.328Z"
   },
   {
    "duration": 517,
    "start_time": "2023-04-28T16:52:16.552Z"
   },
   {
    "duration": 14174,
    "start_time": "2023-04-28T16:52:17.071Z"
   },
   {
    "duration": 17,
    "start_time": "2023-04-28T16:52:31.248Z"
   },
   {
    "duration": 79,
    "start_time": "2023-04-28T16:52:31.268Z"
   },
   {
    "duration": 215,
    "start_time": "2023-04-28T16:52:31.349Z"
   },
   {
    "duration": 25,
    "start_time": "2023-04-28T16:52:31.567Z"
   },
   {
    "duration": 155,
    "start_time": "2023-04-28T16:52:31.594Z"
   },
   {
    "duration": 29,
    "start_time": "2023-04-28T16:52:31.751Z"
   },
   {
    "duration": 162,
    "start_time": "2023-04-28T16:52:31.781Z"
   },
   {
    "duration": 401,
    "start_time": "2023-04-28T16:52:31.945Z"
   },
   {
    "duration": 94,
    "start_time": "2023-04-28T16:52:32.349Z"
   },
   {
    "duration": 96,
    "start_time": "2023-04-28T16:52:32.446Z"
   },
   {
    "duration": 36,
    "start_time": "2023-04-28T16:52:32.545Z"
   },
   {
    "duration": 1160,
    "start_time": "2023-04-28T16:52:32.583Z"
   },
   {
    "duration": 5,
    "start_time": "2023-04-28T16:52:33.746Z"
   },
   {
    "duration": 1138,
    "start_time": "2023-04-28T16:52:33.753Z"
   },
   {
    "duration": 1177,
    "start_time": "2023-04-28T16:52:34.894Z"
   },
   {
    "duration": 1240,
    "start_time": "2023-04-28T16:52:36.073Z"
   },
   {
    "duration": 1157,
    "start_time": "2023-04-28T16:52:43.258Z"
   },
   {
    "duration": 3371,
    "start_time": "2023-04-28T16:56:01.860Z"
   },
   {
    "duration": 1181,
    "start_time": "2023-04-28T16:56:38.683Z"
   },
   {
    "duration": 493,
    "start_time": "2023-04-28T16:56:39.866Z"
   },
   {
    "duration": 14007,
    "start_time": "2023-04-28T16:56:40.361Z"
   },
   {
    "duration": 14,
    "start_time": "2023-04-28T16:56:54.371Z"
   },
   {
    "duration": 160,
    "start_time": "2023-04-28T16:56:54.388Z"
   },
   {
    "duration": 100,
    "start_time": "2023-04-28T16:56:54.550Z"
   },
   {
    "duration": 89,
    "start_time": "2023-04-28T16:56:54.653Z"
   },
   {
    "duration": 113,
    "start_time": "2023-04-28T16:56:54.744Z"
   },
   {
    "duration": 19,
    "start_time": "2023-04-28T16:56:54.859Z"
   },
   {
    "duration": 66,
    "start_time": "2023-04-28T16:56:54.880Z"
   },
   {
    "duration": 498,
    "start_time": "2023-04-28T16:56:54.948Z"
   },
   {
    "duration": 95,
    "start_time": "2023-04-28T16:56:55.449Z"
   },
   {
    "duration": 103,
    "start_time": "2023-04-28T16:56:55.546Z"
   },
   {
    "duration": 43,
    "start_time": "2023-04-28T16:56:55.652Z"
   },
   {
    "duration": 1267,
    "start_time": "2023-04-28T16:56:55.697Z"
   },
   {
    "duration": 5,
    "start_time": "2023-04-28T16:56:56.966Z"
   },
   {
    "duration": 3371,
    "start_time": "2023-04-28T16:56:56.974Z"
   },
   {
    "duration": 1228,
    "start_time": "2023-04-28T16:57:00.347Z"
   },
   {
    "duration": 1151,
    "start_time": "2023-04-28T16:57:01.577Z"
   },
   {
    "duration": 1182,
    "start_time": "2023-04-28T16:58:43.278Z"
   },
   {
    "duration": 494,
    "start_time": "2023-04-28T16:58:44.462Z"
   },
   {
    "duration": 14470,
    "start_time": "2023-04-28T16:58:44.959Z"
   },
   {
    "duration": 17,
    "start_time": "2023-04-28T16:58:59.431Z"
   },
   {
    "duration": 191,
    "start_time": "2023-04-28T16:58:59.451Z"
   },
   {
    "duration": 21,
    "start_time": "2023-04-28T16:58:59.645Z"
   },
   {
    "duration": 94,
    "start_time": "2023-04-28T16:58:59.668Z"
   },
   {
    "duration": 114,
    "start_time": "2023-04-28T16:58:59.844Z"
   },
   {
    "duration": 20,
    "start_time": "2023-04-28T16:58:59.961Z"
   },
   {
    "duration": 119,
    "start_time": "2023-04-28T16:59:00.041Z"
   },
   {
    "duration": 389,
    "start_time": "2023-04-28T16:59:00.162Z"
   },
   {
    "duration": 88,
    "start_time": "2023-04-28T16:59:00.553Z"
   },
   {
    "duration": 114,
    "start_time": "2023-04-28T16:59:00.645Z"
   },
   {
    "duration": 101,
    "start_time": "2023-04-28T16:59:00.763Z"
   },
   {
    "duration": 58,
    "start_time": "2023-04-28T16:59:00.866Z"
   },
   {
    "duration": 3418,
    "start_time": "2023-04-28T16:59:00.927Z"
   },
   {
    "duration": 1142,
    "start_time": "2023-04-28T16:59:04.347Z"
   },
   {
    "duration": 6,
    "start_time": "2023-04-28T16:59:05.491Z"
   },
   {
    "duration": 3564,
    "start_time": "2023-04-28T16:59:05.499Z"
   },
   {
    "duration": 1167,
    "start_time": "2023-04-28T16:59:09.065Z"
   },
   {
    "duration": 1119,
    "start_time": "2023-04-28T16:59:10.234Z"
   },
   {
    "duration": 1225,
    "start_time": "2023-04-28T17:01:17.512Z"
   },
   {
    "duration": 510,
    "start_time": "2023-04-28T17:01:18.740Z"
   },
   {
    "duration": 14849,
    "start_time": "2023-04-28T17:01:19.252Z"
   },
   {
    "duration": 43,
    "start_time": "2023-04-28T17:01:34.104Z"
   },
   {
    "duration": 94,
    "start_time": "2023-04-28T17:01:34.151Z"
   },
   {
    "duration": 198,
    "start_time": "2023-04-28T17:01:34.247Z"
   },
   {
    "duration": 20,
    "start_time": "2023-04-28T17:01:34.447Z"
   },
   {
    "duration": 117,
    "start_time": "2023-04-28T17:01:34.541Z"
   },
   {
    "duration": 21,
    "start_time": "2023-04-28T17:01:34.660Z"
   },
   {
    "duration": 97,
    "start_time": "2023-04-28T17:01:34.744Z"
   },
   {
    "duration": 399,
    "start_time": "2023-04-28T17:01:34.844Z"
   },
   {
    "duration": 93,
    "start_time": "2023-04-28T17:01:35.250Z"
   },
   {
    "duration": 12,
    "start_time": "2023-04-28T17:01:35.345Z"
   },
   {
    "duration": 33,
    "start_time": "2023-04-28T17:01:35.359Z"
   },
   {
    "duration": 1318,
    "start_time": "2023-04-28T17:01:35.395Z"
   },
   {
    "duration": 8,
    "start_time": "2023-04-28T17:01:36.716Z"
   },
   {
    "duration": 3465,
    "start_time": "2023-04-28T17:01:36.727Z"
   },
   {
    "duration": 1155,
    "start_time": "2023-04-28T17:01:40.194Z"
   },
   {
    "duration": 1173,
    "start_time": "2023-04-28T17:01:41.351Z"
   },
   {
    "duration": 52,
    "start_time": "2023-04-28T17:09:39.185Z"
   },
   {
    "duration": 3581,
    "start_time": "2023-04-28T17:11:04.970Z"
   },
   {
    "duration": 1254,
    "start_time": "2023-04-28T17:13:12.866Z"
   },
   {
    "duration": 496,
    "start_time": "2023-04-28T17:13:14.122Z"
   },
   {
    "duration": 14564,
    "start_time": "2023-04-28T17:13:14.620Z"
   },
   {
    "duration": 20,
    "start_time": "2023-04-28T17:13:29.187Z"
   },
   {
    "duration": 235,
    "start_time": "2023-04-28T17:13:29.212Z"
   },
   {
    "duration": 101,
    "start_time": "2023-04-28T17:13:29.449Z"
   },
   {
    "duration": 94,
    "start_time": "2023-04-28T17:13:29.553Z"
   },
   {
    "duration": 106,
    "start_time": "2023-04-28T17:13:29.649Z"
   },
   {
    "duration": 114,
    "start_time": "2023-04-28T17:13:29.756Z"
   },
   {
    "duration": 5,
    "start_time": "2023-04-28T17:13:29.943Z"
   },
   {
    "duration": 508,
    "start_time": "2023-04-28T17:13:29.952Z"
   },
   {
    "duration": 83,
    "start_time": "2023-04-28T17:13:30.464Z"
   },
   {
    "duration": 157,
    "start_time": "2023-04-28T17:13:30.553Z"
   },
   {
    "duration": 134,
    "start_time": "2023-04-28T17:13:30.714Z"
   },
   {
    "duration": 1252,
    "start_time": "2023-04-28T17:13:30.850Z"
   },
   {
    "duration": 5,
    "start_time": "2023-04-28T17:13:32.104Z"
   },
   {
    "duration": 3443,
    "start_time": "2023-04-28T17:13:32.112Z"
   },
   {
    "duration": 1292,
    "start_time": "2023-04-28T17:13:35.557Z"
   },
   {
    "duration": 1204,
    "start_time": "2023-04-28T17:13:36.851Z"
   }
  ],
  "kernelspec": {
   "display_name": "Python 3 (ipykernel)",
   "language": "python",
   "name": "python3"
  },
  "language_info": {
   "codemirror_mode": {
    "name": "ipython",
    "version": 3
   },
   "file_extension": ".py",
   "mimetype": "text/x-python",
   "name": "python",
   "nbconvert_exporter": "python",
   "pygments_lexer": "ipython3",
   "version": "3.10.9"
  },
  "toc": {
   "base_numbering": 1,
   "nav_menu": {},
   "number_sections": true,
   "sideBar": true,
   "skip_h1_title": true,
   "title_cell": "Table of Contents",
   "title_sidebar": "Contents",
   "toc_cell": false,
   "toc_position": {},
   "toc_section_display": true,
   "toc_window_display": false
  }
 },
 "nbformat": 4,
 "nbformat_minor": 4
}
