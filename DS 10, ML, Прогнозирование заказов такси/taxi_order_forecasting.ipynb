{
 "cells": [
  {
   "cell_type": "markdown",
   "metadata": {},
   "source": [
    "#  Прогнозирование заказов такси"
   ]
  },
  {
   "cell_type": "markdown",
   "metadata": {},
   "source": [
    "Компания «Чётенькое такси» собрала исторические данные о заказах такси в аэропортах. Чтобы привлекать больше водителей в период пиковой нагрузки, нужно спрогнозировать количество заказов такси на следующий час. Построим модель для такого предсказания.\n",
    "\n",
    "Значение метрики *RMSE* на тестовой выборке должно быть не больше 48.\n",
    "\n",
    "Нам нужно:\n",
    "\n",
    "1. Загрузить данные и выполнить их ресемплирование по одному часу.\n",
    "2. Проанализировать данные.\n",
    "3. Обучить разные модели с различными гиперпараметрами. Сделать тестовую выборку размером 10% от исходных данных.\n",
    "4. Проверить данные на тестовой выборке и сделать выводы.\n",
    "\n",
    "\n",
    "Данные лежат в файле `taxi.csv`. Количество заказов находится в столбце `num_orders` (от англ. *number of orders*, «число заказов»)."
   ]
  },
  {
   "cell_type": "markdown",
   "metadata": {},
   "source": [
    "## Подготовка"
   ]
  },
  {
   "cell_type": "code",
   "execution_count": 1,
   "metadata": {},
   "outputs": [],
   "source": [
    "import pandas as pd\n",
    "import numpy as np\n",
    "from statsmodels.tsa.seasonal import seasonal_decompose\n",
    "import matplotlib.pyplot as plt\n",
    "from sklearn.model_selection import train_test_split\n",
    "from sklearn.metrics import mean_squared_error\n",
    "from sklearn.linear_model import LinearRegression\n",
    "from sklearn.ensemble import RandomForestRegressor\n",
    "from catboost import CatBoostRegressor\n",
    "from sklearn.dummy import DummyRegressor\n",
    "plt.rcParams[\"figure.figsize\"] = (16,4)\n",
    "from sklearn.model_selection import TimeSeriesSplit\n",
    "from sklearn.metrics import make_scorer\n",
    "from sklearn.model_selection import GridSearchCV\n",
    "from statsmodels.tsa.stattools import adfuller"
   ]
  },
  {
   "cell_type": "code",
   "execution_count": 2,
   "metadata": {},
   "outputs": [],
   "source": [
    "df = pd.read_csv('taxi.csv',index_col=[0],parse_dates=[0])"
   ]
  },
  {
   "cell_type": "markdown",
   "metadata": {},
   "source": [
    "Мы будем решать задачу машинного обучения с учителем. Целевой признак \"num_orders\"."
   ]
  },
  {
   "cell_type": "code",
   "execution_count": 3,
   "metadata": {},
   "outputs": [
    {
     "data": {
      "text/plain": [
       "num_orders    0\n",
       "dtype: int64"
      ]
     },
     "execution_count": 3,
     "metadata": {},
     "output_type": "execute_result"
    }
   ],
   "source": [
    "df.isna().sum() # пропусков нет. преобразуем значения даты в индекс чтобы получить временные ряды"
   ]
  },
  {
   "cell_type": "code",
   "execution_count": 4,
   "metadata": {},
   "outputs": [
    {
     "data": {
      "text/plain": [
       "True"
      ]
     },
     "execution_count": 4,
     "metadata": {},
     "output_type": "execute_result"
    }
   ],
   "source": [
    "df.index.is_monotonic #индексы в хронологическом порядке"
   ]
  },
  {
   "cell_type": "code",
   "execution_count": 5,
   "metadata": {},
   "outputs": [
    {
     "data": {
      "text/html": [
       "<div>\n",
       "<style scoped>\n",
       "    .dataframe tbody tr th:only-of-type {\n",
       "        vertical-align: middle;\n",
       "    }\n",
       "\n",
       "    .dataframe tbody tr th {\n",
       "        vertical-align: top;\n",
       "    }\n",
       "\n",
       "    .dataframe thead th {\n",
       "        text-align: right;\n",
       "    }\n",
       "</style>\n",
       "<table border=\"1\" class=\"dataframe\">\n",
       "  <thead>\n",
       "    <tr style=\"text-align: right;\">\n",
       "      <th></th>\n",
       "      <th>num_orders</th>\n",
       "    </tr>\n",
       "    <tr>\n",
       "      <th>datetime</th>\n",
       "      <th></th>\n",
       "    </tr>\n",
       "  </thead>\n",
       "  <tbody>\n",
       "    <tr>\n",
       "      <th>2018-03-01 00:00:00</th>\n",
       "      <td>124</td>\n",
       "    </tr>\n",
       "    <tr>\n",
       "      <th>2018-03-01 01:00:00</th>\n",
       "      <td>85</td>\n",
       "    </tr>\n",
       "    <tr>\n",
       "      <th>2018-03-01 02:00:00</th>\n",
       "      <td>71</td>\n",
       "    </tr>\n",
       "    <tr>\n",
       "      <th>2018-03-01 03:00:00</th>\n",
       "      <td>66</td>\n",
       "    </tr>\n",
       "    <tr>\n",
       "      <th>2018-03-01 04:00:00</th>\n",
       "      <td>43</td>\n",
       "    </tr>\n",
       "  </tbody>\n",
       "</table>\n",
       "</div>"
      ],
      "text/plain": [
       "                     num_orders\n",
       "datetime                       \n",
       "2018-03-01 00:00:00         124\n",
       "2018-03-01 01:00:00          85\n",
       "2018-03-01 02:00:00          71\n",
       "2018-03-01 03:00:00          66\n",
       "2018-03-01 04:00:00          43"
      ]
     },
     "execution_count": 5,
     "metadata": {},
     "output_type": "execute_result"
    }
   ],
   "source": [
    "df = df.resample('1H').sum() #мы суммируем потому что для цели исследования важно количество заказов\n",
    "df.head(5)"
   ]
  },
  {
   "cell_type": "markdown",
   "metadata": {},
   "source": [
    "Предобработка закончена, приступим к анализу"
   ]
  },
  {
   "cell_type": "markdown",
   "metadata": {},
   "source": [
    "## Анализ"
   ]
  },
  {
   "cell_type": "markdown",
   "metadata": {},
   "source": [
    "Построим график"
   ]
  },
  {
   "cell_type": "code",
   "execution_count": 6,
   "metadata": {
    "scrolled": true
   },
   "outputs": [
    {
     "data": {
      "text/plain": [
       "<Figure size 1152x576 with 0 Axes>"
      ]
     },
     "metadata": {},
     "output_type": "display_data"
    },
    {
     "data": {
      "image/png": "[encoded data removed]",
      "text/plain": [
       "<Figure size 1152x288 with 1 Axes>"
      ]
     },
     "metadata": {
      "needs_background": "light"
     },
     "output_type": "display_data"
    }
   ],
   "source": [
    "plt.figure(figsize=(16, 8))\n",
    "df.plot(title='График суммарного количества заказов такси за каждый час наблюдения', xlabel='Каждый час наблюдения', ylabel='Количество заказов')\n",
    "plt.show()"
   ]
  },
  {
   "cell_type": "markdown",
   "metadata": {},
   "source": [
    "На графике мы видим распределние с марта по август 2018 года. В среднем количество заказов растет\n",
    "\n",
    "Попробуем увидеть еще какие нибудь тенденции"
   ]
  },
  {
   "cell_type": "code",
   "execution_count": 7,
   "metadata": {},
   "outputs": [],
   "source": [
    "decomposed = seasonal_decompose(df) "
   ]
  },
  {
   "cell_type": "code",
   "execution_count": 8,
   "metadata": {},
   "outputs": [
    {
     "data": {
      "image/png": "[encoded data removed]",
      "text/plain": [
       "<Figure size 1152x576 with 3 Axes>"
      ]
     },
     "metadata": {
      "needs_background": "light"
     },
     "output_type": "display_data"
    }
   ],
   "source": [
    "plt.figure(figsize=(16, 8))\n",
    "plt.subplot(311)\n",
    "\n",
    "decomposed.trend.plot(ax=plt.gca(), xlabel='Каждый час наблюдения', ylabel='Количество заказов')\n",
    "plt.title('Тренд')\n",
    "plt.subplot(312)\n",
    "\n",
    "decomposed.seasonal.plot(ax=plt.gca(), xlabel='Каждый час наблюдения', ylabel='Отклонение заказов')\n",
    "plt.title('Сезонность')\n",
    "plt.subplot(313)\n",
    "\n",
    "decomposed.resid.plot(ax=plt.gca(), xlabel='Каждый час наблюдения', ylabel='Отклонение заказов')\n",
    "plt.title('Остаток декомпозиции')\n",
    "plt.tight_layout()"
   ]
  },
  {
   "cell_type": "markdown",
   "metadata": {},
   "source": [
    "Мы видим отчетливо возрастающий тренд. Сезонность с периодом меньше месяца не является информативно для нас. Остатки не дают информации"
   ]
  },
  {
   "cell_type": "code",
   "execution_count": 9,
   "metadata": {},
   "outputs": [
    {
     "data": {
      "text/plain": [
       "<Figure size 1152x576 with 0 Axes>"
      ]
     },
     "metadata": {},
     "output_type": "display_data"
    },
    {
     "data": {
      "image/png": "[encoded data removed]",
      "text/plain": [
       "<Figure size 1152x288 with 1 Axes>"
      ]
     },
     "metadata": {
      "needs_background": "light"
     },
     "output_type": "display_data"
    }
   ],
   "source": [
    "data = df.copy()\n",
    "data = data - data.shift()\n",
    "plt.figure(figsize=(16, 8))\n",
    "data['mean'] = data['num_orders'].rolling(50,closed='left').mean()\n",
    "data['std'] = data['num_orders'].rolling(50,closed='left').std()\n",
    "data.plot(title='График стандартного отклонения по скользящему окну', xlabel='Каждый час наблюдения', ylabel='Отклонение заказов')\n",
    "plt.show()"
   ]
  },
  {
   "cell_type": "markdown",
   "metadata": {},
   "source": [
    "На графике видим скользящее среднее и скользящее стандартное отклонение. Ряд выглядит стационарным. Приступим к прогнозированию"
   ]
  },
  {
   "cell_type": "code",
   "execution_count": 10,
   "metadata": {
    "scrolled": true
   },
   "outputs": [
    {
     "data": {
      "image/png": "[encoded data removed]",
      "text/plain": [
       "<Figure size 1152x288 with 1 Axes>"
      ]
     },
     "metadata": {
      "needs_background": "light"
     },
     "output_type": "display_data"
    }
   ],
   "source": [
    "df['rolling_mean'] = df.shift().rolling(50).mean()\n",
    "df.plot(xlabel='Каждый час наблюдения', ylabel='Количество заказов')\n",
    "plt.title('График сравнения кривой заказов и кривой скользящей средней')\n",
    "plt.show()"
   ]
  },
  {
   "cell_type": "markdown",
   "metadata": {},
   "source": [
    "Скользящаяя средняя выглядит более стационарно чем график заказов, но она имеет так же растущий тренд поэтому по графику визуально сложно понять можно ли признать среднюю скользящую стационарной."
   ]
  },
  {
   "cell_type": "code",
   "execution_count": 11,
   "metadata": {},
   "outputs": [],
   "source": [
    "df = df.drop(['rolling_mean'],axis=1)"
   ]
  },
  {
   "cell_type": "code",
   "execution_count": 14,
   "metadata": {},
   "outputs": [
    {
     "data": {
      "image/png": "[encoded data removed]",
      "text/plain": [
       "<Figure size 1152x288 with 1 Axes>"
      ]
     },
     "metadata": {
      "needs_background": "light"
     },
     "output_type": "display_data"
    }
   ],
   "source": [
    "decomposed.seasonal['2018-04-01':'2018-04-05'].plot(ax=plt.gca(),xlabel='Дни',ylabel='Отклонение в заказах') # выберем произвольные 5 дней\n",
    "plt.title('Сезонность')\n",
    "plt.show()"
   ]
  },
  {
   "cell_type": "markdown",
   "metadata": {},
   "source": [
    "На масштабе 5 дней мы видим циклично повторяющуюся закономерности во временном ряду. Мы видим пиковую нагрузку в 24 часа и минимальную в 6 утра. 4-8 часов утра наблюдается минимальное количество заказов, 22-24 часа максимальная наргузка с самым большим количеством заказов в интервале.\n",
    "\n",
    "Данная сезонность носит часовой характер (повторения в определенные часы)\n",
    "\n",
    "Пиковое время связано с загруженностью в аэропорте\n",
    "\n",
    "С помощью теста Дики-Фуллера оценим наш временной ряд на стационарность. \n",
    "Нулевая гипотеза - временной ряд стационарен. Альтернативная гипотеза - ряд не стационарен.\n",
    "Сначала оценим стационарность с уровнем значимости в 5%:"
   ]
  },
  {
   "cell_type": "code",
   "execution_count": 16,
   "metadata": {},
   "outputs": [
    {
     "name": "stdout",
     "output_type": "stream",
     "text": [
      "Критерий ADF: -3.068924\n",
      "P-значение: 0.028940\n",
      "Критические значения:\n",
      "\t1%: -3.432\n",
      "\t5%: -2.862\n",
      "\t10%: -2.567\n",
      "Нулевая гипотеза не отвергнута – Временной ряд стационарен\n"
     ]
    }
   ],
   "source": [
    "result = adfuller(df,autolag ='AIC')\n",
    "\n",
    "print('Критерий ADF: %f' % result[0])\n",
    "\n",
    "print('P-значение: %f' % result[1])\n",
    "\n",
    "print('Критические значения:')\n",
    "\n",
    "for key, value in result[4].items():\n",
    "    print('\\t%s: %.3f' % (key, value))\n",
    "if result[0] > result[4][\"5%\"]:\n",
    "    print (\"Нулевая гипотеза отвергнута – Временной ряд не стационарен\")\n",
    "else:\n",
    "    print (\"Нулевая гипотеза не отвергнута – Временной ряд стационарен\")"
   ]
  },
  {
   "cell_type": "markdown",
   "metadata": {},
   "source": [
    "Для уровня значимости в 5% нулевая гипотеза не отвергнута – Временной ряд стационарен.\n",
    "\n",
    "Оценим стационарность с уровнем значимости в 1%:"
   ]
  },
  {
   "cell_type": "code",
   "execution_count": 17,
   "metadata": {
    "scrolled": true
   },
   "outputs": [
    {
     "name": "stdout",
     "output_type": "stream",
     "text": [
      "Критерий ADF: -3.068924\n",
      "P-значение: 0.028940\n",
      "Критические значения:\n",
      "\t1%: -3.432\n",
      "\t5%: -2.862\n",
      "\t10%: -2.567\n",
      "Нулевая гипотеза отвергнута – Временной ряд не стационарен\n"
     ]
    }
   ],
   "source": [
    "result = adfuller(df,autolag ='AIC')\n",
    "\n",
    "print('Критерий ADF: %f' % result[0])\n",
    "\n",
    "print('P-значение: %f' % result[1])\n",
    "\n",
    "print('Критические значения:')\n",
    "\n",
    "for key, value in result[4].items():\n",
    "    print('\\t%s: %.3f' % (key, value))\n",
    "if result[0] > result[4][\"1%\"]:\n",
    "    print (\"Нулевая гипотеза отвергнута – Временной ряд не стационарен\")\n",
    "else:\n",
    "    print (\"Нулевая гипотеза не отвергнута – Временной ряд стационарен\")"
   ]
  },
  {
   "cell_type": "markdown",
   "metadata": {},
   "source": [
    "Для уровня значимости в 1% нулевая гипотеза отвергнута – временной ряд не стационарен."
   ]
  },
  {
   "cell_type": "markdown",
   "metadata": {},
   "source": [
    "### Промежуточный вывод:\n",
    "\n",
    "Мы построили график для того чтобы визуально оценить распределние количества заказов такси.\n",
    "В целом мы увидели тенденцию к увеличению заказов.\n",
    "\n",
    "Для того чтобы увдиеть тренды и сезонности мы применили функцию декомпозиции. По графику трендов мы увмдели растущий тренд к увеличению числа заказов в среднем.\n",
    "\n",
    "На масштабе 5 дней мы увидели циклично повторяющуюся закономерности во временном ряду. Мы видим пиковую нагрузку в 24 часа и минимальную в 6 утра. 4-8 часов утра наблюдается минимальное количество заказов, 22-24 часа максимальная наргузка с самым большим количеством заказов в интервале.\n",
    "\n",
    "Затем мы построили график с рядом разниц. На графике увидели скользящее среднее и скользящее стандартное отклонение. Ряд выглядит стационарным визуально.\n",
    "\n",
    "Для того чтобы более точно оценить в численном виде стационарность ряда мы провели теста Дики-Фуллера. Мы получили p-value равное 2,8% , таким образом в зависимости от заданной нами мере чувстительности alpha в 1% или 5% мы можем назвать ряд как стационарным так и не стационарным. \n",
    "\n",
    "Продолжим дальше работу, предполагая, что мера точности в пределах 5% нас устраивает и признаем ряд стационарным."
   ]
  },
  {
   "cell_type": "markdown",
   "metadata": {},
   "source": [
    "## Обучение"
   ]
  },
  {
   "cell_type": "markdown",
   "metadata": {},
   "source": [
    "Выделим признаки. Год нам не нужен так как это одинаковый признак для всех. Построим функцию для вычисления построения остающих значений, календарных признаков, а так же скользящего среднего."
   ]
  },
  {
   "cell_type": "code",
   "execution_count": 18,
   "metadata": {},
   "outputs": [],
   "source": [
    "def make_features(df, max_lag, rolling_mean_size):\n",
    "    df['day'] = df.index.day\n",
    "    df['dayofweek'] = df.index.dayofweek\n",
    "    \n",
    "    for lag in range(1, max_lag + 1):\n",
    "        df['lag_{}'.format(lag)] = df['num_orders'].shift(lag)\n",
    "\n",
    "    df['rolling_mean'] = df['num_orders'].shift().rolling(rolling_mean_size).mean()\n",
    "    return\n",
    "\n",
    "make_features(df, 20, 20)"
   ]
  },
  {
   "cell_type": "code",
   "execution_count": 19,
   "metadata": {},
   "outputs": [],
   "source": [
    "df = df.dropna() #значения Nan будут мешать созданию моделей"
   ]
  },
  {
   "cell_type": "code",
   "execution_count": 20,
   "metadata": {},
   "outputs": [],
   "source": [
    "train, test = train_test_split(df, shuffle=False, test_size=0.1) # создаем тестовую и тренировочную выборки не перемешивая, тест 10%"
   ]
  },
  {
   "cell_type": "code",
   "execution_count": 21,
   "metadata": {},
   "outputs": [],
   "source": [
    "target_train = train['num_orders']\n",
    "features_train = train.drop(['num_orders'],axis=1)\n",
    "target_test = test['num_orders']\n",
    "features_test = test.drop(['num_orders'],axis=1)"
   ]
  },
  {
   "cell_type": "markdown",
   "metadata": {},
   "source": [
    "### Обучим модель линейной регрессии"
   ]
  },
  {
   "cell_type": "code",
   "execution_count": 22,
   "metadata": {},
   "outputs": [],
   "source": [
    "tss = TimeSeriesSplit(n_splits=3)"
   ]
  },
  {
   "cell_type": "code",
   "execution_count": 24,
   "metadata": {},
   "outputs": [
    {
     "name": "stdout",
     "output_type": "stream",
     "text": [
      "Результат rmse:  33.913844251206235\n"
     ]
    }
   ],
   "source": [
    "model_LinearReg = LinearRegression()\n",
    "\n",
    "grid_space={}\n",
    "\n",
    "grid = GridSearchCV(model_LinearReg, scoring='neg_root_mean_squared_error', param_grid=grid_space , cv=tss)\n",
    "\n",
    "grid.fit(features_train, target_train)\n",
    "\n",
    "print('Результат rmse: ', abs(grid.best_score_))"
   ]
  },
  {
   "cell_type": "markdown",
   "metadata": {},
   "source": [
    "Среднеквадратическая ошибка для линейной модели на кросс-валидации показывает RMSE 33.9"
   ]
  },
  {
   "cell_type": "markdown",
   "metadata": {},
   "source": [
    "### Обучим модель случайного леса"
   ]
  },
  {
   "cell_type": "code",
   "execution_count": 25,
   "metadata": {},
   "outputs": [],
   "source": [
    "model_forestregressor = RandomForestRegressor(random_state=12345)\n",
    "\n",
    "grid_space={'max_depth':[x for x in range(2,5,1)], \n",
    "'n_estimators':[x for x in range(10,31,5)]\n",
    "}\n",
    "\n",
    "mse_scorer = make_scorer(mean_squared_error, greater_is_better=False)"
   ]
  },
  {
   "cell_type": "code",
   "execution_count": 26,
   "metadata": {
    "scrolled": true
   },
   "outputs": [
    {
     "name": "stdout",
     "output_type": "stream",
     "text": [
      "Лучшие гиперпараметры:  {'max_depth': 4, 'n_estimators': 25}\n",
      "Лучший результат rmse:  35.31107632287211\n"
     ]
    }
   ],
   "source": [
    "grid = GridSearchCV(model_forestregressor, scoring=mse_scorer, param_grid=grid_space , cv=tss, n_jobs=-1)\n",
    "\n",
    "grid.fit(features_train, target_train)\n",
    "\n",
    "print('Лучшие гиперпараметры: ', grid.best_params_)\n",
    "print('Лучший результат rmse: ', abs(grid.best_score_)**0.5)"
   ]
  },
  {
   "cell_type": "markdown",
   "metadata": {},
   "source": [
    "Среднеквадратическая ошибка для случайного леса на кросс-валидации показывает RMSE 35.3"
   ]
  },
  {
   "cell_type": "markdown",
   "metadata": {},
   "source": [
    "### Обучим CatBoostRegressor "
   ]
  },
  {
   "cell_type": "code",
   "execution_count": 27,
   "metadata": {},
   "outputs": [
    {
     "name": "stdout",
     "output_type": "stream",
     "text": [
      "Результат rmse:  31.13673800474849\n"
     ]
    }
   ],
   "source": [
    "model = CatBoostRegressor(verbose=0)\n",
    "\n",
    "grid_space={'depth'         : [2,3,4,5],\n",
    "            'iterations'    : [30, 50, 100]\n",
    "}\n",
    "\n",
    "grid = GridSearchCV(model, scoring='neg_root_mean_squared_error', param_grid=grid_space , cv=tss)\n",
    "\n",
    "grid.fit(features_train, target_train)\n",
    "\n",
    "print('Результат rmse: ', abs(grid.best_score_))"
   ]
  },
  {
   "cell_type": "markdown",
   "metadata": {},
   "source": [
    "Среднеквадратическая ошибка для CatBoostRegressor на тренировочной выборке показывает RMSE 31.1\n",
    "\n",
    "Промежуточный вывод. Из распределния времени мы выделили необходимые для создания модели признаки. Построили функцию для вычисления построения остающих значений, календарных признаков, а так же скользящего среднего.\n",
    "Далее мы построили три модели для прогнозирования.\n",
    "\n",
    " - Линейнай регрессия показала RMSE 33.9\n",
    " - Случайный лес показал результат RMSE 35.3\n",
    " - CatBoostRegressor показал результат RMSE 31.1\n",
    "\n",
    "По итогу лучший результат показал CatBoostRegressor. Проведем тестирование с ним. "
   ]
  },
  {
   "cell_type": "markdown",
   "metadata": {},
   "source": [
    "## Тестирование"
   ]
  },
  {
   "cell_type": "code",
   "execution_count": 28,
   "metadata": {},
   "outputs": [
    {
     "data": {
      "text/plain": [
       "47.059648227020965"
      ]
     },
     "execution_count": 28,
     "metadata": {},
     "output_type": "execute_result"
    }
   ],
   "source": [
    "model = CatBoostRegressor(iterations=1000,verbose=0).fit(features_train, target_train)\n",
    "\n",
    "predictions_CatBoost = model.predict(features_test) \n",
    "\n",
    "mean_squared_error(target_test,predictions_CatBoost)**0.5"
   ]
  },
  {
   "cell_type": "markdown",
   "metadata": {},
   "source": [
    "Среднеквадратическая ошибка для CatBoostRegressor на тестовой выборке показывает RMSE 47. Такой результат нас устраивает "
   ]
  },
  {
   "cell_type": "code",
   "execution_count": 29,
   "metadata": {},
   "outputs": [
    {
     "data": {
      "image/png": "[encoded data removed]",
      "text/plain": [
       "<Figure size 1152x288 with 1 Axes>"
      ]
     },
     "metadata": {
      "needs_background": "light"
     },
     "output_type": "display_data"
    }
   ],
   "source": [
    "result = pd.DataFrame(predictions_CatBoost,index=features_test.index, columns=['Предсказания CatBoostRegressor'])\n",
    "result['Правильные ответы'] = target_test\n",
    "result.plot(title='Сравнение модели с верными ответами',xlabel='Каждый час заказов такси',ylabel='Количество заказов')\n",
    "plt.show()"
   ]
  },
  {
   "cell_type": "markdown",
   "metadata": {},
   "source": [
    "Мы видим, что предсказания нашей модели выглядят более усредненно, она попадает в тренд и сезонность, но в пиковых значениях максимального количества реальных заказов больше, чем предсказанных. "
   ]
  },
  {
   "cell_type": "markdown",
   "metadata": {},
   "source": [
    "Проверим адекватность нашего результата по сравнению со средней Dummy моделью:"
   ]
  },
  {
   "cell_type": "code",
   "execution_count": 30,
   "metadata": {},
   "outputs": [
    {
     "name": "stdout",
     "output_type": "stream",
     "text": [
      "Среднеквадратическая ошибка для модели Дамми составляет: 84.69056594015109\n"
     ]
    }
   ],
   "source": [
    "dummy_regr = DummyRegressor(strategy=\"mean\")\n",
    "dummy_regr.fit(features_train, target_train)\n",
    "DummyRegressor()\n",
    "dummy_regr_predict = dummy_regr.predict(features_test)\n",
    "mse = mean_squared_error(target_test,dummy_regr_predict)\n",
    "rmse = mse**0.5\n",
    "print('Среднеквадратическая ошибка для модели Дамми составляет:', rmse)"
   ]
  },
  {
   "cell_type": "markdown",
   "metadata": {},
   "source": [
    "Наш результат почти в 2 раза выше среднего Dummy так что мы можем утверждать о полезности нашей работы. "
   ]
  },
  {
   "cell_type": "markdown",
   "metadata": {},
   "source": [
    "## Вывод:\n",
    "\n",
    "Компания «Чётенькое такси» собрала исторические данные о заказах такси в аэропортах. Чтобы привлекать больше водителей в период пиковой нагрузки, нужно спрогнозировать количество заказов такси на следующий час. Построим модель для такого предсказания.\n",
    "\n",
    "Значение метрики *RMSE* на тестовой выборке должно быть не больше 48.\n",
    "\n",
    "Нам было нужно:\n",
    "\n",
    "- Загрузить данные и выполнить их ресемплирование по одному часу.\n",
    "- Проанализировать данные.\n",
    "- Обучить разные модели с различными гиперпараметрами. Сделать тестовую выборку размером 10% от исходных данных.\n",
    "- Проверить данные на тестовой выборке и сделать выводы.\n",
    "\n",
    "1. Мы загрузили данные и выполнили их ресемплирование по одному часу.\n",
    "2. Мы построили график для того чтобы визуально оценить распределние количества заказов такси. В целом мы увидели тенденцию к увеличению заказов. Для того чтобы увдиеть тренды и сезонности мы применили функцию декомпозиции. По графику трендов мы увмдели растущий тренд к увеличению числа заказов в среднем. На масштабе 5 дней мы увидели циклично повторяющуюся закономерности во временном ряду. Мы видим пиковую нагрузку в 24 часа и минимальную в 6 утра. 4-8 часов утра наблюдается минимальное количество заказов, 22-24 часа максимальная наргузка с самым большим количеством заказов в интервале. Затем мы построили график с рядом разниц. На графике увидели скользящее среднее и скользящее стандартное отклонение. Ряд выглядит стационарным визуально. Для того чтобы более точно оценить в численном виде стационарность ряда мы провели теста Дики-Фуллера. Мы получили p-value равное 2,8% , таким образом в зависимости от заданной нами мере чувстительности alpha в 1% или 5% мы можем назвать ряд как стационарным так и не стационарным. \n",
    "3. Приступили к обучению моделей. Выделили признаки. Год нам не нужен так как это одинаковый признак для всех. Построим функцию для вычисления построения остающих значений, календарных признаков, а так же скользящего среднего. Далее мы построили три модели для прогнозирования.\n",
    "\n",
    " - Линейнай регрессия показала RMSE 33.9\n",
    " - Случайный лес показал результат RMSE 35.3\n",
    " - CatBoostRegressor показал результат RMSE 31.1\n",
    "4. Провели тестирование. Тестирование выявлило что лучшая модель CatBoostRegressor на выборке показывает RMSE 47. Наш результат почти в 2 раза выше среднего Dummy так что мы можем утверждать о полезности нашей работы. "
   ]
  }
 ],
 "metadata": {
  "ExecuteTimeLog": [
   {
    "duration": 424,
    "start_time": "2023-06-21T18:07:39.016Z"
   },
   {
    "duration": 144,
    "start_time": "2023-06-21T18:08:44.885Z"
   },
   {
    "duration": 182,
    "start_time": "2023-06-21T18:09:07.831Z"
   },
   {
    "duration": 53,
    "start_time": "2023-06-21T18:09:11.540Z"
   },
   {
    "duration": 53,
    "start_time": "2023-06-21T18:09:36.107Z"
   },
   {
    "duration": 12,
    "start_time": "2023-06-21T18:11:21.642Z"
   },
   {
    "duration": 11,
    "start_time": "2023-06-21T18:11:26.408Z"
   },
   {
    "duration": 8,
    "start_time": "2023-06-21T18:18:22.910Z"
   },
   {
    "duration": 9,
    "start_time": "2023-06-21T18:21:27.940Z"
   },
   {
    "duration": 59,
    "start_time": "2023-06-21T18:22:05.787Z"
   },
   {
    "duration": 65,
    "start_time": "2023-06-21T18:22:12.642Z"
   },
   {
    "duration": 45,
    "start_time": "2023-06-21T18:22:20.193Z"
   },
   {
    "duration": 61,
    "start_time": "2023-06-21T18:25:12.183Z"
   },
   {
    "duration": 54,
    "start_time": "2023-06-21T18:25:18.440Z"
   },
   {
    "duration": 63,
    "start_time": "2023-06-21T18:25:41.364Z"
   },
   {
    "duration": 7,
    "start_time": "2023-06-21T18:26:37.428Z"
   },
   {
    "duration": 15,
    "start_time": "2023-06-21T18:26:48.993Z"
   },
   {
    "duration": 10,
    "start_time": "2023-06-21T18:27:19.887Z"
   },
   {
    "duration": 13,
    "start_time": "2023-06-21T18:27:24.524Z"
   },
   {
    "duration": 8,
    "start_time": "2023-06-21T18:28:23.183Z"
   },
   {
    "duration": 436,
    "start_time": "2023-06-21T18:28:43.666Z"
   },
   {
    "duration": 53,
    "start_time": "2023-06-21T18:28:44.104Z"
   },
   {
    "duration": 7,
    "start_time": "2023-06-21T18:28:44.159Z"
   },
   {
    "duration": 36,
    "start_time": "2023-06-21T18:28:44.168Z"
   },
   {
    "duration": 7,
    "start_time": "2023-06-21T18:28:44.206Z"
   },
   {
    "duration": 69,
    "start_time": "2023-06-21T18:29:00.295Z"
   },
   {
    "duration": 8,
    "start_time": "2023-06-21T18:29:14.865Z"
   },
   {
    "duration": 405,
    "start_time": "2023-06-21T18:29:22.888Z"
   },
   {
    "duration": 51,
    "start_time": "2023-06-21T18:29:23.295Z"
   },
   {
    "duration": 7,
    "start_time": "2023-06-21T18:29:23.348Z"
   },
   {
    "duration": 43,
    "start_time": "2023-06-21T18:29:23.357Z"
   },
   {
    "duration": 5,
    "start_time": "2023-06-21T18:29:23.403Z"
   },
   {
    "duration": 14,
    "start_time": "2023-06-21T18:29:23.410Z"
   },
   {
    "duration": 5,
    "start_time": "2023-06-21T18:29:27.048Z"
   },
   {
    "duration": 6,
    "start_time": "2023-06-21T18:29:28.818Z"
   },
   {
    "duration": 5,
    "start_time": "2023-06-21T18:29:30.135Z"
   },
   {
    "duration": 5,
    "start_time": "2023-06-21T18:29:34.359Z"
   },
   {
    "duration": 5,
    "start_time": "2023-06-21T18:29:37.260Z"
   },
   {
    "duration": 5,
    "start_time": "2023-06-21T18:29:38.692Z"
   },
   {
    "duration": 435,
    "start_time": "2023-06-21T18:29:52.753Z"
   },
   {
    "duration": 55,
    "start_time": "2023-06-21T18:29:53.191Z"
   },
   {
    "duration": 16,
    "start_time": "2023-06-21T18:29:53.248Z"
   },
   {
    "duration": 74,
    "start_time": "2023-06-21T18:29:53.266Z"
   },
   {
    "duration": 24,
    "start_time": "2023-06-21T18:29:53.343Z"
   },
   {
    "duration": 39,
    "start_time": "2023-06-21T18:29:53.368Z"
   },
   {
    "duration": 28,
    "start_time": "2023-06-21T18:29:53.409Z"
   },
   {
    "duration": 429,
    "start_time": "2023-06-21T18:30:49.392Z"
   },
   {
    "duration": 53,
    "start_time": "2023-06-21T18:30:49.823Z"
   },
   {
    "duration": 8,
    "start_time": "2023-06-21T18:30:49.878Z"
   },
   {
    "duration": 28,
    "start_time": "2023-06-21T18:30:49.887Z"
   },
   {
    "duration": 9,
    "start_time": "2023-06-21T18:30:49.918Z"
   },
   {
    "duration": 12,
    "start_time": "2023-06-21T18:30:49.929Z"
   },
   {
    "duration": 7,
    "start_time": "2023-06-21T18:31:42.746Z"
   },
   {
    "duration": 75,
    "start_time": "2023-06-21T18:31:58.533Z"
   },
   {
    "duration": 13,
    "start_time": "2023-06-21T18:32:04.806Z"
   },
   {
    "duration": 631,
    "start_time": "2023-06-21T18:32:09.187Z"
   },
   {
    "duration": 223,
    "start_time": "2023-06-21T18:34:29.195Z"
   },
   {
    "duration": 23,
    "start_time": "2023-06-21T18:37:21.845Z"
   },
   {
    "duration": 325,
    "start_time": "2023-06-21T18:37:31.325Z"
   },
   {
    "duration": 573,
    "start_time": "2023-06-21T18:40:27.495Z"
   },
   {
    "duration": 10,
    "start_time": "2023-06-21T18:40:55.334Z"
   },
   {
    "duration": 1056,
    "start_time": "2023-06-21T18:42:15.642Z"
   },
   {
    "duration": 823,
    "start_time": "2023-06-21T18:42:53.293Z"
   },
   {
    "duration": 806,
    "start_time": "2023-06-21T18:43:02.262Z"
   },
   {
    "duration": 2,
    "start_time": "2023-06-21T19:24:52.796Z"
   },
   {
    "duration": 50,
    "start_time": "2023-06-21T19:25:21.981Z"
   },
   {
    "duration": 9,
    "start_time": "2023-06-21T19:31:45.293Z"
   },
   {
    "duration": 8,
    "start_time": "2023-06-21T19:31:54.544Z"
   },
   {
    "duration": 9,
    "start_time": "2023-06-21T19:31:58.855Z"
   },
   {
    "duration": 10,
    "start_time": "2023-06-21T19:32:10.598Z"
   },
   {
    "duration": 12,
    "start_time": "2023-06-21T19:32:13.495Z"
   },
   {
    "duration": 22,
    "start_time": "2023-06-21T19:32:18.228Z"
   },
   {
    "duration": 48,
    "start_time": "2023-06-21T19:32:59.452Z"
   },
   {
    "duration": 818,
    "start_time": "2023-06-21T19:33:00.685Z"
   },
   {
    "duration": 1104,
    "start_time": "2023-06-21T19:33:32.855Z"
   },
   {
    "duration": 107,
    "start_time": "2023-06-21T19:33:33.961Z"
   },
   {
    "duration": 7,
    "start_time": "2023-06-21T19:33:34.070Z"
   },
   {
    "duration": 35,
    "start_time": "2023-06-21T19:33:34.079Z"
   },
   {
    "duration": 8,
    "start_time": "2023-06-21T19:33:34.116Z"
   },
   {
    "duration": 225,
    "start_time": "2023-06-21T19:33:34.126Z"
   },
   {
    "duration": 7,
    "start_time": "2023-06-21T19:33:34.352Z"
   },
   {
    "duration": 763,
    "start_time": "2023-06-21T19:33:34.361Z"
   },
   {
    "duration": 964,
    "start_time": "2023-06-21T19:33:35.125Z"
   },
   {
    "duration": 1021,
    "start_time": "2023-06-21T19:34:13.434Z"
   },
   {
    "duration": 1071,
    "start_time": "2023-06-21T19:34:19.375Z"
   },
   {
    "duration": 1012,
    "start_time": "2023-06-21T19:34:37.650Z"
   },
   {
    "duration": 1070,
    "start_time": "2023-06-21T19:34:51.105Z"
   },
   {
    "duration": 938,
    "start_time": "2023-06-21T19:35:18.030Z"
   },
   {
    "duration": 378,
    "start_time": "2023-06-21T19:37:26.639Z"
   },
   {
    "duration": 438,
    "start_time": "2023-06-21T19:37:31.433Z"
   },
   {
    "duration": 491,
    "start_time": "2023-06-21T19:37:35.539Z"
   },
   {
    "duration": 352,
    "start_time": "2023-06-21T19:37:39.411Z"
   },
   {
    "duration": 382,
    "start_time": "2023-06-21T19:37:48.543Z"
   },
   {
    "duration": 373,
    "start_time": "2023-06-21T19:37:54.536Z"
   },
   {
    "duration": 301,
    "start_time": "2023-06-21T19:40:41.289Z"
   },
   {
    "duration": 6,
    "start_time": "2023-06-21T19:41:24.587Z"
   },
   {
    "duration": 9,
    "start_time": "2023-06-21T19:43:30.294Z"
   },
   {
    "duration": 11,
    "start_time": "2023-06-21T19:43:35.436Z"
   },
   {
    "duration": 6,
    "start_time": "2023-06-21T19:44:21.532Z"
   },
   {
    "duration": 5,
    "start_time": "2023-06-21T19:44:27.504Z"
   },
   {
    "duration": 6,
    "start_time": "2023-06-21T19:44:38.190Z"
   },
   {
    "duration": 8,
    "start_time": "2023-06-21T19:44:42.305Z"
   },
   {
    "duration": 6,
    "start_time": "2023-06-21T19:45:21.748Z"
   },
   {
    "duration": 5,
    "start_time": "2023-06-21T19:45:22.223Z"
   },
   {
    "duration": 13,
    "start_time": "2023-06-21T19:45:29.491Z"
   },
   {
    "duration": 1802,
    "start_time": "2023-06-21T19:45:48.150Z"
   },
   {
    "duration": 52,
    "start_time": "2023-06-21T19:45:49.955Z"
   },
   {
    "duration": 10,
    "start_time": "2023-06-21T19:45:50.009Z"
   },
   {
    "duration": 60,
    "start_time": "2023-06-21T19:45:50.020Z"
   },
   {
    "duration": 11,
    "start_time": "2023-06-21T19:45:50.083Z"
   },
   {
    "duration": 247,
    "start_time": "2023-06-21T19:45:50.095Z"
   },
   {
    "duration": 7,
    "start_time": "2023-06-21T19:45:50.345Z"
   },
   {
    "duration": 775,
    "start_time": "2023-06-21T19:45:50.354Z"
   },
   {
    "duration": 425,
    "start_time": "2023-06-21T19:45:51.131Z"
   },
   {
    "duration": 17,
    "start_time": "2023-06-21T19:45:51.558Z"
   },
   {
    "duration": 29,
    "start_time": "2023-06-21T19:45:51.576Z"
   },
   {
    "duration": 1351,
    "start_time": "2023-06-21T19:46:54.599Z"
   },
   {
    "duration": 51,
    "start_time": "2023-06-21T19:46:55.953Z"
   },
   {
    "duration": 8,
    "start_time": "2023-06-21T19:46:56.006Z"
   },
   {
    "duration": 44,
    "start_time": "2023-06-21T19:46:56.016Z"
   },
   {
    "duration": 12,
    "start_time": "2023-06-21T19:46:56.063Z"
   },
   {
    "duration": 277,
    "start_time": "2023-06-21T19:46:56.077Z"
   },
   {
    "duration": 20,
    "start_time": "2023-06-21T19:46:56.356Z"
   },
   {
    "duration": 964,
    "start_time": "2023-06-21T19:46:56.380Z"
   },
   {
    "duration": 420,
    "start_time": "2023-06-21T19:46:57.346Z"
   },
   {
    "duration": 13,
    "start_time": "2023-06-21T19:46:57.778Z"
   },
   {
    "duration": 8,
    "start_time": "2023-06-21T19:46:57.794Z"
   },
   {
    "duration": 10,
    "start_time": "2023-06-21T19:46:57.804Z"
   },
   {
    "duration": 4,
    "start_time": "2023-06-21T19:48:43.291Z"
   },
   {
    "duration": 89,
    "start_time": "2023-06-21T19:55:07.497Z"
   },
   {
    "duration": 56,
    "start_time": "2023-06-21T19:57:28.620Z"
   },
   {
    "duration": 9,
    "start_time": "2023-06-21T19:57:43.161Z"
   },
   {
    "duration": 10,
    "start_time": "2023-06-21T19:57:54.747Z"
   },
   {
    "duration": 10,
    "start_time": "2023-06-21T19:59:03.622Z"
   },
   {
    "duration": 19,
    "start_time": "2023-06-21T20:01:05.589Z"
   },
   {
    "duration": 7,
    "start_time": "2023-06-21T20:02:12.889Z"
   },
   {
    "duration": 1400,
    "start_time": "2023-06-21T20:04:31.437Z"
   },
   {
    "duration": 49,
    "start_time": "2023-06-21T20:04:32.839Z"
   },
   {
    "duration": 7,
    "start_time": "2023-06-21T20:04:32.889Z"
   },
   {
    "duration": 33,
    "start_time": "2023-06-21T20:04:32.898Z"
   },
   {
    "duration": 8,
    "start_time": "2023-06-21T20:04:32.933Z"
   },
   {
    "duration": 247,
    "start_time": "2023-06-21T20:04:32.943Z"
   },
   {
    "duration": 7,
    "start_time": "2023-06-21T20:04:33.192Z"
   },
   {
    "duration": 851,
    "start_time": "2023-06-21T20:04:33.201Z"
   },
   {
    "duration": 326,
    "start_time": "2023-06-21T20:04:34.054Z"
   },
   {
    "duration": 6,
    "start_time": "2023-06-21T20:04:34.382Z"
   },
   {
    "duration": 26,
    "start_time": "2023-06-21T20:04:34.389Z"
   },
   {
    "duration": 9,
    "start_time": "2023-06-21T20:04:34.417Z"
   },
   {
    "duration": 50,
    "start_time": "2023-06-21T20:04:34.427Z"
   },
   {
    "duration": 76,
    "start_time": "2023-06-21T20:10:42.139Z"
   },
   {
    "duration": 439,
    "start_time": "2023-06-21T20:10:53.935Z"
   },
   {
    "duration": 326,
    "start_time": "2023-06-21T20:11:05.054Z"
   },
   {
    "duration": 172,
    "start_time": "2023-06-21T20:11:15.201Z"
   },
   {
    "duration": 211,
    "start_time": "2023-06-21T20:11:22.327Z"
   },
   {
    "duration": 3177,
    "start_time": "2023-06-21T20:13:09.232Z"
   },
   {
    "duration": 1514,
    "start_time": "2023-06-21T20:13:35.502Z"
   },
   {
    "duration": 52983,
    "start_time": "2023-06-21T20:13:44.864Z"
   },
   {
    "duration": 356,
    "start_time": "2023-06-21T20:15:25.343Z"
   },
   {
    "duration": 147,
    "start_time": "2023-06-21T20:16:51.850Z"
   },
   {
    "duration": 1684,
    "start_time": "2023-06-21T20:18:00.738Z"
   },
   {
    "duration": 52,
    "start_time": "2023-06-21T20:18:02.427Z"
   },
   {
    "duration": 9,
    "start_time": "2023-06-21T20:18:02.481Z"
   },
   {
    "duration": 55,
    "start_time": "2023-06-21T20:18:02.492Z"
   },
   {
    "duration": 11,
    "start_time": "2023-06-21T20:18:02.550Z"
   },
   {
    "duration": 300,
    "start_time": "2023-06-21T20:18:02.563Z"
   },
   {
    "duration": 17,
    "start_time": "2023-06-21T20:18:02.864Z"
   },
   {
    "duration": 894,
    "start_time": "2023-06-21T20:18:02.883Z"
   },
   {
    "duration": 390,
    "start_time": "2023-06-21T20:18:03.779Z"
   },
   {
    "duration": 11,
    "start_time": "2023-06-21T20:18:04.171Z"
   },
   {
    "duration": 59,
    "start_time": "2023-06-21T20:18:04.187Z"
   },
   {
    "duration": 8,
    "start_time": "2023-06-21T20:18:04.249Z"
   },
   {
    "duration": 47,
    "start_time": "2023-06-21T20:18:04.259Z"
   },
   {
    "duration": 431,
    "start_time": "2023-06-21T20:18:04.309Z"
   },
   {
    "duration": 479,
    "start_time": "2023-06-21T20:18:04.742Z"
   },
   {
    "duration": 67,
    "start_time": "2023-06-21T20:18:23.249Z"
   },
   {
    "duration": 4,
    "start_time": "2023-06-21T20:21:18.127Z"
   },
   {
    "duration": 630,
    "start_time": "2023-06-21T20:21:43.029Z"
   },
   {
    "duration": 2930,
    "start_time": "2023-06-21T20:21:53.734Z"
   },
   {
    "duration": 2317,
    "start_time": "2023-06-21T20:24:31.745Z"
   },
   {
    "duration": 2279,
    "start_time": "2023-06-21T20:24:37.133Z"
   },
   {
    "duration": 23,
    "start_time": "2023-06-21T20:26:01.725Z"
   },
   {
    "duration": 7,
    "start_time": "2023-06-21T20:26:21.145Z"
   },
   {
    "duration": 2345,
    "start_time": "2023-06-21T20:26:41.260Z"
   },
   {
    "duration": 18350,
    "start_time": "2023-06-21T20:26:47.371Z"
   },
   {
    "duration": 2300,
    "start_time": "2023-06-21T20:27:12.963Z"
   },
   {
    "duration": 653,
    "start_time": "2023-06-21T20:27:18.997Z"
   },
   {
    "duration": 1514,
    "start_time": "2023-06-21T20:27:24.928Z"
   },
   {
    "duration": 4353,
    "start_time": "2023-06-21T20:27:31.014Z"
   },
   {
    "duration": 2606,
    "start_time": "2023-06-21T20:27:42.895Z"
   },
   {
    "duration": 2677,
    "start_time": "2023-06-21T20:28:01.611Z"
   },
   {
    "duration": 2310,
    "start_time": "2023-06-21T20:28:25.843Z"
   },
   {
    "duration": 9,
    "start_time": "2023-06-21T20:28:55.084Z"
   },
   {
    "duration": 11,
    "start_time": "2023-06-21T20:29:27.411Z"
   },
   {
    "duration": 10,
    "start_time": "2023-06-21T20:29:39.108Z"
   },
   {
    "duration": 7,
    "start_time": "2023-06-21T20:29:47.810Z"
   },
   {
    "duration": 13,
    "start_time": "2023-06-21T20:32:30.443Z"
   },
   {
    "duration": 4,
    "start_time": "2023-06-21T20:33:20.490Z"
   },
   {
    "duration": 468,
    "start_time": "2023-06-21T20:33:50.350Z"
   },
   {
    "duration": 517,
    "start_time": "2023-06-21T20:33:57.524Z"
   },
   {
    "duration": 607,
    "start_time": "2023-06-21T20:34:01.629Z"
   },
   {
    "duration": 1453,
    "start_time": "2023-06-21T20:34:05.262Z"
   },
   {
    "duration": 1377,
    "start_time": "2023-06-21T20:34:22.217Z"
   },
   {
    "duration": 49,
    "start_time": "2023-06-21T20:34:23.596Z"
   },
   {
    "duration": 7,
    "start_time": "2023-06-21T20:34:23.647Z"
   },
   {
    "duration": 35,
    "start_time": "2023-06-21T20:34:23.655Z"
   },
   {
    "duration": 8,
    "start_time": "2023-06-21T20:34:23.692Z"
   },
   {
    "duration": 252,
    "start_time": "2023-06-21T20:34:23.701Z"
   },
   {
    "duration": 20,
    "start_time": "2023-06-21T20:34:23.955Z"
   },
   {
    "duration": 842,
    "start_time": "2023-06-21T20:34:23.977Z"
   },
   {
    "duration": 348,
    "start_time": "2023-06-21T20:34:24.821Z"
   },
   {
    "duration": 7,
    "start_time": "2023-06-21T20:34:25.175Z"
   },
   {
    "duration": 28,
    "start_time": "2023-06-21T20:34:25.184Z"
   },
   {
    "duration": 27,
    "start_time": "2023-06-21T20:34:25.214Z"
   },
   {
    "duration": 26,
    "start_time": "2023-06-21T20:34:25.245Z"
   },
   {
    "duration": 399,
    "start_time": "2023-06-21T20:34:25.274Z"
   },
   {
    "duration": 342,
    "start_time": "2023-06-21T20:34:25.675Z"
   },
   {
    "duration": 1353,
    "start_time": "2023-06-21T20:34:26.019Z"
   },
   {
    "duration": 7,
    "start_time": "2023-06-21T20:35:02.437Z"
   },
   {
    "duration": 1372,
    "start_time": "2023-06-21T20:35:57.115Z"
   },
   {
    "duration": 54,
    "start_time": "2023-06-21T20:35:58.489Z"
   },
   {
    "duration": 9,
    "start_time": "2023-06-21T20:35:58.544Z"
   },
   {
    "duration": 36,
    "start_time": "2023-06-21T20:35:58.554Z"
   },
   {
    "duration": 10,
    "start_time": "2023-06-21T20:35:58.592Z"
   },
   {
    "duration": 257,
    "start_time": "2023-06-21T20:35:58.604Z"
   },
   {
    "duration": 16,
    "start_time": "2023-06-21T20:35:58.863Z"
   },
   {
    "duration": 847,
    "start_time": "2023-06-21T20:35:58.881Z"
   },
   {
    "duration": 345,
    "start_time": "2023-06-21T20:35:59.730Z"
   },
   {
    "duration": 7,
    "start_time": "2023-06-21T20:36:00.077Z"
   },
   {
    "duration": 40,
    "start_time": "2023-06-21T20:36:00.087Z"
   },
   {
    "duration": 38,
    "start_time": "2023-06-21T20:36:00.130Z"
   },
   {
    "duration": 32,
    "start_time": "2023-06-21T20:36:00.170Z"
   },
   {
    "duration": 215,
    "start_time": "2023-06-21T20:36:00.204Z"
   },
   {
    "duration": 304,
    "start_time": "2023-06-21T20:36:00.420Z"
   },
   {
    "duration": 1472,
    "start_time": "2023-06-21T20:36:00.726Z"
   },
   {
    "duration": 6,
    "start_time": "2023-06-21T20:36:02.200Z"
   },
   {
    "duration": 1408,
    "start_time": "2023-06-21T20:38:30.525Z"
   },
   {
    "duration": 52,
    "start_time": "2023-06-21T20:38:31.935Z"
   },
   {
    "duration": 58,
    "start_time": "2023-06-21T20:38:31.988Z"
   },
   {
    "duration": 67,
    "start_time": "2023-06-21T20:38:32.047Z"
   },
   {
    "duration": 9,
    "start_time": "2023-06-21T20:38:32.116Z"
   },
   {
    "duration": 429,
    "start_time": "2023-06-21T20:38:32.127Z"
   },
   {
    "duration": 17,
    "start_time": "2023-06-21T20:38:32.558Z"
   },
   {
    "duration": 807,
    "start_time": "2023-06-21T20:38:32.577Z"
   },
   {
    "duration": 342,
    "start_time": "2023-06-21T20:38:33.386Z"
   },
   {
    "duration": 5,
    "start_time": "2023-06-21T20:38:33.731Z"
   },
   {
    "duration": 7,
    "start_time": "2023-06-21T20:38:33.738Z"
   },
   {
    "duration": 11,
    "start_time": "2023-06-21T20:38:33.746Z"
   },
   {
    "duration": 23,
    "start_time": "2023-06-21T20:38:33.758Z"
   },
   {
    "duration": 6,
    "start_time": "2023-06-21T20:38:33.783Z"
   },
   {
    "duration": 219,
    "start_time": "2023-06-21T20:38:33.791Z"
   },
   {
    "duration": 313,
    "start_time": "2023-06-21T20:38:34.011Z"
   },
   {
    "duration": 111,
    "start_time": "2023-06-21T20:38:34.326Z"
   },
   {
    "duration": 1225,
    "start_time": "2023-06-21T20:38:34.439Z"
   },
   {
    "duration": 7,
    "start_time": "2023-06-21T20:38:35.665Z"
   },
   {
    "duration": 13,
    "start_time": "2023-06-21T20:42:57.309Z"
   },
   {
    "duration": 13,
    "start_time": "2023-06-21T20:43:02.300Z"
   },
   {
    "duration": 1458,
    "start_time": "2023-06-21T20:43:18.630Z"
   },
   {
    "duration": 56,
    "start_time": "2023-06-21T20:43:20.090Z"
   },
   {
    "duration": 10,
    "start_time": "2023-06-21T20:43:20.148Z"
   },
   {
    "duration": 44,
    "start_time": "2023-06-21T20:43:20.160Z"
   },
   {
    "duration": 9,
    "start_time": "2023-06-21T20:43:20.206Z"
   },
   {
    "duration": 261,
    "start_time": "2023-06-21T20:43:20.217Z"
   },
   {
    "duration": 10,
    "start_time": "2023-06-21T20:43:20.480Z"
   },
   {
    "duration": 866,
    "start_time": "2023-06-21T20:43:20.493Z"
   },
   {
    "duration": 385,
    "start_time": "2023-06-21T20:43:21.360Z"
   },
   {
    "duration": 12,
    "start_time": "2023-06-21T20:43:21.746Z"
   },
   {
    "duration": 28,
    "start_time": "2023-06-21T20:43:21.760Z"
   },
   {
    "duration": 16,
    "start_time": "2023-06-21T20:43:21.789Z"
   },
   {
    "duration": 7,
    "start_time": "2023-06-21T20:43:21.807Z"
   },
   {
    "duration": 138,
    "start_time": "2023-06-21T20:43:21.816Z"
   },
   {
    "duration": 0,
    "start_time": "2023-06-21T20:43:21.955Z"
   },
   {
    "duration": 0,
    "start_time": "2023-06-21T20:43:21.956Z"
   },
   {
    "duration": 0,
    "start_time": "2023-06-21T20:43:21.957Z"
   },
   {
    "duration": 0,
    "start_time": "2023-06-21T20:43:21.958Z"
   },
   {
    "duration": 0,
    "start_time": "2023-06-21T20:43:21.959Z"
   },
   {
    "duration": 0,
    "start_time": "2023-06-21T20:43:21.961Z"
   },
   {
    "duration": 9,
    "start_time": "2023-06-21T20:44:46.967Z"
   },
   {
    "duration": 12,
    "start_time": "2023-06-21T20:44:48.836Z"
   },
   {
    "duration": 8,
    "start_time": "2023-06-21T20:45:55.488Z"
   },
   {
    "duration": 13,
    "start_time": "2023-06-21T20:45:56.237Z"
   },
   {
    "duration": 1483,
    "start_time": "2023-06-21T20:46:02.459Z"
   },
   {
    "duration": 50,
    "start_time": "2023-06-21T20:46:03.944Z"
   },
   {
    "duration": 8,
    "start_time": "2023-06-21T20:46:03.996Z"
   },
   {
    "duration": 39,
    "start_time": "2023-06-21T20:46:04.005Z"
   },
   {
    "duration": 8,
    "start_time": "2023-06-21T20:46:04.046Z"
   },
   {
    "duration": 222,
    "start_time": "2023-06-21T20:46:04.055Z"
   },
   {
    "duration": 7,
    "start_time": "2023-06-21T20:46:04.278Z"
   },
   {
    "duration": 809,
    "start_time": "2023-06-21T20:46:04.287Z"
   },
   {
    "duration": 325,
    "start_time": "2023-06-21T20:46:05.097Z"
   },
   {
    "duration": 11,
    "start_time": "2023-06-21T20:46:05.424Z"
   },
   {
    "duration": 27,
    "start_time": "2023-06-21T20:46:05.437Z"
   },
   {
    "duration": 29,
    "start_time": "2023-06-21T20:46:05.465Z"
   },
   {
    "duration": 33,
    "start_time": "2023-06-21T20:46:05.496Z"
   },
   {
    "duration": 161,
    "start_time": "2023-06-21T20:46:05.532Z"
   },
   {
    "duration": 0,
    "start_time": "2023-06-21T20:46:05.695Z"
   },
   {
    "duration": 0,
    "start_time": "2023-06-21T20:46:05.696Z"
   },
   {
    "duration": 0,
    "start_time": "2023-06-21T20:46:05.697Z"
   },
   {
    "duration": 0,
    "start_time": "2023-06-21T20:46:05.698Z"
   },
   {
    "duration": 0,
    "start_time": "2023-06-21T20:46:05.699Z"
   },
   {
    "duration": 0,
    "start_time": "2023-06-21T20:46:05.700Z"
   },
   {
    "duration": 8,
    "start_time": "2023-06-21T20:46:34.601Z"
   },
   {
    "duration": 12,
    "start_time": "2023-06-21T20:46:35.112Z"
   },
   {
    "duration": 4,
    "start_time": "2023-06-21T20:46:37.846Z"
   },
   {
    "duration": 6,
    "start_time": "2023-06-21T20:46:38.511Z"
   },
   {
    "duration": 16,
    "start_time": "2023-06-21T20:46:44.462Z"
   },
   {
    "duration": 1451,
    "start_time": "2023-06-21T20:47:50.370Z"
   },
   {
    "duration": 57,
    "start_time": "2023-06-21T20:47:51.824Z"
   },
   {
    "duration": 9,
    "start_time": "2023-06-21T20:47:51.883Z"
   },
   {
    "duration": 51,
    "start_time": "2023-06-21T20:47:51.894Z"
   },
   {
    "duration": 8,
    "start_time": "2023-06-21T20:47:51.948Z"
   },
   {
    "duration": 229,
    "start_time": "2023-06-21T20:47:51.958Z"
   },
   {
    "duration": 7,
    "start_time": "2023-06-21T20:47:52.189Z"
   },
   {
    "duration": 849,
    "start_time": "2023-06-21T20:47:52.197Z"
   },
   {
    "duration": 329,
    "start_time": "2023-06-21T20:47:53.048Z"
   },
   {
    "duration": 12,
    "start_time": "2023-06-21T20:47:53.379Z"
   },
   {
    "duration": 20,
    "start_time": "2023-06-21T20:47:53.392Z"
   },
   {
    "duration": 19,
    "start_time": "2023-06-21T20:47:53.414Z"
   },
   {
    "duration": 19,
    "start_time": "2023-06-21T20:47:53.436Z"
   },
   {
    "duration": 160,
    "start_time": "2023-06-21T20:47:53.459Z"
   },
   {
    "duration": 0,
    "start_time": "2023-06-21T20:47:53.621Z"
   },
   {
    "duration": 0,
    "start_time": "2023-06-21T20:47:53.622Z"
   },
   {
    "duration": 0,
    "start_time": "2023-06-21T20:47:53.623Z"
   },
   {
    "duration": 0,
    "start_time": "2023-06-21T20:47:53.624Z"
   },
   {
    "duration": 0,
    "start_time": "2023-06-21T20:47:53.625Z"
   },
   {
    "duration": 0,
    "start_time": "2023-06-21T20:47:53.626Z"
   },
   {
    "duration": 13,
    "start_time": "2023-06-21T20:48:08.556Z"
   },
   {
    "duration": 20,
    "start_time": "2023-06-21T20:48:08.966Z"
   },
   {
    "duration": 1435,
    "start_time": "2023-06-21T20:48:25.953Z"
   },
   {
    "duration": 62,
    "start_time": "2023-06-21T20:48:27.390Z"
   },
   {
    "duration": 8,
    "start_time": "2023-06-21T20:48:27.453Z"
   },
   {
    "duration": 37,
    "start_time": "2023-06-21T20:48:27.463Z"
   },
   {
    "duration": 8,
    "start_time": "2023-06-21T20:48:27.503Z"
   },
   {
    "duration": 224,
    "start_time": "2023-06-21T20:48:27.512Z"
   },
   {
    "duration": 8,
    "start_time": "2023-06-21T20:48:27.738Z"
   },
   {
    "duration": 858,
    "start_time": "2023-06-21T20:48:27.748Z"
   },
   {
    "duration": 334,
    "start_time": "2023-06-21T20:48:28.608Z"
   },
   {
    "duration": 12,
    "start_time": "2023-06-21T20:48:28.943Z"
   },
   {
    "duration": 35,
    "start_time": "2023-06-21T20:48:28.957Z"
   },
   {
    "duration": 15,
    "start_time": "2023-06-21T20:48:28.993Z"
   },
   {
    "duration": 12,
    "start_time": "2023-06-21T20:48:29.009Z"
   },
   {
    "duration": 133,
    "start_time": "2023-06-21T20:48:29.024Z"
   },
   {
    "duration": 0,
    "start_time": "2023-06-21T20:48:29.159Z"
   },
   {
    "duration": 0,
    "start_time": "2023-06-21T20:48:29.160Z"
   },
   {
    "duration": 0,
    "start_time": "2023-06-21T20:48:29.161Z"
   },
   {
    "duration": 0,
    "start_time": "2023-06-21T20:48:29.163Z"
   },
   {
    "duration": 0,
    "start_time": "2023-06-21T20:48:29.164Z"
   },
   {
    "duration": 0,
    "start_time": "2023-06-21T20:48:29.175Z"
   },
   {
    "duration": 1435,
    "start_time": "2023-06-21T20:48:51.590Z"
   },
   {
    "duration": 51,
    "start_time": "2023-06-21T20:48:53.027Z"
   },
   {
    "duration": 7,
    "start_time": "2023-06-21T20:48:53.081Z"
   },
   {
    "duration": 63,
    "start_time": "2023-06-21T20:48:53.090Z"
   },
   {
    "duration": 10,
    "start_time": "2023-06-21T20:48:53.155Z"
   },
   {
    "duration": 245,
    "start_time": "2023-06-21T20:48:53.167Z"
   },
   {
    "duration": 8,
    "start_time": "2023-06-21T20:48:53.414Z"
   },
   {
    "duration": 825,
    "start_time": "2023-06-21T20:48:53.424Z"
   },
   {
    "duration": 359,
    "start_time": "2023-06-21T20:48:54.251Z"
   },
   {
    "duration": 13,
    "start_time": "2023-06-21T20:48:54.612Z"
   },
   {
    "duration": 30,
    "start_time": "2023-06-21T20:48:54.626Z"
   },
   {
    "duration": 18,
    "start_time": "2023-06-21T20:48:54.657Z"
   },
   {
    "duration": 10,
    "start_time": "2023-06-21T20:48:54.678Z"
   },
   {
    "duration": 178,
    "start_time": "2023-06-21T20:48:54.691Z"
   },
   {
    "duration": 0,
    "start_time": "2023-06-21T20:48:54.870Z"
   },
   {
    "duration": 0,
    "start_time": "2023-06-21T20:48:54.871Z"
   },
   {
    "duration": 0,
    "start_time": "2023-06-21T20:48:54.875Z"
   },
   {
    "duration": 0,
    "start_time": "2023-06-21T20:48:54.876Z"
   },
   {
    "duration": 0,
    "start_time": "2023-06-21T20:48:54.877Z"
   },
   {
    "duration": 0,
    "start_time": "2023-06-21T20:48:54.878Z"
   },
   {
    "duration": 1422,
    "start_time": "2023-06-21T20:49:17.788Z"
   },
   {
    "duration": 52,
    "start_time": "2023-06-21T20:49:19.212Z"
   },
   {
    "duration": 6,
    "start_time": "2023-06-21T20:49:19.266Z"
   },
   {
    "duration": 30,
    "start_time": "2023-06-21T20:49:19.274Z"
   },
   {
    "duration": 8,
    "start_time": "2023-06-21T20:49:19.306Z"
   },
   {
    "duration": 236,
    "start_time": "2023-06-21T20:49:19.315Z"
   },
   {
    "duration": 8,
    "start_time": "2023-06-21T20:49:19.553Z"
   },
   {
    "duration": 864,
    "start_time": "2023-06-21T20:49:19.562Z"
   },
   {
    "duration": 338,
    "start_time": "2023-06-21T20:49:20.427Z"
   },
   {
    "duration": 16,
    "start_time": "2023-06-21T20:49:20.767Z"
   },
   {
    "duration": 7,
    "start_time": "2023-06-21T20:49:20.784Z"
   },
   {
    "duration": 11,
    "start_time": "2023-06-21T20:49:20.794Z"
   },
   {
    "duration": 24,
    "start_time": "2023-06-21T20:49:20.807Z"
   },
   {
    "duration": 147,
    "start_time": "2023-06-21T20:49:20.834Z"
   },
   {
    "duration": 8,
    "start_time": "2023-06-21T20:49:20.984Z"
   },
   {
    "duration": 1328,
    "start_time": "2023-06-21T20:49:20.994Z"
   },
   {
    "duration": 2510,
    "start_time": "2023-06-21T20:49:22.325Z"
   },
   {
    "duration": 874,
    "start_time": "2023-06-21T20:49:24.837Z"
   },
   {
    "duration": 2885,
    "start_time": "2023-06-21T20:49:25.713Z"
   },
   {
    "duration": 6,
    "start_time": "2023-06-21T20:49:28.600Z"
   },
   {
    "duration": 1441,
    "start_time": "2023-06-21T20:49:59.035Z"
   },
   {
    "duration": 51,
    "start_time": "2023-06-21T20:50:00.479Z"
   },
   {
    "duration": 7,
    "start_time": "2023-06-21T20:50:00.532Z"
   },
   {
    "duration": 67,
    "start_time": "2023-06-21T20:50:00.541Z"
   },
   {
    "duration": 45,
    "start_time": "2023-06-21T20:50:00.610Z"
   },
   {
    "duration": 256,
    "start_time": "2023-06-21T20:50:00.656Z"
   },
   {
    "duration": 9,
    "start_time": "2023-06-21T20:50:00.914Z"
   },
   {
    "duration": 930,
    "start_time": "2023-06-21T20:50:00.924Z"
   },
   {
    "duration": 334,
    "start_time": "2023-06-21T20:50:01.855Z"
   },
   {
    "duration": 20,
    "start_time": "2023-06-21T20:50:02.191Z"
   },
   {
    "duration": 18,
    "start_time": "2023-06-21T20:50:02.212Z"
   },
   {
    "duration": 40,
    "start_time": "2023-06-21T20:50:02.232Z"
   },
   {
    "duration": 59,
    "start_time": "2023-06-21T20:50:02.274Z"
   },
   {
    "duration": 240,
    "start_time": "2023-06-21T20:50:02.337Z"
   },
   {
    "duration": 13,
    "start_time": "2023-06-21T20:50:02.579Z"
   },
   {
    "duration": 2956,
    "start_time": "2023-06-21T20:50:02.594Z"
   },
   {
    "duration": 6245,
    "start_time": "2023-06-21T20:50:05.552Z"
   },
   {
    "duration": 2006,
    "start_time": "2023-06-21T20:50:11.799Z"
   },
   {
    "duration": 5674,
    "start_time": "2023-06-21T20:50:13.807Z"
   },
   {
    "duration": 10,
    "start_time": "2023-06-21T20:50:19.483Z"
   },
   {
    "duration": 4452,
    "start_time": "2023-06-21T20:56:07.105Z"
   },
   {
    "duration": 6918,
    "start_time": "2023-06-21T20:56:29.982Z"
   },
   {
    "duration": 3139,
    "start_time": "2023-06-21T20:56:48.192Z"
   },
   {
    "duration": 40482,
    "start_time": "2023-06-21T20:57:51.639Z"
   },
   {
    "duration": 33270,
    "start_time": "2023-06-21T20:58:59.805Z"
   },
   {
    "duration": 10806,
    "start_time": "2023-06-21T20:59:35.985Z"
   },
   {
    "duration": 1461,
    "start_time": "2023-06-21T21:00:48.448Z"
   },
   {
    "duration": 50,
    "start_time": "2023-06-21T21:00:49.911Z"
   },
   {
    "duration": 9,
    "start_time": "2023-06-21T21:00:49.963Z"
   },
   {
    "duration": 47,
    "start_time": "2023-06-21T21:00:49.974Z"
   },
   {
    "duration": 10,
    "start_time": "2023-06-21T21:00:50.023Z"
   },
   {
    "duration": 240,
    "start_time": "2023-06-21T21:00:50.035Z"
   },
   {
    "duration": 7,
    "start_time": "2023-06-21T21:00:50.277Z"
   },
   {
    "duration": 833,
    "start_time": "2023-06-21T21:00:50.287Z"
   },
   {
    "duration": 353,
    "start_time": "2023-06-21T21:00:51.122Z"
   },
   {
    "duration": 21,
    "start_time": "2023-06-21T21:00:51.477Z"
   },
   {
    "duration": 11,
    "start_time": "2023-06-21T21:00:51.500Z"
   },
   {
    "duration": 5,
    "start_time": "2023-06-21T21:00:51.512Z"
   },
   {
    "duration": 14,
    "start_time": "2023-06-21T21:00:51.518Z"
   },
   {
    "duration": 44,
    "start_time": "2023-06-21T21:00:51.535Z"
   },
   {
    "duration": 211,
    "start_time": "2023-06-21T21:00:51.581Z"
   },
   {
    "duration": 3229,
    "start_time": "2023-06-21T21:00:51.875Z"
   },
   {
    "duration": 32948,
    "start_time": "2023-06-21T21:00:55.105Z"
   },
   {
    "duration": 11099,
    "start_time": "2023-06-21T21:01:28.055Z"
   },
   {
    "duration": 5658,
    "start_time": "2023-06-21T21:01:39.156Z"
   },
   {
    "duration": 9,
    "start_time": "2023-06-21T21:01:44.816Z"
   },
   {
    "duration": 1429,
    "start_time": "2023-06-21T21:22:16.361Z"
   },
   {
    "duration": 51,
    "start_time": "2023-06-21T21:22:17.792Z"
   },
   {
    "duration": 7,
    "start_time": "2023-06-21T21:22:17.845Z"
   },
   {
    "duration": 42,
    "start_time": "2023-06-21T21:22:17.853Z"
   },
   {
    "duration": 8,
    "start_time": "2023-06-21T21:22:17.897Z"
   },
   {
    "duration": 226,
    "start_time": "2023-06-21T21:22:17.907Z"
   },
   {
    "duration": 7,
    "start_time": "2023-06-21T21:22:18.135Z"
   },
   {
    "duration": 816,
    "start_time": "2023-06-21T21:22:18.144Z"
   },
   {
    "duration": 337,
    "start_time": "2023-06-21T21:22:18.962Z"
   },
   {
    "duration": 20,
    "start_time": "2023-06-21T21:22:19.300Z"
   },
   {
    "duration": 211,
    "start_time": "2023-06-21T21:22:19.322Z"
   },
   {
    "duration": 9,
    "start_time": "2023-06-21T21:22:19.535Z"
   },
   {
    "duration": 18,
    "start_time": "2023-06-21T21:22:19.546Z"
   },
   {
    "duration": 212,
    "start_time": "2023-06-21T21:22:19.567Z"
   },
   {
    "duration": 8,
    "start_time": "2023-06-21T21:22:19.781Z"
   },
   {
    "duration": 3306,
    "start_time": "2023-06-21T21:22:19.791Z"
   },
   {
    "duration": 10925,
    "start_time": "2023-06-21T21:22:23.098Z"
   },
   {
    "duration": 5793,
    "start_time": "2023-06-21T21:22:44.716Z"
   },
   {
    "duration": 7,
    "start_time": "2023-06-21T21:22:50.511Z"
   },
   {
    "duration": 1378,
    "start_time": "2023-06-21T21:22:52.793Z"
   },
   {
    "duration": 51,
    "start_time": "2023-06-21T21:22:54.174Z"
   },
   {
    "duration": 9,
    "start_time": "2023-06-21T21:22:54.227Z"
   },
   {
    "duration": 29,
    "start_time": "2023-06-21T21:22:54.237Z"
   },
   {
    "duration": 8,
    "start_time": "2023-06-21T21:22:54.269Z"
   },
   {
    "duration": 242,
    "start_time": "2023-06-21T21:22:54.279Z"
   },
   {
    "duration": 10,
    "start_time": "2023-06-21T21:22:54.524Z"
   },
   {
    "duration": 801,
    "start_time": "2023-06-21T21:22:54.536Z"
   },
   {
    "duration": 328,
    "start_time": "2023-06-21T21:22:55.338Z"
   },
   {
    "duration": 24,
    "start_time": "2023-06-21T21:22:55.667Z"
   },
   {
    "duration": 10,
    "start_time": "2023-06-21T21:22:55.693Z"
   },
   {
    "duration": 9,
    "start_time": "2023-06-21T21:22:55.704Z"
   },
   {
    "duration": 9,
    "start_time": "2023-06-21T21:22:55.714Z"
   },
   {
    "duration": 58,
    "start_time": "2023-06-21T21:22:55.726Z"
   },
   {
    "duration": 97,
    "start_time": "2023-06-21T21:22:55.787Z"
   },
   {
    "duration": 3264,
    "start_time": "2023-06-21T21:22:55.886Z"
   },
   {
    "duration": 10758,
    "start_time": "2023-06-21T21:22:59.152Z"
   },
   {
    "duration": 2145,
    "start_time": "2023-06-21T21:23:09.911Z"
   },
   {
    "duration": 5756,
    "start_time": "2023-06-21T21:23:12.057Z"
   },
   {
    "duration": 9,
    "start_time": "2023-06-21T21:23:17.816Z"
   },
   {
    "duration": 59,
    "start_time": "2023-06-21T21:31:43.555Z"
   },
   {
    "duration": 2140,
    "start_time": "2023-06-21T21:32:21.759Z"
   },
   {
    "duration": 7294,
    "start_time": "2023-06-21T21:34:38.256Z"
   },
   {
    "duration": 1436,
    "start_time": "2023-06-21T21:36:29.199Z"
   },
   {
    "duration": 51,
    "start_time": "2023-06-21T21:36:30.637Z"
   },
   {
    "duration": 26,
    "start_time": "2023-06-21T21:36:30.689Z"
   },
   {
    "duration": 112,
    "start_time": "2023-06-21T21:36:30.717Z"
   },
   {
    "duration": 32,
    "start_time": "2023-06-21T21:36:30.831Z"
   },
   {
    "duration": 272,
    "start_time": "2023-06-21T21:36:30.864Z"
   },
   {
    "duration": 10,
    "start_time": "2023-06-21T21:36:31.138Z"
   },
   {
    "duration": 935,
    "start_time": "2023-06-21T21:36:31.150Z"
   },
   {
    "duration": 348,
    "start_time": "2023-06-21T21:36:32.087Z"
   },
   {
    "duration": 18,
    "start_time": "2023-06-21T21:36:32.436Z"
   },
   {
    "duration": 22,
    "start_time": "2023-06-21T21:36:32.456Z"
   },
   {
    "duration": 5,
    "start_time": "2023-06-21T21:36:32.480Z"
   },
   {
    "duration": 12,
    "start_time": "2023-06-21T21:36:32.486Z"
   },
   {
    "duration": 177,
    "start_time": "2023-06-21T21:36:32.501Z"
   },
   {
    "duration": 3147,
    "start_time": "2023-06-21T21:36:32.680Z"
   },
   {
    "duration": 10468,
    "start_time": "2023-06-21T21:36:35.829Z"
   },
   {
    "duration": 5592,
    "start_time": "2023-06-21T21:36:46.299Z"
   },
   {
    "duration": 2218,
    "start_time": "2023-06-21T21:36:51.894Z"
   },
   {
    "duration": 5696,
    "start_time": "2023-06-21T21:36:54.114Z"
   },
   {
    "duration": 4,
    "start_time": "2023-06-21T21:42:05.748Z"
   },
   {
    "duration": 6,
    "start_time": "2023-06-21T21:42:42.124Z"
   },
   {
    "duration": 1721,
    "start_time": "2023-06-22T10:46:33.365Z"
   },
   {
    "duration": 141,
    "start_time": "2023-06-22T10:46:35.089Z"
   },
   {
    "duration": 3,
    "start_time": "2023-06-22T10:46:35.232Z"
   },
   {
    "duration": 28,
    "start_time": "2023-06-22T10:46:35.237Z"
   },
   {
    "duration": 30,
    "start_time": "2023-06-22T10:46:35.267Z"
   },
   {
    "duration": 8,
    "start_time": "2023-06-22T10:46:35.299Z"
   },
   {
    "duration": 262,
    "start_time": "2023-06-22T10:46:35.309Z"
   },
   {
    "duration": 7,
    "start_time": "2023-06-22T10:46:35.573Z"
   },
   {
    "duration": 874,
    "start_time": "2023-06-22T10:46:35.582Z"
   },
   {
    "duration": 538,
    "start_time": "2023-06-22T10:46:36.459Z"
   },
   {
    "duration": 71,
    "start_time": "2023-06-22T10:46:36.999Z"
   },
   {
    "duration": 9,
    "start_time": "2023-06-22T10:46:37.072Z"
   },
   {
    "duration": 18,
    "start_time": "2023-06-22T10:46:37.082Z"
   },
   {
    "duration": 59,
    "start_time": "2023-06-22T10:46:37.102Z"
   },
   {
    "duration": 201,
    "start_time": "2023-06-22T10:46:37.163Z"
   },
   {
    "duration": 3808,
    "start_time": "2023-06-22T10:46:37.368Z"
   },
   {
    "duration": 10733,
    "start_time": "2023-06-22T10:46:41.177Z"
   },
   {
    "duration": 6041,
    "start_time": "2023-06-22T10:46:51.912Z"
   },
   {
    "duration": 2140,
    "start_time": "2023-06-22T10:46:57.955Z"
   },
   {
    "duration": 6884,
    "start_time": "2023-06-22T10:47:00.097Z"
   },
   {
    "duration": 6,
    "start_time": "2023-06-22T10:47:06.982Z"
   },
   {
    "duration": 28,
    "start_time": "2023-06-22T10:47:06.990Z"
   },
   {
    "duration": 1466,
    "start_time": "2023-06-22T10:47:08.935Z"
   },
   {
    "duration": 48,
    "start_time": "2023-06-22T10:47:10.403Z"
   },
   {
    "duration": 10,
    "start_time": "2023-06-22T10:47:10.453Z"
   },
   {
    "duration": 15,
    "start_time": "2023-06-22T10:47:10.465Z"
   },
   {
    "duration": 28,
    "start_time": "2023-06-22T10:47:10.482Z"
   },
   {
    "duration": 29,
    "start_time": "2023-06-22T10:47:10.512Z"
   },
   {
    "duration": 239,
    "start_time": "2023-06-22T10:47:10.542Z"
   },
   {
    "duration": 8,
    "start_time": "2023-06-22T10:47:10.783Z"
   },
   {
    "duration": 876,
    "start_time": "2023-06-22T10:47:10.792Z"
   },
   {
    "duration": 693,
    "start_time": "2023-06-22T10:47:11.671Z"
   },
   {
    "duration": 23,
    "start_time": "2023-06-22T10:47:12.367Z"
   },
   {
    "duration": 10,
    "start_time": "2023-06-22T10:47:12.392Z"
   },
   {
    "duration": 65,
    "start_time": "2023-06-22T10:47:12.403Z"
   },
   {
    "duration": 9,
    "start_time": "2023-06-22T10:47:12.471Z"
   },
   {
    "duration": 181,
    "start_time": "2023-06-22T10:47:12.482Z"
   },
   {
    "duration": 3969,
    "start_time": "2023-06-22T10:47:12.665Z"
   },
   {
    "duration": 11091,
    "start_time": "2023-06-22T10:47:16.636Z"
   },
   {
    "duration": 6091,
    "start_time": "2023-06-22T10:47:27.729Z"
   },
   {
    "duration": 2226,
    "start_time": "2023-06-22T10:47:33.821Z"
   },
   {
    "duration": 5983,
    "start_time": "2023-06-22T10:47:36.048Z"
   },
   {
    "duration": 7,
    "start_time": "2023-06-22T10:47:42.033Z"
   },
   {
    "duration": 3,
    "start_time": "2023-06-22T10:47:46.342Z"
   },
   {
    "duration": 1485,
    "start_time": "2023-06-22T10:47:55.448Z"
   },
   {
    "duration": 51,
    "start_time": "2023-06-22T10:47:56.935Z"
   },
   {
    "duration": 3,
    "start_time": "2023-06-22T10:47:56.988Z"
   },
   {
    "duration": 16,
    "start_time": "2023-06-22T10:47:56.993Z"
   },
   {
    "duration": 43,
    "start_time": "2023-06-22T10:47:57.011Z"
   },
   {
    "duration": 9,
    "start_time": "2023-06-22T10:47:57.056Z"
   },
   {
    "duration": 240,
    "start_time": "2023-06-22T10:47:57.066Z"
   },
   {
    "duration": 7,
    "start_time": "2023-06-22T10:47:57.308Z"
   },
   {
    "duration": 868,
    "start_time": "2023-06-22T10:47:57.317Z"
   },
   {
    "duration": 355,
    "start_time": "2023-06-22T10:47:58.186Z"
   },
   {
    "duration": 28,
    "start_time": "2023-06-22T10:47:58.543Z"
   },
   {
    "duration": 10,
    "start_time": "2023-06-22T10:47:58.572Z"
   },
   {
    "duration": 8,
    "start_time": "2023-06-22T10:47:58.583Z"
   },
   {
    "duration": 25,
    "start_time": "2023-06-22T10:47:58.593Z"
   },
   {
    "duration": 141,
    "start_time": "2023-06-22T10:47:58.620Z"
   },
   {
    "duration": 3184,
    "start_time": "2023-06-22T10:47:58.763Z"
   },
   {
    "duration": 10855,
    "start_time": "2023-06-22T10:48:01.949Z"
   },
   {
    "duration": 6292,
    "start_time": "2023-06-22T10:48:12.805Z"
   },
   {
    "duration": 2143,
    "start_time": "2023-06-22T10:48:19.098Z"
   },
   {
    "duration": 6124,
    "start_time": "2023-06-22T10:48:21.242Z"
   },
   {
    "duration": 5,
    "start_time": "2023-06-22T10:48:27.368Z"
   },
   {
    "duration": 1706,
    "start_time": "2023-06-22T22:22:45.452Z"
   },
   {
    "duration": 115,
    "start_time": "2023-06-22T22:22:47.160Z"
   },
   {
    "duration": 3,
    "start_time": "2023-06-22T22:22:47.277Z"
   },
   {
    "duration": 36,
    "start_time": "2023-06-22T22:22:47.282Z"
   },
   {
    "duration": 50,
    "start_time": "2023-06-22T22:22:47.320Z"
   },
   {
    "duration": 10,
    "start_time": "2023-06-22T22:22:47.371Z"
   },
   {
    "duration": 264,
    "start_time": "2023-06-22T22:22:47.382Z"
   },
   {
    "duration": 14,
    "start_time": "2023-06-22T22:22:47.648Z"
   },
   {
    "duration": 943,
    "start_time": "2023-06-22T22:22:47.664Z"
   },
   {
    "duration": 353,
    "start_time": "2023-06-22T22:22:48.610Z"
   },
   {
    "duration": 20,
    "start_time": "2023-06-22T22:22:48.965Z"
   },
   {
    "duration": 9,
    "start_time": "2023-06-22T22:22:48.987Z"
   },
   {
    "duration": 8,
    "start_time": "2023-06-22T22:22:48.998Z"
   },
   {
    "duration": 11,
    "start_time": "2023-06-22T22:22:49.008Z"
   },
   {
    "duration": 139,
    "start_time": "2023-06-22T22:22:49.021Z"
   },
   {
    "duration": 3800,
    "start_time": "2023-06-22T22:22:49.163Z"
   },
   {
    "duration": 12345,
    "start_time": "2023-06-22T22:22:52.966Z"
   },
   {
    "duration": 6690,
    "start_time": "2023-06-22T22:23:05.313Z"
   },
   {
    "duration": 2569,
    "start_time": "2023-06-22T22:23:12.005Z"
   },
   {
    "duration": 6027,
    "start_time": "2023-06-22T22:23:14.576Z"
   },
   {
    "duration": 6,
    "start_time": "2023-06-22T22:23:20.605Z"
   },
   {
    "duration": 128,
    "start_time": "2023-06-22T22:26:12.500Z"
   },
   {
    "duration": 3080,
    "start_time": "2023-06-22T22:26:47.721Z"
   },
   {
    "duration": 1521,
    "start_time": "2023-06-22T22:27:16.930Z"
   },
   {
    "duration": 52,
    "start_time": "2023-06-22T22:27:18.454Z"
   },
   {
    "duration": 4,
    "start_time": "2023-06-22T22:27:18.507Z"
   },
   {
    "duration": 13,
    "start_time": "2023-06-22T22:27:18.512Z"
   },
   {
    "duration": 43,
    "start_time": "2023-06-22T22:27:18.527Z"
   },
   {
    "duration": 9,
    "start_time": "2023-06-22T22:27:18.572Z"
   },
   {
    "duration": 267,
    "start_time": "2023-06-22T22:27:18.583Z"
   },
   {
    "duration": 1576,
    "start_time": "2023-06-22T22:27:18.853Z"
   },
   {
    "duration": 0,
    "start_time": "2023-06-22T22:27:20.432Z"
   },
   {
    "duration": 0,
    "start_time": "2023-06-22T22:27:20.433Z"
   },
   {
    "duration": 0,
    "start_time": "2023-06-22T22:27:20.434Z"
   },
   {
    "duration": 0,
    "start_time": "2023-06-22T22:27:20.435Z"
   },
   {
    "duration": 0,
    "start_time": "2023-06-22T22:27:20.437Z"
   },
   {
    "duration": 0,
    "start_time": "2023-06-22T22:27:20.454Z"
   },
   {
    "duration": 0,
    "start_time": "2023-06-22T22:27:20.456Z"
   },
   {
    "duration": 0,
    "start_time": "2023-06-22T22:27:20.457Z"
   },
   {
    "duration": 0,
    "start_time": "2023-06-22T22:27:20.457Z"
   },
   {
    "duration": 0,
    "start_time": "2023-06-22T22:27:20.459Z"
   },
   {
    "duration": 0,
    "start_time": "2023-06-22T22:27:20.460Z"
   },
   {
    "duration": 0,
    "start_time": "2023-06-22T22:27:20.461Z"
   },
   {
    "duration": 0,
    "start_time": "2023-06-22T22:27:20.462Z"
   },
   {
    "duration": 0,
    "start_time": "2023-06-22T22:27:20.463Z"
   },
   {
    "duration": 1992,
    "start_time": "2023-06-22T22:28:57.728Z"
   },
   {
    "duration": 1526,
    "start_time": "2023-06-22T22:29:26.376Z"
   },
   {
    "duration": 54,
    "start_time": "2023-06-22T22:29:27.904Z"
   },
   {
    "duration": 4,
    "start_time": "2023-06-22T22:29:27.960Z"
   },
   {
    "duration": 26,
    "start_time": "2023-06-22T22:29:27.966Z"
   },
   {
    "duration": 53,
    "start_time": "2023-06-22T22:29:27.994Z"
   },
   {
    "duration": 9,
    "start_time": "2023-06-22T22:29:28.049Z"
   },
   {
    "duration": 246,
    "start_time": "2023-06-22T22:29:28.060Z"
   },
   {
    "duration": 1226,
    "start_time": "2023-06-22T22:29:28.308Z"
   },
   {
    "duration": 0,
    "start_time": "2023-06-22T22:29:29.536Z"
   },
   {
    "duration": 0,
    "start_time": "2023-06-22T22:29:29.538Z"
   },
   {
    "duration": 0,
    "start_time": "2023-06-22T22:29:29.539Z"
   },
   {
    "duration": 0,
    "start_time": "2023-06-22T22:29:29.554Z"
   },
   {
    "duration": 0,
    "start_time": "2023-06-22T22:29:29.555Z"
   },
   {
    "duration": 0,
    "start_time": "2023-06-22T22:29:29.556Z"
   },
   {
    "duration": 0,
    "start_time": "2023-06-22T22:29:29.557Z"
   },
   {
    "duration": 0,
    "start_time": "2023-06-22T22:29:29.558Z"
   },
   {
    "duration": 0,
    "start_time": "2023-06-22T22:29:29.560Z"
   },
   {
    "duration": 0,
    "start_time": "2023-06-22T22:29:29.561Z"
   },
   {
    "duration": 0,
    "start_time": "2023-06-22T22:29:29.562Z"
   },
   {
    "duration": 0,
    "start_time": "2023-06-22T22:29:29.563Z"
   },
   {
    "duration": 0,
    "start_time": "2023-06-22T22:29:29.564Z"
   },
   {
    "duration": 0,
    "start_time": "2023-06-22T22:29:29.566Z"
   },
   {
    "duration": 1519,
    "start_time": "2023-06-22T22:31:00.580Z"
   },
   {
    "duration": 54,
    "start_time": "2023-06-22T22:31:02.101Z"
   },
   {
    "duration": 20,
    "start_time": "2023-06-22T22:31:02.157Z"
   },
   {
    "duration": 40,
    "start_time": "2023-06-22T22:31:02.180Z"
   },
   {
    "duration": 75,
    "start_time": "2023-06-22T22:31:02.222Z"
   },
   {
    "duration": 9,
    "start_time": "2023-06-22T22:31:02.299Z"
   },
   {
    "duration": 576,
    "start_time": "2023-06-22T22:31:02.309Z"
   },
   {
    "duration": 487,
    "start_time": "2023-06-22T22:31:02.887Z"
   },
   {
    "duration": 11,
    "start_time": "2023-06-22T22:31:03.376Z"
   },
   {
    "duration": 1561,
    "start_time": "2023-06-22T22:31:03.390Z"
   },
   {
    "duration": 351,
    "start_time": "2023-06-22T22:31:04.953Z"
   },
   {
    "duration": 22,
    "start_time": "2023-06-22T22:31:05.306Z"
   },
   {
    "duration": 23,
    "start_time": "2023-06-22T22:31:05.330Z"
   },
   {
    "duration": 8,
    "start_time": "2023-06-22T22:31:05.355Z"
   },
   {
    "duration": 28,
    "start_time": "2023-06-22T22:31:05.365Z"
   },
   {
    "duration": 64,
    "start_time": "2023-06-22T22:31:05.394Z"
   },
   {
    "duration": 3579,
    "start_time": "2023-06-22T22:31:05.461Z"
   },
   {
    "duration": 11929,
    "start_time": "2023-06-22T22:31:09.042Z"
   },
   {
    "duration": 6367,
    "start_time": "2023-06-22T22:31:20.973Z"
   },
   {
    "duration": 2355,
    "start_time": "2023-06-22T22:31:27.342Z"
   },
   {
    "duration": 6364,
    "start_time": "2023-06-22T22:31:29.699Z"
   },
   {
    "duration": 6,
    "start_time": "2023-06-22T22:31:36.064Z"
   },
   {
    "duration": 1312,
    "start_time": "2023-06-22T22:31:56.297Z"
   },
   {
    "duration": 1561,
    "start_time": "2023-06-22T22:33:19.948Z"
   },
   {
    "duration": 53,
    "start_time": "2023-06-22T22:33:21.511Z"
   },
   {
    "duration": 3,
    "start_time": "2023-06-22T22:33:21.566Z"
   },
   {
    "duration": 16,
    "start_time": "2023-06-22T22:33:21.571Z"
   },
   {
    "duration": 29,
    "start_time": "2023-06-22T22:33:21.590Z"
   },
   {
    "duration": 9,
    "start_time": "2023-06-22T22:33:21.621Z"
   },
   {
    "duration": 252,
    "start_time": "2023-06-22T22:33:21.655Z"
   },
   {
    "duration": 1657,
    "start_time": "2023-06-22T22:33:21.908Z"
   },
   {
    "duration": 0,
    "start_time": "2023-06-22T22:33:23.567Z"
   },
   {
    "duration": 0,
    "start_time": "2023-06-22T22:33:23.568Z"
   },
   {
    "duration": 0,
    "start_time": "2023-06-22T22:33:23.569Z"
   },
   {
    "duration": 0,
    "start_time": "2023-06-22T22:33:23.571Z"
   },
   {
    "duration": 0,
    "start_time": "2023-06-22T22:33:23.572Z"
   },
   {
    "duration": 0,
    "start_time": "2023-06-22T22:33:23.573Z"
   },
   {
    "duration": 0,
    "start_time": "2023-06-22T22:33:23.574Z"
   },
   {
    "duration": 0,
    "start_time": "2023-06-22T22:33:23.575Z"
   },
   {
    "duration": 0,
    "start_time": "2023-06-22T22:33:23.576Z"
   },
   {
    "duration": 0,
    "start_time": "2023-06-22T22:33:23.577Z"
   },
   {
    "duration": 0,
    "start_time": "2023-06-22T22:33:23.578Z"
   },
   {
    "duration": 0,
    "start_time": "2023-06-22T22:33:23.579Z"
   },
   {
    "duration": 0,
    "start_time": "2023-06-22T22:33:23.581Z"
   },
   {
    "duration": 0,
    "start_time": "2023-06-22T22:33:23.582Z"
   },
   {
    "duration": 2037,
    "start_time": "2023-06-22T22:33:43.135Z"
   },
   {
    "duration": 56,
    "start_time": "2023-06-22T22:33:45.174Z"
   },
   {
    "duration": 3,
    "start_time": "2023-06-22T22:33:45.232Z"
   },
   {
    "duration": 26,
    "start_time": "2023-06-22T22:33:45.237Z"
   },
   {
    "duration": 38,
    "start_time": "2023-06-22T22:33:45.265Z"
   },
   {
    "duration": 9,
    "start_time": "2023-06-22T22:33:45.304Z"
   },
   {
    "duration": 483,
    "start_time": "2023-06-22T22:33:45.315Z"
   },
   {
    "duration": 494,
    "start_time": "2023-06-22T22:33:45.799Z"
   },
   {
    "duration": 59,
    "start_time": "2023-06-22T22:33:46.295Z"
   },
   {
    "duration": 1367,
    "start_time": "2023-06-22T22:33:46.356Z"
   },
   {
    "duration": 355,
    "start_time": "2023-06-22T22:33:47.725Z"
   },
   {
    "duration": 21,
    "start_time": "2023-06-22T22:33:48.081Z"
   },
   {
    "duration": 29,
    "start_time": "2023-06-22T22:33:48.104Z"
   },
   {
    "duration": 39,
    "start_time": "2023-06-22T22:33:48.135Z"
   },
   {
    "duration": 29,
    "start_time": "2023-06-22T22:33:48.176Z"
   },
   {
    "duration": 150,
    "start_time": "2023-06-22T22:33:48.207Z"
   },
   {
    "duration": 3561,
    "start_time": "2023-06-22T22:33:48.360Z"
   },
   {
    "duration": 11891,
    "start_time": "2023-06-22T22:33:51.923Z"
   },
   {
    "duration": 6234,
    "start_time": "2023-06-22T22:34:03.816Z"
   },
   {
    "duration": 2415,
    "start_time": "2023-06-22T22:34:10.051Z"
   },
   {
    "duration": 6328,
    "start_time": "2023-06-22T22:34:12.468Z"
   },
   {
    "duration": 6,
    "start_time": "2023-06-22T22:34:18.798Z"
   },
   {
    "duration": 1611,
    "start_time": "2023-06-22T22:34:49.817Z"
   },
   {
    "duration": 53,
    "start_time": "2023-06-22T22:34:51.430Z"
   },
   {
    "duration": 3,
    "start_time": "2023-06-22T22:34:51.485Z"
   },
   {
    "duration": 17,
    "start_time": "2023-06-22T22:34:51.491Z"
   },
   {
    "duration": 45,
    "start_time": "2023-06-22T22:34:51.509Z"
   },
   {
    "duration": 9,
    "start_time": "2023-06-22T22:34:51.556Z"
   },
   {
    "duration": 511,
    "start_time": "2023-06-22T22:34:51.567Z"
   },
   {
    "duration": 522,
    "start_time": "2023-06-22T22:34:52.079Z"
   },
   {
    "duration": 8,
    "start_time": "2023-06-22T22:34:52.654Z"
   },
   {
    "duration": 1298,
    "start_time": "2023-06-22T22:34:52.665Z"
   },
   {
    "duration": 367,
    "start_time": "2023-06-22T22:34:53.965Z"
   },
   {
    "duration": 28,
    "start_time": "2023-06-22T22:34:54.333Z"
   },
   {
    "duration": 20,
    "start_time": "2023-06-22T22:34:54.362Z"
   },
   {
    "duration": 14,
    "start_time": "2023-06-22T22:34:54.383Z"
   },
   {
    "duration": 25,
    "start_time": "2023-06-22T22:34:54.399Z"
   },
   {
    "duration": 228,
    "start_time": "2023-06-22T22:34:54.426Z"
   },
   {
    "duration": 3447,
    "start_time": "2023-06-22T22:34:54.656Z"
   },
   {
    "duration": 11833,
    "start_time": "2023-06-22T22:34:58.105Z"
   },
   {
    "duration": 6445,
    "start_time": "2023-06-22T22:35:09.941Z"
   },
   {
    "duration": 2392,
    "start_time": "2023-06-22T22:35:16.388Z"
   },
   {
    "duration": 6359,
    "start_time": "2023-06-22T22:35:18.781Z"
   },
   {
    "duration": 6,
    "start_time": "2023-06-22T22:35:25.142Z"
   },
   {
    "duration": 1496,
    "start_time": "2023-06-22T22:35:45.020Z"
   },
   {
    "duration": 53,
    "start_time": "2023-06-22T22:35:46.519Z"
   },
   {
    "duration": 3,
    "start_time": "2023-06-22T22:35:46.574Z"
   },
   {
    "duration": 37,
    "start_time": "2023-06-22T22:35:46.579Z"
   },
   {
    "duration": 46,
    "start_time": "2023-06-22T22:35:46.619Z"
   },
   {
    "duration": 10,
    "start_time": "2023-06-22T22:35:46.667Z"
   },
   {
    "duration": 255,
    "start_time": "2023-06-22T22:35:46.679Z"
   },
   {
    "duration": 522,
    "start_time": "2023-06-22T22:35:46.936Z"
   },
   {
    "duration": 8,
    "start_time": "2023-06-22T22:35:47.460Z"
   },
   {
    "duration": 1566,
    "start_time": "2023-06-22T22:35:47.469Z"
   },
   {
    "duration": 367,
    "start_time": "2023-06-22T22:35:49.037Z"
   },
   {
    "duration": 24,
    "start_time": "2023-06-22T22:35:49.406Z"
   },
   {
    "duration": 28,
    "start_time": "2023-06-22T22:35:49.432Z"
   },
   {
    "duration": 6,
    "start_time": "2023-06-22T22:35:49.464Z"
   },
   {
    "duration": 43,
    "start_time": "2023-06-22T22:35:49.472Z"
   },
   {
    "duration": 235,
    "start_time": "2023-06-22T22:35:49.518Z"
   },
   {
    "duration": 3514,
    "start_time": "2023-06-22T22:35:49.756Z"
   },
   {
    "duration": 11874,
    "start_time": "2023-06-22T22:35:53.272Z"
   },
   {
    "duration": 6188,
    "start_time": "2023-06-22T22:36:05.147Z"
   },
   {
    "duration": 1789,
    "start_time": "2023-06-22T22:36:14.809Z"
   },
   {
    "duration": 83,
    "start_time": "2023-06-22T22:36:16.600Z"
   },
   {
    "duration": 18,
    "start_time": "2023-06-22T22:36:16.685Z"
   },
   {
    "duration": 71,
    "start_time": "2023-06-22T22:36:16.705Z"
   },
   {
    "duration": 84,
    "start_time": "2023-06-22T22:36:16.777Z"
   },
   {
    "duration": 9,
    "start_time": "2023-06-22T22:36:16.863Z"
   },
   {
    "duration": 504,
    "start_time": "2023-06-22T22:36:16.874Z"
   },
   {
    "duration": 340,
    "start_time": "2023-06-22T22:36:17.379Z"
   },
   {
    "duration": 8,
    "start_time": "2023-06-22T22:36:17.721Z"
   },
   {
    "duration": 871,
    "start_time": "2023-06-22T22:36:17.732Z"
   },
   {
    "duration": 359,
    "start_time": "2023-06-22T22:36:18.606Z"
   },
   {
    "duration": 19,
    "start_time": "2023-06-22T22:36:18.967Z"
   },
   {
    "duration": 10,
    "start_time": "2023-06-22T22:36:18.988Z"
   },
   {
    "duration": 7,
    "start_time": "2023-06-22T22:36:18.999Z"
   },
   {
    "duration": 19,
    "start_time": "2023-06-22T22:36:19.008Z"
   },
   {
    "duration": 132,
    "start_time": "2023-06-22T22:36:19.029Z"
   },
   {
    "duration": 3583,
    "start_time": "2023-06-22T22:36:19.163Z"
   },
   {
    "duration": 11873,
    "start_time": "2023-06-22T22:36:22.748Z"
   },
   {
    "duration": 6262,
    "start_time": "2023-06-22T22:36:34.623Z"
   },
   {
    "duration": 2383,
    "start_time": "2023-06-22T22:36:40.887Z"
   },
   {
    "duration": 6146,
    "start_time": "2023-06-22T22:36:43.271Z"
   },
   {
    "duration": 5,
    "start_time": "2023-06-22T22:36:49.419Z"
   },
   {
    "duration": 1495,
    "start_time": "2023-06-22T22:38:09.208Z"
   },
   {
    "duration": 52,
    "start_time": "2023-06-22T22:38:10.707Z"
   },
   {
    "duration": 3,
    "start_time": "2023-06-22T22:38:10.761Z"
   },
   {
    "duration": 31,
    "start_time": "2023-06-22T22:38:10.767Z"
   },
   {
    "duration": 34,
    "start_time": "2023-06-22T22:38:10.800Z"
   },
   {
    "duration": 9,
    "start_time": "2023-06-22T22:38:10.836Z"
   },
   {
    "duration": 368,
    "start_time": "2023-06-22T22:38:10.847Z"
   },
   {
    "duration": 382,
    "start_time": "2023-06-22T22:38:11.217Z"
   },
   {
    "duration": 63,
    "start_time": "2023-06-22T22:38:11.601Z"
   },
   {
    "duration": 1699,
    "start_time": "2023-06-22T22:38:11.668Z"
   },
   {
    "duration": 428,
    "start_time": "2023-06-22T22:38:13.369Z"
   },
   {
    "duration": 21,
    "start_time": "2023-06-22T22:38:13.800Z"
   },
   {
    "duration": 17,
    "start_time": "2023-06-22T22:38:13.823Z"
   },
   {
    "duration": 15,
    "start_time": "2023-06-22T22:38:13.841Z"
   },
   {
    "duration": 24,
    "start_time": "2023-06-22T22:38:13.858Z"
   },
   {
    "duration": 173,
    "start_time": "2023-06-22T22:38:13.884Z"
   },
   {
    "duration": 3538,
    "start_time": "2023-06-22T22:38:14.060Z"
   },
   {
    "duration": 11826,
    "start_time": "2023-06-22T22:38:17.600Z"
   },
   {
    "duration": 6122,
    "start_time": "2023-06-22T22:38:29.428Z"
   },
   {
    "duration": 2453,
    "start_time": "2023-06-22T22:38:35.552Z"
   },
   {
    "duration": 6052,
    "start_time": "2023-06-22T22:38:38.007Z"
   },
   {
    "duration": 6,
    "start_time": "2023-06-22T22:38:44.061Z"
   },
   {
    "duration": 1490,
    "start_time": "2023-06-22T22:38:49.941Z"
   },
   {
    "duration": 53,
    "start_time": "2023-06-22T22:38:51.433Z"
   },
   {
    "duration": 4,
    "start_time": "2023-06-22T22:38:51.488Z"
   },
   {
    "duration": 25,
    "start_time": "2023-06-22T22:38:51.494Z"
   },
   {
    "duration": 49,
    "start_time": "2023-06-22T22:38:51.521Z"
   },
   {
    "duration": 9,
    "start_time": "2023-06-22T22:38:51.572Z"
   },
   {
    "duration": 344,
    "start_time": "2023-06-22T22:38:51.583Z"
   },
   {
    "duration": 300,
    "start_time": "2023-06-22T22:38:51.929Z"
   },
   {
    "duration": 8,
    "start_time": "2023-06-22T22:38:52.231Z"
   },
   {
    "duration": 879,
    "start_time": "2023-06-22T22:38:52.253Z"
   },
   {
    "duration": 408,
    "start_time": "2023-06-22T22:38:53.134Z"
   },
   {
    "duration": 28,
    "start_time": "2023-06-22T22:38:53.544Z"
   },
   {
    "duration": 10,
    "start_time": "2023-06-22T22:38:53.574Z"
   },
   {
    "duration": 12,
    "start_time": "2023-06-22T22:38:53.586Z"
   },
   {
    "duration": 23,
    "start_time": "2023-06-22T22:38:53.600Z"
   },
   {
    "duration": 134,
    "start_time": "2023-06-22T22:38:53.625Z"
   },
   {
    "duration": 4602,
    "start_time": "2023-06-22T22:38:53.761Z"
   },
   {
    "duration": 1516,
    "start_time": "2023-06-22T22:39:08.789Z"
   },
   {
    "duration": 52,
    "start_time": "2023-06-22T22:39:10.307Z"
   },
   {
    "duration": 3,
    "start_time": "2023-06-22T22:39:10.361Z"
   },
   {
    "duration": 32,
    "start_time": "2023-06-22T22:39:10.366Z"
   },
   {
    "duration": 56,
    "start_time": "2023-06-22T22:39:10.401Z"
   },
   {
    "duration": 10,
    "start_time": "2023-06-22T22:39:10.459Z"
   },
   {
    "duration": 329,
    "start_time": "2023-06-22T22:39:10.471Z"
   },
   {
    "duration": 325,
    "start_time": "2023-06-22T22:39:10.802Z"
   },
   {
    "duration": 31,
    "start_time": "2023-06-22T22:39:11.128Z"
   },
   {
    "duration": 1618,
    "start_time": "2023-06-22T22:39:11.161Z"
   },
   {
    "duration": 507,
    "start_time": "2023-06-22T22:39:12.780Z"
   },
   {
    "duration": 21,
    "start_time": "2023-06-22T22:39:13.289Z"
   },
   {
    "duration": 9,
    "start_time": "2023-06-22T22:39:13.312Z"
   },
   {
    "duration": 5,
    "start_time": "2023-06-22T22:39:13.324Z"
   },
   {
    "duration": 26,
    "start_time": "2023-06-22T22:39:13.331Z"
   },
   {
    "duration": 100,
    "start_time": "2023-06-22T22:39:13.358Z"
   },
   {
    "duration": 3641,
    "start_time": "2023-06-22T22:39:13.461Z"
   },
   {
    "duration": 2006,
    "start_time": "2023-06-22T22:39:28.490Z"
   },
   {
    "duration": 94,
    "start_time": "2023-06-22T22:39:30.499Z"
   },
   {
    "duration": 60,
    "start_time": "2023-06-22T22:39:30.595Z"
   },
   {
    "duration": 45,
    "start_time": "2023-06-22T22:39:30.657Z"
   },
   {
    "duration": 83,
    "start_time": "2023-06-22T22:39:30.706Z"
   },
   {
    "duration": 65,
    "start_time": "2023-06-22T22:39:30.791Z"
   },
   {
    "duration": 580,
    "start_time": "2023-06-22T22:39:30.858Z"
   },
   {
    "duration": 291,
    "start_time": "2023-06-22T22:39:31.440Z"
   },
   {
    "duration": 8,
    "start_time": "2023-06-22T22:39:31.733Z"
   },
   {
    "duration": 1032,
    "start_time": "2023-06-22T22:39:31.743Z"
   },
   {
    "duration": 338,
    "start_time": "2023-06-22T22:39:32.778Z"
   },
   {
    "duration": 18,
    "start_time": "2023-06-22T22:39:33.118Z"
   },
   {
    "duration": 21,
    "start_time": "2023-06-22T22:39:33.138Z"
   },
   {
    "duration": 13,
    "start_time": "2023-06-22T22:39:33.162Z"
   },
   {
    "duration": 24,
    "start_time": "2023-06-22T22:39:33.176Z"
   },
   {
    "duration": 155,
    "start_time": "2023-06-22T22:39:33.202Z"
   },
   {
    "duration": 3657,
    "start_time": "2023-06-22T22:39:33.359Z"
   },
   {
    "duration": 1523,
    "start_time": "2023-06-22T22:39:47.117Z"
   },
   {
    "duration": 52,
    "start_time": "2023-06-22T22:39:48.642Z"
   },
   {
    "duration": 4,
    "start_time": "2023-06-22T22:39:48.696Z"
   },
   {
    "duration": 22,
    "start_time": "2023-06-22T22:39:48.702Z"
   },
   {
    "duration": 38,
    "start_time": "2023-06-22T22:39:48.725Z"
   },
   {
    "duration": 13,
    "start_time": "2023-06-22T22:39:48.766Z"
   },
   {
    "duration": 290,
    "start_time": "2023-06-22T22:39:48.781Z"
   },
   {
    "duration": 506,
    "start_time": "2023-06-22T22:39:49.073Z"
   },
   {
    "duration": 8,
    "start_time": "2023-06-22T22:39:49.581Z"
   },
   {
    "duration": 1550,
    "start_time": "2023-06-22T22:39:49.592Z"
   },
   {
    "duration": 371,
    "start_time": "2023-06-22T22:39:51.144Z"
   },
   {
    "duration": 22,
    "start_time": "2023-06-22T22:39:51.517Z"
   },
   {
    "duration": 28,
    "start_time": "2023-06-22T22:39:51.541Z"
   },
   {
    "duration": 33,
    "start_time": "2023-06-22T22:39:51.571Z"
   },
   {
    "duration": 48,
    "start_time": "2023-06-22T22:39:51.606Z"
   },
   {
    "duration": 200,
    "start_time": "2023-06-22T22:39:51.656Z"
   },
   {
    "duration": 3612,
    "start_time": "2023-06-22T22:39:51.858Z"
   },
   {
    "duration": 1574,
    "start_time": "2023-06-22T22:40:03.956Z"
   },
   {
    "duration": 54,
    "start_time": "2023-06-22T22:40:05.532Z"
   },
   {
    "duration": 4,
    "start_time": "2023-06-22T22:40:05.588Z"
   },
   {
    "duration": 46,
    "start_time": "2023-06-22T22:40:05.593Z"
   },
   {
    "duration": 64,
    "start_time": "2023-06-22T22:40:05.642Z"
   },
   {
    "duration": 18,
    "start_time": "2023-06-22T22:40:05.707Z"
   },
   {
    "duration": 531,
    "start_time": "2023-06-22T22:40:05.726Z"
   },
   {
    "duration": 561,
    "start_time": "2023-06-22T22:40:06.258Z"
   },
   {
    "duration": 10,
    "start_time": "2023-06-22T22:40:06.855Z"
   },
   {
    "duration": 1300,
    "start_time": "2023-06-22T22:40:06.867Z"
   },
   {
    "duration": 371,
    "start_time": "2023-06-22T22:40:08.169Z"
   },
   {
    "duration": 30,
    "start_time": "2023-06-22T22:40:08.542Z"
   },
   {
    "duration": 9,
    "start_time": "2023-06-22T22:40:08.574Z"
   },
   {
    "duration": 4,
    "start_time": "2023-06-22T22:40:08.586Z"
   },
   {
    "duration": 24,
    "start_time": "2023-06-22T22:40:08.592Z"
   },
   {
    "duration": 45,
    "start_time": "2023-06-22T22:40:08.618Z"
   },
   {
    "duration": 3561,
    "start_time": "2023-06-22T22:40:08.755Z"
   },
   {
    "duration": 11950,
    "start_time": "2023-06-22T22:40:12.317Z"
   },
   {
    "duration": 6500,
    "start_time": "2023-06-22T22:40:24.269Z"
   },
   {
    "duration": 2386,
    "start_time": "2023-06-22T22:40:30.771Z"
   },
   {
    "duration": 5998,
    "start_time": "2023-06-22T22:40:33.158Z"
   },
   {
    "duration": 5,
    "start_time": "2023-06-22T22:40:39.158Z"
   },
   {
    "duration": 1570,
    "start_time": "2023-06-22T22:49:38.693Z"
   },
   {
    "duration": 52,
    "start_time": "2023-06-22T22:49:40.266Z"
   },
   {
    "duration": 3,
    "start_time": "2023-06-22T22:49:40.320Z"
   },
   {
    "duration": 17,
    "start_time": "2023-06-22T22:49:40.326Z"
   },
   {
    "duration": 48,
    "start_time": "2023-06-22T22:49:40.345Z"
   },
   {
    "duration": 9,
    "start_time": "2023-06-22T22:49:40.394Z"
   },
   {
    "duration": 286,
    "start_time": "2023-06-22T22:49:40.404Z"
   },
   {
    "duration": 323,
    "start_time": "2023-06-22T22:49:40.692Z"
   },
   {
    "duration": 8,
    "start_time": "2023-06-22T22:49:41.017Z"
   },
   {
    "duration": 1147,
    "start_time": "2023-06-22T22:49:41.028Z"
   },
   {
    "duration": 802,
    "start_time": "2023-06-22T22:49:42.177Z"
   },
   {
    "duration": 80,
    "start_time": "2023-06-22T22:49:42.981Z"
   },
   {
    "duration": 9,
    "start_time": "2023-06-22T22:49:43.063Z"
   },
   {
    "duration": 7,
    "start_time": "2023-06-22T22:49:43.073Z"
   },
   {
    "duration": 11,
    "start_time": "2023-06-22T22:49:43.082Z"
   },
   {
    "duration": 261,
    "start_time": "2023-06-22T22:49:43.094Z"
   },
   {
    "duration": 3949,
    "start_time": "2023-06-22T22:49:43.359Z"
   },
   {
    "duration": 11877,
    "start_time": "2023-06-22T22:49:47.310Z"
   },
   {
    "duration": 6382,
    "start_time": "2023-06-22T22:49:59.189Z"
   },
   {
    "duration": 2424,
    "start_time": "2023-06-22T22:50:05.573Z"
   },
   {
    "duration": 6014,
    "start_time": "2023-06-22T22:50:07.999Z"
   },
   {
    "duration": 6,
    "start_time": "2023-06-22T22:50:14.014Z"
   },
   {
    "duration": 175,
    "start_time": "2023-06-22T22:59:01.039Z"
   },
   {
    "duration": 390,
    "start_time": "2023-06-22T22:59:07.588Z"
   },
   {
    "duration": 1565,
    "start_time": "2023-06-22T22:59:58.558Z"
   },
   {
    "duration": 52,
    "start_time": "2023-06-22T23:00:00.125Z"
   },
   {
    "duration": 53,
    "start_time": "2023-06-22T23:00:00.179Z"
   },
   {
    "duration": 191,
    "start_time": "2023-06-22T23:00:00.234Z"
   },
   {
    "duration": 158,
    "start_time": "2023-06-22T23:00:00.427Z"
   },
   {
    "duration": 71,
    "start_time": "2023-06-22T23:00:00.587Z"
   },
   {
    "duration": 308,
    "start_time": "2023-06-22T23:00:00.660Z"
   },
   {
    "duration": 308,
    "start_time": "2023-06-22T23:00:00.970Z"
   },
   {
    "duration": 8,
    "start_time": "2023-06-22T23:00:01.280Z"
   },
   {
    "duration": 1599,
    "start_time": "2023-06-22T23:00:01.291Z"
   },
   {
    "duration": 635,
    "start_time": "2023-06-22T23:00:02.892Z"
   },
   {
    "duration": 337,
    "start_time": "2023-06-22T23:00:03.529Z"
   },
   {
    "duration": 20,
    "start_time": "2023-06-22T23:00:03.868Z"
   },
   {
    "duration": 51,
    "start_time": "2023-06-22T23:00:03.890Z"
   },
   {
    "duration": 62,
    "start_time": "2023-06-22T23:00:03.943Z"
   },
   {
    "duration": 35,
    "start_time": "2023-06-22T23:00:04.007Z"
   },
   {
    "duration": 410,
    "start_time": "2023-06-22T23:00:04.044Z"
   },
   {
    "duration": 3501,
    "start_time": "2023-06-22T23:00:04.457Z"
   },
   {
    "duration": 11831,
    "start_time": "2023-06-22T23:00:07.960Z"
   },
   {
    "duration": 6402,
    "start_time": "2023-06-22T23:00:19.794Z"
   },
   {
    "duration": 2431,
    "start_time": "2023-06-22T23:00:26.197Z"
   },
   {
    "duration": 6206,
    "start_time": "2023-06-22T23:00:28.630Z"
   },
   {
    "duration": 6,
    "start_time": "2023-06-22T23:00:34.838Z"
   },
   {
    "duration": 147,
    "start_time": "2023-06-22T23:04:45.464Z"
   },
   {
    "duration": 1556,
    "start_time": "2023-06-22T23:07:01.392Z"
   },
   {
    "duration": 53,
    "start_time": "2023-06-22T23:07:02.950Z"
   },
   {
    "duration": 3,
    "start_time": "2023-06-22T23:07:03.005Z"
   },
   {
    "duration": 100,
    "start_time": "2023-06-22T23:07:03.010Z"
   },
   {
    "duration": 67,
    "start_time": "2023-06-22T23:07:03.112Z"
   },
   {
    "duration": 19,
    "start_time": "2023-06-22T23:07:03.180Z"
   },
   {
    "duration": 273,
    "start_time": "2023-06-22T23:07:03.201Z"
   },
   {
    "duration": 447,
    "start_time": "2023-06-22T23:07:03.476Z"
   },
   {
    "duration": 36,
    "start_time": "2023-06-22T23:07:03.925Z"
   },
   {
    "duration": 1517,
    "start_time": "2023-06-22T23:07:03.962Z"
   },
   {
    "duration": 356,
    "start_time": "2023-06-22T23:07:05.481Z"
   },
   {
    "duration": 328,
    "start_time": "2023-06-22T23:07:05.838Z"
   },
   {
    "duration": 21,
    "start_time": "2023-06-22T23:07:06.168Z"
   },
   {
    "duration": 36,
    "start_time": "2023-06-22T23:07:06.192Z"
   },
   {
    "duration": 57,
    "start_time": "2023-06-22T23:07:06.230Z"
   },
   {
    "duration": 48,
    "start_time": "2023-06-22T23:07:06.289Z"
   },
   {
    "duration": 120,
    "start_time": "2023-06-22T23:07:06.338Z"
   },
   {
    "duration": 3576,
    "start_time": "2023-06-22T23:07:06.461Z"
   },
   {
    "duration": 11794,
    "start_time": "2023-06-22T23:07:10.039Z"
   },
   {
    "duration": 6518,
    "start_time": "2023-06-22T23:07:21.835Z"
   },
   {
    "duration": 2285,
    "start_time": "2023-06-22T23:07:28.355Z"
   },
   {
    "duration": 6297,
    "start_time": "2023-06-22T23:07:30.642Z"
   },
   {
    "duration": 6,
    "start_time": "2023-06-22T23:07:36.941Z"
   },
   {
    "duration": 1706,
    "start_time": "2023-06-22T23:17:43.656Z"
   },
   {
    "duration": 50,
    "start_time": "2023-06-22T23:17:45.364Z"
   },
   {
    "duration": 3,
    "start_time": "2023-06-22T23:17:45.416Z"
   },
   {
    "duration": 30,
    "start_time": "2023-06-22T23:17:45.421Z"
   },
   {
    "duration": 60,
    "start_time": "2023-06-22T23:17:45.453Z"
   },
   {
    "duration": 11,
    "start_time": "2023-06-22T23:17:45.515Z"
   },
   {
    "duration": 268,
    "start_time": "2023-06-22T23:17:45.528Z"
   },
   {
    "duration": 281,
    "start_time": "2023-06-22T23:17:45.798Z"
   },
   {
    "duration": 9,
    "start_time": "2023-06-22T23:17:46.081Z"
   },
   {
    "duration": 1599,
    "start_time": "2023-06-22T23:17:46.092Z"
   },
   {
    "duration": 511,
    "start_time": "2023-06-22T23:17:47.693Z"
   },
   {
    "duration": 336,
    "start_time": "2023-06-22T23:17:48.206Z"
   },
   {
    "duration": 31,
    "start_time": "2023-06-22T23:17:48.544Z"
   },
   {
    "duration": 9,
    "start_time": "2023-06-22T23:17:48.577Z"
   },
   {
    "duration": 6,
    "start_time": "2023-06-22T23:17:48.588Z"
   },
   {
    "duration": 10,
    "start_time": "2023-06-22T23:17:48.596Z"
   },
   {
    "duration": 154,
    "start_time": "2023-06-22T23:17:48.608Z"
   },
   {
    "duration": 3490,
    "start_time": "2023-06-22T23:17:48.764Z"
   },
   {
    "duration": 11640,
    "start_time": "2023-06-22T23:17:52.256Z"
   },
   {
    "duration": 6105,
    "start_time": "2023-06-22T23:18:03.898Z"
   },
   {
    "duration": 2318,
    "start_time": "2023-06-22T23:18:10.005Z"
   },
   {
    "duration": 6057,
    "start_time": "2023-06-22T23:18:12.324Z"
   },
   {
    "duration": 6,
    "start_time": "2023-06-22T23:18:18.383Z"
   },
   {
    "duration": 1579,
    "start_time": "2023-06-23T00:13:30.732Z"
   },
   {
    "duration": 53,
    "start_time": "2023-06-23T00:13:32.313Z"
   },
   {
    "duration": 4,
    "start_time": "2023-06-23T00:13:32.368Z"
   },
   {
    "duration": 49,
    "start_time": "2023-06-23T00:13:32.374Z"
   },
   {
    "duration": 49,
    "start_time": "2023-06-23T00:13:32.426Z"
   },
   {
    "duration": 10,
    "start_time": "2023-06-23T00:13:32.477Z"
   },
   {
    "duration": 413,
    "start_time": "2023-06-23T00:13:32.489Z"
   },
   {
    "duration": 537,
    "start_time": "2023-06-23T00:13:32.954Z"
   },
   {
    "duration": 7,
    "start_time": "2023-06-23T00:13:33.493Z"
   },
   {
    "duration": 1279,
    "start_time": "2023-06-23T00:13:33.502Z"
   },
   {
    "duration": 369,
    "start_time": "2023-06-23T00:13:34.782Z"
   },
   {
    "duration": 346,
    "start_time": "2023-06-23T00:13:35.154Z"
   },
   {
    "duration": 27,
    "start_time": "2023-06-23T00:13:35.502Z"
   },
   {
    "duration": 53,
    "start_time": "2023-06-23T00:13:35.532Z"
   },
   {
    "duration": 9,
    "start_time": "2023-06-23T00:13:35.588Z"
   },
   {
    "duration": 39,
    "start_time": "2023-06-23T00:13:35.599Z"
   },
   {
    "duration": 215,
    "start_time": "2023-06-23T00:13:35.640Z"
   },
   {
    "duration": 19,
    "start_time": "2023-06-23T00:13:35.857Z"
   },
   {
    "duration": 136,
    "start_time": "2023-06-23T00:13:35.955Z"
   },
   {
    "duration": 0,
    "start_time": "2023-06-23T00:13:36.092Z"
   },
   {
    "duration": 0,
    "start_time": "2023-06-23T00:13:36.094Z"
   },
   {
    "duration": 0,
    "start_time": "2023-06-23T00:13:36.095Z"
   },
   {
    "duration": 0,
    "start_time": "2023-06-23T00:13:36.096Z"
   },
   {
    "duration": 0,
    "start_time": "2023-06-23T00:13:36.097Z"
   },
   {
    "duration": 0,
    "start_time": "2023-06-23T00:13:36.098Z"
   },
   {
    "duration": 1577,
    "start_time": "2023-06-23T00:14:06.751Z"
   },
   {
    "duration": 50,
    "start_time": "2023-06-23T00:14:08.331Z"
   },
   {
    "duration": 3,
    "start_time": "2023-06-23T00:14:08.383Z"
   },
   {
    "duration": 15,
    "start_time": "2023-06-23T00:14:08.387Z"
   },
   {
    "duration": 29,
    "start_time": "2023-06-23T00:14:08.405Z"
   },
   {
    "duration": 22,
    "start_time": "2023-06-23T00:14:08.435Z"
   },
   {
    "duration": 266,
    "start_time": "2023-06-23T00:14:08.459Z"
   },
   {
    "duration": 289,
    "start_time": "2023-06-23T00:14:08.726Z"
   },
   {
    "duration": 8,
    "start_time": "2023-06-23T00:14:09.017Z"
   },
   {
    "duration": 897,
    "start_time": "2023-06-23T00:14:09.027Z"
   },
   {
    "duration": 367,
    "start_time": "2023-06-23T00:14:09.926Z"
   },
   {
    "duration": 331,
    "start_time": "2023-06-23T00:14:10.295Z"
   },
   {
    "duration": 31,
    "start_time": "2023-06-23T00:14:10.628Z"
   },
   {
    "duration": 8,
    "start_time": "2023-06-23T00:14:10.662Z"
   },
   {
    "duration": 18,
    "start_time": "2023-06-23T00:14:10.671Z"
   },
   {
    "duration": 42,
    "start_time": "2023-06-23T00:14:10.690Z"
   },
   {
    "duration": 127,
    "start_time": "2023-06-23T00:14:10.734Z"
   },
   {
    "duration": 121,
    "start_time": "2023-06-23T00:14:10.863Z"
   },
   {
    "duration": 164,
    "start_time": "2023-06-23T00:14:10.986Z"
   },
   {
    "duration": 0,
    "start_time": "2023-06-23T00:14:11.153Z"
   },
   {
    "duration": 0,
    "start_time": "2023-06-23T00:14:11.155Z"
   },
   {
    "duration": 0,
    "start_time": "2023-06-23T00:14:11.156Z"
   },
   {
    "duration": 0,
    "start_time": "2023-06-23T00:14:11.157Z"
   },
   {
    "duration": 0,
    "start_time": "2023-06-23T00:14:11.158Z"
   },
   {
    "duration": 0,
    "start_time": "2023-06-23T00:14:11.159Z"
   },
   {
    "duration": 1675,
    "start_time": "2023-06-23T00:14:29.187Z"
   },
   {
    "duration": 54,
    "start_time": "2023-06-23T00:14:30.864Z"
   },
   {
    "duration": 4,
    "start_time": "2023-06-23T00:14:30.919Z"
   },
   {
    "duration": 51,
    "start_time": "2023-06-23T00:14:30.925Z"
   },
   {
    "duration": 70,
    "start_time": "2023-06-23T00:14:30.978Z"
   },
   {
    "duration": 13,
    "start_time": "2023-06-23T00:14:31.050Z"
   },
   {
    "duration": 295,
    "start_time": "2023-06-23T00:14:31.065Z"
   },
   {
    "duration": 317,
    "start_time": "2023-06-23T00:14:31.362Z"
   },
   {
    "duration": 8,
    "start_time": "2023-06-23T00:14:31.682Z"
   },
   {
    "duration": 1175,
    "start_time": "2023-06-23T00:14:31.692Z"
   },
   {
    "duration": 705,
    "start_time": "2023-06-23T00:14:32.869Z"
   },
   {
    "duration": 571,
    "start_time": "2023-06-23T00:14:33.576Z"
   },
   {
    "duration": 18,
    "start_time": "2023-06-23T00:14:34.154Z"
   },
   {
    "duration": 10,
    "start_time": "2023-06-23T00:14:34.175Z"
   },
   {
    "duration": 6,
    "start_time": "2023-06-23T00:14:34.187Z"
   },
   {
    "duration": 14,
    "start_time": "2023-06-23T00:14:34.195Z"
   },
   {
    "duration": 245,
    "start_time": "2023-06-23T00:14:34.211Z"
   },
   {
    "duration": 4,
    "start_time": "2023-06-23T00:14:34.461Z"
   },
   {
    "duration": 296,
    "start_time": "2023-06-23T00:14:34.467Z"
   },
   {
    "duration": 0,
    "start_time": "2023-06-23T00:14:34.764Z"
   },
   {
    "duration": 0,
    "start_time": "2023-06-23T00:14:34.766Z"
   },
   {
    "duration": 0,
    "start_time": "2023-06-23T00:14:34.767Z"
   },
   {
    "duration": 0,
    "start_time": "2023-06-23T00:14:34.768Z"
   },
   {
    "duration": 0,
    "start_time": "2023-06-23T00:14:34.769Z"
   },
   {
    "duration": 0,
    "start_time": "2023-06-23T00:14:34.771Z"
   },
   {
    "duration": 1607,
    "start_time": "2023-06-23T00:16:04.346Z"
   },
   {
    "duration": 52,
    "start_time": "2023-06-23T00:16:05.956Z"
   },
   {
    "duration": 4,
    "start_time": "2023-06-23T00:16:06.010Z"
   },
   {
    "duration": 30,
    "start_time": "2023-06-23T00:16:06.016Z"
   },
   {
    "duration": 60,
    "start_time": "2023-06-23T00:16:06.047Z"
   },
   {
    "duration": 12,
    "start_time": "2023-06-23T00:16:06.108Z"
   },
   {
    "duration": 317,
    "start_time": "2023-06-23T00:16:06.122Z"
   },
   {
    "duration": 314,
    "start_time": "2023-06-23T00:16:06.441Z"
   },
   {
    "duration": 10,
    "start_time": "2023-06-23T00:16:06.757Z"
   },
   {
    "duration": 1498,
    "start_time": "2023-06-23T00:16:06.771Z"
   },
   {
    "duration": 695,
    "start_time": "2023-06-23T00:16:08.271Z"
   },
   {
    "duration": 339,
    "start_time": "2023-06-23T00:16:08.968Z"
   },
   {
    "duration": 19,
    "start_time": "2023-06-23T00:16:09.309Z"
   },
   {
    "duration": 29,
    "start_time": "2023-06-23T00:16:09.329Z"
   },
   {
    "duration": 15,
    "start_time": "2023-06-23T00:16:09.360Z"
   },
   {
    "duration": 47,
    "start_time": "2023-06-23T00:16:09.377Z"
   },
   {
    "duration": 130,
    "start_time": "2023-06-23T00:16:09.425Z"
   },
   {
    "duration": 97,
    "start_time": "2023-06-23T00:16:09.557Z"
   },
   {
    "duration": 15,
    "start_time": "2023-06-23T00:16:09.656Z"
   },
   {
    "duration": 3271,
    "start_time": "2023-06-23T00:16:09.673Z"
   },
   {
    "duration": 11681,
    "start_time": "2023-06-23T00:16:12.946Z"
   },
   {
    "duration": 6828,
    "start_time": "2023-06-23T00:16:24.628Z"
   },
   {
    "duration": 2292,
    "start_time": "2023-06-23T00:16:31.458Z"
   },
   {
    "duration": 6499,
    "start_time": "2023-06-23T00:16:33.751Z"
   },
   {
    "duration": 7,
    "start_time": "2023-06-23T00:16:40.252Z"
   },
   {
    "duration": 1528,
    "start_time": "2023-06-23T00:17:18.162Z"
   },
   {
    "duration": 54,
    "start_time": "2023-06-23T00:17:19.692Z"
   },
   {
    "duration": 59,
    "start_time": "2023-06-23T00:17:19.748Z"
   },
   {
    "duration": 59,
    "start_time": "2023-06-23T00:17:19.809Z"
   },
   {
    "duration": 43,
    "start_time": "2023-06-23T00:17:19.870Z"
   },
   {
    "duration": 10,
    "start_time": "2023-06-23T00:17:19.915Z"
   },
   {
    "duration": 284,
    "start_time": "2023-06-23T00:17:19.927Z"
   },
   {
    "duration": 566,
    "start_time": "2023-06-23T00:17:20.213Z"
   },
   {
    "duration": 8,
    "start_time": "2023-06-23T00:17:20.781Z"
   },
   {
    "duration": 1593,
    "start_time": "2023-06-23T00:17:20.792Z"
   },
   {
    "duration": 401,
    "start_time": "2023-06-23T00:17:22.387Z"
   },
   {
    "duration": 351,
    "start_time": "2023-06-23T00:17:22.790Z"
   },
   {
    "duration": 20,
    "start_time": "2023-06-23T00:17:23.153Z"
   },
   {
    "duration": 20,
    "start_time": "2023-06-23T00:17:23.175Z"
   },
   {
    "duration": 18,
    "start_time": "2023-06-23T00:17:23.198Z"
   },
   {
    "duration": 27,
    "start_time": "2023-06-23T00:17:23.219Z"
   },
   {
    "duration": 207,
    "start_time": "2023-06-23T00:17:23.248Z"
   },
   {
    "duration": 3,
    "start_time": "2023-06-23T00:17:23.457Z"
   },
   {
    "duration": 36,
    "start_time": "2023-06-23T00:17:23.462Z"
   },
   {
    "duration": 58,
    "start_time": "2023-06-23T00:17:23.500Z"
   },
   {
    "duration": 3621,
    "start_time": "2023-06-23T00:17:23.560Z"
   },
   {
    "duration": 11720,
    "start_time": "2023-06-23T00:17:27.183Z"
   },
   {
    "duration": 6534,
    "start_time": "2023-06-23T00:17:38.905Z"
   },
   {
    "duration": 2336,
    "start_time": "2023-06-23T00:17:45.441Z"
   },
   {
    "duration": 6604,
    "start_time": "2023-06-23T00:17:47.778Z"
   },
   {
    "duration": 7,
    "start_time": "2023-06-23T00:17:54.383Z"
   },
   {
    "duration": 1496,
    "start_time": "2023-06-23T00:18:48.571Z"
   },
   {
    "duration": 54,
    "start_time": "2023-06-23T00:18:50.069Z"
   },
   {
    "duration": 9,
    "start_time": "2023-06-23T00:18:50.124Z"
   },
   {
    "duration": 40,
    "start_time": "2023-06-23T00:18:50.135Z"
   },
   {
    "duration": 128,
    "start_time": "2023-06-23T00:18:50.177Z"
   },
   {
    "duration": 20,
    "start_time": "2023-06-23T00:18:50.306Z"
   },
   {
    "duration": 648,
    "start_time": "2023-06-23T00:18:50.328Z"
   },
   {
    "duration": 676,
    "start_time": "2023-06-23T00:18:50.978Z"
   },
   {
    "duration": 15,
    "start_time": "2023-06-23T00:18:51.656Z"
   },
   {
    "duration": 1170,
    "start_time": "2023-06-23T00:18:51.674Z"
   },
   {
    "duration": 391,
    "start_time": "2023-06-23T00:18:52.846Z"
   },
   {
    "duration": 355,
    "start_time": "2023-06-23T00:18:53.238Z"
   },
   {
    "duration": 27,
    "start_time": "2023-06-23T00:18:53.596Z"
   },
   {
    "duration": 27,
    "start_time": "2023-06-23T00:18:53.627Z"
   },
   {
    "duration": 106,
    "start_time": "2023-06-23T00:18:53.656Z"
   },
   {
    "duration": 54,
    "start_time": "2023-06-23T00:18:53.763Z"
   },
   {
    "duration": 38,
    "start_time": "2023-06-23T00:18:53.819Z"
   },
   {
    "duration": 200,
    "start_time": "2023-06-23T00:18:53.860Z"
   },
   {
    "duration": 29,
    "start_time": "2023-06-23T00:18:54.062Z"
   },
   {
    "duration": 64,
    "start_time": "2023-06-23T00:18:54.093Z"
   },
   {
    "duration": 3634,
    "start_time": "2023-06-23T00:18:54.161Z"
   },
   {
    "duration": 11775,
    "start_time": "2023-06-23T00:18:57.797Z"
   },
   {
    "duration": 6464,
    "start_time": "2023-06-23T00:19:09.574Z"
   },
   {
    "duration": 2393,
    "start_time": "2023-06-23T00:19:16.040Z"
   },
   {
    "duration": 6461,
    "start_time": "2023-06-23T00:19:18.435Z"
   },
   {
    "duration": 6,
    "start_time": "2023-06-23T00:19:24.897Z"
   },
   {
    "duration": 1562,
    "start_time": "2023-06-23T00:19:35.761Z"
   },
   {
    "duration": 52,
    "start_time": "2023-06-23T00:19:37.325Z"
   },
   {
    "duration": 4,
    "start_time": "2023-06-23T00:19:37.379Z"
   },
   {
    "duration": 25,
    "start_time": "2023-06-23T00:19:37.384Z"
   },
   {
    "duration": 64,
    "start_time": "2023-06-23T00:19:37.412Z"
   },
   {
    "duration": 12,
    "start_time": "2023-06-23T00:19:37.478Z"
   },
   {
    "duration": 306,
    "start_time": "2023-06-23T00:19:37.492Z"
   },
   {
    "duration": 531,
    "start_time": "2023-06-23T00:19:37.800Z"
   },
   {
    "duration": 11,
    "start_time": "2023-06-23T00:19:38.355Z"
   },
   {
    "duration": 1580,
    "start_time": "2023-06-23T00:19:38.368Z"
   },
   {
    "duration": 378,
    "start_time": "2023-06-23T00:19:39.950Z"
   },
   {
    "duration": 375,
    "start_time": "2023-06-23T00:19:40.330Z"
   },
   {
    "duration": 20,
    "start_time": "2023-06-23T00:19:40.707Z"
   },
   {
    "duration": 29,
    "start_time": "2023-06-23T00:19:40.730Z"
   },
   {
    "duration": 4,
    "start_time": "2023-06-23T00:19:40.761Z"
   },
   {
    "duration": 11,
    "start_time": "2023-06-23T00:19:40.767Z"
   },
   {
    "duration": 175,
    "start_time": "2023-06-23T00:19:40.780Z"
   },
   {
    "duration": 105,
    "start_time": "2023-06-23T00:19:40.959Z"
   },
   {
    "duration": 41,
    "start_time": "2023-06-23T00:19:41.066Z"
   },
   {
    "duration": 44,
    "start_time": "2023-06-23T00:19:41.109Z"
   },
   {
    "duration": 3609,
    "start_time": "2023-06-23T00:19:41.160Z"
   },
   {
    "duration": 11796,
    "start_time": "2023-06-23T00:19:44.771Z"
   },
   {
    "duration": 7057,
    "start_time": "2023-06-23T00:19:56.568Z"
   },
   {
    "duration": 2276,
    "start_time": "2023-06-23T00:20:03.627Z"
   },
   {
    "duration": 6472,
    "start_time": "2023-06-23T00:20:05.905Z"
   },
   {
    "duration": 10,
    "start_time": "2023-06-23T00:20:12.379Z"
   },
   {
    "duration": 1538,
    "start_time": "2023-06-23T00:20:55.868Z"
   },
   {
    "duration": 54,
    "start_time": "2023-06-23T00:20:57.408Z"
   },
   {
    "duration": 3,
    "start_time": "2023-06-23T00:20:57.464Z"
   },
   {
    "duration": 28,
    "start_time": "2023-06-23T00:20:57.469Z"
   },
   {
    "duration": 49,
    "start_time": "2023-06-23T00:20:57.499Z"
   },
   {
    "duration": 10,
    "start_time": "2023-06-23T00:20:57.549Z"
   },
   {
    "duration": 295,
    "start_time": "2023-06-23T00:20:57.561Z"
   },
   {
    "duration": 325,
    "start_time": "2023-06-23T00:20:57.858Z"
   },
   {
    "duration": 8,
    "start_time": "2023-06-23T00:20:58.186Z"
   },
   {
    "duration": 908,
    "start_time": "2023-06-23T00:20:58.196Z"
   },
   {
    "duration": 384,
    "start_time": "2023-06-23T00:20:59.107Z"
   },
   {
    "duration": 380,
    "start_time": "2023-06-23T00:20:59.494Z"
   },
   {
    "duration": 21,
    "start_time": "2023-06-23T00:20:59.876Z"
   },
   {
    "duration": 9,
    "start_time": "2023-06-23T00:20:59.900Z"
   },
   {
    "duration": 4,
    "start_time": "2023-06-23T00:20:59.911Z"
   },
   {
    "duration": 38,
    "start_time": "2023-06-23T00:20:59.917Z"
   },
   {
    "duration": 100,
    "start_time": "2023-06-23T00:20:59.958Z"
   },
   {
    "duration": 97,
    "start_time": "2023-06-23T00:21:00.157Z"
   },
   {
    "duration": 12,
    "start_time": "2023-06-23T00:21:00.256Z"
   },
   {
    "duration": 92,
    "start_time": "2023-06-23T00:21:00.271Z"
   },
   {
    "duration": 3424,
    "start_time": "2023-06-23T00:21:00.365Z"
   },
   {
    "duration": 11702,
    "start_time": "2023-06-23T00:21:03.791Z"
   },
   {
    "duration": 6381,
    "start_time": "2023-06-23T00:21:15.495Z"
   },
   {
    "duration": 2420,
    "start_time": "2023-06-23T00:21:21.878Z"
   },
   {
    "duration": 6208,
    "start_time": "2023-06-23T00:21:24.300Z"
   },
   {
    "duration": 7,
    "start_time": "2023-06-23T00:21:30.510Z"
   },
   {
    "duration": 1761,
    "start_time": "2023-06-23T00:23:11.327Z"
   },
   {
    "duration": 88,
    "start_time": "2023-06-23T00:23:13.090Z"
   },
   {
    "duration": 27,
    "start_time": "2023-06-23T00:23:13.180Z"
   },
   {
    "duration": 11,
    "start_time": "2023-06-23T00:23:13.253Z"
   },
   {
    "duration": 100,
    "start_time": "2023-06-23T00:23:13.268Z"
   },
   {
    "duration": 12,
    "start_time": "2023-06-23T00:23:13.370Z"
   },
   {
    "duration": 601,
    "start_time": "2023-06-23T00:23:13.384Z"
   },
   {
    "duration": 565,
    "start_time": "2023-06-23T00:23:13.987Z"
   },
   {
    "duration": 9,
    "start_time": "2023-06-23T00:23:14.554Z"
   },
   {
    "duration": 870,
    "start_time": "2023-06-23T00:23:14.565Z"
   },
   {
    "duration": 373,
    "start_time": "2023-06-23T00:23:15.437Z"
   },
   {
    "duration": 336,
    "start_time": "2023-06-23T00:23:15.812Z"
   },
   {
    "duration": 21,
    "start_time": "2023-06-23T00:23:16.153Z"
   },
   {
    "duration": 9,
    "start_time": "2023-06-23T00:23:16.177Z"
   },
   {
    "duration": 17,
    "start_time": "2023-06-23T00:23:16.188Z"
   },
   {
    "duration": 24,
    "start_time": "2023-06-23T00:23:16.206Z"
   },
   {
    "duration": 30,
    "start_time": "2023-06-23T00:23:16.232Z"
   },
   {
    "duration": 192,
    "start_time": "2023-06-23T00:23:16.265Z"
   },
   {
    "duration": 13,
    "start_time": "2023-06-23T00:23:16.460Z"
   },
   {
    "duration": 84,
    "start_time": "2023-06-23T00:23:16.475Z"
   },
   {
    "duration": 2859,
    "start_time": "2023-06-23T00:23:16.562Z"
   },
   {
    "duration": 9545,
    "start_time": "2023-06-23T00:23:19.422Z"
   },
   {
    "duration": 5854,
    "start_time": "2023-06-23T00:23:28.968Z"
   },
   {
    "duration": 1959,
    "start_time": "2023-06-23T00:23:34.824Z"
   },
   {
    "duration": 1649,
    "start_time": "2023-06-23T00:23:43.992Z"
   },
   {
    "duration": 50,
    "start_time": "2023-06-23T00:23:45.643Z"
   },
   {
    "duration": 273,
    "start_time": "2023-06-23T00:23:45.694Z"
   },
   {
    "duration": 160,
    "start_time": "2023-06-23T00:23:45.969Z"
   },
   {
    "duration": 99,
    "start_time": "2023-06-23T00:23:46.132Z"
   },
   {
    "duration": 26,
    "start_time": "2023-06-23T00:23:46.234Z"
   },
   {
    "duration": 566,
    "start_time": "2023-06-23T00:23:46.262Z"
   },
   {
    "duration": 553,
    "start_time": "2023-06-23T00:23:46.830Z"
   },
   {
    "duration": 9,
    "start_time": "2023-06-23T00:23:47.385Z"
   },
   {
    "duration": 1683,
    "start_time": "2023-06-23T00:23:47.396Z"
   },
   {
    "duration": 393,
    "start_time": "2023-06-23T00:23:49.081Z"
   },
   {
    "duration": 350,
    "start_time": "2023-06-23T00:23:49.476Z"
   },
   {
    "duration": 33,
    "start_time": "2023-06-23T00:23:49.828Z"
   },
   {
    "duration": 12,
    "start_time": "2023-06-23T00:23:49.864Z"
   },
   {
    "duration": 19,
    "start_time": "2023-06-23T00:23:49.878Z"
   },
   {
    "duration": 32,
    "start_time": "2023-06-23T00:23:49.899Z"
   },
   {
    "duration": 224,
    "start_time": "2023-06-23T00:23:49.933Z"
   },
   {
    "duration": 4,
    "start_time": "2023-06-23T00:23:50.159Z"
   },
   {
    "duration": 96,
    "start_time": "2023-06-23T00:23:50.166Z"
   },
   {
    "duration": 194,
    "start_time": "2023-06-23T00:23:50.265Z"
   },
   {
    "duration": 9011,
    "start_time": "2023-06-23T00:23:50.461Z"
   },
   {
    "duration": 9348,
    "start_time": "2023-06-23T00:23:59.474Z"
   },
   {
    "duration": 5539,
    "start_time": "2023-06-23T00:24:08.824Z"
   },
   {
    "duration": 1864,
    "start_time": "2023-06-23T00:24:14.365Z"
   },
   {
    "duration": 5837,
    "start_time": "2023-06-23T00:24:16.231Z"
   },
   {
    "duration": 6,
    "start_time": "2023-06-23T00:24:22.070Z"
   },
   {
    "duration": 1502,
    "start_time": "2023-06-23T00:24:46.736Z"
   },
   {
    "duration": 54,
    "start_time": "2023-06-23T00:24:48.240Z"
   },
   {
    "duration": 3,
    "start_time": "2023-06-23T00:24:48.299Z"
   },
   {
    "duration": 31,
    "start_time": "2023-06-23T00:24:48.305Z"
   },
   {
    "duration": 33,
    "start_time": "2023-06-23T00:24:48.338Z"
   },
   {
    "duration": 9,
    "start_time": "2023-06-23T00:24:48.373Z"
   },
   {
    "duration": 514,
    "start_time": "2023-06-23T00:24:48.384Z"
   },
   {
    "duration": 679,
    "start_time": "2023-06-23T00:24:48.900Z"
   },
   {
    "duration": 9,
    "start_time": "2023-06-23T00:24:49.581Z"
   },
   {
    "duration": 1256,
    "start_time": "2023-06-23T00:24:49.592Z"
   },
   {
    "duration": 384,
    "start_time": "2023-06-23T00:24:50.849Z"
   },
   {
    "duration": 357,
    "start_time": "2023-06-23T00:24:51.234Z"
   },
   {
    "duration": 20,
    "start_time": "2023-06-23T00:24:51.595Z"
   },
   {
    "duration": 31,
    "start_time": "2023-06-23T00:24:51.617Z"
   },
   {
    "duration": 16,
    "start_time": "2023-06-23T00:24:51.650Z"
   },
   {
    "duration": 62,
    "start_time": "2023-06-23T00:24:51.667Z"
   },
   {
    "duration": 224,
    "start_time": "2023-06-23T00:24:51.732Z"
   },
   {
    "duration": 5,
    "start_time": "2023-06-23T00:24:51.959Z"
   },
   {
    "duration": 98,
    "start_time": "2023-06-23T00:24:51.966Z"
   },
   {
    "duration": 95,
    "start_time": "2023-06-23T00:24:52.067Z"
   },
   {
    "duration": 2463,
    "start_time": "2023-06-23T00:24:52.166Z"
   },
   {
    "duration": 9136,
    "start_time": "2023-06-23T00:24:54.632Z"
   },
   {
    "duration": 5861,
    "start_time": "2023-06-23T00:25:03.771Z"
   },
   {
    "duration": 1948,
    "start_time": "2023-06-23T00:25:09.634Z"
   },
   {
    "duration": 5611,
    "start_time": "2023-06-23T00:25:11.583Z"
   },
   {
    "duration": 6,
    "start_time": "2023-06-23T00:25:17.196Z"
   },
   {
    "duration": 2027,
    "start_time": "2023-06-23T00:33:19.940Z"
   },
   {
    "duration": 89,
    "start_time": "2023-06-23T00:33:21.969Z"
   },
   {
    "duration": 4,
    "start_time": "2023-06-23T00:33:22.060Z"
   },
   {
    "duration": 25,
    "start_time": "2023-06-23T00:33:22.066Z"
   },
   {
    "duration": 88,
    "start_time": "2023-06-23T00:33:22.093Z"
   },
   {
    "duration": 9,
    "start_time": "2023-06-23T00:33:22.182Z"
   },
   {
    "duration": 495,
    "start_time": "2023-06-23T00:33:22.193Z"
   },
   {
    "duration": 289,
    "start_time": "2023-06-23T00:33:22.690Z"
   },
   {
    "duration": 8,
    "start_time": "2023-06-23T00:33:22.981Z"
   },
   {
    "duration": 840,
    "start_time": "2023-06-23T00:33:22.991Z"
   },
   {
    "duration": 377,
    "start_time": "2023-06-23T00:33:23.833Z"
   },
   {
    "duration": 359,
    "start_time": "2023-06-23T00:33:24.212Z"
   },
   {
    "duration": 19,
    "start_time": "2023-06-23T00:33:24.573Z"
   },
   {
    "duration": 12,
    "start_time": "2023-06-23T00:33:24.595Z"
   },
   {
    "duration": 5,
    "start_time": "2023-06-23T00:33:24.608Z"
   },
   {
    "duration": 10,
    "start_time": "2023-06-23T00:33:24.615Z"
   },
   {
    "duration": 228,
    "start_time": "2023-06-23T00:33:24.627Z"
   },
   {
    "duration": 4,
    "start_time": "2023-06-23T00:33:24.857Z"
   },
   {
    "duration": 94,
    "start_time": "2023-06-23T00:33:24.862Z"
   },
   {
    "duration": 104,
    "start_time": "2023-06-23T00:33:24.958Z"
   },
   {
    "duration": 2360,
    "start_time": "2023-06-23T00:33:25.064Z"
   },
   {
    "duration": 9087,
    "start_time": "2023-06-23T00:33:27.426Z"
   },
   {
    "duration": 5687,
    "start_time": "2023-06-23T00:33:36.515Z"
   },
   {
    "duration": 1979,
    "start_time": "2023-06-23T00:33:42.203Z"
   },
   {
    "duration": 5570,
    "start_time": "2023-06-23T00:33:44.184Z"
   },
   {
    "duration": 6,
    "start_time": "2023-06-23T00:33:49.756Z"
   },
   {
    "duration": 990,
    "start_time": "2023-06-23T00:35:36.660Z"
   },
   {
    "duration": 5724,
    "start_time": "2023-06-23T00:35:40.944Z"
   },
   {
    "duration": 537,
    "start_time": "2023-06-23T00:35:51.194Z"
   },
   {
    "duration": 995,
    "start_time": "2023-06-23T00:35:54.859Z"
   },
   {
    "duration": 1038,
    "start_time": "2023-06-23T00:36:38.241Z"
   },
   {
    "duration": 6328,
    "start_time": "2023-06-23T00:36:42.375Z"
   },
   {
    "duration": 1791,
    "start_time": "2023-06-23T10:40:39.520Z"
   },
   {
    "duration": 152,
    "start_time": "2023-06-23T10:40:41.313Z"
   },
   {
    "duration": 4,
    "start_time": "2023-06-23T10:40:41.469Z"
   },
   {
    "duration": 11,
    "start_time": "2023-06-23T10:40:41.480Z"
   },
   {
    "duration": 42,
    "start_time": "2023-06-23T10:40:41.494Z"
   },
   {
    "duration": 10,
    "start_time": "2023-06-23T10:40:41.538Z"
   },
   {
    "duration": 284,
    "start_time": "2023-06-23T10:40:41.550Z"
   },
   {
    "duration": 401,
    "start_time": "2023-06-23T10:40:41.836Z"
   },
   {
    "duration": 20,
    "start_time": "2023-06-23T10:40:42.239Z"
   },
   {
    "duration": 1139,
    "start_time": "2023-06-23T10:40:42.260Z"
   },
   {
    "duration": 1080,
    "start_time": "2023-06-23T10:40:43.401Z"
   },
   {
    "duration": 743,
    "start_time": "2023-06-23T10:40:44.489Z"
   },
   {
    "duration": 53,
    "start_time": "2023-06-23T10:40:45.234Z"
   },
   {
    "duration": 8,
    "start_time": "2023-06-23T10:40:45.291Z"
   },
   {
    "duration": 5,
    "start_time": "2023-06-23T10:40:45.301Z"
   },
   {
    "duration": 8,
    "start_time": "2023-06-23T10:40:45.307Z"
   },
   {
    "duration": 263,
    "start_time": "2023-06-23T10:40:45.316Z"
   },
   {
    "duration": 4,
    "start_time": "2023-06-23T10:40:45.583Z"
   },
   {
    "duration": 228,
    "start_time": "2023-06-23T10:40:45.589Z"
   },
   {
    "duration": 156,
    "start_time": "2023-06-23T10:40:45.819Z"
   },
   {
    "duration": 2303,
    "start_time": "2023-06-23T10:40:45.976Z"
   },
   {
    "duration": 9140,
    "start_time": "2023-06-23T10:40:48.281Z"
   },
   {
    "duration": 6837,
    "start_time": "2023-06-23T10:40:57.422Z"
   },
   {
    "duration": 6801,
    "start_time": "2023-06-23T10:41:04.261Z"
   },
   {
    "duration": 18,
    "start_time": "2023-06-23T10:41:11.064Z"
   },
   {
    "duration": 132,
    "start_time": "2023-06-23T10:51:33.023Z"
   },
   {
    "duration": 6,
    "start_time": "2023-06-23T10:51:41.204Z"
   },
   {
    "duration": 10116,
    "start_time": "2023-06-23T10:51:46.246Z"
   },
   {
    "duration": 37952,
    "start_time": "2023-06-23T10:54:48.533Z"
   },
   {
    "duration": 72048,
    "start_time": "2023-06-23T10:56:27.455Z"
   },
   {
    "duration": 46355,
    "start_time": "2023-06-23T10:57:45.335Z"
   },
   {
    "duration": 45908,
    "start_time": "2023-06-23T10:58:48.913Z"
   },
   {
    "duration": 1612,
    "start_time": "2023-06-23T11:05:24.952Z"
   },
   {
    "duration": 60,
    "start_time": "2023-06-23T11:05:26.566Z"
   },
   {
    "duration": 4,
    "start_time": "2023-06-23T11:05:26.628Z"
   },
   {
    "duration": 12,
    "start_time": "2023-06-23T11:05:26.634Z"
   },
   {
    "duration": 28,
    "start_time": "2023-06-23T11:05:26.649Z"
   },
   {
    "duration": 10,
    "start_time": "2023-06-23T11:05:26.679Z"
   },
   {
    "duration": 292,
    "start_time": "2023-06-23T11:05:26.691Z"
   },
   {
    "duration": 283,
    "start_time": "2023-06-23T11:05:26.985Z"
   },
   {
    "duration": 10,
    "start_time": "2023-06-23T11:05:27.270Z"
   },
   {
    "duration": 940,
    "start_time": "2023-06-23T11:05:27.283Z"
   },
   {
    "duration": 395,
    "start_time": "2023-06-23T11:05:28.225Z"
   },
   {
    "duration": 373,
    "start_time": "2023-06-23T11:05:28.622Z"
   },
   {
    "duration": 20,
    "start_time": "2023-06-23T11:05:28.998Z"
   },
   {
    "duration": 8,
    "start_time": "2023-06-23T11:05:29.020Z"
   },
   {
    "duration": 4,
    "start_time": "2023-06-23T11:05:29.030Z"
   },
   {
    "duration": 32,
    "start_time": "2023-06-23T11:05:29.036Z"
   },
   {
    "duration": 105,
    "start_time": "2023-06-23T11:05:29.070Z"
   },
   {
    "duration": 91,
    "start_time": "2023-06-23T11:05:29.176Z"
   },
   {
    "duration": 13,
    "start_time": "2023-06-23T11:05:29.269Z"
   },
   {
    "duration": 91,
    "start_time": "2023-06-23T11:05:29.284Z"
   },
   {
    "duration": 3481,
    "start_time": "2023-06-23T11:05:29.377Z"
   },
   {
    "duration": 8725,
    "start_time": "2023-06-23T11:05:32.860Z"
   },
   {
    "duration": 46185,
    "start_time": "2023-06-23T11:05:41.587Z"
   },
   {
    "duration": 6328,
    "start_time": "2023-06-23T11:06:27.774Z"
   },
   {
    "duration": 7236,
    "start_time": "2023-06-23T11:06:34.105Z"
   },
   {
    "duration": 6,
    "start_time": "2023-06-23T11:06:41.343Z"
   },
   {
    "duration": 46991,
    "start_time": "2023-06-23T11:07:20.434Z"
   },
   {
    "duration": 140,
    "start_time": "2023-06-23T11:13:47.434Z"
   },
   {
    "duration": 1604,
    "start_time": "2023-06-23T11:14:33.507Z"
   },
   {
    "duration": 68,
    "start_time": "2023-06-23T11:14:35.113Z"
   },
   {
    "duration": 4,
    "start_time": "2023-06-23T11:14:35.183Z"
   },
   {
    "duration": 16,
    "start_time": "2023-06-23T11:14:35.189Z"
   },
   {
    "duration": 44,
    "start_time": "2023-06-23T11:14:35.207Z"
   },
   {
    "duration": 10,
    "start_time": "2023-06-23T11:14:35.252Z"
   },
   {
    "duration": 319,
    "start_time": "2023-06-23T11:14:35.263Z"
   },
   {
    "duration": 283,
    "start_time": "2023-06-23T11:14:35.584Z"
   },
   {
    "duration": 8,
    "start_time": "2023-06-23T11:14:35.869Z"
   },
   {
    "duration": 1414,
    "start_time": "2023-06-23T11:14:35.879Z"
   },
   {
    "duration": 787,
    "start_time": "2023-06-23T11:14:37.295Z"
   },
   {
    "duration": 524,
    "start_time": "2023-06-23T11:14:38.083Z"
   },
   {
    "duration": 25,
    "start_time": "2023-06-23T11:14:38.609Z"
   },
   {
    "duration": 29,
    "start_time": "2023-06-23T11:14:38.637Z"
   },
   {
    "duration": 7,
    "start_time": "2023-06-23T11:14:38.669Z"
   },
   {
    "duration": 10,
    "start_time": "2023-06-23T11:14:38.678Z"
   },
   {
    "duration": 178,
    "start_time": "2023-06-23T11:14:38.690Z"
   },
   {
    "duration": 4,
    "start_time": "2023-06-23T11:14:38.870Z"
   },
   {
    "duration": 18,
    "start_time": "2023-06-23T11:14:38.877Z"
   },
   {
    "duration": 76,
    "start_time": "2023-06-23T11:14:38.897Z"
   },
   {
    "duration": 2378,
    "start_time": "2023-06-23T11:14:38.975Z"
   },
   {
    "duration": 8875,
    "start_time": "2023-06-23T11:14:41.354Z"
   },
   {
    "duration": 47044,
    "start_time": "2023-06-23T11:14:50.231Z"
   },
   {
    "duration": 6042,
    "start_time": "2023-06-23T11:15:37.278Z"
   },
   {
    "duration": 6527,
    "start_time": "2023-06-23T11:15:43.323Z"
   },
   {
    "duration": 7,
    "start_time": "2023-06-23T11:15:49.852Z"
   },
   {
    "duration": 127,
    "start_time": "2023-06-23T11:16:44.622Z"
   },
   {
    "duration": 19,
    "start_time": "2023-06-23T11:16:53.778Z"
   },
   {
    "duration": 12,
    "start_time": "2023-06-23T11:17:07.562Z"
   },
   {
    "duration": 34084,
    "start_time": "2023-06-23T11:17:45.442Z"
   },
   {
    "duration": 101,
    "start_time": "2023-06-23T11:18:41.058Z"
   },
   {
    "duration": 33649,
    "start_time": "2023-06-23T11:19:37.735Z"
   },
   {
    "duration": 1615,
    "start_time": "2023-06-23T11:23:56.565Z"
   },
   {
    "duration": 53,
    "start_time": "2023-06-23T11:23:58.183Z"
   },
   {
    "duration": 4,
    "start_time": "2023-06-23T11:23:58.238Z"
   },
   {
    "duration": 31,
    "start_time": "2023-06-23T11:23:58.244Z"
   },
   {
    "duration": 49,
    "start_time": "2023-06-23T11:23:58.277Z"
   },
   {
    "duration": 12,
    "start_time": "2023-06-23T11:23:58.328Z"
   },
   {
    "duration": 288,
    "start_time": "2023-06-23T11:23:58.342Z"
   },
   {
    "duration": 304,
    "start_time": "2023-06-23T11:23:58.632Z"
   },
   {
    "duration": 9,
    "start_time": "2023-06-23T11:23:58.937Z"
   },
   {
    "duration": 920,
    "start_time": "2023-06-23T11:23:58.949Z"
   },
   {
    "duration": 403,
    "start_time": "2023-06-23T11:23:59.872Z"
   },
   {
    "duration": 360,
    "start_time": "2023-06-23T11:24:00.277Z"
   },
   {
    "duration": 40,
    "start_time": "2023-06-23T11:24:00.640Z"
   },
   {
    "duration": 20,
    "start_time": "2023-06-23T11:24:00.681Z"
   },
   {
    "duration": 35,
    "start_time": "2023-06-23T11:24:00.703Z"
   },
   {
    "duration": 47,
    "start_time": "2023-06-23T11:24:00.740Z"
   },
   {
    "duration": 78,
    "start_time": "2023-06-23T11:24:00.789Z"
   },
   {
    "duration": 133,
    "start_time": "2023-06-23T11:24:00.868Z"
   },
   {
    "duration": 61,
    "start_time": "2023-06-23T11:24:01.003Z"
   },
   {
    "duration": 104,
    "start_time": "2023-06-23T11:24:01.066Z"
   },
   {
    "duration": 3545,
    "start_time": "2023-06-23T11:24:01.173Z"
   },
   {
    "duration": 9082,
    "start_time": "2023-06-23T11:24:04.721Z"
   },
   {
    "duration": 34000,
    "start_time": "2023-06-23T11:24:13.806Z"
   },
   {
    "duration": 7006,
    "start_time": "2023-06-23T11:24:47.808Z"
   },
   {
    "duration": 7674,
    "start_time": "2023-06-23T11:24:54.816Z"
   },
   {
    "duration": 7,
    "start_time": "2023-06-23T11:25:02.491Z"
   },
   {
    "duration": 26575,
    "start_time": "2023-06-23T11:25:32.606Z"
   },
   {
    "duration": 14241,
    "start_time": "2023-06-23T11:26:23.748Z"
   },
   {
    "duration": 19949,
    "start_time": "2023-06-23T11:27:02.158Z"
   },
   {
    "duration": 55686,
    "start_time": "2023-06-23T11:28:46.462Z"
   },
   {
    "duration": 1515,
    "start_time": "2023-06-23T11:29:50.307Z"
   },
   {
    "duration": 55,
    "start_time": "2023-06-23T11:29:51.824Z"
   },
   {
    "duration": 3,
    "start_time": "2023-06-23T11:29:51.881Z"
   },
   {
    "duration": 29,
    "start_time": "2023-06-23T11:29:51.886Z"
   },
   {
    "duration": 36,
    "start_time": "2023-06-23T11:29:51.918Z"
   },
   {
    "duration": 13,
    "start_time": "2023-06-23T11:29:51.957Z"
   },
   {
    "duration": 320,
    "start_time": "2023-06-23T11:29:51.971Z"
   },
   {
    "duration": 322,
    "start_time": "2023-06-23T11:29:52.293Z"
   },
   {
    "duration": 9,
    "start_time": "2023-06-23T11:29:52.617Z"
   },
   {
    "duration": 1883,
    "start_time": "2023-06-23T11:29:52.628Z"
   },
   {
    "duration": 659,
    "start_time": "2023-06-23T11:29:54.514Z"
   },
   {
    "duration": 364,
    "start_time": "2023-06-23T11:29:55.175Z"
   },
   {
    "duration": 37,
    "start_time": "2023-06-23T11:29:55.541Z"
   },
   {
    "duration": 8,
    "start_time": "2023-06-23T11:29:55.581Z"
   },
   {
    "duration": 16,
    "start_time": "2023-06-23T11:29:55.591Z"
   },
   {
    "duration": 19,
    "start_time": "2023-06-23T11:29:55.609Z"
   },
   {
    "duration": 40,
    "start_time": "2023-06-23T11:29:55.630Z"
   },
   {
    "duration": 90,
    "start_time": "2023-06-23T11:29:55.678Z"
   },
   {
    "duration": 13,
    "start_time": "2023-06-23T11:29:55.770Z"
   },
   {
    "duration": 99,
    "start_time": "2023-06-23T11:29:55.868Z"
   },
   {
    "duration": 2252,
    "start_time": "2023-06-23T11:29:55.969Z"
   },
   {
    "duration": 8872,
    "start_time": "2023-06-23T11:29:58.223Z"
   },
   {
    "duration": 19452,
    "start_time": "2023-06-23T11:30:07.097Z"
   },
   {
    "duration": 134,
    "start_time": "2023-06-23T11:30:26.551Z"
   },
   {
    "duration": 1,
    "start_time": "2023-06-23T11:30:26.686Z"
   },
   {
    "duration": 0,
    "start_time": "2023-06-23T11:30:26.692Z"
   },
   {
    "duration": 12457,
    "start_time": "2023-06-23T11:31:01.849Z"
   },
   {
    "duration": 2056,
    "start_time": "2023-06-23T11:31:26.645Z"
   },
   {
    "duration": 91,
    "start_time": "2023-06-23T11:31:28.703Z"
   },
   {
    "duration": 4,
    "start_time": "2023-06-23T11:31:28.796Z"
   },
   {
    "duration": 75,
    "start_time": "2023-06-23T11:31:28.801Z"
   },
   {
    "duration": 91,
    "start_time": "2023-06-23T11:31:28.879Z"
   },
   {
    "duration": 10,
    "start_time": "2023-06-23T11:31:28.971Z"
   },
   {
    "duration": 536,
    "start_time": "2023-06-23T11:31:28.983Z"
   },
   {
    "duration": 284,
    "start_time": "2023-06-23T11:31:29.521Z"
   },
   {
    "duration": 9,
    "start_time": "2023-06-23T11:31:29.807Z"
   },
   {
    "duration": 944,
    "start_time": "2023-06-23T11:31:29.817Z"
   },
   {
    "duration": 407,
    "start_time": "2023-06-23T11:31:30.763Z"
   },
   {
    "duration": 377,
    "start_time": "2023-06-23T11:31:31.172Z"
   },
   {
    "duration": 29,
    "start_time": "2023-06-23T11:31:31.551Z"
   },
   {
    "duration": 155,
    "start_time": "2023-06-23T11:31:31.584Z"
   },
   {
    "duration": 113,
    "start_time": "2023-06-23T11:31:31.741Z"
   },
   {
    "duration": 55,
    "start_time": "2023-06-23T11:31:31.856Z"
   },
   {
    "duration": 254,
    "start_time": "2023-06-23T11:31:31.913Z"
   },
   {
    "duration": 4,
    "start_time": "2023-06-23T11:31:32.169Z"
   },
   {
    "duration": 56,
    "start_time": "2023-06-23T11:31:32.175Z"
   },
   {
    "duration": 142,
    "start_time": "2023-06-23T11:31:32.234Z"
   },
   {
    "duration": 2068,
    "start_time": "2023-06-23T11:31:32.379Z"
   },
   {
    "duration": 8001,
    "start_time": "2023-06-23T11:31:34.449Z"
   },
   {
    "duration": 12489,
    "start_time": "2023-06-23T11:31:42.452Z"
   },
   {
    "duration": 13157,
    "start_time": "2023-06-23T11:31:54.944Z"
   },
   {
    "duration": 7378,
    "start_time": "2023-06-23T11:32:08.103Z"
   },
   {
    "duration": 6,
    "start_time": "2023-06-23T11:32:15.483Z"
   },
   {
    "duration": 1529,
    "start_time": "2023-06-23T11:32:21.911Z"
   },
   {
    "duration": 53,
    "start_time": "2023-06-23T11:32:23.442Z"
   },
   {
    "duration": 3,
    "start_time": "2023-06-23T11:32:23.497Z"
   },
   {
    "duration": 20,
    "start_time": "2023-06-23T11:32:23.501Z"
   },
   {
    "duration": 115,
    "start_time": "2023-06-23T11:32:23.523Z"
   },
   {
    "duration": 12,
    "start_time": "2023-06-23T11:32:23.640Z"
   },
   {
    "duration": 340,
    "start_time": "2023-06-23T11:32:23.654Z"
   },
   {
    "duration": 333,
    "start_time": "2023-06-23T11:32:23.996Z"
   },
   {
    "duration": 10,
    "start_time": "2023-06-23T11:32:24.332Z"
   },
   {
    "duration": 943,
    "start_time": "2023-06-23T11:32:24.345Z"
   },
   {
    "duration": 377,
    "start_time": "2023-06-23T11:32:25.290Z"
   },
   {
    "duration": 374,
    "start_time": "2023-06-23T11:32:25.669Z"
   },
   {
    "duration": 28,
    "start_time": "2023-06-23T11:32:26.045Z"
   },
   {
    "duration": 11,
    "start_time": "2023-06-23T11:32:26.077Z"
   },
   {
    "duration": 8,
    "start_time": "2023-06-23T11:32:26.090Z"
   },
   {
    "duration": 13,
    "start_time": "2023-06-23T11:32:26.099Z"
   },
   {
    "duration": 257,
    "start_time": "2023-06-23T11:32:26.113Z"
   },
   {
    "duration": 3,
    "start_time": "2023-06-23T11:32:26.373Z"
   },
   {
    "duration": 90,
    "start_time": "2023-06-23T11:32:26.377Z"
   },
   {
    "duration": 196,
    "start_time": "2023-06-23T11:32:26.470Z"
   },
   {
    "duration": 2899,
    "start_time": "2023-06-23T11:32:26.669Z"
   },
   {
    "duration": 2113,
    "start_time": "2023-06-23T11:32:29.569Z"
   },
   {
    "duration": 8573,
    "start_time": "2023-06-23T11:32:31.684Z"
   },
   {
    "duration": 11413,
    "start_time": "2023-06-23T11:32:40.259Z"
   },
   {
    "duration": 7138,
    "start_time": "2023-06-23T11:32:51.674Z"
   },
   {
    "duration": 8,
    "start_time": "2023-06-23T11:32:58.814Z"
   },
   {
    "duration": 6118,
    "start_time": "2023-06-23T11:33:05.609Z"
   },
   {
    "duration": 6182,
    "start_time": "2023-06-23T11:33:29.725Z"
   },
   {
    "duration": 22785,
    "start_time": "2023-06-23T11:33:41.505Z"
   },
   {
    "duration": 8788,
    "start_time": "2023-06-23T11:34:27.118Z"
   },
   {
    "duration": 13005,
    "start_time": "2023-06-23T11:34:35.909Z"
   },
   {
    "duration": 3574,
    "start_time": "2023-06-23T11:34:59.922Z"
   },
   {
    "duration": 8407,
    "start_time": "2023-06-23T11:35:08.649Z"
   },
   {
    "duration": 5622,
    "start_time": "2023-06-23T11:35:22.157Z"
   },
   {
    "duration": 1282,
    "start_time": "2023-06-23T11:35:30.565Z"
   },
   {
    "duration": 5144,
    "start_time": "2023-06-23T11:35:35.478Z"
   },
   {
    "duration": 4976,
    "start_time": "2023-06-23T11:35:43.922Z"
   },
   {
    "duration": 4740,
    "start_time": "2023-06-23T11:35:51.837Z"
   },
   {
    "duration": 3793,
    "start_time": "2023-06-23T11:35:59.169Z"
   },
   {
    "duration": 3643,
    "start_time": "2023-06-23T11:36:05.713Z"
   },
   {
    "duration": 2858,
    "start_time": "2023-06-23T11:36:13.448Z"
   },
   {
    "duration": 2156,
    "start_time": "2023-06-23T11:36:19.442Z"
   },
   {
    "duration": 1671,
    "start_time": "2023-06-23T11:36:24.371Z"
   },
   {
    "duration": 6808,
    "start_time": "2023-06-23T11:36:28.705Z"
   },
   {
    "duration": 6567,
    "start_time": "2023-06-23T11:36:41.633Z"
   },
   {
    "duration": 7151,
    "start_time": "2023-06-23T11:36:56.176Z"
   },
   {
    "duration": 2782,
    "start_time": "2023-06-23T11:37:07.601Z"
   },
   {
    "duration": 3235,
    "start_time": "2023-06-23T11:37:13.163Z"
   },
   {
    "duration": 5769,
    "start_time": "2023-06-23T11:37:20.509Z"
   },
   {
    "duration": 92,
    "start_time": "2023-06-23T11:40:47.110Z"
   },
   {
    "duration": 1541,
    "start_time": "2023-06-23T11:41:27.979Z"
   },
   {
    "duration": 53,
    "start_time": "2023-06-23T11:41:29.522Z"
   },
   {
    "duration": 4,
    "start_time": "2023-06-23T11:41:29.577Z"
   },
   {
    "duration": 11,
    "start_time": "2023-06-23T11:41:29.583Z"
   },
   {
    "duration": 31,
    "start_time": "2023-06-23T11:41:29.596Z"
   },
   {
    "duration": 10,
    "start_time": "2023-06-23T11:41:29.629Z"
   },
   {
    "duration": 312,
    "start_time": "2023-06-23T11:41:29.641Z"
   },
   {
    "duration": 430,
    "start_time": "2023-06-23T11:41:29.955Z"
   },
   {
    "duration": 8,
    "start_time": "2023-06-23T11:41:30.388Z"
   },
   {
    "duration": 1701,
    "start_time": "2023-06-23T11:41:30.399Z"
   },
   {
    "duration": 503,
    "start_time": "2023-06-23T11:41:32.102Z"
   },
   {
    "duration": 372,
    "start_time": "2023-06-23T11:41:32.607Z"
   },
   {
    "duration": 21,
    "start_time": "2023-06-23T11:41:32.980Z"
   },
   {
    "duration": 26,
    "start_time": "2023-06-23T11:41:33.003Z"
   },
   {
    "duration": 18,
    "start_time": "2023-06-23T11:41:33.030Z"
   },
   {
    "duration": 16,
    "start_time": "2023-06-23T11:41:33.050Z"
   },
   {
    "duration": 202,
    "start_time": "2023-06-23T11:41:33.068Z"
   },
   {
    "duration": 4,
    "start_time": "2023-06-23T11:41:33.272Z"
   },
   {
    "duration": 28,
    "start_time": "2023-06-23T11:41:33.277Z"
   },
   {
    "duration": 162,
    "start_time": "2023-06-23T11:41:33.307Z"
   },
   {
    "duration": 2111,
    "start_time": "2023-06-23T11:41:33.472Z"
   },
   {
    "duration": 1616,
    "start_time": "2023-06-23T11:41:35.585Z"
   },
   {
    "duration": 5655,
    "start_time": "2023-06-23T11:41:37.203Z"
   },
   {
    "duration": 3221,
    "start_time": "2023-06-23T11:41:42.860Z"
   },
   {
    "duration": 3597,
    "start_time": "2023-06-23T11:41:46.083Z"
   },
   {
    "duration": 6,
    "start_time": "2023-06-23T11:41:49.682Z"
   },
   {
    "duration": 6703,
    "start_time": "2023-06-23T11:41:59.080Z"
   },
   {
    "duration": 1555,
    "start_time": "2023-06-23T11:43:36.849Z"
   },
   {
    "duration": 53,
    "start_time": "2023-06-23T11:43:38.407Z"
   },
   {
    "duration": 4,
    "start_time": "2023-06-23T11:43:38.462Z"
   },
   {
    "duration": 37,
    "start_time": "2023-06-23T11:43:38.468Z"
   },
   {
    "duration": 53,
    "start_time": "2023-06-23T11:43:38.509Z"
   },
   {
    "duration": 11,
    "start_time": "2023-06-23T11:43:38.563Z"
   },
   {
    "duration": 297,
    "start_time": "2023-06-23T11:43:38.577Z"
   },
   {
    "duration": 298,
    "start_time": "2023-06-23T11:43:38.876Z"
   },
   {
    "duration": 9,
    "start_time": "2023-06-23T11:43:39.176Z"
   },
   {
    "duration": 943,
    "start_time": "2023-06-23T11:43:39.186Z"
   },
   {
    "duration": 386,
    "start_time": "2023-06-23T11:43:40.131Z"
   },
   {
    "duration": 362,
    "start_time": "2023-06-23T11:43:40.519Z"
   },
   {
    "duration": 23,
    "start_time": "2023-06-23T11:43:40.883Z"
   },
   {
    "duration": 11,
    "start_time": "2023-06-23T11:43:40.909Z"
   },
   {
    "duration": 5,
    "start_time": "2023-06-23T11:43:40.922Z"
   },
   {
    "duration": 13,
    "start_time": "2023-06-23T11:43:40.929Z"
   },
   {
    "duration": 125,
    "start_time": "2023-06-23T11:43:40.944Z"
   },
   {
    "duration": 4,
    "start_time": "2023-06-23T11:43:41.167Z"
   },
   {
    "duration": 12,
    "start_time": "2023-06-23T11:43:41.172Z"
   },
   {
    "duration": 86,
    "start_time": "2023-06-23T11:43:41.186Z"
   },
   {
    "duration": 1172,
    "start_time": "2023-06-23T11:43:41.275Z"
   },
   {
    "duration": 1710,
    "start_time": "2023-06-23T11:43:42.449Z"
   },
   {
    "duration": 5758,
    "start_time": "2023-06-23T11:43:44.167Z"
   },
   {
    "duration": 3285,
    "start_time": "2023-06-23T11:43:49.928Z"
   },
   {
    "duration": 6773,
    "start_time": "2023-06-23T11:43:53.215Z"
   },
   {
    "duration": 6,
    "start_time": "2023-06-23T11:43:59.989Z"
   },
   {
    "duration": 132,
    "start_time": "2023-06-23T13:25:58.554Z"
   },
   {
    "duration": 12,
    "start_time": "2023-06-23T13:26:14.631Z"
   },
   {
    "duration": 28,
    "start_time": "2023-06-23T13:27:54.926Z"
   },
   {
    "duration": 39,
    "start_time": "2023-06-23T13:29:06.992Z"
   },
   {
    "duration": 39,
    "start_time": "2023-06-23T13:29:21.126Z"
   },
   {
    "duration": 2012,
    "start_time": "2023-06-23T15:34:25.695Z"
   },
   {
    "duration": 86,
    "start_time": "2023-06-23T15:34:27.710Z"
   },
   {
    "duration": 5,
    "start_time": "2023-06-23T15:34:27.799Z"
   },
   {
    "duration": 66,
    "start_time": "2023-06-23T15:34:27.807Z"
   },
   {
    "duration": 94,
    "start_time": "2023-06-23T15:34:27.876Z"
   },
   {
    "duration": 10,
    "start_time": "2023-06-23T15:34:27.972Z"
   },
   {
    "duration": 599,
    "start_time": "2023-06-23T15:34:27.984Z"
   },
   {
    "duration": 583,
    "start_time": "2023-06-23T15:34:28.585Z"
   },
   {
    "duration": 12,
    "start_time": "2023-06-23T15:34:29.170Z"
   },
   {
    "duration": 962,
    "start_time": "2023-06-23T15:34:29.187Z"
   },
   {
    "duration": 412,
    "start_time": "2023-06-23T15:34:30.151Z"
   },
   {
    "duration": 388,
    "start_time": "2023-06-23T15:34:30.567Z"
   },
   {
    "duration": 34,
    "start_time": "2023-06-23T15:34:30.958Z"
   },
   {
    "duration": 29,
    "start_time": "2023-06-23T15:34:30.995Z"
   },
   {
    "duration": 33,
    "start_time": "2023-06-23T15:34:31.026Z"
   },
   {
    "duration": 92,
    "start_time": "2023-06-23T15:34:31.061Z"
   },
   {
    "duration": 215,
    "start_time": "2023-06-23T15:34:31.155Z"
   },
   {
    "duration": 3,
    "start_time": "2023-06-23T15:34:31.373Z"
   },
   {
    "duration": 76,
    "start_time": "2023-06-23T15:34:31.378Z"
   },
   {
    "duration": 212,
    "start_time": "2023-06-23T15:34:31.456Z"
   },
   {
    "duration": 1146,
    "start_time": "2023-06-23T15:34:31.671Z"
   },
   {
    "duration": 1765,
    "start_time": "2023-06-23T15:34:32.819Z"
   },
   {
    "duration": 6002,
    "start_time": "2023-06-23T15:34:34.586Z"
   },
   {
    "duration": 3851,
    "start_time": "2023-06-23T15:34:40.590Z"
   },
   {
    "duration": 6971,
    "start_time": "2023-06-23T15:34:44.443Z"
   },
   {
    "duration": 7,
    "start_time": "2023-06-23T15:34:51.416Z"
   },
   {
    "duration": 9,
    "start_time": "2023-06-23T15:39:18.855Z"
   },
   {
    "duration": 14,
    "start_time": "2023-06-23T15:40:03.423Z"
   },
   {
    "duration": 257,
    "start_time": "2023-06-23T15:41:02.340Z"
   },
   {
    "duration": 281,
    "start_time": "2023-06-23T15:41:17.831Z"
   },
   {
    "duration": 16,
    "start_time": "2023-06-23T15:41:33.889Z"
   },
   {
    "duration": 12,
    "start_time": "2023-06-23T15:41:55.915Z"
   },
   {
    "duration": 14,
    "start_time": "2023-06-23T15:42:02.367Z"
   },
   {
    "duration": 16,
    "start_time": "2023-06-23T15:42:07.063Z"
   },
   {
    "duration": 10,
    "start_time": "2023-06-23T15:42:14.620Z"
   },
   {
    "duration": 10,
    "start_time": "2023-06-23T15:42:19.390Z"
   },
   {
    "duration": 10,
    "start_time": "2023-06-23T15:42:24.594Z"
   },
   {
    "duration": 13,
    "start_time": "2023-06-23T15:42:39.170Z"
   },
   {
    "duration": 10,
    "start_time": "2023-06-23T15:42:45.526Z"
   },
   {
    "duration": 10,
    "start_time": "2023-06-23T15:42:54.780Z"
   },
   {
    "duration": 11,
    "start_time": "2023-06-23T15:43:02.055Z"
   },
   {
    "duration": 46,
    "start_time": "2023-06-23T15:43:35.114Z"
   },
   {
    "duration": 1814,
    "start_time": "2023-06-23T15:44:34.277Z"
   },
   {
    "duration": 101,
    "start_time": "2023-06-23T15:44:36.094Z"
   },
   {
    "duration": 4,
    "start_time": "2023-06-23T15:44:36.197Z"
   },
   {
    "duration": 84,
    "start_time": "2023-06-23T15:44:36.203Z"
   },
   {
    "duration": 86,
    "start_time": "2023-06-23T15:44:36.291Z"
   },
   {
    "duration": 12,
    "start_time": "2023-06-23T15:44:36.380Z"
   },
   {
    "duration": 816,
    "start_time": "2023-06-23T15:44:36.394Z"
   },
   {
    "duration": 636,
    "start_time": "2023-06-23T15:44:37.267Z"
   },
   {
    "duration": 69,
    "start_time": "2023-06-23T15:44:37.905Z"
   },
   {
    "duration": 1044,
    "start_time": "2023-06-23T15:44:37.976Z"
   },
   {
    "duration": 430,
    "start_time": "2023-06-23T15:44:39.022Z"
   },
   {
    "duration": 381,
    "start_time": "2023-06-23T15:44:39.454Z"
   },
   {
    "duration": 415,
    "start_time": "2023-06-23T15:44:39.837Z"
   },
   {
    "duration": 0,
    "start_time": "2023-06-23T15:44:40.255Z"
   },
   {
    "duration": 0,
    "start_time": "2023-06-23T15:44:40.257Z"
   },
   {
    "duration": 0,
    "start_time": "2023-06-23T15:44:40.259Z"
   },
   {
    "duration": 0,
    "start_time": "2023-06-23T15:44:40.270Z"
   },
   {
    "duration": 1,
    "start_time": "2023-06-23T15:44:40.273Z"
   },
   {
    "duration": 0,
    "start_time": "2023-06-23T15:44:40.277Z"
   },
   {
    "duration": 0,
    "start_time": "2023-06-23T15:44:40.278Z"
   },
   {
    "duration": 0,
    "start_time": "2023-06-23T15:44:40.279Z"
   },
   {
    "duration": 0,
    "start_time": "2023-06-23T15:44:40.280Z"
   },
   {
    "duration": 1,
    "start_time": "2023-06-23T15:44:40.281Z"
   },
   {
    "duration": 0,
    "start_time": "2023-06-23T15:44:40.283Z"
   },
   {
    "duration": 0,
    "start_time": "2023-06-23T15:44:40.284Z"
   },
   {
    "duration": 0,
    "start_time": "2023-06-23T15:44:40.285Z"
   },
   {
    "duration": 1,
    "start_time": "2023-06-23T15:44:40.286Z"
   },
   {
    "duration": 1002,
    "start_time": "2023-06-23T15:45:21.537Z"
   },
   {
    "duration": 1639,
    "start_time": "2023-06-23T15:46:00.359Z"
   },
   {
    "duration": 98,
    "start_time": "2023-06-23T15:46:21.606Z"
   },
   {
    "duration": 807,
    "start_time": "2023-06-23T15:46:25.647Z"
   },
   {
    "duration": 5,
    "start_time": "2023-06-23T15:47:24.372Z"
   },
   {
    "duration": 7,
    "start_time": "2023-06-23T15:48:09.505Z"
   },
   {
    "duration": 13,
    "start_time": "2023-06-23T15:48:13.203Z"
   },
   {
    "duration": 7,
    "start_time": "2023-06-23T15:48:24.407Z"
   },
   {
    "duration": 1744,
    "start_time": "2023-06-23T15:49:00.444Z"
   },
   {
    "duration": 53,
    "start_time": "2023-06-23T15:49:02.190Z"
   },
   {
    "duration": 86,
    "start_time": "2023-06-23T15:49:02.245Z"
   },
   {
    "duration": 37,
    "start_time": "2023-06-23T15:49:02.334Z"
   },
   {
    "duration": 74,
    "start_time": "2023-06-23T15:49:02.373Z"
   },
   {
    "duration": 43,
    "start_time": "2023-06-23T15:49:02.449Z"
   },
   {
    "duration": 430,
    "start_time": "2023-06-23T15:49:02.494Z"
   },
   {
    "duration": 349,
    "start_time": "2023-06-23T15:49:02.926Z"
   },
   {
    "duration": 14,
    "start_time": "2023-06-23T15:49:03.280Z"
   },
   {
    "duration": 1032,
    "start_time": "2023-06-23T15:49:03.297Z"
   },
   {
    "duration": 568,
    "start_time": "2023-06-23T15:49:04.331Z"
   },
   {
    "duration": 810,
    "start_time": "2023-06-23T15:49:04.901Z"
   },
   {
    "duration": 64,
    "start_time": "2023-06-23T15:49:05.714Z"
   },
   {
    "duration": 1403,
    "start_time": "2023-06-23T15:49:05.788Z"
   },
   {
    "duration": 21,
    "start_time": "2023-06-23T15:49:07.193Z"
   },
   {
    "duration": 9,
    "start_time": "2023-06-23T15:49:07.215Z"
   },
   {
    "duration": 10,
    "start_time": "2023-06-23T15:49:07.228Z"
   },
   {
    "duration": 52,
    "start_time": "2023-06-23T15:49:07.239Z"
   },
   {
    "duration": 297,
    "start_time": "2023-06-23T15:49:07.293Z"
   },
   {
    "duration": 7,
    "start_time": "2023-06-23T15:49:07.594Z"
   },
   {
    "duration": 13,
    "start_time": "2023-06-23T15:49:07.666Z"
   },
   {
    "duration": 280,
    "start_time": "2023-06-23T15:49:07.688Z"
   },
   {
    "duration": 1152,
    "start_time": "2023-06-23T15:49:07.970Z"
   },
   {
    "duration": 1737,
    "start_time": "2023-06-23T15:49:09.124Z"
   },
   {
    "duration": 6152,
    "start_time": "2023-06-23T15:49:10.863Z"
   },
   {
    "duration": 3424,
    "start_time": "2023-06-23T15:49:17.018Z"
   },
   {
    "duration": 7399,
    "start_time": "2023-06-23T15:49:20.444Z"
   },
   {
    "duration": 7,
    "start_time": "2023-06-23T15:49:27.846Z"
   },
   {
    "duration": 1596,
    "start_time": "2023-06-23T15:50:57.407Z"
   },
   {
    "duration": 57,
    "start_time": "2023-06-23T15:50:59.005Z"
   },
   {
    "duration": 5,
    "start_time": "2023-06-23T15:50:59.064Z"
   },
   {
    "duration": 18,
    "start_time": "2023-06-23T15:50:59.075Z"
   },
   {
    "duration": 30,
    "start_time": "2023-06-23T15:50:59.096Z"
   },
   {
    "duration": 11,
    "start_time": "2023-06-23T15:50:59.128Z"
   },
   {
    "duration": 662,
    "start_time": "2023-06-23T15:50:59.141Z"
   },
   {
    "duration": 807,
    "start_time": "2023-06-23T15:50:59.805Z"
   },
   {
    "duration": 62,
    "start_time": "2023-06-23T15:51:00.614Z"
   },
   {
    "duration": 1536,
    "start_time": "2023-06-23T15:51:00.678Z"
   },
   {
    "duration": 448,
    "start_time": "2023-06-23T15:51:02.216Z"
   },
   {
    "duration": 384,
    "start_time": "2023-06-23T15:51:02.666Z"
   },
   {
    "duration": 30,
    "start_time": "2023-06-23T15:51:03.052Z"
   },
   {
    "duration": 208,
    "start_time": "2023-06-23T15:51:03.087Z"
   },
   {
    "duration": 23,
    "start_time": "2023-06-23T15:51:03.298Z"
   },
   {
    "duration": 15,
    "start_time": "2023-06-23T15:51:03.323Z"
   },
   {
    "duration": 10,
    "start_time": "2023-06-23T15:51:03.340Z"
   },
   {
    "duration": 40,
    "start_time": "2023-06-23T15:51:03.351Z"
   },
   {
    "duration": 178,
    "start_time": "2023-06-23T15:51:03.393Z"
   },
   {
    "duration": 9,
    "start_time": "2023-06-23T15:51:03.573Z"
   },
   {
    "duration": 37,
    "start_time": "2023-06-23T15:51:03.584Z"
   },
   {
    "duration": 247,
    "start_time": "2023-06-23T15:51:03.622Z"
   },
   {
    "duration": 1142,
    "start_time": "2023-06-23T15:51:03.874Z"
   },
   {
    "duration": 1735,
    "start_time": "2023-06-23T15:51:05.019Z"
   },
   {
    "duration": 6091,
    "start_time": "2023-06-23T15:51:06.756Z"
   },
   {
    "duration": 1595,
    "start_time": "2023-06-23T15:51:16.610Z"
   },
   {
    "duration": 85,
    "start_time": "2023-06-23T15:51:18.208Z"
   },
   {
    "duration": 6,
    "start_time": "2023-06-23T15:51:18.300Z"
   },
   {
    "duration": 13,
    "start_time": "2023-06-23T15:51:18.308Z"
   },
   {
    "duration": 86,
    "start_time": "2023-06-23T15:51:18.323Z"
   },
   {
    "duration": 65,
    "start_time": "2023-06-23T15:51:18.411Z"
   },
   {
    "duration": 707,
    "start_time": "2023-06-23T15:51:18.478Z"
   },
   {
    "duration": 628,
    "start_time": "2023-06-23T15:51:19.186Z"
   },
   {
    "duration": 66,
    "start_time": "2023-06-23T15:51:19.816Z"
   },
   {
    "duration": 1399,
    "start_time": "2023-06-23T15:51:19.885Z"
   },
   {
    "duration": 421,
    "start_time": "2023-06-23T15:51:21.286Z"
   },
   {
    "duration": 371,
    "start_time": "2023-06-23T15:51:21.709Z"
   },
   {
    "duration": 13,
    "start_time": "2023-06-23T15:51:22.087Z"
   },
   {
    "duration": 388,
    "start_time": "2023-06-23T15:51:22.104Z"
   },
   {
    "duration": 22,
    "start_time": "2023-06-23T15:51:22.497Z"
   },
   {
    "duration": 18,
    "start_time": "2023-06-23T15:51:22.521Z"
   },
   {
    "duration": 5,
    "start_time": "2023-06-23T15:51:22.541Z"
   },
   {
    "duration": 25,
    "start_time": "2023-06-23T15:51:22.548Z"
   },
   {
    "duration": 115,
    "start_time": "2023-06-23T15:51:22.579Z"
   },
   {
    "duration": 13,
    "start_time": "2023-06-23T15:51:22.768Z"
   },
   {
    "duration": 202,
    "start_time": "2023-06-23T15:51:22.783Z"
   },
   {
    "duration": 189,
    "start_time": "2023-06-23T15:51:22.988Z"
   },
   {
    "duration": 1167,
    "start_time": "2023-06-23T15:51:23.179Z"
   },
   {
    "duration": 1755,
    "start_time": "2023-06-23T15:51:24.351Z"
   },
   {
    "duration": 6198,
    "start_time": "2023-06-23T15:51:26.107Z"
   },
   {
    "duration": 3724,
    "start_time": "2023-06-23T15:51:32.311Z"
   },
   {
    "duration": 1647,
    "start_time": "2023-06-23T15:51:39.670Z"
   },
   {
    "duration": 67,
    "start_time": "2023-06-23T15:51:41.319Z"
   },
   {
    "duration": 3,
    "start_time": "2023-06-23T15:51:41.389Z"
   },
   {
    "duration": 37,
    "start_time": "2023-06-23T15:51:41.398Z"
   },
   {
    "duration": 45,
    "start_time": "2023-06-23T15:51:41.436Z"
   },
   {
    "duration": 18,
    "start_time": "2023-06-23T15:51:41.489Z"
   },
   {
    "duration": 324,
    "start_time": "2023-06-23T15:51:41.509Z"
   },
   {
    "duration": 637,
    "start_time": "2023-06-23T15:51:41.835Z"
   },
   {
    "duration": 15,
    "start_time": "2023-06-23T15:51:42.474Z"
   },
   {
    "duration": 2156,
    "start_time": "2023-06-23T15:51:42.492Z"
   },
   {
    "duration": 452,
    "start_time": "2023-06-23T15:51:44.650Z"
   },
   {
    "duration": 376,
    "start_time": "2023-06-23T15:51:45.104Z"
   },
   {
    "duration": 19,
    "start_time": "2023-06-23T15:51:45.481Z"
   },
   {
    "duration": 214,
    "start_time": "2023-06-23T15:51:45.502Z"
   },
   {
    "duration": 22,
    "start_time": "2023-06-23T15:51:45.717Z"
   },
   {
    "duration": 31,
    "start_time": "2023-06-23T15:51:45.741Z"
   },
   {
    "duration": 16,
    "start_time": "2023-06-23T15:51:45.783Z"
   },
   {
    "duration": 8,
    "start_time": "2023-06-23T15:51:45.803Z"
   },
   {
    "duration": 70,
    "start_time": "2023-06-23T15:51:45.814Z"
   },
   {
    "duration": 9,
    "start_time": "2023-06-23T15:51:45.890Z"
   },
   {
    "duration": 20,
    "start_time": "2023-06-23T15:51:45.967Z"
   },
   {
    "duration": 186,
    "start_time": "2023-06-23T15:51:45.989Z"
   },
   {
    "duration": 1127,
    "start_time": "2023-06-23T15:51:46.183Z"
   },
   {
    "duration": 1741,
    "start_time": "2023-06-23T15:51:47.312Z"
   },
   {
    "duration": 6147,
    "start_time": "2023-06-23T15:51:49.055Z"
   },
   {
    "duration": 3596,
    "start_time": "2023-06-23T15:51:55.204Z"
   },
   {
    "duration": 7603,
    "start_time": "2023-06-23T15:51:58.801Z"
   },
   {
    "duration": 6,
    "start_time": "2023-06-23T15:52:06.407Z"
   },
   {
    "duration": 2276,
    "start_time": "2023-06-23T15:52:22.241Z"
   },
   {
    "duration": 88,
    "start_time": "2023-06-23T15:52:24.519Z"
   },
   {
    "duration": 4,
    "start_time": "2023-06-23T15:52:24.609Z"
   },
   {
    "duration": 77,
    "start_time": "2023-06-23T15:52:24.616Z"
   },
   {
    "duration": 93,
    "start_time": "2023-06-23T15:52:24.694Z"
   },
   {
    "duration": 11,
    "start_time": "2023-06-23T15:52:24.790Z"
   },
   {
    "duration": 717,
    "start_time": "2023-06-23T15:52:24.803Z"
   },
   {
    "duration": 427,
    "start_time": "2023-06-23T15:52:25.568Z"
   },
   {
    "duration": 9,
    "start_time": "2023-06-23T15:52:25.998Z"
   },
   {
    "duration": 957,
    "start_time": "2023-06-23T15:52:26.010Z"
   },
   {
    "duration": 427,
    "start_time": "2023-06-23T15:52:26.968Z"
   },
   {
    "duration": 358,
    "start_time": "2023-06-23T15:52:27.398Z"
   },
   {
    "duration": 18,
    "start_time": "2023-06-23T15:52:27.758Z"
   },
   {
    "duration": 254,
    "start_time": "2023-06-23T15:52:27.779Z"
   },
   {
    "duration": 20,
    "start_time": "2023-06-23T15:52:28.036Z"
   },
   {
    "duration": 23,
    "start_time": "2023-06-23T15:52:28.072Z"
   },
   {
    "duration": 5,
    "start_time": "2023-06-23T15:52:28.098Z"
   },
   {
    "duration": 16,
    "start_time": "2023-06-23T15:52:28.104Z"
   },
   {
    "duration": 159,
    "start_time": "2023-06-23T15:52:28.122Z"
   },
   {
    "duration": 11,
    "start_time": "2023-06-23T15:52:28.283Z"
   },
   {
    "duration": 81,
    "start_time": "2023-06-23T15:52:28.296Z"
   },
   {
    "duration": 108,
    "start_time": "2023-06-23T15:52:28.380Z"
   },
   {
    "duration": 1207,
    "start_time": "2023-06-23T15:52:28.494Z"
   },
   {
    "duration": 1739,
    "start_time": "2023-06-23T15:52:29.702Z"
   },
   {
    "duration": 6258,
    "start_time": "2023-06-23T15:52:31.442Z"
   },
   {
    "duration": 3713,
    "start_time": "2023-06-23T15:52:37.705Z"
   },
   {
    "duration": 7580,
    "start_time": "2023-06-23T15:52:41.420Z"
   },
   {
    "duration": 7,
    "start_time": "2023-06-23T15:52:49.004Z"
   },
   {
    "duration": 9,
    "start_time": "2023-06-23T15:53:46.330Z"
   },
   {
    "duration": 1802,
    "start_time": "2023-06-23T16:17:53.643Z"
   },
   {
    "duration": 79,
    "start_time": "2023-06-23T16:17:55.447Z"
   },
   {
    "duration": 4,
    "start_time": "2023-06-23T16:17:55.529Z"
   },
   {
    "duration": 15,
    "start_time": "2023-06-23T16:17:55.536Z"
   },
   {
    "duration": 38,
    "start_time": "2023-06-23T16:17:55.553Z"
   },
   {
    "duration": 11,
    "start_time": "2023-06-23T16:17:55.593Z"
   },
   {
    "duration": 674,
    "start_time": "2023-06-23T16:17:55.605Z"
   },
   {
    "duration": 719,
    "start_time": "2023-06-23T16:17:56.282Z"
   },
   {
    "duration": 8,
    "start_time": "2023-06-23T16:17:57.003Z"
   },
   {
    "duration": 1777,
    "start_time": "2023-06-23T16:17:57.069Z"
   },
   {
    "duration": 462,
    "start_time": "2023-06-23T16:17:58.848Z"
   },
   {
    "duration": 407,
    "start_time": "2023-06-23T16:17:59.312Z"
   },
   {
    "duration": 15,
    "start_time": "2023-06-23T16:17:59.721Z"
   },
   {
    "duration": 205,
    "start_time": "2023-06-23T16:17:59.738Z"
   },
   {
    "duration": 41,
    "start_time": "2023-06-23T16:17:59.945Z"
   },
   {
    "duration": 14,
    "start_time": "2023-06-23T16:17:59.988Z"
   },
   {
    "duration": 78,
    "start_time": "2023-06-23T16:18:00.004Z"
   },
   {
    "duration": 92,
    "start_time": "2023-06-23T16:18:00.091Z"
   },
   {
    "duration": 185,
    "start_time": "2023-06-23T16:18:00.187Z"
   },
   {
    "duration": 5,
    "start_time": "2023-06-23T16:18:00.374Z"
   },
   {
    "duration": 27,
    "start_time": "2023-06-23T16:18:00.381Z"
   },
   {
    "duration": 266,
    "start_time": "2023-06-23T16:18:00.410Z"
   },
   {
    "duration": 1118,
    "start_time": "2023-06-23T16:18:00.679Z"
   },
   {
    "duration": 1831,
    "start_time": "2023-06-23T16:18:01.800Z"
   },
   {
    "duration": 6051,
    "start_time": "2023-06-23T16:18:03.633Z"
   },
   {
    "duration": 3715,
    "start_time": "2023-06-23T16:18:09.686Z"
   },
   {
    "duration": 7546,
    "start_time": "2023-06-23T16:18:13.403Z"
   },
   {
    "duration": 6,
    "start_time": "2023-06-23T16:18:20.952Z"
   },
   {
    "duration": 41,
    "start_time": "2023-06-23T16:18:20.959Z"
   },
   {
    "duration": 6,
    "start_time": "2023-06-23T16:26:46.122Z"
   },
   {
    "duration": 9,
    "start_time": "2023-06-23T16:29:08.537Z"
   },
   {
    "duration": 1665,
    "start_time": "2023-06-23T16:57:07.042Z"
   },
   {
    "duration": 98,
    "start_time": "2023-06-23T16:57:08.709Z"
   },
   {
    "duration": 3,
    "start_time": "2023-06-23T16:57:08.812Z"
   },
   {
    "duration": 65,
    "start_time": "2023-06-23T16:57:08.816Z"
   },
   {
    "duration": 88,
    "start_time": "2023-06-23T16:57:08.883Z"
   },
   {
    "duration": 11,
    "start_time": "2023-06-23T16:57:08.973Z"
   },
   {
    "duration": 595,
    "start_time": "2023-06-23T16:57:08.987Z"
   },
   {
    "duration": 583,
    "start_time": "2023-06-23T16:57:09.584Z"
   },
   {
    "duration": 8,
    "start_time": "2023-06-23T16:57:10.170Z"
   },
   {
    "duration": 994,
    "start_time": "2023-06-23T16:57:10.180Z"
   },
   {
    "duration": 371,
    "start_time": "2023-06-23T16:57:11.176Z"
   },
   {
    "duration": 339,
    "start_time": "2023-06-23T16:57:11.549Z"
   },
   {
    "duration": 20,
    "start_time": "2023-06-23T16:57:11.891Z"
   },
   {
    "duration": 173,
    "start_time": "2023-06-23T16:57:11.913Z"
   },
   {
    "duration": 8,
    "start_time": "2023-06-23T16:57:12.088Z"
   },
   {
    "duration": 44,
    "start_time": "2023-06-23T16:57:12.098Z"
   },
   {
    "duration": 8,
    "start_time": "2023-06-23T16:57:12.144Z"
   },
   {
    "duration": 22,
    "start_time": "2023-06-23T16:57:12.153Z"
   },
   {
    "duration": 20,
    "start_time": "2023-06-23T16:57:12.177Z"
   },
   {
    "duration": 171,
    "start_time": "2023-06-23T16:57:12.198Z"
   },
   {
    "duration": 3,
    "start_time": "2023-06-23T16:57:12.372Z"
   },
   {
    "duration": 94,
    "start_time": "2023-06-23T16:57:12.377Z"
   },
   {
    "duration": 97,
    "start_time": "2023-06-23T16:57:12.473Z"
   },
   {
    "duration": 1138,
    "start_time": "2023-06-23T16:57:12.572Z"
   },
   {
    "duration": 1669,
    "start_time": "2023-06-23T16:57:13.712Z"
   },
   {
    "duration": 5772,
    "start_time": "2023-06-23T16:57:15.383Z"
   },
   {
    "duration": 3196,
    "start_time": "2023-06-23T16:57:21.159Z"
   },
   {
    "duration": 6525,
    "start_time": "2023-06-23T16:57:24.356Z"
   },
   {
    "duration": 7,
    "start_time": "2023-06-23T16:57:30.883Z"
   },
   {
    "duration": 1486,
    "start_time": "2023-06-23T16:57:39.010Z"
   },
   {
    "duration": 52,
    "start_time": "2023-06-23T16:57:40.498Z"
   },
   {
    "duration": 3,
    "start_time": "2023-06-23T16:57:40.552Z"
   },
   {
    "duration": 29,
    "start_time": "2023-06-23T16:57:40.557Z"
   },
   {
    "duration": 31,
    "start_time": "2023-06-23T16:57:40.588Z"
   },
   {
    "duration": 9,
    "start_time": "2023-06-23T16:57:40.621Z"
   },
   {
    "duration": 270,
    "start_time": "2023-06-23T16:57:40.632Z"
   },
   {
    "duration": 280,
    "start_time": "2023-06-23T16:57:40.904Z"
   },
   {
    "duration": 8,
    "start_time": "2023-06-23T16:57:41.185Z"
   },
   {
    "duration": 1172,
    "start_time": "2023-06-23T16:57:41.195Z"
   },
   {
    "duration": 734,
    "start_time": "2023-06-23T16:57:42.369Z"
   },
   {
    "duration": 662,
    "start_time": "2023-06-23T16:57:43.105Z"
   },
   {
    "duration": 16,
    "start_time": "2023-06-23T16:57:43.769Z"
   },
   {
    "duration": 209,
    "start_time": "2023-06-23T16:57:43.789Z"
   },
   {
    "duration": 13,
    "start_time": "2023-06-23T16:57:44.001Z"
   },
   {
    "duration": 34,
    "start_time": "2023-06-23T16:57:44.016Z"
   },
   {
    "duration": 22,
    "start_time": "2023-06-23T16:57:44.053Z"
   },
   {
    "duration": 18,
    "start_time": "2023-06-23T16:57:44.077Z"
   },
   {
    "duration": 10,
    "start_time": "2023-06-23T16:57:44.098Z"
   },
   {
    "duration": 158,
    "start_time": "2023-06-23T16:57:44.110Z"
   },
   {
    "duration": 4,
    "start_time": "2023-06-23T16:57:44.271Z"
   },
   {
    "duration": 11,
    "start_time": "2023-06-23T16:57:44.277Z"
   },
   {
    "duration": 194,
    "start_time": "2023-06-23T16:57:44.290Z"
   },
   {
    "duration": 1091,
    "start_time": "2023-06-23T16:57:44.568Z"
   },
   {
    "duration": 1685,
    "start_time": "2023-06-23T16:57:45.661Z"
   },
   {
    "duration": 5632,
    "start_time": "2023-06-23T16:57:47.348Z"
   },
   {
    "duration": 3093,
    "start_time": "2023-06-23T16:57:52.982Z"
   },
   {
    "duration": 6754,
    "start_time": "2023-06-23T16:57:56.077Z"
   },
   {
    "duration": 7,
    "start_time": "2023-06-23T16:58:02.833Z"
   },
   {
    "duration": 1659,
    "start_time": "2023-06-23T18:13:12.256Z"
   },
   {
    "duration": 65,
    "start_time": "2023-06-23T18:13:13.919Z"
   },
   {
    "duration": 4,
    "start_time": "2023-06-23T18:13:13.986Z"
   },
   {
    "duration": 52,
    "start_time": "2023-06-23T18:13:13.992Z"
   },
   {
    "duration": 42,
    "start_time": "2023-06-23T18:13:14.047Z"
   },
   {
    "duration": 12,
    "start_time": "2023-06-23T18:13:14.092Z"
   },
   {
    "duration": 334,
    "start_time": "2023-06-23T18:13:14.106Z"
   },
   {
    "duration": 294,
    "start_time": "2023-06-23T18:13:14.441Z"
   },
   {
    "duration": 8,
    "start_time": "2023-06-23T18:13:14.737Z"
   },
   {
    "duration": 1056,
    "start_time": "2023-06-23T18:13:14.748Z"
   },
   {
    "duration": 427,
    "start_time": "2023-06-23T18:13:15.806Z"
   },
   {
    "duration": 383,
    "start_time": "2023-06-23T18:13:16.235Z"
   },
   {
    "duration": 16,
    "start_time": "2023-06-23T18:13:16.620Z"
   },
   {
    "duration": 194,
    "start_time": "2023-06-23T18:13:16.639Z"
   },
   {
    "duration": 39,
    "start_time": "2023-06-23T18:13:16.834Z"
   },
   {
    "duration": 10,
    "start_time": "2023-06-23T18:13:16.875Z"
   },
   {
    "duration": 6,
    "start_time": "2023-06-23T18:13:16.887Z"
   },
   {
    "duration": 10,
    "start_time": "2023-06-23T18:13:16.895Z"
   },
   {
    "duration": 263,
    "start_time": "2023-06-23T18:13:16.907Z"
   },
   {
    "duration": 5,
    "start_time": "2023-06-23T18:13:17.172Z"
   },
   {
    "duration": 98,
    "start_time": "2023-06-23T18:13:17.181Z"
   },
   {
    "duration": 94,
    "start_time": "2023-06-23T18:13:17.281Z"
   },
   {
    "duration": 1176,
    "start_time": "2023-06-23T18:13:17.377Z"
   },
   {
    "duration": 1630,
    "start_time": "2023-06-23T18:13:18.555Z"
   },
   {
    "duration": 7656,
    "start_time": "2023-06-23T18:13:20.187Z"
   },
   {
    "duration": 3170,
    "start_time": "2023-06-23T18:13:27.845Z"
   },
   {
    "duration": 6927,
    "start_time": "2023-06-23T18:13:31.017Z"
   },
   {
    "duration": 7,
    "start_time": "2023-06-23T18:13:37.947Z"
   },
   {
    "duration": 15,
    "start_time": "2023-06-23T18:20:07.154Z"
   },
   {
    "duration": 4,
    "start_time": "2023-06-23T18:20:23.957Z"
   },
   {
    "duration": 1656,
    "start_time": "2023-06-23T18:20:35.444Z"
   },
   {
    "duration": 52,
    "start_time": "2023-06-23T18:20:37.103Z"
   },
   {
    "duration": 4,
    "start_time": "2023-06-23T18:20:37.156Z"
   },
   {
    "duration": 10,
    "start_time": "2023-06-23T18:20:37.162Z"
   },
   {
    "duration": 36,
    "start_time": "2023-06-23T18:20:37.174Z"
   },
   {
    "duration": 10,
    "start_time": "2023-06-23T18:20:37.212Z"
   },
   {
    "duration": 310,
    "start_time": "2023-06-23T18:20:37.224Z"
   },
   {
    "duration": 319,
    "start_time": "2023-06-23T18:20:37.536Z"
   },
   {
    "duration": 18,
    "start_time": "2023-06-23T18:20:37.857Z"
   },
   {
    "duration": 1904,
    "start_time": "2023-06-23T18:20:37.878Z"
   },
   {
    "duration": 527,
    "start_time": "2023-06-23T18:20:39.784Z"
   },
   {
    "duration": 355,
    "start_time": "2023-06-23T18:20:40.312Z"
   },
   {
    "duration": 20,
    "start_time": "2023-06-23T18:20:40.669Z"
   },
   {
    "duration": 182,
    "start_time": "2023-06-23T18:20:40.693Z"
   },
   {
    "duration": 14,
    "start_time": "2023-06-23T18:20:40.877Z"
   },
   {
    "duration": 22,
    "start_time": "2023-06-23T18:20:40.893Z"
   },
   {
    "duration": 12,
    "start_time": "2023-06-23T18:20:40.917Z"
   },
   {
    "duration": 40,
    "start_time": "2023-06-23T18:20:40.931Z"
   },
   {
    "duration": 141,
    "start_time": "2023-06-23T18:20:40.973Z"
   },
   {
    "duration": 54,
    "start_time": "2023-06-23T18:20:41.116Z"
   },
   {
    "duration": 4,
    "start_time": "2023-06-23T18:20:41.172Z"
   },
   {
    "duration": 95,
    "start_time": "2023-06-23T18:20:41.179Z"
   },
   {
    "duration": 16,
    "start_time": "2023-06-23T18:20:41.277Z"
   },
   {
    "duration": 1102,
    "start_time": "2023-06-23T18:20:41.366Z"
   },
   {
    "duration": 1696,
    "start_time": "2023-06-23T18:20:42.471Z"
   },
   {
    "duration": 5945,
    "start_time": "2023-06-23T18:20:44.170Z"
   },
   {
    "duration": 3200,
    "start_time": "2023-06-23T18:20:50.117Z"
   },
   {
    "duration": 6838,
    "start_time": "2023-06-23T18:20:53.319Z"
   },
   {
    "duration": 7,
    "start_time": "2023-06-23T18:21:00.159Z"
   },
   {
    "duration": 3,
    "start_time": "2023-06-23T18:21:05.006Z"
   },
   {
    "duration": 1745,
    "start_time": "2023-06-23T18:21:12.806Z"
   },
   {
    "duration": 53,
    "start_time": "2023-06-23T18:21:14.554Z"
   },
   {
    "duration": 3,
    "start_time": "2023-06-23T18:21:14.609Z"
   },
   {
    "duration": 12,
    "start_time": "2023-06-23T18:21:14.614Z"
   },
   {
    "duration": 42,
    "start_time": "2023-06-23T18:21:14.627Z"
   },
   {
    "duration": 9,
    "start_time": "2023-06-23T18:21:14.671Z"
   },
   {
    "duration": 336,
    "start_time": "2023-06-23T18:21:14.683Z"
   },
   {
    "duration": 324,
    "start_time": "2023-06-23T18:21:15.020Z"
   },
   {
    "duration": 9,
    "start_time": "2023-06-23T18:21:15.346Z"
   },
   {
    "duration": 1170,
    "start_time": "2023-06-23T18:21:15.358Z"
   },
   {
    "duration": 393,
    "start_time": "2023-06-23T18:21:16.530Z"
   },
   {
    "duration": 361,
    "start_time": "2023-06-23T18:21:16.925Z"
   },
   {
    "duration": 19,
    "start_time": "2023-06-23T18:21:17.288Z"
   },
   {
    "duration": 191,
    "start_time": "2023-06-23T18:21:17.310Z"
   },
   {
    "duration": 4,
    "start_time": "2023-06-23T18:21:17.504Z"
   },
   {
    "duration": 26,
    "start_time": "2023-06-23T18:21:17.510Z"
   },
   {
    "duration": 37,
    "start_time": "2023-06-23T18:21:17.538Z"
   },
   {
    "duration": 9,
    "start_time": "2023-06-23T18:21:17.578Z"
   },
   {
    "duration": 16,
    "start_time": "2023-06-23T18:21:17.589Z"
   },
   {
    "duration": 359,
    "start_time": "2023-06-23T18:21:17.608Z"
   },
   {
    "duration": 3,
    "start_time": "2023-06-23T18:21:17.969Z"
   },
   {
    "duration": 9,
    "start_time": "2023-06-23T18:21:17.974Z"
   },
   {
    "duration": 92,
    "start_time": "2023-06-23T18:21:17.985Z"
   },
   {
    "duration": 1148,
    "start_time": "2023-06-23T18:21:18.078Z"
   },
   {
    "duration": 1602,
    "start_time": "2023-06-23T18:21:19.228Z"
   },
   {
    "duration": 5898,
    "start_time": "2023-06-23T18:21:20.832Z"
   },
   {
    "duration": 3972,
    "start_time": "2023-06-23T18:21:26.732Z"
   },
   {
    "duration": 7273,
    "start_time": "2023-06-23T18:21:30.707Z"
   },
   {
    "duration": 7,
    "start_time": "2023-06-23T18:21:37.982Z"
   },
   {
    "duration": 2618,
    "start_time": "2023-06-23T18:23:33.458Z"
   },
   {
    "duration": 87,
    "start_time": "2023-06-23T18:24:32.670Z"
   },
   {
    "duration": 2281,
    "start_time": "2023-06-23T18:24:48.701Z"
   },
   {
    "duration": 1571,
    "start_time": "2023-06-23T18:26:32.602Z"
   },
   {
    "duration": 1715,
    "start_time": "2023-06-23T18:27:03.232Z"
   },
   {
    "duration": 54,
    "start_time": "2023-06-23T18:27:04.949Z"
   },
   {
    "duration": 5,
    "start_time": "2023-06-23T18:27:05.005Z"
   },
   {
    "duration": 39,
    "start_time": "2023-06-23T18:27:05.013Z"
   },
   {
    "duration": 43,
    "start_time": "2023-06-23T18:27:05.054Z"
   },
   {
    "duration": 12,
    "start_time": "2023-06-23T18:27:05.099Z"
   },
   {
    "duration": 311,
    "start_time": "2023-06-23T18:27:05.114Z"
   },
   {
    "duration": 336,
    "start_time": "2023-06-23T18:27:05.427Z"
   },
   {
    "duration": 13,
    "start_time": "2023-06-23T18:27:05.766Z"
   },
   {
    "duration": 958,
    "start_time": "2023-06-23T18:27:05.782Z"
   },
   {
    "duration": 398,
    "start_time": "2023-06-23T18:27:06.742Z"
   },
   {
    "duration": 364,
    "start_time": "2023-06-23T18:27:07.142Z"
   },
   {
    "duration": 17,
    "start_time": "2023-06-23T18:27:07.508Z"
   },
   {
    "duration": 195,
    "start_time": "2023-06-23T18:27:07.527Z"
   },
   {
    "duration": 4,
    "start_time": "2023-06-23T18:27:07.724Z"
   },
   {
    "duration": 2640,
    "start_time": "2023-06-23T18:27:07.730Z"
   },
   {
    "duration": 103,
    "start_time": "2023-06-23T18:27:10.372Z"
   },
   {
    "duration": 28,
    "start_time": "2023-06-23T18:27:10.477Z"
   },
   {
    "duration": 59,
    "start_time": "2023-06-23T18:27:10.508Z"
   },
   {
    "duration": 22,
    "start_time": "2023-06-23T18:27:10.570Z"
   },
   {
    "duration": 179,
    "start_time": "2023-06-23T18:27:10.594Z"
   },
   {
    "duration": 2,
    "start_time": "2023-06-23T18:27:10.775Z"
   },
   {
    "duration": 101,
    "start_time": "2023-06-23T18:27:10.779Z"
   },
   {
    "duration": 192,
    "start_time": "2023-06-23T18:27:10.882Z"
   },
   {
    "duration": 1832,
    "start_time": "2023-06-23T18:27:11.077Z"
   },
   {
    "duration": 1750,
    "start_time": "2023-06-23T18:27:12.911Z"
   },
   {
    "duration": 5795,
    "start_time": "2023-06-23T18:27:14.662Z"
   },
   {
    "duration": 3484,
    "start_time": "2023-06-23T18:27:20.466Z"
   },
   {
    "duration": 1643,
    "start_time": "2023-06-23T18:27:32.329Z"
   },
   {
    "duration": 71,
    "start_time": "2023-06-23T18:27:33.975Z"
   },
   {
    "duration": 4,
    "start_time": "2023-06-23T18:27:34.049Z"
   },
   {
    "duration": 17,
    "start_time": "2023-06-23T18:27:34.058Z"
   },
   {
    "duration": 40,
    "start_time": "2023-06-23T18:27:34.077Z"
   },
   {
    "duration": 11,
    "start_time": "2023-06-23T18:27:34.119Z"
   },
   {
    "duration": 357,
    "start_time": "2023-06-23T18:27:34.132Z"
   },
   {
    "duration": 377,
    "start_time": "2023-06-23T18:27:34.491Z"
   },
   {
    "duration": 11,
    "start_time": "2023-06-23T18:27:34.869Z"
   },
   {
    "duration": 898,
    "start_time": "2023-06-23T18:27:34.884Z"
   },
   {
    "duration": 385,
    "start_time": "2023-06-23T18:27:35.785Z"
   },
   {
    "duration": 344,
    "start_time": "2023-06-23T18:27:36.172Z"
   },
   {
    "duration": 14,
    "start_time": "2023-06-23T18:27:36.518Z"
   },
   {
    "duration": 181,
    "start_time": "2023-06-23T18:27:36.533Z"
   },
   {
    "duration": 3,
    "start_time": "2023-06-23T18:27:36.716Z"
   },
   {
    "duration": 1557,
    "start_time": "2023-06-23T18:27:36.720Z"
   },
   {
    "duration": 191,
    "start_time": "2023-06-23T18:27:38.279Z"
   },
   {
    "duration": 8,
    "start_time": "2023-06-23T18:27:38.472Z"
   },
   {
    "duration": 8,
    "start_time": "2023-06-23T18:27:38.482Z"
   },
   {
    "duration": 12,
    "start_time": "2023-06-23T18:27:38.492Z"
   },
   {
    "duration": 168,
    "start_time": "2023-06-23T18:27:38.506Z"
   },
   {
    "duration": 89,
    "start_time": "2023-06-23T18:27:38.679Z"
   },
   {
    "duration": 14,
    "start_time": "2023-06-23T18:27:38.770Z"
   },
   {
    "duration": 188,
    "start_time": "2023-06-23T18:27:38.786Z"
   },
   {
    "duration": 1100,
    "start_time": "2023-06-23T18:27:38.978Z"
   },
   {
    "duration": 2543,
    "start_time": "2023-06-23T18:27:40.080Z"
   },
   {
    "duration": 5916,
    "start_time": "2023-06-23T18:27:42.625Z"
   },
   {
    "duration": 3116,
    "start_time": "2023-06-23T18:27:48.546Z"
   },
   {
    "duration": 6858,
    "start_time": "2023-06-23T18:27:51.664Z"
   },
   {
    "duration": 7,
    "start_time": "2023-06-23T18:27:58.525Z"
   },
   {
    "duration": 1415,
    "start_time": "2023-06-23T18:35:58.566Z"
   },
   {
    "duration": 1814,
    "start_time": "2023-06-23T18:36:09.468Z"
   },
   {
    "duration": 93,
    "start_time": "2023-06-23T18:37:40.406Z"
   },
   {
    "duration": 1924,
    "start_time": "2023-06-23T18:58:55.477Z"
   },
   {
    "duration": 55,
    "start_time": "2023-06-23T18:58:57.404Z"
   },
   {
    "duration": 4,
    "start_time": "2023-06-23T18:58:57.461Z"
   },
   {
    "duration": 11,
    "start_time": "2023-06-23T18:58:57.468Z"
   },
   {
    "duration": 33,
    "start_time": "2023-06-23T18:58:57.481Z"
   },
   {
    "duration": 10,
    "start_time": "2023-06-23T18:58:57.516Z"
   },
   {
    "duration": 327,
    "start_time": "2023-06-23T18:58:57.529Z"
   },
   {
    "duration": 392,
    "start_time": "2023-06-23T18:58:57.858Z"
   },
   {
    "duration": 17,
    "start_time": "2023-06-23T18:58:58.252Z"
   },
   {
    "duration": 1085,
    "start_time": "2023-06-23T18:58:58.273Z"
   },
   {
    "duration": 405,
    "start_time": "2023-06-23T18:58:59.361Z"
   },
   {
    "duration": 439,
    "start_time": "2023-06-23T18:58:59.769Z"
   },
   {
    "duration": 21,
    "start_time": "2023-06-23T18:59:00.211Z"
   },
   {
    "duration": 232,
    "start_time": "2023-06-23T18:59:00.235Z"
   },
   {
    "duration": 3,
    "start_time": "2023-06-23T18:59:00.470Z"
   },
   {
    "duration": 2008,
    "start_time": "2023-06-23T18:59:00.475Z"
   },
   {
    "duration": 2598,
    "start_time": "2023-06-23T18:59:02.570Z"
   },
   {
    "duration": 112,
    "start_time": "2023-06-23T18:59:05.177Z"
   },
   {
    "duration": 10,
    "start_time": "2023-06-23T18:59:05.292Z"
   },
   {
    "duration": 21,
    "start_time": "2023-06-23T18:59:05.304Z"
   },
   {
    "duration": 20,
    "start_time": "2023-06-23T18:59:05.327Z"
   },
   {
    "duration": 221,
    "start_time": "2023-06-23T18:59:05.349Z"
   },
   {
    "duration": 3,
    "start_time": "2023-06-23T18:59:05.573Z"
   },
   {
    "duration": 15,
    "start_time": "2023-06-23T18:59:05.578Z"
   },
   {
    "duration": 211,
    "start_time": "2023-06-23T18:59:05.668Z"
   },
   {
    "duration": 1174,
    "start_time": "2023-06-23T18:59:05.882Z"
   },
   {
    "duration": 1627,
    "start_time": "2023-06-23T18:59:07.057Z"
   },
   {
    "duration": 5965,
    "start_time": "2023-06-23T18:59:08.688Z"
   },
   {
    "duration": 3495,
    "start_time": "2023-06-23T18:59:14.655Z"
   },
   {
    "duration": 6910,
    "start_time": "2023-06-23T18:59:18.152Z"
   },
   {
    "duration": 7,
    "start_time": "2023-06-23T18:59:25.065Z"
   },
   {
    "duration": 1648,
    "start_time": "2023-06-23T19:09:28.959Z"
   },
   {
    "duration": 54,
    "start_time": "2023-06-23T19:09:30.610Z"
   },
   {
    "duration": 10,
    "start_time": "2023-06-23T19:09:30.666Z"
   },
   {
    "duration": 43,
    "start_time": "2023-06-23T19:09:30.679Z"
   },
   {
    "duration": 63,
    "start_time": "2023-06-23T19:09:30.724Z"
   },
   {
    "duration": 13,
    "start_time": "2023-06-23T19:09:30.789Z"
   },
   {
    "duration": 344,
    "start_time": "2023-06-23T19:09:30.804Z"
   },
   {
    "duration": 313,
    "start_time": "2023-06-23T19:09:31.150Z"
   },
   {
    "duration": 17,
    "start_time": "2023-06-23T19:09:31.471Z"
   },
   {
    "duration": 1022,
    "start_time": "2023-06-23T19:09:31.492Z"
   },
   {
    "duration": 473,
    "start_time": "2023-06-23T19:09:32.517Z"
   },
   {
    "duration": 396,
    "start_time": "2023-06-23T19:09:32.992Z"
   },
   {
    "duration": 14,
    "start_time": "2023-06-23T19:09:33.390Z"
   },
   {
    "duration": 190,
    "start_time": "2023-06-23T19:09:33.406Z"
   },
   {
    "duration": 3,
    "start_time": "2023-06-23T19:09:33.599Z"
   },
   {
    "duration": 4374,
    "start_time": "2023-06-23T19:09:33.605Z"
   },
   {
    "duration": 6212,
    "start_time": "2023-06-23T19:09:37.982Z"
   },
   {
    "duration": 178,
    "start_time": "2023-06-23T19:09:44.199Z"
   },
   {
    "duration": 9,
    "start_time": "2023-06-23T19:09:44.386Z"
   },
   {
    "duration": 19,
    "start_time": "2023-06-23T19:09:44.397Z"
   },
   {
    "duration": 9,
    "start_time": "2023-06-23T19:09:44.418Z"
   },
   {
    "duration": 157,
    "start_time": "2023-06-23T19:09:44.429Z"
   },
   {
    "duration": 6,
    "start_time": "2023-06-23T19:09:44.589Z"
   },
   {
    "duration": 80,
    "start_time": "2023-06-23T19:09:44.597Z"
   },
   {
    "duration": 192,
    "start_time": "2023-06-23T19:09:44.680Z"
   },
   {
    "duration": 1179,
    "start_time": "2023-06-23T19:09:44.874Z"
   },
   {
    "duration": 1742,
    "start_time": "2023-06-23T19:09:46.055Z"
   },
   {
    "duration": 6117,
    "start_time": "2023-06-23T19:09:47.801Z"
   },
   {
    "duration": 3966,
    "start_time": "2023-06-23T19:09:53.921Z"
   },
   {
    "duration": 8799,
    "start_time": "2023-06-23T19:09:57.889Z"
   },
   {
    "duration": 7,
    "start_time": "2023-06-23T19:10:06.690Z"
   },
   {
    "duration": 5988,
    "start_time": "2023-06-24T18:41:38.601Z"
   },
   {
    "duration": 139,
    "start_time": "2023-06-24T18:41:44.591Z"
   },
   {
    "duration": 3,
    "start_time": "2023-06-24T18:41:44.731Z"
   },
   {
    "duration": 28,
    "start_time": "2023-06-24T18:41:44.736Z"
   },
   {
    "duration": 51,
    "start_time": "2023-06-24T18:41:44.765Z"
   },
   {
    "duration": 11,
    "start_time": "2023-06-24T18:41:44.818Z"
   },
   {
    "duration": 490,
    "start_time": "2023-06-24T18:41:44.831Z"
   },
   {
    "duration": 7,
    "start_time": "2023-06-24T18:41:45.323Z"
   },
   {
    "duration": 1305,
    "start_time": "2023-06-24T18:41:45.332Z"
   },
   {
    "duration": 487,
    "start_time": "2023-06-24T18:41:46.639Z"
   },
   {
    "duration": 3,
    "start_time": "2023-06-24T18:41:47.128Z"
   },
   {
    "duration": 10,
    "start_time": "2023-06-24T18:41:54.149Z"
   },
   {
    "duration": 1539,
    "start_time": "2023-06-24T19:04:19.751Z"
   },
   {
    "duration": 126,
    "start_time": "2023-06-24T19:04:21.291Z"
   },
   {
    "duration": 0,
    "start_time": "2023-06-24T19:04:21.419Z"
   },
   {
    "duration": 0,
    "start_time": "2023-06-24T19:04:21.420Z"
   },
   {
    "duration": 0,
    "start_time": "2023-06-24T19:04:21.421Z"
   },
   {
    "duration": 0,
    "start_time": "2023-06-24T19:04:21.422Z"
   },
   {
    "duration": 0,
    "start_time": "2023-06-24T19:04:21.423Z"
   },
   {
    "duration": 0,
    "start_time": "2023-06-24T19:04:21.424Z"
   },
   {
    "duration": 0,
    "start_time": "2023-06-24T19:04:21.424Z"
   },
   {
    "duration": 0,
    "start_time": "2023-06-24T19:04:21.425Z"
   },
   {
    "duration": 0,
    "start_time": "2023-06-24T19:04:21.426Z"
   },
   {
    "duration": 0,
    "start_time": "2023-06-24T19:04:21.427Z"
   },
   {
    "duration": 0,
    "start_time": "2023-06-24T19:04:21.428Z"
   },
   {
    "duration": 0,
    "start_time": "2023-06-24T19:04:21.429Z"
   },
   {
    "duration": 0,
    "start_time": "2023-06-24T19:04:21.429Z"
   },
   {
    "duration": 0,
    "start_time": "2023-06-24T19:04:21.430Z"
   },
   {
    "duration": 0,
    "start_time": "2023-06-24T19:04:21.431Z"
   },
   {
    "duration": 0,
    "start_time": "2023-06-24T19:04:21.432Z"
   },
   {
    "duration": 0,
    "start_time": "2023-06-24T19:04:21.432Z"
   },
   {
    "duration": 0,
    "start_time": "2023-06-24T19:04:21.434Z"
   },
   {
    "duration": 0,
    "start_time": "2023-06-24T19:04:21.434Z"
   },
   {
    "duration": 0,
    "start_time": "2023-06-24T19:04:21.435Z"
   },
   {
    "duration": 0,
    "start_time": "2023-06-24T19:04:21.436Z"
   },
   {
    "duration": 0,
    "start_time": "2023-06-24T19:04:21.437Z"
   },
   {
    "duration": 0,
    "start_time": "2023-06-24T19:04:21.438Z"
   },
   {
    "duration": 0,
    "start_time": "2023-06-24T19:04:21.439Z"
   },
   {
    "duration": 0,
    "start_time": "2023-06-24T19:04:21.440Z"
   },
   {
    "duration": 0,
    "start_time": "2023-06-24T19:04:21.441Z"
   },
   {
    "duration": 0,
    "start_time": "2023-06-24T19:04:21.441Z"
   },
   {
    "duration": 1292,
    "start_time": "2023-06-24T19:05:09.694Z"
   },
   {
    "duration": 130,
    "start_time": "2023-06-24T19:05:10.988Z"
   },
   {
    "duration": 7,
    "start_time": "2023-06-24T19:05:11.119Z"
   },
   {
    "duration": 12,
    "start_time": "2023-06-24T19:05:11.129Z"
   },
   {
    "duration": 12,
    "start_time": "2023-06-24T19:05:11.143Z"
   },
   {
    "duration": 289,
    "start_time": "2023-06-24T19:05:11.157Z"
   },
   {
    "duration": 7,
    "start_time": "2023-06-24T19:05:11.447Z"
   },
   {
    "duration": 791,
    "start_time": "2023-06-24T19:05:11.455Z"
   },
   {
    "duration": 683,
    "start_time": "2023-06-24T19:05:12.248Z"
   },
   {
    "duration": 2,
    "start_time": "2023-06-24T19:05:12.934Z"
   },
   {
    "duration": 71,
    "start_time": "2023-06-24T19:05:12.938Z"
   },
   {
    "duration": 306,
    "start_time": "2023-06-24T19:05:13.011Z"
   },
   {
    "duration": 3,
    "start_time": "2023-06-24T19:05:13.319Z"
   },
   {
    "duration": 6486,
    "start_time": "2023-06-24T19:05:13.323Z"
   },
   {
    "duration": 5807,
    "start_time": "2023-06-24T19:05:19.810Z"
   },
   {
    "duration": 90,
    "start_time": "2023-06-24T19:05:25.625Z"
   },
   {
    "duration": 31,
    "start_time": "2023-06-24T19:05:25.717Z"
   },
   {
    "duration": 4,
    "start_time": "2023-06-24T19:05:25.750Z"
   },
   {
    "duration": 45,
    "start_time": "2023-06-24T19:05:25.756Z"
   },
   {
    "duration": 94,
    "start_time": "2023-06-24T19:05:25.811Z"
   },
   {
    "duration": 114,
    "start_time": "2023-06-24T19:05:25.912Z"
   },
   {
    "duration": 11,
    "start_time": "2023-06-24T19:05:26.028Z"
   },
   {
    "duration": 70,
    "start_time": "2023-06-24T19:05:26.041Z"
   },
   {
    "duration": 1353,
    "start_time": "2023-06-24T19:05:26.119Z"
   },
   {
    "duration": 1684,
    "start_time": "2023-06-24T19:05:27.474Z"
   },
   {
    "duration": 3,
    "start_time": "2023-06-24T19:05:29.160Z"
   },
   {
    "duration": 5722,
    "start_time": "2023-06-24T19:05:29.165Z"
   },
   {
    "duration": 2750,
    "start_time": "2023-06-24T19:05:34.891Z"
   },
   {
    "duration": 5309,
    "start_time": "2023-06-24T19:05:37.642Z"
   },
   {
    "duration": 5,
    "start_time": "2023-06-24T19:05:42.952Z"
   },
   {
    "duration": 93,
    "start_time": "2023-06-24T19:05:53.381Z"
   },
   {
    "duration": 1448,
    "start_time": "2023-06-24T19:12:41.275Z"
   },
   {
    "duration": 52,
    "start_time": "2023-06-24T19:12:42.725Z"
   },
   {
    "duration": 7,
    "start_time": "2023-06-24T19:12:42.778Z"
   },
   {
    "duration": 23,
    "start_time": "2023-06-24T19:12:42.800Z"
   },
   {
    "duration": 12,
    "start_time": "2023-06-24T19:12:42.825Z"
   },
   {
    "duration": 611,
    "start_time": "2023-06-24T19:12:42.839Z"
   },
   {
    "duration": 7,
    "start_time": "2023-06-24T19:12:43.452Z"
   },
   {
    "duration": 1480,
    "start_time": "2023-06-24T19:12:43.461Z"
   },
   {
    "duration": 481,
    "start_time": "2023-06-24T19:12:44.943Z"
   },
   {
    "duration": 4,
    "start_time": "2023-06-24T19:12:45.427Z"
   },
   {
    "duration": 208,
    "start_time": "2023-06-24T19:12:45.433Z"
   },
   {
    "duration": 0,
    "start_time": "2023-06-24T19:12:45.643Z"
   },
   {
    "duration": 0,
    "start_time": "2023-06-24T19:12:45.645Z"
   },
   {
    "duration": 0,
    "start_time": "2023-06-24T19:12:45.646Z"
   },
   {
    "duration": 0,
    "start_time": "2023-06-24T19:12:45.647Z"
   },
   {
    "duration": 0,
    "start_time": "2023-06-24T19:12:45.648Z"
   },
   {
    "duration": 0,
    "start_time": "2023-06-24T19:12:45.649Z"
   },
   {
    "duration": 0,
    "start_time": "2023-06-24T19:12:45.650Z"
   },
   {
    "duration": 0,
    "start_time": "2023-06-24T19:12:45.651Z"
   },
   {
    "duration": 0,
    "start_time": "2023-06-24T19:12:45.652Z"
   },
   {
    "duration": 0,
    "start_time": "2023-06-24T19:12:45.654Z"
   },
   {
    "duration": 0,
    "start_time": "2023-06-24T19:12:45.655Z"
   },
   {
    "duration": 0,
    "start_time": "2023-06-24T19:12:45.656Z"
   },
   {
    "duration": 0,
    "start_time": "2023-06-24T19:12:45.657Z"
   },
   {
    "duration": 0,
    "start_time": "2023-06-24T19:12:45.659Z"
   },
   {
    "duration": 0,
    "start_time": "2023-06-24T19:12:45.660Z"
   },
   {
    "duration": 0,
    "start_time": "2023-06-24T19:12:45.661Z"
   },
   {
    "duration": 0,
    "start_time": "2023-06-24T19:12:45.662Z"
   },
   {
    "duration": 0,
    "start_time": "2023-06-24T19:12:45.663Z"
   },
   {
    "duration": 0,
    "start_time": "2023-06-24T19:12:45.665Z"
   },
   {
    "duration": 1401,
    "start_time": "2023-06-24T19:13:10.815Z"
   },
   {
    "duration": 44,
    "start_time": "2023-06-24T19:13:12.218Z"
   },
   {
    "duration": 7,
    "start_time": "2023-06-24T19:13:12.264Z"
   },
   {
    "duration": 10,
    "start_time": "2023-06-24T19:13:12.273Z"
   },
   {
    "duration": 10,
    "start_time": "2023-06-24T19:13:12.285Z"
   },
   {
    "duration": 293,
    "start_time": "2023-06-24T19:13:12.297Z"
   },
   {
    "duration": 20,
    "start_time": "2023-06-24T19:13:12.593Z"
   },
   {
    "duration": 828,
    "start_time": "2023-06-24T19:13:12.618Z"
   },
   {
    "duration": 370,
    "start_time": "2023-06-24T19:13:13.448Z"
   },
   {
    "duration": 14,
    "start_time": "2023-06-24T19:13:13.820Z"
   },
   {
    "duration": 2,
    "start_time": "2023-06-24T19:13:13.836Z"
   },
   {
    "duration": 148,
    "start_time": "2023-06-24T19:13:13.840Z"
   },
   {
    "duration": 0,
    "start_time": "2023-06-24T19:13:13.990Z"
   },
   {
    "duration": 0,
    "start_time": "2023-06-24T19:13:13.991Z"
   },
   {
    "duration": 0,
    "start_time": "2023-06-24T19:13:13.992Z"
   },
   {
    "duration": 0,
    "start_time": "2023-06-24T19:13:13.994Z"
   },
   {
    "duration": 0,
    "start_time": "2023-06-24T19:13:14.001Z"
   },
   {
    "duration": 0,
    "start_time": "2023-06-24T19:13:14.001Z"
   },
   {
    "duration": 0,
    "start_time": "2023-06-24T19:13:14.002Z"
   },
   {
    "duration": 0,
    "start_time": "2023-06-24T19:13:14.003Z"
   },
   {
    "duration": 0,
    "start_time": "2023-06-24T19:13:14.005Z"
   },
   {
    "duration": 0,
    "start_time": "2023-06-24T19:13:14.006Z"
   },
   {
    "duration": 0,
    "start_time": "2023-06-24T19:13:14.006Z"
   },
   {
    "duration": 0,
    "start_time": "2023-06-24T19:13:14.007Z"
   },
   {
    "duration": 0,
    "start_time": "2023-06-24T19:13:14.008Z"
   },
   {
    "duration": 0,
    "start_time": "2023-06-24T19:13:14.008Z"
   },
   {
    "duration": 0,
    "start_time": "2023-06-24T19:13:14.009Z"
   },
   {
    "duration": 0,
    "start_time": "2023-06-24T19:13:14.010Z"
   },
   {
    "duration": 0,
    "start_time": "2023-06-24T19:13:14.010Z"
   },
   {
    "duration": 0,
    "start_time": "2023-06-24T19:13:14.011Z"
   },
   {
    "duration": 0,
    "start_time": "2023-06-24T19:13:14.012Z"
   },
   {
    "duration": 1428,
    "start_time": "2023-06-24T19:14:42.524Z"
   },
   {
    "duration": 44,
    "start_time": "2023-06-24T19:14:43.953Z"
   },
   {
    "duration": 10,
    "start_time": "2023-06-24T19:14:43.998Z"
   },
   {
    "duration": 29,
    "start_time": "2023-06-24T19:14:44.010Z"
   },
   {
    "duration": 18,
    "start_time": "2023-06-24T19:14:44.040Z"
   },
   {
    "duration": 295,
    "start_time": "2023-06-24T19:14:44.059Z"
   },
   {
    "duration": 8,
    "start_time": "2023-06-24T19:14:44.355Z"
   },
   {
    "duration": 791,
    "start_time": "2023-06-24T19:14:44.364Z"
   },
   {
    "duration": 552,
    "start_time": "2023-06-24T19:14:45.156Z"
   },
   {
    "duration": 5,
    "start_time": "2023-06-24T19:14:45.717Z"
   },
   {
    "duration": 302,
    "start_time": "2023-06-24T19:14:45.727Z"
   },
   {
    "duration": 0,
    "start_time": "2023-06-24T19:14:46.032Z"
   },
   {
    "duration": 0,
    "start_time": "2023-06-24T19:14:46.033Z"
   },
   {
    "duration": 0,
    "start_time": "2023-06-24T19:14:46.035Z"
   },
   {
    "duration": 0,
    "start_time": "2023-06-24T19:14:46.037Z"
   },
   {
    "duration": 0,
    "start_time": "2023-06-24T19:14:46.038Z"
   },
   {
    "duration": 0,
    "start_time": "2023-06-24T19:14:46.040Z"
   },
   {
    "duration": 0,
    "start_time": "2023-06-24T19:14:46.041Z"
   },
   {
    "duration": 0,
    "start_time": "2023-06-24T19:14:46.042Z"
   },
   {
    "duration": 0,
    "start_time": "2023-06-24T19:14:46.044Z"
   },
   {
    "duration": 0,
    "start_time": "2023-06-24T19:14:46.045Z"
   },
   {
    "duration": 0,
    "start_time": "2023-06-24T19:14:46.046Z"
   },
   {
    "duration": 0,
    "start_time": "2023-06-24T19:14:46.048Z"
   },
   {
    "duration": 0,
    "start_time": "2023-06-24T19:14:46.049Z"
   },
   {
    "duration": 0,
    "start_time": "2023-06-24T19:14:46.103Z"
   },
   {
    "duration": 0,
    "start_time": "2023-06-24T19:14:46.105Z"
   },
   {
    "duration": 0,
    "start_time": "2023-06-24T19:14:46.105Z"
   },
   {
    "duration": 0,
    "start_time": "2023-06-24T19:14:46.106Z"
   },
   {
    "duration": 0,
    "start_time": "2023-06-24T19:14:46.107Z"
   },
   {
    "duration": 0,
    "start_time": "2023-06-24T19:14:46.108Z"
   },
   {
    "duration": 1486,
    "start_time": "2023-06-24T19:23:01.625Z"
   },
   {
    "duration": 44,
    "start_time": "2023-06-24T19:23:03.115Z"
   },
   {
    "duration": 7,
    "start_time": "2023-06-24T19:23:03.161Z"
   },
   {
    "duration": 7,
    "start_time": "2023-06-24T19:23:03.169Z"
   },
   {
    "duration": 11,
    "start_time": "2023-06-24T19:23:03.178Z"
   },
   {
    "duration": 284,
    "start_time": "2023-06-24T19:23:03.190Z"
   },
   {
    "duration": 6,
    "start_time": "2023-06-24T19:23:03.476Z"
   },
   {
    "duration": 768,
    "start_time": "2023-06-24T19:23:03.483Z"
   },
   {
    "duration": 305,
    "start_time": "2023-06-24T19:23:04.252Z"
   },
   {
    "duration": 3,
    "start_time": "2023-06-24T19:23:04.560Z"
   },
   {
    "duration": 162,
    "start_time": "2023-06-24T19:23:04.564Z"
   },
   {
    "duration": 0,
    "start_time": "2023-06-24T19:23:04.728Z"
   },
   {
    "duration": 0,
    "start_time": "2023-06-24T19:23:04.729Z"
   },
   {
    "duration": 0,
    "start_time": "2023-06-24T19:23:04.731Z"
   },
   {
    "duration": 0,
    "start_time": "2023-06-24T19:23:04.732Z"
   },
   {
    "duration": 0,
    "start_time": "2023-06-24T19:23:04.733Z"
   },
   {
    "duration": 0,
    "start_time": "2023-06-24T19:23:04.735Z"
   },
   {
    "duration": 0,
    "start_time": "2023-06-24T19:23:04.736Z"
   },
   {
    "duration": 0,
    "start_time": "2023-06-24T19:23:04.737Z"
   },
   {
    "duration": 0,
    "start_time": "2023-06-24T19:23:04.738Z"
   },
   {
    "duration": 0,
    "start_time": "2023-06-24T19:23:04.739Z"
   },
   {
    "duration": 0,
    "start_time": "2023-06-24T19:23:04.740Z"
   },
   {
    "duration": 0,
    "start_time": "2023-06-24T19:23:04.741Z"
   },
   {
    "duration": 0,
    "start_time": "2023-06-24T19:23:04.742Z"
   },
   {
    "duration": 0,
    "start_time": "2023-06-24T19:23:04.743Z"
   },
   {
    "duration": 0,
    "start_time": "2023-06-24T19:23:04.744Z"
   },
   {
    "duration": 0,
    "start_time": "2023-06-24T19:23:04.745Z"
   },
   {
    "duration": 0,
    "start_time": "2023-06-24T19:23:04.745Z"
   },
   {
    "duration": 0,
    "start_time": "2023-06-24T19:23:04.746Z"
   },
   {
    "duration": 0,
    "start_time": "2023-06-24T19:23:04.747Z"
   },
   {
    "duration": 262,
    "start_time": "2023-06-24T19:24:01.070Z"
   },
   {
    "duration": 145,
    "start_time": "2023-06-24T19:24:16.268Z"
   },
   {
    "duration": 1632,
    "start_time": "2023-06-24T19:24:38.266Z"
   },
   {
    "duration": 66,
    "start_time": "2023-06-24T19:24:39.910Z"
   },
   {
    "duration": 11,
    "start_time": "2023-06-24T19:24:39.978Z"
   },
   {
    "duration": 54,
    "start_time": "2023-06-24T19:24:39.991Z"
   },
   {
    "duration": 47,
    "start_time": "2023-06-24T19:24:40.048Z"
   },
   {
    "duration": 506,
    "start_time": "2023-06-24T19:24:40.097Z"
   },
   {
    "duration": 12,
    "start_time": "2023-06-24T19:24:40.605Z"
   },
   {
    "duration": 2187,
    "start_time": "2023-06-24T19:24:40.619Z"
   },
   {
    "duration": 308,
    "start_time": "2023-06-24T19:24:42.814Z"
   },
   {
    "duration": 3,
    "start_time": "2023-06-24T19:24:43.125Z"
   },
   {
    "duration": 66,
    "start_time": "2023-06-24T19:24:43.130Z"
   },
   {
    "duration": 227,
    "start_time": "2023-06-24T19:24:43.199Z"
   },
   {
    "duration": 3,
    "start_time": "2023-06-24T19:24:43.428Z"
   },
   {
    "duration": 155,
    "start_time": "2023-06-24T19:24:43.433Z"
   },
   {
    "duration": 0,
    "start_time": "2023-06-24T19:24:43.590Z"
   },
   {
    "duration": 0,
    "start_time": "2023-06-24T19:24:43.592Z"
   },
   {
    "duration": 0,
    "start_time": "2023-06-24T19:24:43.593Z"
   },
   {
    "duration": 0,
    "start_time": "2023-06-24T19:24:43.603Z"
   },
   {
    "duration": 0,
    "start_time": "2023-06-24T19:24:43.610Z"
   },
   {
    "duration": 0,
    "start_time": "2023-06-24T19:24:43.610Z"
   },
   {
    "duration": 0,
    "start_time": "2023-06-24T19:24:43.611Z"
   },
   {
    "duration": 0,
    "start_time": "2023-06-24T19:24:43.613Z"
   },
   {
    "duration": 0,
    "start_time": "2023-06-24T19:24:43.614Z"
   },
   {
    "duration": 0,
    "start_time": "2023-06-24T19:24:43.615Z"
   },
   {
    "duration": 0,
    "start_time": "2023-06-24T19:24:43.617Z"
   },
   {
    "duration": 0,
    "start_time": "2023-06-24T19:24:43.618Z"
   },
   {
    "duration": 0,
    "start_time": "2023-06-24T19:24:43.619Z"
   },
   {
    "duration": 0,
    "start_time": "2023-06-24T19:24:43.620Z"
   },
   {
    "duration": 0,
    "start_time": "2023-06-24T19:24:43.620Z"
   },
   {
    "duration": 0,
    "start_time": "2023-06-24T19:24:43.621Z"
   },
   {
    "duration": 2,
    "start_time": "2023-06-24T19:30:52.493Z"
   },
   {
    "duration": 16,
    "start_time": "2023-06-24T19:31:03.193Z"
   },
   {
    "duration": 3722,
    "start_time": "2023-06-24T19:31:52.214Z"
   },
   {
    "duration": 1428,
    "start_time": "2023-06-24T19:32:19.720Z"
   },
   {
    "duration": 47,
    "start_time": "2023-06-24T19:32:21.150Z"
   },
   {
    "duration": 17,
    "start_time": "2023-06-24T19:32:21.198Z"
   },
   {
    "duration": 9,
    "start_time": "2023-06-24T19:32:21.217Z"
   },
   {
    "duration": 23,
    "start_time": "2023-06-24T19:32:21.228Z"
   },
   {
    "duration": 315,
    "start_time": "2023-06-24T19:32:21.253Z"
   },
   {
    "duration": 7,
    "start_time": "2023-06-24T19:32:21.569Z"
   },
   {
    "duration": 1348,
    "start_time": "2023-06-24T19:32:21.578Z"
   },
   {
    "duration": 691,
    "start_time": "2023-06-24T19:32:22.928Z"
   },
   {
    "duration": 3,
    "start_time": "2023-06-24T19:32:23.621Z"
   },
   {
    "duration": 6,
    "start_time": "2023-06-24T19:32:23.625Z"
   },
   {
    "duration": 194,
    "start_time": "2023-06-24T19:32:23.632Z"
   },
   {
    "duration": 3,
    "start_time": "2023-06-24T19:32:23.827Z"
   },
   {
    "duration": 4297,
    "start_time": "2023-06-24T19:32:23.832Z"
   },
   {
    "duration": 0,
    "start_time": "2023-06-24T19:32:28.130Z"
   },
   {
    "duration": 0,
    "start_time": "2023-06-24T19:32:28.131Z"
   },
   {
    "duration": 0,
    "start_time": "2023-06-24T19:32:28.132Z"
   },
   {
    "duration": 0,
    "start_time": "2023-06-24T19:32:28.133Z"
   },
   {
    "duration": 0,
    "start_time": "2023-06-24T19:32:28.134Z"
   },
   {
    "duration": 0,
    "start_time": "2023-06-24T19:32:28.134Z"
   },
   {
    "duration": 0,
    "start_time": "2023-06-24T19:32:28.135Z"
   },
   {
    "duration": 0,
    "start_time": "2023-06-24T19:32:28.136Z"
   },
   {
    "duration": 0,
    "start_time": "2023-06-24T19:32:28.137Z"
   },
   {
    "duration": 0,
    "start_time": "2023-06-24T19:32:28.138Z"
   },
   {
    "duration": 0,
    "start_time": "2023-06-24T19:32:28.139Z"
   },
   {
    "duration": 0,
    "start_time": "2023-06-24T19:32:28.140Z"
   },
   {
    "duration": 0,
    "start_time": "2023-06-24T19:32:28.140Z"
   },
   {
    "duration": 0,
    "start_time": "2023-06-24T19:32:28.141Z"
   },
   {
    "duration": 0,
    "start_time": "2023-06-24T19:32:28.142Z"
   },
   {
    "duration": 0,
    "start_time": "2023-06-24T19:32:28.144Z"
   },
   {
    "duration": 1359,
    "start_time": "2023-06-24T19:32:48.833Z"
   },
   {
    "duration": 46,
    "start_time": "2023-06-24T19:32:50.194Z"
   },
   {
    "duration": 7,
    "start_time": "2023-06-24T19:32:50.242Z"
   },
   {
    "duration": 9,
    "start_time": "2023-06-24T19:32:50.250Z"
   },
   {
    "duration": 11,
    "start_time": "2023-06-24T19:32:50.260Z"
   },
   {
    "duration": 262,
    "start_time": "2023-06-24T19:32:50.272Z"
   },
   {
    "duration": 6,
    "start_time": "2023-06-24T19:32:50.535Z"
   },
   {
    "duration": 1181,
    "start_time": "2023-06-24T19:32:50.542Z"
   },
   {
    "duration": 605,
    "start_time": "2023-06-24T19:32:51.725Z"
   },
   {
    "duration": 2,
    "start_time": "2023-06-24T19:32:52.333Z"
   },
   {
    "duration": 69,
    "start_time": "2023-06-24T19:32:52.336Z"
   },
   {
    "duration": 413,
    "start_time": "2023-06-24T19:32:52.407Z"
   },
   {
    "duration": 15,
    "start_time": "2023-06-24T19:32:52.821Z"
   },
   {
    "duration": 3252,
    "start_time": "2023-06-24T19:32:52.837Z"
   },
   {
    "duration": 0,
    "start_time": "2023-06-24T19:32:56.091Z"
   },
   {
    "duration": 0,
    "start_time": "2023-06-24T19:32:56.092Z"
   },
   {
    "duration": 0,
    "start_time": "2023-06-24T19:32:56.093Z"
   },
   {
    "duration": 0,
    "start_time": "2023-06-24T19:32:56.095Z"
   },
   {
    "duration": 0,
    "start_time": "2023-06-24T19:32:56.096Z"
   },
   {
    "duration": 0,
    "start_time": "2023-06-24T19:32:56.097Z"
   },
   {
    "duration": 0,
    "start_time": "2023-06-24T19:32:56.099Z"
   },
   {
    "duration": 0,
    "start_time": "2023-06-24T19:32:56.101Z"
   },
   {
    "duration": 0,
    "start_time": "2023-06-24T19:32:56.102Z"
   },
   {
    "duration": 0,
    "start_time": "2023-06-24T19:32:56.103Z"
   },
   {
    "duration": 0,
    "start_time": "2023-06-24T19:32:56.104Z"
   },
   {
    "duration": 0,
    "start_time": "2023-06-24T19:32:56.105Z"
   },
   {
    "duration": 0,
    "start_time": "2023-06-24T19:32:56.106Z"
   },
   {
    "duration": 0,
    "start_time": "2023-06-24T19:32:56.107Z"
   },
   {
    "duration": 0,
    "start_time": "2023-06-24T19:32:56.108Z"
   },
   {
    "duration": 0,
    "start_time": "2023-06-24T19:32:56.109Z"
   },
   {
    "duration": 9,
    "start_time": "2023-06-24T19:33:19.222Z"
   },
   {
    "duration": 1351,
    "start_time": "2023-06-24T19:37:04.667Z"
   },
   {
    "duration": 50,
    "start_time": "2023-06-24T19:37:06.020Z"
   },
   {
    "duration": 9,
    "start_time": "2023-06-24T19:37:06.072Z"
   },
   {
    "duration": 49,
    "start_time": "2023-06-24T19:37:06.083Z"
   },
   {
    "duration": 24,
    "start_time": "2023-06-24T19:37:06.134Z"
   },
   {
    "duration": 278,
    "start_time": "2023-06-24T19:37:06.160Z"
   },
   {
    "duration": 6,
    "start_time": "2023-06-24T19:37:06.440Z"
   },
   {
    "duration": 775,
    "start_time": "2023-06-24T19:37:06.448Z"
   },
   {
    "duration": 305,
    "start_time": "2023-06-24T19:37:07.224Z"
   },
   {
    "duration": 2,
    "start_time": "2023-06-24T19:37:07.531Z"
   },
   {
    "duration": 8,
    "start_time": "2023-06-24T19:37:07.535Z"
   },
   {
    "duration": 286,
    "start_time": "2023-06-24T19:37:07.544Z"
   },
   {
    "duration": 5,
    "start_time": "2023-06-24T19:37:07.831Z"
   },
   {
    "duration": 4609,
    "start_time": "2023-06-24T19:37:07.838Z"
   },
   {
    "duration": 0,
    "start_time": "2023-06-24T19:37:12.448Z"
   },
   {
    "duration": 0,
    "start_time": "2023-06-24T19:37:12.449Z"
   },
   {
    "duration": 0,
    "start_time": "2023-06-24T19:37:12.450Z"
   },
   {
    "duration": 0,
    "start_time": "2023-06-24T19:37:12.451Z"
   },
   {
    "duration": 0,
    "start_time": "2023-06-24T19:37:12.452Z"
   },
   {
    "duration": 0,
    "start_time": "2023-06-24T19:37:12.453Z"
   },
   {
    "duration": 0,
    "start_time": "2023-06-24T19:37:12.453Z"
   },
   {
    "duration": 0,
    "start_time": "2023-06-24T19:37:12.454Z"
   },
   {
    "duration": 0,
    "start_time": "2023-06-24T19:37:12.455Z"
   },
   {
    "duration": 0,
    "start_time": "2023-06-24T19:37:12.456Z"
   },
   {
    "duration": 0,
    "start_time": "2023-06-24T19:37:12.457Z"
   },
   {
    "duration": 0,
    "start_time": "2023-06-24T19:37:12.458Z"
   },
   {
    "duration": 0,
    "start_time": "2023-06-24T19:37:12.459Z"
   },
   {
    "duration": 0,
    "start_time": "2023-06-24T19:37:12.460Z"
   },
   {
    "duration": 0,
    "start_time": "2023-06-24T19:37:12.460Z"
   },
   {
    "duration": 0,
    "start_time": "2023-06-24T19:37:12.461Z"
   },
   {
    "duration": 53,
    "start_time": "2023-06-24T19:37:28.667Z"
   },
   {
    "duration": 1380,
    "start_time": "2023-06-24T19:37:35.815Z"
   },
   {
    "duration": 52,
    "start_time": "2023-06-24T19:37:37.197Z"
   },
   {
    "duration": 6,
    "start_time": "2023-06-24T19:37:37.250Z"
   },
   {
    "duration": 20,
    "start_time": "2023-06-24T19:37:37.257Z"
   },
   {
    "duration": 17,
    "start_time": "2023-06-24T19:37:37.279Z"
   },
   {
    "duration": 315,
    "start_time": "2023-06-24T19:37:37.298Z"
   },
   {
    "duration": 7,
    "start_time": "2023-06-24T19:37:37.615Z"
   },
   {
    "duration": 1207,
    "start_time": "2023-06-24T19:37:37.623Z"
   },
   {
    "duration": 609,
    "start_time": "2023-06-24T19:37:38.832Z"
   },
   {
    "duration": 2,
    "start_time": "2023-06-24T19:37:39.443Z"
   },
   {
    "duration": 5,
    "start_time": "2023-06-24T19:37:39.500Z"
   },
   {
    "duration": 299,
    "start_time": "2023-06-24T19:37:39.506Z"
   },
   {
    "duration": 12,
    "start_time": "2023-06-24T19:37:39.806Z"
   },
   {
    "duration": 3468,
    "start_time": "2023-06-24T19:37:39.821Z"
   },
   {
    "duration": 0,
    "start_time": "2023-06-24T19:37:43.302Z"
   },
   {
    "duration": 0,
    "start_time": "2023-06-24T19:37:43.306Z"
   },
   {
    "duration": 0,
    "start_time": "2023-06-24T19:37:43.309Z"
   },
   {
    "duration": 0,
    "start_time": "2023-06-24T19:37:43.310Z"
   },
   {
    "duration": 0,
    "start_time": "2023-06-24T19:37:43.311Z"
   },
   {
    "duration": 0,
    "start_time": "2023-06-24T19:37:43.313Z"
   },
   {
    "duration": 0,
    "start_time": "2023-06-24T19:37:43.315Z"
   },
   {
    "duration": 0,
    "start_time": "2023-06-24T19:37:43.316Z"
   },
   {
    "duration": 0,
    "start_time": "2023-06-24T19:37:43.317Z"
   },
   {
    "duration": 0,
    "start_time": "2023-06-24T19:37:43.318Z"
   },
   {
    "duration": 0,
    "start_time": "2023-06-24T19:37:43.319Z"
   },
   {
    "duration": 0,
    "start_time": "2023-06-24T19:37:43.320Z"
   },
   {
    "duration": 0,
    "start_time": "2023-06-24T19:37:43.321Z"
   },
   {
    "duration": 0,
    "start_time": "2023-06-24T19:37:43.323Z"
   },
   {
    "duration": 0,
    "start_time": "2023-06-24T19:37:43.324Z"
   },
   {
    "duration": 1,
    "start_time": "2023-06-24T19:37:43.325Z"
   },
   {
    "duration": 1467,
    "start_time": "2023-06-24T19:38:19.227Z"
   },
   {
    "duration": 73,
    "start_time": "2023-06-24T19:38:20.696Z"
   },
   {
    "duration": 6,
    "start_time": "2023-06-24T19:38:20.770Z"
   },
   {
    "duration": 10,
    "start_time": "2023-06-24T19:38:20.777Z"
   },
   {
    "duration": 29,
    "start_time": "2023-06-24T19:38:20.789Z"
   },
   {
    "duration": 298,
    "start_time": "2023-06-24T19:38:20.820Z"
   },
   {
    "duration": 7,
    "start_time": "2023-06-24T19:38:21.120Z"
   },
   {
    "duration": 1714,
    "start_time": "2023-06-24T19:38:21.128Z"
   },
   {
    "duration": 523,
    "start_time": "2023-06-24T19:38:22.844Z"
   },
   {
    "duration": 2,
    "start_time": "2023-06-24T19:38:23.369Z"
   },
   {
    "duration": 9,
    "start_time": "2023-06-24T19:38:23.373Z"
   },
   {
    "duration": 176,
    "start_time": "2023-06-24T19:38:23.384Z"
   },
   {
    "duration": 8,
    "start_time": "2023-06-24T19:38:23.562Z"
   },
   {
    "duration": 3949,
    "start_time": "2023-06-24T19:38:23.574Z"
   },
   {
    "duration": 0,
    "start_time": "2023-06-24T19:38:27.525Z"
   },
   {
    "duration": 0,
    "start_time": "2023-06-24T19:38:27.526Z"
   },
   {
    "duration": 0,
    "start_time": "2023-06-24T19:38:27.527Z"
   },
   {
    "duration": 0,
    "start_time": "2023-06-24T19:38:27.528Z"
   },
   {
    "duration": 0,
    "start_time": "2023-06-24T19:38:27.529Z"
   },
   {
    "duration": 0,
    "start_time": "2023-06-24T19:38:27.530Z"
   },
   {
    "duration": 0,
    "start_time": "2023-06-24T19:38:27.531Z"
   },
   {
    "duration": 0,
    "start_time": "2023-06-24T19:38:27.532Z"
   },
   {
    "duration": 0,
    "start_time": "2023-06-24T19:38:27.533Z"
   },
   {
    "duration": 0,
    "start_time": "2023-06-24T19:38:27.534Z"
   },
   {
    "duration": 0,
    "start_time": "2023-06-24T19:38:27.535Z"
   },
   {
    "duration": 0,
    "start_time": "2023-06-24T19:38:27.536Z"
   },
   {
    "duration": 0,
    "start_time": "2023-06-24T19:38:27.537Z"
   },
   {
    "duration": 0,
    "start_time": "2023-06-24T19:38:27.538Z"
   },
   {
    "duration": 0,
    "start_time": "2023-06-24T19:38:27.539Z"
   },
   {
    "duration": 0,
    "start_time": "2023-06-24T19:38:27.540Z"
   },
   {
    "duration": 18,
    "start_time": "2023-06-24T19:39:09.590Z"
   },
   {
    "duration": 1408,
    "start_time": "2023-06-24T19:42:47.725Z"
   },
   {
    "duration": 51,
    "start_time": "2023-06-24T19:42:49.136Z"
   },
   {
    "duration": 5,
    "start_time": "2023-06-24T19:42:49.188Z"
   },
   {
    "duration": 35,
    "start_time": "2023-06-24T19:42:49.194Z"
   },
   {
    "duration": 22,
    "start_time": "2023-06-24T19:42:49.231Z"
   },
   {
    "duration": 316,
    "start_time": "2023-06-24T19:42:49.254Z"
   },
   {
    "duration": 7,
    "start_time": "2023-06-24T19:42:49.571Z"
   },
   {
    "duration": 795,
    "start_time": "2023-06-24T19:42:49.580Z"
   },
   {
    "duration": 319,
    "start_time": "2023-06-24T19:42:50.377Z"
   },
   {
    "duration": 10,
    "start_time": "2023-06-24T19:42:50.699Z"
   },
   {
    "duration": 29,
    "start_time": "2023-06-24T19:42:50.711Z"
   },
   {
    "duration": 149,
    "start_time": "2023-06-24T19:42:50.741Z"
   },
   {
    "duration": 13,
    "start_time": "2023-06-24T19:42:50.892Z"
   },
   {
    "duration": 3914,
    "start_time": "2023-06-24T19:42:50.908Z"
   },
   {
    "duration": 408,
    "start_time": "2023-06-24T19:42:54.826Z"
   },
   {
    "duration": 0,
    "start_time": "2023-06-24T19:42:55.235Z"
   },
   {
    "duration": 0,
    "start_time": "2023-06-24T19:42:55.236Z"
   },
   {
    "duration": 0,
    "start_time": "2023-06-24T19:42:55.237Z"
   },
   {
    "duration": 0,
    "start_time": "2023-06-24T19:42:55.239Z"
   },
   {
    "duration": 0,
    "start_time": "2023-06-24T19:42:55.240Z"
   },
   {
    "duration": 0,
    "start_time": "2023-06-24T19:42:55.241Z"
   },
   {
    "duration": 0,
    "start_time": "2023-06-24T19:42:55.242Z"
   },
   {
    "duration": 0,
    "start_time": "2023-06-24T19:42:55.243Z"
   },
   {
    "duration": 0,
    "start_time": "2023-06-24T19:42:55.244Z"
   },
   {
    "duration": 0,
    "start_time": "2023-06-24T19:42:55.245Z"
   },
   {
    "duration": 0,
    "start_time": "2023-06-24T19:42:55.246Z"
   },
   {
    "duration": 0,
    "start_time": "2023-06-24T19:42:55.246Z"
   },
   {
    "duration": 0,
    "start_time": "2023-06-24T19:42:55.247Z"
   },
   {
    "duration": 0,
    "start_time": "2023-06-24T19:42:55.248Z"
   },
   {
    "duration": 0,
    "start_time": "2023-06-24T19:42:55.249Z"
   },
   {
    "duration": 1857,
    "start_time": "2023-06-24T19:44:03.765Z"
   },
   {
    "duration": 99,
    "start_time": "2023-06-24T19:44:05.624Z"
   },
   {
    "duration": 5,
    "start_time": "2023-06-24T19:44:05.724Z"
   },
   {
    "duration": 10,
    "start_time": "2023-06-24T19:44:05.731Z"
   },
   {
    "duration": 69,
    "start_time": "2023-06-24T19:44:05.742Z"
   },
   {
    "duration": 472,
    "start_time": "2023-06-24T19:44:05.818Z"
   },
   {
    "duration": 20,
    "start_time": "2023-06-24T19:44:06.293Z"
   },
   {
    "duration": 831,
    "start_time": "2023-06-24T19:44:06.315Z"
   },
   {
    "duration": 299,
    "start_time": "2023-06-24T19:44:07.148Z"
   },
   {
    "duration": 2,
    "start_time": "2023-06-24T19:44:07.450Z"
   },
   {
    "duration": 10,
    "start_time": "2023-06-24T19:44:07.453Z"
   },
   {
    "duration": 169,
    "start_time": "2023-06-24T19:44:07.464Z"
   },
   {
    "duration": 6,
    "start_time": "2023-06-24T19:44:07.634Z"
   },
   {
    "duration": 4376,
    "start_time": "2023-06-24T19:44:07.641Z"
   },
   {
    "duration": 3804,
    "start_time": "2023-06-24T19:44:12.019Z"
   },
   {
    "duration": 108,
    "start_time": "2023-06-24T19:44:15.905Z"
   },
   {
    "duration": 15,
    "start_time": "2023-06-24T19:44:16.016Z"
   },
   {
    "duration": 32,
    "start_time": "2023-06-24T19:44:16.033Z"
   },
   {
    "duration": 16,
    "start_time": "2023-06-24T19:44:16.068Z"
   },
   {
    "duration": 51,
    "start_time": "2023-06-24T19:44:16.085Z"
   },
   {
    "duration": 112,
    "start_time": "2023-06-24T19:44:16.207Z"
   },
   {
    "duration": 16,
    "start_time": "2023-06-24T19:44:16.320Z"
   },
   {
    "duration": 77,
    "start_time": "2023-06-24T19:44:16.337Z"
   },
   {
    "duration": 1158,
    "start_time": "2023-06-24T19:44:16.418Z"
   },
   {
    "duration": 1698,
    "start_time": "2023-06-24T19:44:17.577Z"
   },
   {
    "duration": 3,
    "start_time": "2023-06-24T19:44:19.276Z"
   },
   {
    "duration": 5711,
    "start_time": "2023-06-24T19:44:19.281Z"
   },
   {
    "duration": 3035,
    "start_time": "2023-06-24T19:44:25.005Z"
   },
   {
    "duration": 5674,
    "start_time": "2023-06-24T19:44:28.042Z"
   },
   {
    "duration": 5,
    "start_time": "2023-06-24T19:44:33.718Z"
   },
   {
    "duration": 102,
    "start_time": "2023-06-24T19:48:15.335Z"
   },
   {
    "duration": 58,
    "start_time": "2023-06-24T19:48:36.117Z"
   },
   {
    "duration": 62,
    "start_time": "2023-06-24T19:49:48.915Z"
   },
   {
    "duration": 5796,
    "start_time": "2023-06-24T19:50:26.346Z"
   },
   {
    "duration": 1571,
    "start_time": "2023-06-24T19:56:08.332Z"
   },
   {
    "duration": 100,
    "start_time": "2023-06-24T19:56:09.905Z"
   },
   {
    "duration": 11,
    "start_time": "2023-06-24T19:56:10.006Z"
   },
   {
    "duration": 17,
    "start_time": "2023-06-24T19:56:10.019Z"
   },
   {
    "duration": 12,
    "start_time": "2023-06-24T19:56:10.038Z"
   },
   {
    "duration": 607,
    "start_time": "2023-06-24T19:56:10.051Z"
   },
   {
    "duration": 6,
    "start_time": "2023-06-24T19:56:10.660Z"
   },
   {
    "duration": 1044,
    "start_time": "2023-06-24T19:56:10.705Z"
   },
   {
    "duration": 315,
    "start_time": "2023-06-24T19:56:11.751Z"
   },
   {
    "duration": 2,
    "start_time": "2023-06-24T19:56:12.068Z"
   },
   {
    "duration": 40,
    "start_time": "2023-06-24T19:56:12.071Z"
   },
   {
    "duration": 154,
    "start_time": "2023-06-24T19:56:12.116Z"
   },
   {
    "duration": 2,
    "start_time": "2023-06-24T19:56:12.272Z"
   },
   {
    "duration": 4150,
    "start_time": "2023-06-24T19:56:12.275Z"
   },
   {
    "duration": 4404,
    "start_time": "2023-06-24T19:56:16.501Z"
   },
   {
    "duration": 109,
    "start_time": "2023-06-24T19:56:20.906Z"
   },
   {
    "duration": 9,
    "start_time": "2023-06-24T19:56:21.017Z"
   },
   {
    "duration": 3,
    "start_time": "2023-06-24T19:56:21.027Z"
   },
   {
    "duration": 6,
    "start_time": "2023-06-24T19:56:21.032Z"
   },
   {
    "duration": 71,
    "start_time": "2023-06-24T19:56:21.039Z"
   },
   {
    "duration": 111,
    "start_time": "2023-06-24T19:56:21.112Z"
   },
   {
    "duration": 19,
    "start_time": "2023-06-24T19:56:21.225Z"
   },
   {
    "duration": 76,
    "start_time": "2023-06-24T19:56:21.245Z"
   },
   {
    "duration": 590,
    "start_time": "2023-06-24T19:56:21.322Z"
   },
   {
    "duration": 83,
    "start_time": "2023-06-24T19:56:21.920Z"
   },
   {
    "duration": 5773,
    "start_time": "2023-06-24T19:56:22.008Z"
   },
   {
    "duration": 2485,
    "start_time": "2023-06-24T19:56:27.783Z"
   },
   {
    "duration": 5406,
    "start_time": "2023-06-24T19:56:30.271Z"
   },
   {
    "duration": 4,
    "start_time": "2023-06-24T19:56:35.679Z"
   },
   {
    "duration": 1309,
    "start_time": "2023-06-24T19:57:41.848Z"
   },
   {
    "duration": 54,
    "start_time": "2023-06-24T19:57:43.159Z"
   },
   {
    "duration": 5,
    "start_time": "2023-06-24T19:57:43.214Z"
   },
   {
    "duration": 6,
    "start_time": "2023-06-24T19:57:43.221Z"
   },
   {
    "duration": 11,
    "start_time": "2023-06-24T19:57:43.229Z"
   },
   {
    "duration": 304,
    "start_time": "2023-06-24T19:57:43.242Z"
   },
   {
    "duration": 7,
    "start_time": "2023-06-24T19:57:43.548Z"
   },
   {
    "duration": 1159,
    "start_time": "2023-06-24T19:57:43.557Z"
   },
   {
    "duration": 599,
    "start_time": "2023-06-24T19:57:44.718Z"
   },
   {
    "duration": 3,
    "start_time": "2023-06-24T19:57:45.319Z"
   },
   {
    "duration": 14,
    "start_time": "2023-06-24T19:57:45.324Z"
   },
   {
    "duration": 298,
    "start_time": "2023-06-24T19:57:45.340Z"
   },
   {
    "duration": 2,
    "start_time": "2023-06-24T19:57:45.639Z"
   },
   {
    "duration": 4861,
    "start_time": "2023-06-24T19:57:45.642Z"
   },
   {
    "duration": 5796,
    "start_time": "2023-06-24T19:57:50.507Z"
   },
   {
    "duration": 105,
    "start_time": "2023-06-24T19:57:56.304Z"
   },
   {
    "duration": 13,
    "start_time": "2023-06-24T19:57:56.411Z"
   },
   {
    "duration": 10,
    "start_time": "2023-06-24T19:57:56.426Z"
   },
   {
    "duration": 7,
    "start_time": "2023-06-24T19:57:56.437Z"
   },
   {
    "duration": 10,
    "start_time": "2023-06-24T19:57:56.445Z"
   },
   {
    "duration": 24,
    "start_time": "2023-06-24T19:57:56.456Z"
   },
   {
    "duration": 35,
    "start_time": "2023-06-24T19:57:56.481Z"
   },
   {
    "duration": 502,
    "start_time": "2023-06-24T19:57:56.518Z"
   },
   {
    "duration": 3,
    "start_time": "2023-06-24T19:57:57.099Z"
   },
   {
    "duration": 5662,
    "start_time": "2023-06-24T19:57:57.104Z"
   },
   {
    "duration": 2513,
    "start_time": "2023-06-24T19:58:02.767Z"
   },
   {
    "duration": 5180,
    "start_time": "2023-06-24T19:58:05.281Z"
   },
   {
    "duration": 4,
    "start_time": "2023-06-24T19:58:10.464Z"
   },
   {
    "duration": 1397,
    "start_time": "2023-06-24T19:58:33.394Z"
   },
   {
    "duration": 54,
    "start_time": "2023-06-24T19:58:34.793Z"
   },
   {
    "duration": 6,
    "start_time": "2023-06-24T19:58:34.848Z"
   },
   {
    "duration": 11,
    "start_time": "2023-06-24T19:58:34.856Z"
   },
   {
    "duration": 22,
    "start_time": "2023-06-24T19:58:34.869Z"
   },
   {
    "duration": 266,
    "start_time": "2023-06-24T19:58:34.892Z"
   },
   {
    "duration": 6,
    "start_time": "2023-06-24T19:58:35.159Z"
   },
   {
    "duration": 1056,
    "start_time": "2023-06-24T19:58:35.167Z"
   },
   {
    "duration": 606,
    "start_time": "2023-06-24T19:58:36.224Z"
   },
   {
    "duration": 2,
    "start_time": "2023-06-24T19:58:36.832Z"
   },
   {
    "duration": 27,
    "start_time": "2023-06-24T19:58:36.835Z"
   },
   {
    "duration": 239,
    "start_time": "2023-06-24T19:58:36.900Z"
   },
   {
    "duration": 2,
    "start_time": "2023-06-24T19:58:37.140Z"
   },
   {
    "duration": 4474,
    "start_time": "2023-06-24T19:58:37.143Z"
   },
   {
    "duration": 5694,
    "start_time": "2023-06-24T19:58:41.619Z"
   },
   {
    "duration": 199,
    "start_time": "2023-06-24T19:58:47.317Z"
   },
   {
    "duration": 16,
    "start_time": "2023-06-24T19:58:47.519Z"
   },
   {
    "duration": 13,
    "start_time": "2023-06-24T19:58:47.537Z"
   },
   {
    "duration": 25,
    "start_time": "2023-06-24T19:58:47.551Z"
   },
   {
    "duration": 15,
    "start_time": "2023-06-24T19:58:47.578Z"
   },
   {
    "duration": 34,
    "start_time": "2023-06-24T19:58:47.594Z"
   },
   {
    "duration": 591,
    "start_time": "2023-06-24T19:58:47.629Z"
   },
   {
    "duration": 3,
    "start_time": "2023-06-24T19:58:48.222Z"
   },
   {
    "duration": 5792,
    "start_time": "2023-06-24T19:58:48.306Z"
   },
   {
    "duration": 2584,
    "start_time": "2023-06-24T19:58:54.104Z"
   },
   {
    "duration": 5847,
    "start_time": "2023-06-24T19:58:56.689Z"
   },
   {
    "duration": 5,
    "start_time": "2023-06-24T19:59:02.538Z"
   },
   {
    "duration": 256,
    "start_time": "2023-06-24T19:59:45.350Z"
   },
   {
    "duration": 512,
    "start_time": "2023-06-24T19:59:57.912Z"
   },
   {
    "duration": 699,
    "start_time": "2023-06-24T20:00:11.321Z"
   },
   {
    "duration": 611,
    "start_time": "2023-06-24T20:00:34.711Z"
   },
   {
    "duration": 110,
    "start_time": "2023-06-24T20:00:45.367Z"
   },
   {
    "duration": 546,
    "start_time": "2023-06-24T20:00:49.263Z"
   },
   {
    "duration": 1506,
    "start_time": "2023-06-24T20:02:29.316Z"
   },
   {
    "duration": 52,
    "start_time": "2023-06-24T20:02:30.824Z"
   },
   {
    "duration": 6,
    "start_time": "2023-06-24T20:02:30.878Z"
   },
   {
    "duration": 54,
    "start_time": "2023-06-24T20:02:30.885Z"
   },
   {
    "duration": 49,
    "start_time": "2023-06-24T20:02:30.940Z"
   },
   {
    "duration": 356,
    "start_time": "2023-06-24T20:02:30.990Z"
   },
   {
    "duration": 9,
    "start_time": "2023-06-24T20:02:31.349Z"
   },
   {
    "duration": 816,
    "start_time": "2023-06-24T20:02:31.359Z"
   },
   {
    "duration": 342,
    "start_time": "2023-06-24T20:02:32.177Z"
   },
   {
    "duration": 3,
    "start_time": "2023-06-24T20:02:32.521Z"
   },
   {
    "duration": 28,
    "start_time": "2023-06-24T20:02:32.525Z"
   },
   {
    "duration": 185,
    "start_time": "2023-06-24T20:02:32.554Z"
   },
   {
    "duration": 3,
    "start_time": "2023-06-24T20:02:32.740Z"
   },
   {
    "duration": 5862,
    "start_time": "2023-06-24T20:02:32.744Z"
   },
   {
    "duration": 5205,
    "start_time": "2023-06-24T20:02:38.608Z"
   },
   {
    "duration": 94,
    "start_time": "2023-06-24T20:02:43.815Z"
   },
   {
    "duration": 94,
    "start_time": "2023-06-24T20:02:43.911Z"
   },
   {
    "duration": 13,
    "start_time": "2023-06-24T20:02:44.007Z"
   },
   {
    "duration": 12,
    "start_time": "2023-06-24T20:02:44.022Z"
   },
   {
    "duration": 12,
    "start_time": "2023-06-24T20:02:44.035Z"
   },
   {
    "duration": 23,
    "start_time": "2023-06-24T20:02:44.049Z"
   },
   {
    "duration": 349,
    "start_time": "2023-06-24T20:02:44.074Z"
   },
   {
    "duration": 88,
    "start_time": "2023-06-24T20:02:44.425Z"
   },
   {
    "duration": 5704,
    "start_time": "2023-06-24T20:02:44.515Z"
   },
   {
    "duration": 2745,
    "start_time": "2023-06-24T20:02:50.220Z"
   },
   {
    "duration": 5902,
    "start_time": "2023-06-24T20:02:52.966Z"
   },
   {
    "duration": 6,
    "start_time": "2023-06-24T20:02:58.870Z"
   },
   {
    "duration": 80,
    "start_time": "2023-06-24T20:04:30.198Z"
   },
   {
    "duration": 1337,
    "start_time": "2023-06-24T20:05:50.035Z"
   },
   {
    "duration": 52,
    "start_time": "2023-06-24T20:05:51.374Z"
   },
   {
    "duration": 4,
    "start_time": "2023-06-24T20:05:51.428Z"
   },
   {
    "duration": 17,
    "start_time": "2023-06-24T20:05:51.434Z"
   },
   {
    "duration": 19,
    "start_time": "2023-06-24T20:05:51.452Z"
   },
   {
    "duration": 278,
    "start_time": "2023-06-24T20:05:51.472Z"
   },
   {
    "duration": 7,
    "start_time": "2023-06-24T20:05:51.751Z"
   },
   {
    "duration": 782,
    "start_time": "2023-06-24T20:05:51.759Z"
   },
   {
    "duration": 294,
    "start_time": "2023-06-24T20:05:52.542Z"
   },
   {
    "duration": 2,
    "start_time": "2023-06-24T20:05:52.838Z"
   },
   {
    "duration": 7,
    "start_time": "2023-06-24T20:05:52.841Z"
   },
   {
    "duration": 172,
    "start_time": "2023-06-24T20:05:52.850Z"
   },
   {
    "duration": 3,
    "start_time": "2023-06-24T20:05:53.023Z"
   },
   {
    "duration": 2986,
    "start_time": "2023-06-24T20:05:53.027Z"
   },
   {
    "duration": 5103,
    "start_time": "2023-06-24T20:05:56.018Z"
   },
   {
    "duration": 193,
    "start_time": "2023-06-24T20:06:01.122Z"
   },
   {
    "duration": 54,
    "start_time": "2023-06-24T20:06:01.317Z"
   },
   {
    "duration": 62,
    "start_time": "2023-06-24T20:06:01.372Z"
   },
   {
    "duration": 45,
    "start_time": "2023-06-24T20:06:01.435Z"
   },
   {
    "duration": 10,
    "start_time": "2023-06-24T20:06:01.509Z"
   },
   {
    "duration": 45,
    "start_time": "2023-06-24T20:06:01.520Z"
   },
   {
    "duration": 853,
    "start_time": "2023-06-24T20:06:01.567Z"
   },
   {
    "duration": 88,
    "start_time": "2023-06-24T20:06:02.421Z"
   },
   {
    "duration": 5677,
    "start_time": "2023-06-24T20:06:02.510Z"
   },
   {
    "duration": 2701,
    "start_time": "2023-06-24T20:06:08.189Z"
   },
   {
    "duration": 5357,
    "start_time": "2023-06-24T20:06:10.892Z"
   },
   {
    "duration": 4,
    "start_time": "2023-06-24T20:06:16.250Z"
   },
   {
    "duration": 577,
    "start_time": "2023-06-24T20:13:37.539Z"
   },
   {
    "duration": 1324,
    "start_time": "2023-06-24T20:13:50.363Z"
   },
   {
    "duration": 62,
    "start_time": "2023-06-24T20:13:51.688Z"
   },
   {
    "duration": 5,
    "start_time": "2023-06-24T20:13:51.751Z"
   },
   {
    "duration": 10,
    "start_time": "2023-06-24T20:13:51.758Z"
   },
   {
    "duration": 21,
    "start_time": "2023-06-24T20:13:51.769Z"
   },
   {
    "duration": 279,
    "start_time": "2023-06-24T20:13:51.791Z"
   },
   {
    "duration": 6,
    "start_time": "2023-06-24T20:13:52.072Z"
   },
   {
    "duration": 769,
    "start_time": "2023-06-24T20:13:52.079Z"
   },
   {
    "duration": 568,
    "start_time": "2023-06-24T20:13:52.849Z"
   },
   {
    "duration": 3,
    "start_time": "2023-06-24T20:13:53.420Z"
   },
   {
    "duration": 7,
    "start_time": "2023-06-24T20:13:53.425Z"
   },
   {
    "duration": 371,
    "start_time": "2023-06-24T20:13:53.434Z"
   },
   {
    "duration": 7,
    "start_time": "2023-06-24T20:13:53.806Z"
   },
   {
    "duration": 6315,
    "start_time": "2023-06-24T20:13:53.814Z"
   },
   {
    "duration": 4879,
    "start_time": "2023-06-24T20:14:00.130Z"
   },
   {
    "duration": 102,
    "start_time": "2023-06-24T20:14:05.011Z"
   },
   {
    "duration": 23,
    "start_time": "2023-06-24T20:14:05.115Z"
   },
   {
    "duration": 6,
    "start_time": "2023-06-24T20:14:05.139Z"
   },
   {
    "duration": 28,
    "start_time": "2023-06-24T20:14:05.146Z"
   },
   {
    "duration": 5,
    "start_time": "2023-06-24T20:14:05.175Z"
   },
   {
    "duration": 8,
    "start_time": "2023-06-24T20:14:05.181Z"
   },
   {
    "duration": 612,
    "start_time": "2023-06-24T20:14:05.191Z"
   },
   {
    "duration": 13,
    "start_time": "2023-06-24T20:14:05.804Z"
   },
   {
    "duration": 5670,
    "start_time": "2023-06-24T20:14:05.821Z"
   },
   {
    "duration": 2546,
    "start_time": "2023-06-24T20:14:11.493Z"
   },
   {
    "duration": 5375,
    "start_time": "2023-06-24T20:14:14.041Z"
   },
   {
    "duration": 4,
    "start_time": "2023-06-24T20:14:19.418Z"
   },
   {
    "duration": 21882,
    "start_time": "2023-06-24T20:14:55.765Z"
   },
   {
    "duration": 18967,
    "start_time": "2023-06-24T20:15:44.785Z"
   },
   {
    "duration": 64,
    "start_time": "2023-06-24T20:16:45.039Z"
   },
   {
    "duration": 1337,
    "start_time": "2023-06-24T20:17:02.050Z"
   },
   {
    "duration": 60,
    "start_time": "2023-06-24T20:17:03.389Z"
   },
   {
    "duration": 6,
    "start_time": "2023-06-24T20:17:03.450Z"
   },
   {
    "duration": 8,
    "start_time": "2023-06-24T20:17:03.458Z"
   },
   {
    "duration": 13,
    "start_time": "2023-06-24T20:17:03.468Z"
   },
   {
    "duration": 295,
    "start_time": "2023-06-24T20:17:03.483Z"
   },
   {
    "duration": 6,
    "start_time": "2023-06-24T20:17:03.779Z"
   },
   {
    "duration": 1127,
    "start_time": "2023-06-24T20:17:03.786Z"
   },
   {
    "duration": 618,
    "start_time": "2023-06-24T20:17:04.916Z"
   },
   {
    "duration": 2,
    "start_time": "2023-06-24T20:17:05.537Z"
   },
   {
    "duration": 66,
    "start_time": "2023-06-24T20:17:05.540Z"
   },
   {
    "duration": 326,
    "start_time": "2023-06-24T20:17:05.608Z"
   },
   {
    "duration": 2,
    "start_time": "2023-06-24T20:17:05.936Z"
   },
   {
    "duration": 4974,
    "start_time": "2023-06-24T20:17:05.940Z"
   },
   {
    "duration": 5489,
    "start_time": "2023-06-24T20:17:10.916Z"
   },
   {
    "duration": 105,
    "start_time": "2023-06-24T20:17:16.406Z"
   },
   {
    "duration": 13,
    "start_time": "2023-06-24T20:17:16.513Z"
   },
   {
    "duration": 23,
    "start_time": "2023-06-24T20:17:16.528Z"
   },
   {
    "duration": 16,
    "start_time": "2023-06-24T20:17:16.552Z"
   },
   {
    "duration": 14,
    "start_time": "2023-06-24T20:17:16.570Z"
   },
   {
    "duration": 10,
    "start_time": "2023-06-24T20:17:16.585Z"
   },
   {
    "duration": 621,
    "start_time": "2023-06-24T20:17:16.596Z"
   },
   {
    "duration": 4,
    "start_time": "2023-06-24T20:17:17.218Z"
   },
   {
    "duration": 5660,
    "start_time": "2023-06-24T20:17:17.223Z"
   },
   {
    "duration": 17478,
    "start_time": "2023-06-24T20:17:22.884Z"
   },
   {
    "duration": 5222,
    "start_time": "2023-06-24T20:17:40.364Z"
   },
   {
    "duration": 5,
    "start_time": "2023-06-24T20:17:45.587Z"
   },
   {
    "duration": 38632,
    "start_time": "2023-06-24T20:21:51.072Z"
   },
   {
    "duration": 20101,
    "start_time": "2023-06-24T20:22:32.512Z"
   },
   {
    "duration": 1351,
    "start_time": "2023-06-24T20:29:05.923Z"
   },
   {
    "duration": 1535,
    "start_time": "2023-06-24T20:29:14.049Z"
   },
   {
    "duration": 78,
    "start_time": "2023-06-24T20:29:15.586Z"
   },
   {
    "duration": 6,
    "start_time": "2023-06-24T20:29:15.665Z"
   },
   {
    "duration": 10,
    "start_time": "2023-06-24T20:29:15.672Z"
   },
   {
    "duration": 23,
    "start_time": "2023-06-24T20:29:15.683Z"
   },
   {
    "duration": 354,
    "start_time": "2023-06-24T20:29:15.708Z"
   },
   {
    "duration": 8,
    "start_time": "2023-06-24T20:29:16.064Z"
   },
   {
    "duration": 1232,
    "start_time": "2023-06-24T20:29:16.074Z"
   },
   {
    "duration": 959,
    "start_time": "2023-06-24T20:29:17.308Z"
   },
   {
    "duration": 668,
    "start_time": "2023-06-24T20:29:18.269Z"
   },
   {
    "duration": 2,
    "start_time": "2023-06-24T20:29:18.939Z"
   },
   {
    "duration": 59,
    "start_time": "2023-06-24T20:29:18.943Z"
   },
   {
    "duration": 323,
    "start_time": "2023-06-24T20:29:19.004Z"
   },
   {
    "duration": 4,
    "start_time": "2023-06-24T20:29:19.333Z"
   },
   {
    "duration": 5967,
    "start_time": "2023-06-24T20:29:19.340Z"
   },
   {
    "duration": 3597,
    "start_time": "2023-06-24T20:29:25.316Z"
   },
   {
    "duration": 108,
    "start_time": "2023-06-24T20:29:28.924Z"
   },
   {
    "duration": 13,
    "start_time": "2023-06-24T20:29:29.034Z"
   },
   {
    "duration": 5,
    "start_time": "2023-06-24T20:29:29.048Z"
   },
   {
    "duration": 15,
    "start_time": "2023-06-24T20:29:29.054Z"
   },
   {
    "duration": 12,
    "start_time": "2023-06-24T20:29:29.071Z"
   },
   {
    "duration": 18,
    "start_time": "2023-06-24T20:29:29.084Z"
   },
   {
    "duration": 629,
    "start_time": "2023-06-24T20:29:29.104Z"
   },
   {
    "duration": 8,
    "start_time": "2023-06-24T20:29:29.734Z"
   },
   {
    "duration": 6453,
    "start_time": "2023-06-24T20:29:29.744Z"
   },
   {
    "duration": 24437,
    "start_time": "2023-06-24T20:29:36.199Z"
   },
   {
    "duration": 6689,
    "start_time": "2023-06-24T20:30:00.638Z"
   },
   {
    "duration": 6,
    "start_time": "2023-06-24T20:30:07.330Z"
   },
   {
    "duration": 1508,
    "start_time": "2023-06-24T20:30:13.362Z"
   },
   {
    "duration": 1737,
    "start_time": "2023-06-24T20:30:19.499Z"
   },
   {
    "duration": 50,
    "start_time": "2023-06-24T20:30:21.238Z"
   },
   {
    "duration": 6,
    "start_time": "2023-06-24T20:30:21.291Z"
   },
   {
    "duration": 32,
    "start_time": "2023-06-24T20:30:21.306Z"
   },
   {
    "duration": 18,
    "start_time": "2023-06-24T20:30:21.340Z"
   },
   {
    "duration": 314,
    "start_time": "2023-06-24T20:30:21.360Z"
   },
   {
    "duration": 7,
    "start_time": "2023-06-24T20:30:21.675Z"
   },
   {
    "duration": 811,
    "start_time": "2023-06-24T20:30:21.683Z"
   },
   {
    "duration": 334,
    "start_time": "2023-06-24T20:30:22.496Z"
   },
   {
    "duration": 265,
    "start_time": "2023-06-24T20:30:22.841Z"
   },
   {
    "duration": 2,
    "start_time": "2023-06-24T20:30:23.107Z"
   },
   {
    "duration": 30,
    "start_time": "2023-06-24T20:30:23.111Z"
   },
   {
    "duration": 153,
    "start_time": "2023-06-24T20:30:23.143Z"
   },
   {
    "duration": 3,
    "start_time": "2023-06-24T20:30:23.297Z"
   },
   {
    "duration": 171,
    "start_time": "2023-06-24T20:30:23.301Z"
   },
   {
    "duration": 0,
    "start_time": "2023-06-24T20:30:23.474Z"
   },
   {
    "duration": 0,
    "start_time": "2023-06-24T20:30:23.475Z"
   },
   {
    "duration": 0,
    "start_time": "2023-06-24T20:30:23.476Z"
   },
   {
    "duration": 0,
    "start_time": "2023-06-24T20:30:23.477Z"
   },
   {
    "duration": 0,
    "start_time": "2023-06-24T20:30:23.478Z"
   },
   {
    "duration": 0,
    "start_time": "2023-06-24T20:30:23.479Z"
   },
   {
    "duration": 0,
    "start_time": "2023-06-24T20:30:23.480Z"
   },
   {
    "duration": 0,
    "start_time": "2023-06-24T20:30:23.481Z"
   },
   {
    "duration": 0,
    "start_time": "2023-06-24T20:30:23.482Z"
   },
   {
    "duration": 0,
    "start_time": "2023-06-24T20:30:23.483Z"
   },
   {
    "duration": 0,
    "start_time": "2023-06-24T20:30:23.484Z"
   },
   {
    "duration": 0,
    "start_time": "2023-06-24T20:30:23.486Z"
   },
   {
    "duration": 0,
    "start_time": "2023-06-24T20:30:23.487Z"
   },
   {
    "duration": 1856,
    "start_time": "2023-06-24T20:30:55.921Z"
   },
   {
    "duration": 103,
    "start_time": "2023-06-24T20:30:57.780Z"
   },
   {
    "duration": 8,
    "start_time": "2023-06-24T20:30:57.885Z"
   },
   {
    "duration": 55,
    "start_time": "2023-06-24T20:30:57.895Z"
   },
   {
    "duration": 22,
    "start_time": "2023-06-24T20:30:57.955Z"
   },
   {
    "duration": 855,
    "start_time": "2023-06-24T20:30:57.979Z"
   },
   {
    "duration": 10,
    "start_time": "2023-06-24T20:30:58.836Z"
   },
   {
    "duration": 1871,
    "start_time": "2023-06-24T20:30:58.847Z"
   },
   {
    "duration": 380,
    "start_time": "2023-06-24T20:31:00.719Z"
   },
   {
    "duration": 284,
    "start_time": "2023-06-24T20:31:01.106Z"
   },
   {
    "duration": 3,
    "start_time": "2023-06-24T20:31:01.391Z"
   },
   {
    "duration": 61,
    "start_time": "2023-06-24T20:31:01.395Z"
   },
   {
    "duration": 228,
    "start_time": "2023-06-24T20:31:01.458Z"
   },
   {
    "duration": 3,
    "start_time": "2023-06-24T20:31:01.690Z"
   },
   {
    "duration": 257,
    "start_time": "2023-06-24T20:31:01.702Z"
   },
   {
    "duration": 0,
    "start_time": "2023-06-24T20:31:01.960Z"
   },
   {
    "duration": 0,
    "start_time": "2023-06-24T20:31:01.961Z"
   },
   {
    "duration": 0,
    "start_time": "2023-06-24T20:31:01.962Z"
   },
   {
    "duration": 0,
    "start_time": "2023-06-24T20:31:01.963Z"
   },
   {
    "duration": 0,
    "start_time": "2023-06-24T20:31:01.964Z"
   },
   {
    "duration": 0,
    "start_time": "2023-06-24T20:31:01.965Z"
   },
   {
    "duration": 0,
    "start_time": "2023-06-24T20:31:01.966Z"
   },
   {
    "duration": 0,
    "start_time": "2023-06-24T20:31:01.967Z"
   },
   {
    "duration": 0,
    "start_time": "2023-06-24T20:31:01.968Z"
   },
   {
    "duration": 0,
    "start_time": "2023-06-24T20:31:01.969Z"
   },
   {
    "duration": 0,
    "start_time": "2023-06-24T20:31:01.970Z"
   },
   {
    "duration": 0,
    "start_time": "2023-06-24T20:31:01.971Z"
   },
   {
    "duration": 0,
    "start_time": "2023-06-24T20:31:01.972Z"
   },
   {
    "duration": 1336,
    "start_time": "2023-06-24T20:33:41.160Z"
   },
   {
    "duration": 69,
    "start_time": "2023-06-24T20:33:42.498Z"
   },
   {
    "duration": 6,
    "start_time": "2023-06-24T20:33:42.569Z"
   },
   {
    "duration": 4,
    "start_time": "2023-06-24T20:33:42.577Z"
   },
   {
    "duration": 12,
    "start_time": "2023-06-24T20:33:42.583Z"
   },
   {
    "duration": 294,
    "start_time": "2023-06-24T20:33:42.596Z"
   },
   {
    "duration": 19,
    "start_time": "2023-06-24T20:33:42.892Z"
   },
   {
    "duration": 826,
    "start_time": "2023-06-24T20:33:42.917Z"
   },
   {
    "duration": 692,
    "start_time": "2023-06-24T20:33:43.745Z"
   },
   {
    "duration": 606,
    "start_time": "2023-06-24T20:33:44.439Z"
   },
   {
    "duration": 63,
    "start_time": "2023-06-24T20:33:45.046Z"
   },
   {
    "duration": 22,
    "start_time": "2023-06-24T20:33:45.110Z"
   },
   {
    "duration": 311,
    "start_time": "2023-06-24T20:33:45.134Z"
   },
   {
    "duration": 7,
    "start_time": "2023-06-24T20:33:45.512Z"
   },
   {
    "duration": 394,
    "start_time": "2023-06-24T20:33:45.520Z"
   },
   {
    "duration": 0,
    "start_time": "2023-06-24T20:33:45.917Z"
   },
   {
    "duration": 0,
    "start_time": "2023-06-24T20:33:45.918Z"
   },
   {
    "duration": 0,
    "start_time": "2023-06-24T20:33:45.919Z"
   },
   {
    "duration": 0,
    "start_time": "2023-06-24T20:33:45.920Z"
   },
   {
    "duration": 0,
    "start_time": "2023-06-24T20:33:45.921Z"
   },
   {
    "duration": 0,
    "start_time": "2023-06-24T20:33:45.922Z"
   },
   {
    "duration": 0,
    "start_time": "2023-06-24T20:33:45.922Z"
   },
   {
    "duration": 0,
    "start_time": "2023-06-24T20:33:45.923Z"
   },
   {
    "duration": 0,
    "start_time": "2023-06-24T20:33:45.924Z"
   },
   {
    "duration": 0,
    "start_time": "2023-06-24T20:33:45.924Z"
   },
   {
    "duration": 0,
    "start_time": "2023-06-24T20:33:45.926Z"
   },
   {
    "duration": 0,
    "start_time": "2023-06-24T20:33:45.928Z"
   },
   {
    "duration": 0,
    "start_time": "2023-06-24T20:33:45.930Z"
   },
   {
    "duration": 70,
    "start_time": "2023-06-24T20:34:35.075Z"
   },
   {
    "duration": 1380,
    "start_time": "2023-06-24T20:39:25.797Z"
   },
   {
    "duration": 54,
    "start_time": "2023-06-24T20:39:27.179Z"
   },
   {
    "duration": 6,
    "start_time": "2023-06-24T20:39:27.234Z"
   },
   {
    "duration": 9,
    "start_time": "2023-06-24T20:39:27.242Z"
   },
   {
    "duration": 15,
    "start_time": "2023-06-24T20:39:27.252Z"
   },
   {
    "duration": 269,
    "start_time": "2023-06-24T20:39:27.269Z"
   },
   {
    "duration": 6,
    "start_time": "2023-06-24T20:39:27.540Z"
   },
   {
    "duration": 1153,
    "start_time": "2023-06-24T20:39:27.547Z"
   },
   {
    "duration": 538,
    "start_time": "2023-06-24T20:39:28.701Z"
   },
   {
    "duration": 444,
    "start_time": "2023-06-24T20:39:29.241Z"
   },
   {
    "duration": 124,
    "start_time": "2023-06-24T20:39:29.686Z"
   },
   {
    "duration": 0,
    "start_time": "2023-06-24T20:39:29.811Z"
   },
   {
    "duration": 0,
    "start_time": "2023-06-24T20:39:29.812Z"
   },
   {
    "duration": 0,
    "start_time": "2023-06-24T20:39:29.813Z"
   },
   {
    "duration": 0,
    "start_time": "2023-06-24T20:39:29.814Z"
   },
   {
    "duration": 0,
    "start_time": "2023-06-24T20:39:29.815Z"
   },
   {
    "duration": 0,
    "start_time": "2023-06-24T20:39:29.816Z"
   },
   {
    "duration": 0,
    "start_time": "2023-06-24T20:39:29.817Z"
   },
   {
    "duration": 0,
    "start_time": "2023-06-24T20:39:29.818Z"
   },
   {
    "duration": 0,
    "start_time": "2023-06-24T20:39:29.819Z"
   },
   {
    "duration": 0,
    "start_time": "2023-06-24T20:39:29.819Z"
   },
   {
    "duration": 0,
    "start_time": "2023-06-24T20:39:29.820Z"
   },
   {
    "duration": 0,
    "start_time": "2023-06-24T20:39:29.821Z"
   },
   {
    "duration": 0,
    "start_time": "2023-06-24T20:39:29.822Z"
   },
   {
    "duration": 0,
    "start_time": "2023-06-24T20:39:29.823Z"
   },
   {
    "duration": 0,
    "start_time": "2023-06-24T20:39:29.824Z"
   },
   {
    "duration": 0,
    "start_time": "2023-06-24T20:39:29.824Z"
   },
   {
    "duration": 0,
    "start_time": "2023-06-24T20:39:29.825Z"
   },
   {
    "duration": 0,
    "start_time": "2023-06-24T20:39:29.826Z"
   },
   {
    "duration": 1910,
    "start_time": "2023-06-24T20:40:09.133Z"
   },
   {
    "duration": 85,
    "start_time": "2023-06-24T20:40:11.045Z"
   },
   {
    "duration": 5,
    "start_time": "2023-06-24T20:40:11.132Z"
   },
   {
    "duration": 12,
    "start_time": "2023-06-24T20:40:11.139Z"
   },
   {
    "duration": 64,
    "start_time": "2023-06-24T20:40:11.152Z"
   },
   {
    "duration": 829,
    "start_time": "2023-06-24T20:40:11.218Z"
   },
   {
    "duration": 10,
    "start_time": "2023-06-24T20:40:12.049Z"
   },
   {
    "duration": 908,
    "start_time": "2023-06-24T20:40:12.062Z"
   },
   {
    "duration": 327,
    "start_time": "2023-06-24T20:40:12.972Z"
   },
   {
    "duration": 270,
    "start_time": "2023-06-24T20:40:13.304Z"
   },
   {
    "duration": 4,
    "start_time": "2023-06-24T20:40:13.575Z"
   },
   {
    "duration": 15,
    "start_time": "2023-06-24T20:40:13.581Z"
   },
   {
    "duration": 22,
    "start_time": "2023-06-24T20:40:13.598Z"
   },
   {
    "duration": 158,
    "start_time": "2023-06-24T20:40:13.622Z"
   },
   {
    "duration": 2,
    "start_time": "2023-06-24T20:40:13.782Z"
   },
   {
    "duration": 2723,
    "start_time": "2023-06-24T20:40:13.785Z"
   },
   {
    "duration": 1398,
    "start_time": "2023-06-24T20:40:16.509Z"
   },
   {
    "duration": 101,
    "start_time": "2023-06-24T20:40:17.909Z"
   },
   {
    "duration": 8,
    "start_time": "2023-06-24T20:40:18.100Z"
   },
   {
    "duration": 6,
    "start_time": "2023-06-24T20:40:18.109Z"
   },
   {
    "duration": 15,
    "start_time": "2023-06-24T20:40:18.117Z"
   },
   {
    "duration": 11,
    "start_time": "2023-06-24T20:40:18.134Z"
   },
   {
    "duration": 12,
    "start_time": "2023-06-24T20:40:18.146Z"
   },
   {
    "duration": 247,
    "start_time": "2023-06-24T20:40:18.160Z"
   },
   {
    "duration": 92,
    "start_time": "2023-06-24T20:40:18.409Z"
   },
   {
    "duration": 5454,
    "start_time": "2023-06-24T20:40:18.502Z"
   },
   {
    "duration": 18232,
    "start_time": "2023-06-24T20:40:23.958Z"
   },
   {
    "duration": 4829,
    "start_time": "2023-06-24T20:40:42.194Z"
   },
   {
    "duration": 4,
    "start_time": "2023-06-24T20:40:47.025Z"
   },
   {
    "duration": 1372,
    "start_time": "2023-06-24T20:41:29.816Z"
   },
   {
    "duration": 45,
    "start_time": "2023-06-24T20:41:31.190Z"
   },
   {
    "duration": 15,
    "start_time": "2023-06-24T20:41:31.237Z"
   },
   {
    "duration": 26,
    "start_time": "2023-06-24T20:41:31.254Z"
   },
   {
    "duration": 48,
    "start_time": "2023-06-24T20:41:31.281Z"
   },
   {
    "duration": 312,
    "start_time": "2023-06-24T20:41:31.330Z"
   },
   {
    "duration": 6,
    "start_time": "2023-06-24T20:41:31.643Z"
   },
   {
    "duration": 764,
    "start_time": "2023-06-24T20:41:31.650Z"
   },
   {
    "duration": 295,
    "start_time": "2023-06-24T20:41:32.416Z"
   },
   {
    "duration": 244,
    "start_time": "2023-06-24T20:41:32.713Z"
   },
   {
    "duration": 3,
    "start_time": "2023-06-24T20:41:32.959Z"
   },
   {
    "duration": 5,
    "start_time": "2023-06-24T20:41:32.963Z"
   },
   {
    "duration": 5,
    "start_time": "2023-06-24T20:41:32.969Z"
   },
   {
    "duration": 138,
    "start_time": "2023-06-24T20:41:32.975Z"
   },
   {
    "duration": 2,
    "start_time": "2023-06-24T20:41:33.115Z"
   },
   {
    "duration": 1588,
    "start_time": "2023-06-24T20:41:33.119Z"
   },
   {
    "duration": 1498,
    "start_time": "2023-06-24T20:41:34.709Z"
   },
   {
    "duration": 191,
    "start_time": "2023-06-24T20:41:36.209Z"
   },
   {
    "duration": 8,
    "start_time": "2023-06-24T20:41:36.401Z"
   },
   {
    "duration": 4,
    "start_time": "2023-06-24T20:41:36.410Z"
   },
   {
    "duration": 8,
    "start_time": "2023-06-24T20:41:36.415Z"
   },
   {
    "duration": 5,
    "start_time": "2023-06-24T20:41:36.424Z"
   },
   {
    "duration": 9,
    "start_time": "2023-06-24T20:41:36.430Z"
   },
   {
    "duration": 269,
    "start_time": "2023-06-24T20:41:36.440Z"
   },
   {
    "duration": 4,
    "start_time": "2023-06-24T20:41:36.801Z"
   },
   {
    "duration": 10330,
    "start_time": "2023-06-24T20:41:36.807Z"
   },
   {
    "duration": 21637,
    "start_time": "2023-06-24T20:41:47.139Z"
   },
   {
    "duration": 5644,
    "start_time": "2023-06-24T20:42:08.779Z"
   },
   {
    "duration": 4,
    "start_time": "2023-06-24T20:42:14.425Z"
   },
   {
    "duration": 7,
    "start_time": "2023-06-24T20:42:47.540Z"
   },
   {
    "duration": 6,
    "start_time": "2023-06-24T20:43:34.636Z"
   },
   {
    "duration": 117,
    "start_time": "2023-06-24T20:43:47.358Z"
   },
   {
    "duration": 8,
    "start_time": "2023-06-24T20:43:51.286Z"
   },
   {
    "duration": 13,
    "start_time": "2023-06-24T20:55:04.657Z"
   },
   {
    "duration": 13,
    "start_time": "2023-06-24T20:55:32.111Z"
   },
   {
    "duration": 12,
    "start_time": "2023-06-24T20:55:54.719Z"
   },
   {
    "duration": 9,
    "start_time": "2023-06-24T20:56:23.332Z"
   },
   {
    "duration": 9,
    "start_time": "2023-06-24T20:57:06.082Z"
   },
   {
    "duration": 35,
    "start_time": "2023-06-24T20:57:35.301Z"
   },
   {
    "duration": 55,
    "start_time": "2023-06-24T20:58:00.364Z"
   },
   {
    "duration": 17,
    "start_time": "2023-06-24T20:58:04.395Z"
   },
   {
    "duration": 12,
    "start_time": "2023-06-24T20:58:14.610Z"
   },
   {
    "duration": 8,
    "start_time": "2023-06-24T20:58:21.771Z"
   },
   {
    "duration": 13,
    "start_time": "2023-06-24T20:59:21.777Z"
   },
   {
    "duration": 14,
    "start_time": "2023-06-24T20:59:43.467Z"
   },
   {
    "duration": 14,
    "start_time": "2023-06-24T20:59:56.948Z"
   },
   {
    "duration": 17,
    "start_time": "2023-06-24T21:01:06.004Z"
   },
   {
    "duration": 9,
    "start_time": "2023-06-24T21:01:15.759Z"
   },
   {
    "duration": 12,
    "start_time": "2023-06-24T21:02:00.635Z"
   },
   {
    "duration": 222,
    "start_time": "2023-06-24T21:02:17.332Z"
   },
   {
    "duration": 194,
    "start_time": "2023-06-24T21:03:24.671Z"
   },
   {
    "duration": 288,
    "start_time": "2023-06-24T21:03:59.028Z"
   },
   {
    "duration": 206,
    "start_time": "2023-06-24T21:05:01.148Z"
   },
   {
    "duration": 239,
    "start_time": "2023-06-24T21:05:36.894Z"
   },
   {
    "duration": 57,
    "start_time": "2023-06-24T21:06:38.451Z"
   },
   {
    "duration": 69,
    "start_time": "2023-06-24T21:06:50.130Z"
   },
   {
    "duration": 1490,
    "start_time": "2023-06-24T21:09:50.686Z"
   },
   {
    "duration": 46,
    "start_time": "2023-06-24T21:09:52.178Z"
   },
   {
    "duration": 7,
    "start_time": "2023-06-24T21:09:52.227Z"
   },
   {
    "duration": 16,
    "start_time": "2023-06-24T21:09:52.235Z"
   },
   {
    "duration": 48,
    "start_time": "2023-06-24T21:09:52.252Z"
   },
   {
    "duration": 264,
    "start_time": "2023-06-24T21:09:52.302Z"
   },
   {
    "duration": 6,
    "start_time": "2023-06-24T21:09:52.568Z"
   },
   {
    "duration": 1153,
    "start_time": "2023-06-24T21:09:52.576Z"
   },
   {
    "duration": 612,
    "start_time": "2023-06-24T21:09:53.732Z"
   },
   {
    "duration": 485,
    "start_time": "2023-06-24T21:09:54.345Z"
   },
   {
    "duration": 4,
    "start_time": "2023-06-24T21:09:54.832Z"
   },
   {
    "duration": 8,
    "start_time": "2023-06-24T21:09:54.838Z"
   },
   {
    "duration": 7,
    "start_time": "2023-06-24T21:09:54.848Z"
   },
   {
    "duration": 159,
    "start_time": "2023-06-24T21:09:54.857Z"
   },
   {
    "duration": 3,
    "start_time": "2023-06-24T21:09:55.017Z"
   },
   {
    "duration": 995,
    "start_time": "2023-06-24T21:09:55.021Z"
   },
   {
    "duration": 1506,
    "start_time": "2023-06-24T21:09:56.102Z"
   },
   {
    "duration": 110,
    "start_time": "2023-06-24T21:09:57.701Z"
   },
   {
    "duration": 10,
    "start_time": "2023-06-24T21:09:57.812Z"
   },
   {
    "duration": 22,
    "start_time": "2023-06-24T21:09:57.824Z"
   },
   {
    "duration": 26,
    "start_time": "2023-06-24T21:09:57.847Z"
   },
   {
    "duration": 14,
    "start_time": "2023-06-24T21:09:57.874Z"
   },
   {
    "duration": 11,
    "start_time": "2023-06-24T21:09:57.890Z"
   },
   {
    "duration": 199,
    "start_time": "2023-06-24T21:09:57.903Z"
   },
   {
    "duration": 97,
    "start_time": "2023-06-24T21:09:58.104Z"
   },
   {
    "duration": 5587,
    "start_time": "2023-06-24T21:09:58.203Z"
   },
   {
    "duration": 21210,
    "start_time": "2023-06-24T21:10:03.800Z"
   },
   {
    "duration": 5593,
    "start_time": "2023-06-24T21:10:25.011Z"
   },
   {
    "duration": 224,
    "start_time": "2023-06-24T21:10:30.605Z"
   },
   {
    "duration": 5,
    "start_time": "2023-06-24T21:10:30.830Z"
   }
  ],
  "kernelspec": {
   "display_name": "Python 3 (ipykernel)",
   "language": "python",
   "name": "python3"
  },
  "language_info": {
   "codemirror_mode": {
    "name": "ipython",
    "version": 3
   },
   "file_extension": ".py",
   "mimetype": "text/x-python",
   "name": "python",
   "nbconvert_exporter": "python",
   "pygments_lexer": "ipython3",
   "version": "3.10.9"
  },
  "toc": {
   "base_numbering": 1,
   "nav_menu": {},
   "number_sections": true,
   "sideBar": true,
   "skip_h1_title": true,
   "title_cell": "Содержание",
   "title_sidebar": "Contents",
   "toc_cell": true,
   "toc_position": {
    "height": "calc(100% - 180px)",
    "left": "10px",
    "top": "150px",
    "width": "165px"
   },
   "toc_section_display": true,
   "toc_window_display": true
  }
 },
 "nbformat": 4,
 "nbformat_minor": 4
}
