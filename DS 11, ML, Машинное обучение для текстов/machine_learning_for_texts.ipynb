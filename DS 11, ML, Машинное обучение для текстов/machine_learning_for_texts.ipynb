{
 "cells": [
  {
   "cell_type": "markdown",
   "metadata": {},
   "source": [
    "# Проект для «Викишоп»"
   ]
  },
  {
   "cell_type": "markdown",
   "metadata": {},
   "source": [
    "Интернет-магазин «Викишоп» запускает новый сервис. Теперь пользователи могут редактировать и дополнять описания товаров, как в вики-сообществах. То есть клиенты предлагают свои правки и комментируют изменения других. Магазину нужен инструмент, который будет искать токсичные комментарии и отправлять их на модерацию. \n",
    "\n",
    "Обучим модель классифицировать комментарии на позитивные и негативные. В нашем распоряжении набор данных с разметкой о токсичности правок.\n",
    "\n",
    "Построим модель со значением метрики качества *F1* не меньше 0.75. \n",
    "\n",
    "**Шаги по выполнению проекта**\n",
    "\n",
    "1. Загрузим и подготовим данные.\n",
    "2. Обучим разные модели. \n",
    "3. Выводы.\n",
    "\n",
    "Для выполнения проекта применять *BERT* необязательно, но вы можете попробовать.\n",
    "\n",
    "**Описание данных**\n",
    "\n",
    "Данные находятся в файле `toxic_comments.csv`. Столбец *text* в нём содержит текст комментария, а *toxic* — целевой признак."
   ]
  },
  {
   "cell_type": "markdown",
   "metadata": {},
   "source": [
    "## Подготовка"
   ]
  },
  {
   "cell_type": "code",
   "execution_count": 1,
   "metadata": {},
   "outputs": [
    {
     "name": "stderr",
     "output_type": "stream",
     "text": [
      "[nltk_data] Downloading package stopwords to /home/jovyan/nltk_data...\n",
      "[nltk_data]   Package stopwords is already up-to-date!\n",
      "[nltk_data] Downloading package wordnet to /home/jovyan/nltk_data...\n",
      "[nltk_data]   Package wordnet is already up-to-date!\n",
      "[nltk_data] Downloading package averaged_perceptron_tagger to\n",
      "[nltk_data]     /home/jovyan/nltk_data...\n",
      "[nltk_data]   Package averaged_perceptron_tagger is already up-to-\n",
      "[nltk_data]       date!\n"
     ]
    }
   ],
   "source": [
    "import pandas as pd\n",
    "import re \n",
    "from tqdm import tqdm\n",
    "import numpy as np \n",
    "import nltk\n",
    "from nltk.stem import WordNetLemmatizer \n",
    "nltk.download('stopwords')\n",
    "nltk.download('wordnet')\n",
    "nltk.download('averaged_perceptron_tagger')\n",
    "from nltk.corpus import stopwords as nltk_stopwords\n",
    "from sklearn.feature_extraction.text import CountVectorizer \n",
    "from sklearn.feature_extraction.text import TfidfVectorizer\n",
    "from sklearn.model_selection import train_test_split\n",
    "from sklearn.linear_model import LogisticRegression\n",
    "from sklearn.metrics import f1_score, make_scorer\n",
    "from sklearn.ensemble import RandomForestClassifier\n",
    "from sklearn.model_selection import GridSearchCV\n",
    "from catboost import CatBoostClassifier\n",
    "from sklearn.dummy import DummyClassifier\n",
    "from nltk.corpus import wordnet\n",
    "from sklearn.pipeline import Pipeline"
   ]
  },
  {
   "cell_type": "code",
   "execution_count": 2,
   "metadata": {
    "scrolled": true
   },
   "outputs": [
    {
     "data": {
      "text/html": [
       "<div>\n",
       "<style scoped>\n",
       "    .dataframe tbody tr th:only-of-type {\n",
       "        vertical-align: middle;\n",
       "    }\n",
       "\n",
       "    .dataframe tbody tr th {\n",
       "        vertical-align: top;\n",
       "    }\n",
       "\n",
       "    .dataframe thead th {\n",
       "        text-align: right;\n",
       "    }\n",
       "</style>\n",
       "<table border=\"1\" class=\"dataframe\">\n",
       "  <thead>\n",
       "    <tr style=\"text-align: right;\">\n",
       "      <th></th>\n",
       "      <th>Unnamed: 0</th>\n",
       "      <th>text</th>\n",
       "      <th>toxic</th>\n",
       "    </tr>\n",
       "  </thead>\n",
       "  <tbody>\n",
       "    <tr>\n",
       "      <th>0</th>\n",
       "      <td>0</td>\n",
       "      <td>Explanation\\nWhy the edits made under my usern...</td>\n",
       "      <td>0</td>\n",
       "    </tr>\n",
       "    <tr>\n",
       "      <th>1</th>\n",
       "      <td>1</td>\n",
       "      <td>D'aww! He matches this background colour I'm s...</td>\n",
       "      <td>0</td>\n",
       "    </tr>\n",
       "    <tr>\n",
       "      <th>2</th>\n",
       "      <td>2</td>\n",
       "      <td>Hey man, I'm really not trying to edit war. It...</td>\n",
       "      <td>0</td>\n",
       "    </tr>\n",
       "    <tr>\n",
       "      <th>3</th>\n",
       "      <td>3</td>\n",
       "      <td>\"\\nMore\\nI can't make any real suggestions on ...</td>\n",
       "      <td>0</td>\n",
       "    </tr>\n",
       "    <tr>\n",
       "      <th>4</th>\n",
       "      <td>4</td>\n",
       "      <td>You, sir, are my hero. Any chance you remember...</td>\n",
       "      <td>0</td>\n",
       "    </tr>\n",
       "    <tr>\n",
       "      <th>...</th>\n",
       "      <td>...</td>\n",
       "      <td>...</td>\n",
       "      <td>...</td>\n",
       "    </tr>\n",
       "    <tr>\n",
       "      <th>159282</th>\n",
       "      <td>159441</td>\n",
       "      <td>\"\\nNo he did not, read it again (I would have ...</td>\n",
       "      <td>0</td>\n",
       "    </tr>\n",
       "    <tr>\n",
       "      <th>159283</th>\n",
       "      <td>159442</td>\n",
       "      <td>\"\\n Auto guides and the motoring press are not...</td>\n",
       "      <td>0</td>\n",
       "    </tr>\n",
       "    <tr>\n",
       "      <th>159284</th>\n",
       "      <td>159443</td>\n",
       "      <td>\"\\nplease identify what part of BLP applies be...</td>\n",
       "      <td>0</td>\n",
       "    </tr>\n",
       "    <tr>\n",
       "      <th>159285</th>\n",
       "      <td>159444</td>\n",
       "      <td>Catalan independentism is the social movement ...</td>\n",
       "      <td>0</td>\n",
       "    </tr>\n",
       "    <tr>\n",
       "      <th>159286</th>\n",
       "      <td>159445</td>\n",
       "      <td>The numbers in parentheses are the additional ...</td>\n",
       "      <td>0</td>\n",
       "    </tr>\n",
       "  </tbody>\n",
       "</table>\n",
       "<p>159287 rows × 3 columns</p>\n",
       "</div>"
      ],
      "text/plain": [
       "        Unnamed: 0                                               text  toxic\n",
       "0                0  Explanation\\nWhy the edits made under my usern...      0\n",
       "1                1  D'aww! He matches this background colour I'm s...      0\n",
       "2                2  Hey man, I'm really not trying to edit war. It...      0\n",
       "3                3  \"\\nMore\\nI can't make any real suggestions on ...      0\n",
       "4                4  You, sir, are my hero. Any chance you remember...      0\n",
       "...            ...                                                ...    ...\n",
       "159282      159441  \"\\nNo he did not, read it again (I would have ...      0\n",
       "159283      159442  \"\\n Auto guides and the motoring press are not...      0\n",
       "159284      159443  \"\\nplease identify what part of BLP applies be...      0\n",
       "159285      159444  Catalan independentism is the social movement ...      0\n",
       "159286      159445  The numbers in parentheses are the additional ...      0\n",
       "\n",
       "[159287 rows x 3 columns]"
      ]
     },
     "execution_count": 2,
     "metadata": {},
     "output_type": "execute_result"
    }
   ],
   "source": [
    "df = pd.read_csv('/datasets/toxic_comments.csv')\n",
    "df.head(-5) "
   ]
  },
  {
   "cell_type": "markdown",
   "metadata": {},
   "source": [
    "Сначала можно подумать что 'Unnamed' дублирует индексы, но по последним строкам видно что они не совпадают. Наверно это зашифрованные никнеймы"
   ]
  },
  {
   "cell_type": "code",
   "execution_count": 3,
   "metadata": {},
   "outputs": [
    {
     "data": {
      "text/plain": [
       "0.10161213369158527"
      ]
     },
     "execution_count": 3,
     "metadata": {},
     "output_type": "execute_result"
    }
   ],
   "source": [
    "df['toxic'].mean() # мы видим что токсичных комментариев около 10%, серьёзный дисбаланс при исследовании данных"
   ]
  },
  {
   "cell_type": "code",
   "execution_count": 4,
   "metadata": {
    "scrolled": true
   },
   "outputs": [
    {
     "data": {
      "text/plain": [
       "Unnamed: 0    0\n",
       "text          0\n",
       "toxic         0\n",
       "dtype: int64"
      ]
     },
     "execution_count": 4,
     "metadata": {},
     "output_type": "execute_result"
    }
   ],
   "source": [
    "df.isna().sum() # пропусков нет"
   ]
  },
  {
   "cell_type": "code",
   "execution_count": 5,
   "metadata": {},
   "outputs": [],
   "source": [
    "corpus = df['text'] # cоздадим корпус постов"
   ]
  },
  {
   "cell_type": "code",
   "execution_count": 6,
   "metadata": {},
   "outputs": [],
   "source": [
    "def clear_text(text): # создадим функцию для очистки текста от лишних символов\n",
    "    clear_text = re.sub(r'[^a-zA-Z ]', ' ',text)\n",
    "    return \" \".join(clear_text.split())"
   ]
  },
  {
   "cell_type": "code",
   "execution_count": 7,
   "metadata": {
    "scrolled": true
   },
   "outputs": [
    {
     "data": {
      "text/plain": [
       "'Explanation Why the edits made under my username Hardcore Metallica Fan were reverted They weren t vandalisms just closure on some GAs after I voted at New York Dolls FAC And please don t remove the template from the talk page since I m retired now'"
      ]
     },
     "execution_count": 7,
     "metadata": {},
     "output_type": "execute_result"
    }
   ],
   "source": [
    "clear_text(corpus[0]) # тестируем работу, все хорошо"
   ]
  },
  {
   "cell_type": "code",
   "execution_count": 8,
   "metadata": {},
   "outputs": [
    {
     "data": {
      "text/html": [
       "<div>\n",
       "<style scoped>\n",
       "    .dataframe tbody tr th:only-of-type {\n",
       "        vertical-align: middle;\n",
       "    }\n",
       "\n",
       "    .dataframe tbody tr th {\n",
       "        vertical-align: top;\n",
       "    }\n",
       "\n",
       "    .dataframe thead th {\n",
       "        text-align: right;\n",
       "    }\n",
       "</style>\n",
       "<table border=\"1\" class=\"dataframe\">\n",
       "  <thead>\n",
       "    <tr style=\"text-align: right;\">\n",
       "      <th></th>\n",
       "      <th>Unnamed: 0</th>\n",
       "      <th>text</th>\n",
       "      <th>toxic</th>\n",
       "      <th>lemma_text</th>\n",
       "    </tr>\n",
       "  </thead>\n",
       "  <tbody>\n",
       "    <tr>\n",
       "      <th>0</th>\n",
       "      <td>0</td>\n",
       "      <td>Explanation\\nWhy the edits made under my usern...</td>\n",
       "      <td>0</td>\n",
       "      <td>Explanation Why the edits made under my userna...</td>\n",
       "    </tr>\n",
       "    <tr>\n",
       "      <th>1</th>\n",
       "      <td>1</td>\n",
       "      <td>D'aww! He matches this background colour I'm s...</td>\n",
       "      <td>0</td>\n",
       "      <td>D aww He matches this background colour I m se...</td>\n",
       "    </tr>\n",
       "    <tr>\n",
       "      <th>2</th>\n",
       "      <td>2</td>\n",
       "      <td>Hey man, I'm really not trying to edit war. It...</td>\n",
       "      <td>0</td>\n",
       "      <td>Hey man I m really not trying to edit war It s...</td>\n",
       "    </tr>\n",
       "    <tr>\n",
       "      <th>3</th>\n",
       "      <td>3</td>\n",
       "      <td>\"\\nMore\\nI can't make any real suggestions on ...</td>\n",
       "      <td>0</td>\n",
       "      <td>More I can t make any real suggestions on impr...</td>\n",
       "    </tr>\n",
       "    <tr>\n",
       "      <th>4</th>\n",
       "      <td>4</td>\n",
       "      <td>You, sir, are my hero. Any chance you remember...</td>\n",
       "      <td>0</td>\n",
       "      <td>You sir are my hero Any chance you remember wh...</td>\n",
       "    </tr>\n",
       "  </tbody>\n",
       "</table>\n",
       "</div>"
      ],
      "text/plain": [
       "   Unnamed: 0                                               text  toxic  \\\n",
       "0           0  Explanation\\nWhy the edits made under my usern...      0   \n",
       "1           1  D'aww! He matches this background colour I'm s...      0   \n",
       "2           2  Hey man, I'm really not trying to edit war. It...      0   \n",
       "3           3  \"\\nMore\\nI can't make any real suggestions on ...      0   \n",
       "4           4  You, sir, are my hero. Any chance you remember...      0   \n",
       "\n",
       "                                          lemma_text  \n",
       "0  Explanation Why the edits made under my userna...  \n",
       "1  D aww He matches this background colour I m se...  \n",
       "2  Hey man I m really not trying to edit war It s...  \n",
       "3  More I can t make any real suggestions on impr...  \n",
       "4  You sir are my hero Any chance you remember wh...  "
      ]
     },
     "execution_count": 8,
     "metadata": {},
     "output_type": "execute_result"
    }
   ],
   "source": [
    "df['lemma_text'] = df['text'].apply(clear_text)\n",
    "df.head(5)"
   ]
  },
  {
   "cell_type": "code",
   "execution_count": 9,
   "metadata": {},
   "outputs": [],
   "source": [
    "def get_wordnet_pos(text): # создадим функцию для применения POS тегов для преобразования слов в начальные формы\n",
    "    \"\"\"Map POS tag to first character lemmatize() accepts\"\"\"\n",
    "    tag = nltk.pos_tag([text])[0][1][0].upper()\n",
    "    tag_dict = {\"J\": wordnet.ADJ,\n",
    "                \"N\": wordnet.NOUN,\n",
    "                \"V\": wordnet.VERB,\n",
    "                \"R\": wordnet.ADV}\n",
    "    return tag_dict.get(tag, wordnet.NOUN)"
   ]
  },
  {
   "cell_type": "code",
   "execution_count": 10,
   "metadata": {},
   "outputs": [],
   "source": [
    "def lemmatize(text):  # создадим функцию лемматизации\n",
    "    lemmatizer = WordNetLemmatizer() # объявим лемматизатор\n",
    "    lemm_list = [lemmatizer.lemmatize(w, get_wordnet_pos(w)) for w in nltk.word_tokenize(text)] # применим лемматизацию к ранее очищенному тексту\n",
    "    lemm_text = \" \".join(lemm_list) # добавим пробелы\n",
    "    \n",
    "    return lemm_text"
   ]
  },
  {
   "cell_type": "code",
   "execution_count": 11,
   "metadata": {
    "scrolled": true
   },
   "outputs": [
    {
     "data": {
      "text/html": [
       "<div>\n",
       "<style scoped>\n",
       "    .dataframe tbody tr th:only-of-type {\n",
       "        vertical-align: middle;\n",
       "    }\n",
       "\n",
       "    .dataframe tbody tr th {\n",
       "        vertical-align: top;\n",
       "    }\n",
       "\n",
       "    .dataframe thead th {\n",
       "        text-align: right;\n",
       "    }\n",
       "</style>\n",
       "<table border=\"1\" class=\"dataframe\">\n",
       "  <thead>\n",
       "    <tr style=\"text-align: right;\">\n",
       "      <th></th>\n",
       "      <th>Unnamed: 0</th>\n",
       "      <th>text</th>\n",
       "      <th>toxic</th>\n",
       "      <th>lemma_text</th>\n",
       "    </tr>\n",
       "  </thead>\n",
       "  <tbody>\n",
       "    <tr>\n",
       "      <th>0</th>\n",
       "      <td>0</td>\n",
       "      <td>Explanation\\nWhy the edits made under my usern...</td>\n",
       "      <td>0</td>\n",
       "      <td>Explanation Why the edits make under my userna...</td>\n",
       "    </tr>\n",
       "    <tr>\n",
       "      <th>1</th>\n",
       "      <td>1</td>\n",
       "      <td>D'aww! He matches this background colour I'm s...</td>\n",
       "      <td>0</td>\n",
       "      <td>D aww He match this background colour I m seem...</td>\n",
       "    </tr>\n",
       "    <tr>\n",
       "      <th>2</th>\n",
       "      <td>2</td>\n",
       "      <td>Hey man, I'm really not trying to edit war. It...</td>\n",
       "      <td>0</td>\n",
       "      <td>Hey man I m really not try to edit war It s ju...</td>\n",
       "    </tr>\n",
       "    <tr>\n",
       "      <th>3</th>\n",
       "      <td>3</td>\n",
       "      <td>\"\\nMore\\nI can't make any real suggestions on ...</td>\n",
       "      <td>0</td>\n",
       "      <td>More I can t make any real suggestion on impro...</td>\n",
       "    </tr>\n",
       "    <tr>\n",
       "      <th>4</th>\n",
       "      <td>4</td>\n",
       "      <td>You, sir, are my hero. Any chance you remember...</td>\n",
       "      <td>0</td>\n",
       "      <td>You sir be my hero Any chance you remember wha...</td>\n",
       "    </tr>\n",
       "  </tbody>\n",
       "</table>\n",
       "</div>"
      ],
      "text/plain": [
       "   Unnamed: 0                                               text  toxic  \\\n",
       "0           0  Explanation\\nWhy the edits made under my usern...      0   \n",
       "1           1  D'aww! He matches this background colour I'm s...      0   \n",
       "2           2  Hey man, I'm really not trying to edit war. It...      0   \n",
       "3           3  \"\\nMore\\nI can't make any real suggestions on ...      0   \n",
       "4           4  You, sir, are my hero. Any chance you remember...      0   \n",
       "\n",
       "                                          lemma_text  \n",
       "0  Explanation Why the edits make under my userna...  \n",
       "1  D aww He match this background colour I m seem...  \n",
       "2  Hey man I m really not try to edit war It s ju...  \n",
       "3  More I can t make any real suggestion on impro...  \n",
       "4  You sir be my hero Any chance you remember wha...  "
      ]
     },
     "execution_count": 11,
     "metadata": {},
     "output_type": "execute_result"
    }
   ],
   "source": [
    "df['lemma_text'] = df['lemma_text'].apply(lemmatize) # изменим ранее созданную колонку\n",
    "df.head(5) # теперь у нас есть колонка с исходным текстом и лемматизированным и очищенным"
   ]
  },
  {
   "cell_type": "code",
   "execution_count": 12,
   "metadata": {},
   "outputs": [],
   "source": [
    "features = df['lemma_text']\n",
    "target = df['toxic']"
   ]
  },
  {
   "cell_type": "code",
   "execution_count": 13,
   "metadata": {},
   "outputs": [
    {
     "name": "stdout",
     "output_type": "stream",
     "text": [
      "(119469,)\n"
     ]
    },
    {
     "data": {
      "text/plain": [
       "(39823,)"
      ]
     },
     "execution_count": 13,
     "metadata": {},
     "output_type": "execute_result"
    }
   ],
   "source": [
    "features_train, features_test, target_train, target_test = train_test_split(features, target, test_size=0.25, random_state=12345, stratify=target) # выделим тестовыую и обучающую выборки\n",
    "print(features_train.shape)\n",
    "features_test.shape"
   ]
  },
  {
   "cell_type": "code",
   "execution_count": 14,
   "metadata": {},
   "outputs": [],
   "source": [
    "stopwords = set(nltk_stopwords.words('english')) # опеределим набор стоп слов\n",
    "count_tf_idf = TfidfVectorizer(stop_words=stopwords) # опеределим векторизатор"
   ]
  },
  {
   "cell_type": "markdown",
   "metadata": {},
   "source": [
    "### Промежуточный вывод:\n",
    "\n",
    "Мы проанализировали наш файл и увидели что доля ответов с классификацией 1 составляет примерно 10%.\n",
    "\n",
    "Мы создали корпус из текста, очистили его и лемматизировали. Затем мы его так же убрали от ненужных слов с помощью стоп-слов и векторизовали признаки для того чтобы передать их для машинного обучения."
   ]
  },
  {
   "cell_type": "markdown",
   "metadata": {},
   "source": [
    "## Обучение"
   ]
  },
  {
   "cell_type": "markdown",
   "metadata": {},
   "source": [
    "### Логистическая регрессия"
   ]
  },
  {
   "cell_type": "code",
   "execution_count": 15,
   "metadata": {},
   "outputs": [],
   "source": [
    "regression = Pipeline([    # построим пайплайн для модели и векторизации\n",
    "    ('tfidf', TfidfVectorizer(stop_words=stopwords)),\n",
    "    ('model', LogisticRegression(class_weight='balanced', solver='liblinear', random_state=12345) )\n",
    "])"
   ]
  },
  {
   "cell_type": "code",
   "execution_count": 16,
   "metadata": {},
   "outputs": [
    {
     "name": "stdout",
     "output_type": "stream",
     "text": [
      "Лучшие гиперпараметры:  {'model__C': 10.0}\n",
      "Лучший результат f1_score:  0.7588922668943111\n"
     ]
    }
   ],
   "source": [
    "grid_space={\n",
    "    'model__C': [0.1, 10.0, 1.0],\n",
    "           }\n",
    "\n",
    "grid = GridSearchCV(regression, scoring=\"f1\", param_grid=grid_space , cv=3, n_jobs=-1)\n",
    "\n",
    "grid.fit(features_train, target_train)\n",
    "\n",
    "print('Лучшие гиперпараметры: ', grid.best_params_)\n",
    "print('Лучший результат f1_score: ', grid.best_score_)"
   ]
  },
  {
   "cell_type": "markdown",
   "metadata": {},
   "source": [
    "Мы получили результат 0.76 и для f1 меры логистической регрессии для кросс-валидации и лучший параметр С = 10"
   ]
  },
  {
   "cell_type": "markdown",
   "metadata": {},
   "source": [
    "### Случайный лес"
   ]
  },
  {
   "cell_type": "code",
   "execution_count": 17,
   "metadata": {},
   "outputs": [],
   "source": [
    "forest = Pipeline([    \n",
    "    ('tfidf', TfidfVectorizer(stop_words=stopwords)),\n",
    "    ('model', RandomForestClassifier(random_state=12345, class_weight='balanced') )\n",
    "])"
   ]
  },
  {
   "cell_type": "code",
   "execution_count": 18,
   "metadata": {},
   "outputs": [],
   "source": [
    "grid_space={\n",
    "    'model__max_depth':[x for x in range(3,7,1)], \n",
    "    'model__n_estimators':[x for x in range(10,31,10)]\n",
    "}"
   ]
  },
  {
   "cell_type": "code",
   "execution_count": 19,
   "metadata": {
    "scrolled": true
   },
   "outputs": [
    {
     "name": "stdout",
     "output_type": "stream",
     "text": [
      "Лучшие гиперпараметры:  {'model__max_depth': 6, 'model__n_estimators': 30}\n",
      "Лучший результат f1_score:  0.30090376205370695\n"
     ]
    }
   ],
   "source": [
    "grid = GridSearchCV(forest, scoring=\"f1\", param_grid=grid_space , cv=3, n_jobs=-1)\n",
    "\n",
    "grid.fit(features_train, target_train)\n",
    "\n",
    "print('Лучшие гиперпараметры: ', grid.best_params_)\n",
    "print('Лучший результат f1_score: ', grid.best_score_)"
   ]
  },
  {
   "cell_type": "markdown",
   "metadata": {},
   "source": [
    "Случайный лес работает долго и результат меры f1 составляет 0.30 что существенно хуже регрессии\n",
    "\n",
    "### CatBoost"
   ]
  },
  {
   "cell_type": "code",
   "execution_count": 20,
   "metadata": {},
   "outputs": [],
   "source": [
    "cbclass = Pipeline([    \n",
    "    ('tfidf', TfidfVectorizer(stop_words=stopwords)),\n",
    "    ('model', CatBoostClassifier(verbose=0))\n",
    "])"
   ]
  },
  {
   "cell_type": "code",
   "execution_count": 21,
   "metadata": {
    "scrolled": true
   },
   "outputs": [
    {
     "name": "stdout",
     "output_type": "stream",
     "text": [
      "Лучшие гиперпараметры:  {'model__depth': 5, 'model__iterations': 10}\n",
      "Результат f1_score:  0.5899064003600368\n"
     ]
    }
   ],
   "source": [
    "grid_space={'model__depth'         : [3,4,5],\n",
    "            'model__iterations'    : [10]\n",
    "}\n",
    "\n",
    "grid = GridSearchCV(cbclass, scoring='f1', param_grid=grid_space , cv=3, n_jobs=-1)\n",
    "\n",
    "grid.fit(features_train, target_train)\n",
    "\n",
    "print('Лучшие гиперпараметры: ', grid.best_params_)\n",
    "print('Результат f1_score: ', grid.best_score_)"
   ]
  },
  {
   "cell_type": "markdown",
   "metadata": {},
   "source": [
    "Результат CatBoost f1-меры на кросс-валидационной выборке составляет 0.59"
   ]
  },
  {
   "cell_type": "markdown",
   "metadata": {},
   "source": [
    "### Промежуточный вывод:\n",
    "\n",
    "Линейная модель показала себя лучше всего с результатом 0.76. Вероятно это связано с тем что модели основанный на принятии решения по дереву склонны к переобучению. "
   ]
  },
  {
   "cell_type": "markdown",
   "metadata": {},
   "source": [
    "### Логистическая регрессия на тестовой выборке"
   ]
  },
  {
   "cell_type": "code",
   "execution_count": 22,
   "metadata": {},
   "outputs": [],
   "source": [
    "features_train_vector = count_tf_idf.fit_transform(features_train)\n",
    "features_test_vector = count_tf_idf.transform(features_test) "
   ]
  },
  {
   "cell_type": "code",
   "execution_count": 23,
   "metadata": {},
   "outputs": [
    {
     "name": "stdout",
     "output_type": "stream",
     "text": [
      "Результат f1-core на тестовой выборке: 0.7587633605332721\n"
     ]
    }
   ],
   "source": [
    "model_lr = LogisticRegression(C=10.0, class_weight='balanced', solver='liblinear', random_state=12345).fit(features_train_vector, target_train)\n",
    "\n",
    "predictions = model_lr.predict(features_test_vector)\n",
    "\n",
    "print('Результат f1-core на тестовой выборке:', f1_score(target_test,predictions))"
   ]
  },
  {
   "cell_type": "markdown",
   "metadata": {},
   "source": [
    "Мы получили результат 0.77 на тестовой выборке и выполнили задачу по результату."
   ]
  },
  {
   "cell_type": "markdown",
   "metadata": {},
   "source": [
    "Проверим нашу модель на адекватность с помощью Дамми классификатора:"
   ]
  },
  {
   "cell_type": "code",
   "execution_count": 24,
   "metadata": {},
   "outputs": [
    {
     "name": "stdout",
     "output_type": "stream",
     "text": [
      "Результат f1_score для модели Дамми составляет: 0.17086308405361392\n"
     ]
    }
   ],
   "source": [
    "dummy_regr = DummyClassifier(strategy=\"uniform\")\n",
    "dummy_regr.fit(features_train_vector, target_train)\n",
    "DummyClassifier()\n",
    "dummy_regr_predict = dummy_regr.predict(features_test_vector)\n",
    "f1 = f1_score(target_test,dummy_regr_predict)\n",
    "print('Результат f1_score для модели Дамми составляет:', f1)"
   ]
  },
  {
   "cell_type": "markdown",
   "metadata": {},
   "source": [
    "Результат Дамми показал 0.17 на тестовой выборке, что существенно хуже нашего результата и может говорить об адекватности нашей модели."
   ]
  },
  {
   "cell_type": "markdown",
   "metadata": {},
   "source": [
    "## Выводы\n",
    "\n",
    "Интернет-магазин «Викишоп» запускает новый сервис. Теперь пользователи могут редактировать и дополнять описания товаров, как в вики-сообществах. То есть клиенты предлагают свои правки и комментируют изменения других. Магазину нужен инструмент, который будет искать токсичные комментарии и отправлять их на модерацию.\n",
    "\n",
    "Мы обучили модель классифицировать комментарии на позитивные и негативные. В нашем распоряжении набор данных с разметкой о токсичности правок.\n",
    "\n",
    "Была задача получить на модели значение метрики качества F1 не меньше 0.75.\n",
    "\n",
    "Мы проанализировали наш файл и увидели что доля ответов с классификацией 1 составляет примерно 10%.\n",
    "\n",
    "Мы создали корпус из текста, очистили его и лемматизировали. Затем мы его так же убрали от ненужных слов с помощью стоп-слов и векторизовали признаки для того чтобы передать их для машинного обучения.\n",
    "\n",
    "Затем мы приступили к обучению.\n",
    "\n",
    "Модель линейной регрессии показала результат 0.76 на тестовой выборке что полностью устраивает нас по нашей задаче. \n",
    "\n",
    "Случайный лес работает долго и результат меры f1 составляет 0.30 что существенно хуже регрессии\n",
    "\n",
    "CatBoost показал результат в 0.59\n",
    "\n",
    "Результат Дамми показал 0.17 на тестовой выборке, что существенно хуже нашего результата и может говорить об адекватности нашей модели."
   ]
  }
 ],
 "metadata": {
  "ExecuteTimeLog": [
   {
    "duration": 1905,
    "start_time": "2023-06-27T17:18:02.554Z"
   },
   {
    "duration": 6311,
    "start_time": "2023-06-27T17:19:06.359Z"
   },
   {
    "duration": 100,
    "start_time": "2023-06-27T17:19:58.355Z"
   },
   {
    "duration": 109,
    "start_time": "2023-06-27T17:20:22.956Z"
   },
   {
    "duration": 5319,
    "start_time": "2023-06-27T17:21:21.956Z"
   },
   {
    "duration": 112,
    "start_time": "2023-06-27T17:23:04.855Z"
   },
   {
    "duration": 218,
    "start_time": "2023-06-27T17:23:18.457Z"
   },
   {
    "duration": 209,
    "start_time": "2023-06-27T17:27:44.455Z"
   },
   {
    "duration": 6769,
    "start_time": "2023-06-27T17:31:32.860Z"
   },
   {
    "duration": 5,
    "start_time": "2023-06-27T17:31:46.387Z"
   },
   {
    "duration": 4,
    "start_time": "2023-06-27T17:34:36.297Z"
   },
   {
    "duration": 78,
    "start_time": "2023-06-27T17:34:51.480Z"
   },
   {
    "duration": 7,
    "start_time": "2023-06-27T17:34:57.590Z"
   },
   {
    "duration": 4255,
    "start_time": "2023-06-27T17:34:58.290Z"
   },
   {
    "duration": 446,
    "start_time": "2023-06-27T17:35:05.078Z"
   },
   {
    "duration": 1163,
    "start_time": "2023-06-27T17:35:05.526Z"
   },
   {
    "duration": 30,
    "start_time": "2023-06-27T17:35:06.695Z"
   },
   {
    "duration": 2461,
    "start_time": "2023-06-27T17:35:06.728Z"
   },
   {
    "duration": 4,
    "start_time": "2023-06-27T17:35:09.191Z"
   },
   {
    "duration": 92,
    "start_time": "2023-06-27T17:35:09.197Z"
   },
   {
    "duration": 6,
    "start_time": "2023-06-27T17:35:56.739Z"
   },
   {
    "duration": 5,
    "start_time": "2023-06-27T17:36:06.080Z"
   },
   {
    "duration": 13,
    "start_time": "2023-06-27T17:36:17.484Z"
   },
   {
    "duration": 3,
    "start_time": "2023-06-27T17:36:47.649Z"
   },
   {
    "duration": 5,
    "start_time": "2023-06-27T17:36:48.317Z"
   },
   {
    "duration": 17,
    "start_time": "2023-06-27T17:36:48.988Z"
   },
   {
    "duration": 454,
    "start_time": "2023-06-27T17:37:13.884Z"
   },
   {
    "duration": 1343,
    "start_time": "2023-06-27T17:37:14.340Z"
   },
   {
    "duration": 32,
    "start_time": "2023-06-27T17:37:15.690Z"
   },
   {
    "duration": 2499,
    "start_time": "2023-06-27T17:37:15.724Z"
   },
   {
    "duration": 3,
    "start_time": "2023-06-27T17:37:18.226Z"
   },
   {
    "duration": 54,
    "start_time": "2023-06-27T17:37:18.231Z"
   },
   {
    "duration": 85,
    "start_time": "2023-06-27T17:37:18.287Z"
   },
   {
    "duration": 3,
    "start_time": "2023-06-27T17:39:00.302Z"
   },
   {
    "duration": 20,
    "start_time": "2023-06-27T17:39:04.452Z"
   },
   {
    "duration": 73,
    "start_time": "2023-06-27T17:39:17.814Z"
   },
   {
    "duration": 500,
    "start_time": "2023-06-27T17:39:32.371Z"
   },
   {
    "duration": 4841,
    "start_time": "2023-06-27T17:39:32.875Z"
   },
   {
    "duration": 33,
    "start_time": "2023-06-27T17:39:37.718Z"
   },
   {
    "duration": 2366,
    "start_time": "2023-06-27T17:39:37.754Z"
   },
   {
    "duration": 4,
    "start_time": "2023-06-27T17:39:40.123Z"
   },
   {
    "duration": 101,
    "start_time": "2023-06-27T17:39:40.129Z"
   },
   {
    "duration": 8,
    "start_time": "2023-06-27T17:40:58.361Z"
   },
   {
    "duration": 12,
    "start_time": "2023-06-27T17:40:59.506Z"
   },
   {
    "duration": 9,
    "start_time": "2023-06-27T17:41:30.340Z"
   },
   {
    "duration": 5,
    "start_time": "2023-06-27T17:41:41.906Z"
   },
   {
    "duration": 5,
    "start_time": "2023-06-27T17:41:56.232Z"
   },
   {
    "duration": 7,
    "start_time": "2023-06-27T17:42:18.084Z"
   },
   {
    "duration": 12,
    "start_time": "2023-06-27T17:42:18.732Z"
   },
   {
    "duration": 484,
    "start_time": "2023-06-27T17:43:14.683Z"
   },
   {
    "duration": 1293,
    "start_time": "2023-06-27T17:43:15.177Z"
   },
   {
    "duration": 59,
    "start_time": "2023-06-27T17:43:16.481Z"
   },
   {
    "duration": 2601,
    "start_time": "2023-06-27T17:43:16.543Z"
   },
   {
    "duration": 24,
    "start_time": "2023-06-27T17:43:19.147Z"
   },
   {
    "duration": 143,
    "start_time": "2023-06-27T17:43:19.173Z"
   },
   {
    "duration": 4,
    "start_time": "2023-06-27T17:44:36.573Z"
   },
   {
    "duration": 23,
    "start_time": "2023-06-27T17:44:37.554Z"
   },
   {
    "duration": 472,
    "start_time": "2023-06-27T17:44:54.939Z"
   },
   {
    "duration": 1275,
    "start_time": "2023-06-27T17:44:55.413Z"
   },
   {
    "duration": 38,
    "start_time": "2023-06-27T17:44:56.691Z"
   },
   {
    "duration": 2636,
    "start_time": "2023-06-27T17:44:56.731Z"
   },
   {
    "duration": 6,
    "start_time": "2023-06-27T17:44:59.374Z"
   },
   {
    "duration": 108,
    "start_time": "2023-06-27T17:44:59.382Z"
   },
   {
    "duration": 463,
    "start_time": "2023-06-27T17:48:46.271Z"
   },
   {
    "duration": 1252,
    "start_time": "2023-06-27T17:48:46.737Z"
   },
   {
    "duration": 30,
    "start_time": "2023-06-27T17:48:47.991Z"
   },
   {
    "duration": 2420,
    "start_time": "2023-06-27T17:48:48.023Z"
   },
   {
    "duration": 25,
    "start_time": "2023-06-27T17:48:50.446Z"
   },
   {
    "duration": 1036,
    "start_time": "2023-06-27T17:48:50.474Z"
   },
   {
    "duration": 9,
    "start_time": "2023-06-27T17:49:16.977Z"
   },
   {
    "duration": 489,
    "start_time": "2023-06-27T17:50:11.288Z"
   },
   {
    "duration": 1147,
    "start_time": "2023-06-27T17:50:11.781Z"
   },
   {
    "duration": 39,
    "start_time": "2023-06-27T17:50:12.930Z"
   },
   {
    "duration": 2473,
    "start_time": "2023-06-27T17:50:12.971Z"
   },
   {
    "duration": 10,
    "start_time": "2023-06-27T17:50:15.446Z"
   },
   {
    "duration": 17,
    "start_time": "2023-06-27T17:50:15.458Z"
   },
   {
    "duration": 1101,
    "start_time": "2023-06-27T17:50:15.478Z"
   },
   {
    "duration": 401,
    "start_time": "2023-06-27T17:51:08.921Z"
   },
   {
    "duration": 1161,
    "start_time": "2023-06-27T17:51:09.325Z"
   },
   {
    "duration": 31,
    "start_time": "2023-06-27T17:51:10.488Z"
   },
   {
    "duration": 2401,
    "start_time": "2023-06-27T17:51:10.521Z"
   },
   {
    "duration": 10,
    "start_time": "2023-06-27T17:51:12.925Z"
   },
   {
    "duration": 7,
    "start_time": "2023-06-27T17:51:12.938Z"
   },
   {
    "duration": 1032,
    "start_time": "2023-06-27T17:51:12.957Z"
   },
   {
    "duration": 425,
    "start_time": "2023-06-27T17:52:01.389Z"
   },
   {
    "duration": 1124,
    "start_time": "2023-06-27T17:52:01.817Z"
   },
   {
    "duration": 48,
    "start_time": "2023-06-27T17:52:02.943Z"
   },
   {
    "duration": 2386,
    "start_time": "2023-06-27T17:52:02.993Z"
   },
   {
    "duration": 12,
    "start_time": "2023-06-27T17:52:05.381Z"
   },
   {
    "duration": 5,
    "start_time": "2023-06-27T17:52:05.395Z"
   },
   {
    "duration": 1012,
    "start_time": "2023-06-27T17:52:05.402Z"
   },
   {
    "duration": 125,
    "start_time": "2023-06-27T17:52:42.085Z"
   },
   {
    "duration": 552,
    "start_time": "2023-06-27T17:56:50.894Z"
   },
   {
    "duration": 1453,
    "start_time": "2023-06-27T17:56:51.448Z"
   },
   {
    "duration": 40,
    "start_time": "2023-06-27T17:56:52.904Z"
   },
   {
    "duration": 2802,
    "start_time": "2023-06-27T17:56:52.946Z"
   },
   {
    "duration": 2,
    "start_time": "2023-06-27T17:57:27.988Z"
   },
   {
    "duration": 5,
    "start_time": "2023-06-27T17:58:07.321Z"
   },
   {
    "duration": 155,
    "start_time": "2023-06-27T17:58:07.952Z"
   },
   {
    "duration": 9,
    "start_time": "2023-06-27T17:58:17.199Z"
   },
   {
    "duration": 11,
    "start_time": "2023-06-27T17:58:48.296Z"
   },
   {
    "duration": 32,
    "start_time": "2023-06-27T17:59:19.247Z"
   },
   {
    "duration": 5,
    "start_time": "2023-06-27T18:01:10.427Z"
   },
   {
    "duration": 5,
    "start_time": "2023-06-27T18:01:17.284Z"
   },
   {
    "duration": 115,
    "start_time": "2023-06-27T18:01:24.374Z"
   },
   {
    "duration": 11,
    "start_time": "2023-06-27T18:01:33.015Z"
   },
   {
    "duration": 3,
    "start_time": "2023-06-27T18:03:28.306Z"
   },
   {
    "duration": 14,
    "start_time": "2023-06-27T18:03:28.749Z"
   },
   {
    "duration": 4,
    "start_time": "2023-06-27T18:03:34.421Z"
   },
   {
    "duration": 4,
    "start_time": "2023-06-27T18:03:40.433Z"
   },
   {
    "duration": 4,
    "start_time": "2023-06-27T18:03:40.890Z"
   },
   {
    "duration": 5,
    "start_time": "2023-06-27T18:04:18.280Z"
   },
   {
    "duration": 5,
    "start_time": "2023-06-27T18:04:18.645Z"
   },
   {
    "duration": 3,
    "start_time": "2023-06-27T18:04:23.135Z"
   },
   {
    "duration": 5,
    "start_time": "2023-06-27T18:04:23.544Z"
   },
   {
    "duration": 3,
    "start_time": "2023-06-27T18:04:32.798Z"
   },
   {
    "duration": 4,
    "start_time": "2023-06-27T18:04:33.304Z"
   },
   {
    "duration": 3,
    "start_time": "2023-06-27T18:04:38.531Z"
   },
   {
    "duration": 6,
    "start_time": "2023-06-27T18:04:38.851Z"
   },
   {
    "duration": 17,
    "start_time": "2023-06-27T18:05:01.550Z"
   },
   {
    "duration": 8,
    "start_time": "2023-06-27T18:05:28.033Z"
   },
   {
    "duration": 5,
    "start_time": "2023-06-27T18:05:59.589Z"
   },
   {
    "duration": 12,
    "start_time": "2023-06-27T18:06:07.551Z"
   },
   {
    "duration": 118,
    "start_time": "2023-06-27T18:06:33.113Z"
   },
   {
    "duration": 452,
    "start_time": "2023-06-27T18:06:49.823Z"
   },
   {
    "duration": 4652,
    "start_time": "2023-06-27T18:06:50.287Z"
   },
   {
    "duration": 44,
    "start_time": "2023-06-27T18:06:54.941Z"
   },
   {
    "duration": 2415,
    "start_time": "2023-06-27T18:06:54.987Z"
   },
   {
    "duration": 7,
    "start_time": "2023-06-27T18:06:57.405Z"
   },
   {
    "duration": 448,
    "start_time": "2023-06-27T18:07:22.001Z"
   },
   {
    "duration": 4397,
    "start_time": "2023-06-27T18:07:22.451Z"
   },
   {
    "duration": 35,
    "start_time": "2023-06-27T18:07:26.850Z"
   },
   {
    "duration": 2376,
    "start_time": "2023-06-27T18:07:26.890Z"
   },
   {
    "duration": 13,
    "start_time": "2023-06-27T18:07:29.269Z"
   },
   {
    "duration": 64,
    "start_time": "2023-06-27T18:11:23.707Z"
   },
   {
    "duration": 495,
    "start_time": "2023-06-27T18:11:30.774Z"
   },
   {
    "duration": 4456,
    "start_time": "2023-06-27T18:11:31.277Z"
   },
   {
    "duration": 3,
    "start_time": "2023-06-27T18:11:36.906Z"
   },
   {
    "duration": 1100,
    "start_time": "2023-06-27T18:11:37.478Z"
   },
   {
    "duration": 30,
    "start_time": "2023-06-27T18:11:40.197Z"
   },
   {
    "duration": 2355,
    "start_time": "2023-06-27T18:11:40.892Z"
   },
   {
    "duration": 50,
    "start_time": "2023-06-27T18:11:43.253Z"
   },
   {
    "duration": 468,
    "start_time": "2023-06-27T18:13:10.672Z"
   },
   {
    "duration": 1140,
    "start_time": "2023-06-27T18:13:11.143Z"
   },
   {
    "duration": 32,
    "start_time": "2023-06-27T18:13:12.286Z"
   },
   {
    "duration": 100,
    "start_time": "2023-06-27T18:13:12.320Z"
   },
   {
    "duration": 0,
    "start_time": "2023-06-27T18:13:12.422Z"
   },
   {
    "duration": 0,
    "start_time": "2023-06-27T18:13:12.423Z"
   },
   {
    "duration": 0,
    "start_time": "2023-06-27T18:13:12.424Z"
   },
   {
    "duration": 33,
    "start_time": "2023-06-27T18:13:26.610Z"
   },
   {
    "duration": 13,
    "start_time": "2023-06-27T18:13:29.626Z"
   },
   {
    "duration": 9,
    "start_time": "2023-06-27T18:17:57.821Z"
   },
   {
    "duration": 3,
    "start_time": "2023-06-27T18:18:01.887Z"
   },
   {
    "duration": 14,
    "start_time": "2023-06-27T18:18:02.227Z"
   },
   {
    "duration": 7,
    "start_time": "2023-06-27T18:18:22.693Z"
   },
   {
    "duration": 10,
    "start_time": "2023-06-27T18:18:25.778Z"
   },
   {
    "duration": 20,
    "start_time": "2023-06-27T18:18:26.285Z"
   },
   {
    "duration": 2449,
    "start_time": "2023-06-27T18:19:44.000Z"
   },
   {
    "duration": 1055,
    "start_time": "2023-06-27T18:21:51.150Z"
   },
   {
    "duration": 11,
    "start_time": "2023-06-27T18:21:53.007Z"
   },
   {
    "duration": 1061,
    "start_time": "2023-06-27T18:21:54.429Z"
   },
   {
    "duration": 433,
    "start_time": "2023-06-27T18:22:12.703Z"
   },
   {
    "duration": 4623,
    "start_time": "2023-06-27T18:22:13.138Z"
   },
   {
    "duration": 39,
    "start_time": "2023-06-27T18:22:17.763Z"
   },
   {
    "duration": 2487,
    "start_time": "2023-06-27T18:22:17.804Z"
   },
   {
    "duration": 25,
    "start_time": "2023-06-27T18:22:20.293Z"
   },
   {
    "duration": 1137,
    "start_time": "2023-06-27T18:22:20.320Z"
   },
   {
    "duration": 128,
    "start_time": "2023-06-27T18:22:26.415Z"
   },
   {
    "duration": 9,
    "start_time": "2023-06-27T18:41:22.272Z"
   },
   {
    "duration": 16,
    "start_time": "2023-06-27T18:41:40.781Z"
   },
   {
    "duration": 13,
    "start_time": "2023-06-27T18:42:02.539Z"
   },
   {
    "duration": 8,
    "start_time": "2023-06-27T18:42:07.112Z"
   },
   {
    "duration": 12,
    "start_time": "2023-06-27T18:42:13.554Z"
   },
   {
    "duration": 8,
    "start_time": "2023-06-27T18:43:24.750Z"
   },
   {
    "duration": 6,
    "start_time": "2023-06-27T18:43:51.887Z"
   },
   {
    "duration": 7,
    "start_time": "2023-06-27T18:51:51.596Z"
   },
   {
    "duration": 3,
    "start_time": "2023-06-27T18:51:57.000Z"
   },
   {
    "duration": 1126,
    "start_time": "2023-06-27T18:51:57.432Z"
   },
   {
    "duration": 5,
    "start_time": "2023-06-27T18:51:58.599Z"
   },
   {
    "duration": 43,
    "start_time": "2023-06-27T18:52:02.428Z"
   },
   {
    "duration": 82,
    "start_time": "2023-06-27T18:52:06.698Z"
   },
   {
    "duration": 493,
    "start_time": "2023-06-27T18:52:13.057Z"
   },
   {
    "duration": 5011,
    "start_time": "2023-06-27T18:52:13.555Z"
   },
   {
    "duration": 7,
    "start_time": "2023-06-27T18:52:18.568Z"
   },
   {
    "duration": 49,
    "start_time": "2023-06-27T18:52:18.576Z"
   },
   {
    "duration": 2391,
    "start_time": "2023-06-27T18:52:18.627Z"
   },
   {
    "duration": 5,
    "start_time": "2023-06-27T18:52:21.020Z"
   },
   {
    "duration": 98,
    "start_time": "2023-06-27T18:52:21.026Z"
   },
   {
    "duration": 486,
    "start_time": "2023-06-27T18:53:30.744Z"
   },
   {
    "duration": 1229,
    "start_time": "2023-06-27T18:53:31.232Z"
   },
   {
    "duration": 24,
    "start_time": "2023-06-27T18:53:32.464Z"
   },
   {
    "duration": 35,
    "start_time": "2023-06-27T18:53:32.501Z"
   },
   {
    "duration": 2434,
    "start_time": "2023-06-27T18:53:32.539Z"
   },
   {
    "duration": 86,
    "start_time": "2023-06-27T18:53:34.980Z"
   },
   {
    "duration": 1202,
    "start_time": "2023-06-27T18:53:35.077Z"
   },
   {
    "duration": 493,
    "start_time": "2023-06-27T18:54:19.774Z"
   },
   {
    "duration": 1242,
    "start_time": "2023-06-27T18:54:20.272Z"
   },
   {
    "duration": 6,
    "start_time": "2023-06-27T18:54:21.516Z"
   },
   {
    "duration": 49,
    "start_time": "2023-06-27T18:54:21.525Z"
   },
   {
    "duration": 2485,
    "start_time": "2023-06-27T18:54:21.576Z"
   },
   {
    "duration": 10,
    "start_time": "2023-06-27T18:54:24.072Z"
   },
   {
    "duration": 1160,
    "start_time": "2023-06-27T18:54:24.092Z"
   },
   {
    "duration": 1620,
    "start_time": "2023-06-27T19:00:59.250Z"
   },
   {
    "duration": 1216,
    "start_time": "2023-06-27T19:01:00.877Z"
   },
   {
    "duration": 7,
    "start_time": "2023-06-27T19:01:02.095Z"
   },
   {
    "duration": 44,
    "start_time": "2023-06-27T19:01:02.104Z"
   },
   {
    "duration": 2587,
    "start_time": "2023-06-27T19:01:02.151Z"
   },
   {
    "duration": 6,
    "start_time": "2023-06-27T19:01:04.740Z"
   },
   {
    "duration": 57187,
    "start_time": "2023-06-27T19:01:04.748Z"
   },
   {
    "duration": 1767,
    "start_time": "2023-06-27T19:04:49.792Z"
   },
   {
    "duration": 1199,
    "start_time": "2023-06-27T19:04:51.561Z"
   },
   {
    "duration": 12,
    "start_time": "2023-06-27T19:04:52.768Z"
   },
   {
    "duration": 35,
    "start_time": "2023-06-27T19:04:52.783Z"
   },
   {
    "duration": 2412,
    "start_time": "2023-06-27T19:04:52.822Z"
   },
   {
    "duration": 5,
    "start_time": "2023-06-27T19:04:55.236Z"
   },
   {
    "duration": 204,
    "start_time": "2023-06-27T19:04:55.243Z"
   },
   {
    "duration": 1601,
    "start_time": "2023-06-27T19:05:24.232Z"
   },
   {
    "duration": 1229,
    "start_time": "2023-06-27T19:05:25.836Z"
   },
   {
    "duration": 7,
    "start_time": "2023-06-27T19:05:27.067Z"
   },
   {
    "duration": 39,
    "start_time": "2023-06-27T19:05:27.076Z"
   },
   {
    "duration": 2466,
    "start_time": "2023-06-27T19:05:27.119Z"
   },
   {
    "duration": 14,
    "start_time": "2023-06-27T19:05:29.587Z"
   },
   {
    "duration": 59319,
    "start_time": "2023-06-27T19:05:29.603Z"
   },
   {
    "duration": 8,
    "start_time": "2023-06-27T19:10:36.881Z"
   },
   {
    "duration": 4,
    "start_time": "2023-06-27T19:11:36.391Z"
   },
   {
    "duration": 5,
    "start_time": "2023-06-27T19:11:41.784Z"
   },
   {
    "duration": 160,
    "start_time": "2023-06-27T19:12:01.643Z"
   },
   {
    "duration": 12,
    "start_time": "2023-06-27T19:12:30.630Z"
   },
   {
    "duration": 16,
    "start_time": "2023-06-27T19:12:34.988Z"
   },
   {
    "duration": 152,
    "start_time": "2023-06-27T19:12:38.585Z"
   },
   {
    "duration": 32,
    "start_time": "2023-06-27T19:12:44.680Z"
   },
   {
    "duration": 285,
    "start_time": "2023-06-27T19:15:55.703Z"
   },
   {
    "duration": 14,
    "start_time": "2023-06-27T19:16:05.811Z"
   },
   {
    "duration": 11,
    "start_time": "2023-06-27T19:16:15.903Z"
   },
   {
    "duration": 4,
    "start_time": "2023-06-27T19:16:19.498Z"
   },
   {
    "duration": 1786,
    "start_time": "2023-06-27T19:16:40.108Z"
   },
   {
    "duration": 1330,
    "start_time": "2023-06-27T19:16:41.896Z"
   },
   {
    "duration": 16,
    "start_time": "2023-06-27T19:16:43.231Z"
   },
   {
    "duration": 64,
    "start_time": "2023-06-27T19:16:43.252Z"
   },
   {
    "duration": 2457,
    "start_time": "2023-06-27T19:16:43.319Z"
   },
   {
    "duration": 14,
    "start_time": "2023-06-27T19:16:45.779Z"
   },
   {
    "duration": 61110,
    "start_time": "2023-06-27T19:16:45.796Z"
   },
   {
    "duration": 1110,
    "start_time": "2023-06-27T19:17:46.911Z"
   },
   {
    "duration": 14,
    "start_time": "2023-06-27T19:17:53.024Z"
   },
   {
    "duration": 2006,
    "start_time": "2023-06-27T19:18:11.698Z"
   },
   {
    "duration": 1498,
    "start_time": "2023-06-27T19:18:13.707Z"
   },
   {
    "duration": 9,
    "start_time": "2023-06-27T19:18:15.212Z"
   },
   {
    "duration": 57,
    "start_time": "2023-06-27T19:18:15.226Z"
   },
   {
    "duration": 2603,
    "start_time": "2023-06-27T19:18:15.302Z"
   },
   {
    "duration": 26,
    "start_time": "2023-06-27T19:18:17.911Z"
   },
   {
    "duration": 66491,
    "start_time": "2023-06-27T19:18:17.939Z"
   },
   {
    "duration": 1100,
    "start_time": "2023-06-27T19:19:24.432Z"
   },
   {
    "duration": 12,
    "start_time": "2023-06-27T19:19:25.534Z"
   },
   {
    "duration": 19,
    "start_time": "2023-06-27T19:23:54.527Z"
   },
   {
    "duration": 2246,
    "start_time": "2023-06-27T19:25:46.221Z"
   },
   {
    "duration": 1115,
    "start_time": "2023-06-27T19:25:48.482Z"
   },
   {
    "duration": 7,
    "start_time": "2023-06-27T19:25:49.599Z"
   },
   {
    "duration": 48,
    "start_time": "2023-06-27T19:25:49.609Z"
   },
   {
    "duration": 10569,
    "start_time": "2023-06-27T19:25:49.665Z"
   },
   {
    "duration": 36,
    "start_time": "2023-06-27T19:26:00.238Z"
   },
   {
    "duration": 2357,
    "start_time": "2023-06-27T19:26:00.276Z"
   },
   {
    "duration": 0,
    "start_time": "2023-06-27T19:26:02.636Z"
   },
   {
    "duration": 0,
    "start_time": "2023-06-27T19:26:02.637Z"
   },
   {
    "duration": 0,
    "start_time": "2023-06-27T19:26:02.638Z"
   },
   {
    "duration": 0,
    "start_time": "2023-06-27T19:26:02.640Z"
   },
   {
    "duration": 6552,
    "start_time": "2023-06-27T19:27:29.985Z"
   },
   {
    "duration": 4043,
    "start_time": "2023-06-27T19:27:36.540Z"
   },
   {
    "duration": 6,
    "start_time": "2023-06-27T19:27:40.585Z"
   },
   {
    "duration": 39,
    "start_time": "2023-06-27T19:27:40.593Z"
   },
   {
    "duration": 2424,
    "start_time": "2023-06-27T19:27:40.635Z"
   },
   {
    "duration": 27,
    "start_time": "2023-06-27T19:27:43.062Z"
   },
   {
    "duration": 52615,
    "start_time": "2023-06-27T19:27:43.091Z"
   },
   {
    "duration": 1047,
    "start_time": "2023-06-27T19:28:35.708Z"
   },
   {
    "duration": 28,
    "start_time": "2023-06-27T19:28:36.758Z"
   },
   {
    "duration": 8,
    "start_time": "2023-06-27T20:08:41.078Z"
   },
   {
    "duration": 1105,
    "start_time": "2023-06-27T20:08:41.691Z"
   },
   {
    "duration": 13,
    "start_time": "2023-06-27T20:08:47.487Z"
   },
   {
    "duration": 35,
    "start_time": "2023-06-27T20:08:47.933Z"
   },
   {
    "duration": 2477,
    "start_time": "2023-06-27T20:08:48.517Z"
   },
   {
    "duration": 3,
    "start_time": "2023-06-27T20:08:50.996Z"
   },
   {
    "duration": 183,
    "start_time": "2023-06-27T20:08:53.326Z"
   },
   {
    "duration": 12,
    "start_time": "2023-06-27T20:09:11.894Z"
   },
   {
    "duration": 23,
    "start_time": "2023-06-27T20:10:18.538Z"
   },
   {
    "duration": 2082,
    "start_time": "2023-06-27T20:10:59.837Z"
   },
   {
    "duration": 2312,
    "start_time": "2023-06-27T20:11:10.304Z"
   },
   {
    "duration": 16,
    "start_time": "2023-06-27T20:11:20.113Z"
   },
   {
    "duration": 18,
    "start_time": "2023-06-27T20:12:02.773Z"
   },
   {
    "duration": 17,
    "start_time": "2023-06-27T20:17:00.228Z"
   },
   {
    "duration": 110,
    "start_time": "2023-06-27T20:17:24.726Z"
   },
   {
    "duration": 15,
    "start_time": "2023-06-27T20:17:47.947Z"
   },
   {
    "duration": 18,
    "start_time": "2023-06-27T20:17:57.812Z"
   },
   {
    "duration": 20,
    "start_time": "2023-06-27T20:18:03.012Z"
   },
   {
    "duration": 6,
    "start_time": "2023-06-27T20:18:06.515Z"
   },
   {
    "duration": 987,
    "start_time": "2023-06-27T20:18:07.076Z"
   },
   {
    "duration": 5,
    "start_time": "2023-06-27T20:18:09.335Z"
   },
   {
    "duration": 28,
    "start_time": "2023-06-27T20:18:11.646Z"
   },
   {
    "duration": 4976,
    "start_time": "2023-06-27T20:18:24.010Z"
   },
   {
    "duration": 3681,
    "start_time": "2023-06-27T20:18:28.989Z"
   },
   {
    "duration": 5,
    "start_time": "2023-06-27T20:18:32.672Z"
   },
   {
    "duration": 35,
    "start_time": "2023-06-27T20:18:32.678Z"
   },
   {
    "duration": 2130,
    "start_time": "2023-06-27T20:18:32.717Z"
   },
   {
    "duration": 3,
    "start_time": "2023-06-27T20:18:34.851Z"
   },
   {
    "duration": 7,
    "start_time": "2023-06-27T20:18:34.856Z"
   },
   {
    "duration": 145,
    "start_time": "2023-06-27T20:18:34.866Z"
   },
   {
    "duration": 0,
    "start_time": "2023-06-27T20:18:35.013Z"
   },
   {
    "duration": 0,
    "start_time": "2023-06-27T20:18:35.015Z"
   },
   {
    "duration": 0,
    "start_time": "2023-06-27T20:18:35.016Z"
   },
   {
    "duration": 0,
    "start_time": "2023-06-27T20:18:35.018Z"
   },
   {
    "duration": 380,
    "start_time": "2023-06-27T20:19:51.512Z"
   },
   {
    "duration": 383,
    "start_time": "2023-06-27T20:20:00.204Z"
   },
   {
    "duration": 2308,
    "start_time": "2023-06-27T20:23:07.576Z"
   },
   {
    "duration": 12,
    "start_time": "2023-06-27T20:23:31.037Z"
   },
   {
    "duration": 1481,
    "start_time": "2023-06-27T20:24:54.525Z"
   },
   {
    "duration": 1146,
    "start_time": "2023-06-27T20:24:56.008Z"
   },
   {
    "duration": 5,
    "start_time": "2023-06-27T20:24:57.156Z"
   },
   {
    "duration": 44,
    "start_time": "2023-06-27T20:24:57.163Z"
   },
   {
    "duration": 2329,
    "start_time": "2023-06-27T20:24:57.210Z"
   },
   {
    "duration": 12,
    "start_time": "2023-06-27T20:24:59.542Z"
   },
   {
    "duration": 6,
    "start_time": "2023-06-27T20:24:59.556Z"
   },
   {
    "duration": 2584,
    "start_time": "2023-06-27T20:24:59.564Z"
   },
   {
    "duration": 29,
    "start_time": "2023-06-27T20:25:02.150Z"
   },
   {
    "duration": 27,
    "start_time": "2023-06-27T20:25:02.181Z"
   },
   {
    "duration": 54159,
    "start_time": "2023-06-27T20:25:02.210Z"
   },
   {
    "duration": 1200,
    "start_time": "2023-06-27T20:25:56.375Z"
   },
   {
    "duration": 44,
    "start_time": "2023-06-27T20:25:57.577Z"
   },
   {
    "duration": 306,
    "start_time": "2023-06-27T20:27:39.219Z"
   },
   {
    "duration": 1942,
    "start_time": "2023-06-27T20:28:33.376Z"
   },
   {
    "duration": 1201,
    "start_time": "2023-06-27T20:28:35.320Z"
   },
   {
    "duration": 6,
    "start_time": "2023-06-27T20:28:36.524Z"
   },
   {
    "duration": 67,
    "start_time": "2023-06-27T20:28:36.533Z"
   },
   {
    "duration": 2517,
    "start_time": "2023-06-27T20:28:36.602Z"
   },
   {
    "duration": 17,
    "start_time": "2023-06-27T20:28:39.121Z"
   },
   {
    "duration": 20,
    "start_time": "2023-06-27T20:28:39.140Z"
   },
   {
    "duration": 2842,
    "start_time": "2023-06-27T20:28:39.166Z"
   },
   {
    "duration": 6,
    "start_time": "2023-06-27T20:28:42.010Z"
   },
   {
    "duration": 85,
    "start_time": "2023-06-27T20:28:42.019Z"
   },
   {
    "duration": 0,
    "start_time": "2023-06-27T20:28:42.106Z"
   },
   {
    "duration": 0,
    "start_time": "2023-06-27T20:28:42.107Z"
   },
   {
    "duration": 0,
    "start_time": "2023-06-27T20:28:42.109Z"
   },
   {
    "duration": 0,
    "start_time": "2023-06-27T20:28:42.111Z"
   },
   {
    "duration": 1847,
    "start_time": "2023-06-27T20:29:04.048Z"
   },
   {
    "duration": 1211,
    "start_time": "2023-06-27T20:29:05.898Z"
   },
   {
    "duration": 5,
    "start_time": "2023-06-27T20:29:07.112Z"
   },
   {
    "duration": 49,
    "start_time": "2023-06-27T20:29:07.119Z"
   },
   {
    "duration": 2576,
    "start_time": "2023-06-27T20:29:07.171Z"
   },
   {
    "duration": 30,
    "start_time": "2023-06-27T20:29:09.755Z"
   },
   {
    "duration": 39,
    "start_time": "2023-06-27T20:29:09.787Z"
   },
   {
    "duration": 2805,
    "start_time": "2023-06-27T20:29:09.828Z"
   },
   {
    "duration": 30,
    "start_time": "2023-06-27T20:29:12.635Z"
   },
   {
    "duration": 32,
    "start_time": "2023-06-27T20:29:12.668Z"
   },
   {
    "duration": 85,
    "start_time": "2023-06-27T20:29:12.702Z"
   },
   {
    "duration": 0,
    "start_time": "2023-06-27T20:29:12.789Z"
   },
   {
    "duration": 0,
    "start_time": "2023-06-27T20:29:12.791Z"
   },
   {
    "duration": 0,
    "start_time": "2023-06-27T20:29:12.793Z"
   },
   {
    "duration": 1,
    "start_time": "2023-06-27T20:29:12.794Z"
   },
   {
    "duration": 3433,
    "start_time": "2023-06-27T20:30:12.329Z"
   },
   {
    "duration": 2037,
    "start_time": "2023-06-27T20:31:39.280Z"
   },
   {
    "duration": 1324,
    "start_time": "2023-06-27T20:31:41.321Z"
   },
   {
    "duration": 14,
    "start_time": "2023-06-27T20:31:42.648Z"
   },
   {
    "duration": 45,
    "start_time": "2023-06-27T20:31:42.667Z"
   },
   {
    "duration": 2552,
    "start_time": "2023-06-27T20:31:42.715Z"
   },
   {
    "duration": 9,
    "start_time": "2023-06-27T20:31:45.275Z"
   },
   {
    "duration": 18,
    "start_time": "2023-06-27T20:31:45.286Z"
   },
   {
    "duration": 2912,
    "start_time": "2023-06-27T20:31:45.306Z"
   },
   {
    "duration": 4,
    "start_time": "2023-06-27T20:31:48.220Z"
   },
   {
    "duration": 3805,
    "start_time": "2023-06-27T20:31:48.226Z"
   },
   {
    "duration": 120,
    "start_time": "2023-06-27T20:31:52.034Z"
   },
   {
    "duration": 0,
    "start_time": "2023-06-27T20:31:52.157Z"
   },
   {
    "duration": 0,
    "start_time": "2023-06-27T20:31:52.158Z"
   },
   {
    "duration": 0,
    "start_time": "2023-06-27T20:31:52.159Z"
   },
   {
    "duration": 0,
    "start_time": "2023-06-27T20:31:52.161Z"
   },
   {
    "duration": 1722,
    "start_time": "2023-06-27T20:34:13.388Z"
   },
   {
    "duration": 1064,
    "start_time": "2023-06-27T20:34:15.112Z"
   },
   {
    "duration": 7,
    "start_time": "2023-06-27T20:34:16.178Z"
   },
   {
    "duration": 31,
    "start_time": "2023-06-27T20:34:16.188Z"
   },
   {
    "duration": 2435,
    "start_time": "2023-06-27T20:34:16.222Z"
   },
   {
    "duration": 10,
    "start_time": "2023-06-27T20:34:18.659Z"
   },
   {
    "duration": 13,
    "start_time": "2023-06-27T20:34:18.671Z"
   },
   {
    "duration": 2492,
    "start_time": "2023-06-27T20:34:18.687Z"
   },
   {
    "duration": 4,
    "start_time": "2023-06-27T20:34:21.181Z"
   },
   {
    "duration": 3179,
    "start_time": "2023-06-27T20:34:21.187Z"
   },
   {
    "duration": 4,
    "start_time": "2023-06-27T20:34:24.368Z"
   },
   {
    "duration": 52592,
    "start_time": "2023-06-27T20:34:24.374Z"
   },
   {
    "duration": 1168,
    "start_time": "2023-06-27T20:35:16.968Z"
   },
   {
    "duration": 22,
    "start_time": "2023-06-27T20:35:18.139Z"
   },
   {
    "duration": 13,
    "start_time": "2023-06-27T20:35:53.385Z"
   },
   {
    "duration": 30,
    "start_time": "2023-06-27T20:36:03.273Z"
   },
   {
    "duration": 1882,
    "start_time": "2023-06-27T20:37:36.418Z"
   },
   {
    "duration": 1155,
    "start_time": "2023-06-27T20:37:38.303Z"
   },
   {
    "duration": 9,
    "start_time": "2023-06-27T20:37:39.461Z"
   },
   {
    "duration": 50,
    "start_time": "2023-06-27T20:37:39.473Z"
   },
   {
    "duration": 2471,
    "start_time": "2023-06-27T20:37:39.525Z"
   },
   {
    "duration": 14,
    "start_time": "2023-06-27T20:37:41.998Z"
   },
   {
    "duration": 42,
    "start_time": "2023-06-27T20:37:42.014Z"
   },
   {
    "duration": 2522,
    "start_time": "2023-06-27T20:37:42.058Z"
   },
   {
    "duration": 4,
    "start_time": "2023-06-27T20:37:44.582Z"
   },
   {
    "duration": 3458,
    "start_time": "2023-06-27T20:37:44.587Z"
   },
   {
    "duration": 13,
    "start_time": "2023-06-27T20:45:33.662Z"
   },
   {
    "duration": 1659,
    "start_time": "2023-06-27T20:45:55.936Z"
   },
   {
    "duration": 1080,
    "start_time": "2023-06-27T20:45:57.598Z"
   },
   {
    "duration": 5,
    "start_time": "2023-06-27T20:45:58.680Z"
   },
   {
    "duration": 31,
    "start_time": "2023-06-27T20:45:58.687Z"
   },
   {
    "duration": 2366,
    "start_time": "2023-06-27T20:45:58.721Z"
   },
   {
    "duration": 60,
    "start_time": "2023-06-27T20:46:01.089Z"
   },
   {
    "duration": 66,
    "start_time": "2023-06-27T20:46:01.151Z"
   },
   {
    "duration": 2414,
    "start_time": "2023-06-27T20:46:01.220Z"
   },
   {
    "duration": 4,
    "start_time": "2023-06-27T20:46:03.636Z"
   },
   {
    "duration": 3051,
    "start_time": "2023-06-27T20:46:03.653Z"
   },
   {
    "duration": 177,
    "start_time": "2023-06-27T20:49:00.955Z"
   },
   {
    "duration": 1660,
    "start_time": "2023-06-27T20:49:09.732Z"
   },
   {
    "duration": 1050,
    "start_time": "2023-06-27T20:49:11.394Z"
   },
   {
    "duration": 11,
    "start_time": "2023-06-27T20:49:12.445Z"
   },
   {
    "duration": 30,
    "start_time": "2023-06-27T20:49:12.458Z"
   },
   {
    "duration": 2368,
    "start_time": "2023-06-27T20:49:12.491Z"
   },
   {
    "duration": 5,
    "start_time": "2023-06-27T20:49:14.861Z"
   },
   {
    "duration": 11,
    "start_time": "2023-06-27T20:49:14.868Z"
   },
   {
    "duration": 2298,
    "start_time": "2023-06-27T20:49:14.881Z"
   },
   {
    "duration": 3,
    "start_time": "2023-06-27T20:49:17.181Z"
   },
   {
    "duration": 2995,
    "start_time": "2023-06-27T20:49:17.186Z"
   },
   {
    "duration": 139,
    "start_time": "2023-06-27T20:49:20.183Z"
   },
   {
    "duration": 1617,
    "start_time": "2023-06-27T20:50:15.260Z"
   },
   {
    "duration": 1070,
    "start_time": "2023-06-27T20:50:16.880Z"
   },
   {
    "duration": 6,
    "start_time": "2023-06-27T20:50:17.952Z"
   },
   {
    "duration": 39,
    "start_time": "2023-06-27T20:50:17.960Z"
   },
   {
    "duration": 2302,
    "start_time": "2023-06-27T20:50:18.003Z"
   },
   {
    "duration": 25,
    "start_time": "2023-06-27T20:50:20.308Z"
   },
   {
    "duration": 44,
    "start_time": "2023-06-27T20:50:20.335Z"
   },
   {
    "duration": 2232,
    "start_time": "2023-06-27T20:50:20.381Z"
   },
   {
    "duration": 4,
    "start_time": "2023-06-27T20:50:22.614Z"
   },
   {
    "duration": 2948,
    "start_time": "2023-06-27T20:50:22.619Z"
   },
   {
    "duration": 134,
    "start_time": "2023-06-27T20:50:25.568Z"
   },
   {
    "duration": 6,
    "start_time": "2023-06-27T20:51:04.840Z"
   },
   {
    "duration": 3,
    "start_time": "2023-06-27T20:51:08.913Z"
   },
   {
    "duration": 7578,
    "start_time": "2023-06-27T20:52:31.542Z"
   },
   {
    "duration": 589,
    "start_time": "2023-06-27T20:52:41.153Z"
   },
   {
    "duration": 1214,
    "start_time": "2023-06-27T20:53:06.110Z"
   },
   {
    "duration": 7,
    "start_time": "2023-06-27T20:54:15.520Z"
   },
   {
    "duration": 1730,
    "start_time": "2023-06-27T20:57:27.513Z"
   },
   {
    "duration": 1071,
    "start_time": "2023-06-27T20:57:29.246Z"
   },
   {
    "duration": 6,
    "start_time": "2023-06-27T20:57:30.319Z"
   },
   {
    "duration": 67,
    "start_time": "2023-06-27T20:57:30.327Z"
   },
   {
    "duration": 2409,
    "start_time": "2023-06-27T20:57:30.398Z"
   },
   {
    "duration": 6,
    "start_time": "2023-06-27T20:57:32.810Z"
   },
   {
    "duration": 8,
    "start_time": "2023-06-27T20:57:32.818Z"
   },
   {
    "duration": 2342,
    "start_time": "2023-06-27T20:57:32.829Z"
   },
   {
    "duration": 4,
    "start_time": "2023-06-27T20:57:35.174Z"
   },
   {
    "duration": 3177,
    "start_time": "2023-06-27T20:57:35.180Z"
   },
   {
    "duration": 51,
    "start_time": "2023-06-27T20:57:38.359Z"
   },
   {
    "duration": 12,
    "start_time": "2023-06-27T20:57:38.413Z"
   },
   {
    "duration": 27,
    "start_time": "2023-06-27T20:57:38.428Z"
   },
   {
    "duration": 7601,
    "start_time": "2023-06-27T20:57:38.458Z"
   },
   {
    "duration": 1282,
    "start_time": "2023-06-27T20:57:46.062Z"
   },
   {
    "duration": 1747,
    "start_time": "2023-06-27T20:57:57.020Z"
   },
   {
    "duration": 1019,
    "start_time": "2023-06-27T20:57:58.770Z"
   },
   {
    "duration": 7,
    "start_time": "2023-06-27T20:57:59.791Z"
   },
   {
    "duration": 37,
    "start_time": "2023-06-27T20:57:59.800Z"
   },
   {
    "duration": 2429,
    "start_time": "2023-06-27T20:57:59.857Z"
   },
   {
    "duration": 12,
    "start_time": "2023-06-27T20:58:02.289Z"
   },
   {
    "duration": 9,
    "start_time": "2023-06-27T20:58:02.304Z"
   },
   {
    "duration": 2281,
    "start_time": "2023-06-27T20:58:02.315Z"
   },
   {
    "duration": 4,
    "start_time": "2023-06-27T20:58:04.598Z"
   },
   {
    "duration": 3144,
    "start_time": "2023-06-27T20:58:04.604Z"
   },
   {
    "duration": 46,
    "start_time": "2023-06-27T20:58:07.754Z"
   },
   {
    "duration": 11,
    "start_time": "2023-06-27T20:58:07.802Z"
   },
   {
    "duration": 13,
    "start_time": "2023-06-27T20:58:07.815Z"
   },
   {
    "duration": 7755,
    "start_time": "2023-06-27T20:58:07.832Z"
   },
   {
    "duration": 1219,
    "start_time": "2023-06-27T20:58:15.590Z"
   },
   {
    "duration": 1679,
    "start_time": "2023-06-27T20:58:20.268Z"
   },
   {
    "duration": 1068,
    "start_time": "2023-06-27T20:58:21.950Z"
   },
   {
    "duration": 5,
    "start_time": "2023-06-27T20:58:23.020Z"
   },
   {
    "duration": 45,
    "start_time": "2023-06-27T20:58:23.027Z"
   },
   {
    "duration": 2305,
    "start_time": "2023-06-27T20:58:23.076Z"
   },
   {
    "duration": 6,
    "start_time": "2023-06-27T20:58:25.383Z"
   },
   {
    "duration": 6,
    "start_time": "2023-06-27T20:58:25.391Z"
   },
   {
    "duration": 2392,
    "start_time": "2023-06-27T20:58:25.399Z"
   },
   {
    "duration": 4,
    "start_time": "2023-06-27T20:58:27.793Z"
   },
   {
    "duration": 3021,
    "start_time": "2023-06-27T20:58:27.798Z"
   },
   {
    "duration": 84,
    "start_time": "2023-06-27T20:58:30.822Z"
   },
   {
    "duration": 14,
    "start_time": "2023-06-27T20:58:30.908Z"
   },
   {
    "duration": 30,
    "start_time": "2023-06-27T20:58:30.924Z"
   },
   {
    "duration": 7803,
    "start_time": "2023-06-27T20:58:30.958Z"
   },
   {
    "duration": 1192,
    "start_time": "2023-06-27T20:58:38.763Z"
   },
   {
    "duration": 1716,
    "start_time": "2023-06-27T21:00:14.951Z"
   },
   {
    "duration": 1050,
    "start_time": "2023-06-27T21:00:16.670Z"
   },
   {
    "duration": 7,
    "start_time": "2023-06-27T21:00:17.722Z"
   },
   {
    "duration": 48,
    "start_time": "2023-06-27T21:00:17.731Z"
   },
   {
    "duration": 2351,
    "start_time": "2023-06-27T21:00:17.781Z"
   },
   {
    "duration": 13,
    "start_time": "2023-06-27T21:00:20.134Z"
   },
   {
    "duration": 13,
    "start_time": "2023-06-27T21:00:20.149Z"
   },
   {
    "duration": 2197,
    "start_time": "2023-06-27T21:00:20.164Z"
   },
   {
    "duration": 3,
    "start_time": "2023-06-27T21:00:22.363Z"
   },
   {
    "duration": 2969,
    "start_time": "2023-06-27T21:00:22.367Z"
   },
   {
    "duration": 65,
    "start_time": "2023-06-27T21:00:25.338Z"
   },
   {
    "duration": 13,
    "start_time": "2023-06-27T21:00:25.405Z"
   },
   {
    "duration": 6,
    "start_time": "2023-06-27T21:00:25.420Z"
   },
   {
    "duration": 28,
    "start_time": "2023-06-27T21:00:25.428Z"
   },
   {
    "duration": 7,
    "start_time": "2023-06-27T21:00:25.458Z"
   },
   {
    "duration": 5,
    "start_time": "2023-06-27T21:00:35.523Z"
   },
   {
    "duration": 1628,
    "start_time": "2023-06-27T21:01:11.110Z"
   },
   {
    "duration": 999,
    "start_time": "2023-06-27T21:01:12.741Z"
   },
   {
    "duration": 13,
    "start_time": "2023-06-27T21:01:13.742Z"
   },
   {
    "duration": 33,
    "start_time": "2023-06-27T21:01:13.757Z"
   },
   {
    "duration": 2366,
    "start_time": "2023-06-27T21:01:13.793Z"
   },
   {
    "duration": 6,
    "start_time": "2023-06-27T21:01:16.161Z"
   },
   {
    "duration": 10,
    "start_time": "2023-06-27T21:01:16.168Z"
   },
   {
    "duration": 2317,
    "start_time": "2023-06-27T21:01:16.180Z"
   },
   {
    "duration": 3,
    "start_time": "2023-06-27T21:01:18.499Z"
   },
   {
    "duration": 2867,
    "start_time": "2023-06-27T21:01:18.504Z"
   },
   {
    "duration": 56,
    "start_time": "2023-06-27T21:01:21.373Z"
   },
   {
    "duration": 23,
    "start_time": "2023-06-27T21:01:21.431Z"
   },
   {
    "duration": 4,
    "start_time": "2023-06-27T21:01:21.457Z"
   },
   {
    "duration": 5519,
    "start_time": "2023-06-27T21:01:21.464Z"
   },
   {
    "duration": 6,
    "start_time": "2023-06-27T21:01:26.986Z"
   },
   {
    "duration": 126,
    "start_time": "2023-06-27T21:01:33.359Z"
   },
   {
    "duration": 5,
    "start_time": "2023-06-27T21:01:36.272Z"
   },
   {
    "duration": 5,
    "start_time": "2023-06-27T21:01:50.468Z"
   },
   {
    "duration": 6,
    "start_time": "2023-06-27T21:03:54.666Z"
   },
   {
    "duration": 55707,
    "start_time": "2023-06-27T21:04:44.050Z"
   },
   {
    "duration": 1635,
    "start_time": "2023-06-27T21:15:11.142Z"
   },
   {
    "duration": 1054,
    "start_time": "2023-06-27T21:15:12.780Z"
   },
   {
    "duration": 5,
    "start_time": "2023-06-27T21:15:13.837Z"
   },
   {
    "duration": 38,
    "start_time": "2023-06-27T21:15:13.855Z"
   },
   {
    "duration": 2416,
    "start_time": "2023-06-27T21:15:13.896Z"
   },
   {
    "duration": 10,
    "start_time": "2023-06-27T21:15:16.314Z"
   },
   {
    "duration": 12,
    "start_time": "2023-06-27T21:15:16.326Z"
   },
   {
    "duration": 2340,
    "start_time": "2023-06-27T21:15:16.340Z"
   },
   {
    "duration": 3,
    "start_time": "2023-06-27T21:15:18.682Z"
   },
   {
    "duration": 2931,
    "start_time": "2023-06-27T21:15:18.687Z"
   },
   {
    "duration": 63,
    "start_time": "2023-06-27T21:15:21.620Z"
   },
   {
    "duration": 4,
    "start_time": "2023-06-27T21:15:21.685Z"
   },
   {
    "duration": 7536,
    "start_time": "2023-06-27T21:15:21.691Z"
   },
   {
    "duration": 147,
    "start_time": "2023-06-27T21:15:29.230Z"
   },
   {
    "duration": 0,
    "start_time": "2023-06-27T21:15:29.380Z"
   },
   {
    "duration": 0,
    "start_time": "2023-06-27T21:15:29.381Z"
   },
   {
    "duration": 1606,
    "start_time": "2023-06-27T21:16:00.507Z"
   },
   {
    "duration": 1063,
    "start_time": "2023-06-27T21:16:02.116Z"
   },
   {
    "duration": 6,
    "start_time": "2023-06-27T21:16:03.180Z"
   },
   {
    "duration": 60,
    "start_time": "2023-06-27T21:16:03.187Z"
   },
   {
    "duration": 2344,
    "start_time": "2023-06-27T21:16:03.249Z"
   },
   {
    "duration": 27,
    "start_time": "2023-06-27T21:16:05.595Z"
   },
   {
    "duration": 24,
    "start_time": "2023-06-27T21:16:05.624Z"
   },
   {
    "duration": 2318,
    "start_time": "2023-06-27T21:16:05.649Z"
   },
   {
    "duration": 3,
    "start_time": "2023-06-27T21:16:07.969Z"
   },
   {
    "duration": 2943,
    "start_time": "2023-06-27T21:16:07.974Z"
   },
   {
    "duration": 65,
    "start_time": "2023-06-27T21:16:10.919Z"
   },
   {
    "duration": 4,
    "start_time": "2023-06-27T21:16:10.986Z"
   },
   {
    "duration": 7612,
    "start_time": "2023-06-27T21:16:10.992Z"
   },
   {
    "duration": 141,
    "start_time": "2023-06-27T21:16:18.606Z"
   },
   {
    "duration": 0,
    "start_time": "2023-06-27T21:16:18.748Z"
   },
   {
    "duration": 0,
    "start_time": "2023-06-27T21:16:18.754Z"
   },
   {
    "duration": 1666,
    "start_time": "2023-06-27T21:17:00.801Z"
   },
   {
    "duration": 1016,
    "start_time": "2023-06-27T21:17:02.469Z"
   },
   {
    "duration": 6,
    "start_time": "2023-06-27T21:17:03.487Z"
   },
   {
    "duration": 40,
    "start_time": "2023-06-27T21:17:03.494Z"
   },
   {
    "duration": 2353,
    "start_time": "2023-06-27T21:17:03.537Z"
   },
   {
    "duration": 18,
    "start_time": "2023-06-27T21:17:05.892Z"
   },
   {
    "duration": 6,
    "start_time": "2023-06-27T21:17:05.912Z"
   },
   {
    "duration": 2428,
    "start_time": "2023-06-27T21:17:05.921Z"
   },
   {
    "duration": 4,
    "start_time": "2023-06-27T21:17:08.355Z"
   },
   {
    "duration": 3077,
    "start_time": "2023-06-27T21:17:08.361Z"
   },
   {
    "duration": 66,
    "start_time": "2023-06-27T21:17:11.440Z"
   },
   {
    "duration": 5,
    "start_time": "2023-06-27T21:17:11.508Z"
   },
   {
    "duration": 8203,
    "start_time": "2023-06-27T21:17:11.515Z"
   },
   {
    "duration": 138,
    "start_time": "2023-06-27T21:17:19.720Z"
   },
   {
    "duration": 1,
    "start_time": "2023-06-27T21:17:19.859Z"
   },
   {
    "duration": 0,
    "start_time": "2023-06-27T21:17:19.861Z"
   },
   {
    "duration": 10,
    "start_time": "2023-06-27T21:19:51.211Z"
   },
   {
    "duration": 51952,
    "start_time": "2023-06-27T21:20:00.203Z"
   },
   {
    "duration": 12,
    "start_time": "2023-06-27T21:21:50.507Z"
   },
   {
    "duration": 9,
    "start_time": "2023-06-27T21:21:56.619Z"
   },
   {
    "duration": 10,
    "start_time": "2023-06-27T21:22:21.451Z"
   },
   {
    "duration": 16,
    "start_time": "2023-06-27T21:23:07.611Z"
   },
   {
    "duration": 1845,
    "start_time": "2023-06-27T21:24:48.871Z"
   },
   {
    "duration": 1127,
    "start_time": "2023-06-27T21:24:50.719Z"
   },
   {
    "duration": 5,
    "start_time": "2023-06-27T21:24:51.848Z"
   },
   {
    "duration": 40,
    "start_time": "2023-06-27T21:24:51.858Z"
   },
   {
    "duration": 2555,
    "start_time": "2023-06-27T21:24:51.902Z"
   },
   {
    "duration": 8,
    "start_time": "2023-06-27T21:24:54.462Z"
   },
   {
    "duration": 5,
    "start_time": "2023-06-27T21:24:54.475Z"
   },
   {
    "duration": 2545,
    "start_time": "2023-06-27T21:24:54.482Z"
   },
   {
    "duration": 3,
    "start_time": "2023-06-27T21:24:57.029Z"
   },
   {
    "duration": 3345,
    "start_time": "2023-06-27T21:24:57.033Z"
   },
   {
    "duration": 90,
    "start_time": "2023-06-27T21:25:00.380Z"
   },
   {
    "duration": 8,
    "start_time": "2023-06-27T21:25:00.472Z"
   },
   {
    "duration": 8704,
    "start_time": "2023-06-27T21:25:00.483Z"
   },
   {
    "duration": 167,
    "start_time": "2023-06-27T21:25:09.190Z"
   },
   {
    "duration": 0,
    "start_time": "2023-06-27T21:25:09.359Z"
   },
   {
    "duration": 0,
    "start_time": "2023-06-27T21:25:09.360Z"
   },
   {
    "duration": 0,
    "start_time": "2023-06-27T21:25:09.362Z"
   },
   {
    "duration": 14757,
    "start_time": "2023-06-27T21:25:13.230Z"
   },
   {
    "duration": 9,
    "start_time": "2023-06-27T21:25:36.272Z"
   },
   {
    "duration": 16,
    "start_time": "2023-06-27T21:25:37.872Z"
   },
   {
    "duration": 1743,
    "start_time": "2023-06-27T21:29:50.308Z"
   },
   {
    "duration": 1152,
    "start_time": "2023-06-27T21:29:52.053Z"
   },
   {
    "duration": 5,
    "start_time": "2023-06-27T21:29:53.207Z"
   },
   {
    "duration": 50,
    "start_time": "2023-06-27T21:29:53.213Z"
   },
   {
    "duration": 2520,
    "start_time": "2023-06-27T21:29:53.266Z"
   },
   {
    "duration": 14,
    "start_time": "2023-06-27T21:29:55.788Z"
   },
   {
    "duration": 7,
    "start_time": "2023-06-27T21:29:55.804Z"
   },
   {
    "duration": 2512,
    "start_time": "2023-06-27T21:29:55.813Z"
   },
   {
    "duration": 3,
    "start_time": "2023-06-27T21:29:58.326Z"
   },
   {
    "duration": 3275,
    "start_time": "2023-06-27T21:29:58.331Z"
   },
   {
    "duration": 75,
    "start_time": "2023-06-27T21:30:01.608Z"
   },
   {
    "duration": 4,
    "start_time": "2023-06-27T21:30:01.685Z"
   },
   {
    "duration": 8210,
    "start_time": "2023-06-27T21:30:01.691Z"
   },
   {
    "duration": 139,
    "start_time": "2023-06-27T21:30:09.903Z"
   },
   {
    "duration": 0,
    "start_time": "2023-06-27T21:30:10.044Z"
   },
   {
    "duration": 13675,
    "start_time": "2023-06-27T21:30:43.326Z"
   },
   {
    "duration": 34,
    "start_time": "2023-06-27T21:37:22.253Z"
   },
   {
    "duration": 16,
    "start_time": "2023-06-27T21:39:57.769Z"
   },
   {
    "duration": 4,
    "start_time": "2023-06-27T21:40:04.173Z"
   },
   {
    "duration": 249762,
    "start_time": "2023-06-27T21:40:05.748Z"
   },
   {
    "duration": 18,
    "start_time": "2023-06-27T21:45:56.819Z"
   },
   {
    "duration": 8,
    "start_time": "2023-06-27T21:46:02.646Z"
   },
   {
    "duration": 5,
    "start_time": "2023-06-27T21:46:08.966Z"
   },
   {
    "duration": 250673,
    "start_time": "2023-06-27T21:46:20.139Z"
   },
   {
    "duration": 66,
    "start_time": "2023-06-27T21:54:35.107Z"
   },
   {
    "duration": 66,
    "start_time": "2023-06-27T21:58:23.613Z"
   },
   {
    "duration": 6462,
    "start_time": "2023-06-27T21:58:41.723Z"
   },
   {
    "duration": 4486,
    "start_time": "2023-06-27T21:58:52.547Z"
   },
   {
    "duration": 5,
    "start_time": "2023-06-27T21:58:57.035Z"
   },
   {
    "duration": 48,
    "start_time": "2023-06-27T21:58:57.126Z"
   },
   {
    "duration": 2539,
    "start_time": "2023-06-27T21:58:59.402Z"
   },
   {
    "duration": 5,
    "start_time": "2023-06-27T21:59:01.964Z"
   },
   {
    "duration": 5,
    "start_time": "2023-06-27T21:59:02.505Z"
   },
   {
    "duration": 2470,
    "start_time": "2023-06-27T21:59:03.000Z"
   },
   {
    "duration": 1862,
    "start_time": "2023-06-27T21:59:15.738Z"
   },
   {
    "duration": 1100,
    "start_time": "2023-06-27T21:59:17.602Z"
   },
   {
    "duration": 5,
    "start_time": "2023-06-27T21:59:18.703Z"
   },
   {
    "duration": 49,
    "start_time": "2023-06-27T21:59:18.710Z"
   },
   {
    "duration": 2567,
    "start_time": "2023-06-27T21:59:18.763Z"
   },
   {
    "duration": 5,
    "start_time": "2023-06-27T21:59:21.332Z"
   },
   {
    "duration": 27,
    "start_time": "2023-06-27T21:59:21.338Z"
   },
   {
    "duration": 2444,
    "start_time": "2023-06-27T21:59:21.367Z"
   },
   {
    "duration": 3,
    "start_time": "2023-06-27T21:59:23.813Z"
   },
   {
    "duration": 3351,
    "start_time": "2023-06-27T21:59:23.818Z"
   },
   {
    "duration": 60,
    "start_time": "2023-06-27T21:59:27.172Z"
   },
   {
    "duration": 4,
    "start_time": "2023-06-27T21:59:27.234Z"
   },
   {
    "duration": 8159,
    "start_time": "2023-06-27T21:59:27.261Z"
   },
   {
    "duration": 155,
    "start_time": "2023-06-27T21:59:35.423Z"
   },
   {
    "duration": 0,
    "start_time": "2023-06-27T21:59:35.582Z"
   },
   {
    "duration": 0,
    "start_time": "2023-06-27T21:59:35.583Z"
   },
   {
    "duration": 0,
    "start_time": "2023-06-27T21:59:35.584Z"
   },
   {
    "duration": 1,
    "start_time": "2023-06-27T21:59:35.585Z"
   },
   {
    "duration": 0,
    "start_time": "2023-06-27T21:59:35.587Z"
   },
   {
    "duration": 5899,
    "start_time": "2023-06-27T22:00:11.444Z"
   },
   {
    "duration": 4507,
    "start_time": "2023-06-27T22:00:17.345Z"
   },
   {
    "duration": 17,
    "start_time": "2023-06-27T22:00:21.854Z"
   },
   {
    "duration": 32,
    "start_time": "2023-06-27T22:00:21.873Z"
   },
   {
    "duration": 2585,
    "start_time": "2023-06-27T22:00:21.907Z"
   },
   {
    "duration": 5,
    "start_time": "2023-06-27T22:00:24.494Z"
   },
   {
    "duration": 5,
    "start_time": "2023-06-27T22:00:24.501Z"
   },
   {
    "duration": 2541,
    "start_time": "2023-06-27T22:00:24.508Z"
   },
   {
    "duration": 7,
    "start_time": "2023-06-27T22:00:27.057Z"
   },
   {
    "duration": 3418,
    "start_time": "2023-06-27T22:00:27.065Z"
   },
   {
    "duration": 58,
    "start_time": "2023-06-27T22:00:30.485Z"
   },
   {
    "duration": 17,
    "start_time": "2023-06-27T22:00:30.545Z"
   },
   {
    "duration": 8045,
    "start_time": "2023-06-27T22:00:30.564Z"
   },
   {
    "duration": 156,
    "start_time": "2023-06-27T22:00:38.611Z"
   },
   {
    "duration": 0,
    "start_time": "2023-06-27T22:00:38.770Z"
   },
   {
    "duration": 0,
    "start_time": "2023-06-27T22:00:38.771Z"
   },
   {
    "duration": 0,
    "start_time": "2023-06-27T22:00:38.772Z"
   },
   {
    "duration": 0,
    "start_time": "2023-06-27T22:00:38.773Z"
   },
   {
    "duration": 0,
    "start_time": "2023-06-27T22:00:38.774Z"
   },
   {
    "duration": 5989,
    "start_time": "2023-06-27T22:01:40.130Z"
   },
   {
    "duration": 3808,
    "start_time": "2023-06-27T22:01:46.121Z"
   },
   {
    "duration": 5,
    "start_time": "2023-06-27T22:01:49.931Z"
   },
   {
    "duration": 37,
    "start_time": "2023-06-27T22:01:49.937Z"
   },
   {
    "duration": 2383,
    "start_time": "2023-06-27T22:01:49.977Z"
   },
   {
    "duration": 25,
    "start_time": "2023-06-27T22:01:52.362Z"
   },
   {
    "duration": 16,
    "start_time": "2023-06-27T22:01:52.389Z"
   },
   {
    "duration": 2300,
    "start_time": "2023-06-27T22:01:52.407Z"
   },
   {
    "duration": 4,
    "start_time": "2023-06-27T22:01:54.709Z"
   },
   {
    "duration": 3209,
    "start_time": "2023-06-27T22:01:54.714Z"
   },
   {
    "duration": 70,
    "start_time": "2023-06-27T22:01:57.925Z"
   },
   {
    "duration": 4,
    "start_time": "2023-06-27T22:01:57.998Z"
   },
   {
    "duration": 7700,
    "start_time": "2023-06-27T22:01:58.004Z"
   },
   {
    "duration": 141,
    "start_time": "2023-06-27T22:02:05.707Z"
   },
   {
    "duration": 0,
    "start_time": "2023-06-27T22:02:05.850Z"
   },
   {
    "duration": 0,
    "start_time": "2023-06-27T22:02:05.854Z"
   },
   {
    "duration": 0,
    "start_time": "2023-06-27T22:02:05.855Z"
   },
   {
    "duration": 1,
    "start_time": "2023-06-27T22:02:05.855Z"
   },
   {
    "duration": 0,
    "start_time": "2023-06-27T22:02:05.856Z"
   },
   {
    "duration": 5564,
    "start_time": "2023-06-27T22:03:06.751Z"
   },
   {
    "duration": 4308,
    "start_time": "2023-06-27T22:03:12.318Z"
   },
   {
    "duration": 5,
    "start_time": "2023-06-27T22:03:16.627Z"
   },
   {
    "duration": 40,
    "start_time": "2023-06-27T22:03:16.634Z"
   },
   {
    "duration": 2534,
    "start_time": "2023-06-27T22:03:16.678Z"
   },
   {
    "duration": 2,
    "start_time": "2023-06-27T22:03:19.214Z"
   },
   {
    "duration": 6,
    "start_time": "2023-06-27T22:03:19.218Z"
   },
   {
    "duration": 2472,
    "start_time": "2023-06-27T22:03:19.225Z"
   },
   {
    "duration": 3,
    "start_time": "2023-06-27T22:03:21.699Z"
   },
   {
    "duration": 3318,
    "start_time": "2023-06-27T22:03:21.704Z"
   },
   {
    "duration": 84,
    "start_time": "2023-06-27T22:03:25.023Z"
   },
   {
    "duration": 4,
    "start_time": "2023-06-27T22:03:25.109Z"
   },
   {
    "duration": 8256,
    "start_time": "2023-06-27T22:03:25.115Z"
   },
   {
    "duration": 150,
    "start_time": "2023-06-27T22:03:33.374Z"
   },
   {
    "duration": 0,
    "start_time": "2023-06-27T22:03:33.525Z"
   },
   {
    "duration": 0,
    "start_time": "2023-06-27T22:03:33.526Z"
   },
   {
    "duration": 0,
    "start_time": "2023-06-27T22:03:33.527Z"
   },
   {
    "duration": 0,
    "start_time": "2023-06-27T22:03:33.528Z"
   },
   {
    "duration": 0,
    "start_time": "2023-06-27T22:03:33.529Z"
   },
   {
    "duration": 5309,
    "start_time": "2023-06-27T22:04:22.582Z"
   },
   {
    "duration": 4445,
    "start_time": "2023-06-27T22:04:27.893Z"
   },
   {
    "duration": 5,
    "start_time": "2023-06-27T22:04:32.340Z"
   },
   {
    "duration": 42,
    "start_time": "2023-06-27T22:04:32.347Z"
   },
   {
    "duration": 2587,
    "start_time": "2023-06-27T22:04:32.393Z"
   },
   {
    "duration": 9,
    "start_time": "2023-06-27T22:04:34.984Z"
   },
   {
    "duration": 23,
    "start_time": "2023-06-27T22:04:34.995Z"
   },
   {
    "duration": 2568,
    "start_time": "2023-06-27T22:04:35.019Z"
   },
   {
    "duration": 4,
    "start_time": "2023-06-27T22:04:37.588Z"
   },
   {
    "duration": 3311,
    "start_time": "2023-06-27T22:04:37.593Z"
   },
   {
    "duration": 76,
    "start_time": "2023-06-27T22:04:40.905Z"
   },
   {
    "duration": 4,
    "start_time": "2023-06-27T22:04:40.983Z"
   },
   {
    "duration": 8273,
    "start_time": "2023-06-27T22:04:40.988Z"
   },
   {
    "duration": 146,
    "start_time": "2023-06-27T22:04:49.265Z"
   },
   {
    "duration": 0,
    "start_time": "2023-06-27T22:04:49.413Z"
   },
   {
    "duration": 0,
    "start_time": "2023-06-27T22:04:49.415Z"
   },
   {
    "duration": 0,
    "start_time": "2023-06-27T22:04:49.416Z"
   },
   {
    "duration": 0,
    "start_time": "2023-06-27T22:04:49.417Z"
   },
   {
    "duration": 0,
    "start_time": "2023-06-27T22:04:49.418Z"
   },
   {
    "duration": 10,
    "start_time": "2023-06-27T22:05:06.593Z"
   },
   {
    "duration": 3549,
    "start_time": "2023-06-27T22:06:39.379Z"
   },
   {
    "duration": 4473,
    "start_time": "2023-06-27T22:06:42.930Z"
   },
   {
    "duration": 7,
    "start_time": "2023-06-27T22:06:47.406Z"
   },
   {
    "duration": 61,
    "start_time": "2023-06-27T22:06:47.415Z"
   },
   {
    "duration": 2596,
    "start_time": "2023-06-27T22:06:47.479Z"
   },
   {
    "duration": 19,
    "start_time": "2023-06-27T22:06:50.077Z"
   },
   {
    "duration": 7,
    "start_time": "2023-06-27T22:06:50.097Z"
   },
   {
    "duration": 2467,
    "start_time": "2023-06-27T22:06:50.106Z"
   },
   {
    "duration": 6,
    "start_time": "2023-06-27T22:06:52.576Z"
   },
   {
    "duration": 3306,
    "start_time": "2023-06-27T22:06:52.584Z"
   },
   {
    "duration": 78,
    "start_time": "2023-06-27T22:06:55.892Z"
   },
   {
    "duration": 8,
    "start_time": "2023-06-27T22:06:55.972Z"
   },
   {
    "duration": 8321,
    "start_time": "2023-06-27T22:06:55.983Z"
   },
   {
    "duration": 154,
    "start_time": "2023-06-27T22:07:04.307Z"
   },
   {
    "duration": 0,
    "start_time": "2023-06-27T22:07:04.466Z"
   },
   {
    "duration": 0,
    "start_time": "2023-06-27T22:07:04.468Z"
   },
   {
    "duration": 0,
    "start_time": "2023-06-27T22:07:04.469Z"
   },
   {
    "duration": 0,
    "start_time": "2023-06-27T22:07:04.470Z"
   },
   {
    "duration": 14189,
    "start_time": "2023-06-27T22:07:53.132Z"
   },
   {
    "duration": 3,
    "start_time": "2023-06-27T22:08:58.330Z"
   },
   {
    "duration": 258809,
    "start_time": "2023-06-27T22:09:02.240Z"
   },
   {
    "duration": 5,
    "start_time": "2023-06-27T22:15:04.397Z"
   },
   {
    "duration": 240194,
    "start_time": "2023-06-27T22:15:06.093Z"
   },
   {
    "duration": 10,
    "start_time": "2023-06-27T22:20:10.354Z"
   },
   {
    "duration": 243353,
    "start_time": "2023-06-27T22:20:10.718Z"
   },
   {
    "duration": 6,
    "start_time": "2023-06-27T22:25:00.737Z"
   },
   {
    "duration": 14,
    "start_time": "2023-06-27T22:25:05.108Z"
   },
   {
    "duration": 18,
    "start_time": "2023-06-27T22:25:16.298Z"
   },
   {
    "duration": 13,
    "start_time": "2023-06-27T22:25:35.432Z"
   },
   {
    "duration": 23,
    "start_time": "2023-06-27T22:25:53.137Z"
   },
   {
    "duration": 19,
    "start_time": "2023-06-27T22:26:05.497Z"
   },
   {
    "duration": 20,
    "start_time": "2023-06-27T22:26:19.611Z"
   },
   {
    "duration": 20,
    "start_time": "2023-06-27T22:26:33.849Z"
   },
   {
    "duration": 22,
    "start_time": "2023-06-27T22:26:48.837Z"
   },
   {
    "duration": 21,
    "start_time": "2023-06-27T22:27:01.502Z"
   },
   {
    "duration": 2000,
    "start_time": "2023-06-27T22:28:33.396Z"
   },
   {
    "duration": 1027,
    "start_time": "2023-06-27T22:28:35.398Z"
   },
   {
    "duration": 6,
    "start_time": "2023-06-27T22:28:36.427Z"
   },
   {
    "duration": 43,
    "start_time": "2023-06-27T22:28:36.434Z"
   },
   {
    "duration": 2471,
    "start_time": "2023-06-27T22:28:36.479Z"
   },
   {
    "duration": 15,
    "start_time": "2023-06-27T22:28:38.955Z"
   },
   {
    "duration": 6,
    "start_time": "2023-06-27T22:28:38.972Z"
   },
   {
    "duration": 2315,
    "start_time": "2023-06-27T22:28:38.980Z"
   },
   {
    "duration": 4,
    "start_time": "2023-06-27T22:28:41.297Z"
   },
   {
    "duration": 3044,
    "start_time": "2023-06-27T22:28:41.303Z"
   },
   {
    "duration": 64,
    "start_time": "2023-06-27T22:28:44.353Z"
   },
   {
    "duration": 4,
    "start_time": "2023-06-27T22:28:44.419Z"
   },
   {
    "duration": 7581,
    "start_time": "2023-06-27T22:28:44.425Z"
   },
   {
    "duration": 13689,
    "start_time": "2023-06-27T22:28:52.010Z"
   },
   {
    "duration": 4,
    "start_time": "2023-06-27T22:29:05.700Z"
   },
   {
    "duration": 238427,
    "start_time": "2023-06-27T22:29:05.705Z"
   },
   {
    "duration": 3,
    "start_time": "2023-06-27T22:33:04.133Z"
   },
   {
    "duration": 30,
    "start_time": "2023-06-27T22:33:04.138Z"
   },
   {
    "duration": 1847,
    "start_time": "2023-06-28T11:27:35.945Z"
   },
   {
    "duration": 3670,
    "start_time": "2023-06-28T11:27:37.794Z"
   },
   {
    "duration": 8,
    "start_time": "2023-06-28T11:27:41.469Z"
   },
   {
    "duration": 47,
    "start_time": "2023-06-28T11:27:41.479Z"
   },
   {
    "duration": 13,
    "start_time": "2023-06-28T11:27:41.529Z"
   },
   {
    "duration": 10,
    "start_time": "2023-06-28T11:27:41.543Z"
   },
   {
    "duration": 19,
    "start_time": "2023-06-28T11:27:41.554Z"
   },
   {
    "duration": 2110,
    "start_time": "2023-06-28T11:27:41.575Z"
   },
   {
    "duration": 3,
    "start_time": "2023-06-28T11:27:43.687Z"
   },
   {
    "duration": 2804,
    "start_time": "2023-06-28T11:27:43.692Z"
   },
   {
    "duration": 71,
    "start_time": "2023-06-28T11:27:46.498Z"
   },
   {
    "duration": 6,
    "start_time": "2023-06-28T11:27:46.573Z"
   },
   {
    "duration": 7521,
    "start_time": "2023-06-28T11:27:46.580Z"
   },
   {
    "duration": 13084,
    "start_time": "2023-06-28T11:27:54.104Z"
   },
   {
    "duration": 3,
    "start_time": "2023-06-28T11:28:07.190Z"
   },
   {
    "duration": 219110,
    "start_time": "2023-06-28T11:28:07.195Z"
   },
   {
    "duration": 3,
    "start_time": "2023-06-28T11:31:46.307Z"
   },
   {
    "duration": 28,
    "start_time": "2023-06-28T11:31:46.312Z"
   },
   {
    "duration": 1770,
    "start_time": "2023-06-28T12:21:22.950Z"
   },
   {
    "duration": 899,
    "start_time": "2023-06-28T12:21:24.723Z"
   },
   {
    "duration": 5,
    "start_time": "2023-06-28T12:21:25.624Z"
   },
   {
    "duration": 54,
    "start_time": "2023-06-28T12:21:25.631Z"
   },
   {
    "duration": 11,
    "start_time": "2023-06-28T12:21:25.687Z"
   },
   {
    "duration": 7,
    "start_time": "2023-06-28T12:21:25.700Z"
   },
   {
    "duration": 15,
    "start_time": "2023-06-28T12:21:25.709Z"
   },
   {
    "duration": 2310,
    "start_time": "2023-06-28T12:21:25.726Z"
   },
   {
    "duration": 5,
    "start_time": "2023-06-28T12:21:28.038Z"
   },
   {
    "duration": 15,
    "start_time": "2023-06-28T12:21:28.044Z"
   },
   {
    "duration": 681,
    "start_time": "2023-06-28T12:21:28.062Z"
   },
   {
    "duration": 0,
    "start_time": "2023-06-28T12:21:28.746Z"
   },
   {
    "duration": 0,
    "start_time": "2023-06-28T12:21:28.748Z"
   },
   {
    "duration": 0,
    "start_time": "2023-06-28T12:21:28.749Z"
   },
   {
    "duration": 0,
    "start_time": "2023-06-28T12:21:28.751Z"
   },
   {
    "duration": 0,
    "start_time": "2023-06-28T12:21:28.753Z"
   },
   {
    "duration": 0,
    "start_time": "2023-06-28T12:21:28.754Z"
   },
   {
    "duration": 0,
    "start_time": "2023-06-28T12:21:28.758Z"
   },
   {
    "duration": 0,
    "start_time": "2023-06-28T12:21:28.759Z"
   },
   {
    "duration": 2622,
    "start_time": "2023-06-28T12:22:34.151Z"
   },
   {
    "duration": 864,
    "start_time": "2023-06-28T12:22:36.775Z"
   },
   {
    "duration": 19,
    "start_time": "2023-06-28T12:22:37.642Z"
   },
   {
    "duration": 31,
    "start_time": "2023-06-28T12:22:37.664Z"
   },
   {
    "duration": 3,
    "start_time": "2023-06-28T12:22:37.697Z"
   },
   {
    "duration": 5,
    "start_time": "2023-06-28T12:22:37.702Z"
   },
   {
    "duration": 5,
    "start_time": "2023-06-28T12:22:37.710Z"
   },
   {
    "duration": 2310,
    "start_time": "2023-06-28T12:22:37.717Z"
   },
   {
    "duration": 5,
    "start_time": "2023-06-28T12:22:40.029Z"
   },
   {
    "duration": 32,
    "start_time": "2023-06-28T12:22:40.036Z"
   },
   {
    "duration": 27070,
    "start_time": "2023-06-28T12:22:40.070Z"
   },
   {
    "duration": 73,
    "start_time": "2023-06-28T12:23:07.142Z"
   },
   {
    "duration": 4,
    "start_time": "2023-06-28T12:23:07.218Z"
   },
   {
    "duration": 7515,
    "start_time": "2023-06-28T12:23:07.228Z"
   },
   {
    "duration": 12934,
    "start_time": "2023-06-28T12:23:14.745Z"
   },
   {
    "duration": 3,
    "start_time": "2023-06-28T12:23:27.681Z"
   },
   {
    "duration": 220290,
    "start_time": "2023-06-28T12:23:27.686Z"
   },
   {
    "duration": 3,
    "start_time": "2023-06-28T12:27:07.977Z"
   },
   {
    "duration": 28,
    "start_time": "2023-06-28T12:27:07.982Z"
   },
   {
    "duration": 70395,
    "start_time": "2023-06-28T12:28:55.182Z"
   },
   {
    "duration": 138,
    "start_time": "2023-06-28T12:34:32.546Z"
   },
   {
    "duration": 11,
    "start_time": "2023-06-28T12:34:47.116Z"
   },
   {
    "duration": 174428,
    "start_time": "2023-06-28T12:35:10.053Z"
   },
   {
    "duration": 739176,
    "start_time": "2023-06-28T12:39:58.907Z"
   },
   {
    "duration": 111,
    "start_time": "2023-06-28T12:52:18.088Z"
   },
   {
    "duration": 12,
    "start_time": "2023-06-28T12:54:14.541Z"
   },
   {
    "duration": 25,
    "start_time": "2023-06-28T12:54:52.688Z"
   },
   {
    "duration": 22,
    "start_time": "2023-06-28T12:55:02.554Z"
   },
   {
    "duration": 15,
    "start_time": "2023-06-28T12:55:34.338Z"
   },
   {
    "duration": 14,
    "start_time": "2023-06-28T12:59:15.610Z"
   },
   {
    "duration": 17,
    "start_time": "2023-06-28T12:59:37.565Z"
   },
   {
    "duration": 6,
    "start_time": "2023-06-28T12:59:43.921Z"
   },
   {
    "duration": 7,
    "start_time": "2023-06-28T12:59:50.426Z"
   },
   {
    "duration": 1848,
    "start_time": "2023-06-28T13:00:03.581Z"
   },
   {
    "duration": 973,
    "start_time": "2023-06-28T13:00:05.431Z"
   },
   {
    "duration": 6,
    "start_time": "2023-06-28T13:00:06.406Z"
   },
   {
    "duration": 60,
    "start_time": "2023-06-28T13:00:06.414Z"
   },
   {
    "duration": 13,
    "start_time": "2023-06-28T13:00:06.475Z"
   },
   {
    "duration": 25,
    "start_time": "2023-06-28T13:00:06.490Z"
   },
   {
    "duration": 18,
    "start_time": "2023-06-28T13:00:06.517Z"
   },
   {
    "duration": 2370,
    "start_time": "2023-06-28T13:00:06.537Z"
   },
   {
    "duration": 6,
    "start_time": "2023-06-28T13:00:08.911Z"
   },
   {
    "duration": 24,
    "start_time": "2023-06-28T13:00:08.920Z"
   },
   {
    "duration": 28352,
    "start_time": "2023-06-28T13:00:08.946Z"
   },
   {
    "duration": 105,
    "start_time": "2023-06-28T13:00:37.300Z"
   },
   {
    "duration": 5,
    "start_time": "2023-06-28T13:00:37.407Z"
   },
   {
    "duration": 8863,
    "start_time": "2023-06-28T13:00:37.414Z"
   },
   {
    "duration": 29658,
    "start_time": "2023-06-28T13:00:46.283Z"
   },
   {
    "duration": 0,
    "start_time": "2023-06-28T13:01:15.943Z"
   },
   {
    "duration": 0,
    "start_time": "2023-06-28T13:01:15.945Z"
   },
   {
    "duration": 0,
    "start_time": "2023-06-28T13:01:15.946Z"
   },
   {
    "duration": 0,
    "start_time": "2023-06-28T13:01:15.956Z"
   },
   {
    "duration": 60178,
    "start_time": "2023-06-28T13:01:42.110Z"
   },
   {
    "duration": 54499,
    "start_time": "2023-06-28T13:04:22.708Z"
   },
   {
    "duration": 1883,
    "start_time": "2023-06-28T13:11:43.267Z"
   },
   {
    "duration": 1073,
    "start_time": "2023-06-28T13:11:45.152Z"
   },
   {
    "duration": 13,
    "start_time": "2023-06-28T13:11:46.228Z"
   },
   {
    "duration": 55,
    "start_time": "2023-06-28T13:11:46.243Z"
   },
   {
    "duration": 19,
    "start_time": "2023-06-28T13:11:46.301Z"
   },
   {
    "duration": 7,
    "start_time": "2023-06-28T13:11:46.327Z"
   },
   {
    "duration": 12,
    "start_time": "2023-06-28T13:11:46.336Z"
   },
   {
    "duration": 2744,
    "start_time": "2023-06-28T13:11:46.350Z"
   },
   {
    "duration": 5,
    "start_time": "2023-06-28T13:11:49.096Z"
   },
   {
    "duration": 18,
    "start_time": "2023-06-28T13:11:49.103Z"
   },
   {
    "duration": 32714,
    "start_time": "2023-06-28T13:11:49.124Z"
   },
   {
    "duration": 86,
    "start_time": "2023-06-28T13:12:21.840Z"
   },
   {
    "duration": 4,
    "start_time": "2023-06-28T13:12:21.928Z"
   },
   {
    "duration": 9332,
    "start_time": "2023-06-28T13:12:21.935Z"
   },
   {
    "duration": 54893,
    "start_time": "2023-06-28T13:12:31.269Z"
   },
   {
    "duration": 18,
    "start_time": "2023-06-28T13:13:26.180Z"
   },
   {
    "duration": 63927,
    "start_time": "2023-06-28T13:13:26.206Z"
   },
   {
    "duration": 1922,
    "start_time": "2023-06-28T13:17:19.421Z"
   },
   {
    "duration": 1017,
    "start_time": "2023-06-28T13:17:21.345Z"
   },
   {
    "duration": 8,
    "start_time": "2023-06-28T13:17:22.364Z"
   },
   {
    "duration": 60,
    "start_time": "2023-06-28T13:17:22.374Z"
   },
   {
    "duration": 35,
    "start_time": "2023-06-28T13:17:22.437Z"
   },
   {
    "duration": 25,
    "start_time": "2023-06-28T13:17:22.473Z"
   },
   {
    "duration": 14,
    "start_time": "2023-06-28T13:17:22.502Z"
   },
   {
    "duration": 2590,
    "start_time": "2023-06-28T13:17:22.517Z"
   },
   {
    "duration": 4,
    "start_time": "2023-06-28T13:17:25.109Z"
   },
   {
    "duration": 9,
    "start_time": "2023-06-28T13:17:25.115Z"
   },
   {
    "duration": 30486,
    "start_time": "2023-06-28T13:17:25.126Z"
   },
   {
    "duration": 89,
    "start_time": "2023-06-28T13:17:55.614Z"
   },
   {
    "duration": 5,
    "start_time": "2023-06-28T13:17:55.708Z"
   },
   {
    "duration": 9304,
    "start_time": "2023-06-28T13:17:55.715Z"
   },
   {
    "duration": 53874,
    "start_time": "2023-06-28T13:18:05.020Z"
   },
   {
    "duration": 5,
    "start_time": "2023-06-28T13:18:58.897Z"
   },
   {
    "duration": 61675,
    "start_time": "2023-06-28T13:18:58.904Z"
   },
   {
    "duration": 400318,
    "start_time": "2023-06-28T13:20:00.581Z"
   },
   {
    "duration": 30,
    "start_time": "2023-06-28T13:26:40.900Z"
   },
   {
    "duration": 5,
    "start_time": "2023-06-28T13:26:40.934Z"
   },
   {
    "duration": 64254,
    "start_time": "2023-06-28T13:26:40.941Z"
   },
   {
    "duration": 2240,
    "start_time": "2023-06-28T13:32:30.897Z"
   },
   {
    "duration": 1108,
    "start_time": "2023-06-28T13:32:33.139Z"
   },
   {
    "duration": 14,
    "start_time": "2023-06-28T13:32:34.258Z"
   },
   {
    "duration": 46,
    "start_time": "2023-06-28T13:32:34.274Z"
   },
   {
    "duration": 3,
    "start_time": "2023-06-28T13:32:34.323Z"
   },
   {
    "duration": 13,
    "start_time": "2023-06-28T13:32:34.328Z"
   },
   {
    "duration": 36,
    "start_time": "2023-06-28T13:32:34.343Z"
   },
   {
    "duration": 2560,
    "start_time": "2023-06-28T13:32:34.381Z"
   },
   {
    "duration": 4,
    "start_time": "2023-06-28T13:32:36.943Z"
   },
   {
    "duration": 10,
    "start_time": "2023-06-28T13:32:36.959Z"
   },
   {
    "duration": 31306,
    "start_time": "2023-06-28T13:32:36.977Z"
   },
   {
    "duration": 74,
    "start_time": "2023-06-28T13:33:08.285Z"
   },
   {
    "duration": 6,
    "start_time": "2023-06-28T13:33:08.361Z"
   },
   {
    "duration": 8428,
    "start_time": "2023-06-28T13:33:08.371Z"
   },
   {
    "duration": 56120,
    "start_time": "2023-06-28T13:33:16.800Z"
   },
   {
    "duration": 4,
    "start_time": "2023-06-28T13:34:12.923Z"
   },
   {
    "duration": 63035,
    "start_time": "2023-06-28T13:34:12.929Z"
   },
   {
    "duration": 385068,
    "start_time": "2023-06-28T13:35:15.969Z"
   },
   {
    "duration": 53,
    "start_time": "2023-06-28T13:41:41.039Z"
   },
   {
    "duration": 4,
    "start_time": "2023-06-28T13:53:11.308Z"
   },
   {
    "duration": 62605,
    "start_time": "2023-06-28T13:53:12.413Z"
   },
   {
    "duration": 4,
    "start_time": "2023-06-28T13:54:45.301Z"
   },
   {
    "duration": 139,
    "start_time": "2023-06-28T13:54:46.004Z"
   },
   {
    "duration": 6,
    "start_time": "2023-06-28T13:55:33.077Z"
   },
   {
    "duration": 29,
    "start_time": "2023-06-28T13:55:33.978Z"
   },
   {
    "duration": 4,
    "start_time": "2023-06-28T13:57:35.399Z"
   },
   {
    "duration": 59985,
    "start_time": "2023-06-28T13:57:35.977Z"
   },
   {
    "duration": 382319,
    "start_time": "2023-06-28T13:59:28.779Z"
   },
   {
    "duration": 5,
    "start_time": "2023-06-28T14:05:51.101Z"
   },
   {
    "duration": 6,
    "start_time": "2023-06-28T14:06:07.779Z"
   },
   {
    "duration": 59167,
    "start_time": "2023-06-28T14:06:08.872Z"
   },
   {
    "duration": 14,
    "start_time": "2023-06-28T14:13:51.193Z"
   },
   {
    "duration": 13909,
    "start_time": "2023-06-28T14:14:36.198Z"
   },
   {
    "duration": 72587,
    "start_time": "2023-06-28T14:21:39.705Z"
   },
   {
    "duration": 235942,
    "start_time": "2023-06-28T14:24:43.648Z"
   },
   {
    "duration": 13,
    "start_time": "2023-06-28T14:29:11.417Z"
   },
   {
    "duration": 27994,
    "start_time": "2023-06-28T14:30:15.813Z"
   },
   {
    "duration": 1614,
    "start_time": "2023-06-28T14:34:15.701Z"
   },
   {
    "duration": 866,
    "start_time": "2023-06-28T14:34:17.317Z"
   },
   {
    "duration": 4,
    "start_time": "2023-06-28T14:34:18.185Z"
   },
   {
    "duration": 37,
    "start_time": "2023-06-28T14:34:18.191Z"
   },
   {
    "duration": 6,
    "start_time": "2023-06-28T14:34:18.230Z"
   },
   {
    "duration": 18,
    "start_time": "2023-06-28T14:34:18.238Z"
   },
   {
    "duration": 11,
    "start_time": "2023-06-28T14:34:18.258Z"
   },
   {
    "duration": 2041,
    "start_time": "2023-06-28T14:34:18.271Z"
   },
   {
    "duration": 4,
    "start_time": "2023-06-28T14:34:20.314Z"
   },
   {
    "duration": 18,
    "start_time": "2023-06-28T14:34:20.319Z"
   },
   {
    "duration": 23872,
    "start_time": "2023-06-28T14:34:20.339Z"
   },
   {
    "duration": 92,
    "start_time": "2023-06-28T14:34:44.214Z"
   },
   {
    "duration": 5,
    "start_time": "2023-06-28T14:34:44.308Z"
   },
   {
    "duration": 7116,
    "start_time": "2023-06-28T14:34:44.317Z"
   },
   {
    "duration": 240856,
    "start_time": "2023-06-28T14:34:51.435Z"
   },
   {
    "duration": 4,
    "start_time": "2023-06-28T14:38:52.294Z"
   },
   {
    "duration": 54273,
    "start_time": "2023-06-28T14:38:52.300Z"
   },
   {
    "duration": 344763,
    "start_time": "2023-06-28T14:39:46.575Z"
   },
   {
    "duration": 25751,
    "start_time": "2023-06-28T14:45:31.340Z"
   },
   {
    "duration": 22,
    "start_time": "2023-06-28T14:45:57.094Z"
   },
   {
    "duration": 1502,
    "start_time": "2023-06-28T17:57:51.691Z"
   },
   {
    "duration": 829,
    "start_time": "2023-06-28T17:57:53.194Z"
   },
   {
    "duration": 5,
    "start_time": "2023-06-28T17:57:54.025Z"
   },
   {
    "duration": 62,
    "start_time": "2023-06-28T17:57:54.031Z"
   },
   {
    "duration": 15,
    "start_time": "2023-06-28T17:57:54.094Z"
   },
   {
    "duration": 23,
    "start_time": "2023-06-28T17:57:54.112Z"
   },
   {
    "duration": 6,
    "start_time": "2023-06-28T17:57:54.137Z"
   },
   {
    "duration": 1815,
    "start_time": "2023-06-28T17:57:54.144Z"
   },
   {
    "duration": 4,
    "start_time": "2023-06-28T17:57:55.961Z"
   },
   {
    "duration": 8,
    "start_time": "2023-06-28T17:57:55.967Z"
   },
   {
    "duration": 22484,
    "start_time": "2023-06-28T17:57:55.976Z"
   },
   {
    "duration": 126,
    "start_time": "2023-06-28T17:58:18.462Z"
   },
   {
    "duration": 0,
    "start_time": "2023-06-28T17:58:18.589Z"
   },
   {
    "duration": 0,
    "start_time": "2023-06-28T17:58:18.591Z"
   },
   {
    "duration": 0,
    "start_time": "2023-06-28T17:58:18.591Z"
   },
   {
    "duration": 0,
    "start_time": "2023-06-28T17:58:18.592Z"
   },
   {
    "duration": 0,
    "start_time": "2023-06-28T17:58:18.593Z"
   },
   {
    "duration": 0,
    "start_time": "2023-06-28T17:58:18.594Z"
   },
   {
    "duration": 0,
    "start_time": "2023-06-28T17:58:18.595Z"
   },
   {
    "duration": 0,
    "start_time": "2023-06-28T17:58:18.595Z"
   },
   {
    "duration": 1575,
    "start_time": "2023-06-28T18:03:49.325Z"
   },
   {
    "duration": 886,
    "start_time": "2023-06-28T18:03:50.902Z"
   },
   {
    "duration": 5,
    "start_time": "2023-06-28T18:03:51.790Z"
   },
   {
    "duration": 39,
    "start_time": "2023-06-28T18:03:51.796Z"
   },
   {
    "duration": 18,
    "start_time": "2023-06-28T18:03:51.838Z"
   },
   {
    "duration": 13,
    "start_time": "2023-06-28T18:03:51.858Z"
   },
   {
    "duration": 9,
    "start_time": "2023-06-28T18:03:51.872Z"
   },
   {
    "duration": 1848,
    "start_time": "2023-06-28T18:03:51.882Z"
   },
   {
    "duration": 4,
    "start_time": "2023-06-28T18:03:53.732Z"
   },
   {
    "duration": 4,
    "start_time": "2023-06-28T18:03:53.737Z"
   },
   {
    "duration": 22437,
    "start_time": "2023-06-28T18:03:53.756Z"
   },
   {
    "duration": 121,
    "start_time": "2023-06-28T18:04:16.194Z"
   },
   {
    "duration": 0,
    "start_time": "2023-06-28T18:04:16.316Z"
   },
   {
    "duration": 0,
    "start_time": "2023-06-28T18:04:16.318Z"
   },
   {
    "duration": 0,
    "start_time": "2023-06-28T18:04:16.319Z"
   },
   {
    "duration": 0,
    "start_time": "2023-06-28T18:04:16.320Z"
   },
   {
    "duration": 0,
    "start_time": "2023-06-28T18:04:16.321Z"
   },
   {
    "duration": 0,
    "start_time": "2023-06-28T18:04:16.322Z"
   },
   {
    "duration": 0,
    "start_time": "2023-06-28T18:04:16.323Z"
   },
   {
    "duration": 0,
    "start_time": "2023-06-28T18:04:16.324Z"
   },
   {
    "duration": 1605,
    "start_time": "2023-06-28T18:05:08.673Z"
   },
   {
    "duration": 825,
    "start_time": "2023-06-28T18:05:10.280Z"
   },
   {
    "duration": 4,
    "start_time": "2023-06-28T18:05:11.107Z"
   },
   {
    "duration": 44,
    "start_time": "2023-06-28T18:05:11.113Z"
   },
   {
    "duration": 6,
    "start_time": "2023-06-28T18:05:11.159Z"
   },
   {
    "duration": 14,
    "start_time": "2023-06-28T18:05:11.166Z"
   },
   {
    "duration": 10,
    "start_time": "2023-06-28T18:05:11.182Z"
   },
   {
    "duration": 1899,
    "start_time": "2023-06-28T18:05:11.193Z"
   },
   {
    "duration": 4,
    "start_time": "2023-06-28T18:05:13.093Z"
   },
   {
    "duration": 4,
    "start_time": "2023-06-28T18:05:13.099Z"
   },
   {
    "duration": 22679,
    "start_time": "2023-06-28T18:05:13.105Z"
   },
   {
    "duration": 3,
    "start_time": "2023-06-28T18:05:35.786Z"
   },
   {
    "duration": 125,
    "start_time": "2023-06-28T18:05:35.790Z"
   },
   {
    "duration": 0,
    "start_time": "2023-06-28T18:05:35.917Z"
   },
   {
    "duration": 0,
    "start_time": "2023-06-28T18:05:35.918Z"
   },
   {
    "duration": 0,
    "start_time": "2023-06-28T18:05:35.919Z"
   },
   {
    "duration": 0,
    "start_time": "2023-06-28T18:05:35.920Z"
   },
   {
    "duration": 0,
    "start_time": "2023-06-28T18:05:35.921Z"
   },
   {
    "duration": 0,
    "start_time": "2023-06-28T18:05:35.922Z"
   },
   {
    "duration": 0,
    "start_time": "2023-06-28T18:05:35.923Z"
   },
   {
    "duration": 10,
    "start_time": "2023-06-28T18:06:19.792Z"
   },
   {
    "duration": 16,
    "start_time": "2023-06-28T18:06:33.751Z"
   },
   {
    "duration": 13,
    "start_time": "2023-06-28T18:06:50.659Z"
   },
   {
    "duration": 10,
    "start_time": "2023-06-28T18:09:32.158Z"
   },
   {
    "duration": 14,
    "start_time": "2023-06-28T18:11:35.856Z"
   },
   {
    "duration": 6,
    "start_time": "2023-06-28T18:12:04.626Z"
   },
   {
    "duration": 3,
    "start_time": "2023-06-28T18:12:43.020Z"
   },
   {
    "duration": 14,
    "start_time": "2023-06-28T18:12:47.477Z"
   },
   {
    "duration": 11,
    "start_time": "2023-06-28T18:14:21.043Z"
   },
   {
    "duration": 66,
    "start_time": "2023-06-28T18:15:10.200Z"
   },
   {
    "duration": 71,
    "start_time": "2023-06-28T18:15:50.222Z"
   },
   {
    "duration": 1693,
    "start_time": "2023-06-28T18:16:21.349Z"
   },
   {
    "duration": 850,
    "start_time": "2023-06-28T18:16:23.044Z"
   },
   {
    "duration": 4,
    "start_time": "2023-06-28T18:16:23.896Z"
   },
   {
    "duration": 54,
    "start_time": "2023-06-28T18:16:23.903Z"
   },
   {
    "duration": 3,
    "start_time": "2023-06-28T18:16:23.959Z"
   },
   {
    "duration": 5,
    "start_time": "2023-06-28T18:16:23.964Z"
   },
   {
    "duration": 16,
    "start_time": "2023-06-28T18:16:23.971Z"
   },
   {
    "duration": 1903,
    "start_time": "2023-06-28T18:16:23.988Z"
   },
   {
    "duration": 3,
    "start_time": "2023-06-28T18:16:25.893Z"
   },
   {
    "duration": 34,
    "start_time": "2023-06-28T18:16:25.898Z"
   },
   {
    "duration": 22793,
    "start_time": "2023-06-28T18:16:25.934Z"
   },
   {
    "duration": 3,
    "start_time": "2023-06-28T18:16:48.729Z"
   },
   {
    "duration": 79,
    "start_time": "2023-06-28T18:16:48.733Z"
   },
   {
    "duration": 6404,
    "start_time": "2023-06-28T18:16:48.813Z"
   },
   {
    "duration": 1575,
    "start_time": "2023-06-28T20:28:23.444Z"
   },
   {
    "duration": 817,
    "start_time": "2023-06-28T20:28:25.021Z"
   },
   {
    "duration": 5,
    "start_time": "2023-06-28T20:28:25.839Z"
   },
   {
    "duration": 77,
    "start_time": "2023-06-28T20:28:25.845Z"
   },
   {
    "duration": 4,
    "start_time": "2023-06-28T20:28:25.924Z"
   },
   {
    "duration": 6,
    "start_time": "2023-06-28T20:28:25.929Z"
   },
   {
    "duration": 10,
    "start_time": "2023-06-28T20:28:25.937Z"
   },
   {
    "duration": 1839,
    "start_time": "2023-06-28T20:28:25.948Z"
   },
   {
    "duration": 4,
    "start_time": "2023-06-28T20:28:27.789Z"
   },
   {
    "duration": 8,
    "start_time": "2023-06-28T20:28:27.794Z"
   },
   {
    "duration": 22020,
    "start_time": "2023-06-28T20:28:27.803Z"
   },
   {
    "duration": 2,
    "start_time": "2023-06-28T20:28:49.825Z"
   },
   {
    "duration": 69,
    "start_time": "2023-06-28T20:28:49.829Z"
   },
   {
    "duration": 6157,
    "start_time": "2023-06-28T20:28:49.901Z"
   },
   {
    "duration": 233222,
    "start_time": "2023-06-28T20:28:56.060Z"
   },
   {
    "duration": 4,
    "start_time": "2023-06-28T20:32:49.285Z"
   },
   {
    "duration": 48921,
    "start_time": "2023-06-28T20:32:49.290Z"
   },
   {
    "duration": 318022,
    "start_time": "2023-06-28T20:33:38.212Z"
   },
   {
    "duration": 25059,
    "start_time": "2023-06-28T20:38:56.236Z"
   },
   {
    "duration": 19,
    "start_time": "2023-06-28T20:39:21.297Z"
   },
   {
    "duration": 111,
    "start_time": "2023-06-28T20:46:04.587Z"
   },
   {
    "duration": 1542,
    "start_time": "2023-06-28T20:46:22.707Z"
   },
   {
    "duration": 806,
    "start_time": "2023-06-28T20:46:24.251Z"
   },
   {
    "duration": 5,
    "start_time": "2023-06-28T20:46:25.058Z"
   },
   {
    "duration": 51,
    "start_time": "2023-06-28T20:46:25.064Z"
   },
   {
    "duration": 2,
    "start_time": "2023-06-28T20:46:25.118Z"
   },
   {
    "duration": 5,
    "start_time": "2023-06-28T20:46:25.122Z"
   },
   {
    "duration": 11,
    "start_time": "2023-06-28T20:46:25.128Z"
   },
   {
    "duration": 1799,
    "start_time": "2023-06-28T20:46:25.140Z"
   },
   {
    "duration": 3,
    "start_time": "2023-06-28T20:46:26.941Z"
   },
   {
    "duration": 11,
    "start_time": "2023-06-28T20:46:26.945Z"
   },
   {
    "duration": 21933,
    "start_time": "2023-06-28T20:46:26.958Z"
   },
   {
    "duration": 2,
    "start_time": "2023-06-28T20:46:48.893Z"
   },
   {
    "duration": 73,
    "start_time": "2023-06-28T20:46:48.897Z"
   },
   {
    "duration": 6122,
    "start_time": "2023-06-28T20:46:48.973Z"
   },
   {
    "duration": 129,
    "start_time": "2023-06-28T20:46:55.097Z"
   },
   {
    "duration": 0,
    "start_time": "2023-06-28T20:46:55.228Z"
   },
   {
    "duration": 0,
    "start_time": "2023-06-28T20:46:55.229Z"
   },
   {
    "duration": 0,
    "start_time": "2023-06-28T20:46:55.230Z"
   },
   {
    "duration": 1,
    "start_time": "2023-06-28T20:46:55.231Z"
   },
   {
    "duration": 0,
    "start_time": "2023-06-28T20:46:55.232Z"
   },
   {
    "duration": 0,
    "start_time": "2023-06-28T20:46:55.233Z"
   },
   {
    "duration": 0,
    "start_time": "2023-06-28T20:46:55.234Z"
   },
   {
    "duration": 1512,
    "start_time": "2023-06-28T20:47:02.612Z"
   },
   {
    "duration": 815,
    "start_time": "2023-06-28T20:47:04.126Z"
   },
   {
    "duration": 5,
    "start_time": "2023-06-28T20:47:04.942Z"
   },
   {
    "duration": 33,
    "start_time": "2023-06-28T20:47:04.956Z"
   },
   {
    "duration": 33,
    "start_time": "2023-06-28T20:47:04.992Z"
   },
   {
    "duration": 27,
    "start_time": "2023-06-28T20:47:05.027Z"
   },
   {
    "duration": 28,
    "start_time": "2023-06-28T20:47:05.056Z"
   },
   {
    "duration": 1821,
    "start_time": "2023-06-28T20:47:05.086Z"
   },
   {
    "duration": 4,
    "start_time": "2023-06-28T20:47:06.909Z"
   },
   {
    "duration": 13,
    "start_time": "2023-06-28T20:47:06.914Z"
   },
   {
    "duration": 21663,
    "start_time": "2023-06-28T20:47:06.929Z"
   },
   {
    "duration": 3,
    "start_time": "2023-06-28T20:47:28.594Z"
   },
   {
    "duration": 81,
    "start_time": "2023-06-28T20:47:28.598Z"
   },
   {
    "duration": 4,
    "start_time": "2023-06-28T20:47:28.682Z"
   },
   {
    "duration": 123,
    "start_time": "2023-06-28T20:47:28.687Z"
   },
   {
    "duration": 0,
    "start_time": "2023-06-28T20:47:28.813Z"
   },
   {
    "duration": 0,
    "start_time": "2023-06-28T20:47:28.815Z"
   },
   {
    "duration": 0,
    "start_time": "2023-06-28T20:47:28.816Z"
   },
   {
    "duration": 0,
    "start_time": "2023-06-28T20:47:28.819Z"
   },
   {
    "duration": 0,
    "start_time": "2023-06-28T20:47:28.821Z"
   },
   {
    "duration": 0,
    "start_time": "2023-06-28T20:47:28.822Z"
   },
   {
    "duration": 0,
    "start_time": "2023-06-28T20:47:28.823Z"
   },
   {
    "duration": 12,
    "start_time": "2023-06-28T20:47:37.375Z"
   },
   {
    "duration": 12,
    "start_time": "2023-06-28T20:49:45.016Z"
   },
   {
    "duration": 12,
    "start_time": "2023-06-28T20:51:30.349Z"
   },
   {
    "duration": 11,
    "start_time": "2023-06-28T20:51:44.310Z"
   },
   {
    "duration": 4,
    "start_time": "2023-06-28T20:52:31.871Z"
   },
   {
    "duration": 11,
    "start_time": "2023-06-28T20:52:41.437Z"
   },
   {
    "duration": 1550,
    "start_time": "2023-06-28T20:53:19.314Z"
   },
   {
    "duration": 831,
    "start_time": "2023-06-28T20:53:20.866Z"
   },
   {
    "duration": 5,
    "start_time": "2023-06-28T20:53:21.699Z"
   },
   {
    "duration": 33,
    "start_time": "2023-06-28T20:53:21.705Z"
   },
   {
    "duration": 17,
    "start_time": "2023-06-28T20:53:21.740Z"
   },
   {
    "duration": 7,
    "start_time": "2023-06-28T20:53:21.758Z"
   },
   {
    "duration": 6,
    "start_time": "2023-06-28T20:53:21.766Z"
   },
   {
    "duration": 1821,
    "start_time": "2023-06-28T20:53:21.773Z"
   },
   {
    "duration": 4,
    "start_time": "2023-06-28T20:53:23.596Z"
   },
   {
    "duration": 5,
    "start_time": "2023-06-28T20:53:23.601Z"
   },
   {
    "duration": 21994,
    "start_time": "2023-06-28T20:53:23.607Z"
   },
   {
    "duration": 2,
    "start_time": "2023-06-28T20:53:45.603Z"
   },
   {
    "duration": 73,
    "start_time": "2023-06-28T20:53:45.607Z"
   },
   {
    "duration": 4,
    "start_time": "2023-06-28T20:53:45.682Z"
   },
   {
    "duration": 124,
    "start_time": "2023-06-28T20:53:45.687Z"
   },
   {
    "duration": 0,
    "start_time": "2023-06-28T20:53:45.813Z"
   },
   {
    "duration": 0,
    "start_time": "2023-06-28T20:53:45.814Z"
   },
   {
    "duration": 0,
    "start_time": "2023-06-28T20:53:45.815Z"
   },
   {
    "duration": 0,
    "start_time": "2023-06-28T20:53:45.816Z"
   },
   {
    "duration": 0,
    "start_time": "2023-06-28T20:53:45.817Z"
   },
   {
    "duration": 0,
    "start_time": "2023-06-28T20:53:45.818Z"
   },
   {
    "duration": 0,
    "start_time": "2023-06-28T20:53:45.819Z"
   },
   {
    "duration": 11,
    "start_time": "2023-06-28T20:53:53.315Z"
   },
   {
    "duration": 1489,
    "start_time": "2023-06-28T21:01:19.906Z"
   },
   {
    "duration": 806,
    "start_time": "2023-06-28T21:01:21.397Z"
   },
   {
    "duration": 4,
    "start_time": "2023-06-28T21:01:22.205Z"
   },
   {
    "duration": 35,
    "start_time": "2023-06-28T21:01:22.211Z"
   },
   {
    "duration": 3,
    "start_time": "2023-06-28T21:01:22.256Z"
   },
   {
    "duration": 7,
    "start_time": "2023-06-28T21:01:22.260Z"
   },
   {
    "duration": 7,
    "start_time": "2023-06-28T21:01:22.269Z"
   },
   {
    "duration": 1810,
    "start_time": "2023-06-28T21:01:22.277Z"
   },
   {
    "duration": 4,
    "start_time": "2023-06-28T21:01:24.088Z"
   },
   {
    "duration": 11,
    "start_time": "2023-06-28T21:01:24.094Z"
   },
   {
    "duration": 21655,
    "start_time": "2023-06-28T21:01:24.106Z"
   },
   {
    "duration": 2,
    "start_time": "2023-06-28T21:01:45.763Z"
   },
   {
    "duration": 63,
    "start_time": "2023-06-28T21:01:45.766Z"
   },
   {
    "duration": 3,
    "start_time": "2023-06-28T21:01:45.831Z"
   },
   {
    "duration": 125,
    "start_time": "2023-06-28T21:01:45.836Z"
   },
   {
    "duration": 0,
    "start_time": "2023-06-28T21:01:45.963Z"
   },
   {
    "duration": 0,
    "start_time": "2023-06-28T21:01:45.964Z"
   },
   {
    "duration": 0,
    "start_time": "2023-06-28T21:01:45.965Z"
   },
   {
    "duration": 0,
    "start_time": "2023-06-28T21:01:45.966Z"
   },
   {
    "duration": 0,
    "start_time": "2023-06-28T21:01:45.967Z"
   },
   {
    "duration": 0,
    "start_time": "2023-06-28T21:01:45.968Z"
   },
   {
    "duration": 0,
    "start_time": "2023-06-28T21:01:45.969Z"
   },
   {
    "duration": 11,
    "start_time": "2023-06-28T21:01:53.620Z"
   },
   {
    "duration": 4,
    "start_time": "2023-06-28T21:03:27.387Z"
   },
   {
    "duration": 130,
    "start_time": "2023-06-28T21:05:20.038Z"
   },
   {
    "duration": 3,
    "start_time": "2023-06-28T21:05:27.466Z"
   },
   {
    "duration": 40,
    "start_time": "2023-06-28T21:05:58.328Z"
   },
   {
    "duration": 1563,
    "start_time": "2023-06-28T21:08:37.349Z"
   },
   {
    "duration": 816,
    "start_time": "2023-06-28T21:08:38.914Z"
   },
   {
    "duration": 6,
    "start_time": "2023-06-28T21:08:39.732Z"
   },
   {
    "duration": 43,
    "start_time": "2023-06-28T21:08:39.739Z"
   },
   {
    "duration": 8,
    "start_time": "2023-06-28T21:08:39.785Z"
   },
   {
    "duration": 9,
    "start_time": "2023-06-28T21:08:39.794Z"
   },
   {
    "duration": 28,
    "start_time": "2023-06-28T21:08:39.804Z"
   },
   {
    "duration": 1818,
    "start_time": "2023-06-28T21:08:39.834Z"
   },
   {
    "duration": 4,
    "start_time": "2023-06-28T21:08:41.657Z"
   },
   {
    "duration": 7,
    "start_time": "2023-06-28T21:08:41.663Z"
   },
   {
    "duration": 21874,
    "start_time": "2023-06-28T21:08:41.671Z"
   },
   {
    "duration": 9,
    "start_time": "2023-06-28T21:09:03.547Z"
   },
   {
    "duration": 89,
    "start_time": "2023-06-28T21:09:03.558Z"
   },
   {
    "duration": 3,
    "start_time": "2023-06-28T21:09:03.650Z"
   },
   {
    "duration": 129,
    "start_time": "2023-06-28T21:09:03.655Z"
   },
   {
    "duration": 1,
    "start_time": "2023-06-28T21:09:03.786Z"
   },
   {
    "duration": 0,
    "start_time": "2023-06-28T21:09:03.788Z"
   },
   {
    "duration": 0,
    "start_time": "2023-06-28T21:09:03.789Z"
   },
   {
    "duration": 0,
    "start_time": "2023-06-28T21:09:03.789Z"
   },
   {
    "duration": 0,
    "start_time": "2023-06-28T21:09:03.790Z"
   },
   {
    "duration": 0,
    "start_time": "2023-06-28T21:09:03.792Z"
   },
   {
    "duration": 0,
    "start_time": "2023-06-28T21:09:03.793Z"
   },
   {
    "duration": 3,
    "start_time": "2023-06-28T21:09:12.626Z"
   },
   {
    "duration": 39,
    "start_time": "2023-06-28T21:09:13.376Z"
   },
   {
    "duration": 101706,
    "start_time": "2023-06-28T21:09:21.287Z"
   },
   {
    "duration": 3,
    "start_time": "2023-06-28T21:11:17.718Z"
   },
   {
    "duration": 65869,
    "start_time": "2023-06-28T21:11:18.722Z"
   },
   {
    "duration": 52,
    "start_time": "2023-06-28T21:12:44.190Z"
   },
   {
    "duration": 36,
    "start_time": "2023-06-28T21:13:39.829Z"
   },
   {
    "duration": 40,
    "start_time": "2023-06-28T21:13:47.231Z"
   },
   {
    "duration": 18,
    "start_time": "2023-06-28T21:16:38.323Z"
   },
   {
    "duration": 39,
    "start_time": "2023-06-28T21:16:50.750Z"
   },
   {
    "duration": 36,
    "start_time": "2023-06-28T21:17:25.878Z"
   },
   {
    "duration": 120,
    "start_time": "2023-06-28T21:17:40.134Z"
   },
   {
    "duration": 80,
    "start_time": "2023-06-28T21:17:48.625Z"
   },
   {
    "duration": 108,
    "start_time": "2023-06-28T21:18:00.049Z"
   },
   {
    "duration": 38,
    "start_time": "2023-06-28T21:18:04.919Z"
   },
   {
    "duration": 38,
    "start_time": "2023-06-28T21:22:12.070Z"
   },
   {
    "duration": 38,
    "start_time": "2023-06-28T21:22:29.051Z"
   },
   {
    "duration": 1583,
    "start_time": "2023-06-28T21:23:10.526Z"
   },
   {
    "duration": 797,
    "start_time": "2023-06-28T21:23:12.111Z"
   },
   {
    "duration": 4,
    "start_time": "2023-06-28T21:23:12.910Z"
   },
   {
    "duration": 42,
    "start_time": "2023-06-28T21:23:12.916Z"
   },
   {
    "duration": 3,
    "start_time": "2023-06-28T21:23:12.961Z"
   },
   {
    "duration": 5,
    "start_time": "2023-06-28T21:23:12.966Z"
   },
   {
    "duration": 7,
    "start_time": "2023-06-28T21:23:12.972Z"
   },
   {
    "duration": 1842,
    "start_time": "2023-06-28T21:23:12.981Z"
   },
   {
    "duration": 5,
    "start_time": "2023-06-28T21:23:14.825Z"
   },
   {
    "duration": 8,
    "start_time": "2023-06-28T21:23:14.831Z"
   },
   {
    "duration": 21967,
    "start_time": "2023-06-28T21:23:14.840Z"
   },
   {
    "duration": 3,
    "start_time": "2023-06-28T21:23:36.808Z"
   },
   {
    "duration": 72,
    "start_time": "2023-06-28T21:23:36.812Z"
   },
   {
    "duration": 5,
    "start_time": "2023-06-28T21:23:36.886Z"
   },
   {
    "duration": 113,
    "start_time": "2023-06-28T21:23:36.892Z"
   },
   {
    "duration": 0,
    "start_time": "2023-06-28T21:23:37.007Z"
   },
   {
    "duration": 0,
    "start_time": "2023-06-28T21:23:37.008Z"
   },
   {
    "duration": 0,
    "start_time": "2023-06-28T21:23:37.009Z"
   },
   {
    "duration": 0,
    "start_time": "2023-06-28T21:23:37.010Z"
   },
   {
    "duration": 0,
    "start_time": "2023-06-28T21:23:37.011Z"
   },
   {
    "duration": 0,
    "start_time": "2023-06-28T21:23:37.012Z"
   },
   {
    "duration": 0,
    "start_time": "2023-06-28T21:23:37.013Z"
   },
   {
    "duration": 4,
    "start_time": "2023-06-28T21:23:40.167Z"
   },
   {
    "duration": 111153,
    "start_time": "2023-06-28T21:23:40.838Z"
   },
   {
    "duration": 56,
    "start_time": "2023-06-28T21:27:23.309Z"
   },
   {
    "duration": 38,
    "start_time": "2023-06-28T21:27:31.721Z"
   },
   {
    "duration": 1510,
    "start_time": "2023-06-28T21:27:52.279Z"
   },
   {
    "duration": 804,
    "start_time": "2023-06-28T21:27:53.792Z"
   },
   {
    "duration": 5,
    "start_time": "2023-06-28T21:27:54.598Z"
   },
   {
    "duration": 34,
    "start_time": "2023-06-28T21:27:54.604Z"
   },
   {
    "duration": 3,
    "start_time": "2023-06-28T21:27:54.656Z"
   },
   {
    "duration": 10,
    "start_time": "2023-06-28T21:27:54.660Z"
   },
   {
    "duration": 7,
    "start_time": "2023-06-28T21:27:54.671Z"
   },
   {
    "duration": 1814,
    "start_time": "2023-06-28T21:27:54.679Z"
   },
   {
    "duration": 4,
    "start_time": "2023-06-28T21:27:56.495Z"
   },
   {
    "duration": 5,
    "start_time": "2023-06-28T21:27:56.500Z"
   },
   {
    "duration": 21455,
    "start_time": "2023-06-28T21:27:56.507Z"
   },
   {
    "duration": 3,
    "start_time": "2023-06-28T21:28:17.963Z"
   },
   {
    "duration": 62,
    "start_time": "2023-06-28T21:28:17.967Z"
   },
   {
    "duration": 4,
    "start_time": "2023-06-28T21:28:18.032Z"
   },
   {
    "duration": 121,
    "start_time": "2023-06-28T21:28:18.037Z"
   },
   {
    "duration": 0,
    "start_time": "2023-06-28T21:28:18.159Z"
   },
   {
    "duration": 0,
    "start_time": "2023-06-28T21:28:18.160Z"
   },
   {
    "duration": 0,
    "start_time": "2023-06-28T21:28:18.162Z"
   },
   {
    "duration": 0,
    "start_time": "2023-06-28T21:28:18.163Z"
   },
   {
    "duration": 0,
    "start_time": "2023-06-28T21:28:18.164Z"
   },
   {
    "duration": 0,
    "start_time": "2023-06-28T21:28:18.165Z"
   },
   {
    "duration": 0,
    "start_time": "2023-06-28T21:28:18.166Z"
   },
   {
    "duration": 4,
    "start_time": "2023-06-28T21:28:23.308Z"
   },
   {
    "duration": 42,
    "start_time": "2023-06-28T21:28:23.909Z"
   },
   {
    "duration": 109634,
    "start_time": "2023-06-28T21:28:46.752Z"
   },
   {
    "duration": 4,
    "start_time": "2023-06-28T21:31:18.043Z"
   },
   {
    "duration": 4,
    "start_time": "2023-06-28T21:31:19.965Z"
   },
   {
    "duration": 54,
    "start_time": "2023-06-28T21:31:23.357Z"
   },
   {
    "duration": 3,
    "start_time": "2023-06-28T21:32:20.765Z"
   },
   {
    "duration": 38,
    "start_time": "2023-06-28T21:32:26.617Z"
   },
   {
    "duration": 2,
    "start_time": "2023-06-28T21:33:57.039Z"
   },
   {
    "duration": 39,
    "start_time": "2023-06-28T21:33:57.572Z"
   },
   {
    "duration": 3,
    "start_time": "2023-06-28T21:36:38.113Z"
   },
   {
    "duration": 2,
    "start_time": "2023-06-28T21:36:38.724Z"
   },
   {
    "duration": 38,
    "start_time": "2023-06-28T21:36:39.525Z"
   },
   {
    "duration": 2,
    "start_time": "2023-06-28T21:37:19.237Z"
   },
   {
    "duration": 37,
    "start_time": "2023-06-28T21:37:19.742Z"
   },
   {
    "duration": 82,
    "start_time": "2023-06-28T21:38:31.048Z"
   },
   {
    "duration": 3,
    "start_time": "2023-06-28T21:38:36.349Z"
   },
   {
    "duration": 37,
    "start_time": "2023-06-28T21:38:36.976Z"
   },
   {
    "duration": 3,
    "start_time": "2023-06-28T21:39:23.648Z"
   },
   {
    "duration": 37,
    "start_time": "2023-06-28T21:39:24.729Z"
   },
   {
    "duration": 3,
    "start_time": "2023-06-28T21:39:36.360Z"
   },
   {
    "duration": 3,
    "start_time": "2023-06-28T21:39:37.152Z"
   },
   {
    "duration": 36,
    "start_time": "2023-06-28T21:39:38.161Z"
   },
   {
    "duration": 10,
    "start_time": "2023-06-28T21:40:03.253Z"
   },
   {
    "duration": 3,
    "start_time": "2023-06-28T21:42:18.733Z"
   },
   {
    "duration": 3,
    "start_time": "2023-06-28T21:42:19.551Z"
   },
   {
    "duration": 1573,
    "start_time": "2023-06-28T21:44:31.220Z"
   },
   {
    "duration": 790,
    "start_time": "2023-06-28T21:44:32.795Z"
   },
   {
    "duration": 4,
    "start_time": "2023-06-28T21:44:33.586Z"
   },
   {
    "duration": 48,
    "start_time": "2023-06-28T21:44:33.592Z"
   },
   {
    "duration": 16,
    "start_time": "2023-06-28T21:44:33.642Z"
   },
   {
    "duration": 7,
    "start_time": "2023-06-28T21:44:33.659Z"
   },
   {
    "duration": 10,
    "start_time": "2023-06-28T21:44:33.667Z"
   },
   {
    "duration": 1834,
    "start_time": "2023-06-28T21:44:33.678Z"
   },
   {
    "duration": 3,
    "start_time": "2023-06-28T21:44:35.513Z"
   },
   {
    "duration": 37,
    "start_time": "2023-06-28T21:44:35.518Z"
   },
   {
    "duration": 21405,
    "start_time": "2023-06-28T21:44:35.556Z"
   },
   {
    "duration": 3,
    "start_time": "2023-06-28T21:44:56.963Z"
   },
   {
    "duration": 64,
    "start_time": "2023-06-28T21:44:56.967Z"
   },
   {
    "duration": 4,
    "start_time": "2023-06-28T21:44:57.034Z"
   },
   {
    "duration": 126,
    "start_time": "2023-06-28T21:44:57.039Z"
   },
   {
    "duration": 0,
    "start_time": "2023-06-28T21:44:57.166Z"
   },
   {
    "duration": 0,
    "start_time": "2023-06-28T21:44:57.167Z"
   },
   {
    "duration": 0,
    "start_time": "2023-06-28T21:44:57.168Z"
   },
   {
    "duration": 0,
    "start_time": "2023-06-28T21:44:57.169Z"
   },
   {
    "duration": 0,
    "start_time": "2023-06-28T21:44:57.170Z"
   },
   {
    "duration": 0,
    "start_time": "2023-06-28T21:44:57.171Z"
   },
   {
    "duration": 0,
    "start_time": "2023-06-28T21:44:57.172Z"
   },
   {
    "duration": 0,
    "start_time": "2023-06-28T21:44:57.173Z"
   },
   {
    "duration": 3,
    "start_time": "2023-06-28T21:45:13.328Z"
   },
   {
    "duration": 3,
    "start_time": "2023-06-28T21:45:14.115Z"
   },
   {
    "duration": 193265,
    "start_time": "2023-06-28T21:45:15.005Z"
   },
   {
    "duration": 3,
    "start_time": "2023-06-28T21:48:38.415Z"
   },
   {
    "duration": 361281,
    "start_time": "2023-06-28T21:48:39.153Z"
   },
   {
    "duration": 3,
    "start_time": "2023-06-28T21:56:32.846Z"
   },
   {
    "duration": 39,
    "start_time": "2023-06-28T21:56:33.618Z"
   },
   {
    "duration": 30178,
    "start_time": "2023-06-28T22:02:26.714Z"
   },
   {
    "duration": 30125,
    "start_time": "2023-06-28T22:03:19.663Z"
   },
   {
    "duration": 1557,
    "start_time": "2023-06-28T22:04:08.143Z"
   },
   {
    "duration": 6456,
    "start_time": "2023-06-28T22:05:46.487Z"
   },
   {
    "duration": 25138,
    "start_time": "2023-06-28T22:05:58.261Z"
   },
   {
    "duration": 1606,
    "start_time": "2023-06-28T22:09:23.024Z"
   },
   {
    "duration": 894,
    "start_time": "2023-06-28T22:09:24.632Z"
   },
   {
    "duration": 5,
    "start_time": "2023-06-28T22:09:25.527Z"
   },
   {
    "duration": 42,
    "start_time": "2023-06-28T22:09:25.534Z"
   },
   {
    "duration": 5,
    "start_time": "2023-06-28T22:09:25.578Z"
   },
   {
    "duration": 13,
    "start_time": "2023-06-28T22:09:25.584Z"
   },
   {
    "duration": 10,
    "start_time": "2023-06-28T22:09:25.599Z"
   },
   {
    "duration": 1842,
    "start_time": "2023-06-28T22:09:25.611Z"
   },
   {
    "duration": 4,
    "start_time": "2023-06-28T22:09:27.455Z"
   },
   {
    "duration": 9,
    "start_time": "2023-06-28T22:09:27.460Z"
   },
   {
    "duration": 21325,
    "start_time": "2023-06-28T22:09:27.470Z"
   },
   {
    "duration": 2,
    "start_time": "2023-06-28T22:09:48.797Z"
   },
   {
    "duration": 79,
    "start_time": "2023-06-28T22:09:48.801Z"
   },
   {
    "duration": 4,
    "start_time": "2023-06-28T22:09:48.883Z"
   },
   {
    "duration": 7,
    "start_time": "2023-06-28T22:09:48.889Z"
   },
   {
    "duration": 193187,
    "start_time": "2023-06-28T22:09:48.897Z"
   },
   {
    "duration": 3,
    "start_time": "2023-06-28T22:13:02.086Z"
   },
   {
    "duration": 23,
    "start_time": "2023-06-28T22:13:02.090Z"
   },
   {
    "duration": 195888,
    "start_time": "2023-06-28T22:13:02.115Z"
   },
   {
    "duration": 3,
    "start_time": "2023-06-28T22:16:18.005Z"
   },
   {
    "duration": 360743,
    "start_time": "2023-06-28T22:16:18.010Z"
   },
   {
    "duration": 6362,
    "start_time": "2023-06-28T22:22:18.754Z"
   },
   {
    "duration": 25077,
    "start_time": "2023-06-28T22:22:25.118Z"
   },
   {
    "duration": 19,
    "start_time": "2023-06-28T22:22:50.197Z"
   },
   {
    "duration": 2338,
    "start_time": "2023-06-29T22:48:17.552Z"
   },
   {
    "duration": 3597,
    "start_time": "2023-06-29T22:48:19.893Z"
   },
   {
    "duration": 5,
    "start_time": "2023-06-29T22:48:23.492Z"
   },
   {
    "duration": 58,
    "start_time": "2023-06-29T22:48:23.499Z"
   },
   {
    "duration": 13,
    "start_time": "2023-06-29T22:48:23.559Z"
   },
   {
    "duration": 5,
    "start_time": "2023-06-29T22:48:23.573Z"
   },
   {
    "duration": 7,
    "start_time": "2023-06-29T22:48:23.579Z"
   },
   {
    "duration": 2145,
    "start_time": "2023-06-29T22:48:23.588Z"
   },
   {
    "duration": 4,
    "start_time": "2023-06-29T22:48:25.735Z"
   },
   {
    "duration": 84,
    "start_time": "2023-06-29T22:48:25.741Z"
   },
   {
    "duration": 0,
    "start_time": "2023-06-29T22:48:25.827Z"
   },
   {
    "duration": 0,
    "start_time": "2023-06-29T22:48:25.828Z"
   },
   {
    "duration": 0,
    "start_time": "2023-06-29T22:48:25.829Z"
   },
   {
    "duration": 0,
    "start_time": "2023-06-29T22:48:25.830Z"
   },
   {
    "duration": 0,
    "start_time": "2023-06-29T22:48:25.832Z"
   },
   {
    "duration": 0,
    "start_time": "2023-06-29T22:48:25.833Z"
   },
   {
    "duration": 0,
    "start_time": "2023-06-29T22:48:25.834Z"
   },
   {
    "duration": 0,
    "start_time": "2023-06-29T22:48:25.836Z"
   },
   {
    "duration": 0,
    "start_time": "2023-06-29T22:48:25.837Z"
   },
   {
    "duration": 0,
    "start_time": "2023-06-29T22:48:25.838Z"
   },
   {
    "duration": 0,
    "start_time": "2023-06-29T22:48:25.840Z"
   },
   {
    "duration": 0,
    "start_time": "2023-06-29T22:48:25.840Z"
   },
   {
    "duration": 0,
    "start_time": "2023-06-29T22:48:25.842Z"
   },
   {
    "duration": 0,
    "start_time": "2023-06-29T22:48:25.843Z"
   },
   {
    "duration": 79,
    "start_time": "2023-06-29T22:50:54.984Z"
   },
   {
    "duration": 4,
    "start_time": "2023-06-29T22:51:57.043Z"
   },
   {
    "duration": 89,
    "start_time": "2023-06-29T22:51:58.663Z"
   },
   {
    "duration": 1753,
    "start_time": "2023-06-29T22:52:05.560Z"
   },
   {
    "duration": 928,
    "start_time": "2023-06-29T22:52:07.315Z"
   },
   {
    "duration": 5,
    "start_time": "2023-06-29T22:52:08.245Z"
   },
   {
    "duration": 42,
    "start_time": "2023-06-29T22:52:08.251Z"
   },
   {
    "duration": 4,
    "start_time": "2023-06-29T22:52:08.295Z"
   },
   {
    "duration": 7,
    "start_time": "2023-06-29T22:52:08.300Z"
   },
   {
    "duration": 6,
    "start_time": "2023-06-29T22:52:08.308Z"
   },
   {
    "duration": 2108,
    "start_time": "2023-06-29T22:52:08.316Z"
   },
   {
    "duration": 4,
    "start_time": "2023-06-29T22:52:10.425Z"
   },
   {
    "duration": 82,
    "start_time": "2023-06-29T22:52:10.431Z"
   },
   {
    "duration": 0,
    "start_time": "2023-06-29T22:52:10.515Z"
   },
   {
    "duration": 0,
    "start_time": "2023-06-29T22:52:10.516Z"
   },
   {
    "duration": 0,
    "start_time": "2023-06-29T22:52:10.518Z"
   },
   {
    "duration": 0,
    "start_time": "2023-06-29T22:52:10.519Z"
   },
   {
    "duration": 0,
    "start_time": "2023-06-29T22:52:10.520Z"
   },
   {
    "duration": 0,
    "start_time": "2023-06-29T22:52:10.521Z"
   },
   {
    "duration": 0,
    "start_time": "2023-06-29T22:52:10.522Z"
   },
   {
    "duration": 0,
    "start_time": "2023-06-29T22:52:10.523Z"
   },
   {
    "duration": 0,
    "start_time": "2023-06-29T22:52:10.524Z"
   },
   {
    "duration": 0,
    "start_time": "2023-06-29T22:52:10.525Z"
   },
   {
    "duration": 0,
    "start_time": "2023-06-29T22:52:10.526Z"
   },
   {
    "duration": 0,
    "start_time": "2023-06-29T22:52:10.528Z"
   },
   {
    "duration": 1,
    "start_time": "2023-06-29T22:52:10.528Z"
   },
   {
    "duration": 0,
    "start_time": "2023-06-29T22:52:10.530Z"
   },
   {
    "duration": 8,
    "start_time": "2023-06-29T22:53:12.842Z"
   },
   {
    "duration": 84,
    "start_time": "2023-06-29T22:53:14.139Z"
   },
   {
    "duration": 1621,
    "start_time": "2023-06-29T22:54:14.796Z"
   },
   {
    "duration": 911,
    "start_time": "2023-06-29T22:54:16.419Z"
   },
   {
    "duration": 5,
    "start_time": "2023-06-29T22:54:17.332Z"
   },
   {
    "duration": 48,
    "start_time": "2023-06-29T22:54:17.339Z"
   },
   {
    "duration": 3,
    "start_time": "2023-06-29T22:54:17.389Z"
   },
   {
    "duration": 11,
    "start_time": "2023-06-29T22:54:17.394Z"
   },
   {
    "duration": 14,
    "start_time": "2023-06-29T22:54:17.408Z"
   },
   {
    "duration": 2157,
    "start_time": "2023-06-29T22:54:17.424Z"
   },
   {
    "duration": 5,
    "start_time": "2023-06-29T22:54:19.583Z"
   },
   {
    "duration": 91,
    "start_time": "2023-06-29T22:54:19.590Z"
   },
   {
    "duration": 0,
    "start_time": "2023-06-29T22:54:19.684Z"
   },
   {
    "duration": 0,
    "start_time": "2023-06-29T22:54:19.686Z"
   },
   {
    "duration": 0,
    "start_time": "2023-06-29T22:54:19.688Z"
   },
   {
    "duration": 0,
    "start_time": "2023-06-29T22:54:19.690Z"
   },
   {
    "duration": 0,
    "start_time": "2023-06-29T22:54:19.691Z"
   },
   {
    "duration": 0,
    "start_time": "2023-06-29T22:54:19.693Z"
   },
   {
    "duration": 0,
    "start_time": "2023-06-29T22:54:19.695Z"
   },
   {
    "duration": 0,
    "start_time": "2023-06-29T22:54:19.696Z"
   },
   {
    "duration": 0,
    "start_time": "2023-06-29T22:54:19.698Z"
   },
   {
    "duration": 0,
    "start_time": "2023-06-29T22:54:19.700Z"
   },
   {
    "duration": 0,
    "start_time": "2023-06-29T22:54:19.702Z"
   },
   {
    "duration": 0,
    "start_time": "2023-06-29T22:54:19.704Z"
   },
   {
    "duration": 0,
    "start_time": "2023-06-29T22:54:19.705Z"
   },
   {
    "duration": 0,
    "start_time": "2023-06-29T22:54:19.707Z"
   },
   {
    "duration": 4,
    "start_time": "2023-06-29T22:57:30.198Z"
   },
   {
    "duration": 82,
    "start_time": "2023-06-29T22:57:31.479Z"
   },
   {
    "duration": 1830,
    "start_time": "2023-06-29T22:58:02.211Z"
   },
   {
    "duration": 945,
    "start_time": "2023-06-29T22:58:04.044Z"
   },
   {
    "duration": 5,
    "start_time": "2023-06-29T22:58:04.991Z"
   },
   {
    "duration": 35,
    "start_time": "2023-06-29T22:58:04.998Z"
   },
   {
    "duration": 4,
    "start_time": "2023-06-29T22:58:05.035Z"
   },
   {
    "duration": 27,
    "start_time": "2023-06-29T22:58:05.040Z"
   },
   {
    "duration": 48,
    "start_time": "2023-06-29T22:58:05.069Z"
   },
   {
    "duration": 2199,
    "start_time": "2023-06-29T22:58:05.119Z"
   },
   {
    "duration": 4,
    "start_time": "2023-06-29T22:58:07.320Z"
   },
   {
    "duration": 82,
    "start_time": "2023-06-29T22:58:07.326Z"
   },
   {
    "duration": 0,
    "start_time": "2023-06-29T22:58:07.410Z"
   },
   {
    "duration": 0,
    "start_time": "2023-06-29T22:58:07.411Z"
   },
   {
    "duration": 0,
    "start_time": "2023-06-29T22:58:07.412Z"
   },
   {
    "duration": 0,
    "start_time": "2023-06-29T22:58:07.413Z"
   },
   {
    "duration": 0,
    "start_time": "2023-06-29T22:58:07.415Z"
   },
   {
    "duration": 0,
    "start_time": "2023-06-29T22:58:07.416Z"
   },
   {
    "duration": 0,
    "start_time": "2023-06-29T22:58:07.417Z"
   },
   {
    "duration": 0,
    "start_time": "2023-06-29T22:58:07.418Z"
   },
   {
    "duration": 0,
    "start_time": "2023-06-29T22:58:07.418Z"
   },
   {
    "duration": 0,
    "start_time": "2023-06-29T22:58:07.420Z"
   },
   {
    "duration": 0,
    "start_time": "2023-06-29T22:58:07.421Z"
   },
   {
    "duration": 0,
    "start_time": "2023-06-29T22:58:07.423Z"
   },
   {
    "duration": 0,
    "start_time": "2023-06-29T22:58:07.425Z"
   },
   {
    "duration": 0,
    "start_time": "2023-06-29T22:58:07.427Z"
   },
   {
    "duration": 1791,
    "start_time": "2023-06-29T23:03:02.255Z"
   },
   {
    "duration": 927,
    "start_time": "2023-06-29T23:03:04.049Z"
   },
   {
    "duration": 5,
    "start_time": "2023-06-29T23:03:04.978Z"
   },
   {
    "duration": 34,
    "start_time": "2023-06-29T23:03:04.985Z"
   },
   {
    "duration": 4,
    "start_time": "2023-06-29T23:03:05.021Z"
   },
   {
    "duration": 6,
    "start_time": "2023-06-29T23:03:05.027Z"
   },
   {
    "duration": 33,
    "start_time": "2023-06-29T23:03:05.035Z"
   },
   {
    "duration": 2097,
    "start_time": "2023-06-29T23:03:05.070Z"
   },
   {
    "duration": 5,
    "start_time": "2023-06-29T23:03:07.169Z"
   },
   {
    "duration": 10,
    "start_time": "2023-06-29T23:03:07.177Z"
   },
   {
    "duration": 1196908,
    "start_time": "2023-06-29T23:03:07.188Z"
   },
   {
    "duration": 3,
    "start_time": "2023-06-29T23:23:04.098Z"
   },
   {
    "duration": 110,
    "start_time": "2023-06-29T23:23:04.102Z"
   },
   {
    "duration": 8,
    "start_time": "2023-06-29T23:23:04.214Z"
   },
   {
    "duration": 4,
    "start_time": "2023-06-29T23:23:04.224Z"
   },
   {
    "duration": 26638,
    "start_time": "2023-06-29T23:23:04.230Z"
   },
   {
    "duration": 4,
    "start_time": "2023-06-29T23:23:30.870Z"
   },
   {
    "duration": 107,
    "start_time": "2023-06-29T23:23:30.880Z"
   },
   {
    "duration": 1771,
    "start_time": "2023-06-29T23:23:49.533Z"
   },
   {
    "duration": 998,
    "start_time": "2023-06-29T23:23:51.306Z"
   },
   {
    "duration": 8,
    "start_time": "2023-06-29T23:23:52.306Z"
   },
   {
    "duration": 54,
    "start_time": "2023-06-29T23:23:52.316Z"
   },
   {
    "duration": 13,
    "start_time": "2023-06-29T23:23:52.372Z"
   },
   {
    "duration": 23,
    "start_time": "2023-06-29T23:23:52.387Z"
   },
   {
    "duration": 19,
    "start_time": "2023-06-29T23:23:52.412Z"
   },
   {
    "duration": 2234,
    "start_time": "2023-06-29T23:23:52.434Z"
   },
   {
    "duration": 7,
    "start_time": "2023-06-29T23:23:54.671Z"
   },
   {
    "duration": 16,
    "start_time": "2023-06-29T23:23:54.681Z"
   },
   {
    "duration": 1196567,
    "start_time": "2023-06-29T23:23:54.699Z"
   },
   {
    "duration": 3,
    "start_time": "2023-06-29T23:43:51.268Z"
   },
   {
    "duration": 78,
    "start_time": "2023-06-29T23:43:51.273Z"
   },
   {
    "duration": 5,
    "start_time": "2023-06-29T23:43:51.366Z"
   },
   {
    "duration": 16,
    "start_time": "2023-06-29T23:43:51.372Z"
   },
   {
    "duration": 207802,
    "start_time": "2023-06-29T23:43:51.389Z"
   },
   {
    "duration": 3,
    "start_time": "2023-06-29T23:47:19.193Z"
   },
   {
    "duration": 9,
    "start_time": "2023-06-29T23:47:19.198Z"
   },
   {
    "duration": 225952,
    "start_time": "2023-06-29T23:47:19.209Z"
   },
   {
    "duration": 3,
    "start_time": "2023-06-29T23:51:05.166Z"
   },
   {
    "duration": 402131,
    "start_time": "2023-06-29T23:51:05.170Z"
   },
   {
    "duration": 7552,
    "start_time": "2023-06-29T23:57:47.303Z"
   },
   {
    "duration": 26844,
    "start_time": "2023-06-29T23:57:54.857Z"
   },
   {
    "duration": 22,
    "start_time": "2023-06-29T23:58:21.702Z"
   }
  ],
  "kernelspec": {
   "display_name": "Python 3 (ipykernel)",
   "language": "python",
   "name": "python3"
  },
  "language_info": {
   "codemirror_mode": {
    "name": "ipython",
    "version": 3
   },
   "file_extension": ".py",
   "mimetype": "text/x-python",
   "name": "python",
   "nbconvert_exporter": "python",
   "pygments_lexer": "ipython3",
   "version": "3.10.9"
  },
  "toc": {
   "base_numbering": 1,
   "nav_menu": {},
   "number_sections": true,
   "sideBar": true,
   "skip_h1_title": true,
   "title_cell": "Содержание",
   "title_sidebar": "Contents",
   "toc_cell": true,
   "toc_position": {
    "height": "calc(100% - 180px)",
    "left": "10px",
    "top": "150px",
    "width": "302.391px"
   },
   "toc_section_display": true,
   "toc_window_display": false
  }
 },
 "nbformat": 4,
 "nbformat_minor": 4
}
