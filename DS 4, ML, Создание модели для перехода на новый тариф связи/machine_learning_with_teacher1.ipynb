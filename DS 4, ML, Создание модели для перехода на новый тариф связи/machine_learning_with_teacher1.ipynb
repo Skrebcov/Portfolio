{
 "cells": [
  {
   "cell_type": "markdown",
   "id": "7ca6db2d-5663-41bb-a370-dda14d7a5f8f",
   "metadata": {},
   "source": [
    "# Рекомендация тарифов"
   ]
  },
  {
   "cell_type": "markdown",
   "id": "9f3cd21f-79a0-420f-aeb5-392491fe94f3",
   "metadata": {},
   "source": [
    "В нашем распоряжении данные о поведении клиентов, которые уже перешли на эти тарифы. Нужно построить модель для задачи классификации, которая выберет подходящий тариф. Предобработка данных не понадобится — мы её уже сделали.\n",
    "\n",
    "Построим модель с максимально большим значением *accuracy*. Задача - довести долю правильных ответов по крайней мере до 0.75. Проверить *accuracy* на тестовой выборке."
   ]
  },
  {
   "cell_type": "markdown",
   "id": "15e39fbc-79f7-43ac-aa07-4f0f70bcb1f9",
   "metadata": {},
   "source": [
    "## Откроем и изучим файл"
   ]
  },
  {
   "cell_type": "code",
   "execution_count": 1,
   "id": "142373da-eb03-4d49-b375-97effb34b9d6",
   "metadata": {},
   "outputs": [],
   "source": [
    "import pandas as pd\n",
    "from sklearn.model_selection import train_test_split\n",
    "from sklearn.ensemble import RandomForestClassifier\n",
    "from sklearn.linear_model import LogisticRegression \n",
    "from sklearn.tree import DecisionTreeClassifier\n",
    "from sklearn.metrics import accuracy_score\n",
    "from sklearn.dummy import DummyClassifier"
   ]
  },
  {
   "cell_type": "code",
   "execution_count": 2,
   "id": "ae1f6735-5334-4c85-ac9e-ef1c1fc02041",
   "metadata": {},
   "outputs": [
    {
     "name": "stdout",
     "output_type": "stream",
     "text": [
      "   calls  minutes  messages   mb_used  is_ultra\n",
      "0   40.0   311.90      83.0  19915.42         0\n",
      "1   85.0   516.75      56.0  22696.96         0\n",
      "2   77.0   467.66      86.0  21060.45         0\n",
      "3  106.0   745.53      81.0   8437.39         1\n",
      "4   66.0   418.74       1.0  14502.75         0\n"
     ]
    },
    {
     "data": {
      "text/plain": [
       "(3214, 5)"
      ]
     },
     "execution_count": 2,
     "metadata": {},
     "output_type": "execute_result"
    }
   ],
   "source": [
    "df = pd.read_csv('users_behavior.csv')\n",
    "print(df.head())\n",
    "df.shape"
   ]
  },
  {
   "cell_type": "markdown",
   "id": "d62f9f83-969c-4876-93ca-5dbb7926e442",
   "metadata": {},
   "source": [
    "Мы импортировали часть от общего числа требуемых для анализа библиотек и загрузили данные. Сейчас посмотрим на их состояние и если всё ОК, сможем приступать к построению моделей\n",
    "\n",
    "Мы решаем задачу классификации с учителем , где тарифу \"Ультра\" это 1, а \"Смарт\" это 0."
   ]
  },
  {
   "cell_type": "code",
   "execution_count": 3,
   "id": "76c2ce2d-d187-41ed-870c-1cea7338cf34",
   "metadata": {},
   "outputs": [
    {
     "name": "stdout",
     "output_type": "stream",
     "text": [
      "<class 'pandas.core.frame.DataFrame'>\n",
      "RangeIndex: 3214 entries, 0 to 3213\n",
      "Data columns (total 5 columns):\n",
      " #   Column    Non-Null Count  Dtype  \n",
      "---  ------    --------------  -----  \n",
      " 0   calls     3214 non-null   float64\n",
      " 1   minutes   3214 non-null   float64\n",
      " 2   messages  3214 non-null   float64\n",
      " 3   mb_used   3214 non-null   float64\n",
      " 4   is_ultra  3214 non-null   int64  \n",
      "dtypes: float64(4), int64(1)\n",
      "memory usage: 125.7 KB\n"
     ]
    }
   ],
   "source": [
    "df.info() # видим что нет пропусков"
   ]
  },
  {
   "cell_type": "markdown",
   "id": "ba0d69e2-f01d-4400-b960-46c3cac088b5",
   "metadata": {},
   "source": [
    "Данные были ранее обработаны и мы убедились что предобработка не нужна. Приступим к построению моделей. "
   ]
  },
  {
   "cell_type": "markdown",
   "id": "89e2117a-4147-4a2e-b4c9-d9d55bb1e638",
   "metadata": {},
   "source": [
    "## Разобьем данные на выборки"
   ]
  },
  {
   "cell_type": "code",
   "execution_count": 4,
   "id": "c0afbdaa-e3ea-409d-805e-698d7dc1fe50",
   "metadata": {},
   "outputs": [
    {
     "name": "stdout",
     "output_type": "stream",
     "text": [
      "(1928, 4)\n",
      "(1928,)\n",
      "(643, 4)\n",
      "(643,)\n",
      "(643, 4)\n",
      "(643,)\n"
     ]
    }
   ],
   "source": [
    "features = df.drop(['is_ultra'], axis=1)\n",
    "target = df['is_ultra']\n",
    "\n",
    "features_train, features_valid, target_train, target_valid = train_test_split(\n",
    "    features, target, test_size=0.40, random_state=12345) # отделим 40% данных для валидационной выборки\n",
    "features_valid, features_test, target_valid, target_test = train_test_split(\n",
    "    features_valid, target_valid, test_size=0.50, random_state=12345)\n",
    "# разделим 1 к 1 валидационную выборку чтобы вычленить тестовую.\n",
    "\n",
    "print(features_train.shape)\n",
    "print(target_train.shape)\n",
    "print(features_valid.shape)\n",
    "print(target_valid.shape)\n",
    "print(features_test.shape)\n",
    "print(target_test.shape) # проверим распределение"
   ]
  },
  {
   "cell_type": "markdown",
   "id": "5bfc97ea-d332-4665-be23-687e485a7c82",
   "metadata": {},
   "source": [
    "## Исследуем модели"
   ]
  },
  {
   "cell_type": "markdown",
   "id": "3423c904-e35f-4ffa-a825-a5f43337ef13",
   "metadata": {},
   "source": [
    "1) Сначала посмотрим как сработает случайный лес"
   ]
  },
  {
   "cell_type": "code",
   "execution_count": 5,
   "id": "0c0d72e6-6e0e-4ae3-a76a-c7ce42f20e71",
   "metadata": {},
   "outputs": [
    {
     "name": "stdout",
     "output_type": "stream",
     "text": [
      "Accuracy наилучшей модели на валидационной выборке случайного леса: 0.7853810264385692\n"
     ]
    }
   ],
   "source": [
    "best_model = None\n",
    "best_result = 0\n",
    "for est in range(1, 11):\n",
    "    model = RandomForestClassifier(random_state=12345, n_estimators=est) \n",
    "    model.fit(features_train,target_train) # обучим модель на тренировочной выборке\n",
    "    result = model.score(features_valid,target_valid) # посчитаем качество модели на валидационной выборке\n",
    "    if result > best_result:\n",
    "        best_model = model # сохраним наилучшую модель\n",
    "        best_result = result #  сохраним наилучшее значение метрики accuracy на валидационных данных\n",
    "print(\"Accuracy наилучшей модели на валидационной выборке случайного леса:\", best_result)"
   ]
  },
  {
   "cell_type": "markdown",
   "id": "36d0810d-f85b-42f3-af9a-7778b7eb745e",
   "metadata": {},
   "source": [
    "Получили Accuracy на 0.79, так что мы сразу подобрали устраивающий нас вариант. Но попробуем что нибудь еще."
   ]
  },
  {
   "cell_type": "markdown",
   "id": "e2bda692-5ac7-4639-ab8c-4e28a3347000",
   "metadata": {},
   "source": [
    "2) Попробуем логистическую регрессию"
   ]
  },
  {
   "cell_type": "code",
   "execution_count": 6,
   "id": "095f92d3-830a-475d-b684-b1e40bc77bbc",
   "metadata": {},
   "outputs": [
    {
     "name": "stdout",
     "output_type": "stream",
     "text": [
      "Accuracy логистической регрессии на валидационной выборке: 0.7107309486780715\n"
     ]
    }
   ],
   "source": [
    "model = LogisticRegression(random_state=12345, solver='lbfgs', max_iter=1000)\n",
    "model.fit(features_train, target_train) \n",
    "result = model.score(features_valid, target_valid) \n",
    "\n",
    "print(\"Accuracy логистической регрессии на валидационной выборке:\", result)"
   ]
  },
  {
   "cell_type": "markdown",
   "id": "99c96597-244a-4e07-886f-9b3cb9282459",
   "metadata": {},
   "source": [
    "Результат Accuracy 0.71 хуже предыдущего"
   ]
  },
  {
   "cell_type": "markdown",
   "id": "61bb7efb-8354-4c30-a728-2137bfb4f4e4",
   "metadata": {},
   "source": [
    "3) Попробуем дерево решений , выведем на экран разные значения Accuracy для гиперпараметра max_depth. "
   ]
  },
  {
   "cell_type": "code",
   "execution_count": 7,
   "id": "a4533918-7b26-48a9-9941-cfddd79e8d65",
   "metadata": {},
   "outputs": [
    {
     "name": "stdout",
     "output_type": "stream",
     "text": [
      "Глубина уровня цикла = 1 : 0.7542768273716952\n",
      "Глубина уровня цикла = 2 : 0.7822706065318819\n",
      "Глубина уровня цикла = 3 : 0.7853810264385692\n",
      "Глубина уровня цикла = 4 : 0.7791601866251944\n",
      "Глубина уровня цикла = 5 : 0.7791601866251944\n"
     ]
    }
   ],
   "source": [
    "for depth in range(1,6):\n",
    "    model = DecisionTreeClassifier(random_state=12345, max_depth=depth)\n",
    "    model.fit(features_train,target_train)\n",
    "    predictions_valid = model.predict(features_valid)\n",
    "    \n",
    "    print(\"Глубина уровня цикла =\", depth, \": \", end='')\n",
    "    print(accuracy_score(target_valid, predictions_valid))"
   ]
  },
  {
   "cell_type": "markdown",
   "id": "409f7c9a-8a1b-4042-aadb-4fb0b04d1022",
   "metadata": {},
   "source": [
    "Результат Accuracy хуже предыдущего нас так же устраивают, отметим что третий уровень совпадает со случайным лесом\n",
    "\n",
    "Промежуточный вывод: лучше всего себя показала модель номер 1 случайный лес с результатом точности 0.7853810264385692 для валидационной выбор"
   ]
  },
  {
   "cell_type": "markdown",
   "id": "74e2a527-21b0-4d23-9e21-5a2f5cc230ba",
   "metadata": {},
   "source": [
    "## Проверим модель на тестовой выборке"
   ]
  },
  {
   "cell_type": "code",
   "execution_count": 8,
   "id": "dd320b47-d163-43ed-93f5-10e32398dde2",
   "metadata": {},
   "outputs": [
    {
     "name": "stdout",
     "output_type": "stream",
     "text": [
      "Accuracy наилучшей модели на тестовой выборке случайного леса: 0.7869362363919129\n"
     ]
    }
   ],
   "source": [
    "best_model = None\n",
    "best_result = 0\n",
    "for est in range(1, 11):\n",
    "    model = RandomForestClassifier(random_state=12345, n_estimators=est) \n",
    "    model.fit(features_train,target_train) \n",
    "    result = model.score(features_test,target_test) \n",
    "    if result > best_result:\n",
    "        best_model = model \n",
    "        best_result = result \n",
    "print(\"Accuracy наилучшей модели на тестовой выборке случайного леса:\", best_result)"
   ]
  },
  {
   "cell_type": "markdown",
   "id": "6592499d-8ae5-428a-a8ca-85be21aaafc7",
   "metadata": {},
   "source": [
    "Результат даже чуть лучше чем на выборке валидации"
   ]
  },
  {
   "cell_type": "markdown",
   "id": "26fc3934-2350-4bcc-9534-3c162cd8c326",
   "metadata": {},
   "source": [
    "## Проверим модели на адекватность"
   ]
  },
  {
   "cell_type": "code",
   "execution_count": 9,
   "id": "09af56d0-5404-4678-be42-9391f53e7fd9",
   "metadata": {},
   "outputs": [
    {
     "data": {
      "text/plain": [
       "0.6924273858921162"
      ]
     },
     "execution_count": 9,
     "metadata": {},
     "output_type": "execute_result"
    }
   ],
   "source": [
    "dummy_clf = DummyClassifier(strategy=\"most_frequent\")\n",
    "dummy_clf.fit(features_train, target_train)\n",
    "DummyClassifier(strategy='most_frequent')\n",
    "dummy_clf.predict(features_train)\n",
    "dummy_clf.score(features_train, target_train)"
   ]
  },
  {
   "cell_type": "markdown",
   "id": "a39560c3-9f33-4888-a8d1-f10cfd42711e",
   "metadata": {},
   "source": [
    "Дамми скор показывает значение в 0.69, это означает что мы можем быть довольны нашей моделью так как она показывает 0.79 качество предсказания"
   ]
  },
  {
   "cell_type": "markdown",
   "id": "5cc2472f-6841-49d0-ade0-6ce23d6ebd96",
   "metadata": {},
   "source": [
    "## Итоговый вывод"
   ]
  },
  {
   "cell_type": "markdown",
   "id": "535541c9-59d0-40a9-bf69-6446218269ec",
   "metadata": {},
   "source": [
    "В нашем распоряжении данные о поведении клиентов, которые уже перешли на эти тарифы (из проекта курса «Статистический анализ данных»). Нужно построить модель для задачи классификации, которая выберет подходящий тариф. Предобработка данных не понадобилась — мы её уже сделали.\n",
    "\n",
    "Построим модель с максимально большим значением accuracy. Нужно довести долю правильных ответов по крайней мере до 75%.\n",
    "\n",
    "1) Мы предварительно оценили данные. Ранее с ними уже была проведена работа, поэтому мы знаем что в них нет пропусков и можно приступать к работе.\n",
    "Перед нами стоит задача провести машинное обучение алгоритма с учителем по классификации данных, где присутствует 2 класса тарифа - \"Ультра\" и \"Смарт\"\n",
    "\n",
    "2) Мы разбили данные на выборки, выделили 60% под обучение, 20% для валидации модели и 20% я финального теста работоспособности обученной модели.\n",
    "\n",
    "3) Мы провели исследование, чтобы понять какая модель машинного обучения лучше подойдет для наших целей. Получили следующие результаты:\n",
    " - Случайный лес показал 79% точности\n",
    " - Логистическую регрессия показала 71% точности\n",
    " - Дерево решений с изменением гиперпараметра для поиска лучшего результата так же показало точность в 79%\n",
    "\n",
    "Мы приняли решение остановиться на модели случайного леса. \n",
    "\n",
    "4) Проверили модель случайного леса на тестовой выборке. Получили подтверждение результата точности в 79%. \n",
    "\n",
    "5) Проверили модель на адекватность. Мы выяснили что самый частый вариант классификации из двух составляет 69% от общего числа. Это говорит нам, что наша модель обучения по точности выше чем выбор в \"слепом случае\" и значит она может принести эффективную пользу для бизнеса. \n",
    "\n",
    "Как итог мы получили и проверили модель для перевода клиентов на новые тарифы. "
   ]
  }
 ],
 "metadata": {
  "kernelspec": {
   "display_name": "Python 3 (ipykernel)",
   "language": "python",
   "name": "python3"
  },
  "language_info": {
   "codemirror_mode": {
    "name": "ipython",
    "version": 3
   },
   "file_extension": ".py",
   "mimetype": "text/x-python",
   "name": "python",
   "nbconvert_exporter": "python",
   "pygments_lexer": "ipython3",
   "version": "3.10.9"
  }
 },
 "nbformat": 4,
 "nbformat_minor": 5
}
