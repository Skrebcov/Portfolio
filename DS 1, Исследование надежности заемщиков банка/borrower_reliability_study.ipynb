{
 "cells": [
  {
   "cell_type": "markdown",
   "id": "0a70d350-d437-4f18-9c1d-3b6df25bf810",
   "metadata": {},
   "source": [
    "# Исследование надежности заемщиков\n",
    "\n",
    "Проведем исследование на тему влияния семейного положения, цели кредита, количества детей и дохода на факт погашения кредита в срок. Входные данные - банковские данные клиентов. Результаты исследования могут помочь в построении кредитной политики банка.\n",
    "\n",
    "Проверим следующие гипотизы:\n",
    "\n",
    " 1. Есть зависимость между количеством детей и возвратом кредита в срок.\n",
    " 2. Есть зависимость между семейным положением и возвратом кредита в срок.\n",
    " 3. Есть зависимость между уровнем дохода и возвратом кредита в срок.\n",
    " 4. Разные цели кредита влияют на его возврат в срок.\n",
    "\n",
    "## Откроем таблицу и изучим общую информацию о данных"
   ]
  },
  {
   "cell_type": "code",
   "execution_count": 1,
   "id": "bc0804c2-c519-4a56-92bc-e399d95b08e4",
   "metadata": {},
   "outputs": [],
   "source": [
    "import pandas as pd"
   ]
  },
  {
   "cell_type": "code",
   "execution_count": 2,
   "id": "2e84a353-e726-471c-87f7-5a259e9425d1",
   "metadata": {},
   "outputs": [
    {
     "data": {
      "text/html": [
       "<div>\n",
       "<style scoped>\n",
       "    .dataframe tbody tr th:only-of-type {\n",
       "        vertical-align: middle;\n",
       "    }\n",
       "\n",
       "    .dataframe tbody tr th {\n",
       "        vertical-align: top;\n",
       "    }\n",
       "\n",
       "    .dataframe thead th {\n",
       "        text-align: right;\n",
       "    }\n",
       "</style>\n",
       "<table border=\"1\" class=\"dataframe\">\n",
       "  <thead>\n",
       "    <tr style=\"text-align: right;\">\n",
       "      <th></th>\n",
       "      <th>children</th>\n",
       "      <th>days_employed</th>\n",
       "      <th>dob_years</th>\n",
       "      <th>education</th>\n",
       "      <th>education_id</th>\n",
       "      <th>family_status</th>\n",
       "      <th>family_status_id</th>\n",
       "      <th>gender</th>\n",
       "      <th>income_type</th>\n",
       "      <th>debt</th>\n",
       "      <th>total_income</th>\n",
       "      <th>purpose</th>\n",
       "    </tr>\n",
       "  </thead>\n",
       "  <tbody>\n",
       "    <tr>\n",
       "      <th>0</th>\n",
       "      <td>1</td>\n",
       "      <td>-8437.673028</td>\n",
       "      <td>42</td>\n",
       "      <td>высшее</td>\n",
       "      <td>0</td>\n",
       "      <td>женат / замужем</td>\n",
       "      <td>0</td>\n",
       "      <td>F</td>\n",
       "      <td>сотрудник</td>\n",
       "      <td>0</td>\n",
       "      <td>253875.639453</td>\n",
       "      <td>покупка жилья</td>\n",
       "    </tr>\n",
       "    <tr>\n",
       "      <th>1</th>\n",
       "      <td>1</td>\n",
       "      <td>-4024.803754</td>\n",
       "      <td>36</td>\n",
       "      <td>среднее</td>\n",
       "      <td>1</td>\n",
       "      <td>женат / замужем</td>\n",
       "      <td>0</td>\n",
       "      <td>F</td>\n",
       "      <td>сотрудник</td>\n",
       "      <td>0</td>\n",
       "      <td>112080.014102</td>\n",
       "      <td>приобретение автомобиля</td>\n",
       "    </tr>\n",
       "    <tr>\n",
       "      <th>2</th>\n",
       "      <td>0</td>\n",
       "      <td>-5623.422610</td>\n",
       "      <td>33</td>\n",
       "      <td>Среднее</td>\n",
       "      <td>1</td>\n",
       "      <td>женат / замужем</td>\n",
       "      <td>0</td>\n",
       "      <td>M</td>\n",
       "      <td>сотрудник</td>\n",
       "      <td>0</td>\n",
       "      <td>145885.952297</td>\n",
       "      <td>покупка жилья</td>\n",
       "    </tr>\n",
       "    <tr>\n",
       "      <th>3</th>\n",
       "      <td>3</td>\n",
       "      <td>-4124.747207</td>\n",
       "      <td>32</td>\n",
       "      <td>среднее</td>\n",
       "      <td>1</td>\n",
       "      <td>женат / замужем</td>\n",
       "      <td>0</td>\n",
       "      <td>M</td>\n",
       "      <td>сотрудник</td>\n",
       "      <td>0</td>\n",
       "      <td>267628.550329</td>\n",
       "      <td>дополнительное образование</td>\n",
       "    </tr>\n",
       "    <tr>\n",
       "      <th>4</th>\n",
       "      <td>0</td>\n",
       "      <td>340266.072047</td>\n",
       "      <td>53</td>\n",
       "      <td>среднее</td>\n",
       "      <td>1</td>\n",
       "      <td>гражданский брак</td>\n",
       "      <td>1</td>\n",
       "      <td>F</td>\n",
       "      <td>пенсионер</td>\n",
       "      <td>0</td>\n",
       "      <td>158616.077870</td>\n",
       "      <td>сыграть свадьбу</td>\n",
       "    </tr>\n",
       "  </tbody>\n",
       "</table>\n",
       "</div>"
      ],
      "text/plain": [
       "   children  days_employed  dob_years education  education_id  \\\n",
       "0         1   -8437.673028         42    высшее             0   \n",
       "1         1   -4024.803754         36   среднее             1   \n",
       "2         0   -5623.422610         33   Среднее             1   \n",
       "3         3   -4124.747207         32   среднее             1   \n",
       "4         0  340266.072047         53   среднее             1   \n",
       "\n",
       "      family_status  family_status_id gender income_type  debt   total_income  \\\n",
       "0   женат / замужем                 0      F   сотрудник     0  253875.639453   \n",
       "1   женат / замужем                 0      F   сотрудник     0  112080.014102   \n",
       "2   женат / замужем                 0      M   сотрудник     0  145885.952297   \n",
       "3   женат / замужем                 0      M   сотрудник     0  267628.550329   \n",
       "4  гражданский брак                 1      F   пенсионер     0  158616.077870   \n",
       "\n",
       "                      purpose  \n",
       "0               покупка жилья  \n",
       "1     приобретение автомобиля  \n",
       "2               покупка жилья  \n",
       "3  дополнительное образование  \n",
       "4             сыграть свадьбу  "
      ]
     },
     "execution_count": 2,
     "metadata": {},
     "output_type": "execute_result"
    }
   ],
   "source": [
    "data = pd.read_csv('data.csv')\n",
    "data.head(5)"
   ]
  },
  {
   "cell_type": "code",
   "execution_count": 3,
   "id": "ae4b4fb6-3e72-4b7c-a455-36cb02fd60ba",
   "metadata": {},
   "outputs": [
    {
     "name": "stdout",
     "output_type": "stream",
     "text": [
      "<class 'pandas.core.frame.DataFrame'>\n",
      "RangeIndex: 21525 entries, 0 to 21524\n",
      "Data columns (total 12 columns):\n",
      " #   Column            Non-Null Count  Dtype  \n",
      "---  ------            --------------  -----  \n",
      " 0   children          21525 non-null  int64  \n",
      " 1   days_employed     19351 non-null  float64\n",
      " 2   dob_years         21525 non-null  int64  \n",
      " 3   education         21525 non-null  object \n",
      " 4   education_id      21525 non-null  int64  \n",
      " 5   family_status     21525 non-null  object \n",
      " 6   family_status_id  21525 non-null  int64  \n",
      " 7   gender            21525 non-null  object \n",
      " 8   income_type       21525 non-null  object \n",
      " 9   debt              21525 non-null  int64  \n",
      " 10  total_income      19351 non-null  float64\n",
      " 11  purpose           21525 non-null  object \n",
      "dtypes: float64(2), int64(5), object(5)\n",
      "memory usage: 2.0+ MB\n"
     ]
    }
   ],
   "source": [
    "data.info()"
   ]
  },
  {
   "cell_type": "markdown",
   "id": "4843717c-422f-4b43-9cd9-f38f344dcf03",
   "metadata": {},
   "source": [
    "## Предобработка данных\n",
    "\n",
    "### Удаление пропусков"
   ]
  },
  {
   "cell_type": "code",
   "execution_count": 4,
   "id": "edd548dd-942c-479e-9cc7-35e41c881b86",
   "metadata": {},
   "outputs": [
    {
     "data": {
      "text/plain": [
       "children               0\n",
       "days_employed       2174\n",
       "dob_years              0\n",
       "education              0\n",
       "education_id           0\n",
       "family_status          0\n",
       "family_status_id       0\n",
       "gender                 0\n",
       "income_type            0\n",
       "debt                   0\n",
       "total_income        2174\n",
       "purpose                0\n",
       "dtype: int64"
      ]
     },
     "execution_count": 4,
     "metadata": {},
     "output_type": "execute_result"
    }
   ],
   "source": [
    "data.isna().sum()"
   ]
  },
  {
   "cell_type": "markdown",
   "id": "dc0180aa-2999-43be-8613-2a65c92b873a",
   "metadata": {},
   "source": [
    "В двух столбцах есть пропущенные значения. Один из них — days_employed. Пропуски в этом столбце обработаем на следующем этапе. Другой столбец с пропущенными значениями — total_income — хранит данные о доходах. На сумму дохода сильнее всего влияет тип занятости, поэтому заполнить пропуски в этом столбце нужно медианным значением по каждому типу из столбца income_type."
   ]
  },
  {
   "cell_type": "code",
   "execution_count": 5,
   "id": "35c14919-c374-41d7-a73d-46b54f9c4856",
   "metadata": {},
   "outputs": [],
   "source": [
    "for t in data['income_type'].unique():\n",
    "    data.loc[(data['income_type'] == t) & (data['total_income'].isna()), 'total_income'] = \\\n",
    "    data.loc[(data['income_type'] == t), 'total_income'].median()"
   ]
  },
  {
   "cell_type": "markdown",
   "id": "1038ec59-3273-474c-8a0e-951eb8745b3f",
   "metadata": {},
   "source": [
    "### Обработка аномальных значений"
   ]
  },
  {
   "cell_type": "code",
   "execution_count": 6,
   "id": "2672b390-0525-4d37-80d0-4bc13ea70de5",
   "metadata": {},
   "outputs": [],
   "source": [
    "data['days_employed'] = data['days_employed'].abs() # заменим все отрицательные значения положительными"
   ]
  },
  {
   "cell_type": "code",
   "execution_count": 7,
   "id": "3dc73649-784f-4244-a9a2-cf30f06ccf4f",
   "metadata": {},
   "outputs": [
    {
     "data": {
      "text/plain": [
       "income_type\n",
       "безработный        366413.652744\n",
       "в декрете            3296.759962\n",
       "госслужащий          2689.368353\n",
       "компаньон            1547.382223\n",
       "пенсионер          365213.306266\n",
       "предприниматель       520.848083\n",
       "сотрудник            1574.202821\n",
       "студент               578.751554\n",
       "Name: days_employed, dtype: float64"
      ]
     },
     "execution_count": 7,
     "metadata": {},
     "output_type": "execute_result"
    }
   ],
   "source": [
    "data.groupby('income_type')['days_employed'].agg('median') # для каждого типа занятости выведием медианное значение трудового стажа"
   ]
  },
  {
   "cell_type": "code",
   "execution_count": 8,
   "id": "bf962c12-2394-4fd5-a7af-055e3d061cb3",
   "metadata": {},
   "outputs": [
    {
     "data": {
      "text/plain": [
       "array([ 1,  0,  3,  2, -1,  4, 20,  5], dtype=int64)"
      ]
     },
     "execution_count": 8,
     "metadata": {},
     "output_type": "execute_result"
    }
   ],
   "source": [
    "data['children'].unique()"
   ]
  },
  {
   "cell_type": "code",
   "execution_count": 9,
   "id": "aa37f519-eeb2-482e-9a78-f337653757b4",
   "metadata": {},
   "outputs": [],
   "source": [
    "data = data[(data['children'] != -1) & (data['children'] != 20)] # удалим аномальные значения"
   ]
  },
  {
   "cell_type": "code",
   "execution_count": 10,
   "id": "a463c0ab-0eb8-4953-9b1e-9e28fa9b19d5",
   "metadata": {},
   "outputs": [],
   "source": [
    "for t in data['income_type'].unique():\n",
    "    data.loc[(data['income_type'] == t) & (data['days_employed'].isna()), 'days_employed'] = \\\n",
    "    data.loc[(data['income_type'] == t), 'days_employed'].median()"
   ]
  },
  {
   "cell_type": "code",
   "execution_count": 11,
   "id": "861c75c8-55f3-49d6-8766-7483ac95ddf6",
   "metadata": {},
   "outputs": [
    {
     "data": {
      "text/plain": [
       "children            0\n",
       "days_employed       0\n",
       "dob_years           0\n",
       "education           0\n",
       "education_id        0\n",
       "family_status       0\n",
       "family_status_id    0\n",
       "gender              0\n",
       "income_type         0\n",
       "debt                0\n",
       "total_income        0\n",
       "purpose             0\n",
       "dtype: int64"
      ]
     },
     "execution_count": 11,
     "metadata": {},
     "output_type": "execute_result"
    }
   ],
   "source": [
    "data.isna().sum() # все пропуски заполнены"
   ]
  },
  {
   "cell_type": "markdown",
   "id": "04938049-46a3-4eb7-abdf-2f7256edec0a",
   "metadata": {},
   "source": [
    "### Изменение типов данных"
   ]
  },
  {
   "cell_type": "code",
   "execution_count": 12,
   "id": "29f57479-32e6-4816-8996-7456f027a4fa",
   "metadata": {},
   "outputs": [],
   "source": [
    "data['total_income'] = data['total_income'].astype(int)"
   ]
  },
  {
   "cell_type": "markdown",
   "id": "9c319954-5f10-4dbb-b306-e334700ff106",
   "metadata": {},
   "source": [
    "### Обработка дубликатов"
   ]
  },
  {
   "cell_type": "code",
   "execution_count": 13,
   "id": "c6ccbabe-d522-487f-b5c6-95b7518565aa",
   "metadata": {},
   "outputs": [],
   "source": [
    "data['education'] = data['education'].str.lower()"
   ]
  },
  {
   "cell_type": "code",
   "execution_count": 14,
   "id": "0c303e38-9382-4486-870a-9481670af0cc",
   "metadata": {},
   "outputs": [
    {
     "data": {
      "text/plain": [
       "71"
      ]
     },
     "execution_count": 14,
     "metadata": {},
     "output_type": "execute_result"
    }
   ],
   "source": [
    "data.duplicated().sum()"
   ]
  },
  {
   "cell_type": "code",
   "execution_count": 15,
   "id": "6db69d5e-e301-43c0-8804-3c6c3e380682",
   "metadata": {},
   "outputs": [],
   "source": [
    "data = data.drop_duplicates()"
   ]
  },
  {
   "cell_type": "markdown",
   "id": "6ecd0ee0-c9cb-46c7-a42d-455c9e129ca2",
   "metadata": {},
   "source": [
    "### Категоризация данных\n",
    "\n",
    "На основании диапазонов, указанных ниже, создадим в датафрейме `data` столбец `total_income_category` с категориями:\n",
    "\n",
    "- 0–30000 — `'E'`;\n",
    "- 30001–50000 — `'D'`;\n",
    "- 50001–200000 — `'C'`;\n",
    "- 200001–1000000 — `'B'`;\n",
    "- 1000001 и выше — `'A'`."
   ]
  },
  {
   "cell_type": "code",
   "execution_count": 16,
   "id": "f4914208-7a24-4178-86a7-122067edbe95",
   "metadata": {},
   "outputs": [],
   "source": [
    "def categorize_income(income):\n",
    "    try:\n",
    "        if 0 <= income <= 30000:\n",
    "            return 'E'\n",
    "        elif 30001 <= income <= 50000:\n",
    "            return 'D'\n",
    "        elif 50001 <= income <= 200000:\n",
    "            return 'C'\n",
    "        elif 200001 <= income <= 1000000:\n",
    "            return 'B'\n",
    "        elif income >= 1000001:\n",
    "            return 'A'\n",
    "    except:\n",
    "        pass"
   ]
  },
  {
   "cell_type": "code",
   "execution_count": 17,
   "id": "15e63b36-9901-4de0-b8ca-c59f09d24732",
   "metadata": {},
   "outputs": [],
   "source": [
    "data['total_income_category'] = data['total_income'].apply(categorize_income)"
   ]
  },
  {
   "cell_type": "code",
   "execution_count": 18,
   "id": "ffd681a0-b4f8-44ce-8705-e8a7a791ec7a",
   "metadata": {},
   "outputs": [
    {
     "data": {
      "text/plain": [
       "array(['покупка жилья', 'приобретение автомобиля',\n",
       "       'дополнительное образование', 'сыграть свадьбу',\n",
       "       'операции с жильем', 'образование', 'на проведение свадьбы',\n",
       "       'покупка жилья для семьи', 'покупка недвижимости',\n",
       "       'покупка коммерческой недвижимости', 'покупка жилой недвижимости',\n",
       "       'строительство собственной недвижимости', 'недвижимость',\n",
       "       'строительство недвижимости', 'на покупку подержанного автомобиля',\n",
       "       'на покупку своего автомобиля',\n",
       "       'операции с коммерческой недвижимостью',\n",
       "       'строительство жилой недвижимости', 'жилье',\n",
       "       'операции со своей недвижимостью', 'автомобили',\n",
       "       'заняться образованием', 'сделка с подержанным автомобилем',\n",
       "       'получение образования', 'автомобиль', 'свадьба',\n",
       "       'получение дополнительного образования', 'покупка своего жилья',\n",
       "       'операции с недвижимостью', 'получение высшего образования',\n",
       "       'свой автомобиль', 'сделка с автомобилем',\n",
       "       'профильное образование', 'высшее образование',\n",
       "       'покупка жилья для сдачи', 'на покупку автомобиля', 'ремонт жилью',\n",
       "       'заняться высшим образованием'], dtype=object)"
      ]
     },
     "execution_count": 18,
     "metadata": {},
     "output_type": "execute_result"
    }
   ],
   "source": [
    "data['purpose'].unique()"
   ]
  },
  {
   "cell_type": "markdown",
   "id": "47238059-3089-4fb3-a404-a183d6790318",
   "metadata": {},
   "source": [
    "Создайте функцию, которая на основании данных из столбца `purpose` сформирует новый столбец `purpose_category`, в который войдут следующие категории:\n",
    "\n",
    "- `'операции с автомобилем'`,\n",
    "- `'операции с недвижимостью'`,\n",
    "- `'проведение свадьбы'`,\n",
    "- `'получение образования'`."
   ]
  },
  {
   "cell_type": "code",
   "execution_count": 19,
   "id": "dd65b75b-df0d-41be-ae21-dbfa2db71892",
   "metadata": {},
   "outputs": [],
   "source": [
    "def categorize_purpose(row):\n",
    "    try:\n",
    "        if 'автом' in row:\n",
    "            return 'операции с автомобилем'\n",
    "        elif 'жил' in row or 'недвиж' in row:\n",
    "            return 'операции с недвижимостью'\n",
    "        elif 'свад' in row:\n",
    "            return 'проведение свадьбы'\n",
    "        elif 'образов' in row:\n",
    "            return 'получение образования'\n",
    "    except:\n",
    "        return 'нет категории'"
   ]
  },
  {
   "cell_type": "code",
   "execution_count": 20,
   "id": "e4b33503-f422-4897-890a-7c98ca16b480",
   "metadata": {},
   "outputs": [],
   "source": [
    "data['purpose_category'] = data['purpose'].apply(categorize_purpose)"
   ]
  },
  {
   "cell_type": "markdown",
   "id": "74a944e1-fae7-4ab1-bb4f-f596928bfad1",
   "metadata": {},
   "source": [
    "### Исследуем данные и ответим на вопросы"
   ]
  },
  {
   "cell_type": "markdown",
   "id": "08c1d117-88f3-4f9a-ab29-08059b12f71b",
   "metadata": {},
   "source": [
    "#### 1) Есть ли зависимость между количеством детей и возвратом кредита в срок?"
   ]
  },
  {
   "cell_type": "code",
   "execution_count": 21,
   "id": "6b2dff10-c14f-4bde-a0b0-865b079a6bdc",
   "metadata": {},
   "outputs": [
    {
     "data": {
      "text/plain": [
       "children\n",
       "0    1063\n",
       "1     444\n",
       "2     194\n",
       "3      27\n",
       "4       4\n",
       "5       0\n",
       "Name: debt, dtype: int64"
      ]
     },
     "execution_count": 21,
     "metadata": {},
     "output_type": "execute_result"
    }
   ],
   "source": [
    "data.groupby('children')['debt'].sum() #общее количество задолжавших"
   ]
  },
  {
   "cell_type": "code",
   "execution_count": 22,
   "id": "e689dc83-87a8-4be5-b043-443e217b559f",
   "metadata": {},
   "outputs": [
    {
     "data": {
      "text/plain": [
       "children\n",
       "0    14091\n",
       "1     4808\n",
       "2     2052\n",
       "3      330\n",
       "4       41\n",
       "5        9\n",
       "Name: debt, dtype: int64"
      ]
     },
     "execution_count": 22,
     "metadata": {},
     "output_type": "execute_result"
    }
   ],
   "source": [
    "data.groupby('children')['debt'].count() #общее количество взявших кредит"
   ]
  },
  {
   "cell_type": "code",
   "execution_count": 23,
   "id": "e88b4868-3317-46d7-ae89-77e4cb5f7cb3",
   "metadata": {},
   "outputs": [
    {
     "data": {
      "text/plain": [
       "children\n",
       "0    0.075438\n",
       "1    0.092346\n",
       "2    0.094542\n",
       "3    0.081818\n",
       "4    0.097561\n",
       "5    0.000000\n",
       "Name: debt, dtype: float64"
      ]
     },
     "execution_count": 23,
     "metadata": {},
     "output_type": "execute_result"
    }
   ],
   "source": [
    "data.groupby('children')['debt'].sum() / data.groupby('children')['debt'].count() #отношение выражений показывает долю задолжавших из всех в своей категории по количеству детей"
   ]
  },
  {
   "cell_type": "markdown",
   "id": "7c1ee3dd-2ab2-4da4-a19c-f056c2ca8ab3",
   "metadata": {},
   "source": [
    "**Вывод:** Кредиторы без детей имеют выше шанс отдать кредит по статистике. Кредиторы с 5 детьми тоже хорошо отдают, но выборка слишком мала для вывода на их счет "
   ]
  },
  {
   "cell_type": "markdown",
   "id": "b52b2643-f215-4813-b521-62f9ee7ed3b3",
   "metadata": {},
   "source": [
    "#### 2) Есть ли зависимость между семейным положением и возвратом кредита в срок?"
   ]
  },
  {
   "cell_type": "code",
   "execution_count": 24,
   "id": "7b8047c1-cfcc-4044-9725-def32ccc45bb",
   "metadata": {},
   "outputs": [
    {
     "data": {
      "text/plain": [
       "family_status\n",
       "Не женат / не замужем    273\n",
       "в разводе                 84\n",
       "вдовец / вдова            63\n",
       "гражданский брак         385\n",
       "женат / замужем          927\n",
       "Name: debt, dtype: int64"
      ]
     },
     "execution_count": 24,
     "metadata": {},
     "output_type": "execute_result"
    }
   ],
   "source": [
    "data.groupby('family_status')['debt'].sum() #группировка по семейному статусу и суммирование задолжавших среди них"
   ]
  },
  {
   "cell_type": "code",
   "execution_count": 25,
   "id": "9430a344-6640-4a81-a943-2dfa336fcc02",
   "metadata": {},
   "outputs": [
    {
     "data": {
      "text/plain": [
       "family_status\n",
       "Не женат / не замужем     2796\n",
       "в разводе                 1189\n",
       "вдовец / вдова             951\n",
       "гражданский брак          4134\n",
       "женат / замужем          12261\n",
       "Name: debt, dtype: int64"
      ]
     },
     "execution_count": 25,
     "metadata": {},
     "output_type": "execute_result"
    }
   ],
   "source": [
    "data.groupby('family_status')['debt'].count() #группировка по семейному статусу и подсчет общего количества клиентов"
   ]
  },
  {
   "cell_type": "code",
   "execution_count": 26,
   "id": "32e67c6a-68de-4b0b-ba60-222481b298c8",
   "metadata": {},
   "outputs": [
    {
     "data": {
      "text/plain": [
       "family_status\n",
       "Не женат / не замужем    0.097639\n",
       "в разводе                0.070648\n",
       "вдовец / вдова           0.066246\n",
       "гражданский брак         0.093130\n",
       "женат / замужем          0.075606\n",
       "Name: debt, dtype: float64"
      ]
     },
     "execution_count": 26,
     "metadata": {},
     "output_type": "execute_result"
    }
   ],
   "source": [
    "data.groupby('family_status')['debt'].sum() / data.groupby('family_status')['debt'].count() #отношение как доля задолжавших среди всех"
   ]
  },
  {
   "cell_type": "markdown",
   "id": "92b69c65-d96c-420f-93df-6327f56bbdb4",
   "metadata": {},
   "source": [
    "**Вывод:** \n",
    "Не женатые и в гражданском браке имеют схожие показатели в 9.5% не рассчитвающихся в срок, на их фоне женатые(7.5%) и в разводе(7%) выглядят как более предпочтительные клиенты. \n",
    "Вдовы(цы) имеют самые лучшие показати по возврату средств. Среди них 6.6%  не рассчитались в срок."
   ]
  },
  {
   "cell_type": "markdown",
   "id": "05caaf6a-f837-40cb-9cb4-aacc99f73439",
   "metadata": {},
   "source": [
    "#### 3) Есть ли зависимость между уровнем дохода и возвратом кредита в срок?"
   ]
  },
  {
   "cell_type": "code",
   "execution_count": 27,
   "id": "44183e7a-68c1-42ff-bd6e-4e4c3dd0db4a",
   "metadata": {},
   "outputs": [
    {
     "data": {
      "text/plain": [
       "total_income_category\n",
       "A       2\n",
       "B     354\n",
       "C    1353\n",
       "D      21\n",
       "E       2\n",
       "Name: debt, dtype: int64"
      ]
     },
     "execution_count": 27,
     "metadata": {},
     "output_type": "execute_result"
    }
   ],
   "source": [
    "data.groupby('total_income_category')['debt'].sum() #группировка по категориям доходов и суммирование задолжавших среди них"
   ]
  },
  {
   "cell_type": "code",
   "execution_count": 28,
   "id": "f4af77f2-675a-4852-b012-a406da7c0cbc",
   "metadata": {},
   "outputs": [
    {
     "data": {
      "text/plain": [
       "total_income_category\n",
       "A       25\n",
       "B     5014\n",
       "C    15921\n",
       "D      349\n",
       "E       22\n",
       "Name: debt, dtype: int64"
      ]
     },
     "execution_count": 28,
     "metadata": {},
     "output_type": "execute_result"
    }
   ],
   "source": [
    "data.groupby('total_income_category')['debt'].count() #группировка по категориям доходов и подсчет общего количества клиентов"
   ]
  },
  {
   "cell_type": "code",
   "execution_count": 29,
   "id": "decccce8-d7b3-415e-878a-7919cb4398df",
   "metadata": {},
   "outputs": [
    {
     "data": {
      "text/plain": [
       "total_income_category\n",
       "A    0.080000\n",
       "B    0.070602\n",
       "C    0.084982\n",
       "D    0.060172\n",
       "E    0.090909\n",
       "Name: debt, dtype: float64"
      ]
     },
     "execution_count": 29,
     "metadata": {},
     "output_type": "execute_result"
    }
   ],
   "source": [
    "data.groupby('total_income_category')['debt'].sum() / data.groupby('total_income_category')['debt'].count() #отношение как доля катенгорий клиентов, которые допускают задолженности"
   ]
  },
  {
   "cell_type": "markdown",
   "id": "4ef8659d-0140-4a78-8321-c71f37665127",
   "metadata": {},
   "source": [
    "**Вывод:** Категории А и Е имеют слишком малую выборку, чтобы делать выводы о них. Категория D показывает себя как самый надежный клиент с 6% не рассчитавшимися в срок. Категория В на 1% рассчитывается хуже по сравнению с D, а категория С по отношению D на 2.5% хуже рассчитывается с задолженностью."
   ]
  },
  {
   "cell_type": "markdown",
   "id": "6d386c8f-351f-4b89-b2e3-aae7e3ca1876",
   "metadata": {},
   "source": [
    "#### 4) Как разные цели кредита влияют на его возврат в срок?"
   ]
  },
  {
   "cell_type": "code",
   "execution_count": 30,
   "id": "8d201f70-b219-4a45-97ad-0c048cc1c827",
   "metadata": {},
   "outputs": [
    {
     "data": {
      "text/plain": [
       "purpose_category\n",
       "операции с автомобилем      400\n",
       "операции с недвижимостью    780\n",
       "получение образования       369\n",
       "проведение свадьбы          183\n",
       "Name: debt, dtype: int64"
      ]
     },
     "execution_count": 30,
     "metadata": {},
     "output_type": "execute_result"
    }
   ],
   "source": [
    "data.groupby('purpose_category')['debt'].sum() #группировка по категориям целей и суммирование задолжавших среди них"
   ]
  },
  {
   "cell_type": "code",
   "execution_count": 31,
   "id": "5171963c-de63-4aa1-8f96-53dfd36a0865",
   "metadata": {},
   "outputs": [
    {
     "data": {
      "text/plain": [
       "purpose_category\n",
       "операции с автомобилем       4279\n",
       "операции с недвижимостью    10751\n",
       "получение образования        3988\n",
       "проведение свадьбы           2313\n",
       "Name: debt, dtype: int64"
      ]
     },
     "execution_count": 31,
     "metadata": {},
     "output_type": "execute_result"
    }
   ],
   "source": [
    "data.groupby('purpose_category')['debt'].count() #группировка по категориям целей и подсчет общего количества клиентов"
   ]
  },
  {
   "cell_type": "code",
   "execution_count": 32,
   "id": "6fb70421-7c2d-4480-b18a-4ae74f250a5c",
   "metadata": {},
   "outputs": [
    {
     "data": {
      "text/plain": [
       "purpose_category\n",
       "операции с автомобилем      0.093480\n",
       "операции с недвижимостью    0.072551\n",
       "получение образования       0.092528\n",
       "проведение свадьбы          0.079118\n",
       "Name: debt, dtype: float64"
      ]
     },
     "execution_count": 32,
     "metadata": {},
     "output_type": "execute_result"
    }
   ],
   "source": [
    "data.groupby('purpose_category')['debt'].sum() / data.groupby('purpose_category')['debt'].count() #отношение как доля клиентов, которые допускают задолженности"
   ]
  },
  {
   "cell_type": "markdown",
   "id": "aef9a1a2-367d-4448-95ea-75c8124482a6",
   "metadata": {},
   "source": [
    "**Вывод:** Клиенты, цели которых связаны с автомобилем или образованием хуже всего рассчитываются по кредиту. 9.3% среди них не рассчитываются в срок. \n",
    "По цели недвижимость клиенты самые надежные с 7.3% задолжавших клиентов\n",
    "По цели свадьба 8% не рассчитываются в срок."
   ]
  },
  {
   "cell_type": "markdown",
   "id": "d42278b8-d389-4ac5-b1af-eaabca1ef39e",
   "metadata": {},
   "source": [
    "#### 5) Bозможные причины появления пропусков в исходных данных."
   ]
  },
  {
   "cell_type": "markdown",
   "id": "b8dad6f9-68ea-44ec-8ee5-f5f132c0a1e7",
   "metadata": {},
   "source": [
    "Пропуски в столбцах: days_employed - 2174, total_income - 2174, - говорят о том, что, вероятнее всего, это ошибка выгрузки, так как человек врядли мог допустить одинаковое количество ошибок в параллельных столбах в таких количествах.  "
   ]
  },
  {
   "cell_type": "markdown",
   "id": "9bc680c5-b366-46b8-8d25-41dc2938f82f",
   "metadata": {},
   "source": [
    "### Общий вывод"
   ]
  },
  {
   "cell_type": "markdown",
   "id": "31973fed-9d44-4a74-b71b-5bc7f6a9cadf",
   "metadata": {},
   "source": [
    "Было проведено исследование на тему влияния семейного положения, цели кредита, количества детей и дохода на факт погашения кредита в срок. Входные данные - банковские данные клиентов. Результаты исследования могут помочь в построении кредитной политики банка.\n",
    "\n",
    "Для исследования были сформированы следующие гипотизы:\n",
    "\n",
    " 1. Есть зависимость между количеством детей и возвратом кредита в срок.\n",
    " 2. Есть зависимость между семейным положением и возвратом кредита в срок.\n",
    " 3. Есть зависимость между уровнем дохода и возвратом кредита в срок.\n",
    " 4. Разные цели кредита влияют на его возврат в срок.\n",
    "\n",
    "### Гопотеза 1 частично подтверждена:\n",
    "*для более точных выводов нужна больше выборка по клиентам с 3, 4 и 5 детьми.\n",
    "\n",
    " 1. Среди клиентов без детей доля имеющих просрочку погашения составляет 7.5%;\n",
    " 2. Среди клиентов с 1 ребенком доля имеющих просрочку погашения составляет 9.2%;\n",
    " 3. Среди клиентов с 2 детьми доля имеющих просрочку погашения составляет 9.5%.\n",
    " \n",
    "### Гипотеза 2 подтверждена: \n",
    "\n",
    " 1. Среди клиентов *в разводе* доля имеющих просрочку погашения составляет 7.1%;\n",
    " 2. Среди *вдовцов* доля имеющих просрочку погашения составляет 6.6%;\n",
    " 3. Среди клиентов *в гражданском браке* доля имеющих просрочку погашения составляет 9.3%;\n",
    " 4. Среди клиентов *женатых / замужем* доля имеющих просрочку погашения составляет 7.6%;\n",
    " \n",
    "### Гипотеза 3 частично подтверждена:\n",
    "*для более точных выводов нужна больше выборка по клиентам с уровнем дохода по категориям А(от 1 млн. руб), D(30-50 тыс. руб), E(до 30 тыс. руб.).\n",
    "\n",
    " 1. Среди клиентов с уровнем дохода категории В(200 тыс.- 1 млн. руб) доля имеющих просрочку погашения составляет 7.1%;\n",
    " 2. Среди клиентов с уровнем дохода категории С(50 тыс.- 200 тыс. руб) доля имеющих просрочку погашения составляет 8.5%.\n",
    "\n",
    "### Гипотеза 4 подтверждена: \n",
    "\n",
    " 1. Среди клиентов с целью *операции с автомобилем* доля имеющих просрочку погашения составляет 9.4%;\n",
    " 2. Среди клиентов с целью *операции с недвижимостью* доля имеющих просрочку погашения составляет 7.3%;\n",
    " 3. Среди клиентов с целью *получение образования* доля имеющих просрочку погашения составляет 9.3%;\n",
    " 4. Среди клиентов с целью *проведение свадьбы* доля имеющих просрочку погашения составляет 7.9%;\n",
    "\n",
    "### Общие рекомендации:\n",
    "\n",
    " 1. Я бы обратил внимание на большую утечку данных, в будущем они могут теряться еще больше и это повредит новым исследованиям.\n",
    " 2. Во многих данных разница между собой составляет менее 5%%, такого рода различия можно отнести к статичтической погрешности и не делать разных стратегий для групп клиентов с такого рода различиями в показателях. \n",
    " 3. Гипотезы 2 и 4 подтверждены. Гипотезы 1 и 3 подтверждены частично и требуют больше данных для более глубокого анализа. "
   ]
  }
 ],
 "metadata": {
  "kernelspec": {
   "display_name": "Python 3 (ipykernel)",
   "language": "python",
   "name": "python3"
  },
  "language_info": {
   "codemirror_mode": {
    "name": "ipython",
    "version": 3
   },
   "file_extension": ".py",
   "mimetype": "text/x-python",
   "name": "python",
   "nbconvert_exporter": "python",
   "pygments_lexer": "ipython3",
   "version": "3.10.9"
  }
 },
 "nbformat": 4,
 "nbformat_minor": 5
}
